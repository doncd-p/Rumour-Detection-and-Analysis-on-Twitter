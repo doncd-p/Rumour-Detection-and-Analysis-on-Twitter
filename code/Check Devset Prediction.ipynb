{
 "cells": [
  {
   "cell_type": "code",
   "execution_count": 3,
   "id": "e0a40188",
   "metadata": {
    "ExecuteTime": {
     "end_time": "2022-05-09T17:58:25.567901Z",
     "start_time": "2022-05-09T17:58:19.873027Z"
    }
   },
   "outputs": [],
   "source": [
    "import pandas as pd\n",
    "import json\n",
    "from pprint import pprint\n",
    "from sklearn.metrics import confusion_matrix\n",
    "from sklearn.metrics import precision_recall_fscore_support\n",
    "import matplotlib.pyplot as plt"
   ]
  },
  {
   "cell_type": "code",
   "execution_count": 1,
   "id": "c5796ceb",
   "metadata": {
    "ExecuteTime": {
     "end_time": "2022-05-09T17:58:15.434771Z",
     "start_time": "2022-05-09T17:58:15.427808Z"
    }
   },
   "outputs": [],
   "source": [
    "def read_file(file_name):\n",
    "    '''\n",
    "    This function will read the file containing tweet ids sperating by lines (in groups)\n",
    "    '''\n",
    "    all_ids = pd.read_table(file_name,sep='\\n',header=None)\n",
    "    return all_ids"
   ]
  },
  {
   "cell_type": "code",
   "execution_count": 11,
   "id": "44f0fc23",
   "metadata": {
    "ExecuteTime": {
     "end_time": "2022-05-09T19:24:50.566262Z",
     "start_time": "2022-05-09T19:24:50.314064Z"
    }
   },
   "outputs": [],
   "source": [
    "dev_predictions_file = \"../output/dev_prediction.csv\"\n",
    "dev_predictions = pd.read_csv(dev_predictions_file)\n",
    "dev_predict_label = dev_predictions['Predicted']"
   ]
  },
  {
   "cell_type": "code",
   "execution_count": 12,
   "id": "e84cd299",
   "metadata": {
    "ExecuteTime": {
     "end_time": "2022-05-09T19:24:51.637274Z",
     "start_time": "2022-05-09T19:24:51.541263Z"
    }
   },
   "outputs": [],
   "source": [
    "dev_true_label_file = '../data/valid.dev.label.txt'\n",
    "dev_true_label = read_file(dev_true_label_file)[0].apply(lambda x: 1 if x==\"rumour\" else 0)"
   ]
  },
  {
   "cell_type": "code",
   "execution_count": 13,
   "id": "20bbbaa2",
   "metadata": {
    "ExecuteTime": {
     "end_time": "2022-05-09T19:24:53.038210Z",
     "start_time": "2022-05-09T19:24:53.030223Z"
    }
   },
   "outputs": [],
   "source": [
    "y_true = list(dev_true_label)\n",
    "y_pred = list(dev_predict_label)"
   ]
  },
  {
   "cell_type": "code",
   "execution_count": 16,
   "id": "93b9dfae",
   "metadata": {
    "ExecuteTime": {
     "end_time": "2022-05-09T19:25:05.858158Z",
     "start_time": "2022-05-09T19:25:02.846216Z"
    }
   },
   "outputs": [
    {
     "data": {
      "image/png": "[encoded data removed]",
      "text/plain": [
       "<Figure size 360x360 with 1 Axes>"
      ]
     },
     "metadata": {
      "needs_background": "light"
     },
     "output_type": "display_data"
    }
   ],
   "source": [
    "conf_matrix = confusion_matrix(y_true=y_true, y_pred=y_pred)\n",
    "\n",
    "fig, ax = plt.subplots(figsize=(5, 5))\n",
    "ax.matshow(conf_matrix, cmap=plt.cm.Oranges, alpha=0.5)\n",
    "for i in range(conf_matrix.shape[0]):\n",
    "    for j in range(conf_matrix.shape[1]):\n",
    "        ax.text(x=j, y=i,s=conf_matrix[i, j], va='center', ha='center', size='xx-large')\n",
    "\n",
    "plt.xlabel('Predictions', fontsize=18)\n",
    "plt.ylabel('Actuals', fontsize=18)\n",
    "plt.title('Confusion Matrix', fontsize=18)\n",
    "plt.show()"
   ]
  },
  {
   "cell_type": "code",
   "execution_count": 17,
   "id": "ff0d0908",
   "metadata": {
    "ExecuteTime": {
     "end_time": "2022-05-09T19:25:17.777978Z",
     "start_time": "2022-05-09T19:25:17.719971Z"
    }
   },
   "outputs": [],
   "source": [
    "p, r, f, _ = precision_recall_fscore_support(y_true, y_pred, pos_label=1, average=\"binary\")"
   ]
  },
  {
   "cell_type": "code",
   "execution_count": 18,
   "id": "e3742f5a",
   "metadata": {
    "ExecuteTime": {
     "end_time": "2022-05-09T19:25:18.789937Z",
     "start_time": "2022-05-09T19:25:18.772933Z"
    }
   },
   "outputs": [
    {
     "name": "stdout",
     "output_type": "stream",
     "text": [
      "Performance on the rumour class:\n",
      "Precision = 0.8907563025210085\n",
      "Recall    = 0.9217391304347826\n",
      "F1        = 0.905982905982906\n"
     ]
    }
   ],
   "source": [
    "print(\"Performance on the rumour class:\")\n",
    "print(\"Precision =\", p)\n",
    "print(\"Recall    =\", r)\n",
    "print(\"F1        =\", f)"
   ]
  }
 ],
 "metadata": {
  "kernelspec": {
   "display_name": "Python 3 (ipykernel)",
   "language": "python",
   "name": "python3"
  },
  "language_info": {
   "codemirror_mode": {
    "name": "ipython",
    "version": 3
   },
   "file_extension": ".py",
   "mimetype": "text/x-python",
   "name": "python",
   "nbconvert_exporter": "python",
   "pygments_lexer": "ipython3",
   "version": "3.7.6"
  },
  "toc": {
   "base_numbering": 1,
   "nav_menu": {},
   "number_sections": true,
   "sideBar": true,
   "skip_h1_title": false,
   "title_cell": "Table of Contents",
   "title_sidebar": "Contents",
   "toc_cell": false,
   "toc_position": {},
   "toc_section_display": true,
   "toc_window_display": false
  },
  "varInspector": {
   "cols": {
    "lenName": 16,
    "lenType": 16,
    "lenVar": 40
   },
   "kernels_config": {
    "python": {
     "delete_cmd_postfix": "",
     "delete_cmd_prefix": "del ",
     "library": "var_list.py",
     "varRefreshCmd": "print(var_dic_list())"
    },
    "r": {
     "delete_cmd_postfix": ") ",
     "delete_cmd_prefix": "rm(",
     "library": "var_list.r",
     "varRefreshCmd": "cat(var_dic_list()) "
    }
   },
   "types_to_exclude": [
    "module",
    "function",
    "builtin_function_or_method",
    "instance",
    "_Feature"
   ],
   "window_display": false
  }
 },
 "nbformat": 4,
 "nbformat_minor": 5
}
