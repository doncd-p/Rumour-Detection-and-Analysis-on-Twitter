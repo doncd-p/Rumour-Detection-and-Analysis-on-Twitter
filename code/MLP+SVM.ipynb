{
 "cells": [
  {
   "cell_type": "code",
   "execution_count": 4,
   "id": "3ec50539-65d0-431f-a619-c877929adde8",
   "metadata": {},
   "outputs": [],
   "source": [
    "import pandas as pd\n",
    "train_data_prepared = pd.read_json(\"../data/train_data_prepared.json\")"
   ]
  },
  {
   "cell_type": "code",
   "execution_count": 5,
   "id": "0b52bd43-30e7-47ba-a737-09bfe4cdb68d",
   "metadata": {},
   "outputs": [],
   "source": [
    "dev_data_prepared = pd.read_json(\"../data/dev_data_prepared.json\")"
   ]
  },
  {
   "cell_type": "code",
   "execution_count": 6,
   "id": "307b08ea-aca2-4512-bbf3-e33faf25b6da",
   "metadata": {},
   "outputs": [],
   "source": [
    "test_data_prepared = pd.read_json(\"../data/test_data_prepared.json\")"
   ]
  },
  {
   "cell_type": "code",
   "execution_count": 7,
   "id": "bdbd687b-1594-4ede-9830-01ec951711ab",
   "metadata": {},
   "outputs": [],
   "source": [
    "train_data_prepared[\"label\"].to_csv(\"../data/train_label.csv\",index = False)"
   ]
  },
  {
   "cell_type": "code",
   "execution_count": 8,
   "id": "70145534-311f-471d-9ac5-e5960cc0ef1d",
   "metadata": {},
   "outputs": [
    {
     "data": {
      "text/html": [
       "<div>\n",
       "<style scoped>\n",
       "    .dataframe tbody tr th:only-of-type {\n",
       "        vertical-align: middle;\n",
       "    }\n",
       "\n",
       "    .dataframe tbody tr th {\n",
       "        vertical-align: top;\n",
       "    }\n",
       "\n",
       "    .dataframe thead th {\n",
       "        text-align: right;\n",
       "    }\n",
       "</style>\n",
       "<table border=\"1\" class=\"dataframe\">\n",
       "  <thead>\n",
       "    <tr style=\"text-align: right;\">\n",
       "      <th></th>\n",
       "      <th>data</th>\n",
       "      <th>label</th>\n",
       "    </tr>\n",
       "  </thead>\n",
       "  <tbody>\n",
       "    <tr>\n",
       "      <th>0</th>\n",
       "      <td>[{'text': '5. Can regularly rinsing your nose ...</td>\n",
       "      <td>0</td>\n",
       "    </tr>\n",
       "    <tr>\n",
       "      <th>1</th>\n",
       "      <td>[{'author_id': '16343974', 'public_metrics': {...</td>\n",
       "      <td>1</td>\n",
       "    </tr>\n",
       "    <tr>\n",
       "      <th>2</th>\n",
       "      <td>[{'text': 'Coronavirus disease (COVID-19) advi...</td>\n",
       "      <td>0</td>\n",
       "    </tr>\n",
       "    <tr>\n",
       "      <th>3</th>\n",
       "      <td>[{'text': 'Ottawa police confirm that there we...</td>\n",
       "      <td>0</td>\n",
       "    </tr>\n",
       "    <tr>\n",
       "      <th>4</th>\n",
       "      <td>[{'possibly_sensitive': False, 'public_metrics...</td>\n",
       "      <td>0</td>\n",
       "    </tr>\n",
       "    <tr>\n",
       "      <th>...</th>\n",
       "      <td>...</td>\n",
       "      <td>...</td>\n",
       "    </tr>\n",
       "    <tr>\n",
       "      <th>1684</th>\n",
       "      <td>[{'lang': 'en', 'author_id': '39511166', 'conv...</td>\n",
       "      <td>0</td>\n",
       "    </tr>\n",
       "    <tr>\n",
       "      <th>1685</th>\n",
       "      <td>[{'public_metrics': {'retweet_count': 534, 're...</td>\n",
       "      <td>0</td>\n",
       "    </tr>\n",
       "    <tr>\n",
       "      <th>1686</th>\n",
       "      <td>[{'possibly_sensitive': False, 'text': 'Nerds:...</td>\n",
       "      <td>1</td>\n",
       "    </tr>\n",
       "    <tr>\n",
       "      <th>1687</th>\n",
       "      <td>[{'lang': 'en', 'id': '1257261787600367617', '...</td>\n",
       "      <td>0</td>\n",
       "    </tr>\n",
       "    <tr>\n",
       "      <th>1688</th>\n",
       "      <td>[{'created_at': '2020-04-01T16:02:44.000Z', 'i...</td>\n",
       "      <td>0</td>\n",
       "    </tr>\n",
       "  </tbody>\n",
       "</table>\n",
       "<p>1689 rows × 2 columns</p>\n",
       "</div>"
      ],
      "text/plain": [
       "                                                   data  label\n",
       "0     [{'text': '5. Can regularly rinsing your nose ...      0\n",
       "1     [{'author_id': '16343974', 'public_metrics': {...      1\n",
       "2     [{'text': 'Coronavirus disease (COVID-19) advi...      0\n",
       "3     [{'text': 'Ottawa police confirm that there we...      0\n",
       "4     [{'possibly_sensitive': False, 'public_metrics...      0\n",
       "...                                                 ...    ...\n",
       "1684  [{'lang': 'en', 'author_id': '39511166', 'conv...      0\n",
       "1685  [{'public_metrics': {'retweet_count': 534, 're...      0\n",
       "1686  [{'possibly_sensitive': False, 'text': 'Nerds:...      1\n",
       "1687  [{'lang': 'en', 'id': '1257261787600367617', '...      0\n",
       "1688  [{'created_at': '2020-04-01T16:02:44.000Z', 'i...      0\n",
       "\n",
       "[1689 rows x 2 columns]"
      ]
     },
     "execution_count": 8,
     "metadata": {},
     "output_type": "execute_result"
    }
   ],
   "source": [
    "train_data_prepared"
   ]
  },
  {
   "cell_type": "code",
   "execution_count": 9,
   "id": "e188b4b5-2736-4c55-8ca0-72dbdd46a14c",
   "metadata": {},
   "outputs": [
    {
     "data": {
      "text/html": [
       "<div>\n",
       "<style scoped>\n",
       "    .dataframe tbody tr th:only-of-type {\n",
       "        vertical-align: middle;\n",
       "    }\n",
       "\n",
       "    .dataframe tbody tr th {\n",
       "        vertical-align: top;\n",
       "    }\n",
       "\n",
       "    .dataframe thead th {\n",
       "        text-align: right;\n",
       "    }\n",
       "</style>\n",
       "<table border=\"1\" class=\"dataframe\">\n",
       "  <thead>\n",
       "    <tr style=\"text-align: right;\">\n",
       "      <th></th>\n",
       "      <th>data</th>\n",
       "      <th>label</th>\n",
       "    </tr>\n",
       "  </thead>\n",
       "  <tbody>\n",
       "    <tr>\n",
       "      <th>0</th>\n",
       "      <td>[{'lang': 'en', 'possibly_sensitive': False, '...</td>\n",
       "      <td>0</td>\n",
       "    </tr>\n",
       "    <tr>\n",
       "      <th>1</th>\n",
       "      <td>[{'text': '@atruchecks when can we expect the ...</td>\n",
       "      <td>0</td>\n",
       "    </tr>\n",
       "    <tr>\n",
       "      <th>2</th>\n",
       "      <td>[{'created_at': '2020-03-04T16:19:03.000Z', 'c...</td>\n",
       "      <td>0</td>\n",
       "    </tr>\n",
       "    <tr>\n",
       "      <th>3</th>\n",
       "      <td>[{'author_id': '393187879', 'lang': 'en', 'cre...</td>\n",
       "      <td>0</td>\n",
       "    </tr>\n",
       "    <tr>\n",
       "      <th>4</th>\n",
       "      <td>[{'conversation_id': '523820806917603328', 'cr...</td>\n",
       "      <td>0</td>\n",
       "    </tr>\n",
       "    <tr>\n",
       "      <th>...</th>\n",
       "      <td>...</td>\n",
       "      <td>...</td>\n",
       "    </tr>\n",
       "    <tr>\n",
       "      <th>530</th>\n",
       "      <td>[{'author_id': '817903682847182848', 'public_m...</td>\n",
       "      <td>0</td>\n",
       "    </tr>\n",
       "    <tr>\n",
       "      <th>531</th>\n",
       "      <td>[{'possibly_sensitive': False, 'text': 'After ...</td>\n",
       "      <td>1</td>\n",
       "    </tr>\n",
       "    <tr>\n",
       "      <th>532</th>\n",
       "      <td>[{'author_id': '570876529', 'lang': 'en', 'cre...</td>\n",
       "      <td>0</td>\n",
       "    </tr>\n",
       "    <tr>\n",
       "      <th>533</th>\n",
       "      <td>[{'public_metrics': {'retweet_count': 127, 're...</td>\n",
       "      <td>1</td>\n",
       "    </tr>\n",
       "    <tr>\n",
       "      <th>534</th>\n",
       "      <td>[{'referenced_tweets': [{'type': 'replied_to',...</td>\n",
       "      <td>0</td>\n",
       "    </tr>\n",
       "  </tbody>\n",
       "</table>\n",
       "<p>535 rows × 2 columns</p>\n",
       "</div>"
      ],
      "text/plain": [
       "                                                  data  label\n",
       "0    [{'lang': 'en', 'possibly_sensitive': False, '...      0\n",
       "1    [{'text': '@atruchecks when can we expect the ...      0\n",
       "2    [{'created_at': '2020-03-04T16:19:03.000Z', 'c...      0\n",
       "3    [{'author_id': '393187879', 'lang': 'en', 'cre...      0\n",
       "4    [{'conversation_id': '523820806917603328', 'cr...      0\n",
       "..                                                 ...    ...\n",
       "530  [{'author_id': '817903682847182848', 'public_m...      0\n",
       "531  [{'possibly_sensitive': False, 'text': 'After ...      1\n",
       "532  [{'author_id': '570876529', 'lang': 'en', 'cre...      0\n",
       "533  [{'public_metrics': {'retweet_count': 127, 're...      1\n",
       "534  [{'referenced_tweets': [{'type': 'replied_to',...      0\n",
       "\n",
       "[535 rows x 2 columns]"
      ]
     },
     "execution_count": 9,
     "metadata": {},
     "output_type": "execute_result"
    }
   ],
   "source": [
    "dev_data_prepared"
   ]
  },
  {
   "cell_type": "code",
   "execution_count": 10,
   "id": "2f662a8a-320a-40e6-a5e4-4ba15be9be75",
   "metadata": {},
   "outputs": [
    {
     "data": {
      "text/html": [
       "<div>\n",
       "<style scoped>\n",
       "    .dataframe tbody tr th:only-of-type {\n",
       "        vertical-align: middle;\n",
       "    }\n",
       "\n",
       "    .dataframe tbody tr th {\n",
       "        vertical-align: top;\n",
       "    }\n",
       "\n",
       "    .dataframe thead th {\n",
       "        text-align: right;\n",
       "    }\n",
       "</style>\n",
       "<table border=\"1\" class=\"dataframe\">\n",
       "  <thead>\n",
       "    <tr style=\"text-align: right;\">\n",
       "      <th></th>\n",
       "      <th>data</th>\n",
       "    </tr>\n",
       "  </thead>\n",
       "  <tbody>\n",
       "    <tr>\n",
       "      <th>0</th>\n",
       "      <td>[{'created_at': '2020-04-04T17:00:40.000Z', 'i...</td>\n",
       "    </tr>\n",
       "    <tr>\n",
       "      <th>1</th>\n",
       "      <td>[{'created_at': '2020-04-20T16:55:30.000Z', 'i...</td>\n",
       "    </tr>\n",
       "    <tr>\n",
       "      <th>2</th>\n",
       "      <td>[{'created_at': '2020-03-06T22:05:20.000Z', 'i...</td>\n",
       "    </tr>\n",
       "    <tr>\n",
       "      <th>3</th>\n",
       "      <td>[{'created_at': '2020-03-05T15:05:07.000Z', 'i...</td>\n",
       "    </tr>\n",
       "    <tr>\n",
       "      <th>4</th>\n",
       "      <td>[{'created_at': '2020-05-08T15:55:05.000Z', 'i...</td>\n",
       "    </tr>\n",
       "    <tr>\n",
       "      <th>...</th>\n",
       "      <td>...</td>\n",
       "    </tr>\n",
       "    <tr>\n",
       "      <th>553</th>\n",
       "      <td>[{'created_at': '2014-01-27T23:22:26.000Z', 'i...</td>\n",
       "    </tr>\n",
       "    <tr>\n",
       "      <th>554</th>\n",
       "      <td>[{'created_at': '2014-11-08T22:06:34.000Z', 'i...</td>\n",
       "    </tr>\n",
       "    <tr>\n",
       "      <th>555</th>\n",
       "      <td>[{'created_at': '2015-01-08T08:03:35.000Z', 'i...</td>\n",
       "    </tr>\n",
       "    <tr>\n",
       "      <th>556</th>\n",
       "      <td>[{'created_at': '2020-01-30T17:05:03.000Z', 'i...</td>\n",
       "    </tr>\n",
       "    <tr>\n",
       "      <th>557</th>\n",
       "      <td>[{'created_at': '2020-03-15T22:55:32.000Z', 'i...</td>\n",
       "    </tr>\n",
       "  </tbody>\n",
       "</table>\n",
       "<p>558 rows × 1 columns</p>\n",
       "</div>"
      ],
      "text/plain": [
       "                                                  data\n",
       "0    [{'created_at': '2020-04-04T17:00:40.000Z', 'i...\n",
       "1    [{'created_at': '2020-04-20T16:55:30.000Z', 'i...\n",
       "2    [{'created_at': '2020-03-06T22:05:20.000Z', 'i...\n",
       "3    [{'created_at': '2020-03-05T15:05:07.000Z', 'i...\n",
       "4    [{'created_at': '2020-05-08T15:55:05.000Z', 'i...\n",
       "..                                                 ...\n",
       "553  [{'created_at': '2014-01-27T23:22:26.000Z', 'i...\n",
       "554  [{'created_at': '2014-11-08T22:06:34.000Z', 'i...\n",
       "555  [{'created_at': '2015-01-08T08:03:35.000Z', 'i...\n",
       "556  [{'created_at': '2020-01-30T17:05:03.000Z', 'i...\n",
       "557  [{'created_at': '2020-03-15T22:55:32.000Z', 'i...\n",
       "\n",
       "[558 rows x 1 columns]"
      ]
     },
     "execution_count": 10,
     "metadata": {},
     "output_type": "execute_result"
    }
   ],
   "source": [
    "test_data_prepared"
   ]
  },
  {
   "cell_type": "code",
   "execution_count": 11,
   "id": "a650bdf0-f541-4ba2-a3b5-c7fe40b81fde",
   "metadata": {},
   "outputs": [
    {
     "data": {
      "text/plain": [
       "{'created_at': '2020-04-04T17:00:40.000Z',\n",
       " 'id': 1246482832316301319,\n",
       " 'id_str': '1246482832316301319',\n",
       " 'text': 'How Does COVID-19 Spread? https://t.co/TXHDeUpetg https://t.co/IyyirWcKSp',\n",
       " 'truncated': False,\n",
       " 'entities': {'hashtags': [],\n",
       "  'symbols': [],\n",
       "  'user_mentions': [],\n",
       "  'urls': [{'url': 'https://t.co/TXHDeUpetg',\n",
       "    'expanded_url': 'https://minnesota.cbslocal.com/2020/04/03/how-does-covid-19-spread/?taid=5e88bd3653c773000108e1ea&utm_campaign=trueAnthem%3A+Trending+Content&utm_medium=trueAnthem&utm_source=twitter',\n",
       "    'display_url': 'minnesota.cbslocal.com/2020/04/03/how…',\n",
       "    'indices': [26, 49]}],\n",
       "  'media': [{'id': 1246482830215073792,\n",
       "    'id_str': '1246482830215073792',\n",
       "    'indices': [50, 73],\n",
       "    'media_url': 'http://pbs.twimg.com/media/EUxlh6mX0AAJRGq.jpg',\n",
       "    'media_url_https': 'https://pbs.twimg.com/media/EUxlh6mX0AAJRGq.jpg',\n",
       "    'url': 'https://t.co/IyyirWcKSp',\n",
       "    'display_url': 'pic.twitter.com/IyyirWcKSp',\n",
       "    'expanded_url': 'https://twitter.com/WCCO/status/1246482832316301319/photo/1',\n",
       "    'type': 'photo',\n",
       "    'sizes': {'thumb': {'w': 150, 'h': 150, 'resize': 'crop'},\n",
       "     'large': {'w': 1024, 'h': 575, 'resize': 'fit'},\n",
       "     'medium': {'w': 1024, 'h': 575, 'resize': 'fit'},\n",
       "     'small': {'w': 680, 'h': 382, 'resize': 'fit'}}}]},\n",
       " 'extended_entities': {'media': [{'id': 1246482830215073792,\n",
       "    'id_str': '1246482830215073792',\n",
       "    'indices': [50, 73],\n",
       "    'media_url': 'http://pbs.twimg.com/media/EUxlh6mX0AAJRGq.jpg',\n",
       "    'media_url_https': 'https://pbs.twimg.com/media/EUxlh6mX0AAJRGq.jpg',\n",
       "    'url': 'https://t.co/IyyirWcKSp',\n",
       "    'display_url': 'pic.twitter.com/IyyirWcKSp',\n",
       "    'expanded_url': 'https://twitter.com/WCCO/status/1246482832316301319/photo/1',\n",
       "    'type': 'photo',\n",
       "    'sizes': {'thumb': {'w': 150, 'h': 150, 'resize': 'crop'},\n",
       "     'large': {'w': 1024, 'h': 575, 'resize': 'fit'},\n",
       "     'medium': {'w': 1024, 'h': 575, 'resize': 'fit'},\n",
       "     'small': {'w': 680, 'h': 382, 'resize': 'fit'}}}]},\n",
       " 'source': '<a href=\"https://trueanthem.com/\" rel=\"nofollow\">True Anthem</a>',\n",
       " 'in_reply_to_status_id': None,\n",
       " 'in_reply_to_status_id_str': None,\n",
       " 'in_reply_to_user_id': None,\n",
       " 'in_reply_to_user_id_str': None,\n",
       " 'in_reply_to_screen_name': None,\n",
       " 'user': {'id': 13000872,\n",
       "  'id_str': '13000872',\n",
       "  'name': 'WCCO - CBS Minnesota',\n",
       "  'screen_name': 'WCCO',\n",
       "  'location': 'Minneapolis, MN',\n",
       "  'description': 'Thanks for your interest in WCCO/ CBS Minnesota - the place for local news updates! Want more? Head to https://t.co/vWqI0xRdBt or our WCCO-TV Facebook page.',\n",
       "  'url': 'https://t.co/Lfs9D6XoAP',\n",
       "  'entities': {'url': {'urls': [{'url': 'https://t.co/Lfs9D6XoAP',\n",
       "      'expanded_url': 'http://www.wcco.com',\n",
       "      'display_url': 'wcco.com',\n",
       "      'indices': [0, 23]}]},\n",
       "   'description': {'urls': [{'url': 'https://t.co/vWqI0xRdBt',\n",
       "      'expanded_url': 'http://WCCO.com',\n",
       "      'display_url': 'WCCO.com',\n",
       "      'indices': [103, 126]}]}},\n",
       "  'protected': False,\n",
       "  'followers_count': 235171,\n",
       "  'friends_count': 6934,\n",
       "  'listed_count': 2107,\n",
       "  'created_at': '2020-04-04T17:00:40.000Z',\n",
       "  'favourites_count': 408,\n",
       "  'utc_offset': None,\n",
       "  'time_zone': None,\n",
       "  'geo_enabled': True,\n",
       "  'verified': True,\n",
       "  'statuses_count': 141268,\n",
       "  'lang': None,\n",
       "  'contributors_enabled': False,\n",
       "  'is_translator': False,\n",
       "  'is_translation_enabled': False,\n",
       "  'profile_background_color': 'B8BAC1',\n",
       "  'profile_background_image_url': 'http://abs.twimg.com/images/themes/theme1/bg.png',\n",
       "  'profile_background_image_url_https': 'https://abs.twimg.com/images/themes/theme1/bg.png',\n",
       "  'profile_background_tile': False,\n",
       "  'profile_image_url': 'http://pbs.twimg.com/profile_images/1280449371906043904/-UwL30Ys_normal.jpg',\n",
       "  'profile_image_url_https': 'https://pbs.twimg.com/profile_images/1280449371906043904/-UwL30Ys_normal.jpg',\n",
       "  'profile_banner_url': 'https://pbs.twimg.com/profile_banners/13000872/1569258916',\n",
       "  'profile_link_color': '1B95E0',\n",
       "  'profile_sidebar_border_color': '181A1E',\n",
       "  'profile_sidebar_fill_color': 'EFEFF0',\n",
       "  'profile_text_color': '666666',\n",
       "  'profile_use_background_image': False,\n",
       "  'has_extended_profile': False,\n",
       "  'default_profile': False,\n",
       "  'default_profile_image': False,\n",
       "  'following': False,\n",
       "  'follow_request_sent': False,\n",
       "  'notifications': False,\n",
       "  'translator_type': 'regular'},\n",
       " 'geo': None,\n",
       " 'coordinates': None,\n",
       " 'place': None,\n",
       " 'contributors': None,\n",
       " 'is_quote_status': False,\n",
       " 'retweet_count': 0,\n",
       " 'favorite_count': 4,\n",
       " 'favorited': False,\n",
       " 'retweeted': False,\n",
       " 'possibly_sensitive': False,\n",
       " 'lang': 'en'}"
      ]
     },
     "execution_count": 11,
     "metadata": {},
     "output_type": "execute_result"
    }
   ],
   "source": [
    "test_data_prepared.iloc[0][\"data\"][0]"
   ]
  },
  {
   "cell_type": "code",
   "execution_count": 12,
   "id": "b7c15b96-754e-49e0-b3bb-26ee465cd74a",
   "metadata": {},
   "outputs": [],
   "source": [
    "from sklearn.feature_extraction.text import TfidfVectorizer\n",
    "\n",
    "from nltk.tokenize import TweetTokenizer"
   ]
  },
  {
   "cell_type": "code",
   "execution_count": 13,
   "id": "aff3e5de-3c11-4aea-8dd4-d3884562f18a",
   "metadata": {},
   "outputs": [],
   "source": [
    "def get_line_user_disc(line):\n",
    "    return line[0][\"user\"]['description']"
   ]
  },
  {
   "cell_type": "code",
   "execution_count": 14,
   "id": "4fd1792c-38ea-4ce2-bd42-0eb1e0576bd2",
   "metadata": {},
   "outputs": [],
   "source": [
    "def get_line_text(line):\n",
    "    text = \"\"\n",
    "    for i in line:\n",
    "        text = text +\" \" +  i[\"text\"]\n",
    "    return text"
   ]
  },
  {
   "cell_type": "code",
   "execution_count": 15,
   "id": "0d437453-5439-437d-8608-a27f2a4ebef5",
   "metadata": {},
   "outputs": [],
   "source": [
    "text_all = []\n",
    "for i in range(len(train_data_prepared)):\n",
    "    line = train_data_prepared.iloc[i][\"data\"]\n",
    "    text_all.append(get_line_text(line))"
   ]
  },
  {
   "cell_type": "code",
   "execution_count": 16,
   "id": "5889b870-8cb4-4edc-8523-78b02946dbd9",
   "metadata": {},
   "outputs": [],
   "source": [
    "dev_all = []\n",
    "for i in range(len(dev_data_prepared)):\n",
    "    line = dev_data_prepared.iloc[i][\"data\"]\n",
    "    dev_all.append(get_line_text(line))"
   ]
  },
  {
   "cell_type": "code",
   "execution_count": 17,
   "id": "94fbe453-9fe6-4afd-9280-bcf13c01163e",
   "metadata": {},
   "outputs": [],
   "source": [
    "test_all = []\n",
    "for i in range(len(test_data_prepared)):\n",
    "    line = test_data_prepared.iloc[i][\"data\"]\n",
    "    test_all.append(get_line_text(line))"
   ]
  },
  {
   "cell_type": "code",
   "execution_count": 18,
   "id": "390658c9-bfb8-4cb2-b1a2-4399e6789960",
   "metadata": {},
   "outputs": [],
   "source": [
    "#decs_all\n",
    "from datetime import datetime"
   ]
  },
  {
   "cell_type": "code",
   "execution_count": 30,
   "id": "e0087865-8f08-4a6a-a928-33ef0c8bceb7",
   "metadata": {},
   "outputs": [],
   "source": [
    "from sklearn.svm import LinearSVC\n",
    "from sklearn.datasets import make_classification\n",
    "from sklearn.model_selection import cross_val_score\n",
    "from sklearn.metrics import classification_report"
   ]
  },
  {
   "cell_type": "code",
   "execution_count": 19,
   "id": "d521419e-1017-4ca2-ada6-8cf3890882ad",
   "metadata": {},
   "outputs": [],
   "source": [
    "from sklearn.feature_extraction.text import TfidfVectorizer\n",
    "tv = TfidfVectorizer(use_idf=True, smooth_idf=True, norm=None)"
   ]
  },
  {
   "cell_type": "code",
   "execution_count": 20,
   "id": "88586b8c-28ca-409f-bc2a-350e260cce03",
   "metadata": {},
   "outputs": [],
   "source": [
    "tv_fit = tv.fit_transform(text_all)"
   ]
  },
  {
   "cell_type": "code",
   "execution_count": 21,
   "id": "826a5ae5-6971-4303-86a8-4d6430073737",
   "metadata": {},
   "outputs": [],
   "source": [
    "X_train = tv.transform(text_all)"
   ]
  },
  {
   "cell_type": "code",
   "execution_count": 22,
   "id": "30ce0361-7949-4823-a210-990e55c5cdc3",
   "metadata": {},
   "outputs": [],
   "source": [
    "X_dev = tv.transform(dev_all)"
   ]
  },
  {
   "cell_type": "code",
   "execution_count": 23,
   "id": "ba270b3f-e424-42f8-8f6c-e8fb9a9b820d",
   "metadata": {},
   "outputs": [],
   "source": [
    "X_test = tv.transform(test_all)"
   ]
  },
  {
   "cell_type": "code",
   "execution_count": 24,
   "id": "7acfc417-0f9e-43f4-ab35-953c910ab63b",
   "metadata": {},
   "outputs": [],
   "source": [
    "X_train = X_train.toarray()\n",
    "X_dev = X_dev.toarray()\n",
    "X_test = X_test.toarray()"
   ]
  },
  {
   "cell_type": "code",
   "execution_count": 25,
   "id": "54fe34e1-272a-4c03-8eb3-e7b33e683d0f",
   "metadata": {},
   "outputs": [],
   "source": [
    "x_train_df = pd.DataFrame(X_train)\n",
    "x_dev_df = pd.DataFrame(X_dev)\n",
    "x_test_df = pd.DataFrame(X_test)"
   ]
  },
  {
   "cell_type": "code",
   "execution_count": 26,
   "id": "eb552045-1841-4cc7-914c-b7e02a8916ee",
   "metadata": {},
   "outputs": [
    {
     "data": {
      "text/plain": [
       "(1689, 30987)"
      ]
     },
     "execution_count": 26,
     "metadata": {},
     "output_type": "execute_result"
    }
   ],
   "source": [
    "X_train.shape"
   ]
  },
  {
   "cell_type": "code",
   "execution_count": 27,
   "id": "890d3834-334d-4149-8e05-a8b35659b62b",
   "metadata": {},
   "outputs": [],
   "source": [
    "y_train = train_data_prepared[\"label\"]\n",
    "y_dev = dev_data_prepared[\"label\"]"
   ]
  },
  {
   "cell_type": "code",
   "execution_count": 28,
   "id": "1e03db1a-d586-4706-8e42-b3611d7f4f89",
   "metadata": {},
   "outputs": [],
   "source": [
    "import datetime as datetime"
   ]
  },
  {
   "cell_type": "code",
   "execution_count": 31,
   "id": "0acd56c5-0cd5-49f4-9685-ccb6dc2aa965",
   "metadata": {},
   "outputs": [
    {
     "name": "stderr",
     "output_type": "stream",
     "text": [
      "C:\\Users\\19915\\ai\\anaconda3\\envs\\tf414\\lib\\site-packages\\sklearn\\svm\\_base.py:977: ConvergenceWarning: Liblinear failed to converge, increase the number of iterations.\n",
      "  \"the number of iterations.\", ConvergenceWarning)\n"
     ]
    },
    {
     "name": "stdout",
     "output_type": "stream",
     "text": [
      "              precision    recall  f1-score   support\n",
      "\n",
      "           0       1.00      1.00      1.00      1323\n",
      "           1       1.00      1.00      1.00       366\n",
      "\n",
      "    accuracy                           1.00      1689\n",
      "   macro avg       1.00      1.00      1.00      1689\n",
      "weighted avg       1.00      1.00      1.00      1689\n",
      "\n"
     ]
    }
   ],
   "source": [
    "X, y = x_train_df,y_train\n",
    "clf = LinearSVC(C =4,random_state=0, tol=1e-5)\n",
    "clf.fit(X, y)\n",
    "y_predict = clf.predict(X)\n",
    "print(classification_report(y, y_predict, labels=[0,1]))"
   ]
  },
  {
   "cell_type": "code",
   "execution_count": 51,
   "id": "ec5a9c52-478c-4197-bc7b-2d8245cdc6dc",
   "metadata": {},
   "outputs": [
    {
     "name": "stdout",
     "output_type": "stream",
     "text": [
      "              precision    recall  f1-score   support\n",
      "\n",
      "           0       0.94      0.96      0.95       420\n",
      "           1       0.83      0.77      0.80       115\n",
      "\n",
      "    accuracy                           0.92       535\n",
      "   macro avg       0.88      0.86      0.87       535\n",
      "weighted avg       0.91      0.92      0.91       535\n",
      "\n"
     ]
    }
   ],
   "source": [
    "y_predict = clf.predict(x_dev_df)\n",
    "print(classification_report( y_dev , y_predict, labels=[0,1]))"
   ]
  },
  {
   "cell_type": "code",
   "execution_count": 32,
   "id": "144b3f73-e662-4caa-890f-bed0b5734ccc",
   "metadata": {},
   "outputs": [],
   "source": [
    "y_predict = clf.predict(X_test)"
   ]
  },
  {
   "cell_type": "code",
   "execution_count": 33,
   "id": "1ab59558-2674-4eb5-8f2b-69c0000c1a04",
   "metadata": {},
   "outputs": [
    {
     "name": "stdout",
     "output_type": "stream",
     "text": [
      "      Id  Predicted\n",
      "0      0          0\n",
      "1      1          0\n",
      "2      2          0\n",
      "3      3          0\n",
      "4      4          0\n",
      "..   ...        ...\n",
      "553  553          0\n",
      "554  554          0\n",
      "555  555          1\n",
      "556  556          0\n",
      "557  557          0\n",
      "\n",
      "[558 rows x 2 columns]\n"
     ]
    }
   ],
   "source": [
    "pred = pd.DataFrame(data=y_predict, columns=['Predicted']).reset_index()\n",
    "pred = pred.rename(columns={'index': 'Id'})\n",
    "print(pred)\n",
    "\n",
    "pred.to_csv('svm_prediction_final.csv', index = False)"
   ]
  },
  {
   "cell_type": "code",
   "execution_count": 34,
   "id": "496cba49-36f4-4730-ab18-ce3656204b6d",
   "metadata": {},
   "outputs": [],
   "source": [
    "import pandas as pd\n",
    "import tensorflow as tf"
   ]
  },
  {
   "cell_type": "code",
   "execution_count": 35,
   "id": "4d13dc66-748d-4802-a280-636df82456cc",
   "metadata": {},
   "outputs": [],
   "source": [
    "import pandas as pd\n",
    "data_x = x_train_df\n",
    "data_y = y_train"
   ]
  },
  {
   "cell_type": "code",
   "execution_count": 36,
   "id": "7cf37cd0-4535-4b7d-9bc0-75908313387a",
   "metadata": {},
   "outputs": [],
   "source": [
    "train_matrix = data_x"
   ]
  },
  {
   "cell_type": "code",
   "execution_count": 38,
   "id": "cac4b657-0e11-44c3-8960-8650c380425a",
   "metadata": {},
   "outputs": [],
   "source": [
    "from pandas import DataFrame\n",
    "import pandas as pd\n",
    "train_target = list(data_y)\n",
    "list_label = []\n",
    "for i in train_target:\n",
    "    #print(i)\n",
    "    if i == 0:\n",
    "        list_label.append((1,0))\n",
    "    elif i == 1:\n",
    "        list_label.append((0,1))\n",
    "#print(list_label)\n",
    "label = DataFrame (list_label,columns=['c1',\"c2\"])"
   ]
  },
  {
   "cell_type": "code",
   "execution_count": 39,
   "id": "fbb7442d-6845-4ef2-8623-3e9ec019ba68",
   "metadata": {},
   "outputs": [],
   "source": [
    "from sklearn.model_selection import train_test_split\n",
    "import numpy as np\n",
    "import tensorflow as tf\n",
    "from tensorflow import keras\n",
    "from tensorflow.keras import layers\n",
    "x_full_train, x_full_test, y_train, y_test = train_test_split(train_matrix, label, test_size=0.2, random_state=30027)\n",
    "#print(x_full_train)\n",
    "dataset_train = tf.data.Dataset.from_tensor_slices((train_matrix.values,label.values))\n",
    "dataset_test = tf.data.Dataset.from_tensor_slices((x_full_test.values,y_test.values))"
   ]
  },
  {
   "cell_type": "code",
   "execution_count": 42,
   "id": "a679f6b1-0494-4de4-814d-896a314e52ec",
   "metadata": {},
   "outputs": [],
   "source": [
    "import numpy as np\n",
    "import tensorflow as tf\n",
    "from tensorflow import keras\n",
    "from tensorflow.keras import layers\n",
    "def get_compiled_model():\n",
    "    model = tf.keras.Sequential([\n",
    "    tf.keras.layers.Dense(20, activation='elu'),            \n",
    "     \n",
    "    tf.keras.layers.Dense(4, activation='elu'),\n",
    "    tf.keras.layers.Dropout(0.5),  \n",
    "    tf.keras.layers.Dense(2, activation='softmax')\n",
    "  ])\n",
    "    model.compile(optimizer='adam',\n",
    "                loss='categorical_crossentropy',\n",
    "                metrics=['accuracy'])\n",
    "    return model"
   ]
  },
  {
   "cell_type": "code",
   "execution_count": 43,
   "id": "ce128f71-1bca-4112-84fd-a86d89057056",
   "metadata": {},
   "outputs": [
    {
     "name": "stdout",
     "output_type": "stream",
     "text": [
      "Train for 106 steps\n",
      "Epoch 1/20\n",
      "106/106 [==============================] - 1s 11ms/step - loss: 0.6659 - accuracy: 0.7969\n",
      "Epoch 2/20\n",
      "106/106 [==============================] - 1s 6ms/step - loss: 0.1763 - accuracy: 0.9491\n",
      "Epoch 3/20\n",
      "106/106 [==============================] - 1s 6ms/step - loss: 0.1189 - accuracy: 0.9686\n",
      "Epoch 4/20\n",
      "106/106 [==============================] - 1s 6ms/step - loss: 0.0833 - accuracy: 0.9763\n",
      "Epoch 5/20\n",
      "106/106 [==============================] - 1s 6ms/step - loss: 0.0658 - accuracy: 0.9811\n",
      "Epoch 6/20\n",
      "106/106 [==============================] - 1s 6ms/step - loss: 0.1147 - accuracy: 0.9704\n",
      "Epoch 7/20\n",
      "106/106 [==============================] - 1s 6ms/step - loss: 0.0789 - accuracy: 0.9757\n",
      "Epoch 8/20\n",
      "106/106 [==============================] - 1s 6ms/step - loss: 0.0589 - accuracy: 0.9846\n",
      "Epoch 9/20\n",
      "106/106 [==============================] - 1s 6ms/step - loss: 0.0619 - accuracy: 0.9816\n",
      "Epoch 10/20\n",
      "106/106 [==============================] - 1s 5ms/step - loss: 0.0597 - accuracy: 0.9805\n",
      "Epoch 11/20\n",
      "106/106 [==============================] - 1s 6ms/step - loss: 0.0550 - accuracy: 0.9828\n",
      "Epoch 12/20\n",
      "106/106 [==============================] - 1s 5ms/step - loss: 0.0528 - accuracy: 0.9846\n",
      "Epoch 13/20\n",
      "106/106 [==============================] - 1s 5ms/step - loss: 0.0455 - accuracy: 0.9893\n",
      "Epoch 14/20\n",
      "106/106 [==============================] - 1s 6ms/step - loss: 0.0544 - accuracy: 0.9882\n",
      "Epoch 15/20\n",
      "106/106 [==============================] - 1s 7ms/step - loss: 0.0539 - accuracy: 0.9828\n",
      "Epoch 16/20\n",
      "106/106 [==============================] - 1s 5ms/step - loss: 0.0598 - accuracy: 0.9793\n",
      "Epoch 17/20\n",
      "106/106 [==============================] - 1s 6ms/step - loss: 0.0442 - accuracy: 0.9852\n",
      "Epoch 18/20\n",
      "106/106 [==============================] - 1s 5ms/step - loss: 0.0488 - accuracy: 0.9876\n",
      "Epoch 19/20\n",
      "106/106 [==============================] - 1s 6ms/step - loss: 0.0442 - accuracy: 0.9864\n",
      "Epoch 20/20\n",
      "106/106 [==============================] - 1s 5ms/step - loss: 0.0513 - accuracy: 0.9882\n"
     ]
    }
   ],
   "source": [
    "train_dataset = dataset_train.shuffle(len(train_matrix)).batch(16)\n",
    "model = get_compiled_model()\n",
    "history = model.fit(train_dataset,epochs=20)"
   ]
  },
  {
   "cell_type": "code",
   "execution_count": 45,
   "id": "45063b1d-4c13-459d-86f3-52ea6cf18c92",
   "metadata": {},
   "outputs": [],
   "source": [
    "import pandas as pd\n",
    "data_test = x_test_df"
   ]
  },
  {
   "cell_type": "code",
   "execution_count": 46,
   "id": "f4645f32-c34a-42c4-8650-2a931afd6853",
   "metadata": {},
   "outputs": [],
   "source": [
    "result = model.predict(\n",
    "    data_test, batch_size=None, verbose=0, steps=None, callbacks=None, max_queue_size=10,\n",
    "    workers=1, use_multiprocessing=False\n",
    ")"
   ]
  },
  {
   "cell_type": "code",
   "execution_count": 49,
   "id": "3655bf0d-851a-4570-a89a-00281695d972",
   "metadata": {},
   "outputs": [],
   "source": [
    "prob_list = []\n",
    "for i in result:\n",
    "    if i[1]<0.01:\n",
    "        prob_list.append(0)\n",
    "    else:\n",
    "        prob_list.append(1)"
   ]
  },
  {
   "cell_type": "code",
   "execution_count": 50,
   "id": "bd2233a5-ab55-4df8-80c4-c4e97aa9b3cd",
   "metadata": {},
   "outputs": [
    {
     "name": "stdout",
     "output_type": "stream",
     "text": [
      "     0\n",
      "0    0\n",
      "1    1\n",
      "2    0\n",
      "3    0\n",
      "4    1\n",
      "..  ..\n",
      "553  0\n",
      "554  0\n",
      "555  1\n",
      "556  0\n",
      "557  0\n",
      "\n",
      "[558 rows x 1 columns]\n"
     ]
    }
   ],
   "source": [
    "test=pd.DataFrame(data=prob_list)\n",
    "print(test)\n",
    "import csv\n",
    "n = len(test)\n",
    "nlist = range(0,n)\n",
    "test['Id'] = nlist\n",
    "test.columns = ['Predicted','Id']\n",
    "test[['Id','Predicted']] = test[['Predicted','Id']]\n",
    "test.columns = ['Id','Predicted']\n",
    "test.to_csv('../data/mlp.csv',encoding='gbk',index = False, quoting=csv.QUOTE_NONNUMERIC)"
   ]
  }
 ],
 "metadata": {
  "kernelspec": {
   "display_name": "Python 3 (ipykernel)",
   "language": "python",
   "name": "python3"
  },
  "language_info": {
   "codemirror_mode": {
    "name": "ipython",
    "version": 3
   },
   "file_extension": ".py",
   "mimetype": "text/x-python",
   "name": "python",
   "nbconvert_exporter": "python",
   "pygments_lexer": "ipython3",
   "version": "3.7.13"
  }
 },
 "nbformat": 4,
 "nbformat_minor": 5
}
