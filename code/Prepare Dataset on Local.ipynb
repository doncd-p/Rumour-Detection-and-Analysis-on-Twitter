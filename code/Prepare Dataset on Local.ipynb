{
 "cells": [
  {
   "cell_type": "code",
   "execution_count": 1,
   "id": "1c4de188",
   "metadata": {
    "ExecuteTime": {
     "end_time": "2022-05-08T11:05:28.411078Z",
     "start_time": "2022-05-08T11:05:14.836206Z"
    }
   },
   "outputs": [],
   "source": [
    "from LoadData import LoadDataAndProcessing\n",
    "from RumourDataSet import RumourDataset\n",
    "import pickle\n",
    "import pandas as pd"
   ]
  },
  {
   "cell_type": "code",
   "execution_count": 10,
   "id": "a4320631",
   "metadata": {
    "ExecuteTime": {
     "end_time": "2022-05-08T12:06:07.725881Z",
     "start_time": "2022-05-08T12:06:07.641085Z"
    }
   },
   "outputs": [],
   "source": [
    "train_file = \"../data/train_data_prepared.json\"\n",
    "dev_file = \"../data/dev_data_prepared.json\"\n",
    "dev_to_predict_file = \"../data/dev_data_to_predict.json\"\n",
    "test_file = \"../data/test_data_prepared.json\"\n",
    "covid_file = \"../data/covid_data_prepared.json\""
   ]
  },
  {
   "cell_type": "code",
   "execution_count": 3,
   "id": "0dbd7982",
   "metadata": {
    "ExecuteTime": {
     "end_time": "2022-05-08T11:05:34.141468Z",
     "start_time": "2022-05-08T11:05:28.457080Z"
    }
   },
   "outputs": [],
   "source": [
    "load_twitter_train_data = LoadDataAndProcessing(train_file)\n",
    "load_twitter_dev_data = LoadDataAndProcessing(dev_file)\n",
    "load_twitter_dev_to_predict_data = LoadDataAndProcessing(dev_to_predict_file)\n",
    "load_twitter_test_data= LoadDataAndProcessing(test_file)\n",
    "load_twitter_covid_data= LoadDataAndProcessing(covid_file)"
   ]
  },
  {
   "cell_type": "code",
   "execution_count": 4,
   "id": "aedcb7c2",
   "metadata": {
    "ExecuteTime": {
     "end_time": "2022-05-08T11:05:45.436193Z",
     "start_time": "2022-05-08T11:05:34.144288Z"
    }
   },
   "outputs": [],
   "source": [
    "train_input = load_twitter_train_data.prepareDataset()\n",
    "dev_input = load_twitter_dev_data.prepareDataset()\n",
    "dev_to_predict_input = load_twitter_dev_to_predict_data.prepareDataset()\n",
    "test_input = load_twitter_test_data.prepareDataset()\n",
    "covid_input = load_twitter_covid_data.prepareDataset()"
   ]
  },
  {
   "cell_type": "code",
   "execution_count": 5,
   "id": "fd7719e4",
   "metadata": {
    "ExecuteTime": {
     "end_time": "2022-05-08T11:05:45.955196Z",
     "start_time": "2022-05-08T11:05:45.438201Z"
    }
   },
   "outputs": [],
   "source": [
    "with open(\"../data/saved/train_input.pickle\", \"wb\") as file_:\n",
    "    pickle.dump(train_input, file_, -1)\n",
    "\n",
    "with open(\"../data/saved/dev_input.pickle\", \"wb\") as file_:\n",
    "    pickle.dump(dev_input, file_, -1)\n",
    "    \n",
    "with open(\"../data/saved/dev_to_predict_input.pickle\", \"wb\") as file_:\n",
    "    pickle.dump(dev_to_predict_input, file_, -1)\n",
    "    \n",
    "with open(\"../data/saved/test_input.pickle\", \"wb\") as file_:\n",
    "    pickle.dump(test_input, file_, -1)\n",
    "    \n",
    "with open(\"../data/saved/covid_input.pickle\", \"wb\") as file_:\n",
    "    pickle.dump(covid_input, file_, -1)"
   ]
  },
  {
   "cell_type": "code",
   "execution_count": 6,
   "id": "e6f9eb47",
   "metadata": {
    "ExecuteTime": {
     "end_time": "2022-05-08T11:05:46.439027Z",
     "start_time": "2022-05-08T11:05:45.958198Z"
    }
   },
   "outputs": [],
   "source": [
    "test_input = pickle.load(open('../data/saved/test_input.pickle', \"rb\", -1))"
   ]
  },
  {
   "cell_type": "code",
   "execution_count": 7,
   "id": "67e2ad2a",
   "metadata": {
    "ExecuteTime": {
     "end_time": "2022-05-08T11:05:46.470636Z",
     "start_time": "2022-05-08T11:05:46.441733Z"
    }
   },
   "outputs": [
    {
     "data": {
      "text/plain": [
       "{'text_source': '69 people die after drinking beer believed to have been poisoned with crocodile bile in mozambique abc all the news and information you need to see curated by the @abc news team tips',\n",
       " 'text_reply': 'crossing mozambique off my travel list check rt @abc 69 people die after drinking beer poisoned with crocodile bile in mozambique @felskefiles @abc nice call @abc 69 people die after drinking beer believed to have been poisoned with crocodile bile in m rt damn nature @abc genocide on da rise @abc @abc 69 ppl die drinking beer poisoned w crocodile bile in mozambique fucking craft brews @ycja5 @dynastystryker @abc 69 people die after drinking beer poisoned with crocodile bile in mozambique @jackson 17jake'}"
      ]
     },
     "execution_count": 7,
     "metadata": {},
     "output_type": "execute_result"
    }
   ],
   "source": [
    "test_input[10]"
   ]
  },
  {
   "cell_type": "code",
   "execution_count": 8,
   "id": "467a3f7a",
   "metadata": {
    "ExecuteTime": {
     "end_time": "2022-05-08T11:05:50.565380Z",
     "start_time": "2022-05-08T11:05:46.473357Z"
    }
   },
   "outputs": [],
   "source": [
    "tweet_test = pd.read_json(\"../data/test_data_prepared.json\")"
   ]
  },
  {
   "cell_type": "code",
   "execution_count": 9,
   "id": "70141099",
   "metadata": {
    "ExecuteTime": {
     "end_time": "2022-05-08T11:05:53.263826Z",
     "start_time": "2022-05-08T11:05:50.570044Z"
    }
   },
   "outputs": [
    {
     "data": {
      "text/plain": [
       "'69 people die after drinking beer believed to have been poisoned with crocodile bile in Mozambique: http://t.co/N5HdS74Z0k'"
      ]
     },
     "execution_count": 9,
     "metadata": {},
     "output_type": "execute_result"
    }
   ],
   "source": [
    "tweet_test['data'][10][0]['text']"
   ]
  }
 ],
 "metadata": {
  "kernelspec": {
   "display_name": "Python 3 (ipykernel)",
   "language": "python",
   "name": "python3"
  },
  "language_info": {
   "codemirror_mode": {
    "name": "ipython",
    "version": 3
   },
   "file_extension": ".py",
   "mimetype": "text/x-python",
   "name": "python",
   "nbconvert_exporter": "python",
   "pygments_lexer": "ipython3",
   "version": "3.7.6"
  },
  "toc": {
   "base_numbering": 1,
   "nav_menu": {},
   "number_sections": true,
   "sideBar": true,
   "skip_h1_title": false,
   "title_cell": "Table of Contents",
   "title_sidebar": "Contents",
   "toc_cell": false,
   "toc_position": {},
   "toc_section_display": true,
   "toc_window_display": false
  },
  "varInspector": {
   "cols": {
    "lenName": 16,
    "lenType": 16,
    "lenVar": 40
   },
   "kernels_config": {
    "python": {
     "delete_cmd_postfix": "",
     "delete_cmd_prefix": "del ",
     "library": "var_list.py",
     "varRefreshCmd": "print(var_dic_list())"
    },
    "r": {
     "delete_cmd_postfix": ") ",
     "delete_cmd_prefix": "rm(",
     "library": "var_list.r",
     "varRefreshCmd": "cat(var_dic_list()) "
    }
   },
   "types_to_exclude": [
    "module",
    "function",
    "builtin_function_or_method",
    "instance",
    "_Feature"
   ],
   "window_display": false
  }
 },
 "nbformat": 4,
 "nbformat_minor": 5
}
