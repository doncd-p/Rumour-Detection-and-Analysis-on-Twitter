{
 "cells": [
  {
   "cell_type": "markdown",
   "id": "d5440dde",
   "metadata": {},
   "source": [
    "### Split the data into separate tweet json file"
   ]
  },
  {
   "cell_type": "code",
   "execution_count": null,
   "id": "004aedc2",
   "metadata": {
    "ExecuteTime": {
     "end_time": "2022-04-28T16:00:10.653542Z",
     "start_time": "2022-04-28T16:00:10.625537Z"
    }
   },
   "outputs": [],
   "source": [
    "import pandas as pd\n",
    "import json\n",
    "from pprint import pprint\n",
    "\n",
    "def split_file(file, output_folder_dir):\n",
    "    tweets = pd.read_json(file)\n",
    "    tweets = tweets.T.reset_index(drop=True)\n",
    "    \n",
    "    # get all users info in a dict by author id\n",
    "    users_info = tweets['includes'].map(lambda x: {n['id']: n for n in x['users']})\n",
    "    users_dict = {}\n",
    "    for i in range(len(users_info)):\n",
    "        users_dict.update(users_info[i])\n",
    "        \n",
    "    # get all tweets info\n",
    "    tweet_list = []\n",
    "    for i in range(len(tweets)):\n",
    "        tweet_list.extend(tweet for tweet in tweets['data'][i])\n",
    "        \n",
    "    # add user info to tweet info by author id\n",
    "    # and then output each tweet into json file\n",
    "    for tweet in tweet_list:\n",
    "        tweet['user'] = users_dict[tweet['author_id']]\n",
    "        \n",
    "        with open(\"{}/{}.json\".format(output_folder_dir, tweet['id']), \"w\",encoding='utf-8') as outfile:\n",
    "            json.dump(tweet, outfile)"
   ]
  },
  {
   "cell_type": "code",
   "execution_count": null,
   "id": "692d5ceb",
   "metadata": {
    "ExecuteTime": {
     "end_time": "2022-04-28T16:00:28.674281Z",
     "start_time": "2022-04-28T16:00:14.685071Z"
    }
   },
   "outputs": [],
   "source": [
    "split_file(\"../data/dev_data_all.json\", \"../data/raw/dev_data\")"
   ]
  },
  {
   "cell_type": "code",
   "execution_count": null,
   "id": "1b20f2ea",
   "metadata": {
    "ExecuteTime": {
     "end_time": "2022-04-28T15:53:33.462786Z",
     "start_time": "2022-04-28T15:53:01.963128Z"
    }
   },
   "outputs": [],
   "source": [
    "split_file(\"../data/train_data_all.json\", \"../data/raw/train_data\")"
   ]
  },
  {
   "cell_type": "code",
   "execution_count": null,
   "id": "a73997ea",
   "metadata": {
    "ExecuteTime": {
     "end_time": "2022-04-28T16:20:50.256758Z",
     "start_time": "2022-04-28T16:07:30.475492Z"
    }
   },
   "outputs": [],
   "source": [
    "split_file(\"../data/covid_data_all.json\", \"../data/raw/covid_data\")"
   ]
  }
 ],
 "metadata": {
  "kernelspec": {
   "display_name": "Python 3 (ipykernel)",
   "language": "python",
   "name": "python3"
  },
  "language_info": {
   "codemirror_mode": {
    "name": "ipython",
    "version": 3
   },
   "file_extension": ".py",
   "mimetype": "text/x-python",
   "name": "python",
   "nbconvert_exporter": "python",
   "pygments_lexer": "ipython3",
   "version": "3.7.6"
  },
  "toc": {
   "base_numbering": 1,
   "nav_menu": {},
   "number_sections": true,
   "sideBar": true,
   "skip_h1_title": false,
   "title_cell": "Table of Contents",
   "title_sidebar": "Contents",
   "toc_cell": false,
   "toc_position": {},
   "toc_section_display": true,
   "toc_window_display": false
  },
  "varInspector": {
   "cols": {
    "lenName": 16,
    "lenType": 16,
    "lenVar": 40
   },
   "kernels_config": {
    "python": {
     "delete_cmd_postfix": "",
     "delete_cmd_prefix": "del ",
     "library": "var_list.py",
     "varRefreshCmd": "print(var_dic_list())"
    },
    "r": {
     "delete_cmd_postfix": ") ",
     "delete_cmd_prefix": "rm(",
     "library": "var_list.r",
     "varRefreshCmd": "cat(var_dic_list()) "
    }
   },
   "types_to_exclude": [
    "module",
    "function",
    "builtin_function_or_method",
    "instance",
    "_Feature"
   ],
   "window_display": false
  }
 },
 "nbformat": 4,
 "nbformat_minor": 5
}
