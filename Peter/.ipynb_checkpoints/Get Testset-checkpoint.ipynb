{
 "cells": [
  {
   "cell_type": "code",
   "execution_count": 35,
   "id": "50e09e0e",
   "metadata": {
    "ExecuteTime": {
     "end_time": "2022-05-06T05:30:28.330190Z",
     "start_time": "2022-05-06T05:30:28.311196Z"
    }
   },
   "outputs": [],
   "source": [
    "import json\n",
    "import pandas as pd"
   ]
  },
  {
   "cell_type": "code",
   "execution_count": 5,
   "id": "fed2f0fc",
   "metadata": {
    "ExecuteTime": {
     "end_time": "2022-05-06T05:16:16.548456Z",
     "start_time": "2022-05-06T05:16:16.521457Z"
    }
   },
   "outputs": [],
   "source": [
    "test_file_path = \"../../project-data/tweet-objects/tweet-objects/\"\n",
    "test_ids = pd.read_table(\"data/test.data.txt\", header=None)"
   ]
  },
  {
   "cell_type": "code",
   "execution_count": 6,
   "id": "299147b0",
   "metadata": {
    "ExecuteTime": {
     "end_time": "2022-05-06T05:16:18.242628Z",
     "start_time": "2022-05-06T05:16:18.201634Z"
    }
   },
   "outputs": [
    {
     "data": {
      "text/html": [
       "<div>\n",
       "<style scoped>\n",
       "    .dataframe tbody tr th:only-of-type {\n",
       "        vertical-align: middle;\n",
       "    }\n",
       "\n",
       "    .dataframe tbody tr th {\n",
       "        vertical-align: top;\n",
       "    }\n",
       "\n",
       "    .dataframe thead th {\n",
       "        text-align: right;\n",
       "    }\n",
       "</style>\n",
       "<table border=\"1\" class=\"dataframe\">\n",
       "  <thead>\n",
       "    <tr style=\"text-align: right;\">\n",
       "      <th></th>\n",
       "      <th>0</th>\n",
       "    </tr>\n",
       "  </thead>\n",
       "  <tbody>\n",
       "    <tr>\n",
       "      <th>0</th>\n",
       "      <td>1246482832316301319,1247355493988909056</td>\n",
       "    </tr>\n",
       "    <tr>\n",
       "      <th>1</th>\n",
       "      <td>1252279738099433473,1251884146403815428,125203...</td>\n",
       "    </tr>\n",
       "    <tr>\n",
       "      <th>2</th>\n",
       "      <td>1236050255394877440,1236050046950481922,123605...</td>\n",
       "    </tr>\n",
       "    <tr>\n",
       "      <th>3</th>\n",
       "      <td>1235582115900796928,1235584239497867275,123558...</td>\n",
       "    </tr>\n",
       "    <tr>\n",
       "      <th>4</th>\n",
       "      <td>1258787515592572928,1258710626676899840,125871...</td>\n",
       "    </tr>\n",
       "    <tr>\n",
       "      <th>...</th>\n",
       "      <td>...</td>\n",
       "    </tr>\n",
       "    <tr>\n",
       "      <th>553</th>\n",
       "      <td>427944719612915712,427960532981665792,42794963...</td>\n",
       "    </tr>\n",
       "    <tr>\n",
       "      <th>554</th>\n",
       "      <td>531206167302012929,531228826496679936,53125574...</td>\n",
       "    </tr>\n",
       "    <tr>\n",
       "      <th>555</th>\n",
       "      <td>553099685888790528,553640547282608128,55762731...</td>\n",
       "    </tr>\n",
       "    <tr>\n",
       "      <th>556</th>\n",
       "      <td>1222928724112396288,1222922750546923521,122292...</td>\n",
       "    </tr>\n",
       "    <tr>\n",
       "      <th>557</th>\n",
       "      <td>1239324381215707139,1239324383396716546,123932...</td>\n",
       "    </tr>\n",
       "  </tbody>\n",
       "</table>\n",
       "<p>558 rows × 1 columns</p>\n",
       "</div>"
      ],
      "text/plain": [
       "                                                     0\n",
       "0              1246482832316301319,1247355493988909056\n",
       "1    1252279738099433473,1251884146403815428,125203...\n",
       "2    1236050255394877440,1236050046950481922,123605...\n",
       "3    1235582115900796928,1235584239497867275,123558...\n",
       "4    1258787515592572928,1258710626676899840,125871...\n",
       "..                                                 ...\n",
       "553  427944719612915712,427960532981665792,42794963...\n",
       "554  531206167302012929,531228826496679936,53125574...\n",
       "555  553099685888790528,553640547282608128,55762731...\n",
       "556  1222928724112396288,1222922750546923521,122292...\n",
       "557  1239324381215707139,1239324383396716546,123932...\n",
       "\n",
       "[558 rows x 1 columns]"
      ]
     },
     "execution_count": 6,
     "metadata": {},
     "output_type": "execute_result"
    }
   ],
   "source": [
    "test_ids"
   ]
  },
  {
   "cell_type": "code",
   "execution_count": 9,
   "id": "d3f47e99",
   "metadata": {
    "ExecuteTime": {
     "end_time": "2022-05-06T05:17:24.840414Z",
     "start_time": "2022-05-06T05:17:24.830408Z"
    }
   },
   "outputs": [],
   "source": [
    "def get_tweet_group_data(tweets_file_path, id_list):\n",
    "    data_list = []\n",
    "    for tweet_id in id_list:\n",
    "        file_name = tweets_file_path + tweet_id + \".json\"\n",
    "        with open(file_name) as f:\n",
    "            data = json.load(f)\n",
    "        data_list.append(data)\n",
    "\n",
    "    return data_list"
   ]
  },
  {
   "cell_type": "code",
   "execution_count": 23,
   "id": "59bc2142",
   "metadata": {
    "ExecuteTime": {
     "end_time": "2022-05-06T05:21:38.428847Z",
     "start_time": "2022-05-06T05:21:36.111886Z"
    }
   },
   "outputs": [],
   "source": [
    "data = []\n",
    "for i in range(len(test_ids)):\n",
    "    # get data for each group of tweets\n",
    "    id_list = test_ids.iloc[i][0].split(\",\")\n",
    "    data_list =  get_tweet_group_data(test_file_path, id_list)\n",
    "    data.append(data_list)"
   ]
  },
  {
   "cell_type": "code",
   "execution_count": 22,
   "id": "62a5cc05",
   "metadata": {
    "ExecuteTime": {
     "end_time": "2022-05-06T05:20:58.011408Z",
     "start_time": "2022-05-06T05:20:57.990411Z"
    }
   },
   "outputs": [
    {
     "data": {
      "text/plain": [
       "558"
      ]
     },
     "execution_count": 22,
     "metadata": {},
     "output_type": "execute_result"
    }
   ],
   "source": [
    "len(data)"
   ]
  },
  {
   "cell_type": "code",
   "execution_count": 31,
   "id": "70efc666",
   "metadata": {
    "ExecuteTime": {
     "end_time": "2022-05-06T05:28:45.744084Z",
     "start_time": "2022-05-06T05:28:45.734757Z"
    }
   },
   "outputs": [],
   "source": [
    "df = pd.Series(data).to_frame('data')"
   ]
  },
  {
   "cell_type": "code",
   "execution_count": 33,
   "id": "4180a4bb",
   "metadata": {
    "ExecuteTime": {
     "end_time": "2022-05-06T05:29:44.045847Z",
     "start_time": "2022-05-06T05:29:43.440809Z"
    }
   },
   "outputs": [],
   "source": [
    "df.to_json(\"data/test_data_all.json\", orient='records')"
   ]
  },
  {
   "cell_type": "code",
   "execution_count": 34,
   "id": "7aa6f442",
   "metadata": {
    "ExecuteTime": {
     "end_time": "2022-05-06T05:29:55.825990Z",
     "start_time": "2022-05-06T05:29:54.890988Z"
    }
   },
   "outputs": [
    {
     "data": {
      "text/html": [
       "<div>\n",
       "<style scoped>\n",
       "    .dataframe tbody tr th:only-of-type {\n",
       "        vertical-align: middle;\n",
       "    }\n",
       "\n",
       "    .dataframe tbody tr th {\n",
       "        vertical-align: top;\n",
       "    }\n",
       "\n",
       "    .dataframe thead th {\n",
       "        text-align: right;\n",
       "    }\n",
       "</style>\n",
       "<table border=\"1\" class=\"dataframe\">\n",
       "  <thead>\n",
       "    <tr style=\"text-align: right;\">\n",
       "      <th></th>\n",
       "      <th>data</th>\n",
       "    </tr>\n",
       "  </thead>\n",
       "  <tbody>\n",
       "    <tr>\n",
       "      <th>0</th>\n",
       "      <td>[{'created_at': 'Sat Apr 04 17:00:40 +0000 202...</td>\n",
       "    </tr>\n",
       "    <tr>\n",
       "      <th>1</th>\n",
       "      <td>[{'created_at': 'Mon Apr 20 16:55:30 +0000 202...</td>\n",
       "    </tr>\n",
       "    <tr>\n",
       "      <th>2</th>\n",
       "      <td>[{'created_at': 'Fri Mar 06 22:05:20 +0000 202...</td>\n",
       "    </tr>\n",
       "    <tr>\n",
       "      <th>3</th>\n",
       "      <td>[{'created_at': 'Thu Mar 05 15:05:07 +0000 202...</td>\n",
       "    </tr>\n",
       "    <tr>\n",
       "      <th>4</th>\n",
       "      <td>[{'created_at': 'Fri May 08 15:55:05 +0000 202...</td>\n",
       "    </tr>\n",
       "    <tr>\n",
       "      <th>...</th>\n",
       "      <td>...</td>\n",
       "    </tr>\n",
       "    <tr>\n",
       "      <th>553</th>\n",
       "      <td>[{'created_at': 'Mon Jan 27 23:22:26 +0000 201...</td>\n",
       "    </tr>\n",
       "    <tr>\n",
       "      <th>554</th>\n",
       "      <td>[{'created_at': 'Sat Nov 08 22:06:34 +0000 201...</td>\n",
       "    </tr>\n",
       "    <tr>\n",
       "      <th>555</th>\n",
       "      <td>[{'created_at': 'Thu Jan 08 08:03:35 +0000 201...</td>\n",
       "    </tr>\n",
       "    <tr>\n",
       "      <th>556</th>\n",
       "      <td>[{'created_at': 'Thu Jan 30 17:05:03 +0000 202...</td>\n",
       "    </tr>\n",
       "    <tr>\n",
       "      <th>557</th>\n",
       "      <td>[{'created_at': 'Sun Mar 15 22:55:32 +0000 202...</td>\n",
       "    </tr>\n",
       "  </tbody>\n",
       "</table>\n",
       "<p>558 rows × 1 columns</p>\n",
       "</div>"
      ],
      "text/plain": [
       "                                                  data\n",
       "0    [{'created_at': 'Sat Apr 04 17:00:40 +0000 202...\n",
       "1    [{'created_at': 'Mon Apr 20 16:55:30 +0000 202...\n",
       "2    [{'created_at': 'Fri Mar 06 22:05:20 +0000 202...\n",
       "3    [{'created_at': 'Thu Mar 05 15:05:07 +0000 202...\n",
       "4    [{'created_at': 'Fri May 08 15:55:05 +0000 202...\n",
       "..                                                 ...\n",
       "553  [{'created_at': 'Mon Jan 27 23:22:26 +0000 201...\n",
       "554  [{'created_at': 'Sat Nov 08 22:06:34 +0000 201...\n",
       "555  [{'created_at': 'Thu Jan 08 08:03:35 +0000 201...\n",
       "556  [{'created_at': 'Thu Jan 30 17:05:03 +0000 202...\n",
       "557  [{'created_at': 'Sun Mar 15 22:55:32 +0000 202...\n",
       "\n",
       "[558 rows x 1 columns]"
      ]
     },
     "execution_count": 34,
     "metadata": {},
     "output_type": "execute_result"
    }
   ],
   "source": [
    "pd.read_json(\"data/test_data_all.json\")"
   ]
  },
  {
   "cell_type": "code",
   "execution_count": null,
   "id": "c8d97b12",
   "metadata": {},
   "outputs": [],
   "source": []
  }
 ],
 "metadata": {
  "kernelspec": {
   "display_name": "Python 3 (ipykernel)",
   "language": "python",
   "name": "python3"
  },
  "language_info": {
   "codemirror_mode": {
    "name": "ipython",
    "version": 3
   },
   "file_extension": ".py",
   "mimetype": "text/x-python",
   "name": "python",
   "nbconvert_exporter": "python",
   "pygments_lexer": "ipython3",
   "version": "3.7.6"
  },
  "toc": {
   "base_numbering": 1,
   "nav_menu": {},
   "number_sections": true,
   "sideBar": true,
   "skip_h1_title": false,
   "title_cell": "Table of Contents",
   "title_sidebar": "Contents",
   "toc_cell": false,
   "toc_position": {},
   "toc_section_display": true,
   "toc_window_display": false
  },
  "varInspector": {
   "cols": {
    "lenName": 16,
    "lenType": 16,
    "lenVar": 40
   },
   "kernels_config": {
    "python": {
     "delete_cmd_postfix": "",
     "delete_cmd_prefix": "del ",
     "library": "var_list.py",
     "varRefreshCmd": "print(var_dic_list())"
    },
    "r": {
     "delete_cmd_postfix": ") ",
     "delete_cmd_prefix": "rm(",
     "library": "var_list.r",
     "varRefreshCmd": "cat(var_dic_list()) "
    }
   },
   "types_to_exclude": [
    "module",
    "function",
    "builtin_function_or_method",
    "instance",
    "_Feature"
   ],
   "window_display": false
  }
 },
 "nbformat": 4,
 "nbformat_minor": 5
}
