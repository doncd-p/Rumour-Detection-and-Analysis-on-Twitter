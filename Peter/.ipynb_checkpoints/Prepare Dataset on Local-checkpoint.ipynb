{
 "cells": [
  {
   "cell_type": "code",
   "execution_count": 1,
   "id": "1c4de188",
   "metadata": {
    "ExecuteTime": {
     "end_time": "2022-05-03T01:04:01.501698Z",
     "start_time": "2022-05-03T01:03:43.391006Z"
    }
   },
   "outputs": [],
   "source": [
    "from LoadData import LoadDataAndProcessing, LoadTestDataAndProcessing\n",
    "from RumourDataSet import RumourDataset\n",
    "from torch.utils.data import DataLoader"
   ]
  },
  {
   "cell_type": "code",
   "execution_count": 2,
   "id": "0dbd7982",
   "metadata": {
    "ExecuteTime": {
     "end_time": "2022-05-03T01:04:05.650474Z",
     "start_time": "2022-05-03T01:04:04.956476Z"
    }
   },
   "outputs": [],
   "source": [
    "train_file = \"data/train_data_all.json\"\n",
    "train_label_file = \"data/train.label.txt\"\n",
    "dev_file = \"data/dev_data_all.json\"\n",
    "dev_label_file =  \"data/dev.label.txt\"\n",
    "\n",
    "load_twitter_train_data = LoadDataAndProcessing(train_file, train_label_file)\n",
    "load_twitter_dev_data = LoadDataAndProcessing(dev_file, dev_label_file)"
   ]
  },
  {
   "cell_type": "code",
   "execution_count": 5,
   "id": "aedcb7c2",
   "metadata": {
    "ExecuteTime": {
     "end_time": "2022-05-03T01:06:03.584617Z",
     "start_time": "2022-05-03T01:05:38.822811Z"
    }
   },
   "outputs": [],
   "source": [
    "train_input = load_twitter_train_data.prepareDataset()\n",
    "dev_input = load_twitter_dev_data.prepareDataset()"
   ]
  },
  {
   "cell_type": "code",
   "execution_count": 3,
   "id": "9de50940",
   "metadata": {
    "ExecuteTime": {
     "end_time": "2022-05-03T01:04:13.869974Z",
     "start_time": "2022-05-03T01:04:13.831968Z"
    }
   },
   "outputs": [],
   "source": [
    "tweets_file_path = \"../../project-data/tweet-objects/tweet-objects/\"\n",
    "tweet_data = \"data/test.data.txt\"\n",
    "load_twitter_test_data= LoadTestDataAndProcessing(tweets_file_path, tweet_data)"
   ]
  },
  {
   "cell_type": "code",
   "execution_count": 4,
   "id": "a5735ebd",
   "metadata": {
    "ExecuteTime": {
     "end_time": "2022-05-03T01:05:36.326794Z",
     "start_time": "2022-05-03T01:04:16.534710Z"
    }
   },
   "outputs": [],
   "source": [
    "test_input = load_twitter_test_data.prepareDataset()"
   ]
  },
  {
   "cell_type": "code",
   "execution_count": null,
   "id": "d21bc305",
   "metadata": {},
   "outputs": [],
   "source": []
  },
  {
   "cell_type": "code",
   "execution_count": 7,
   "id": "fd7719e4",
   "metadata": {
    "ExecuteTime": {
     "end_time": "2022-05-03T01:08:26.120779Z",
     "start_time": "2022-05-03T01:08:26.052165Z"
    }
   },
   "outputs": [],
   "source": [
    "import pickle\n",
    "\n",
    "with open(\"data/saved/train_input.pickle\", \"wb\") as file_:\n",
    "    pickle.dump(train_input, file_, -1)\n",
    "\n",
    "with open(\"data/saved/dev_input.pickle\", \"wb\") as file_:\n",
    "    pickle.dump(dev_input, file_, -1)\n",
    "    \n",
    "with open(\"data/saved/test_input.pickle\", \"wb\") as file_:\n",
    "    pickle.dump(test_input, file_, -1)"
   ]
  }
 ],
 "metadata": {
  "kernelspec": {
   "display_name": "Python 3 (ipykernel)",
   "language": "python",
   "name": "python3"
  },
  "language_info": {
   "codemirror_mode": {
    "name": "ipython",
    "version": 3
   },
   "file_extension": ".py",
   "mimetype": "text/x-python",
   "name": "python",
   "nbconvert_exporter": "python",
   "pygments_lexer": "ipython3",
   "version": "3.7.6"
  },
  "varInspector": {
   "cols": {
    "lenName": 16,
    "lenType": 16,
    "lenVar": 40
   },
   "kernels_config": {
    "python": {
     "delete_cmd_postfix": "",
     "delete_cmd_prefix": "del ",
     "library": "var_list.py",
     "varRefreshCmd": "print(var_dic_list())"
    },
    "r": {
     "delete_cmd_postfix": ") ",
     "delete_cmd_prefix": "rm(",
     "library": "var_list.r",
     "varRefreshCmd": "cat(var_dic_list()) "
    }
   },
   "types_to_exclude": [
    "module",
    "function",
    "builtin_function_or_method",
    "instance",
    "_Feature"
   ],
   "window_display": false
  }
 },
 "nbformat": 4,
 "nbformat_minor": 5
}
