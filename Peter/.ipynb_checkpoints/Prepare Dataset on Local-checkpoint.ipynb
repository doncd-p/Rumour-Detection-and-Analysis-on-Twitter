{
 "cells": [
  {
   "cell_type": "code",
   "execution_count": 8,
   "id": "1c4de188",
   "metadata": {
    "ExecuteTime": {
     "end_time": "2022-05-06T13:36:42.602861Z",
     "start_time": "2022-05-06T13:36:42.562847Z"
    }
   },
   "outputs": [],
   "source": [
    "from LoadData import LoadDataAndProcessing\n",
    "from RumourDataSet import RumourDataset\n",
    "import pickle"
   ]
  },
  {
   "cell_type": "code",
   "execution_count": 9,
   "id": "a4320631",
   "metadata": {
    "ExecuteTime": {
     "end_time": "2022-05-06T13:36:43.597160Z",
     "start_time": "2022-05-06T13:36:43.575161Z"
    }
   },
   "outputs": [],
   "source": [
    "train_file = \"data/train_data_prepared.json\"\n",
    "dev_file = \"data/dev_data_prepared.json\"\n",
    "test_file = \"data/test_data_prepared.json\"\n",
    "covid_file = \"data/covid_data_prepared.json\""
   ]
  },
  {
   "cell_type": "code",
   "execution_count": 5,
   "id": "0dbd7982",
   "metadata": {
    "ExecuteTime": {
     "end_time": "2022-05-06T08:48:10.921935Z",
     "start_time": "2022-05-06T08:48:09.838644Z"
    }
   },
   "outputs": [],
   "source": [
    "load_twitter_train_data = LoadDataAndProcessing(train_file)\n",
    "load_twitter_dev_data = LoadDataAndProcessing(dev_file)\n",
    "load_twitter_test_data= LoadDataAndProcessing(test_file)\n",
    "load_twitter_covid_data= LoadDataAndProcessing(covid_file)"
   ]
  },
  {
   "cell_type": "code",
   "execution_count": 6,
   "id": "aedcb7c2",
   "metadata": {
    "ExecuteTime": {
     "end_time": "2022-05-06T08:48:41.266266Z",
     "start_time": "2022-05-06T08:48:11.425060Z"
    }
   },
   "outputs": [],
   "source": [
    "train_input = load_twitter_train_data.prepareDataset()\n",
    "dev_input = load_twitter_dev_data.prepareDataset()\n",
    "test_input = load_twitter_test_data.prepareDataset()\n",
    "covid_input = load_twitter_covid_data.prepareDataset()"
   ]
  },
  {
   "cell_type": "code",
   "execution_count": 7,
   "id": "fd7719e4",
   "metadata": {
    "ExecuteTime": {
     "end_time": "2022-05-06T08:48:41.389300Z",
     "start_time": "2022-05-06T08:48:41.347267Z"
    }
   },
   "outputs": [],
   "source": [
    "with open(\"data/saved/train_input.pickle\", \"wb\") as file_:\n",
    "    pickle.dump(train_input, file_, -1)\n",
    "\n",
    "with open(\"data/saved/dev_input.pickle\", \"wb\") as file_:\n",
    "    pickle.dump(dev_input, file_, -1)\n",
    "    \n",
    "with open(\"data/saved/test_input.pickle\", \"wb\") as file_:\n",
    "    pickle.dump(test_input, file_, -1)\n",
    "    \n",
    "with open(\"data/saved/covid_input.pickle\", \"wb\") as file_:\n",
    "    pickle.dump(covid_input, file_, -1)"
   ]
  }
 ],
 "metadata": {
  "kernelspec": {
   "display_name": "Python 3 (ipykernel)",
   "language": "python",
   "name": "python3"
  },
  "language_info": {
   "codemirror_mode": {
    "name": "ipython",
    "version": 3
   },
   "file_extension": ".py",
   "mimetype": "text/x-python",
   "name": "python",
   "nbconvert_exporter": "python",
   "pygments_lexer": "ipython3",
   "version": "3.7.6"
  },
  "toc": {
   "base_numbering": 1,
   "nav_menu": {},
   "number_sections": true,
   "sideBar": true,
   "skip_h1_title": false,
   "title_cell": "Table of Contents",
   "title_sidebar": "Contents",
   "toc_cell": false,
   "toc_position": {},
   "toc_section_display": true,
   "toc_window_display": false
  },
  "varInspector": {
   "cols": {
    "lenName": 16,
    "lenType": 16,
    "lenVar": 40
   },
   "kernels_config": {
    "python": {
     "delete_cmd_postfix": "",
     "delete_cmd_prefix": "del ",
     "library": "var_list.py",
     "varRefreshCmd": "print(var_dic_list())"
    },
    "r": {
     "delete_cmd_postfix": ") ",
     "delete_cmd_prefix": "rm(",
     "library": "var_list.r",
     "varRefreshCmd": "cat(var_dic_list()) "
    }
   },
   "types_to_exclude": [
    "module",
    "function",
    "builtin_function_or_method",
    "instance",
    "_Feature"
   ],
   "window_display": false
  }
 },
 "nbformat": 4,
 "nbformat_minor": 5
}
