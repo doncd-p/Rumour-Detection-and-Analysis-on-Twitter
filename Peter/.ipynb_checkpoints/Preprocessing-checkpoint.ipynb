{
 "cells": [
  {
   "cell_type": "code",
   "execution_count": 28,
   "id": "192e5fed",
   "metadata": {
    "ExecuteTime": {
     "end_time": "2022-05-06T13:27:35.260570Z",
     "start_time": "2022-05-06T13:27:35.242937Z"
    }
   },
   "outputs": [],
   "source": [
    "import pandas as pd\n",
    "import json\n",
    "from pprint import pprint\n",
    "import dateutil.parser as parser\n",
    "import networkx as nx\n",
    "from matplotlib import pyplot as plt\n",
    "import seaborn as sns\n",
    "from datetime import datetime"
   ]
  },
  {
   "cell_type": "markdown",
   "id": "165a64ed",
   "metadata": {
    "heading_collapsed": true
   },
   "source": [
    "### Get valid data ids/labels"
   ]
  },
  {
   "cell_type": "code",
   "execution_count": 1,
   "id": "038e5797",
   "metadata": {
    "ExecuteTime": {
     "end_time": "2022-05-05T09:08:40.387486Z",
     "start_time": "2022-05-05T09:08:39.613216Z"
    },
    "hidden": true
   },
   "outputs": [],
   "source": [
    "def read_file(file_name):\n",
    "    '''\n",
    "    This function will read the file containing tweet ids sperating by lines (in groups)\n",
    "    '''\n",
    "    all_ids = pd.read_table(file_name,sep='\\n',header=None)\n",
    "    return all_ids"
   ]
  },
  {
   "cell_type": "code",
   "execution_count": null,
   "id": "282d68db",
   "metadata": {
    "hidden": true
   },
   "outputs": [],
   "source": [
    "def get_new_data_ids(ids_file, data_all_file, output):\n",
    "    original_ids = read_file(ids_file)\n",
    "\n",
    "    tweets = pd.read_json(data_all_file)\n",
    "\n",
    "    valid_ids = original_ids.iloc[tweets.keys()]\n",
    "\n",
    "    valid_ids.to_csv(output, index=False, header=False)"
   ]
  },
  {
   "cell_type": "code",
   "execution_count": null,
   "id": "597f25dc",
   "metadata": {
    "hidden": true
   },
   "outputs": [],
   "source": [
    "get_new_data_ids('../../project-data/train.data.txt', \"data/train_data_all.json\", \"data/valid.train.ids.txt\")\n",
    "get_new_data_ids('../../project-data/train.label.txt', \"data/train_data_all.json\", \"data/valid.train.label.txt\")"
   ]
  },
  {
   "cell_type": "code",
   "execution_count": null,
   "id": "e607123d",
   "metadata": {
    "hidden": true
   },
   "outputs": [],
   "source": [
    "get_new_data_ids('../../project-data/dev.data.txt', \"data/dev_data_all.json\", \"data/valid.dev.ids.txt\")\n",
    "get_new_data_ids('../../project-data/dev.label.txt', \"data/dev_data_all.json\", \"data/valid.dev.label.txt\")"
   ]
  },
  {
   "cell_type": "code",
   "execution_count": null,
   "id": "e38d50f5",
   "metadata": {
    "hidden": true
   },
   "outputs": [],
   "source": [
    "get_new_data_ids('../../project-data/covid.data.txt', \"data/covid_data_all.json\", \"data/valid.covid.ids.txt\")"
   ]
  },
  {
   "cell_type": "markdown",
   "id": "66a3e58f",
   "metadata": {},
   "source": [
    "### Merge and organise the information"
   ]
  },
  {
   "cell_type": "code",
   "execution_count": 507,
   "id": "48faad6a",
   "metadata": {
    "ExecuteTime": {
     "end_time": "2022-05-06T06:03:09.584087Z",
     "start_time": "2022-05-06T06:03:09.560091Z"
    }
   },
   "outputs": [],
   "source": [
    "def merge_info(file, label_file, output):\n",
    "    labels = read_file(label_file)\n",
    "    tweets = pd.read_json(file)\n",
    "    tweets = tweets.T.reset_index(drop=True)\n",
    "    \n",
    "    tweets['label'] = labels[0].reset_index(drop=True)\n",
    "    tweets['label'] = tweets['label'].apply(lambda x: 1 if x == 'rumour' else 0)\n",
    "\n",
    "    # get all users info in a dict by author id\n",
    "    users_info = tweets['includes'].map(\n",
    "        lambda x: {n['id']: n\n",
    "                   for n in x['users']})\n",
    "    users_dict = {}\n",
    "    for i in range(len(users_info)):\n",
    "        users_dict.update(users_info[i])\n",
    "\n",
    "    for i in range(len(tweets)):\n",
    "        for tweet in tweets['data'][i]:\n",
    "\n",
    "            # add in_reply_to_status_id info to tweet\n",
    "            if 'referenced_tweets' in tweet:\n",
    "                if len(tweet['referenced_tweets']) == 1:\n",
    "                    tweet['in_reply_to_status_id'] = tweet[\n",
    "                        'referenced_tweets'][0]['id']\n",
    "                else:\n",
    "                    for ref in tweet['referenced_tweets']:\n",
    "                        if ref['type'] == 'replied_to':\n",
    "                            tweet['in_reply_to_status_id'] = tweet[\n",
    "                                'referenced_tweets'][0]['id']\n",
    "            else:\n",
    "                tweet['in_reply_to_user_id'] = None\n",
    "                tweet['in_reply_to_status_id'] = None\n",
    "\n",
    "            # add user info to tweet info by author id\n",
    "            tweet['user'] = users_dict[tweet['author_id']]\n",
    "            \n",
    "    tweets.drop(['includes', 'errors'], axis=1, inplace=True)\n",
    "    \n",
    "    tweets.to_json(output, orient='records')"
   ]
  },
  {
   "cell_type": "code",
   "execution_count": 26,
   "id": "9c3cbe5c",
   "metadata": {
    "ExecuteTime": {
     "end_time": "2022-05-06T13:26:44.185699Z",
     "start_time": "2022-05-06T13:26:44.089097Z"
    },
    "code_folding": [
     0
    ]
   },
   "outputs": [],
   "source": [
    "def merge_covid_info(file, output):\n",
    "    tweets = pd.read_json(file)\n",
    "    tweets = tweets.T.reset_index(drop=True)\n",
    "\n",
    "    # get all users info in a dict by author id\n",
    "    users_info = tweets['includes'].map(\n",
    "        lambda x: {n['id']: n\n",
    "                   for n in x['users']})\n",
    "    users_dict = {}\n",
    "    for i in range(len(users_info)):\n",
    "        users_dict.update(users_info[i])\n",
    "\n",
    "    for i in range(len(tweets)):\n",
    "        for tweet in tweets['data'][i]:\n",
    "\n",
    "            # add in_reply_to_status_id info to tweet\n",
    "            if 'referenced_tweets' in tweet:\n",
    "                if len(tweet['referenced_tweets']) == 1:\n",
    "                    tweet['in_reply_to_status_id'] = tweet[\n",
    "                        'referenced_tweets'][0]['id']\n",
    "                else:\n",
    "                    for ref in tweet['referenced_tweets']:\n",
    "                        if ref['type'] == 'replied_to':\n",
    "                            tweet['in_reply_to_status_id'] = tweet[\n",
    "                                'referenced_tweets'][0]['id']\n",
    "            else:\n",
    "                tweet['in_reply_to_user_id'] = None\n",
    "                tweet['in_reply_to_status_id'] = None\n",
    "\n",
    "            # add user info to tweet info by author id\n",
    "            tweet['user'] = users_dict[tweet['author_id']]\n",
    "            \n",
    "    tweets.drop(['includes', 'errors'], axis=1, inplace=True)\n",
    "    \n",
    "    tweets.to_json(output, orient='records')"
   ]
  },
  {
   "cell_type": "code",
   "execution_count": 508,
   "id": "58458601",
   "metadata": {
    "ExecuteTime": {
     "end_time": "2022-05-06T06:03:13.634332Z",
     "start_time": "2022-05-06T06:03:11.829998Z"
    }
   },
   "outputs": [],
   "source": [
    "merge_info(\"data/train_data_all.json\", 'data/valid.train.label.txt', \"data/train_data_merged.json\")\n",
    "merge_info(\"data/dev_data_all.json\", 'data/valid.dev.label.txt', \"data/dev_data_merged.json\")"
   ]
  },
  {
   "cell_type": "code",
   "execution_count": 29,
   "id": "e722d3a1",
   "metadata": {
    "ExecuteTime": {
     "end_time": "2022-05-06T13:28:18.709169Z",
     "start_time": "2022-05-06T13:27:39.157103Z"
    }
   },
   "outputs": [],
   "source": [
    "merge_covid_info(\"data/covid_data_all.json\", \"data/covid_data_merged.json\")"
   ]
  },
  {
   "cell_type": "code",
   "execution_count": 30,
   "id": "04c6fa2d",
   "metadata": {
    "ExecuteTime": {
     "end_time": "2022-05-06T13:28:49.497750Z",
     "start_time": "2022-05-06T13:28:49.482753Z"
    },
    "scrolled": true
   },
   "outputs": [],
   "source": [
    "train_data_merged = pd.read_json(\"data/train_data_merged.json\")\n",
    "# train_data_merged"
   ]
  },
  {
   "cell_type": "code",
   "execution_count": 510,
   "id": "098bb184",
   "metadata": {
    "ExecuteTime": {
     "end_time": "2022-05-06T06:03:23.201265Z",
     "start_time": "2022-05-06T06:03:22.981272Z"
    },
    "scrolled": true
   },
   "outputs": [],
   "source": [
    "dev_data_merged = pd.read_json(\"data/dev_data_merged.json\")\n",
    "# dev_data_prepared"
   ]
  },
  {
   "cell_type": "code",
   "execution_count": 31,
   "id": "e4840201",
   "metadata": {
    "ExecuteTime": {
     "end_time": "2022-05-06T13:29:16.487072Z",
     "start_time": "2022-05-06T13:29:11.310242Z"
    }
   },
   "outputs": [
    {
     "data": {
      "text/html": [
       "<div>\n",
       "<style scoped>\n",
       "    .dataframe tbody tr th:only-of-type {\n",
       "        vertical-align: middle;\n",
       "    }\n",
       "\n",
       "    .dataframe tbody tr th {\n",
       "        vertical-align: top;\n",
       "    }\n",
       "\n",
       "    .dataframe thead th {\n",
       "        text-align: right;\n",
       "    }\n",
       "</style>\n",
       "<table border=\"1\" class=\"dataframe\">\n",
       "  <thead>\n",
       "    <tr style=\"text-align: right;\">\n",
       "      <th></th>\n",
       "      <th>data</th>\n",
       "    </tr>\n",
       "  </thead>\n",
       "  <tbody>\n",
       "    <tr>\n",
       "      <th>0</th>\n",
       "      <td>[{'lang': 'en', 'author_id': '16973333', 'conv...</td>\n",
       "    </tr>\n",
       "    <tr>\n",
       "      <th>1</th>\n",
       "      <td>[{'created_at': '2020-07-09T18:37:32.000Z', 'i...</td>\n",
       "    </tr>\n",
       "    <tr>\n",
       "      <th>2</th>\n",
       "      <td>[{'lang': 'en', 'possibly_sensitive': False, '...</td>\n",
       "    </tr>\n",
       "    <tr>\n",
       "      <th>3</th>\n",
       "      <td>[{'created_at': '2020-03-27T05:07:37.000Z', 'i...</td>\n",
       "    </tr>\n",
       "    <tr>\n",
       "      <th>4</th>\n",
       "      <td>[{'lang': 'en', 'author_id': '33537967', 'conv...</td>\n",
       "    </tr>\n",
       "    <tr>\n",
       "      <th>...</th>\n",
       "      <td>...</td>\n",
       "    </tr>\n",
       "    <tr>\n",
       "      <th>13449</th>\n",
       "      <td>[{'text': 'Great news amidst the COVID19 Pande...</td>\n",
       "    </tr>\n",
       "    <tr>\n",
       "      <th>13450</th>\n",
       "      <td>[{'possibly_sensitive': False, 'text': 'One th...</td>\n",
       "    </tr>\n",
       "    <tr>\n",
       "      <th>13451</th>\n",
       "      <td>[{'created_at': '2020-07-02T11:18:47.000Z', 'i...</td>\n",
       "    </tr>\n",
       "    <tr>\n",
       "      <th>13452</th>\n",
       "      <td>[{'lang': 'ro', 'id': '1257748545744113665', '...</td>\n",
       "    </tr>\n",
       "    <tr>\n",
       "      <th>13453</th>\n",
       "      <td>[{'created_at': '2020-04-14T17:40:09.000Z', 'i...</td>\n",
       "    </tr>\n",
       "  </tbody>\n",
       "</table>\n",
       "<p>13454 rows × 1 columns</p>\n",
       "</div>"
      ],
      "text/plain": [
       "                                                    data\n",
       "0      [{'lang': 'en', 'author_id': '16973333', 'conv...\n",
       "1      [{'created_at': '2020-07-09T18:37:32.000Z', 'i...\n",
       "2      [{'lang': 'en', 'possibly_sensitive': False, '...\n",
       "3      [{'created_at': '2020-03-27T05:07:37.000Z', 'i...\n",
       "4      [{'lang': 'en', 'author_id': '33537967', 'conv...\n",
       "...                                                  ...\n",
       "13449  [{'text': 'Great news amidst the COVID19 Pande...\n",
       "13450  [{'possibly_sensitive': False, 'text': 'One th...\n",
       "13451  [{'created_at': '2020-07-02T11:18:47.000Z', 'i...\n",
       "13452  [{'lang': 'ro', 'id': '1257748545744113665', '...\n",
       "13453  [{'created_at': '2020-04-14T17:40:09.000Z', 'i...\n",
       "\n",
       "[13454 rows x 1 columns]"
      ]
     },
     "execution_count": 31,
     "metadata": {},
     "output_type": "execute_result"
    }
   ],
   "source": [
    "covid_data_merged = pd.read_json(\"data/covid_data_merged.json\")\n",
    "# covid_data_merged"
   ]
  },
  {
   "cell_type": "markdown",
   "id": "e4b80105",
   "metadata": {},
   "source": [
    "### Filter the replies"
   ]
  },
  {
   "cell_type": "markdown",
   "id": "6d693ec1",
   "metadata": {
    "heading_collapsed": true
   },
   "source": [
    "#### Change the format of 'created_at' fields for testset"
   ]
  },
  {
   "cell_type": "code",
   "execution_count": 511,
   "id": "259fa9bc",
   "metadata": {
    "ExecuteTime": {
     "end_time": "2022-05-06T06:03:26.288655Z",
     "start_time": "2022-05-06T06:03:25.229988Z"
    },
    "hidden": true
   },
   "outputs": [],
   "source": [
    "for i in range(len(test_data)):\n",
    "    for tweet in test_data['data'][i]: \n",
    "        text = tweet['created_at']\n",
    "        date = parser.parse(text)\n",
    "        tweet['created_at'] = str(date.isoformat().replace('+00:00', '.000Z'))\n",
    "        tweet['user']['created_at'] = str(date.isoformat().replace('+00:00', '.000Z'))"
   ]
  },
  {
   "cell_type": "code",
   "execution_count": 506,
   "id": "3c4a529c",
   "metadata": {
    "ExecuteTime": {
     "end_time": "2022-05-06T06:01:13.908237Z",
     "start_time": "2022-05-06T06:01:12.748162Z"
    },
    "hidden": true
   },
   "outputs": [],
   "source": [
    "test_data.to_json(\"data/test_data_all.json\", orient='records')"
   ]
  },
  {
   "cell_type": "code",
   "execution_count": 503,
   "id": "9f39aa20",
   "metadata": {
    "ExecuteTime": {
     "end_time": "2022-05-06T05:58:56.271926Z",
     "start_time": "2022-05-06T05:58:55.809102Z"
    },
    "hidden": true
   },
   "outputs": [],
   "source": [
    "test_data = pd.read_json(\"data/test_data_all.json\")\n",
    "# test_data"
   ]
  },
  {
   "cell_type": "markdown",
   "id": "3dc97a49",
   "metadata": {
    "heading_collapsed": true
   },
   "source": [
    "#### Check the number of tweets per group before filter"
   ]
  },
  {
   "cell_type": "code",
   "execution_count": 19,
   "id": "c329c1b8",
   "metadata": {
    "ExecuteTime": {
     "end_time": "2022-05-06T12:44:17.486292Z",
     "start_time": "2022-05-06T12:44:17.451293Z"
    },
    "hidden": true
   },
   "outputs": [],
   "source": [
    "lens = []\n",
    "for i in range(len(train_data_merged)):\n",
    "    lens.append(len(train_data_merged['data'][i]))"
   ]
  },
  {
   "cell_type": "code",
   "execution_count": 21,
   "id": "1a4782f1",
   "metadata": {
    "ExecuteTime": {
     "end_time": "2022-05-06T12:44:24.344248Z",
     "start_time": "2022-05-06T12:44:23.488959Z"
    },
    "hidden": true
   },
   "outputs": [
    {
     "data": {
      "text/plain": [
       "(0.0, 20.0)"
      ]
     },
     "execution_count": 21,
     "metadata": {},
     "output_type": "execute_result"
    },
    {
     "data": {
      "image/png": "[encoded data removed]",
      "text/plain": [
       "<Figure size 648x432 with 1 Axes>"
      ]
     },
     "metadata": {},
     "output_type": "display_data"
    }
   ],
   "source": [
    "sns.set(rc={'figure.figsize':(9,6)})\n",
    "ax = sns.histplot(lens)\n",
    "plt.xlabel('Number of Tweets (0-50)', fontsize=14)\n",
    "plt.ylabel('Count', fontsize=14)\n",
    "plt.title(\"Number of Tweets Per Group\", fontsize=14)\n",
    "plt.xlim(0, 20)"
   ]
  },
  {
   "cell_type": "markdown",
   "id": "2f7ccb57",
   "metadata": {},
   "source": [
    "#### Filter the reply by building trees"
   ]
  },
  {
   "cell_type": "code",
   "execution_count": 32,
   "id": "9fa85d0d",
   "metadata": {
    "ExecuteTime": {
     "end_time": "2022-05-06T13:30:15.230530Z",
     "start_time": "2022-05-06T13:30:13.913969Z"
    },
    "code_folding": [
     0
    ]
   },
   "outputs": [],
   "source": [
    "def build_tree(tweets):\n",
    "    nodes = set()\n",
    "    edges = []\n",
    "    id_data = {}\n",
    "    id_treeid = {}\n",
    "    parent_children = {}\n",
    "    child_parent = {}\n",
    "\n",
    "    def check_trees(node_id):\n",
    "        tree_id = id_treeid[node_id]\n",
    "\n",
    "        if node_id in parent_children:\n",
    "            for child_id in parent_children[node_id]:\n",
    "                if child_id not in id_treeid or id_treeid[\n",
    "                        child_id] != id_treeid[node_id]:\n",
    "                    id_treeid[child_id] = id_treeid[node_id]\n",
    "                    check_trees(child_id)\n",
    "                    \n",
    "    for tweet in tweets:\n",
    "        node_id = tweet['id']\n",
    "        id_data[node_id] = tweet \n",
    "\n",
    "        # 0 as tree id for source tweet\n",
    "        # MIGHT NEED TO CONSIDER WHETHER TO INVOLVE THE FIRST TWEET AS A REPLY\n",
    "        if tweet == tweets[0]:\n",
    "            id_treeid[node_id] = 0\n",
    "            continue\n",
    "\n",
    "        if tweet['in_reply_to_status_id'] != None:\n",
    "            parent_id = tweet['in_reply_to_status_id']\n",
    "            child_parent[node_id] = parent_id\n",
    "\n",
    "            if parent_id not in parent_children:\n",
    "                parent_children[parent_id] = set()\n",
    "            parent_children[parent_id].add(node_id)\n",
    "\n",
    "            # check if the parent of current node already existed in any tree\n",
    "            # if so change the children ids to upper tree id\n",
    "            if parent_id in id_treeid:\n",
    "                check_trees(parent_id)\n",
    "                pass\n",
    "            else:\n",
    "                tree_id = len(id_treeid)\n",
    "                id_treeid[node_id] = tree_id\n",
    "                id_treeid[parent_id] = tree_id\n",
    "\n",
    "    # get nodes and edges in the tree of the source\n",
    "    for node_id, tree_id in id_treeid.items():\n",
    "        if tree_id == 0:\n",
    "            nodes.add(node_id)\n",
    "            if node_id in child_parent:\n",
    "                edges.append([node_id, child_parent[node_id]])\n",
    "\n",
    "    return nodes, edges, id_treeid, id_data"
   ]
  },
  {
   "cell_type": "code",
   "execution_count": 33,
   "id": "dbaa8cdb",
   "metadata": {
    "ExecuteTime": {
     "end_time": "2022-05-06T13:30:21.078542Z",
     "start_time": "2022-05-06T13:30:16.381717Z"
    },
    "code_folding": []
   },
   "outputs": [],
   "source": [
    "def filter_reply(file, output):\n",
    "    tweets = pd.read_json(file)\n",
    "    for i in range(len(tweets)):\n",
    "        data = tweets['data'][i]\n",
    "        first_tweet = data[0]\n",
    "        \n",
    "        # sort the reply by time\n",
    "        reply_sorted_by_time = sorted(\n",
    "            data[1:],\n",
    "            key=lambda t: datetime.strptime(t['created_at'],\n",
    "                                            '%Y-%m-%dT%H:%M:%S.000Z'))\n",
    "        sorted_list = [first_tweet]\n",
    "        sorted_list.extend(reply_sorted_by_time)\n",
    "        tweets.at[i, 'data'] = sorted_list\n",
    "        \n",
    "        # filter the reply by only keeping the reply in the tree of the source\n",
    "        tree_data = build_tree(sorted_list)\n",
    "        tweet_id_list = [_id for _id, tree_id in tree_data[-2].items() if tree_id == 0]\n",
    "        new_tweet_data = [tree_data[-1][_id] for _id in tweet_id_list]\n",
    "        tweets.at[i, 'data'] = new_tweet_data\n",
    "    \n",
    "    tweets.to_json(output, orient='records')"
   ]
  },
  {
   "cell_type": "code",
   "execution_count": 13,
   "id": "8ccf5ebf",
   "metadata": {
    "ExecuteTime": {
     "end_time": "2022-05-06T08:47:19.228444Z",
     "start_time": "2022-05-06T08:47:16.996161Z"
    }
   },
   "outputs": [],
   "source": [
    "filter_reply(\"data/train_data_merged.json\", \"data/train_data_prepared.json\")\n",
    "filter_reply(\"data/dev_data_merged.json\", \"data/dev_data_prepared.json\")\n",
    "filter_reply(\"data/test_data_all.json\", \"data/test_data_prepared.json\")"
   ]
  },
  {
   "cell_type": "code",
   "execution_count": 34,
   "id": "6756ac8f",
   "metadata": {
    "ExecuteTime": {
     "end_time": "2022-05-06T13:32:12.116872Z",
     "start_time": "2022-05-06T13:31:49.987915Z"
    }
   },
   "outputs": [],
   "source": [
    "filter_reply(\"data/covid_data_merged.json\", \"data/covid_data_prepared.json\")"
   ]
  },
  {
   "cell_type": "markdown",
   "id": "80785f6f",
   "metadata": {},
   "source": [
    "#### Check the number of tweets per group after filter"
   ]
  },
  {
   "cell_type": "code",
   "execution_count": 22,
   "id": "6f20a5d2",
   "metadata": {
    "ExecuteTime": {
     "end_time": "2022-05-06T12:44:31.944449Z",
     "start_time": "2022-05-06T12:44:31.338449Z"
    },
    "scrolled": false
   },
   "outputs": [],
   "source": [
    "train_data_prepared = pd.read_json(\"data/train_data_prepared.json\")\n",
    "# train_data_filtered"
   ]
  },
  {
   "cell_type": "code",
   "execution_count": 23,
   "id": "3933a081",
   "metadata": {
    "ExecuteTime": {
     "end_time": "2022-05-06T12:44:32.971877Z",
     "start_time": "2022-05-06T12:44:32.942540Z"
    }
   },
   "outputs": [],
   "source": [
    "lens = []\n",
    "for i in range(len(train_data_prepared)):\n",
    "    lens.append(len(train_data_prepared['data'][i]))"
   ]
  },
  {
   "cell_type": "code",
   "execution_count": 24,
   "id": "06c89559",
   "metadata": {
    "ExecuteTime": {
     "end_time": "2022-05-06T12:44:36.311885Z",
     "start_time": "2022-05-06T12:44:35.399637Z"
    }
   },
   "outputs": [
    {
     "data": {
      "text/plain": [
       "(0.0, 20.0)"
      ]
     },
     "execution_count": 24,
     "metadata": {},
     "output_type": "execute_result"
    },
    {
     "data": {
      "image/png": "[encoded data removed]",
      "text/plain": [
       "<Figure size 648x432 with 1 Axes>"
      ]
     },
     "metadata": {},
     "output_type": "display_data"
    }
   ],
   "source": [
    "sns.set(rc={'figure.figsize':(9,6)})\n",
    "ax = sns.histplot(lens)\n",
    "plt.xlabel('Number of Tweets (0-50)', fontsize=14)\n",
    "plt.ylabel('Count', fontsize=14)\n",
    "plt.title(\"Number of Tweets Per Group\", fontsize=14)\n",
    "plt.xlim(0, 20)"
   ]
  },
  {
   "cell_type": "code",
   "execution_count": null,
   "id": "50fb74bb",
   "metadata": {},
   "outputs": [],
   "source": []
  },
  {
   "cell_type": "markdown",
   "id": "aa8a43c4",
   "metadata": {
    "heading_collapsed": true
   },
   "source": [
    "#### Test building the tree"
   ]
  },
  {
   "cell_type": "code",
   "execution_count": 411,
   "id": "bb1b9ad5",
   "metadata": {
    "ExecuteTime": {
     "end_time": "2022-05-05T19:26:14.361131Z",
     "start_time": "2022-05-05T19:26:14.350098Z"
    },
    "hidden": true
   },
   "outputs": [],
   "source": [
    "sample = dev_data_prepared['data'][198]"
   ]
  },
  {
   "cell_type": "code",
   "execution_count": 412,
   "id": "cf6c767c",
   "metadata": {
    "ExecuteTime": {
     "end_time": "2022-05-05T19:26:18.392397Z",
     "start_time": "2022-05-05T19:26:18.382963Z"
    },
    "hidden": true
   },
   "outputs": [],
   "source": [
    "res = build_trees(sample)"
   ]
  },
  {
   "cell_type": "code",
   "execution_count": 415,
   "id": "ecd724db",
   "metadata": {
    "ExecuteTime": {
     "end_time": "2022-05-05T19:26:41.414144Z",
     "start_time": "2022-05-05T19:26:41.403111Z"
    },
    "hidden": true
   },
   "outputs": [
    {
     "data": {
      "text/plain": [
       "({'1254431240289226758', '1254446821356843009'},\n",
       " [['1254446821356843009', '1254431240289226758']],\n",
       " {'1254431240289226758': 0,\n",
       "  '1254394786108366849': 1,\n",
       "  '1254390754845302785': 1,\n",
       "  '1254399630298791937': 1,\n",
       "  '1254400311910940672': 1,\n",
       "  '1254401887597727744': 1,\n",
       "  '1254402675501826048': 1,\n",
       "  '1254404150491787264': 1,\n",
       "  '1254404691301150722': 1,\n",
       "  '1254415028607950857': 1,\n",
       "  '1254416388694978560': 1,\n",
       "  '1254446821356843009': 0})"
      ]
     },
     "execution_count": 415,
     "metadata": {},
     "output_type": "execute_result"
    }
   ],
   "source": [
    "res[:-1]"
   ]
  },
  {
   "cell_type": "code",
   "execution_count": 413,
   "id": "ad31c135",
   "metadata": {
    "ExecuteTime": {
     "end_time": "2022-05-05T19:26:23.876127Z",
     "start_time": "2022-05-05T19:26:23.650681Z"
    },
    "hidden": true
   },
   "outputs": [
    {
     "data": {
      "image/png": "[encoded data removed]",
      "text/plain": [
       "<Figure size 432x288 with 1 Axes>"
      ]
     },
     "metadata": {},
     "output_type": "display_data"
    }
   ],
   "source": [
    "tree = nx.DiGraph()\n",
    "tree.add_nodes_from(res[0])\n",
    "tree.add_edges_from(res[1])\n",
    "\n",
    "nx.draw_networkx(tree, with_labels=False)"
   ]
  }
 ],
 "metadata": {
  "kernelspec": {
   "display_name": "Python 3 (ipykernel)",
   "language": "python",
   "name": "python3"
  },
  "language_info": {
   "codemirror_mode": {
    "name": "ipython",
    "version": 3
   },
   "file_extension": ".py",
   "mimetype": "text/x-python",
   "name": "python",
   "nbconvert_exporter": "python",
   "pygments_lexer": "ipython3",
   "version": "3.7.6"
  },
  "toc": {
   "base_numbering": 1,
   "nav_menu": {},
   "number_sections": true,
   "sideBar": true,
   "skip_h1_title": false,
   "title_cell": "Table of Contents",
   "title_sidebar": "Contents",
   "toc_cell": false,
   "toc_position": {},
   "toc_section_display": true,
   "toc_window_display": false
  },
  "varInspector": {
   "cols": {
    "lenName": 16,
    "lenType": 16,
    "lenVar": 40
   },
   "kernels_config": {
    "python": {
     "delete_cmd_postfix": "",
     "delete_cmd_prefix": "del ",
     "library": "var_list.py",
     "varRefreshCmd": "print(var_dic_list())"
    },
    "r": {
     "delete_cmd_postfix": ") ",
     "delete_cmd_prefix": "rm(",
     "library": "var_list.r",
     "varRefreshCmd": "cat(var_dic_list()) "
    }
   },
   "types_to_exclude": [
    "module",
    "function",
    "builtin_function_or_method",
    "instance",
    "_Feature"
   ],
   "window_display": false
  }
 },
 "nbformat": 4,
 "nbformat_minor": 5
}
