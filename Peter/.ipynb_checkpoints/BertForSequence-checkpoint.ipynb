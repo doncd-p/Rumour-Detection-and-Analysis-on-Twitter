{
 "cells": [
  {
   "cell_type": "markdown",
   "metadata": {
    "id": "DhyE9siDfopm"
   },
   "source": [
    "# **Import and Install**"
   ]
  },
  {
   "cell_type": "code",
   "execution_count": null,
   "metadata": {
    "colab": {
     "base_uri": "https://localhost:8080/"
    },
    "id": "Qe613V6FGwJM",
    "outputId": "39203db7-7b89-4b6b-943c-aa9048baa9bd"
   },
   "outputs": [
    {
     "name": "stdout",
     "output_type": "stream",
     "text": [
      "Requirement already satisfied: torch in /usr/local/lib/python3.7/dist-packages (1.11.0+cu113)\n",
      "Requirement already satisfied: torchvision in /usr/local/lib/python3.7/dist-packages (0.12.0+cu113)\n",
      "Collecting transformers\n",
      "  Downloading transformers-4.18.0-py3-none-any.whl (4.0 MB)\n",
      "\u001b[K     |████████████████████████████████| 4.0 MB 34.2 MB/s \n",
      "\u001b[?25hRequirement already satisfied: typing-extensions in /usr/local/lib/python3.7/dist-packages (from torch) (4.2.0)\n",
      "Requirement already satisfied: requests in /usr/local/lib/python3.7/dist-packages (from torchvision) (2.23.0)\n",
      "Requirement already satisfied: pillow!=8.3.*,>=5.3.0 in /usr/local/lib/python3.7/dist-packages (from torchvision) (7.1.2)\n",
      "Requirement already satisfied: numpy in /usr/local/lib/python3.7/dist-packages (from torchvision) (1.21.6)\n",
      "Collecting huggingface-hub<1.0,>=0.1.0\n",
      "  Downloading huggingface_hub-0.5.1-py3-none-any.whl (77 kB)\n",
      "\u001b[K     |████████████████████████████████| 77 kB 8.4 MB/s \n",
      "\u001b[?25hCollecting pyyaml>=5.1\n",
      "  Downloading PyYAML-6.0-cp37-cp37m-manylinux_2_5_x86_64.manylinux1_x86_64.manylinux_2_12_x86_64.manylinux2010_x86_64.whl (596 kB)\n",
      "\u001b[K     |████████████████████████████████| 596 kB 73.2 MB/s \n",
      "\u001b[?25hRequirement already satisfied: filelock in /usr/local/lib/python3.7/dist-packages (from transformers) (3.6.0)\n",
      "Collecting sacremoses\n",
      "  Downloading sacremoses-0.0.53.tar.gz (880 kB)\n",
      "\u001b[K     |████████████████████████████████| 880 kB 74.4 MB/s \n",
      "\u001b[?25hRequirement already satisfied: regex!=2019.12.17 in /usr/local/lib/python3.7/dist-packages (from transformers) (2019.12.20)\n",
      "Requirement already satisfied: importlib-metadata in /usr/local/lib/python3.7/dist-packages (from transformers) (4.11.3)\n",
      "Requirement already satisfied: tqdm>=4.27 in /usr/local/lib/python3.7/dist-packages (from transformers) (4.64.0)\n",
      "Collecting tokenizers!=0.11.3,<0.13,>=0.11.1\n",
      "  Downloading tokenizers-0.12.1-cp37-cp37m-manylinux_2_12_x86_64.manylinux2010_x86_64.whl (6.6 MB)\n",
      "\u001b[K     |████████████████████████████████| 6.6 MB 59.4 MB/s \n",
      "\u001b[?25hRequirement already satisfied: packaging>=20.0 in /usr/local/lib/python3.7/dist-packages (from transformers) (21.3)\n",
      "Requirement already satisfied: pyparsing!=3.0.5,>=2.0.2 in /usr/local/lib/python3.7/dist-packages (from packaging>=20.0->transformers) (3.0.8)\n",
      "Requirement already satisfied: zipp>=0.5 in /usr/local/lib/python3.7/dist-packages (from importlib-metadata->transformers) (3.8.0)\n",
      "Requirement already satisfied: chardet<4,>=3.0.2 in /usr/local/lib/python3.7/dist-packages (from requests->torchvision) (3.0.4)\n",
      "Requirement already satisfied: certifi>=2017.4.17 in /usr/local/lib/python3.7/dist-packages (from requests->torchvision) (2021.10.8)\n",
      "Requirement already satisfied: idna<3,>=2.5 in /usr/local/lib/python3.7/dist-packages (from requests->torchvision) (2.10)\n",
      "Requirement already satisfied: urllib3!=1.25.0,!=1.25.1,<1.26,>=1.21.1 in /usr/local/lib/python3.7/dist-packages (from requests->torchvision) (1.24.3)\n",
      "Requirement already satisfied: six in /usr/local/lib/python3.7/dist-packages (from sacremoses->transformers) (1.15.0)\n",
      "Requirement already satisfied: click in /usr/local/lib/python3.7/dist-packages (from sacremoses->transformers) (7.1.2)\n",
      "Requirement already satisfied: joblib in /usr/local/lib/python3.7/dist-packages (from sacremoses->transformers) (1.1.0)\n",
      "Building wheels for collected packages: sacremoses\n",
      "  Building wheel for sacremoses (setup.py) ... \u001b[?25l\u001b[?25hdone\n",
      "  Created wheel for sacremoses: filename=sacremoses-0.0.53-py3-none-any.whl size=895260 sha256=2195d9d9a5a9c6a9435b63a37c7eae62c0396b3e0e2f60c97ddea34ba196fb59\n",
      "  Stored in directory: /root/.cache/pip/wheels/87/39/dd/a83eeef36d0bf98e7a4d1933a4ad2d660295a40613079bafc9\n",
      "Successfully built sacremoses\n",
      "Installing collected packages: pyyaml, tokenizers, sacremoses, huggingface-hub, transformers\n",
      "  Attempting uninstall: pyyaml\n",
      "    Found existing installation: PyYAML 3.13\n",
      "    Uninstalling PyYAML-3.13:\n",
      "      Successfully uninstalled PyYAML-3.13\n",
      "Successfully installed huggingface-hub-0.5.1 pyyaml-6.0 sacremoses-0.0.53 tokenizers-0.12.1 transformers-4.18.0\n"
     ]
    }
   ],
   "source": [
    "!pip install torch torchvision transformers"
   ]
  },
  {
   "cell_type": "code",
   "execution_count": null,
   "metadata": {
    "id": "iS6mkvWBIH8j"
   },
   "outputs": [],
   "source": [
    "import torch\n",
    "import torch.nn as nn\n",
    "import pandas as pd\n",
    "import nltk\n",
    "import pickle\n",
    "import matplotlib.pyplot as plt\n",
    "from torch.utils.data import Dataset, DataLoader\n",
    "from transformers import BertTokenizer, BertConfig, BertForSequenceClassification\n",
    "from transformers import AdamW\n"
   ]
  },
  {
   "cell_type": "code",
   "execution_count": null,
   "metadata": {
    "colab": {
     "base_uri": "https://localhost:8080/"
    },
    "id": "5kztvTamgU0T",
    "outputId": "e175a264-87cb-4469-a5f6-2875785a2f08"
   },
   "outputs": [
    {
     "name": "stdout",
     "output_type": "stream",
     "text": [
      "[nltk_data] Downloading package stopwords to /root/nltk_data...\n",
      "[nltk_data]   Unzipping corpora/stopwords.zip.\n"
     ]
    },
    {
     "data": {
      "text/plain": [
       "True"
      ]
     },
     "execution_count": 3,
     "metadata": {},
     "output_type": "execute_result"
    }
   ],
   "source": [
    "nltk.download(\"stopwords\")"
   ]
  },
  {
   "cell_type": "code",
   "execution_count": null,
   "metadata": {
    "id": "i6_o16fkCTEj"
   },
   "outputs": [],
   "source": [
    "from LoadData import LoadDataAndProcessing\n",
    "from RumourDataSet import RumourDataset"
   ]
  },
  {
   "cell_type": "code",
   "execution_count": null,
   "metadata": {
    "colab": {
     "base_uri": "https://localhost:8080/"
    },
    "id": "ee4YWhO-G4Hy",
    "outputId": "fd4b54a4-392d-4b0e-997d-8bbbca4cd39e"
   },
   "outputs": [
    {
     "name": "stdout",
     "output_type": "stream",
     "text": [
      "Mounted at /content/drive\n"
     ]
    }
   ],
   "source": [
    "from google.colab import drive\n",
    "drive.mount('/content/drive')"
   ]
  },
  {
   "cell_type": "code",
   "execution_count": null,
   "metadata": {
    "id": "f28M-EfFemCA"
   },
   "outputs": [],
   "source": []
  },
  {
   "cell_type": "markdown",
   "metadata": {
    "id": "5C8UU9gkfzMC"
   },
   "source": [
    "# **Build The Model**"
   ]
  },
  {
   "cell_type": "code",
   "execution_count": null,
   "metadata": {
    "id": "10vmWBICG4kN"
   },
   "outputs": [],
   "source": [
    "# Parameters setting\n",
    "\n",
    "BATCH_SIZE = 8\n",
    "NUM_WORKERS = 2\n",
    "MAX_LEN = 450\n",
    "num_labels = 2\n",
    "hidden_dropout_prob = 0.3\n",
    "learning_rate = 2e-5\n",
    "weight_decay = 1e-2\n",
    "\n",
    "gpu = 0 # gpu ID\n",
    "device = torch.device(\"cuda:0\" if torch.cuda.is_available() else \"cpu\")"
   ]
  },
  {
   "cell_type": "code",
   "execution_count": null,
   "metadata": {
    "colab": {
     "base_uri": "https://localhost:8080/"
    },
    "id": "X0YL-HbbgB-B",
    "outputId": "76bb82b9-a67b-4bec-f6f3-0bd20d8b63ba"
   },
   "outputs": [
    {
     "name": "stdout",
     "output_type": "stream",
     "text": [
      "Done preprocessing training and development data.\n"
     ]
    }
   ],
   "source": [
    "# If the inputs are already processed on local\n",
    "\n",
    "train_input_file = \"/content/drive/MyDrive/NLP/data/train_input.pickle\"\n",
    "dev_input_file = \"/content/drive/MyDrive/NLP/data/dev_input.pickle\"\n",
    "\n",
    "train_input = pickle.load(open(train_input_file, \"rb\", -1))\n",
    "dev_input = pickle.load(open(dev_input_file, \"rb\", -1))\n",
    "\n",
    "#Creating instances of training and development set\n",
    "#maxlen sets the maximum length a sentence can have\n",
    "#any sentence longer than this length is truncated to the maxlen size\n",
    "train_set = RumourDataset(data = train_input, maxlen = MAX_LEN)\n",
    "dev_set = RumourDataset(data = dev_input, maxlen = MAX_LEN)\n",
    "\n",
    "#Creating intsances of training and development dataloaders\n",
    "train_loader = DataLoader(train_set, batch_size = BATCH_SIZE, \n",
    "                          collate_fn=train_set.create_mini_batch, \n",
    "                          num_workers = NUM_WORKERS, shuffle=True)\n",
    "dev_loader = DataLoader(dev_set, batch_size = BATCH_SIZE, \n",
    "                        collate_fn=dev_set.create_mini_batch, \n",
    "                        num_workers = NUM_WORKERS, shuffle=True)\n",
    "\n",
    "print(\"Done preprocessing training and development data.\")"
   ]
  },
  {
   "cell_type": "code",
   "execution_count": null,
   "metadata": {
    "id": "kUO7BonWG4RE"
   },
   "outputs": [],
   "source": [
    "# # else\n",
    "\n",
    "# train_file = \"/content/drive/MyDrive/NLP/data/train_data_prepared.json\"\n",
    "# dev_file = \"/content/drive/MyDrive/NLP/data/dev_data_prepared.json\"\n",
    "\n",
    "# load_twitter_train_data = LoadDataAndProcessing(train_file)\n",
    "# load_twitter_dev_data = LoadDataAndProcessing(dev_file)\n",
    "\n",
    "# train_input = load_twitter_train_data.prepareDataset()\n",
    "# dev_input = load_twitter_dev_data.prepareDataset()"
   ]
  },
  {
   "cell_type": "code",
   "execution_count": null,
   "metadata": {
    "id": "-Q6YD5aChovf"
   },
   "outputs": [],
   "source": [
    "# train_set = RumourDataset(data = train_input, maxlen = MAX_LEN)\n",
    "# dev_set = RumourDataset(data = dev_input, maxlen = MAX_LEN)\n",
    "\n",
    "# train_loader = DataLoader(train_set, batch_size = BATCH_SIZE, \n",
    "#                           collate_fn=train_set.create_mini_batch, \n",
    "#                           num_workers = NUM_WORKERS, shuffle=True)\n",
    "# dev_loader = DataLoader(dev_set, batch_size = BATCH_SIZE, \n",
    "#                         collate_fn=dev_set.create_mini_batch, \n",
    "#                         num_workers = NUM_WORKERS, shuffle=True)\n",
    "\n",
    "# print(\"Done preprocessing training and development data.\")"
   ]
  },
  {
   "cell_type": "code",
   "execution_count": null,
   "metadata": {
    "id": "rnB_MvN-JkIv"
   },
   "outputs": [],
   "source": []
  },
  {
   "cell_type": "code",
   "execution_count": null,
   "metadata": {
    "colab": {
     "base_uri": "https://localhost:8080/",
     "height": 191,
     "referenced_widgets": [
      "9d7f973b0eb24e29a3451889f2b3b9c9",
      "15704fd0b3cb4fa0b97b93e524a99a01",
      "d07160228888488e8f670bcf1408c049",
      "f269cd9b5f514893bc7e4810a438656a",
      "29cfce49c9174ee6908cfb06c95c6ef5",
      "e69362e90a2c4aba844a679120d9ebff",
      "2ddf452c2abf43f19adc3fbf9dbea0e6",
      "c7f58cd579ed478785f28b272d5051c9",
      "59141cd32908444d913a81f7a365c98e",
      "2e9bac476e694cbc9b59347ffb4a03b1",
      "9ada3324701c481b83bdf8b3f8fd2005"
     ]
    },
    "id": "D8flfqnCG4nl",
    "outputId": "e1c4ea96-5a83-4630-8932-fd6dc00fcc72"
   },
   "outputs": [
    {
     "name": "stdout",
     "output_type": "stream",
     "text": [
      "Creating the rumour classifier, initialised with pretrained BERT-BASE parameters...\n"
     ]
    },
    {
     "data": {
      "application/vnd.jupyter.widget-view+json": {
       "model_id": "9d7f973b0eb24e29a3451889f2b3b9c9",
       "version_major": 2,
       "version_minor": 0
      },
      "text/plain": [
       "Downloading:   0%|          | 0.00/420M [00:00<?, ?B/s]"
      ]
     },
     "metadata": {},
     "output_type": "display_data"
    },
    {
     "name": "stderr",
     "output_type": "stream",
     "text": [
      "Some weights of the model checkpoint at bert-base-uncased were not used when initializing BertForSequenceClassification: ['cls.predictions.transform.LayerNorm.bias', 'cls.predictions.transform.LayerNorm.weight', 'cls.seq_relationship.weight', 'cls.predictions.bias', 'cls.seq_relationship.bias', 'cls.predictions.transform.dense.weight', 'cls.predictions.transform.dense.bias', 'cls.predictions.decoder.weight']\n",
      "- This IS expected if you are initializing BertForSequenceClassification from the checkpoint of a model trained on another task or with another architecture (e.g. initializing a BertForSequenceClassification model from a BertForPreTraining model).\n",
      "- This IS NOT expected if you are initializing BertForSequenceClassification from the checkpoint of a model that you expect to be exactly identical (initializing a BertForSequenceClassification model from a BertForSequenceClassification model).\n",
      "Some weights of BertForSequenceClassification were not initialized from the model checkpoint at bert-base-uncased and are newly initialized: ['classifier.bias', 'classifier.weight']\n",
      "You should probably TRAIN this model on a down-stream task to be able to use it for predictions and inference.\n"
     ]
    },
    {
     "name": "stdout",
     "output_type": "stream",
     "text": [
      "Done creating the rumour classifier.\n"
     ]
    }
   ],
   "source": [
    "# Load the model\n",
    "print(\"Creating the rumour classifier, initialised with pretrained BERT-BASE parameters...\")\n",
    "config = BertConfig.from_pretrained(\"bert-base-uncased\", \n",
    "                                    num_labels=num_labels, hidden_dropout_prob=hidden_dropout_prob)\n",
    "model = BertForSequenceClassification.from_pretrained(\"bert-base-uncased\", config=config)\n",
    "model.to(device)\n",
    "print(\"Done creating the rumour classifier.\")"
   ]
  },
  {
   "cell_type": "code",
   "execution_count": null,
   "metadata": {
    "id": "Z65P3aRdG4qm"
   },
   "outputs": [],
   "source": [
    "# Prepare optimizer and schedule (linear warmup and decay)\n",
    "# set the bias and LayerNorm.weight \n",
    "no_decay = ['bias', 'LayerNorm.weight']\n",
    "optimizer_grouped_parameters = [\n",
    "        {'params': [p for n, p in model.named_parameters() if not \n",
    "                    any(nd in n for nd in no_decay)], 'weight_decay': weight_decay},\n",
    "        {'params': [p for n, p in model.named_parameters() if \n",
    "                    any(nd in n for nd in no_decay)], 'weight_decay': 0.0}\n",
    "]\n",
    "\n",
    "#optimizer = AdamW(model.parameters(), lr=learning_rate)\n",
    "optimizer = torch.optim.AdamW(optimizer_grouped_parameters, lr=learning_rate)\n",
    "criterion = nn.CrossEntropyLoss()"
   ]
  },
  {
   "cell_type": "code",
   "execution_count": null,
   "metadata": {
    "id": "hmbgr4pk4eRH"
   },
   "outputs": [],
   "source": [
    "# criterion = nn.BCEWithLogitsLoss()\n",
    "# optimizer = optim.Adam(model.parameters(), lr = 2e-5, eps=1e-8)"
   ]
  },
  {
   "cell_type": "code",
   "execution_count": null,
   "metadata": {
    "id": "MsIIY9rPnqgj"
   },
   "outputs": [],
   "source": []
  },
  {
   "cell_type": "markdown",
   "metadata": {
    "id": "YhvBRVaffQ65"
   },
   "source": [
    "# **Trian and Evaluate the Model**"
   ]
  },
  {
   "cell_type": "code",
   "execution_count": null,
   "metadata": {
    "id": "ahdLdy_WnqmE"
   },
   "outputs": [],
   "source": [
    "def train(model, dataloader, optimizer, criterion, device):\n",
    "    model.train()\n",
    "    epoch_loss = 0\n",
    "    epoch_acc = 0\n",
    "    for i, batch in enumerate(dataloader):\n",
    "\n",
    "        tokens_tensors, segments_tensors, masks_tensors, labels = [t.to(device) for t in batch]\n",
    "\n",
    "        optimizer.zero_grad()\n",
    "\n",
    "        output = model(input_ids=tokens_tensors, \n",
    "                       token_type_ids=segments_tensors, \n",
    "                       attention_mask=masks_tensors, labels=labels)\n",
    "\n",
    "        y_pred_prob = output[1]\n",
    "        y_pred_label = y_pred_prob.argmax(dim=1)\n",
    "\n",
    "        loss = criterion(y_pred_prob.view(-1, 2), labels.view(-1))\n",
    "\n",
    "        acc = ((y_pred_label == labels.view(-1)).sum()).item()\n",
    "\n",
    "        loss.backward()\n",
    "        optimizer.step()\n",
    "\n",
    "        epoch_loss += loss.item()\n",
    "        epoch_acc += acc\n",
    "\n",
    "        if i % 200 == 0:\n",
    "            print(\"Iteration {} complete. Loss:{}, Accuracy:{}\".format(\n",
    "                i, epoch_loss / (i+1), epoch_acc / ((i+1)*len(labels))))\n",
    "\n",
    "    return epoch_loss / len(dataloader), epoch_acc / len(dataloader.dataset)\n",
    "\n",
    "def evaluate(model, iterator, device):\n",
    "    model.eval()\n",
    "    epoch_loss = 0\n",
    "    epoch_acc = 0\n",
    "    with torch.no_grad():\n",
    "        for _, batch in enumerate(iterator):\n",
    "            tokens_tensors, segments_tensors, masks_tensors, labels = [t.to(device) for t in batch]\n",
    "\n",
    "            output = model(input_ids=tokens_tensors, \n",
    "                           token_type_ids=segments_tensors, \n",
    "                           attention_mask=masks_tensors, labels=labels)\n",
    "            y_pred_label = output[1].argmax(dim=1)\n",
    "            loss = output[0]\n",
    "            acc = ((y_pred_label == labels.view(-1)).sum()).item()\n",
    "\n",
    "            epoch_loss += loss.item()\n",
    "            epoch_acc += acc\n",
    "\n",
    "    return epoch_loss / len(iterator), epoch_acc / len(iterator.dataset)"
   ]
  },
  {
   "cell_type": "code",
   "execution_count": null,
   "metadata": {
    "colab": {
     "base_uri": "https://localhost:8080/"
    },
    "id": "T5utQOyEnqqW",
    "outputId": "591fa9f2-694b-4745-bde7-f232629dbb5b"
   },
   "outputs": [
    {
     "name": "stdout",
     "output_type": "stream",
     "text": [
      "EPOCH 1 ------------------------------------------------------\n",
      "Iteration 0 complete. Loss:1.2265976667404175, Accuracy:0.125\n",
      "EPOCH 1: Mean train loss:  0.47619237575908097 \t Mean train acc: 0.7808306709265176\n",
      "EPOCH 1: Mean dev loss:  0.38241871402544136 \t Mean dev acc: 0.8178438661710037\n",
      "Best development accuracy improved from 0 to 0.8178438661710037, saving model...\n",
      "********************************************************************************\n",
      "EPOCH 2 ------------------------------------------------------\n",
      "Iteration 0 complete. Loss:0.6190223693847656, Accuracy:0.625\n",
      "EPOCH 2: Mean train loss:  0.3492275243625045 \t Mean train acc: 0.8383386581469648\n",
      "EPOCH 2: Mean dev loss:  0.25285544923013625 \t Mean dev acc: 0.8940520446096655\n",
      "Best development accuracy improved from 0.8178438661710037 to 0.8940520446096655, saving model...\n",
      "********************************************************************************\n",
      "EPOCH 3 ------------------------------------------------------\n",
      "Iteration 0 complete. Loss:0.07908945530653, Accuracy:1.0\n",
      "EPOCH 3: Mean train loss:  0.1991975461940604 \t Mean train acc: 0.9277955271565496\n",
      "EPOCH 3: Mean dev loss:  0.19320947593351936 \t Mean dev acc: 0.9256505576208178\n",
      "Best development accuracy improved from 0.8940520446096655 to 0.9256505576208178, saving model...\n",
      "********************************************************************************\n",
      "EPOCH 4 ------------------------------------------------------\n",
      "Iteration 0 complete. Loss:0.08181539922952652, Accuracy:1.0\n",
      "EPOCH 4: Mean train loss:  0.12187381377633737 \t Mean train acc: 0.9591054313099041\n",
      "EPOCH 4: Mean dev loss:  0.1440676392590189 \t Mean dev acc: 0.949814126394052\n",
      "Best development accuracy improved from 0.9256505576208178 to 0.949814126394052, saving model...\n",
      "********************************************************************************\n",
      "EPOCH 5 ------------------------------------------------------\n",
      "Iteration 0 complete. Loss:0.01314557809382677, Accuracy:1.0\n",
      "EPOCH 5: Mean train loss:  0.06021706008100502 \t Mean train acc: 0.9827476038338658\n",
      "EPOCH 5: Mean dev loss:  0.2855475153739783 \t Mean dev acc: 0.9182156133828996\n",
      "********************************************************************************\n",
      "EPOCH 6 ------------------------------------------------------\n",
      "Iteration 0 complete. Loss:0.007702135946601629, Accuracy:1.0\n",
      "EPOCH 6: Mean train loss:  0.047814211234977776 \t Mean train acc: 0.984664536741214\n",
      "EPOCH 6: Mean dev loss:  0.2072425539817606 \t Mean dev acc: 0.949814126394052\n",
      "********************************************************************************\n",
      "EPOCH 7 ------------------------------------------------------\n",
      "Iteration 0 complete. Loss:0.005278019700199366, Accuracy:1.0\n",
      "EPOCH 7: Mean train loss:  0.024175936263529773 \t Mean train acc: 0.9910543130990416\n",
      "EPOCH 7: Mean dev loss:  0.11330787661255967 \t Mean dev acc: 0.9646840148698885\n",
      "Best development accuracy improved from 0.949814126394052 to 0.9646840148698885, saving model...\n",
      "********************************************************************************\n",
      "EPOCH 8 ------------------------------------------------------\n",
      "Iteration 0 complete. Loss:0.0018371607875451446, Accuracy:1.0\n",
      "EPOCH 8: Mean train loss:  0.01523262645594291 \t Mean train acc: 0.994888178913738\n",
      "EPOCH 8: Mean dev loss:  0.17236633706745444 \t Mean dev acc: 0.9553903345724907\n",
      "********************************************************************************\n",
      "EPOCH 9 ------------------------------------------------------\n",
      "Iteration 0 complete. Loss:0.0019258832326158881, Accuracy:1.0\n",
      "EPOCH 9: Mean train loss:  0.012843359006647192 \t Mean train acc: 0.994888178913738\n",
      "EPOCH 9: Mean dev loss:  0.25678803114736665 \t Mean dev acc: 0.9460966542750929\n",
      "********************************************************************************\n",
      "EPOCH 10 ------------------------------------------------------\n",
      "Iteration 0 complete. Loss:0.0014635740080848336, Accuracy:1.0\n",
      "EPOCH 10: Mean train loss:  0.020735633206418334 \t Mean train acc: 0.9961661341853035\n",
      "EPOCH 10: Mean dev loss:  0.12780415684734608 \t Mean dev acc: 0.9572490706319703\n",
      "********************************************************************************\n",
      "EPOCH 11 ------------------------------------------------------\n",
      "Iteration 0 complete. Loss:0.002367818495258689, Accuracy:1.0\n",
      "EPOCH 11: Mean train loss:  0.019786993973848067 \t Mean train acc: 0.9955271565495207\n",
      "EPOCH 11: Mean dev loss:  0.1866959989308859 \t Mean dev acc: 0.9628252788104089\n",
      "********************************************************************************\n",
      "EPOCH 12 ------------------------------------------------------\n",
      "Iteration 0 complete. Loss:0.001300577074289322, Accuracy:1.0\n",
      "EPOCH 12: Mean train loss:  0.007389922084034972 \t Mean train acc: 0.997444089456869\n",
      "EPOCH 12: Mean dev loss:  0.1637028781549495 \t Mean dev acc: 0.9628252788104089\n",
      "********************************************************************************\n",
      "EPOCH 13 ------------------------------------------------------\n",
      "Iteration 0 complete. Loss:0.0003573373833205551, Accuracy:1.0\n",
      "EPOCH 13: Mean train loss:  0.016686001370693034 \t Mean train acc: 0.9955271565495207\n",
      "EPOCH 13: Mean dev loss:  0.14627859093161533 \t Mean dev acc: 0.966542750929368\n",
      "Best development accuracy improved from 0.9646840148698885 to 0.966542750929368, saving model...\n",
      "********************************************************************************\n",
      "EPOCH 14 ------------------------------------------------------\n",
      "Iteration 0 complete. Loss:0.004670965019613504, Accuracy:1.0\n",
      "EPOCH 14: Mean train loss:  0.009235334960234171 \t Mean train acc: 0.997444089456869\n",
      "EPOCH 14: Mean dev loss:  0.18517195945134837 \t Mean dev acc: 0.9591078066914498\n",
      "********************************************************************************\n",
      "EPOCH 15 ------------------------------------------------------\n",
      "Iteration 0 complete. Loss:0.00033096945844590664, Accuracy:1.0\n",
      "EPOCH 15: Mean train loss:  0.0007332550018446102 \t Mean train acc: 1.0\n",
      "EPOCH 15: Mean dev loss:  0.21903960274111717 \t Mean dev acc: 0.9572490706319703\n",
      "********************************************************************************\n",
      "EPOCH 16 ------------------------------------------------------\n",
      "Iteration 0 complete. Loss:0.00022190687013790011, Accuracy:1.0\n",
      "EPOCH 16: Mean train loss:  0.018414033113709146 \t Mean train acc: 0.9936102236421726\n",
      "EPOCH 16: Mean dev loss:  0.11934977216322509 \t Mean dev acc: 0.9684014869888475\n",
      "Best development accuracy improved from 0.966542750929368 to 0.9684014869888475, saving model...\n",
      "********************************************************************************\n",
      "EPOCH 17 ------------------------------------------------------\n",
      "Iteration 0 complete. Loss:0.0005347807891666889, Accuracy:1.0\n",
      "EPOCH 17: Mean train loss:  0.010181393607238033 \t Mean train acc: 0.9968051118210862\n",
      "EPOCH 17: Mean dev loss:  0.1150198339326059 \t Mean dev acc: 0.9702602230483272\n",
      "Best development accuracy improved from 0.9684014869888475 to 0.9702602230483272, saving model...\n",
      "********************************************************************************\n",
      "EPOCH 18 ------------------------------------------------------\n",
      "Iteration 0 complete. Loss:0.0015895945252850652, Accuracy:1.0\n",
      "EPOCH 18: Mean train loss:  0.011878501397274834 \t Mean train acc: 0.9961661341853035\n",
      "EPOCH 18: Mean dev loss:  0.08553350670220372 \t Mean dev acc: 0.9684014869888475\n",
      "********************************************************************************\n",
      "EPOCH 19 ------------------------------------------------------\n",
      "Iteration 0 complete. Loss:0.0026732340920716524, Accuracy:1.0\n",
      "EPOCH 19: Mean train loss:  0.0038536269359833474 \t Mean train acc: 0.9987220447284345\n",
      "EPOCH 19: Mean dev loss:  0.12348402282537684 \t Mean dev acc: 0.9702602230483272\n",
      "********************************************************************************\n",
      "EPOCH 20 ------------------------------------------------------\n",
      "Iteration 0 complete. Loss:0.0005850546876899898, Accuracy:1.0\n",
      "EPOCH 20: Mean train loss:  0.01772066319586438 \t Mean train acc: 0.994888178913738\n",
      "EPOCH 20: Mean dev loss:  0.12890558349874268 \t Mean dev acc: 0.9591078066914498\n",
      "********************************************************************************\n"
     ]
    }
   ],
   "source": [
    "train_acc_list = []\n",
    "train_loss_list = []\n",
    "dev_acc_list = []\n",
    "dev_loss_list = []\n",
    "\n",
    "best_acc = 0\n",
    "EPOCHS = 20\n",
    "best_ep = 0\n",
    "for ep in range(EPOCHS):\n",
    "    print(\"EPOCH {} ------------------------------------------------------\".format(ep+1))\n",
    "    train_loss, train_acc = train(model, train_loader, optimizer, criterion, device)\n",
    "    print(\"EPOCH {}:\".format(ep+1), \"Mean train loss: \", train_loss, \"\\t\", \"Mean train acc:\", train_acc)\n",
    "    dev_loss, dev_acc = evaluate(model, dev_loader, device)\n",
    "    print(\"EPOCH {}:\".format(ep+1), \"Mean dev loss: \", dev_loss, \"\\t\", \"Mean dev acc:\", dev_acc)\n",
    "\n",
    "    train_acc_list.append(train_acc)\n",
    "    train_loss_list.append(train_loss)\n",
    "    dev_acc_list.append(dev_acc)\n",
    "    dev_loss_list.append(dev_loss)\n",
    "\n",
    "    if dev_acc > best_acc:\n",
    "      print(\"Best development accuracy improved from {} to {}, saving model...\".format(best_acc, dev_acc))\n",
    "      best_acc = dev_acc\n",
    "      best_ep = ep\n",
    "      torch.save(model.state_dict(), 'sstcls_{}.dat'.format(ep))\n",
    "    \n",
    "    print(\"********************************************************************************\")\n"
   ]
  },
  {
   "cell_type": "code",
   "execution_count": null,
   "metadata": {
    "colab": {
     "base_uri": "https://localhost:8080/",
     "height": 281
    },
    "id": "NHzHPLlcefFW",
    "outputId": "df5f2916-97ae-4aa2-ccfe-4417cd52de9d"
   },
   "outputs": [
    {
     "data": {
      "image/png": "[encoded data removed]",
      "text/plain": [
       "<Figure size 432x288 with 1 Axes>"
      ]
     },
     "metadata": {
      "needs_background": "light"
     },
     "output_type": "display_data"
    }
   ],
   "source": [
    "epochs = range(1, EPOCHS+1)\n",
    "plt.plot(epochs, train_acc_list, 'b', label = 'Train accuracy')\n",
    "plt.plot(epochs, dev_acc_list, 'r', label = 'Development accuracy')\n",
    "plt.title('Performance on Accuracy')\n",
    "plt.legend()\n",
    "plt.savefig(\"Accuracy.png\")\n",
    "plt.show()"
   ]
  },
  {
   "cell_type": "code",
   "execution_count": null,
   "metadata": {
    "colab": {
     "base_uri": "https://localhost:8080/",
     "height": 281
    },
    "id": "e5opr5kcOXqm",
    "outputId": "f3ef7ff6-e09d-4453-84e4-383c9d1a1571"
   },
   "outputs": [
    {
     "data": {
      "image/png": "[encoded data removed]",
      "text/plain": [
       "<Figure size 432x288 with 1 Axes>"
      ]
     },
     "metadata": {
      "needs_background": "light"
     },
     "output_type": "display_data"
    }
   ],
   "source": [
    "epochs = range(1, EPOCHS+1)\n",
    "plt.plot(epochs, train_loss_list, 'b', label = 'Train loss')\n",
    "plt.plot(epochs, dev_loss_list, 'r', label = 'Development loss')\n",
    "plt.title('Loss')\n",
    "plt.legend()\n",
    "plt.savefig(\"Loss.png\")\n",
    "plt.show()"
   ]
  },
  {
   "cell_type": "code",
   "execution_count": null,
   "metadata": {
    "id": "BvpbDNCLq3cv"
   },
   "outputs": [],
   "source": []
  },
  {
   "cell_type": "markdown",
   "metadata": {
    "id": "Xhyo4ifwe9el"
   },
   "source": [
    "# **Testset Prediction**"
   ]
  },
  {
   "cell_type": "code",
   "execution_count": null,
   "metadata": {
    "id": "ZBRD9z8POXuz"
   },
   "outputs": [],
   "source": [
    "test_input_file = \"/content/drive/MyDrive/NLP/data/test_input.pickle\"\n",
    "\n",
    "test_input = pickle.load(open(test_input_file, \"rb\", -1))"
   ]
  },
  {
   "cell_type": "code",
   "execution_count": null,
   "metadata": {
    "id": "O_59hIAWOXzF"
   },
   "outputs": [],
   "source": [
    "test_set = RumourDataset(data = test_input, maxlen = MAX_LEN)\n",
    "test_loader = DataLoader(test_set, collate_fn=test_set.create_mini_batch, \n",
    "                         batch_size = BATCH_SIZE, num_workers = NUM_WORKERS)"
   ]
  },
  {
   "cell_type": "code",
   "execution_count": null,
   "metadata": {
    "id": "TmTPc9DjOagZ"
   },
   "outputs": [],
   "source": [
    "def predict(net, test_loader, model_file=None):\n",
    "    # load weight\n",
    "    if model_file != None:\n",
    "      net.load_state_dict(torch.load(model_file))\n",
    "    \n",
    "    predictions = []\n",
    "    \n",
    "    for _, batch in enumerate(test_loader):\n",
    "      tokens_tensors, segments_tensors, masks_tensors = [t.to(device) for t in batch]\n",
    "\n",
    "      output = model(input_ids=tokens_tensors, \n",
    "                      token_type_ids=segments_tensors, \n",
    "                      attention_mask=masks_tensors)\n",
    "      probs = output[0].argmax(dim=1)\n",
    "      soft_probs = (probs > 0.5).long()\n",
    "      predictions.extend(soft_probs.cpu().numpy().squeeze())\n",
    "    \n",
    "    return predictions"
   ]
  },
  {
   "cell_type": "code",
   "execution_count": null,
   "metadata": {
    "colab": {
     "base_uri": "https://localhost:8080/"
    },
    "id": "VLah0WnQPJKG",
    "outputId": "154f97f7-13f0-4e9d-f932-662de23b8276"
   },
   "outputs": [
    {
     "data": {
      "text/plain": [
       "558"
      ]
     },
     "execution_count": 31,
     "metadata": {},
     "output_type": "execute_result"
    }
   ],
   "source": [
    "model_file = \"sstcls_{}.dat\".format(best_ep-10)\n",
    "predictions = predict(model, test_loader, model_file)\n",
    "len(predictions)"
   ]
  },
  {
   "cell_type": "code",
   "execution_count": null,
   "metadata": {
    "colab": {
     "base_uri": "https://localhost:8080/"
    },
    "id": "bJxk6rSWOeDw",
    "outputId": "3b172aee-7fa1-4525-8972-620378aa3ba8"
   },
   "outputs": [
    {
     "name": "stdout",
     "output_type": "stream",
     "text": [
      "      Id  Predicted\n",
      "0      0          0\n",
      "1      1          1\n",
      "2      2          0\n",
      "3      3          0\n",
      "4      4          1\n",
      "..   ...        ...\n",
      "553  553          0\n",
      "554  554          0\n",
      "555  555          1\n",
      "556  556          0\n",
      "557  557          0\n",
      "\n",
      "[558 rows x 2 columns]\n"
     ]
    }
   ],
   "source": [
    "pred = pd.DataFrame(data=predictions, columns=['Predicted']).reset_index()\n",
    "pred = pred.rename(columns={'index': 'Id'})\n",
    "print(pred)\n",
    "\n",
    "pred.to_csv('test_prediction.csv', index = False)"
   ]
  },
  {
   "cell_type": "code",
   "execution_count": null,
   "metadata": {
    "id": "wjCe2ByhZUX_"
   },
   "outputs": [],
   "source": [
    "with open('Parameters.txt', 'w') as f:\n",
    "    f.write(\"Train input file: {}\\n\".format(train_input_file) +\n",
    "            \"BATCH_SIZE = {},\\n\".format(BATCH_SIZE) +\n",
    "            \"NUM_WORKERS = {},\\n\".format(NUM_WORKERS) +\n",
    "            \"MAX_LEN = {},\\n\".format(MAX_LEN) +\n",
    "            \"hidden_dropout_prob = {},\\n\".format(hidden_dropout_prob) +\n",
    "            \"learning_rate = {},\\n\".format(learning_rate) +\n",
    "            \"weight_decay = {}\".format(weight_decay))"
   ]
  },
  {
   "cell_type": "code",
   "execution_count": null,
   "metadata": {
    "id": "pBwF-LTlZUaN"
   },
   "outputs": [],
   "source": []
  },
  {
   "cell_type": "code",
   "execution_count": null,
   "metadata": {
    "id": "VKz__WU7ZUiN"
   },
   "outputs": [],
   "source": []
  },
  {
   "cell_type": "markdown",
   "metadata": {
    "id": "x0tkHLqSe3Wd"
   },
   "source": [
    "# Empty the memory"
   ]
  },
  {
   "cell_type": "code",
   "execution_count": null,
   "metadata": {
    "colab": {
     "base_uri": "https://localhost:8080/"
    },
    "id": "JgjYAMaqOeJH",
    "outputId": "fc34fb2f-50de-4dfa-b291-8b909c1f004d"
   },
   "outputs": [
    {
     "name": "stdout",
     "output_type": "stream",
     "text": [
      "Collecting gputil\n",
      "  Downloading GPUtil-1.4.0.tar.gz (5.5 kB)\n",
      "Building wheels for collected packages: gputil\n",
      "  Building wheel for gputil (setup.py) ... \u001b[?25l\u001b[?25hdone\n",
      "  Created wheel for gputil: filename=GPUtil-1.4.0-py3-none-any.whl size=7411 sha256=bf6297d5882182784a1d000bfd3b2d459e6770ac5611df0f9254a37ed5f14996\n",
      "  Stored in directory: /root/.cache/pip/wheels/6e/f8/83/534c52482d6da64622ddbf72cd93c35d2ef2881b78fd08ff0c\n",
      "Successfully built gputil\n",
      "Installing collected packages: gputil\n",
      "Successfully installed gputil-1.4.0\n",
      "Requirement already satisfied: psutil in /usr/local/lib/python3.7/dist-packages (5.4.8)\n",
      "Requirement already satisfied: humanize in /usr/local/lib/python3.7/dist-packages (0.5.1)\n"
     ]
    }
   ],
   "source": [
    "!ln -sf /opt/bin/nvidia-smi /usr/bin/nvidia-smi\n",
    "!pip install gputil\n",
    "!pip install psutil\n",
    "!pip install humanize"
   ]
  },
  {
   "cell_type": "code",
   "execution_count": null,
   "metadata": {
    "colab": {
     "base_uri": "https://localhost:8080/"
    },
    "id": "WYat0FDKMb0G",
    "outputId": "ea19a80b-1908-45c6-a0e7-9cc6c69dfa18"
   },
   "outputs": [
    {
     "name": "stdout",
     "output_type": "stream",
     "text": [
      "Gen RAM Free: 11.6 GB  |     Proc size: 1.0 GB\n",
      "GPU RAM Free: 15106MB | Used: 3MB | Util   0% | Total     15109MB\n"
     ]
    }
   ],
   "source": [
    "import psutil\n",
    "import humanize\n",
    "import os\n",
    "import GPUtil as GPU\n",
    "\n",
    "GPUs = GPU.getGPUs()\n",
    "# XXX: only one GPU on Colab and isn’t guaranteed\n",
    "gpu = GPUs[0]\n",
    "def printm():\n",
    "    process = psutil.Process(os.getpid())\n",
    "    print(\"Gen RAM Free: \" + humanize.naturalsize(psutil.virtual_memory().available), \" |     Proc size: \" + humanize.naturalsize(process.memory_info().rss))\n",
    "    print(\"GPU RAM Free: {0:.0f}MB | Used: {1:.0f}MB | Util {2:3.0f}% | Total     {3:.0f}MB\".format(gpu.memoryFree, gpu.memoryUsed, gpu.memoryUtil*100, gpu.memoryTotal))\n",
    "printm()\n"
   ]
  },
  {
   "cell_type": "code",
   "execution_count": null,
   "metadata": {
    "colab": {
     "base_uri": "https://localhost:8080/"
    },
    "id": "CA9st45EMb2q",
    "outputId": "8868e977-4da0-44a6-c4d4-5ba5a95ddf3d"
   },
   "outputs": [
    {
     "name": "stdout",
     "output_type": "stream",
     "text": [
      "root          30  0.5  0.0      0     0 ?        Z    06:59   0:04 [python3] <defunct>\n",
      "root          31  0.0  0.3 158256 41376 ?        S    06:59   0:00 python3 /usr/local/bin/colab-fileshim.py\n",
      "root          56  0.4  0.4 202440 61064 ?        Sl   06:59   0:03 /usr/bin/python3 /usr/local/bin/jupyter-notebook --ip=\"172.28.0.2\" --port=9000 --FileContentsManager.root_dir=\"/\" --MappingKernelManager.root_dir=\"/content\"\n",
      "root         316  0.0  0.0  18380  2960 ?        S    06:59   0:00 bash -c tail -n +0 -F \"/root/.config/Google/DriveFS/Logs/drive_fs.txt\" | python3 /opt/google/drive/drive-filter.py > \"/root/.config/Google/DriveFS/Logs/timeouts.txt\" \n",
      "root         319  0.0  0.0  31272  9380 ?        S    06:59   0:00 python3 /opt/google/drive/drive-filter.py\n",
      "root         506  7.5 42.2 31615000 5617240 ?    Ssl  07:07   0:15 /usr/bin/python3 -m ipykernel_launcher -f /root/.local/share/jupyter/runtime/kernel-8598b9a0-c7fd-45c2-bbb1-36144b25e38e.json\n",
      "root         524  0.2  0.1 127700 16380 ?        Sl   07:07   0:00 /usr/bin/python3 /usr/local/lib/python3.7/dist-packages/debugpy/adapter --for-server 40781 --host 127.0.0.1 --port 18404 --server-access-token f7a070892485f9fa0acca1be8c52826c4c308e95669e51f88fd227e527be9716\n",
      "root         618  0.0  0.0  39196  6684 ?        S    07:11   0:00 /bin/bash -c ps -aux|grep python\n",
      "root         620  0.0  0.0  36900  3972 ?        R    07:11   0:00 grep python\n"
     ]
    }
   ],
   "source": [
    "!ps -aux|grep python"
   ]
  },
  {
   "cell_type": "code",
   "execution_count": null,
   "metadata": {
    "id": "M34Spx3iMb5l"
   },
   "outputs": [],
   "source": [
    "!kill -9 506"
   ]
  }
 ],
 "metadata": {
  "accelerator": "GPU",
  "colab": {
   "collapsed_sections": [
    "DhyE9siDfopm",
    "YhvBRVaffQ65"
   ],
   "name": "BertForSequence.ipynb",
   "provenance": []
  },
  "kernelspec": {
   "display_name": "Python 3 (ipykernel)",
   "language": "python",
   "name": "python3"
  },
  "language_info": {
   "codemirror_mode": {
    "name": "ipython",
    "version": 3
   },
   "file_extension": ".py",
   "mimetype": "text/x-python",
   "name": "python",
   "nbconvert_exporter": "python",
   "pygments_lexer": "ipython3",
   "version": "3.7.6"
  },
  "toc": {
   "base_numbering": 1,
   "nav_menu": {},
   "number_sections": true,
   "sideBar": true,
   "skip_h1_title": false,
   "title_cell": "Table of Contents",
   "title_sidebar": "Contents",
   "toc_cell": false,
   "toc_position": {},
   "toc_section_display": true,
   "toc_window_display": false
  },
  "varInspector": {
   "cols": {
    "lenName": 16,
    "lenType": 16,
    "lenVar": 40
   },
   "kernels_config": {
    "python": {
     "delete_cmd_postfix": "",
     "delete_cmd_prefix": "del ",
     "library": "var_list.py",
     "varRefreshCmd": "print(var_dic_list())"
    },
    "r": {
     "delete_cmd_postfix": ") ",
     "delete_cmd_prefix": "rm(",
     "library": "var_list.r",
     "varRefreshCmd": "cat(var_dic_list()) "
    }
   },
   "types_to_exclude": [
    "module",
    "function",
    "builtin_function_or_method",
    "instance",
    "_Feature"
   ],
   "window_display": false
  },
  "widgets": {
   "application/vnd.jupyter.widget-state+json": {
    "15704fd0b3cb4fa0b97b93e524a99a01": {
     "model_module": "@jupyter-widgets/controls",
     "model_module_version": "1.5.0",
     "model_name": "HTMLModel",
     "state": {
      "_dom_classes": [],
      "_model_module": "@jupyter-widgets/controls",
      "_model_module_version": "1.5.0",
      "_model_name": "HTMLModel",
      "_view_count": null,
      "_view_module": "@jupyter-widgets/controls",
      "_view_module_version": "1.5.0",
      "_view_name": "HTMLView",
      "description": "",
      "description_tooltip": null,
      "layout": "IPY_MODEL_e69362e90a2c4aba844a679120d9ebff",
      "placeholder": "​",
      "style": "IPY_MODEL_2ddf452c2abf43f19adc3fbf9dbea0e6",
      "value": "Downloading: 100%"
     }
    },
    "29cfce49c9174ee6908cfb06c95c6ef5": {
     "model_module": "@jupyter-widgets/base",
     "model_module_version": "1.2.0",
     "model_name": "LayoutModel",
     "state": {
      "_model_module": "@jupyter-widgets/base",
      "_model_module_version": "1.2.0",
      "_model_name": "LayoutModel",
      "_view_count": null,
      "_view_module": "@jupyter-widgets/base",
      "_view_module_version": "1.2.0",
      "_view_name": "LayoutView",
      "align_content": null,
      "align_items": null,
      "align_self": null,
      "border": null,
      "bottom": null,
      "display": null,
      "flex": null,
      "flex_flow": null,
      "grid_area": null,
      "grid_auto_columns": null,
      "grid_auto_flow": null,
      "grid_auto_rows": null,
      "grid_column": null,
      "grid_gap": null,
      "grid_row": null,
      "grid_template_areas": null,
      "grid_template_columns": null,
      "grid_template_rows": null,
      "height": null,
      "justify_content": null,
      "justify_items": null,
      "left": null,
      "margin": null,
      "max_height": null,
      "max_width": null,
      "min_height": null,
      "min_width": null,
      "object_fit": null,
      "object_position": null,
      "order": null,
      "overflow": null,
      "overflow_x": null,
      "overflow_y": null,
      "padding": null,
      "right": null,
      "top": null,
      "visibility": null,
      "width": null
     }
    },
    "2ddf452c2abf43f19adc3fbf9dbea0e6": {
     "model_module": "@jupyter-widgets/controls",
     "model_module_version": "1.5.0",
     "model_name": "DescriptionStyleModel",
     "state": {
      "_model_module": "@jupyter-widgets/controls",
      "_model_module_version": "1.5.0",
      "_model_name": "DescriptionStyleModel",
      "_view_count": null,
      "_view_module": "@jupyter-widgets/base",
      "_view_module_version": "1.2.0",
      "_view_name": "StyleView",
      "description_width": ""
     }
    },
    "2e9bac476e694cbc9b59347ffb4a03b1": {
     "model_module": "@jupyter-widgets/base",
     "model_module_version": "1.2.0",
     "model_name": "LayoutModel",
     "state": {
      "_model_module": "@jupyter-widgets/base",
      "_model_module_version": "1.2.0",
      "_model_name": "LayoutModel",
      "_view_count": null,
      "_view_module": "@jupyter-widgets/base",
      "_view_module_version": "1.2.0",
      "_view_name": "LayoutView",
      "align_content": null,
      "align_items": null,
      "align_self": null,
      "border": null,
      "bottom": null,
      "display": null,
      "flex": null,
      "flex_flow": null,
      "grid_area": null,
      "grid_auto_columns": null,
      "grid_auto_flow": null,
      "grid_auto_rows": null,
      "grid_column": null,
      "grid_gap": null,
      "grid_row": null,
      "grid_template_areas": null,
      "grid_template_columns": null,
      "grid_template_rows": null,
      "height": null,
      "justify_content": null,
      "justify_items": null,
      "left": null,
      "margin": null,
      "max_height": null,
      "max_width": null,
      "min_height": null,
      "min_width": null,
      "object_fit": null,
      "object_position": null,
      "order": null,
      "overflow": null,
      "overflow_x": null,
      "overflow_y": null,
      "padding": null,
      "right": null,
      "top": null,
      "visibility": null,
      "width": null
     }
    },
    "59141cd32908444d913a81f7a365c98e": {
     "model_module": "@jupyter-widgets/controls",
     "model_module_version": "1.5.0",
     "model_name": "ProgressStyleModel",
     "state": {
      "_model_module": "@jupyter-widgets/controls",
      "_model_module_version": "1.5.0",
      "_model_name": "ProgressStyleModel",
      "_view_count": null,
      "_view_module": "@jupyter-widgets/base",
      "_view_module_version": "1.2.0",
      "_view_name": "StyleView",
      "bar_color": null,
      "description_width": ""
     }
    },
    "9ada3324701c481b83bdf8b3f8fd2005": {
     "model_module": "@jupyter-widgets/controls",
     "model_module_version": "1.5.0",
     "model_name": "DescriptionStyleModel",
     "state": {
      "_model_module": "@jupyter-widgets/controls",
      "_model_module_version": "1.5.0",
      "_model_name": "DescriptionStyleModel",
      "_view_count": null,
      "_view_module": "@jupyter-widgets/base",
      "_view_module_version": "1.2.0",
      "_view_name": "StyleView",
      "description_width": ""
     }
    },
    "9d7f973b0eb24e29a3451889f2b3b9c9": {
     "model_module": "@jupyter-widgets/controls",
     "model_module_version": "1.5.0",
     "model_name": "HBoxModel",
     "state": {
      "_dom_classes": [],
      "_model_module": "@jupyter-widgets/controls",
      "_model_module_version": "1.5.0",
      "_model_name": "HBoxModel",
      "_view_count": null,
      "_view_module": "@jupyter-widgets/controls",
      "_view_module_version": "1.5.0",
      "_view_name": "HBoxView",
      "box_style": "",
      "children": [
       "IPY_MODEL_15704fd0b3cb4fa0b97b93e524a99a01",
       "IPY_MODEL_d07160228888488e8f670bcf1408c049",
       "IPY_MODEL_f269cd9b5f514893bc7e4810a438656a"
      ],
      "layout": "IPY_MODEL_29cfce49c9174ee6908cfb06c95c6ef5"
     }
    },
    "c7f58cd579ed478785f28b272d5051c9": {
     "model_module": "@jupyter-widgets/base",
     "model_module_version": "1.2.0",
     "model_name": "LayoutModel",
     "state": {
      "_model_module": "@jupyter-widgets/base",
      "_model_module_version": "1.2.0",
      "_model_name": "LayoutModel",
      "_view_count": null,
      "_view_module": "@jupyter-widgets/base",
      "_view_module_version": "1.2.0",
      "_view_name": "LayoutView",
      "align_content": null,
      "align_items": null,
      "align_self": null,
      "border": null,
      "bottom": null,
      "display": null,
      "flex": null,
      "flex_flow": null,
      "grid_area": null,
      "grid_auto_columns": null,
      "grid_auto_flow": null,
      "grid_auto_rows": null,
      "grid_column": null,
      "grid_gap": null,
      "grid_row": null,
      "grid_template_areas": null,
      "grid_template_columns": null,
      "grid_template_rows": null,
      "height": null,
      "justify_content": null,
      "justify_items": null,
      "left": null,
      "margin": null,
      "max_height": null,
      "max_width": null,
      "min_height": null,
      "min_width": null,
      "object_fit": null,
      "object_position": null,
      "order": null,
      "overflow": null,
      "overflow_x": null,
      "overflow_y": null,
      "padding": null,
      "right": null,
      "top": null,
      "visibility": null,
      "width": null
     }
    },
    "d07160228888488e8f670bcf1408c049": {
     "model_module": "@jupyter-widgets/controls",
     "model_module_version": "1.5.0",
     "model_name": "FloatProgressModel",
     "state": {
      "_dom_classes": [],
      "_model_module": "@jupyter-widgets/controls",
      "_model_module_version": "1.5.0",
      "_model_name": "FloatProgressModel",
      "_view_count": null,
      "_view_module": "@jupyter-widgets/controls",
      "_view_module_version": "1.5.0",
      "_view_name": "ProgressView",
      "bar_style": "success",
      "description": "",
      "description_tooltip": null,
      "layout": "IPY_MODEL_c7f58cd579ed478785f28b272d5051c9",
      "max": 440473133,
      "min": 0,
      "orientation": "horizontal",
      "style": "IPY_MODEL_59141cd32908444d913a81f7a365c98e",
      "value": 440473133
     }
    },
    "e69362e90a2c4aba844a679120d9ebff": {
     "model_module": "@jupyter-widgets/base",
     "model_module_version": "1.2.0",
     "model_name": "LayoutModel",
     "state": {
      "_model_module": "@jupyter-widgets/base",
      "_model_module_version": "1.2.0",
      "_model_name": "LayoutModel",
      "_view_count": null,
      "_view_module": "@jupyter-widgets/base",
      "_view_module_version": "1.2.0",
      "_view_name": "LayoutView",
      "align_content": null,
      "align_items": null,
      "align_self": null,
      "border": null,
      "bottom": null,
      "display": null,
      "flex": null,
      "flex_flow": null,
      "grid_area": null,
      "grid_auto_columns": null,
      "grid_auto_flow": null,
      "grid_auto_rows": null,
      "grid_column": null,
      "grid_gap": null,
      "grid_row": null,
      "grid_template_areas": null,
      "grid_template_columns": null,
      "grid_template_rows": null,
      "height": null,
      "justify_content": null,
      "justify_items": null,
      "left": null,
      "margin": null,
      "max_height": null,
      "max_width": null,
      "min_height": null,
      "min_width": null,
      "object_fit": null,
      "object_position": null,
      "order": null,
      "overflow": null,
      "overflow_x": null,
      "overflow_y": null,
      "padding": null,
      "right": null,
      "top": null,
      "visibility": null,
      "width": null
     }
    },
    "f269cd9b5f514893bc7e4810a438656a": {
     "model_module": "@jupyter-widgets/controls",
     "model_module_version": "1.5.0",
     "model_name": "HTMLModel",
     "state": {
      "_dom_classes": [],
      "_model_module": "@jupyter-widgets/controls",
      "_model_module_version": "1.5.0",
      "_model_name": "HTMLModel",
      "_view_count": null,
      "_view_module": "@jupyter-widgets/controls",
      "_view_module_version": "1.5.0",
      "_view_name": "HTMLView",
      "description": "",
      "description_tooltip": null,
      "layout": "IPY_MODEL_2e9bac476e694cbc9b59347ffb4a03b1",
      "placeholder": "​",
      "style": "IPY_MODEL_9ada3324701c481b83bdf8b3f8fd2005",
      "value": " 420M/420M [00:08&lt;00:00, 53.8MB/s]"
     }
    }
   }
  }
 },
 "nbformat": 4,
 "nbformat_minor": 1
}
