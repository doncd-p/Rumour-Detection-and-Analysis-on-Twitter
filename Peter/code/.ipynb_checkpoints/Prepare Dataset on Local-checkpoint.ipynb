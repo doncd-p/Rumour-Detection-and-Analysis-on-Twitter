{
 "cells": [
  {
   "cell_type": "code",
   "execution_count": 6,
   "id": "1c4de188",
   "metadata": {
    "ExecuteTime": {
     "end_time": "2022-05-08T10:54:23.206854Z",
     "start_time": "2022-05-08T10:54:23.189853Z"
    }
   },
   "outputs": [],
   "source": [
    "from LoadData import LoadDataAndProcessing\n",
    "from RumourDataSet import RumourDataset\n",
    "import pickle"
   ]
  },
  {
   "cell_type": "code",
   "execution_count": 7,
   "id": "a4320631",
   "metadata": {
    "ExecuteTime": {
     "end_time": "2022-05-08T10:54:24.357155Z",
     "start_time": "2022-05-08T10:54:24.344845Z"
    }
   },
   "outputs": [],
   "source": [
    "train_file = \"../data/train_data_prepared.json\"\n",
    "dev_file = \"../data/dev_data_prepared.json\"\n",
    "test_file = \"../data/test_data_prepared.json\"\n",
    "covid_file = \"../data/covid_data_prepared.json\""
   ]
  },
  {
   "cell_type": "code",
   "execution_count": null,
   "id": "0dbd7982",
   "metadata": {
    "ExecuteTime": {
     "start_time": "2022-05-08T10:54:25.246Z"
    }
   },
   "outputs": [],
   "source": [
    "load_twitter_train_data = LoadDataAndProcessing(train_file)\n",
    "load_twitter_dev_data = LoadDataAndProcessing(dev_file)\n",
    "load_twitter_test_data= LoadDataAndProcessing(test_file)\n",
    "load_twitter_covid_data= LoadDataAndProcessing(covid_file)"
   ]
  },
  {
   "cell_type": "code",
   "execution_count": null,
   "id": "aedcb7c2",
   "metadata": {
    "ExecuteTime": {
     "start_time": "2022-05-08T10:54:26.565Z"
    }
   },
   "outputs": [],
   "source": [
    "train_input = load_twitter_train_data.prepareDataset()\n",
    "dev_input = load_twitter_dev_data.prepareDataset()\n",
    "test_input = load_twitter_test_data.prepareDataset()\n",
    "covid_input = load_twitter_covid_data.prepareDataset()"
   ]
  },
  {
   "cell_type": "code",
   "execution_count": null,
   "id": "fd7719e4",
   "metadata": {
    "ExecuteTime": {
     "start_time": "2022-05-08T10:54:30.004Z"
    }
   },
   "outputs": [],
   "source": [
    "with open(\"../data/saved/train_input.pickle\", \"wb\") as file_:\n",
    "    pickle.dump(train_input, file_, -1)\n",
    "\n",
    "with open(\"../data/saved/dev_input.pickle\", \"wb\") as file_:\n",
    "    pickle.dump(dev_input, file_, -1)\n",
    "    \n",
    "with open(\"../data/saved/test_input.pickle\", \"wb\") as file_:\n",
    "    pickle.dump(test_input, file_, -1)\n",
    "    \n",
    "with open(\"../data/saved/covid_input.pickle\", \"wb\") as file_:\n",
    "    pickle.dump(covid_input, file_, -1)"
   ]
  },
  {
   "cell_type": "code",
   "execution_count": 18,
   "id": "2ca4461e",
   "metadata": {
    "ExecuteTime": {
     "end_time": "2022-05-08T10:41:56.972469Z",
     "start_time": "2022-05-08T10:41:56.839473Z"
    }
   },
   "outputs": [],
   "source": [
    "test_input = pickle.load(open('../data/saved/test_input.pickle', \"rb\", -1))"
   ]
  },
  {
   "cell_type": "code",
   "execution_count": 5,
   "id": "e98b9259",
   "metadata": {
    "ExecuteTime": {
     "end_time": "2022-05-08T10:51:48.443265Z",
     "start_time": "2022-05-08T10:51:48.429781Z"
    }
   },
   "outputs": [
    {
     "data": {
      "text/plain": [
       "{'text_source': '69 people die after drinking beer believed to have been poisoned with crocodile bile in mozambique abc all the news and information you need to see curated by the @abc news team tips',\n",
       " 'text_reply': 'crossing mozambique off my travel list check rt 69 people die after drinking beer poisoned with crocodile bile in mozambique nice call 69 people die after drinking beer believed to have been poisoned with crocodile bile in m rt damn nature genocide on da rise 69 ppl die drinking beer poisoned w crocodile bile in mozambique fucking craft brews 69 people die after drinking beer poisoned with crocodile bile in mozambique 17jake'}"
      ]
     },
     "execution_count": 5,
     "metadata": {},
     "output_type": "execute_result"
    }
   ],
   "source": [
    "test_input[10]"
   ]
  },
  {
   "cell_type": "code",
   "execution_count": 7,
   "id": "c0b8c826",
   "metadata": {
    "ExecuteTime": {
     "end_time": "2022-05-08T10:50:00.219439Z",
     "start_time": "2022-05-08T10:49:59.775440Z"
    }
   },
   "outputs": [],
   "source": [
    "import pandas as pd\n",
    "tweet_test = pd.read_json(\"../data/test_data_prepared.json\")"
   ]
  },
  {
   "cell_type": "code",
   "execution_count": 16,
   "id": "e13c7148",
   "metadata": {
    "ExecuteTime": {
     "end_time": "2022-05-08T10:50:29.428641Z",
     "start_time": "2022-05-08T10:50:29.408763Z"
    }
   },
   "outputs": [
    {
     "data": {
      "text/plain": [
       "{'created_at': '2015-01-13T18:44:06.000Z',\n",
       " 'id': 555072815154475008,\n",
       " 'id_str': '555072815154475008',\n",
       " 'text': '69 people die after drinking beer believed to have been poisoned with crocodile bile in Mozambique: http://t.co/N5HdS74Z0k',\n",
       " 'truncated': False,\n",
       " 'entities': {'hashtags': [],\n",
       "  'symbols': [],\n",
       "  'user_mentions': [],\n",
       "  'urls': [{'url': 'http://t.co/N5HdS74Z0k',\n",
       "    'expanded_url': 'http://abcn.ws/1BXGZSd',\n",
       "    'display_url': 'abcn.ws/1BXGZSd',\n",
       "    'indices': [100, 122]}]},\n",
       " 'source': '<a href=\"https://about.twitter.com/products/tweetdeck\" rel=\"nofollow\">TweetDeck</a>',\n",
       " 'in_reply_to_status_id': None,\n",
       " 'in_reply_to_status_id_str': None,\n",
       " 'in_reply_to_user_id': None,\n",
       " 'in_reply_to_user_id_str': None,\n",
       " 'in_reply_to_screen_name': None,\n",
       " 'user': {'id': 28785486,\n",
       "  'id_str': '28785486',\n",
       "  'name': 'ABC News',\n",
       "  'screen_name': 'ABC',\n",
       "  'location': 'New York City / Worldwide',\n",
       "  'description': 'All the news and information you need to see, curated by the @ABC News team. https://t.co/PKeobr4xt0 Tips: https://t.co/2ICEX6CuXd',\n",
       "  'url': 'https://t.co/B4vihbwCGa',\n",
       "  'entities': {'url': {'urls': [{'url': 'https://t.co/B4vihbwCGa',\n",
       "      'expanded_url': 'https://abcnews.go.com/',\n",
       "      'display_url': 'abcnews.go.com',\n",
       "      'indices': [0, 23]}]},\n",
       "   'description': {'urls': [{'url': 'https://t.co/PKeobr4xt0',\n",
       "      'expanded_url': 'http://instagram.com/abcnews',\n",
       "      'display_url': 'instagram.com/abcnews',\n",
       "      'indices': [77, 100]},\n",
       "     {'url': 'https://t.co/2ICEX6CuXd',\n",
       "      'expanded_url': 'https://abcn.ws/tips',\n",
       "      'display_url': 'abcn.ws/tips',\n",
       "      'indices': [107, 130]}]}},\n",
       "  'protected': False,\n",
       "  'followers_count': 15233205,\n",
       "  'friends_count': 527,\n",
       "  'listed_count': 59938,\n",
       "  'created_at': '2015-01-13T18:44:06.000Z',\n",
       "  'favourites_count': 32,\n",
       "  'utc_offset': None,\n",
       "  'time_zone': None,\n",
       "  'geo_enabled': True,\n",
       "  'verified': True,\n",
       "  'statuses_count': 294869,\n",
       "  'lang': None,\n",
       "  'contributors_enabled': False,\n",
       "  'is_translator': False,\n",
       "  'is_translation_enabled': True,\n",
       "  'profile_background_color': '6E8EB5',\n",
       "  'profile_background_image_url': 'http://abs.twimg.com/images/themes/theme1/bg.png',\n",
       "  'profile_background_image_url_https': 'https://abs.twimg.com/images/themes/theme1/bg.png',\n",
       "  'profile_background_tile': False,\n",
       "  'profile_image_url': 'http://pbs.twimg.com/profile_images/1082358814819536896/19QbYCgF_normal.jpg',\n",
       "  'profile_image_url_https': 'https://pbs.twimg.com/profile_images/1082358814819536896/19QbYCgF_normal.jpg',\n",
       "  'profile_banner_url': 'https://pbs.twimg.com/profile_banners/28785486/1505493568',\n",
       "  'profile_link_color': '336699',\n",
       "  'profile_sidebar_border_color': 'FFFFFF',\n",
       "  'profile_sidebar_fill_color': 'DDEEF6',\n",
       "  'profile_text_color': '333333',\n",
       "  'profile_use_background_image': True,\n",
       "  'has_extended_profile': False,\n",
       "  'default_profile': False,\n",
       "  'default_profile_image': False,\n",
       "  'following': False,\n",
       "  'follow_request_sent': False,\n",
       "  'notifications': False,\n",
       "  'translator_type': 'regular',\n",
       "  'username': 'ABC'},\n",
       " 'geo': None,\n",
       " 'coordinates': None,\n",
       " 'place': None,\n",
       " 'contributors': None,\n",
       " 'is_quote_status': False,\n",
       " 'retweet_count': 106,\n",
       " 'favorite_count': 36,\n",
       " 'favorited': False,\n",
       " 'retweeted': False,\n",
       " 'possibly_sensitive': False,\n",
       " 'possibly_sensitive_appealable': False,\n",
       " 'lang': 'en'}"
      ]
     },
     "execution_count": 16,
     "metadata": {},
     "output_type": "execute_result"
    }
   ],
   "source": [
    "tweet_test['data'][10][0]"
   ]
  }
 ],
 "metadata": {
  "kernelspec": {
   "display_name": "Python 3 (ipykernel)",
   "language": "python",
   "name": "python3"
  },
  "language_info": {
   "codemirror_mode": {
    "name": "ipython",
    "version": 3
   },
   "file_extension": ".py",
   "mimetype": "text/x-python",
   "name": "python",
   "nbconvert_exporter": "python",
   "pygments_lexer": "ipython3",
   "version": "3.7.6"
  },
  "toc": {
   "base_numbering": 1,
   "nav_menu": {},
   "number_sections": true,
   "sideBar": true,
   "skip_h1_title": false,
   "title_cell": "Table of Contents",
   "title_sidebar": "Contents",
   "toc_cell": false,
   "toc_position": {},
   "toc_section_display": true,
   "toc_window_display": false
  },
  "varInspector": {
   "cols": {
    "lenName": 16,
    "lenType": 16,
    "lenVar": 40
   },
   "kernels_config": {
    "python": {
     "delete_cmd_postfix": "",
     "delete_cmd_prefix": "del ",
     "library": "var_list.py",
     "varRefreshCmd": "print(var_dic_list())"
    },
    "r": {
     "delete_cmd_postfix": ") ",
     "delete_cmd_prefix": "rm(",
     "library": "var_list.r",
     "varRefreshCmd": "cat(var_dic_list()) "
    }
   },
   "types_to_exclude": [
    "module",
    "function",
    "builtin_function_or_method",
    "instance",
    "_Feature"
   ],
   "window_display": false
  }
 },
 "nbformat": 4,
 "nbformat_minor": 5
}
