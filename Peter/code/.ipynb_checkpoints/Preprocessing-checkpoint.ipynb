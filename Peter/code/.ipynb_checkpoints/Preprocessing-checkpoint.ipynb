{
 "cells": [
  {
   "cell_type": "code",
   "execution_count": 1,
   "id": "192e5fed",
   "metadata": {
    "ExecuteTime": {
     "end_time": "2022-05-10T10:58:47.490701Z",
     "start_time": "2022-05-10T10:58:42.557197Z"
    }
   },
   "outputs": [],
   "source": [
    "import pandas as pd\n",
    "import json\n",
    "from pprint import pprint\n",
    "import dateutil.parser as parser\n",
    "import networkx as nx\n",
    "from matplotlib import pyplot as plt\n",
    "import seaborn as sns\n",
    "from datetime import datetime"
   ]
  },
  {
   "cell_type": "markdown",
   "id": "165a64ed",
   "metadata": {
    "heading_collapsed": true
   },
   "source": [
    "### Get valid data ids/labels"
   ]
  },
  {
   "cell_type": "code",
   "execution_count": 2,
   "id": "038e5797",
   "metadata": {
    "ExecuteTime": {
     "end_time": "2022-05-10T10:58:49.502846Z",
     "start_time": "2022-05-10T10:58:49.492846Z"
    },
    "hidden": true
   },
   "outputs": [],
   "source": [
    "def read_file(file_name):\n",
    "    '''\n",
    "    This function will read the file containing tweet ids sperating by lines (in groups)\n",
    "    '''\n",
    "    all_ids = pd.read_table(file_name,sep='\\n',header=None)\n",
    "    return all_ids"
   ]
  },
  {
   "cell_type": "code",
   "execution_count": 9,
   "id": "282d68db",
   "metadata": {
    "ExecuteTime": {
     "end_time": "2022-05-09T10:40:26.294762Z",
     "start_time": "2022-05-09T10:40:26.270524Z"
    },
    "hidden": true
   },
   "outputs": [],
   "source": [
    "def get_new_data_ids(ids_file, data_all_file, output):\n",
    "    original_ids = read_file(ids_file)\n",
    "\n",
    "    tweets = pd.read_json(data_all_file)\n",
    "\n",
    "    valid_ids = original_ids.iloc[tweets.keys()]\n",
    "\n",
    "    valid_ids.to_csv(output, index=False, header=False)"
   ]
  },
  {
   "cell_type": "code",
   "execution_count": 10,
   "id": "597f25dc",
   "metadata": {
    "ExecuteTime": {
     "end_time": "2022-05-09T10:40:35.978682Z",
     "start_time": "2022-05-09T10:40:32.419735Z"
    },
    "hidden": true
   },
   "outputs": [],
   "source": [
    "get_new_data_ids('../data/raw/train.data.txt', \"../data/train_data_all.json\", \"../data/valid.train.ids.txt\")\n",
    "get_new_data_ids('../data/raw/train.label.txt', \"../data/train_data_all.json\", \"../data/valid.train.label.txt\")"
   ]
  },
  {
   "cell_type": "code",
   "execution_count": 24,
   "id": "e607123d",
   "metadata": {
    "ExecuteTime": {
     "end_time": "2022-05-09T10:52:13.823067Z",
     "start_time": "2022-05-09T10:52:10.375020Z"
    },
    "hidden": true
   },
   "outputs": [],
   "source": [
    "get_new_data_ids('../data/raw/dev.data.txt', \"../data/dev_data_all.json\", \"../data/valid.dev.ids.txt\")\n",
    "get_new_data_ids('../data/raw/dev.label.txt', \"../data/dev_data_all.json\", \"../data/valid.dev.label.txt\")"
   ]
  },
  {
   "cell_type": "code",
   "execution_count": 12,
   "id": "e38d50f5",
   "metadata": {
    "ExecuteTime": {
     "end_time": "2022-05-09T10:40:46.215769Z",
     "start_time": "2022-05-09T10:40:37.527192Z"
    },
    "hidden": true
   },
   "outputs": [],
   "source": [
    "get_new_data_ids('../data/raw/covid.data.txt', \"../data/covid_data_all.json\", \"../data/valid.covid.ids.txt\")"
   ]
  },
  {
   "cell_type": "markdown",
   "id": "66a3e58f",
   "metadata": {
    "heading_collapsed": true
   },
   "source": [
    "### Merge and organise the information"
   ]
  },
  {
   "cell_type": "code",
   "execution_count": 13,
   "id": "48faad6a",
   "metadata": {
    "ExecuteTime": {
     "end_time": "2022-05-09T10:40:46.625766Z",
     "start_time": "2022-05-09T10:40:46.565768Z"
    },
    "hidden": true
   },
   "outputs": [],
   "source": [
    "def merge_info(file, label_file, output):\n",
    "    labels = read_file(label_file)\n",
    "    tweets = pd.read_json(file)\n",
    "    tweets = tweets.T.reset_index(drop=True)\n",
    "    \n",
    "    tweets['label'] = labels[0].reset_index(drop=True)\n",
    "    tweets['label'] = tweets['label'].apply(lambda x: 1 if x == 'rumour' else 0)\n",
    "\n",
    "    # get all users info in a dict by author id\n",
    "    users_info = tweets['includes'].map(\n",
    "        lambda x: {n['id']: n\n",
    "                   for n in x['users']})\n",
    "    users_dict = {}\n",
    "    for i in range(len(users_info)):\n",
    "        users_dict.update(users_info[i])\n",
    "\n",
    "    for i in range(len(tweets)):\n",
    "        for tweet in tweets['data'][i]:\n",
    "\n",
    "            # add in_reply_to_status_id info to tweet\n",
    "            if 'referenced_tweets' in tweet:\n",
    "                if len(tweet['referenced_tweets']) == 1:\n",
    "                    tweet['in_reply_to_status_id'] = tweet[\n",
    "                        'referenced_tweets'][0]['id']\n",
    "                else:\n",
    "                    for ref in tweet['referenced_tweets']:\n",
    "                        if ref['type'] == 'replied_to':\n",
    "                            tweet['in_reply_to_status_id'] = tweet[\n",
    "                                'referenced_tweets'][0]['id']\n",
    "            else:\n",
    "                tweet['in_reply_to_user_id'] = None\n",
    "                tweet['in_reply_to_status_id'] = None\n",
    "\n",
    "            # add user info to tweet info by author id\n",
    "            tweet['user'] = users_dict[tweet['author_id']]\n",
    "            \n",
    "    tweets.drop(['includes', 'errors'], axis=1, inplace=True)\n",
    "    \n",
    "    tweets.to_json(output, orient='records')"
   ]
  },
  {
   "cell_type": "code",
   "execution_count": 14,
   "id": "9c3cbe5c",
   "metadata": {
    "ExecuteTime": {
     "end_time": "2022-05-09T10:40:46.985483Z",
     "start_time": "2022-05-09T10:40:46.971483Z"
    },
    "code_folding": [
     0
    ],
    "hidden": true
   },
   "outputs": [],
   "source": [
    "def merge_covid_info(file, output):\n",
    "    tweets = pd.read_json(file)\n",
    "    tweets = tweets.T.reset_index(drop=True)\n",
    "\n",
    "    # get all users info in a dict by author id\n",
    "    users_info = tweets['includes'].map(\n",
    "        lambda x: {n['id']: n\n",
    "                   for n in x['users']})\n",
    "    users_dict = {}\n",
    "    for i in range(len(users_info)):\n",
    "        users_dict.update(users_info[i])\n",
    "\n",
    "    for i in range(len(tweets)):\n",
    "        for tweet in tweets['data'][i]:\n",
    "\n",
    "            # add in_reply_to_status_id info to tweet\n",
    "            if 'referenced_tweets' in tweet:\n",
    "                if len(tweet['referenced_tweets']) == 1:\n",
    "                    tweet['in_reply_to_status_id'] = tweet[\n",
    "                        'referenced_tweets'][0]['id']\n",
    "                else:\n",
    "                    for ref in tweet['referenced_tweets']:\n",
    "                        if ref['type'] == 'replied_to':\n",
    "                            tweet['in_reply_to_status_id'] = tweet[\n",
    "                                'referenced_tweets'][0]['id']\n",
    "            else:\n",
    "                tweet['in_reply_to_user_id'] = None\n",
    "                tweet['in_reply_to_status_id'] = None\n",
    "\n",
    "            # add user info to tweet info by author id\n",
    "            tweet['user'] = users_dict[tweet['author_id']]\n",
    "            \n",
    "    tweets.drop(['includes', 'errors'], axis=1, inplace=True)\n",
    "    \n",
    "    tweets.to_json(output, orient='records')"
   ]
  },
  {
   "cell_type": "code",
   "execution_count": 25,
   "id": "58458601",
   "metadata": {
    "ExecuteTime": {
     "end_time": "2022-05-09T10:52:53.511489Z",
     "start_time": "2022-05-09T10:52:53.045452Z"
    },
    "hidden": true
   },
   "outputs": [],
   "source": [
    "merge_info(\"../data/train_data_all.json\", '../data/valid.train.label.txt', \"../data/train_data_merged.json\")\n",
    "merge_info(\"../data/dev_data_all.json\", '../data/valid.dev.label.txt', \"../data/dev_data_merged.json\")"
   ]
  },
  {
   "cell_type": "code",
   "execution_count": 29,
   "id": "e722d3a1",
   "metadata": {
    "ExecuteTime": {
     "end_time": "2022-05-06T13:28:18.709169Z",
     "start_time": "2022-05-06T13:27:39.157103Z"
    },
    "hidden": true
   },
   "outputs": [],
   "source": [
    "merge_covid_info(\"../data/covid_data_all.json\", \"../data/covid_data_merged.json\")"
   ]
  },
  {
   "cell_type": "code",
   "execution_count": 3,
   "id": "04c6fa2d",
   "metadata": {
    "ExecuteTime": {
     "end_time": "2022-05-10T10:58:56.558021Z",
     "start_time": "2022-05-10T10:58:55.861014Z"
    },
    "hidden": true,
    "scrolled": true
   },
   "outputs": [],
   "source": [
    "train_data_merged = pd.read_json(\"../data/train_data_merged.json\")\n",
    "# train_data_merged"
   ]
  },
  {
   "cell_type": "code",
   "execution_count": 4,
   "id": "098bb184",
   "metadata": {
    "ExecuteTime": {
     "end_time": "2022-05-10T10:58:57.444010Z",
     "start_time": "2022-05-10T10:58:57.165051Z"
    },
    "hidden": true,
    "scrolled": true
   },
   "outputs": [],
   "source": [
    "dev_data_merged = pd.read_json(\"../data/dev_data_merged.json\")\n",
    "# dev_data_prepared"
   ]
  },
  {
   "cell_type": "code",
   "execution_count": 5,
   "id": "e4840201",
   "metadata": {
    "ExecuteTime": {
     "end_time": "2022-05-10T10:59:09.757713Z",
     "start_time": "2022-05-10T10:59:01.853647Z"
    },
    "hidden": true
   },
   "outputs": [],
   "source": [
    "covid_data_merged = pd.read_json(\"../data/covid_data_merged.json\")\n",
    "# covid_data_merged"
   ]
  },
  {
   "cell_type": "markdown",
   "id": "e4b80105",
   "metadata": {},
   "source": [
    "### Filter the replies"
   ]
  },
  {
   "cell_type": "markdown",
   "id": "6d693ec1",
   "metadata": {
    "heading_collapsed": true
   },
   "source": [
    "#### Change the format of 'created_at' fields for testset"
   ]
  },
  {
   "cell_type": "code",
   "execution_count": 511,
   "id": "259fa9bc",
   "metadata": {
    "ExecuteTime": {
     "end_time": "2022-05-06T06:03:26.288655Z",
     "start_time": "2022-05-06T06:03:25.229988Z"
    },
    "hidden": true
   },
   "outputs": [],
   "source": [
    "for i in range(len(test_data)):\n",
    "    for tweet in test_data['data'][i]: \n",
    "        text = tweet['created_at']\n",
    "        date = parser.parse(text)\n",
    "        tweet['created_at'] = str(date.isoformat().replace('+00:00', '.000Z'))\n",
    "        tweet['user']['created_at'] = str(date.isoformat().replace('+00:00', '.000Z'))"
   ]
  },
  {
   "cell_type": "code",
   "execution_count": 506,
   "id": "3c4a529c",
   "metadata": {
    "ExecuteTime": {
     "end_time": "2022-05-06T06:01:13.908237Z",
     "start_time": "2022-05-06T06:01:12.748162Z"
    },
    "hidden": true
   },
   "outputs": [],
   "source": [
    "test_data.to_json(\"../data/test_data_all.json\", orient='records')"
   ]
  },
  {
   "cell_type": "code",
   "execution_count": 503,
   "id": "9f39aa20",
   "metadata": {
    "ExecuteTime": {
     "end_time": "2022-05-06T05:58:56.271926Z",
     "start_time": "2022-05-06T05:58:55.809102Z"
    },
    "hidden": true
   },
   "outputs": [],
   "source": [
    "test_data = pd.read_json(\"../data/test_data_all.json\")\n",
    "# test_data"
   ]
  },
  {
   "cell_type": "markdown",
   "id": "3dc97a49",
   "metadata": {
    "heading_collapsed": true
   },
   "source": [
    "#### Check the number of tweets per group before filter"
   ]
  },
  {
   "cell_type": "code",
   "execution_count": 19,
   "id": "c329c1b8",
   "metadata": {
    "ExecuteTime": {
     "end_time": "2022-05-06T12:44:17.486292Z",
     "start_time": "2022-05-06T12:44:17.451293Z"
    },
    "hidden": true
   },
   "outputs": [],
   "source": [
    "lens = []\n",
    "for i in range(len(train_data_merged)):\n",
    "    lens.append(len(train_data_merged['data'][i]))"
   ]
  },
  {
   "cell_type": "code",
   "execution_count": 21,
   "id": "1a4782f1",
   "metadata": {
    "ExecuteTime": {
     "end_time": "2022-05-06T12:44:24.344248Z",
     "start_time": "2022-05-06T12:44:23.488959Z"
    },
    "hidden": true
   },
   "outputs": [
    {
     "data": {
      "text/plain": [
       "(0.0, 20.0)"
      ]
     },
     "execution_count": 21,
     "metadata": {},
     "output_type": "execute_result"
    },
    {
     "data": {
      "image/png": "[encoded data removed]",
      "text/plain": [
       "<Figure size 648x432 with 1 Axes>"
      ]
     },
     "metadata": {},
     "output_type": "display_data"
    }
   ],
   "source": [
    "sns.set(rc={'figure.figsize':(9,6)})\n",
    "ax = sns.histplot(lens)\n",
    "plt.xlabel('Number of Tweets (0-50)', fontsize=14)\n",
    "plt.ylabel('Count', fontsize=14)\n",
    "plt.title(\"Number of Tweets Per Group\", fontsize=14)\n",
    "plt.xlim(0, 20)"
   ]
  },
  {
   "cell_type": "markdown",
   "id": "2f7ccb57",
   "metadata": {
    "heading_collapsed": true
   },
   "source": [
    "#### Reorder the tweets by time and Filter the tweets by building trees"
   ]
  },
  {
   "cell_type": "code",
   "execution_count": 6,
   "id": "9fa85d0d",
   "metadata": {
    "ExecuteTime": {
     "end_time": "2022-05-10T10:59:34.864985Z",
     "start_time": "2022-05-10T10:59:34.850992Z"
    },
    "code_folding": [],
    "hidden": true
   },
   "outputs": [],
   "source": [
    "def build_tree(tweets):\n",
    "    nodes = set()\n",
    "    edges = []\n",
    "    id_data = {}\n",
    "    id_treeid = {}\n",
    "    parent_children = {}\n",
    "    child_parent = {}\n",
    "\n",
    "    def check_trees(node_id):\n",
    "        tree_id = id_treeid[node_id]\n",
    "\n",
    "        if node_id in parent_children:\n",
    "            for child_id in parent_children[node_id]:\n",
    "                if child_id not in id_treeid or id_treeid[\n",
    "                        child_id] != id_treeid[node_id]:\n",
    "                    id_treeid[child_id] = id_treeid[node_id]\n",
    "                    check_trees(child_id)\n",
    "                    \n",
    "    for tweet in tweets:\n",
    "        node_id = tweet['id']\n",
    "        id_data[node_id] = tweet \n",
    "\n",
    "        # 0 as tree id for source tweet\n",
    "        # MIGHT NEED TO CONSIDER WHETHER TO INVOLVE THE FIRST TWEET AS A REPLY\n",
    "        if tweet == tweets[0]:\n",
    "            id_treeid[node_id] = 0\n",
    "            continue\n",
    "\n",
    "        if tweet['in_reply_to_status_id'] != None:\n",
    "            parent_id = tweet['in_reply_to_status_id']\n",
    "            child_parent[node_id] = parent_id\n",
    "\n",
    "            if parent_id not in parent_children:\n",
    "                parent_children[parent_id] = set()\n",
    "            parent_children[parent_id].add(node_id)\n",
    "\n",
    "            # check if the parent of current node already existed in any tree\n",
    "            # if so change the children ids to upper tree id\n",
    "            if parent_id in id_treeid:\n",
    "                check_trees(parent_id)\n",
    "                pass\n",
    "            else:\n",
    "                tree_id = len(id_treeid)\n",
    "                id_treeid[node_id] = tree_id\n",
    "                id_treeid[parent_id] = tree_id\n",
    "\n",
    "    # get nodes and edges in the tree of the source\n",
    "    for node_id, tree_id in id_treeid.items():\n",
    "        if tree_id == 0:\n",
    "            nodes.add(node_id)\n",
    "            if node_id in child_parent:\n",
    "                edges.append([node_id, child_parent[node_id]])\n",
    "\n",
    "    return nodes, edges, id_treeid, id_data"
   ]
  },
  {
   "cell_type": "code",
   "execution_count": 92,
   "id": "dbaa8cdb",
   "metadata": {
    "ExecuteTime": {
     "end_time": "2022-05-10T11:43:42.877488Z",
     "start_time": "2022-05-10T11:43:42.860196Z"
    },
    "code_folding": [],
    "hidden": true
   },
   "outputs": [],
   "source": [
    "def filter_and_reorder(file, output):\n",
    "    tweets = pd.read_json(file)\n",
    "    for i in range(len(tweets)):\n",
    "        data = tweets['data'][i]\n",
    "        \n",
    "        # reorder the tweets\n",
    "        source_all = []\n",
    "        reply_all = []\n",
    "        for tweet in data:\n",
    "            if tweet['user']['id'] == data[0]['user']['id']:\n",
    "                source_all.append(tweet)\n",
    "            else:\n",
    "                reply_all.append(tweet)\n",
    "        \n",
    "        # sort the tweets from same user of the source by time\n",
    "        source_sorted_by_time = sorted(\n",
    "            source_all,\n",
    "            key=lambda t: datetime.strptime(t['created_at'],\n",
    "                                            '%Y-%m-%dT%H:%M:%S.000Z'))\n",
    "\n",
    "        # sort the reply by time\n",
    "        reply_sorted_by_time = sorted(\n",
    "            reply_all,\n",
    "            key=lambda t: datetime.strptime(t['created_at'],\n",
    "                                            '%Y-%m-%dT%H:%M:%S.000Z'))\n",
    "       \n",
    "        sorted_list = source_sorted_by_time\n",
    "        sorted_list.extend(reply_sorted_by_time)\n",
    "        tweets.at[i, 'data'] = sorted_list\n",
    "        \n",
    "        # filter the reply by only keeping the reply in the tree of the source\n",
    "        tree_data = build_tree(sorted_list)\n",
    "        tweet_id_list = [_id for _id, tree_id in tree_data[-2].items() if tree_id == 0]\n",
    "        new_tweet_data = [tree_data[-1][_id] for _id in tweet_id_list]\n",
    "        tweets.at[i, 'data'] = new_tweet_data\n",
    "    \n",
    "    tweets.to_json(output, orient='records')"
   ]
  },
  {
   "cell_type": "code",
   "execution_count": 97,
   "id": "8ccf5ebf",
   "metadata": {
    "ExecuteTime": {
     "end_time": "2022-05-10T11:47:30.598406Z",
     "start_time": "2022-05-10T11:47:26.495718Z"
    },
    "hidden": true
   },
   "outputs": [],
   "source": [
    "filter_and_reorder(\"../data/train_data_merged.json\", \"../data/train_data_prepared.json\")\n",
    "filter_and_reorder(\"../data/dev_data_merged.json\", \"../data/dev_data_prepared.json\")\n",
    "filter_and_reorder(\"../data/test_data_all.json\", \"../data/test_data_prepared.json\")"
   ]
  },
  {
   "cell_type": "code",
   "execution_count": 109,
   "id": "6756ac8f",
   "metadata": {
    "ExecuteTime": {
     "end_time": "2022-05-10T11:49:41.548117Z",
     "start_time": "2022-05-10T11:49:07.295622Z"
    },
    "hidden": true
   },
   "outputs": [],
   "source": [
    "filter_and_reorder(\"../data/covid_data_merged.json\", \"../data/covid_data_prepared.json\")"
   ]
  },
  {
   "cell_type": "markdown",
   "id": "4fd181fa",
   "metadata": {
    "heading_collapsed": true,
    "hidden": true
   },
   "source": [
    "##### Save a Copy of Devset as Testset"
   ]
  },
  {
   "cell_type": "code",
   "execution_count": 98,
   "id": "2d1c6157",
   "metadata": {
    "ExecuteTime": {
     "end_time": "2022-05-10T11:47:40.364588Z",
     "start_time": "2022-05-10T11:47:40.225558Z"
    },
    "hidden": true
   },
   "outputs": [],
   "source": [
    "dev_data_prepared = pd.read_json(\"../data/dev_data_prepared.json\")"
   ]
  },
  {
   "cell_type": "code",
   "execution_count": 99,
   "id": "7b0c9fb4",
   "metadata": {
    "ExecuteTime": {
     "end_time": "2022-05-10T11:47:41.989368Z",
     "start_time": "2022-05-10T11:47:41.954193Z"
    },
    "hidden": true
   },
   "outputs": [],
   "source": [
    "dev_data_to_predict = dev_data_prepared.drop('label', axis=1)"
   ]
  },
  {
   "cell_type": "code",
   "execution_count": 100,
   "id": "54e02e59",
   "metadata": {
    "ExecuteTime": {
     "end_time": "2022-05-10T11:47:43.415683Z",
     "start_time": "2022-05-10T11:47:43.298550Z"
    },
    "hidden": true
   },
   "outputs": [
    {
     "data": {
      "text/html": [
       "<div>\n",
       "<style scoped>\n",
       "    .dataframe tbody tr th:only-of-type {\n",
       "        vertical-align: middle;\n",
       "    }\n",
       "\n",
       "    .dataframe tbody tr th {\n",
       "        vertical-align: top;\n",
       "    }\n",
       "\n",
       "    .dataframe thead th {\n",
       "        text-align: right;\n",
       "    }\n",
       "</style>\n",
       "<table border=\"1\" class=\"dataframe\">\n",
       "  <thead>\n",
       "    <tr style=\"text-align: right;\">\n",
       "      <th></th>\n",
       "      <th>data</th>\n",
       "    </tr>\n",
       "  </thead>\n",
       "  <tbody>\n",
       "    <tr>\n",
       "      <th>0</th>\n",
       "      <td>[{'lang': 'en', 'possibly_sensitive': False, '...</td>\n",
       "    </tr>\n",
       "    <tr>\n",
       "      <th>1</th>\n",
       "      <td>[{'text': '@atruchecks when can we expect the ...</td>\n",
       "    </tr>\n",
       "    <tr>\n",
       "      <th>2</th>\n",
       "      <td>[{'created_at': '2020-03-04T16:05:25.000Z', 'c...</td>\n",
       "    </tr>\n",
       "    <tr>\n",
       "      <th>3</th>\n",
       "      <td>[{'author_id': '393187879', 'lang': 'en', 'cre...</td>\n",
       "    </tr>\n",
       "    <tr>\n",
       "      <th>4</th>\n",
       "      <td>[{'conversation_id': '523820806917603328', 'cr...</td>\n",
       "    </tr>\n",
       "    <tr>\n",
       "      <th>...</th>\n",
       "      <td>...</td>\n",
       "    </tr>\n",
       "    <tr>\n",
       "      <th>530</th>\n",
       "      <td>[{'author_id': '817903682847182848', 'public_m...</td>\n",
       "    </tr>\n",
       "    <tr>\n",
       "      <th>531</th>\n",
       "      <td>[{'possibly_sensitive': False, 'text': 'After ...</td>\n",
       "    </tr>\n",
       "    <tr>\n",
       "      <th>532</th>\n",
       "      <td>[{'author_id': '570876529', 'lang': 'en', 'cre...</td>\n",
       "    </tr>\n",
       "    <tr>\n",
       "      <th>533</th>\n",
       "      <td>[{'public_metrics': {'retweet_count': 127, 're...</td>\n",
       "    </tr>\n",
       "    <tr>\n",
       "      <th>534</th>\n",
       "      <td>[{'author_id': '300389524', 'lang': 'en', 'cre...</td>\n",
       "    </tr>\n",
       "  </tbody>\n",
       "</table>\n",
       "<p>535 rows × 1 columns</p>\n",
       "</div>"
      ],
      "text/plain": [
       "                                                  data\n",
       "0    [{'lang': 'en', 'possibly_sensitive': False, '...\n",
       "1    [{'text': '@atruchecks when can we expect the ...\n",
       "2    [{'created_at': '2020-03-04T16:05:25.000Z', 'c...\n",
       "3    [{'author_id': '393187879', 'lang': 'en', 'cre...\n",
       "4    [{'conversation_id': '523820806917603328', 'cr...\n",
       "..                                                 ...\n",
       "530  [{'author_id': '817903682847182848', 'public_m...\n",
       "531  [{'possibly_sensitive': False, 'text': 'After ...\n",
       "532  [{'author_id': '570876529', 'lang': 'en', 'cre...\n",
       "533  [{'public_metrics': {'retweet_count': 127, 're...\n",
       "534  [{'author_id': '300389524', 'lang': 'en', 'cre...\n",
       "\n",
       "[535 rows x 1 columns]"
      ]
     },
     "execution_count": 100,
     "metadata": {},
     "output_type": "execute_result"
    }
   ],
   "source": [
    "dev_data_to_predict"
   ]
  },
  {
   "cell_type": "code",
   "execution_count": 101,
   "id": "596427aa",
   "metadata": {
    "ExecuteTime": {
     "end_time": "2022-05-10T11:47:46.237930Z",
     "start_time": "2022-05-10T11:47:46.134688Z"
    },
    "hidden": true
   },
   "outputs": [],
   "source": [
    "dev_data_to_predict.to_json(\"../data/dev_data_to_predict.json\", orient='records')"
   ]
  },
  {
   "cell_type": "markdown",
   "id": "0a71c5ef",
   "metadata": {
    "heading_collapsed": true,
    "hidden": true
   },
   "source": [
    "##### Save a Copy of Trainset as Testset"
   ]
  },
  {
   "cell_type": "code",
   "execution_count": 102,
   "id": "09643900",
   "metadata": {
    "ExecuteTime": {
     "end_time": "2022-05-10T11:47:51.151191Z",
     "start_time": "2022-05-10T11:47:50.263974Z"
    },
    "hidden": true
   },
   "outputs": [],
   "source": [
    "train_data_prepared = pd.read_json(\"../data/train_data_prepared.json\")"
   ]
  },
  {
   "cell_type": "code",
   "execution_count": 103,
   "id": "da8a23de",
   "metadata": {
    "ExecuteTime": {
     "end_time": "2022-05-10T11:47:52.066585Z",
     "start_time": "2022-05-10T11:47:52.053399Z"
    },
    "hidden": true
   },
   "outputs": [],
   "source": [
    "train_data_to_predict = train_data_prepared.drop('label', axis=1)"
   ]
  },
  {
   "cell_type": "code",
   "execution_count": 105,
   "id": "20d4e26a",
   "metadata": {
    "ExecuteTime": {
     "end_time": "2022-05-10T11:48:04.407362Z",
     "start_time": "2022-05-10T11:48:01.314226Z"
    },
    "hidden": true
   },
   "outputs": [
    {
     "data": {
      "text/html": [
       "<div>\n",
       "<style scoped>\n",
       "    .dataframe tbody tr th:only-of-type {\n",
       "        vertical-align: middle;\n",
       "    }\n",
       "\n",
       "    .dataframe tbody tr th {\n",
       "        vertical-align: top;\n",
       "    }\n",
       "\n",
       "    .dataframe thead th {\n",
       "        text-align: right;\n",
       "    }\n",
       "</style>\n",
       "<table border=\"1\" class=\"dataframe\">\n",
       "  <thead>\n",
       "    <tr style=\"text-align: right;\">\n",
       "      <th></th>\n",
       "      <th>data</th>\n",
       "    </tr>\n",
       "  </thead>\n",
       "  <tbody>\n",
       "    <tr>\n",
       "      <th>0</th>\n",
       "      <td>[{'text': '4. Can eating garlic help prevent i...</td>\n",
       "    </tr>\n",
       "    <tr>\n",
       "      <th>1</th>\n",
       "      <td>[{'author_id': '16343974', 'public_metrics': {...</td>\n",
       "    </tr>\n",
       "    <tr>\n",
       "      <th>2</th>\n",
       "      <td>[{'text': 'Coronavirus disease (COVID-19) advi...</td>\n",
       "    </tr>\n",
       "    <tr>\n",
       "      <th>3</th>\n",
       "      <td>[{'text': 'Ottawa police confirm that there we...</td>\n",
       "    </tr>\n",
       "    <tr>\n",
       "      <th>4</th>\n",
       "      <td>[{'possibly_sensitive': False, 'public_metrics...</td>\n",
       "    </tr>\n",
       "    <tr>\n",
       "      <th>...</th>\n",
       "      <td>...</td>\n",
       "    </tr>\n",
       "    <tr>\n",
       "      <th>1684</th>\n",
       "      <td>[{'lang': 'en', 'author_id': '39511166', 'conv...</td>\n",
       "    </tr>\n",
       "    <tr>\n",
       "      <th>1685</th>\n",
       "      <td>[{'public_metrics': {'retweet_count': 534, 're...</td>\n",
       "    </tr>\n",
       "    <tr>\n",
       "      <th>1686</th>\n",
       "      <td>[{'possibly_sensitive': False, 'text': 'Nerds:...</td>\n",
       "    </tr>\n",
       "    <tr>\n",
       "      <th>1687</th>\n",
       "      <td>[{'lang': 'en', 'id': '1257261787600367617', '...</td>\n",
       "    </tr>\n",
       "    <tr>\n",
       "      <th>1688</th>\n",
       "      <td>[{'created_at': '2020-04-01T16:02:44.000Z', 'i...</td>\n",
       "    </tr>\n",
       "  </tbody>\n",
       "</table>\n",
       "<p>1689 rows × 1 columns</p>\n",
       "</div>"
      ],
      "text/plain": [
       "                                                   data\n",
       "0     [{'text': '4. Can eating garlic help prevent i...\n",
       "1     [{'author_id': '16343974', 'public_metrics': {...\n",
       "2     [{'text': 'Coronavirus disease (COVID-19) advi...\n",
       "3     [{'text': 'Ottawa police confirm that there we...\n",
       "4     [{'possibly_sensitive': False, 'public_metrics...\n",
       "...                                                 ...\n",
       "1684  [{'lang': 'en', 'author_id': '39511166', 'conv...\n",
       "1685  [{'public_metrics': {'retweet_count': 534, 're...\n",
       "1686  [{'possibly_sensitive': False, 'text': 'Nerds:...\n",
       "1687  [{'lang': 'en', 'id': '1257261787600367617', '...\n",
       "1688  [{'created_at': '2020-04-01T16:02:44.000Z', 'i...\n",
       "\n",
       "[1689 rows x 1 columns]"
      ]
     },
     "execution_count": 105,
     "metadata": {},
     "output_type": "execute_result"
    }
   ],
   "source": [
    "train_data_to_predict"
   ]
  },
  {
   "cell_type": "code",
   "execution_count": 106,
   "id": "78c82342",
   "metadata": {
    "ExecuteTime": {
     "end_time": "2022-05-10T11:48:09.014820Z",
     "start_time": "2022-05-10T11:48:08.612746Z"
    },
    "hidden": true
   },
   "outputs": [],
   "source": [
    "train_data_to_predict.to_json(\"../data/train_data_to_predict.json\", orient='records')"
   ]
  },
  {
   "cell_type": "markdown",
   "id": "80785f6f",
   "metadata": {
    "heading_collapsed": true
   },
   "source": [
    "#### Check the number of tweets per group after filter"
   ]
  },
  {
   "cell_type": "code",
   "execution_count": 22,
   "id": "6f20a5d2",
   "metadata": {
    "ExecuteTime": {
     "end_time": "2022-05-06T12:44:31.944449Z",
     "start_time": "2022-05-06T12:44:31.338449Z"
    },
    "hidden": true,
    "scrolled": false
   },
   "outputs": [],
   "source": [
    "train_data_prepared = pd.read_json(\"../data/train_data_prepared.json\")\n",
    "# train_data_filtered"
   ]
  },
  {
   "cell_type": "code",
   "execution_count": 107,
   "id": "3933a081",
   "metadata": {
    "ExecuteTime": {
     "end_time": "2022-05-10T11:48:20.493835Z",
     "start_time": "2022-05-10T11:48:20.457329Z"
    },
    "hidden": true
   },
   "outputs": [],
   "source": [
    "lens = []\n",
    "for i in range(len(train_data_prepared)):\n",
    "    lens.append(len(train_data_prepared['data'][i]))"
   ]
  },
  {
   "cell_type": "code",
   "execution_count": 108,
   "id": "06c89559",
   "metadata": {
    "ExecuteTime": {
     "end_time": "2022-05-10T11:48:22.664225Z",
     "start_time": "2022-05-10T11:48:21.474995Z"
    },
    "hidden": true
   },
   "outputs": [
    {
     "data": {
      "text/plain": [
       "(0.0, 20.0)"
      ]
     },
     "execution_count": 108,
     "metadata": {},
     "output_type": "execute_result"
    },
    {
     "data": {
      "image/png": "[encoded data removed]",
      "text/plain": [
       "<Figure size 648x432 with 1 Axes>"
      ]
     },
     "metadata": {},
     "output_type": "display_data"
    }
   ],
   "source": [
    "sns.set(rc={'figure.figsize':(9,6)})\n",
    "ax = sns.histplot(lens)\n",
    "plt.xlabel('Number of Tweets (0-50)', fontsize=14)\n",
    "plt.ylabel('Count', fontsize=14)\n",
    "plt.title(\"Number of Tweets Per Group\", fontsize=14)\n",
    "plt.xlim(0, 20)"
   ]
  },
  {
   "cell_type": "code",
   "execution_count": null,
   "id": "50fb74bb",
   "metadata": {
    "hidden": true
   },
   "outputs": [],
   "source": []
  },
  {
   "cell_type": "markdown",
   "id": "aa8a43c4",
   "metadata": {
    "heading_collapsed": true
   },
   "source": [
    "#### Test building the tree"
   ]
  },
  {
   "cell_type": "code",
   "execution_count": 74,
   "id": "bb1b9ad5",
   "metadata": {
    "ExecuteTime": {
     "end_time": "2022-05-10T11:35:33.616967Z",
     "start_time": "2022-05-10T11:35:33.603045Z"
    },
    "hidden": true
   },
   "outputs": [],
   "source": [
    "sample = dev_data_merged['data'][13]"
   ]
  },
  {
   "cell_type": "code",
   "execution_count": 76,
   "id": "cf6c767c",
   "metadata": {
    "ExecuteTime": {
     "end_time": "2022-05-10T11:35:47.580705Z",
     "start_time": "2022-05-10T11:35:47.575238Z"
    },
    "hidden": true
   },
   "outputs": [],
   "source": [
    "res = build_tree(sample)"
   ]
  },
  {
   "cell_type": "code",
   "execution_count": 77,
   "id": "ecd724db",
   "metadata": {
    "ExecuteTime": {
     "end_time": "2022-05-10T11:35:48.917874Z",
     "start_time": "2022-05-10T11:35:48.901409Z"
    },
    "hidden": true
   },
   "outputs": [
    {
     "data": {
      "text/plain": [
       "({'1271069303979335680', '1271107847183458306'},\n",
       " [['1271107847183458306', '1271069303979335680']],\n",
       " {'1271069303979335680': 0,\n",
       "  '1268735612787531778': 1,\n",
       "  '1268665466702225410': 1,\n",
       "  '1270925281939709952': 1,\n",
       "  '1271107847183458306': 0})"
      ]
     },
     "execution_count": 77,
     "metadata": {},
     "output_type": "execute_result"
    }
   ],
   "source": [
    "res[:-1]"
   ]
  },
  {
   "cell_type": "code",
   "execution_count": 78,
   "id": "ad31c135",
   "metadata": {
    "ExecuteTime": {
     "end_time": "2022-05-10T11:35:51.591137Z",
     "start_time": "2022-05-10T11:35:51.185140Z"
    },
    "hidden": true
   },
   "outputs": [
    {
     "data": {
      "image/png": "[encoded data removed]",
      "text/plain": [
       "<Figure size 432x288 with 1 Axes>"
      ]
     },
     "metadata": {},
     "output_type": "display_data"
    }
   ],
   "source": [
    "tree = nx.DiGraph()\n",
    "tree.add_nodes_from(res[0])\n",
    "tree.add_edges_from(res[1])\n",
    "\n",
    "nx.draw_networkx(tree, with_labels=False)"
   ]
  }
 ],
 "metadata": {
  "kernelspec": {
   "display_name": "Python 3 (ipykernel)",
   "language": "python",
   "name": "python3"
  },
  "language_info": {
   "codemirror_mode": {
    "name": "ipython",
    "version": 3
   },
   "file_extension": ".py",
   "mimetype": "text/x-python",
   "name": "python",
   "nbconvert_exporter": "python",
   "pygments_lexer": "ipython3",
   "version": "3.7.6"
  },
  "toc": {
   "base_numbering": 1,
   "nav_menu": {},
   "number_sections": true,
   "sideBar": true,
   "skip_h1_title": false,
   "title_cell": "Table of Contents",
   "title_sidebar": "Contents",
   "toc_cell": false,
   "toc_position": {},
   "toc_section_display": true,
   "toc_window_display": false
  },
  "varInspector": {
   "cols": {
    "lenName": 16,
    "lenType": 16,
    "lenVar": 40
   },
   "kernels_config": {
    "python": {
     "delete_cmd_postfix": "",
     "delete_cmd_prefix": "del ",
     "library": "var_list.py",
     "varRefreshCmd": "print(var_dic_list())"
    },
    "r": {
     "delete_cmd_postfix": ") ",
     "delete_cmd_prefix": "rm(",
     "library": "var_list.r",
     "varRefreshCmd": "cat(var_dic_list()) "
    }
   },
   "types_to_exclude": [
    "module",
    "function",
    "builtin_function_or_method",
    "instance",
    "_Feature"
   ],
   "window_display": false
  }
 },
 "nbformat": 4,
 "nbformat_minor": 5
}
