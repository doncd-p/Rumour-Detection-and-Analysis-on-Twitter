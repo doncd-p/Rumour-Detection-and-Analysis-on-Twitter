{
 "cells": [
  {
   "cell_type": "markdown",
   "metadata": {
    "id": "DhyE9siDfopm"
   },
   "source": [
    "# **Import and Install**"
   ]
  },
  {
   "cell_type": "code",
   "execution_count": null,
   "metadata": {
    "colab": {
     "base_uri": "https://localhost:8080/"
    },
    "id": "Qe613V6FGwJM",
    "outputId": "f3affc6c-acdf-449c-9fae-6e7a6af8a3b1"
   },
   "outputs": [
    {
     "name": "stdout",
     "output_type": "stream",
     "text": [
      "Requirement already satisfied: torch in /usr/local/lib/python3.7/dist-packages (1.11.0+cu113)\n",
      "Requirement already satisfied: torchvision in /usr/local/lib/python3.7/dist-packages (0.12.0+cu113)\n",
      "Collecting transformers\n",
      "  Downloading transformers-4.18.0-py3-none-any.whl (4.0 MB)\n",
      "\u001b[K     |████████████████████████████████| 4.0 MB 4.1 MB/s \n",
      "\u001b[?25hRequirement already satisfied: typing-extensions in /usr/local/lib/python3.7/dist-packages (from torch) (4.2.0)\n",
      "Requirement already satisfied: requests in /usr/local/lib/python3.7/dist-packages (from torchvision) (2.23.0)\n",
      "Requirement already satisfied: pillow!=8.3.*,>=5.3.0 in /usr/local/lib/python3.7/dist-packages (from torchvision) (7.1.2)\n",
      "Requirement already satisfied: numpy in /usr/local/lib/python3.7/dist-packages (from torchvision) (1.21.6)\n",
      "Requirement already satisfied: packaging>=20.0 in /usr/local/lib/python3.7/dist-packages (from transformers) (21.3)\n",
      "Collecting sacremoses\n",
      "  Downloading sacremoses-0.0.53.tar.gz (880 kB)\n",
      "\u001b[K     |████████████████████████████████| 880 kB 46.1 MB/s \n",
      "\u001b[?25hRequirement already satisfied: importlib-metadata in /usr/local/lib/python3.7/dist-packages (from transformers) (4.11.3)\n",
      "Collecting pyyaml>=5.1\n",
      "  Downloading PyYAML-6.0-cp37-cp37m-manylinux_2_5_x86_64.manylinux1_x86_64.manylinux_2_12_x86_64.manylinux2010_x86_64.whl (596 kB)\n",
      "\u001b[K     |████████████████████████████████| 596 kB 47.8 MB/s \n",
      "\u001b[?25hRequirement already satisfied: tqdm>=4.27 in /usr/local/lib/python3.7/dist-packages (from transformers) (4.64.0)\n",
      "Requirement already satisfied: regex!=2019.12.17 in /usr/local/lib/python3.7/dist-packages (from transformers) (2019.12.20)\n",
      "Collecting tokenizers!=0.11.3,<0.13,>=0.11.1\n",
      "  Downloading tokenizers-0.12.1-cp37-cp37m-manylinux_2_12_x86_64.manylinux2010_x86_64.whl (6.6 MB)\n",
      "\u001b[K     |████████████████████████████████| 6.6 MB 45.9 MB/s \n",
      "\u001b[?25hCollecting huggingface-hub<1.0,>=0.1.0\n",
      "  Downloading huggingface_hub-0.5.1-py3-none-any.whl (77 kB)\n",
      "\u001b[K     |████████████████████████████████| 77 kB 5.8 MB/s \n",
      "\u001b[?25hRequirement already satisfied: filelock in /usr/local/lib/python3.7/dist-packages (from transformers) (3.6.0)\n",
      "Requirement already satisfied: pyparsing!=3.0.5,>=2.0.2 in /usr/local/lib/python3.7/dist-packages (from packaging>=20.0->transformers) (3.0.8)\n",
      "Requirement already satisfied: zipp>=0.5 in /usr/local/lib/python3.7/dist-packages (from importlib-metadata->transformers) (3.8.0)\n",
      "Requirement already satisfied: chardet<4,>=3.0.2 in /usr/local/lib/python3.7/dist-packages (from requests->torchvision) (3.0.4)\n",
      "Requirement already satisfied: certifi>=2017.4.17 in /usr/local/lib/python3.7/dist-packages (from requests->torchvision) (2021.10.8)\n",
      "Requirement already satisfied: urllib3!=1.25.0,!=1.25.1,<1.26,>=1.21.1 in /usr/local/lib/python3.7/dist-packages (from requests->torchvision) (1.24.3)\n",
      "Requirement already satisfied: idna<3,>=2.5 in /usr/local/lib/python3.7/dist-packages (from requests->torchvision) (2.10)\n",
      "Requirement already satisfied: six in /usr/local/lib/python3.7/dist-packages (from sacremoses->transformers) (1.15.0)\n",
      "Requirement already satisfied: click in /usr/local/lib/python3.7/dist-packages (from sacremoses->transformers) (7.1.2)\n",
      "Requirement already satisfied: joblib in /usr/local/lib/python3.7/dist-packages (from sacremoses->transformers) (1.1.0)\n",
      "Building wheels for collected packages: sacremoses\n",
      "  Building wheel for sacremoses (setup.py) ... \u001b[?25l\u001b[?25hdone\n",
      "  Created wheel for sacremoses: filename=sacremoses-0.0.53-py3-none-any.whl size=895260 sha256=5a6f72690525dceddbb9d1e9311b5e47926e204ffff935a57aae68d152266e9c\n",
      "  Stored in directory: /root/.cache/pip/wheels/87/39/dd/a83eeef36d0bf98e7a4d1933a4ad2d660295a40613079bafc9\n",
      "Successfully built sacremoses\n",
      "Installing collected packages: pyyaml, tokenizers, sacremoses, huggingface-hub, transformers\n",
      "  Attempting uninstall: pyyaml\n",
      "    Found existing installation: PyYAML 3.13\n",
      "    Uninstalling PyYAML-3.13:\n",
      "      Successfully uninstalled PyYAML-3.13\n",
      "Successfully installed huggingface-hub-0.5.1 pyyaml-6.0 sacremoses-0.0.53 tokenizers-0.12.1 transformers-4.18.0\n"
     ]
    }
   ],
   "source": [
    "!pip install torch torchvision transformers"
   ]
  },
  {
   "cell_type": "code",
   "execution_count": null,
   "metadata": {
    "id": "iS6mkvWBIH8j"
   },
   "outputs": [],
   "source": [
    "import torch\n",
    "import torch.nn as nn\n",
    "import pandas as pd\n",
    "import nltk\n",
    "import pickle\n",
    "import matplotlib.pyplot as plt\n",
    "from torch.utils.data import Dataset, DataLoader\n",
    "from transformers import BertTokenizer, BertConfig, BertForSequenceClassification\n",
    "from transformers import AdamW\n",
    "from sklearn.metrics import precision_recall_fscore_support, accuracy_score"
   ]
  },
  {
   "cell_type": "code",
   "execution_count": null,
   "metadata": {
    "colab": {
     "base_uri": "https://localhost:8080/"
    },
    "id": "5kztvTamgU0T",
    "outputId": "60b8b510-35d9-4d71-a856-cfc66e0ca0c7"
   },
   "outputs": [
    {
     "name": "stdout",
     "output_type": "stream",
     "text": [
      "[nltk_data] Downloading package stopwords to /root/nltk_data...\n",
      "[nltk_data]   Unzipping corpora/stopwords.zip.\n"
     ]
    },
    {
     "data": {
      "text/plain": [
       "True"
      ]
     },
     "execution_count": 3,
     "metadata": {},
     "output_type": "execute_result"
    }
   ],
   "source": [
    "nltk.download(\"stopwords\")"
   ]
  },
  {
   "cell_type": "code",
   "execution_count": null,
   "metadata": {
    "id": "i6_o16fkCTEj"
   },
   "outputs": [],
   "source": [
    "from LoadData import LoadDataAndProcessing\n",
    "from RumourDataSet import RumourDataset"
   ]
  },
  {
   "cell_type": "code",
   "execution_count": null,
   "metadata": {
    "colab": {
     "base_uri": "https://localhost:8080/"
    },
    "id": "ee4YWhO-G4Hy",
    "outputId": "57a59591-a893-47ef-96a7-60badc4f105b"
   },
   "outputs": [
    {
     "name": "stdout",
     "output_type": "stream",
     "text": [
      "Mounted at /content/drive\n"
     ]
    }
   ],
   "source": [
    "from google.colab import drive\n",
    "drive.mount('/content/drive')"
   ]
  },
  {
   "cell_type": "code",
   "execution_count": null,
   "metadata": {
    "id": "cQ5dggn0KOXx"
   },
   "outputs": [],
   "source": [
    "!mkdir \"/content/output\""
   ]
  },
  {
   "cell_type": "markdown",
   "metadata": {
    "id": "5C8UU9gkfzMC"
   },
   "source": [
    "# **Build The Model**"
   ]
  },
  {
   "cell_type": "code",
   "execution_count": null,
   "metadata": {
    "id": "10vmWBICG4kN"
   },
   "outputs": [],
   "source": [
    "# Parameters setting\n",
    "\n",
    "BATCH_SIZE = 8\n",
    "NUM_WORKERS = 2\n",
    "MAX_LEN = 450\n",
    "num_labels = 2\n",
    "hidden_dropout_prob = 0.2\n",
    "learning_rate = 2e-5\n",
    "weight_decay = 1e-2\n",
    "\n",
    "gpu = 0 # gpu ID\n",
    "device = torch.device(\"cuda:0\" if torch.cuda.is_available() else \"cpu\")"
   ]
  },
  {
   "cell_type": "code",
   "execution_count": null,
   "metadata": {
    "id": "X0YL-HbbgB-B"
   },
   "outputs": [],
   "source": [
    "# # If the inputs are already processed on local\n",
    "\n",
    "# train_input_file = \"/content/drive/MyDrive/NLP/data/train_input.pickle\"\n",
    "# dev_input_file = \"/content/drive/MyDrive/NLP/data/dev_input.pickle\"\n",
    "\n",
    "# train_input = pickle.load(open(train_input_file, \"rb\", -1))\n",
    "# dev_input = pickle.load(open(dev_input_file, \"rb\", -1))\n",
    "\n",
    "# #Creating instances of training and development set\n",
    "# #maxlen sets the maximum length a sentence can have\n",
    "# #any sentence longer than this length is truncated to the maxlen size\n",
    "# train_set = RumourDataset(data = train_input, maxlen = MAX_LEN)\n",
    "# dev_set = RumourDataset(data = dev_input, maxlen = MAX_LEN)\n",
    "\n",
    "# #Creating intsances of training and development dataloaders\n",
    "# train_loader = DataLoader(train_set, batch_size = BATCH_SIZE, \n",
    "#                           collate_fn=train_set.create_mini_batch, \n",
    "#                           num_workers = NUM_WORKERS, shuffle=True)\n",
    "# dev_loader = DataLoader(dev_set, batch_size = BATCH_SIZE, \n",
    "#                         collate_fn=dev_set.create_mini_batch, \n",
    "#                         num_workers = NUM_WORKERS, shuffle=True)\n",
    "\n",
    "# print(\"Done preprocessing training and development data.\")"
   ]
  },
  {
   "cell_type": "code",
   "execution_count": null,
   "metadata": {
    "colab": {
     "base_uri": "https://localhost:8080/",
     "height": 130,
     "referenced_widgets": [
      "68aac7629d7d4e66ad27aab3e442db52",
      "5b01f236b35345599295f89bb264066d",
      "04b45f84e6e343549a0c42f113639135",
      "f20a0e80db1a4769b73f0e018f898f8e",
      "70e36b9449794906a080d5de25469e6b",
      "ad0a55e225e748bca4f010717fcec982",
      "01e9a19e5eb74a6cbfb72312e267408f",
      "21b0921c5ef5467d9657c101e88848b8",
      "8fe9b86c07a44c1ebc47584643e75394",
      "1e82c9b4b4694fe193f0fb2be3f4d27a",
      "f9eef11fa33a4c5788ed09d462c09686",
      "89f49e7aeae44836a00753842209d467",
      "34c7bd75e17b42cf85ad5648811406e3",
      "da80bd438ec6481b96d167fc728d5fbd",
      "6e0bd7b30ac14591a9177d4d626f8598",
      "36860a61becd4dc18cc5f6f968940c48",
      "004bd721abe449d3ac875c5131046384",
      "2d978d6ac6d448e09d4156dcb76a9da9",
      "0703917c42a34f68a90395fe66c7d7cc",
      "02ba0f6967814209896625d53f7988ab",
      "efa5e369cd6e46279d9285e8e231e218",
      "fbd570b23acf4fc498a13a3dc034e188",
      "497bd90017034404a815b476706f2f38",
      "56e99b78a81242cfaec355965c123d76",
      "18a7d4034f32444f87329d652becec03",
      "1af01d5b23154d47b035ab797145f14f",
      "0bdd1e036b564f91b11b5e262a8a4fa0",
      "215ff7b447534900a8349385366f54ad",
      "2c733447005a41d0ba0eeef66a685ddf",
      "74419c4e528d4bdd8a0b3564452220e8",
      "f41ce42e54a6462294459c49482e9008",
      "d9b32c070b0441d89ab33f14484f0f1c",
      "144ad4e624f8462783f4ea2bf8750e84"
     ]
    },
    "id": "kUO7BonWG4RE",
    "outputId": "9f1ed883-367f-4326-e055-7bbb02c1623b"
   },
   "outputs": [
    {
     "data": {
      "application/vnd.jupyter.widget-view+json": {
       "model_id": "68aac7629d7d4e66ad27aab3e442db52",
       "version_major": 2,
       "version_minor": 0
      },
      "text/plain": [
       "Downloading:   0%|          | 0.00/226k [00:00<?, ?B/s]"
      ]
     },
     "metadata": {},
     "output_type": "display_data"
    },
    {
     "data": {
      "application/vnd.jupyter.widget-view+json": {
       "model_id": "89f49e7aeae44836a00753842209d467",
       "version_major": 2,
       "version_minor": 0
      },
      "text/plain": [
       "Downloading:   0%|          | 0.00/28.0 [00:00<?, ?B/s]"
      ]
     },
     "metadata": {},
     "output_type": "display_data"
    },
    {
     "data": {
      "application/vnd.jupyter.widget-view+json": {
       "model_id": "497bd90017034404a815b476706f2f38",
       "version_major": 2,
       "version_minor": 0
      },
      "text/plain": [
       "Downloading:   0%|          | 0.00/570 [00:00<?, ?B/s]"
      ]
     },
     "metadata": {},
     "output_type": "display_data"
    },
    {
     "name": "stdout",
     "output_type": "stream",
     "text": [
      "Done preprocessing training and development data.\n"
     ]
    }
   ],
   "source": [
    "# else\n",
    "\n",
    "train_file = \"/content/drive/MyDrive/NLP/data/train_data_prepared.json\"\n",
    "dev_file = \"/content/drive/MyDrive/NLP/data/dev_data_prepared.json\"\n",
    "\n",
    "load_twitter_train_data = LoadDataAndProcessing(train_file)\n",
    "load_twitter_dev_data = LoadDataAndProcessing(dev_file)\n",
    "\n",
    "train_input = load_twitter_train_data.prepareDataset()\n",
    "dev_input = load_twitter_dev_data.prepareDataset()\n",
    "\n",
    "train_set = RumourDataset(data = train_input, maxlen = MAX_LEN)\n",
    "dev_set = RumourDataset(data = dev_input, maxlen = MAX_LEN)\n",
    "\n",
    "train_loader = DataLoader(train_set, batch_size = BATCH_SIZE, \n",
    "                          collate_fn=train_set.create_mini_batch, \n",
    "                          num_workers = NUM_WORKERS, shuffle=True)\n",
    "dev_loader = DataLoader(dev_set, batch_size = BATCH_SIZE, \n",
    "                        collate_fn=dev_set.create_mini_batch, \n",
    "                        num_workers = NUM_WORKERS, shuffle=True)\n",
    "\n",
    "print(\"Done preprocessing training and development data.\")"
   ]
  },
  {
   "cell_type": "code",
   "execution_count": null,
   "metadata": {
    "colab": {
     "base_uri": "https://localhost:8080/",
     "height": 191,
     "referenced_widgets": [
      "a50d19c1a7f24370861469a9a6f7af74",
      "595fba0ea9224023924fb23f2568033c",
      "a72a12c5f82743f8a23f765e33d5aec8",
      "7cd3edf6bd3c48388d910e8b2a029316",
      "f1d3f0e556a649b5a159e3d00e7a65f8",
      "1f1e7a0bc1bb4f9a990175c0f9a01913",
      "dc70ce35f23b4188a159592e1132aa3c",
      "f541b29ce742496aa2185b98fb53b338",
      "7355cb95313b4c26b70594d3c53282d9",
      "fc939a88803d4fbaa7a67283b875eba6",
      "a9d1f5b2a33b4e639ff13732c032bc11"
     ]
    },
    "id": "D8flfqnCG4nl",
    "outputId": "1822f12d-e3a1-457f-dff9-22939b9ca198"
   },
   "outputs": [
    {
     "name": "stdout",
     "output_type": "stream",
     "text": [
      "Creating the rumour classifier, initialised with pretrained BERT-BASE parameters...\n"
     ]
    },
    {
     "data": {
      "application/vnd.jupyter.widget-view+json": {
       "model_id": "a50d19c1a7f24370861469a9a6f7af74",
       "version_major": 2,
       "version_minor": 0
      },
      "text/plain": [
       "Downloading:   0%|          | 0.00/420M [00:00<?, ?B/s]"
      ]
     },
     "metadata": {},
     "output_type": "display_data"
    },
    {
     "name": "stderr",
     "output_type": "stream",
     "text": [
      "Some weights of the model checkpoint at bert-base-uncased were not used when initializing BertForSequenceClassification: ['cls.predictions.transform.dense.bias', 'cls.seq_relationship.weight', 'cls.predictions.transform.LayerNorm.bias', 'cls.predictions.decoder.weight', 'cls.predictions.transform.LayerNorm.weight', 'cls.predictions.bias', 'cls.seq_relationship.bias', 'cls.predictions.transform.dense.weight']\n",
      "- This IS expected if you are initializing BertForSequenceClassification from the checkpoint of a model trained on another task or with another architecture (e.g. initializing a BertForSequenceClassification model from a BertForPreTraining model).\n",
      "- This IS NOT expected if you are initializing BertForSequenceClassification from the checkpoint of a model that you expect to be exactly identical (initializing a BertForSequenceClassification model from a BertForSequenceClassification model).\n",
      "Some weights of BertForSequenceClassification were not initialized from the model checkpoint at bert-base-uncased and are newly initialized: ['classifier.bias', 'classifier.weight']\n",
      "You should probably TRAIN this model on a down-stream task to be able to use it for predictions and inference.\n"
     ]
    },
    {
     "name": "stdout",
     "output_type": "stream",
     "text": [
      "Done creating the rumour classifier.\n"
     ]
    }
   ],
   "source": [
    "# Load the model\n",
    "print(\"Creating the rumour classifier, initialised with pretrained BERT-BASE parameters...\")\n",
    "config = BertConfig.from_pretrained(\"bert-base-uncased\", \n",
    "                                    num_labels=num_labels, hidden_dropout_prob=hidden_dropout_prob)\n",
    "model = BertForSequenceClassification.from_pretrained(\"bert-base-uncased\", config=config)\n",
    "model.to(device)\n",
    "print(\"Done creating the rumour classifier.\")"
   ]
  },
  {
   "cell_type": "code",
   "execution_count": null,
   "metadata": {
    "id": "Z65P3aRdG4qm"
   },
   "outputs": [],
   "source": [
    "# Prepare optimizer and schedule (linear warmup and decay)\n",
    "# set the bias and LayerNorm.weight \n",
    "no_decay = ['bias', 'LayerNorm.weight']\n",
    "optimizer_grouped_parameters = [\n",
    "        {'params': [p for n, p in model.named_parameters() if not \n",
    "                    any(nd in n for nd in no_decay)], 'weight_decay': weight_decay},\n",
    "        {'params': [p for n, p in model.named_parameters() if \n",
    "                    any(nd in n for nd in no_decay)], 'weight_decay': 0.0}\n",
    "]\n",
    "\n",
    "#optimizer = AdamW(model.parameters(), lr=learning_rate)\n",
    "optimizer = torch.optim.AdamW(optimizer_grouped_parameters, lr=learning_rate)\n",
    "criterion = nn.CrossEntropyLoss()"
   ]
  },
  {
   "cell_type": "markdown",
   "metadata": {
    "id": "YhvBRVaffQ65"
   },
   "source": [
    "# **Trian and Evaluate the Model**"
   ]
  },
  {
   "cell_type": "code",
   "execution_count": null,
   "metadata": {
    "id": "ahdLdy_WnqmE"
   },
   "outputs": [],
   "source": [
    "def train(model, dataloader, optimizer, criterion, device):\n",
    "    model.train()\n",
    "    epoch_loss = 0\n",
    "    epoch_acc = 0\n",
    "    TP, TN, FN, FP = 0, 0, 0, 0\n",
    "\n",
    "    for i, batch in enumerate(dataloader):\n",
    "\n",
    "        tokens_tensors, segments_tensors, masks_tensors, labels = [t.to(device) for t in batch]\n",
    "\n",
    "        optimizer.zero_grad()\n",
    "\n",
    "        output = model(input_ids=tokens_tensors, \n",
    "                       token_type_ids=segments_tensors, \n",
    "                       attention_mask=masks_tensors, labels=labels)\n",
    "\n",
    "        y_pred_prob = output[1]\n",
    "        y_pred_label = y_pred_prob.argmax(dim=1)\n",
    "\n",
    "        loss = criterion(y_pred_prob.view(-1, 2), labels.view(-1))\n",
    "\n",
    "        acc = ((y_pred_label == labels.view(-1)).sum()).item()\n",
    "\n",
    "        loss.backward()\n",
    "        optimizer.step()\n",
    "\n",
    "        epoch_loss += loss.item()\n",
    "        epoch_acc += acc\n",
    "\n",
    "        if i % 200 == 0:\n",
    "            print(\"Iteration {} complete. Loss:{}, Accuracy:{}\".format(\n",
    "                i, epoch_loss / (i+1), epoch_acc / ((i+1)*len(labels))))\n",
    "\n",
    "        TP += (((y_pred_label == 1) & (labels.view(-1) == 1)).sum()).item()\n",
    "        TN += (((y_pred_label == 0) & (labels.view(-1) == 0)).sum()).item()\n",
    "        FN += (((y_pred_label == 0) & (labels.view(-1) == 1)).sum()).item()\n",
    "        FP += (((y_pred_label == 1) & (labels.view(-1) == 0)).sum()).item()\n",
    "\n",
    "    p = TP / (TP + FP)\n",
    "    r = TP / (TP + FN)\n",
    "    F1 = 2 * r * p / (r + p)\n",
    "\n",
    "    return epoch_loss / len(dataloader), epoch_acc / len(dataloader.dataset), F1\n",
    "\n",
    "def evaluate(model, iterator, device):\n",
    "    model.eval()\n",
    "    epoch_loss = 0\n",
    "    epoch_acc = 0\n",
    "    TP, TN, FN, FP = 0, 0, 0 , 0\n",
    "\n",
    "    with torch.no_grad():\n",
    "        for _, batch in enumerate(iterator):\n",
    "            tokens_tensors, segments_tensors, masks_tensors, labels = [t.to(device) for t in batch]\n",
    "\n",
    "            output = model(input_ids=tokens_tensors, \n",
    "                           token_type_ids=segments_tensors, \n",
    "                           attention_mask=masks_tensors, labels=labels)\n",
    "            y_pred_label = output[1].argmax(dim=1)\n",
    "            loss = output[0]\n",
    "            acc = ((y_pred_label == labels.view(-1)).sum()).item()\n",
    "\n",
    "            epoch_loss += loss.item()\n",
    "            epoch_acc += acc\n",
    "\n",
    "        TP += (((y_pred_label == 1) & (labels.view(-1) == 1)).sum()).item()\n",
    "        TN += (((y_pred_label == 0) & (labels.view(-1) == 0)).sum()).item()\n",
    "        FN += (((y_pred_label == 0) & (labels.view(-1) == 1)).sum()).item()\n",
    "        FP += (((y_pred_label == 1) & (labels.view(-1) == 0)).sum()).item()\n",
    "\n",
    "    p = TP / (TP + FP)\n",
    "    r = TP / (TP + FN)\n",
    "    F1 = 2 * r * p / (r + p)\n",
    "\n",
    "    return epoch_loss / len(iterator), epoch_acc / len(iterator.dataset), F1"
   ]
  },
  {
   "cell_type": "code",
   "execution_count": null,
   "metadata": {
    "colab": {
     "base_uri": "https://localhost:8080/"
    },
    "id": "T5utQOyEnqqW",
    "outputId": "e017a64e-089a-407e-af27-e820cbe4fe6c"
   },
   "outputs": [
    {
     "name": "stdout",
     "output_type": "stream",
     "text": [
      "EPOCH 1 ------------------------------------------------------\n",
      "Iteration 0 complete. Loss:0.8494100570678711, Accuracy:0.25\n",
      "Iteration 200 complete. Loss:0.49037704842897195, Accuracy:0.7667910447761194\n",
      "EPOCH 1: Mean train loss:  0.4864969230696278 \t Mean train acc: 0.7690941385435168 \t Train F1: 0.17372881355932204\n",
      "EPOCH 1: Mean dev loss:  0.40331892958327903 \t Mean dev acc: 0.7981308411214953 \t Dev F1: 0.4000000000000001\n",
      "Best development accuracy improved from 0 to 0.7981308411214953, saving model...\n",
      "********************************************************************************\n",
      "EPOCH 2 ------------------------------------------------------\n",
      "Iteration 0 complete. Loss:0.5876612663269043, Accuracy:0.375\n",
      "Iteration 200 complete. Loss:0.32282109871803233, Accuracy:0.8538557213930348\n",
      "EPOCH 2: Mean train loss:  0.3257142445116462 \t Mean train acc: 0.8531675547661338 \t Train F1: 0.6125\n",
      "EPOCH 2: Mean dev loss:  0.2725987413258695 \t Mean dev acc: 0.891588785046729 \t Dev F1: 0.7786259541984732\n",
      "Best development accuracy improved from 0.7981308411214953 to 0.891588785046729, saving model...\n",
      "********************************************************************************\n",
      "EPOCH 3 ------------------------------------------------------\n",
      "Iteration 0 complete. Loss:0.39040741324424744, Accuracy:0.875\n",
      "Iteration 200 complete. Loss:0.18643804720663165, Accuracy:0.9284825870646766\n",
      "EPOCH 3: Mean train loss:  0.18864012372961161 \t Mean train acc: 0.9283599763173476 \t Train F1: 0.8302945301542777\n",
      "EPOCH 3: Mean dev loss:  0.17353937751961065 \t Mean dev acc: 0.9401869158878504 \t Dev F1: 0.8608695652173913\n",
      "Best development accuracy improved from 0.891588785046729 to 0.9401869158878504, saving model...\n",
      "********************************************************************************\n",
      "EPOCH 4 ------------------------------------------------------\n",
      "Iteration 0 complete. Loss:0.04144352674484253, Accuracy:1.0\n",
      "Iteration 200 complete. Loss:0.1006066329842109, Accuracy:0.9601990049751243\n",
      "EPOCH 4: Mean train loss:  0.09871349142499725 \t Mean train acc: 0.9615156897572528 \t Train F1: 0.9113233287858118\n",
      "EPOCH 4: Mean dev loss:  0.23841160376306011 \t Mean dev acc: 0.9420560747663551 \t Dev F1: 0.8516746411483255\n",
      "Best development accuracy improved from 0.9401869158878504 to 0.9420560747663551, saving model...\n",
      "********************************************************************************\n",
      "EPOCH 5 ------------------------------------------------------\n",
      "Iteration 0 complete. Loss:0.016782550141215324, Accuracy:1.0\n",
      "Iteration 200 complete. Loss:0.0717268676435649, Accuracy:0.9713930348258707\n",
      "EPOCH 5: Mean train loss:  0.07245414113166812 \t Mean train acc: 0.9709887507400828 \t Train F1: 0.9325997248968363\n",
      "EPOCH 5: Mean dev loss:  0.19091503881265534 \t Mean dev acc: 0.9476635514018692 \t Dev F1: 0.8761061946902654\n",
      "Best development accuracy improved from 0.9420560747663551 to 0.9476635514018692, saving model...\n",
      "********************************************************************************\n",
      "EPOCH 6 ------------------------------------------------------\n",
      "Iteration 0 complete. Loss:0.031535301357507706, Accuracy:1.0\n",
      "Iteration 200 complete. Loss:0.03470550165268412, Accuracy:0.9869402985074627\n",
      "EPOCH 6: Mean train loss:  0.03660463704178461 \t Mean train acc: 0.9857904085257548 \t Train F1: 0.967032967032967\n",
      "EPOCH 6: Mean dev loss:  0.17977727122549245 \t Mean dev acc: 0.9476635514018692 \t Dev F1: 0.8771929824561404\n",
      "********************************************************************************\n",
      "EPOCH 7 ------------------------------------------------------\n",
      "Iteration 0 complete. Loss:0.0022701944690197706, Accuracy:1.0\n",
      "Iteration 200 complete. Loss:0.019025528412231183, Accuracy:0.9950248756218906\n",
      "EPOCH 7: Mean train loss:  0.0181162055210597 \t Mean train acc: 0.9952634695085849 \t Train F1: 0.9891008174386922\n",
      "EPOCH 7: Mean dev loss:  0.28589077748587605 \t Mean dev acc: 0.9364485981308411 \t Dev F1: 0.860655737704918\n",
      "********************************************************************************\n",
      "EPOCH 8 ------------------------------------------------------\n",
      "Iteration 0 complete. Loss:0.012278519570827484, Accuracy:1.0\n",
      "Iteration 200 complete. Loss:0.03435446208531723, Accuracy:0.9894278606965174\n",
      "EPOCH 8: Mean train loss:  0.03359975668223891 \t Mean train acc: 0.9893428063943162 \t Train F1: 0.9752747252747253\n",
      "EPOCH 8: Mean dev loss:  0.24622814813819924 \t Mean dev acc: 0.9345794392523364 \t Dev F1: 0.8523206751054851\n",
      "********************************************************************************\n",
      "EPOCH 9 ------------------------------------------------------\n",
      "Iteration 0 complete. Loss:0.012416712939739227, Accuracy:1.0\n",
      "Iteration 200 complete. Loss:0.008236884414299452, Accuracy:0.9975124378109452\n",
      "EPOCH 9: Mean train loss:  0.008304274249036648 \t Mean train acc: 0.9976317347542925 \t Train F1: 0.9945205479452055\n",
      "EPOCH 9: Mean dev loss:  0.2991931445732862 \t Mean dev acc: 0.9439252336448598 \t Dev F1: 0.8706896551724138\n",
      "********************************************************************************\n",
      "EPOCH 10 ------------------------------------------------------\n",
      "Iteration 0 complete. Loss:0.00044132574112154543, Accuracy:1.0\n",
      "Iteration 200 complete. Loss:0.013316043720937414, Accuracy:0.9944029850746269\n",
      "EPOCH 10: Mean train loss:  0.014755037574979965 \t Mean train acc: 0.9940793368857312 \t Train F1: 0.9863013698630136\n",
      "EPOCH 10: Mean dev loss:  0.22084318999845687 \t Mean dev acc: 0.9588785046728971 \t Dev F1: 0.905982905982906\n",
      "Best development accuracy improved from 0.9476635514018692 to 0.9588785046728971, saving model...\n",
      "********************************************************************************\n",
      "EPOCH 11 ------------------------------------------------------\n",
      "Iteration 0 complete. Loss:0.00033156335121020675, Accuracy:1.0\n",
      "Iteration 200 complete. Loss:0.006403083857861278, Accuracy:0.9987562189054726\n",
      "EPOCH 11: Mean train loss:  0.006157548459909004 \t Mean train acc: 0.9988158673771462 \t Train F1: 0.9972602739726028\n",
      "EPOCH 11: Mean dev loss:  0.2783894602563571 \t Mean dev acc: 0.9532710280373832 \t Dev F1: 0.8917748917748919\n",
      "********************************************************************************\n",
      "EPOCH 12 ------------------------------------------------------\n",
      "Iteration 0 complete. Loss:0.0004783988406416029, Accuracy:1.0\n",
      "Iteration 200 complete. Loss:0.0005721930152793364, Accuracy:1.0\n",
      "EPOCH 12: Mean train loss:  0.0005558880220289795 \t Mean train acc: 1.0 \t Train F1: 1.0\n",
      "EPOCH 12: Mean dev loss:  0.28392712523163394 \t Mean dev acc: 0.9551401869158879 \t Dev F1: 0.8974358974358972\n",
      "********************************************************************************\n",
      "EPOCH 13 ------------------------------------------------------\n",
      "Iteration 0 complete. Loss:0.00033250002888962626, Accuracy:1.0\n",
      "Iteration 200 complete. Loss:0.00034437126160624773, Accuracy:1.0\n",
      "EPOCH 13: Mean train loss:  0.0003390443473348706 \t Mean train acc: 1.0 \t Train F1: 1.0\n",
      "EPOCH 13: Mean dev loss:  0.29169046574267005 \t Mean dev acc: 0.9551401869158879 \t Dev F1: 0.8974358974358972\n",
      "********************************************************************************\n",
      "EPOCH 14 ------------------------------------------------------\n",
      "Iteration 0 complete. Loss:0.00020130773191340268, Accuracy:1.0\n",
      "Iteration 200 complete. Loss:0.00039428657581635856, Accuracy:1.0\n",
      "EPOCH 14: Mean train loss:  0.0003830958850366582 \t Mean train acc: 1.0 \t Train F1: 1.0\n",
      "EPOCH 14: Mean dev loss:  0.33713123206798085 \t Mean dev acc: 0.9476635514018692 \t Dev F1: 0.8833333333333334\n",
      "********************************************************************************\n",
      "EPOCH 15 ------------------------------------------------------\n",
      "Iteration 0 complete. Loss:0.00032082313555292785, Accuracy:1.0\n",
      "Iteration 200 complete. Loss:0.0005502414385963635, Accuracy:1.0\n",
      "EPOCH 15: Mean train loss:  0.0005372546224776361 \t Mean train acc: 1.0 \t Train F1: 1.0\n",
      "EPOCH 15: Mean dev loss:  0.30540961749696843 \t Mean dev acc: 0.9495327102803738 \t Dev F1: 0.8789237668161435\n",
      "********************************************************************************\n",
      "EPOCH 16 ------------------------------------------------------\n",
      "Iteration 0 complete. Loss:0.00018589686078485101, Accuracy:1.0\n",
      "Iteration 200 complete. Loss:0.00048668582047554736, Accuracy:1.0\n",
      "EPOCH 16: Mean train loss:  0.0005072780080946308 \t Mean train acc: 1.0 \t Train F1: 1.0\n",
      "EPOCH 16: Mean dev loss:  0.32014004251952916 \t Mean dev acc: 0.9551401869158879 \t Dev F1: 0.8899082568807339\n",
      "********************************************************************************\n",
      "EPOCH 17 ------------------------------------------------------\n",
      "Iteration 0 complete. Loss:0.13803061842918396, Accuracy:0.875\n",
      "Iteration 200 complete. Loss:0.012152871630149917, Accuracy:0.996268656716418\n",
      "EPOCH 17: Mean train loss:  0.012135085968008564 \t Mean train acc: 0.9964476021314387 \t Train F1: 0.9917808219178081\n",
      "EPOCH 17: Mean dev loss:  0.35729376353504166 \t Mean dev acc: 0.930841121495327 \t Dev F1: 0.8489795918367348\n",
      "********************************************************************************\n",
      "EPOCH 18 ------------------------------------------------------\n",
      "Iteration 0 complete. Loss:0.0019987658597528934, Accuracy:1.0\n",
      "Iteration 200 complete. Loss:0.05605842121494517, Accuracy:0.986318407960199\n",
      "EPOCH 18: Mean train loss:  0.0553690824961896 \t Mean train acc: 0.9857904085257548 \t Train F1: 0.9669421487603306\n",
      "EPOCH 18: Mean dev loss:  0.19293678084513477 \t Mean dev acc: 0.9532710280373832 \t Dev F1: 0.8917748917748919\n",
      "********************************************************************************\n",
      "EPOCH 19 ------------------------------------------------------\n",
      "Iteration 0 complete. Loss:0.0054719531908631325, Accuracy:1.0\n",
      "Iteration 200 complete. Loss:0.01660451005935201, Accuracy:0.9931592039800995\n",
      "EPOCH 19: Mean train loss:  0.015786673613513144 \t Mean train acc: 0.9934872705743043 \t Train F1: 0.9849521203830369\n",
      "EPOCH 19: Mean dev loss:  0.3148172892807764 \t Mean dev acc: 0.9457943925233645 \t Dev F1: 0.8765957446808511\n",
      "********************************************************************************\n",
      "EPOCH 20 ------------------------------------------------------\n",
      "Iteration 0 complete. Loss:0.0005379731301218271, Accuracy:1.0\n",
      "Iteration 200 complete. Loss:0.014445380626500593, Accuracy:0.9950248756218906\n",
      "EPOCH 20: Mean train loss:  0.01748956998404915 \t Mean train acc: 0.9946714031971581 \t Train F1: 0.9876880984952121\n",
      "EPOCH 20: Mean dev loss:  0.2998904083329192 \t Mean dev acc: 0.9345794392523364 \t Dev F1: 0.851063829787234\n",
      "********************************************************************************\n"
     ]
    }
   ],
   "source": [
    "train_acc_list = []\n",
    "train_loss_list = []\n",
    "dev_acc_list = []\n",
    "dev_loss_list = []\n",
    "train_f1_score = []\n",
    "dev_f1_score = []\n",
    "\n",
    "best_acc = 0\n",
    "EPOCHS = 20\n",
    "best_ep = 0\n",
    "for ep in range(EPOCHS):\n",
    "    print(\"EPOCH {} ------------------------------------------------------\".format(ep+1))\n",
    "    train_loss, train_acc, train_f1 = train(model, train_loader, optimizer, criterion, device)\n",
    "    print(\"EPOCH {}:\".format(ep+1), \"Mean train loss: \", train_loss, \"\\t\", \n",
    "          \"Mean train acc:\", train_acc, \"\\t\", \"Train F1:\", train_f1)\n",
    "    dev_loss, dev_acc, dev_f1 = evaluate(model, dev_loader, device)\n",
    "    print(\"EPOCH {}:\".format(ep+1), \"Mean dev loss: \", dev_loss, \"\\t\", \n",
    "          \"Mean dev acc:\", dev_acc, \"\\t\", \"Dev F1:\", dev_f1)\n",
    "\n",
    "    train_acc_list.append(train_acc)\n",
    "    train_loss_list.append(train_loss)\n",
    "    train_f1_score.append(train_f1)\n",
    "    dev_acc_list.append(dev_acc)\n",
    "    dev_loss_list.append(dev_loss)\n",
    "    dev_f1_score.append(dev_f1)\n",
    "\n",
    "    if dev_acc > best_acc:\n",
    "      print(\"Best development accuracy improved from {} to {}, saving model...\".format(best_acc, dev_acc))\n",
    "      best_acc = dev_acc\n",
    "      best_ep = ep\n",
    "      torch.save(model.state_dict(), 'sstcls_{}.dat'.format(ep))\n",
    "    \n",
    "    print(\"*\"*80)\n"
   ]
  },
  {
   "cell_type": "code",
   "execution_count": null,
   "metadata": {
    "colab": {
     "base_uri": "https://localhost:8080/",
     "height": 281
    },
    "id": "NHzHPLlcefFW",
    "outputId": "5135db92-36b6-4a77-a40b-7e90072de005"
   },
   "outputs": [
    {
     "data": {
      "image/png": "[encoded data removed]",
      "text/plain": [
       "<Figure size 432x288 with 1 Axes>"
      ]
     },
     "metadata": {
      "needs_background": "light"
     },
     "output_type": "display_data"
    }
   ],
   "source": [
    "epochs = range(1, EPOCHS+1)\n",
    "plt.plot(epochs, train_acc_list, 'b', label = 'Train accuracy')\n",
    "plt.plot(epochs, dev_acc_list, 'r', label = 'Development accuracy')\n",
    "plt.title('Performance on Accuracy')\n",
    "plt.legend()\n",
    "plt.savefig(\"output/Accuracy.png\")\n",
    "plt.show()"
   ]
  },
  {
   "cell_type": "code",
   "execution_count": null,
   "metadata": {
    "colab": {
     "base_uri": "https://localhost:8080/",
     "height": 281
    },
    "id": "e5opr5kcOXqm",
    "outputId": "aaf47cae-5d9f-4140-c321-3eec464b125d"
   },
   "outputs": [
    {
     "data": {
      "image/png": "[encoded data removed]",
      "text/plain": [
       "<Figure size 432x288 with 1 Axes>"
      ]
     },
     "metadata": {
      "needs_background": "light"
     },
     "output_type": "display_data"
    }
   ],
   "source": [
    "epochs = range(1, EPOCHS+1)\n",
    "plt.plot(epochs, train_loss_list, 'b', label = 'Train loss')\n",
    "plt.plot(epochs, dev_loss_list, 'r', label = 'Development loss')\n",
    "plt.title('Performance on Loss')\n",
    "plt.legend()\n",
    "plt.savefig(\"output/Loss.png\")\n",
    "plt.show()"
   ]
  },
  {
   "cell_type": "code",
   "execution_count": null,
   "metadata": {
    "colab": {
     "base_uri": "https://localhost:8080/",
     "height": 281
    },
    "id": "lXcpPkq1ttrP",
    "outputId": "24578c33-ffde-48e6-c070-6822ba8e9b1e"
   },
   "outputs": [
    {
     "data": {
      "image/png": "[encoded data removed]",
      "text/plain": [
       "<Figure size 432x288 with 1 Axes>"
      ]
     },
     "metadata": {
      "needs_background": "light"
     },
     "output_type": "display_data"
    }
   ],
   "source": [
    "epochs = range(1, EPOCHS+1)\n",
    "plt.plot(epochs, train_f1_score, 'b', label = 'Train F1')\n",
    "plt.plot(epochs, dev_f1_score, 'r', label = 'Development F1')\n",
    "plt.title('Performance on F1')\n",
    "plt.legend()\n",
    "plt.savefig(\"output/F1.png\")\n",
    "plt.show()"
   ]
  },
  {
   "cell_type": "markdown",
   "metadata": {
    "id": "Q_CLUY6Qh91W"
   },
   "source": [
    "# **Devset Prediction**"
   ]
  },
  {
   "cell_type": "code",
   "execution_count": null,
   "metadata": {
    "id": "cQNORP5riMla"
   },
   "outputs": [],
   "source": [
    "# # If the inputs are already processed on local\n",
    "\n",
    "# dev_to_predict_input_file = \"/content/drive/MyDrive/NLP/data/dev_to_predict_input.pickle\"\n",
    "\n",
    "# dev_to_predict_input = pickle.load(open(dev_to_predict_input_file, \"rb\", -1))"
   ]
  },
  {
   "cell_type": "code",
   "execution_count": null,
   "metadata": {
    "id": "5j1WwTAIiMjJ"
   },
   "outputs": [],
   "source": [
    "# else\n",
    "\n",
    "dev_to_predict_input_file = \"/content/drive/MyDrive/NLP/data/dev_data_to_predict.json\"\n",
    "\n",
    "load_twitter_dev_to_predict_data = LoadDataAndProcessing(dev_to_predict_input_file)\n",
    "\n",
    "dev_to_predict_input = load_twitter_dev_to_predict_data.prepareDataset()"
   ]
  },
  {
   "cell_type": "code",
   "execution_count": null,
   "metadata": {
    "id": "ODCnntDNiMgf"
   },
   "outputs": [],
   "source": [
    "dev_to_predict_set = RumourDataset(data = dev_to_predict_input, maxlen = MAX_LEN)\n",
    "dev_to_predict_loader = DataLoader(dev_to_predict_set, collate_fn=dev_to_predict_set.create_mini_batch, \n",
    "                         batch_size = BATCH_SIZE, num_workers = NUM_WORKERS)"
   ]
  },
  {
   "cell_type": "code",
   "execution_count": null,
   "metadata": {
    "id": "uHpxvjDhiMdR"
   },
   "outputs": [],
   "source": [
    "def predict(net, test_loader, model_file):\n",
    "    # load weight\n",
    "    if model_file != None:\n",
    "      net.load_state_dict(torch.load(model_file))\n",
    "    \n",
    "    predictions = []\n",
    "    \n",
    "    for _, batch in enumerate(test_loader):\n",
    "      tokens_tensors, segments_tensors, masks_tensors = [t.to(device) for t in batch]\n",
    "\n",
    "      output = model(input_ids=tokens_tensors, \n",
    "                      token_type_ids=segments_tensors, \n",
    "                      attention_mask=masks_tensors)\n",
    "      probs = output[0].argmax(dim=1)\n",
    "      soft_probs = (probs > 0.5).long()\n",
    "      predictions.extend(soft_probs.cpu().numpy().squeeze())\n",
    "    \n",
    "    return predictions"
   ]
  },
  {
   "cell_type": "code",
   "execution_count": null,
   "metadata": {
    "colab": {
     "base_uri": "https://localhost:8080/"
    },
    "id": "N2QNQF7Oi-9F",
    "outputId": "0ae6b359-f7f7-49c7-c99a-511124f8d44c"
   },
   "outputs": [
    {
     "data": {
      "text/plain": [
       "535"
      ]
     },
     "execution_count": 22,
     "metadata": {},
     "output_type": "execute_result"
    }
   ],
   "source": [
    "model_file = \"sstcls_{}.dat\".format(best_ep)\n",
    "dev_predictions = predict(model, dev_to_predict_loader, model_file)\n",
    "len(dev_predictions)"
   ]
  },
  {
   "cell_type": "code",
   "execution_count": null,
   "metadata": {
    "id": "Z_UexAc0i-42"
   },
   "outputs": [],
   "source": [
    "dev_pred = pd.DataFrame(data=dev_predictions, columns=['Predicted']).reset_index()\n",
    "dev_pred = dev_pred.rename(columns={'index': 'Id'})\n",
    "print(dev_pred)\n",
    "\n",
    "dev_pred.to_csv('output/dev_prediction.csv', index = False)"
   ]
  },
  {
   "cell_type": "code",
   "execution_count": null,
   "metadata": {
    "id": "eHb-PCUgnEDw"
   },
   "outputs": [],
   "source": [
    "dev_true_label_file = '/content/drive/MyDrive/NLP/data/valid.dev.label.txt'\n",
    "dev_true_label = pd.read_table(dev_true_label_file,sep='\\n', \n",
    "                               header=None)[0].apply(lambda x: 1 if x==\"rumour\" else 0)"
   ]
  },
  {
   "cell_type": "code",
   "execution_count": null,
   "metadata": {
    "id": "JNVvNDSfnFfg"
   },
   "outputs": [],
   "source": [
    "y_true = list(dev_true_label)\n",
    "y_pred = dev_predictions"
   ]
  },
  {
   "cell_type": "code",
   "execution_count": null,
   "metadata": {
    "id": "OVCbRRjgnFbg"
   },
   "outputs": [],
   "source": [
    "p, r, f1, _ = precision_recall_fscore_support(y_true, y_pred, pos_label=1, average=\"binary\")\n",
    "a = accuracy_score(y_true, y_pred)"
   ]
  },
  {
   "cell_type": "code",
   "execution_count": null,
   "metadata": {
    "colab": {
     "base_uri": "https://localhost:8080/"
    },
    "id": "_zmsxBOznFX_",
    "outputId": "9af69bff-bd01-4c25-c47d-95c3b30064dc"
   },
   "outputs": [
    {
     "name": "stdout",
     "output_type": "stream",
     "text": [
      "Performance on the rumour class:\n",
      "Accuracy  = 0.9588785046728971\n",
      "Precision = 0.8907563025210085\n",
      "Recall    = 0.9217391304347826\n",
      "F1        = 0.905982905982906\n"
     ]
    }
   ],
   "source": [
    "print(\"Performance on the rumour class:\")\n",
    "print(\"Accuracy  =\", a)\n",
    "print(\"Precision =\", p)\n",
    "print(\"Recall    =\", r)\n",
    "print(\"F1        =\", f1)"
   ]
  },
  {
   "cell_type": "code",
   "execution_count": null,
   "metadata": {
    "id": "kFT1yNFEnFUr"
   },
   "outputs": [],
   "source": [
    "with open('output/dev_performance.txt', 'w') as f:\n",
    "    f.write(\"Accuracy  = {}\\n\".format(a) +\n",
    "            \"Precision = {}\\n\".format(p) +\n",
    "            \"Recall    = {}\\n\".format(r) + \n",
    "            \"F1        = {}\\n\".format(f1))"
   ]
  },
  {
   "cell_type": "markdown",
   "metadata": {
    "id": "Xhyo4ifwe9el"
   },
   "source": [
    "# **Testset Prediction**"
   ]
  },
  {
   "cell_type": "code",
   "execution_count": null,
   "metadata": {
    "id": "ZBRD9z8POXuz"
   },
   "outputs": [],
   "source": [
    "# # If the inputs are already processed on local\n",
    "\n",
    "# test_input_file = \"/content/drive/MyDrive/NLP/data/test_input.pickle\"\n",
    "\n",
    "# test_input = pickle.load(open(test_input_file, \"rb\", -1))"
   ]
  },
  {
   "cell_type": "code",
   "execution_count": null,
   "metadata": {
    "id": "687x-9kJVMh6"
   },
   "outputs": [],
   "source": [
    "# else\n",
    "\n",
    "test_file = \"/content/drive/MyDrive/NLP/data/test_data_prepared.json\"\n",
    "\n",
    "load_twitter_test_data = LoadDataAndProcessing(test_file)\n",
    "\n",
    "test_input = load_twitter_test_data.prepareDataset()"
   ]
  },
  {
   "cell_type": "code",
   "execution_count": null,
   "metadata": {
    "id": "O_59hIAWOXzF"
   },
   "outputs": [],
   "source": [
    "test_set = RumourDataset(data = test_input, maxlen = MAX_LEN)\n",
    "test_loader = DataLoader(test_set, collate_fn=test_set.create_mini_batch, \n",
    "                         batch_size = BATCH_SIZE, num_workers = NUM_WORKERS)"
   ]
  },
  {
   "cell_type": "code",
   "execution_count": 46,
   "metadata": {
    "colab": {
     "base_uri": "https://localhost:8080/"
    },
    "id": "VLah0WnQPJKG",
    "outputId": "e03dd3c4-46ab-4e26-9b39-01c079c988f1"
   },
   "outputs": [
    {
     "data": {
      "text/plain": [
       "558"
      ]
     },
     "execution_count": 46,
     "metadata": {},
     "output_type": "execute_result"
    }
   ],
   "source": [
    "model_file = \"sstcls_{}.dat\".format(best_ep)\n",
    "test_predictions = predict(model, test_loader, model_file)\n",
    "len(test_predictions)"
   ]
  },
  {
   "cell_type": "code",
   "execution_count": 47,
   "metadata": {
    "colab": {
     "base_uri": "https://localhost:8080/"
    },
    "id": "bJxk6rSWOeDw",
    "outputId": "a8be13d1-ba03-4930-a4dd-d0f069b4927b"
   },
   "outputs": [
    {
     "name": "stdout",
     "output_type": "stream",
     "text": [
      "      Id  Predicted\n",
      "0      0          0\n",
      "1      1          0\n",
      "2      2          0\n",
      "3      3          0\n",
      "4      4          1\n",
      "..   ...        ...\n",
      "553  553          0\n",
      "554  554          0\n",
      "555  555          1\n",
      "556  556          0\n",
      "557  557          0\n",
      "\n",
      "[558 rows x 2 columns]\n"
     ]
    }
   ],
   "source": [
    "test_pred = pd.DataFrame(data=test_predictions, columns=['Predicted']).reset_index()\n",
    "test_pred = test_pred.rename(columns={'index': 'Id'})\n",
    "print(test_pred)\n",
    "\n",
    "test_pred.to_csv('output/test_prediction.csv', index = False)"
   ]
  },
  {
   "cell_type": "code",
   "execution_count": null,
   "metadata": {
    "id": "wjCe2ByhZUX_"
   },
   "outputs": [],
   "source": [
    "# extra = \"token from behind\"\n",
    "\n",
    "with open('output/Parameters.txt', 'w') as f:\n",
    "    f.write(\"BATCH_SIZE          = {},\\n\".format(BATCH_SIZE) +\n",
    "            \"NUM_WORKERS         = {},\\n\".format(NUM_WORKERS) +\n",
    "            \"MAX_LEN             = {},\\n\".format(MAX_LEN) +\n",
    "            \"hidden_dropout_prob = {},\\n\".format(hidden_dropout_prob) +\n",
    "            \"learning_rate       = {},\\n\".format(learning_rate) +\n",
    "            \"weight_decay        = {}\\n\\n\".format(weight_decay))"
   ]
  },
  {
   "cell_type": "markdown",
   "metadata": {
    "id": "fa0x95C8kY0n"
   },
   "source": [
    "# **Covid set Prediction**"
   ]
  },
  {
   "cell_type": "code",
   "execution_count": 39,
   "metadata": {
    "id": "zcSOCUSUnqIa"
   },
   "outputs": [],
   "source": [
    "# # For task 2 covid data\n",
    "\n",
    "# covid_input_file = \"/content/drive/MyDrive/NLP/data/covid_input.pickle\"\n",
    "\n",
    "# covid_input = pickle.load(open(covid_input_file, \"rb\", -1))"
   ]
  },
  {
   "cell_type": "code",
   "execution_count": 40,
   "metadata": {
    "id": "J_qMSQ2Mdvan"
   },
   "outputs": [],
   "source": [
    "# else\n",
    "\n",
    "covid_file = \"/content/drive/MyDrive/NLP/data/covid_data_prepared.json\"\n",
    "\n",
    "load_twitter_covid_data = LoadDataAndProcessing(covid_file)\n",
    "\n",
    "covid_input = load_twitter_covid_data.prepareDataset()"
   ]
  },
  {
   "cell_type": "code",
   "execution_count": 41,
   "metadata": {
    "id": "VKz__WU7ZUiN"
   },
   "outputs": [],
   "source": [
    "covid_set = RumourDataset(data = covid_input, maxlen = MAX_LEN)\n",
    "covid_loader = DataLoader(covid_set, collate_fn=covid_set.create_mini_batch, \n",
    "                         batch_size = BATCH_SIZE, num_workers = NUM_WORKERS)"
   ]
  },
  {
   "cell_type": "code",
   "execution_count": 42,
   "metadata": {
    "colab": {
     "base_uri": "https://localhost:8080/"
    },
    "id": "7XYkbHMQk6jz",
    "outputId": "7c25e553-b06b-4348-bb3f-87b5b2f33beb"
   },
   "outputs": [
    {
     "data": {
      "text/plain": [
       "13454"
      ]
     },
     "execution_count": 42,
     "metadata": {},
     "output_type": "execute_result"
    }
   ],
   "source": [
    "model_file = \"sstcls_{}.dat\".format(best_ep)\n",
    "covid_predictions = predict(model, covid_loader, model_file)\n",
    "len(covid_predictions)"
   ]
  },
  {
   "cell_type": "code",
   "execution_count": 43,
   "metadata": {
    "colab": {
     "base_uri": "https://localhost:8080/"
    },
    "id": "Ea0XlU03k6g0",
    "outputId": "4708d5df-cdad-4076-f3e7-a469481157fc"
   },
   "outputs": [
    {
     "name": "stdout",
     "output_type": "stream",
     "text": [
      "          Id  Predicted\n",
      "0          0          0\n",
      "1          1          0\n",
      "2          2          0\n",
      "3          3          1\n",
      "4          4          1\n",
      "...      ...        ...\n",
      "13449  13449          0\n",
      "13450  13450          0\n",
      "13451  13451          1\n",
      "13452  13452          0\n",
      "13453  13453          0\n",
      "\n",
      "[13454 rows x 2 columns]\n"
     ]
    }
   ],
   "source": [
    "covid_pred = pd.DataFrame(data=covid_predictions, columns=['Predicted']).reset_index()\n",
    "covid_pred = covid_pred.rename(columns={'index': 'Id'})\n",
    "print(covid_pred)\n",
    "\n",
    "covid_pred.to_csv('covid_prediction.csv', index = False)"
   ]
  },
  {
   "cell_type": "markdown",
   "metadata": {
    "id": "Vt0TfULRKz3A"
   },
   "source": [
    "# **Download Output**"
   ]
  },
  {
   "cell_type": "code",
   "execution_count": null,
   "metadata": {
    "id": "ofW5gtCgKyBN"
   },
   "outputs": [],
   "source": [
    "!zip -r output.zip output"
   ]
  },
  {
   "cell_type": "code",
   "execution_count": null,
   "metadata": {
    "colab": {
     "base_uri": "https://localhost:8080/",
     "height": 17
    },
    "id": "aFzs7_wULXID",
    "outputId": "7803d717-17ad-4887-e07c-f96f16315608"
   },
   "outputs": [
    {
     "data": {
      "application/javascript": [
       "\n",
       "    async function download(id, filename, size) {\n",
       "      if (!google.colab.kernel.accessAllowed) {\n",
       "        return;\n",
       "      }\n",
       "      const div = document.createElement('div');\n",
       "      const label = document.createElement('label');\n",
       "      label.textContent = `Downloading \"${filename}\": `;\n",
       "      div.appendChild(label);\n",
       "      const progress = document.createElement('progress');\n",
       "      progress.max = size;\n",
       "      div.appendChild(progress);\n",
       "      document.body.appendChild(div);\n",
       "\n",
       "      const buffers = [];\n",
       "      let downloaded = 0;\n",
       "\n",
       "      const channel = await google.colab.kernel.comms.open(id);\n",
       "      // Send a message to notify the kernel that we're ready.\n",
       "      channel.send({})\n",
       "\n",
       "      for await (const message of channel.messages) {\n",
       "        // Send a message to notify the kernel that we're ready.\n",
       "        channel.send({})\n",
       "        if (message.buffers) {\n",
       "          for (const buffer of message.buffers) {\n",
       "            buffers.push(buffer);\n",
       "            downloaded += buffer.byteLength;\n",
       "            progress.value = downloaded;\n",
       "          }\n",
       "        }\n",
       "      }\n",
       "      const blob = new Blob(buffers, {type: 'application/binary'});\n",
       "      const a = document.createElement('a');\n",
       "      a.href = window.URL.createObjectURL(blob);\n",
       "      a.download = filename;\n",
       "      div.appendChild(a);\n",
       "      a.click();\n",
       "      div.remove();\n",
       "    }\n",
       "  "
      ],
      "text/plain": [
       "<IPython.core.display.Javascript object>"
      ]
     },
     "metadata": {},
     "output_type": "display_data"
    },
    {
     "data": {
      "application/javascript": [
       "download(\"download_ea1637a9-79ce-40b8-9da1-e33e2c2c184a\", \"output.zip\", 50218)"
      ],
      "text/plain": [
       "<IPython.core.display.Javascript object>"
      ]
     },
     "metadata": {},
     "output_type": "display_data"
    },
    {
     "data": {
      "application/javascript": [
       "\n",
       "    async function download(id, filename, size) {\n",
       "      if (!google.colab.kernel.accessAllowed) {\n",
       "        return;\n",
       "      }\n",
       "      const div = document.createElement('div');\n",
       "      const label = document.createElement('label');\n",
       "      label.textContent = `Downloading \"${filename}\": `;\n",
       "      div.appendChild(label);\n",
       "      const progress = document.createElement('progress');\n",
       "      progress.max = size;\n",
       "      div.appendChild(progress);\n",
       "      document.body.appendChild(div);\n",
       "\n",
       "      const buffers = [];\n",
       "      let downloaded = 0;\n",
       "\n",
       "      const channel = await google.colab.kernel.comms.open(id);\n",
       "      // Send a message to notify the kernel that we're ready.\n",
       "      channel.send({})\n",
       "\n",
       "      for await (const message of channel.messages) {\n",
       "        // Send a message to notify the kernel that we're ready.\n",
       "        channel.send({})\n",
       "        if (message.buffers) {\n",
       "          for (const buffer of message.buffers) {\n",
       "            buffers.push(buffer);\n",
       "            downloaded += buffer.byteLength;\n",
       "            progress.value = downloaded;\n",
       "          }\n",
       "        }\n",
       "      }\n",
       "      const blob = new Blob(buffers, {type: 'application/binary'});\n",
       "      const a = document.createElement('a');\n",
       "      a.href = window.URL.createObjectURL(blob);\n",
       "      a.download = filename;\n",
       "      div.appendChild(a);\n",
       "      a.click();\n",
       "      div.remove();\n",
       "    }\n",
       "  "
      ],
      "text/plain": [
       "<IPython.core.display.Javascript object>"
      ]
     },
     "metadata": {},
     "output_type": "display_data"
    },
    {
     "data": {
      "application/javascript": [
       "download(\"download_ea1637a9-79ce-40b8-9da1-e33e2c2c184a\", \"output.zip\", 50218)"
      ],
      "text/plain": [
       "<IPython.core.display.Javascript object>"
      ]
     },
     "metadata": {},
     "output_type": "display_data"
    }
   ],
   "source": [
    "from google.colab import files\n",
    "files.download(\"output.zip\")"
   ]
  },
  {
   "cell_type": "markdown",
   "metadata": {
    "id": "x0tkHLqSe3Wd"
   },
   "source": [
    "# Empty the memory"
   ]
  },
  {
   "cell_type": "code",
   "execution_count": null,
   "metadata": {
    "colab": {
     "base_uri": "https://localhost:8080/"
    },
    "id": "JgjYAMaqOeJH",
    "outputId": "fc34fb2f-50de-4dfa-b291-8b909c1f004d"
   },
   "outputs": [
    {
     "name": "stdout",
     "output_type": "stream",
     "text": [
      "Collecting gputil\n",
      "  Downloading GPUtil-1.4.0.tar.gz (5.5 kB)\n",
      "Building wheels for collected packages: gputil\n",
      "  Building wheel for gputil (setup.py) ... \u001b[?25l\u001b[?25hdone\n",
      "  Created wheel for gputil: filename=GPUtil-1.4.0-py3-none-any.whl size=7411 sha256=bf6297d5882182784a1d000bfd3b2d459e6770ac5611df0f9254a37ed5f14996\n",
      "  Stored in directory: /root/.cache/pip/wheels/6e/f8/83/534c52482d6da64622ddbf72cd93c35d2ef2881b78fd08ff0c\n",
      "Successfully built gputil\n",
      "Installing collected packages: gputil\n",
      "Successfully installed gputil-1.4.0\n",
      "Requirement already satisfied: psutil in /usr/local/lib/python3.7/dist-packages (5.4.8)\n",
      "Requirement already satisfied: humanize in /usr/local/lib/python3.7/dist-packages (0.5.1)\n"
     ]
    }
   ],
   "source": [
    "!ln -sf /opt/bin/nvidia-smi /usr/bin/nvidia-smi\n",
    "!pip install gputil\n",
    "!pip install psutil\n",
    "!pip install humanize"
   ]
  },
  {
   "cell_type": "code",
   "execution_count": null,
   "metadata": {
    "colab": {
     "base_uri": "https://localhost:8080/"
    },
    "id": "WYat0FDKMb0G",
    "outputId": "ea19a80b-1908-45c6-a0e7-9cc6c69dfa18"
   },
   "outputs": [
    {
     "name": "stdout",
     "output_type": "stream",
     "text": [
      "Gen RAM Free: 11.6 GB  |     Proc size: 1.0 GB\n",
      "GPU RAM Free: 15106MB | Used: 3MB | Util   0% | Total     15109MB\n"
     ]
    }
   ],
   "source": [
    "import psutil\n",
    "import humanize\n",
    "import os\n",
    "import GPUtil as GPU\n",
    "\n",
    "GPUs = GPU.getGPUs()\n",
    "# XXX: only one GPU on Colab and isn’t guaranteed\n",
    "gpu = GPUs[0]\n",
    "def printm():\n",
    "    process = psutil.Process(os.getpid())\n",
    "    print(\"Gen RAM Free: \" + humanize.naturalsize(psutil.virtual_memory().available), \" |     Proc size: \" + humanize.naturalsize(process.memory_info().rss))\n",
    "    print(\"GPU RAM Free: {0:.0f}MB | Used: {1:.0f}MB | Util {2:3.0f}% | Total     {3:.0f}MB\".format(gpu.memoryFree, gpu.memoryUsed, gpu.memoryUtil*100, gpu.memoryTotal))\n",
    "printm()\n"
   ]
  },
  {
   "cell_type": "code",
   "execution_count": null,
   "metadata": {
    "colab": {
     "base_uri": "https://localhost:8080/"
    },
    "id": "CA9st45EMb2q",
    "outputId": "8868e977-4da0-44a6-c4d4-5ba5a95ddf3d"
   },
   "outputs": [
    {
     "name": "stdout",
     "output_type": "stream",
     "text": [
      "root          30  0.5  0.0      0     0 ?        Z    06:59   0:04 [python3] <defunct>\n",
      "root          31  0.0  0.3 158256 41376 ?        S    06:59   0:00 python3 /usr/local/bin/colab-fileshim.py\n",
      "root          56  0.4  0.4 202440 61064 ?        Sl   06:59   0:03 /usr/bin/python3 /usr/local/bin/jupyter-notebook --ip=\"172.28.0.2\" --port=9000 --FileContentsManager.root_dir=\"/\" --MappingKernelManager.root_dir=\"/content\"\n",
      "root         316  0.0  0.0  18380  2960 ?        S    06:59   0:00 bash -c tail -n +0 -F \"/root/.config/Google/DriveFS/Logs/drive_fs.txt\" | python3 /opt/google/drive/drive-filter.py > \"/root/.config/Google/DriveFS/Logs/timeouts.txt\" \n",
      "root         319  0.0  0.0  31272  9380 ?        S    06:59   0:00 python3 /opt/google/drive/drive-filter.py\n",
      "root         506  7.5 42.2 31615000 5617240 ?    Ssl  07:07   0:15 /usr/bin/python3 -m ipykernel_launcher -f /root/.local/share/jupyter/runtime/kernel-8598b9a0-c7fd-45c2-bbb1-36144b25e38e.json\n",
      "root         524  0.2  0.1 127700 16380 ?        Sl   07:07   0:00 /usr/bin/python3 /usr/local/lib/python3.7/dist-packages/debugpy/adapter --for-server 40781 --host 127.0.0.1 --port 18404 --server-access-token f7a070892485f9fa0acca1be8c52826c4c308e95669e51f88fd227e527be9716\n",
      "root         618  0.0  0.0  39196  6684 ?        S    07:11   0:00 /bin/bash -c ps -aux|grep python\n",
      "root         620  0.0  0.0  36900  3972 ?        R    07:11   0:00 grep python\n"
     ]
    }
   ],
   "source": [
    "!ps -aux|grep python"
   ]
  },
  {
   "cell_type": "code",
   "execution_count": null,
   "metadata": {
    "id": "M34Spx3iMb5l"
   },
   "outputs": [],
   "source": [
    "!kill -9 506"
   ]
  }
 ],
 "metadata": {
  "accelerator": "GPU",
  "colab": {
   "collapsed_sections": [
    "DhyE9siDfopm",
    "Q_CLUY6Qh91W",
    "fa0x95C8kY0n",
    "Vt0TfULRKz3A",
    "x0tkHLqSe3Wd"
   ],
   "name": "BertForSequence.ipynb",
   "provenance": []
  },
  "kernelspec": {
   "display_name": "Python 3 (ipykernel)",
   "language": "python",
   "name": "python3"
  },
  "language_info": {
   "codemirror_mode": {
    "name": "ipython",
    "version": 3
   },
   "file_extension": ".py",
   "mimetype": "text/x-python",
   "name": "python",
   "nbconvert_exporter": "python",
   "pygments_lexer": "ipython3",
   "version": "3.7.6"
  },
  "toc": {
   "base_numbering": 1,
   "nav_menu": {},
   "number_sections": true,
   "sideBar": true,
   "skip_h1_title": false,
   "title_cell": "Table of Contents",
   "title_sidebar": "Contents",
   "toc_cell": false,
   "toc_position": {},
   "toc_section_display": true,
   "toc_window_display": false
  },
  "varInspector": {
   "cols": {
    "lenName": 16,
    "lenType": 16,
    "lenVar": 40
   },
   "kernels_config": {
    "python": {
     "delete_cmd_postfix": "",
     "delete_cmd_prefix": "del ",
     "library": "var_list.py",
     "varRefreshCmd": "print(var_dic_list())"
    },
    "r": {
     "delete_cmd_postfix": ") ",
     "delete_cmd_prefix": "rm(",
     "library": "var_list.r",
     "varRefreshCmd": "cat(var_dic_list()) "
    }
   },
   "types_to_exclude": [
    "module",
    "function",
    "builtin_function_or_method",
    "instance",
    "_Feature"
   ],
   "window_display": false
  },
  "widgets": {
   "application/vnd.jupyter.widget-state+json": {
    "004bd721abe449d3ac875c5131046384": {
     "model_module": "@jupyter-widgets/base",
     "model_module_version": "1.2.0",
     "model_name": "LayoutModel",
     "state": {
      "_model_module": "@jupyter-widgets/base",
      "_model_module_version": "1.2.0",
      "_model_name": "LayoutModel",
      "_view_count": null,
      "_view_module": "@jupyter-widgets/base",
      "_view_module_version": "1.2.0",
      "_view_name": "LayoutView",
      "align_content": null,
      "align_items": null,
      "align_self": null,
      "border": null,
      "bottom": null,
      "display": null,
      "flex": null,
      "flex_flow": null,
      "grid_area": null,
      "grid_auto_columns": null,
      "grid_auto_flow": null,
      "grid_auto_rows": null,
      "grid_column": null,
      "grid_gap": null,
      "grid_row": null,
      "grid_template_areas": null,
      "grid_template_columns": null,
      "grid_template_rows": null,
      "height": null,
      "justify_content": null,
      "justify_items": null,
      "left": null,
      "margin": null,
      "max_height": null,
      "max_width": null,
      "min_height": null,
      "min_width": null,
      "object_fit": null,
      "object_position": null,
      "order": null,
      "overflow": null,
      "overflow_x": null,
      "overflow_y": null,
      "padding": null,
      "right": null,
      "top": null,
      "visibility": null,
      "width": null
     }
    },
    "01e9a19e5eb74a6cbfb72312e267408f": {
     "model_module": "@jupyter-widgets/controls",
     "model_module_version": "1.5.0",
     "model_name": "DescriptionStyleModel",
     "state": {
      "_model_module": "@jupyter-widgets/controls",
      "_model_module_version": "1.5.0",
      "_model_name": "DescriptionStyleModel",
      "_view_count": null,
      "_view_module": "@jupyter-widgets/base",
      "_view_module_version": "1.2.0",
      "_view_name": "StyleView",
      "description_width": ""
     }
    },
    "02ba0f6967814209896625d53f7988ab": {
     "model_module": "@jupyter-widgets/controls",
     "model_module_version": "1.5.0",
     "model_name": "ProgressStyleModel",
     "state": {
      "_model_module": "@jupyter-widgets/controls",
      "_model_module_version": "1.5.0",
      "_model_name": "ProgressStyleModel",
      "_view_count": null,
      "_view_module": "@jupyter-widgets/base",
      "_view_module_version": "1.2.0",
      "_view_name": "StyleView",
      "bar_color": null,
      "description_width": ""
     }
    },
    "04b45f84e6e343549a0c42f113639135": {
     "model_module": "@jupyter-widgets/controls",
     "model_module_version": "1.5.0",
     "model_name": "FloatProgressModel",
     "state": {
      "_dom_classes": [],
      "_model_module": "@jupyter-widgets/controls",
      "_model_module_version": "1.5.0",
      "_model_name": "FloatProgressModel",
      "_view_count": null,
      "_view_module": "@jupyter-widgets/controls",
      "_view_module_version": "1.5.0",
      "_view_name": "ProgressView",
      "bar_style": "success",
      "description": "",
      "description_tooltip": null,
      "layout": "IPY_MODEL_21b0921c5ef5467d9657c101e88848b8",
      "max": 231508,
      "min": 0,
      "orientation": "horizontal",
      "style": "IPY_MODEL_8fe9b86c07a44c1ebc47584643e75394",
      "value": 231508
     }
    },
    "0703917c42a34f68a90395fe66c7d7cc": {
     "model_module": "@jupyter-widgets/base",
     "model_module_version": "1.2.0",
     "model_name": "LayoutModel",
     "state": {
      "_model_module": "@jupyter-widgets/base",
      "_model_module_version": "1.2.0",
      "_model_name": "LayoutModel",
      "_view_count": null,
      "_view_module": "@jupyter-widgets/base",
      "_view_module_version": "1.2.0",
      "_view_name": "LayoutView",
      "align_content": null,
      "align_items": null,
      "align_self": null,
      "border": null,
      "bottom": null,
      "display": null,
      "flex": null,
      "flex_flow": null,
      "grid_area": null,
      "grid_auto_columns": null,
      "grid_auto_flow": null,
      "grid_auto_rows": null,
      "grid_column": null,
      "grid_gap": null,
      "grid_row": null,
      "grid_template_areas": null,
      "grid_template_columns": null,
      "grid_template_rows": null,
      "height": null,
      "justify_content": null,
      "justify_items": null,
      "left": null,
      "margin": null,
      "max_height": null,
      "max_width": null,
      "min_height": null,
      "min_width": null,
      "object_fit": null,
      "object_position": null,
      "order": null,
      "overflow": null,
      "overflow_x": null,
      "overflow_y": null,
      "padding": null,
      "right": null,
      "top": null,
      "visibility": null,
      "width": null
     }
    },
    "0bdd1e036b564f91b11b5e262a8a4fa0": {
     "model_module": "@jupyter-widgets/base",
     "model_module_version": "1.2.0",
     "model_name": "LayoutModel",
     "state": {
      "_model_module": "@jupyter-widgets/base",
      "_model_module_version": "1.2.0",
      "_model_name": "LayoutModel",
      "_view_count": null,
      "_view_module": "@jupyter-widgets/base",
      "_view_module_version": "1.2.0",
      "_view_name": "LayoutView",
      "align_content": null,
      "align_items": null,
      "align_self": null,
      "border": null,
      "bottom": null,
      "display": null,
      "flex": null,
      "flex_flow": null,
      "grid_area": null,
      "grid_auto_columns": null,
      "grid_auto_flow": null,
      "grid_auto_rows": null,
      "grid_column": null,
      "grid_gap": null,
      "grid_row": null,
      "grid_template_areas": null,
      "grid_template_columns": null,
      "grid_template_rows": null,
      "height": null,
      "justify_content": null,
      "justify_items": null,
      "left": null,
      "margin": null,
      "max_height": null,
      "max_width": null,
      "min_height": null,
      "min_width": null,
      "object_fit": null,
      "object_position": null,
      "order": null,
      "overflow": null,
      "overflow_x": null,
      "overflow_y": null,
      "padding": null,
      "right": null,
      "top": null,
      "visibility": null,
      "width": null
     }
    },
    "144ad4e624f8462783f4ea2bf8750e84": {
     "model_module": "@jupyter-widgets/controls",
     "model_module_version": "1.5.0",
     "model_name": "DescriptionStyleModel",
     "state": {
      "_model_module": "@jupyter-widgets/controls",
      "_model_module_version": "1.5.0",
      "_model_name": "DescriptionStyleModel",
      "_view_count": null,
      "_view_module": "@jupyter-widgets/base",
      "_view_module_version": "1.2.0",
      "_view_name": "StyleView",
      "description_width": ""
     }
    },
    "18a7d4034f32444f87329d652becec03": {
     "model_module": "@jupyter-widgets/controls",
     "model_module_version": "1.5.0",
     "model_name": "FloatProgressModel",
     "state": {
      "_dom_classes": [],
      "_model_module": "@jupyter-widgets/controls",
      "_model_module_version": "1.5.0",
      "_model_name": "FloatProgressModel",
      "_view_count": null,
      "_view_module": "@jupyter-widgets/controls",
      "_view_module_version": "1.5.0",
      "_view_name": "ProgressView",
      "bar_style": "success",
      "description": "",
      "description_tooltip": null,
      "layout": "IPY_MODEL_74419c4e528d4bdd8a0b3564452220e8",
      "max": 570,
      "min": 0,
      "orientation": "horizontal",
      "style": "IPY_MODEL_f41ce42e54a6462294459c49482e9008",
      "value": 570
     }
    },
    "1af01d5b23154d47b035ab797145f14f": {
     "model_module": "@jupyter-widgets/controls",
     "model_module_version": "1.5.0",
     "model_name": "HTMLModel",
     "state": {
      "_dom_classes": [],
      "_model_module": "@jupyter-widgets/controls",
      "_model_module_version": "1.5.0",
      "_model_name": "HTMLModel",
      "_view_count": null,
      "_view_module": "@jupyter-widgets/controls",
      "_view_module_version": "1.5.0",
      "_view_name": "HTMLView",
      "description": "",
      "description_tooltip": null,
      "layout": "IPY_MODEL_d9b32c070b0441d89ab33f14484f0f1c",
      "placeholder": "​",
      "style": "IPY_MODEL_144ad4e624f8462783f4ea2bf8750e84",
      "value": " 570/570 [00:00&lt;00:00, 21.1kB/s]"
     }
    },
    "1e82c9b4b4694fe193f0fb2be3f4d27a": {
     "model_module": "@jupyter-widgets/base",
     "model_module_version": "1.2.0",
     "model_name": "LayoutModel",
     "state": {
      "_model_module": "@jupyter-widgets/base",
      "_model_module_version": "1.2.0",
      "_model_name": "LayoutModel",
      "_view_count": null,
      "_view_module": "@jupyter-widgets/base",
      "_view_module_version": "1.2.0",
      "_view_name": "LayoutView",
      "align_content": null,
      "align_items": null,
      "align_self": null,
      "border": null,
      "bottom": null,
      "display": null,
      "flex": null,
      "flex_flow": null,
      "grid_area": null,
      "grid_auto_columns": null,
      "grid_auto_flow": null,
      "grid_auto_rows": null,
      "grid_column": null,
      "grid_gap": null,
      "grid_row": null,
      "grid_template_areas": null,
      "grid_template_columns": null,
      "grid_template_rows": null,
      "height": null,
      "justify_content": null,
      "justify_items": null,
      "left": null,
      "margin": null,
      "max_height": null,
      "max_width": null,
      "min_height": null,
      "min_width": null,
      "object_fit": null,
      "object_position": null,
      "order": null,
      "overflow": null,
      "overflow_x": null,
      "overflow_y": null,
      "padding": null,
      "right": null,
      "top": null,
      "visibility": null,
      "width": null
     }
    },
    "1f1e7a0bc1bb4f9a990175c0f9a01913": {
     "model_module": "@jupyter-widgets/base",
     "model_module_version": "1.2.0",
     "model_name": "LayoutModel",
     "state": {
      "_model_module": "@jupyter-widgets/base",
      "_model_module_version": "1.2.0",
      "_model_name": "LayoutModel",
      "_view_count": null,
      "_view_module": "@jupyter-widgets/base",
      "_view_module_version": "1.2.0",
      "_view_name": "LayoutView",
      "align_content": null,
      "align_items": null,
      "align_self": null,
      "border": null,
      "bottom": null,
      "display": null,
      "flex": null,
      "flex_flow": null,
      "grid_area": null,
      "grid_auto_columns": null,
      "grid_auto_flow": null,
      "grid_auto_rows": null,
      "grid_column": null,
      "grid_gap": null,
      "grid_row": null,
      "grid_template_areas": null,
      "grid_template_columns": null,
      "grid_template_rows": null,
      "height": null,
      "justify_content": null,
      "justify_items": null,
      "left": null,
      "margin": null,
      "max_height": null,
      "max_width": null,
      "min_height": null,
      "min_width": null,
      "object_fit": null,
      "object_position": null,
      "order": null,
      "overflow": null,
      "overflow_x": null,
      "overflow_y": null,
      "padding": null,
      "right": null,
      "top": null,
      "visibility": null,
      "width": null
     }
    },
    "215ff7b447534900a8349385366f54ad": {
     "model_module": "@jupyter-widgets/base",
     "model_module_version": "1.2.0",
     "model_name": "LayoutModel",
     "state": {
      "_model_module": "@jupyter-widgets/base",
      "_model_module_version": "1.2.0",
      "_model_name": "LayoutModel",
      "_view_count": null,
      "_view_module": "@jupyter-widgets/base",
      "_view_module_version": "1.2.0",
      "_view_name": "LayoutView",
      "align_content": null,
      "align_items": null,
      "align_self": null,
      "border": null,
      "bottom": null,
      "display": null,
      "flex": null,
      "flex_flow": null,
      "grid_area": null,
      "grid_auto_columns": null,
      "grid_auto_flow": null,
      "grid_auto_rows": null,
      "grid_column": null,
      "grid_gap": null,
      "grid_row": null,
      "grid_template_areas": null,
      "grid_template_columns": null,
      "grid_template_rows": null,
      "height": null,
      "justify_content": null,
      "justify_items": null,
      "left": null,
      "margin": null,
      "max_height": null,
      "max_width": null,
      "min_height": null,
      "min_width": null,
      "object_fit": null,
      "object_position": null,
      "order": null,
      "overflow": null,
      "overflow_x": null,
      "overflow_y": null,
      "padding": null,
      "right": null,
      "top": null,
      "visibility": null,
      "width": null
     }
    },
    "21b0921c5ef5467d9657c101e88848b8": {
     "model_module": "@jupyter-widgets/base",
     "model_module_version": "1.2.0",
     "model_name": "LayoutModel",
     "state": {
      "_model_module": "@jupyter-widgets/base",
      "_model_module_version": "1.2.0",
      "_model_name": "LayoutModel",
      "_view_count": null,
      "_view_module": "@jupyter-widgets/base",
      "_view_module_version": "1.2.0",
      "_view_name": "LayoutView",
      "align_content": null,
      "align_items": null,
      "align_self": null,
      "border": null,
      "bottom": null,
      "display": null,
      "flex": null,
      "flex_flow": null,
      "grid_area": null,
      "grid_auto_columns": null,
      "grid_auto_flow": null,
      "grid_auto_rows": null,
      "grid_column": null,
      "grid_gap": null,
      "grid_row": null,
      "grid_template_areas": null,
      "grid_template_columns": null,
      "grid_template_rows": null,
      "height": null,
      "justify_content": null,
      "justify_items": null,
      "left": null,
      "margin": null,
      "max_height": null,
      "max_width": null,
      "min_height": null,
      "min_width": null,
      "object_fit": null,
      "object_position": null,
      "order": null,
      "overflow": null,
      "overflow_x": null,
      "overflow_y": null,
      "padding": null,
      "right": null,
      "top": null,
      "visibility": null,
      "width": null
     }
    },
    "2c733447005a41d0ba0eeef66a685ddf": {
     "model_module": "@jupyter-widgets/controls",
     "model_module_version": "1.5.0",
     "model_name": "DescriptionStyleModel",
     "state": {
      "_model_module": "@jupyter-widgets/controls",
      "_model_module_version": "1.5.0",
      "_model_name": "DescriptionStyleModel",
      "_view_count": null,
      "_view_module": "@jupyter-widgets/base",
      "_view_module_version": "1.2.0",
      "_view_name": "StyleView",
      "description_width": ""
     }
    },
    "2d978d6ac6d448e09d4156dcb76a9da9": {
     "model_module": "@jupyter-widgets/controls",
     "model_module_version": "1.5.0",
     "model_name": "DescriptionStyleModel",
     "state": {
      "_model_module": "@jupyter-widgets/controls",
      "_model_module_version": "1.5.0",
      "_model_name": "DescriptionStyleModel",
      "_view_count": null,
      "_view_module": "@jupyter-widgets/base",
      "_view_module_version": "1.2.0",
      "_view_name": "StyleView",
      "description_width": ""
     }
    },
    "34c7bd75e17b42cf85ad5648811406e3": {
     "model_module": "@jupyter-widgets/controls",
     "model_module_version": "1.5.0",
     "model_name": "HTMLModel",
     "state": {
      "_dom_classes": [],
      "_model_module": "@jupyter-widgets/controls",
      "_model_module_version": "1.5.0",
      "_model_name": "HTMLModel",
      "_view_count": null,
      "_view_module": "@jupyter-widgets/controls",
      "_view_module_version": "1.5.0",
      "_view_name": "HTMLView",
      "description": "",
      "description_tooltip": null,
      "layout": "IPY_MODEL_004bd721abe449d3ac875c5131046384",
      "placeholder": "​",
      "style": "IPY_MODEL_2d978d6ac6d448e09d4156dcb76a9da9",
      "value": "Downloading: 100%"
     }
    },
    "36860a61becd4dc18cc5f6f968940c48": {
     "model_module": "@jupyter-widgets/base",
     "model_module_version": "1.2.0",
     "model_name": "LayoutModel",
     "state": {
      "_model_module": "@jupyter-widgets/base",
      "_model_module_version": "1.2.0",
      "_model_name": "LayoutModel",
      "_view_count": null,
      "_view_module": "@jupyter-widgets/base",
      "_view_module_version": "1.2.0",
      "_view_name": "LayoutView",
      "align_content": null,
      "align_items": null,
      "align_self": null,
      "border": null,
      "bottom": null,
      "display": null,
      "flex": null,
      "flex_flow": null,
      "grid_area": null,
      "grid_auto_columns": null,
      "grid_auto_flow": null,
      "grid_auto_rows": null,
      "grid_column": null,
      "grid_gap": null,
      "grid_row": null,
      "grid_template_areas": null,
      "grid_template_columns": null,
      "grid_template_rows": null,
      "height": null,
      "justify_content": null,
      "justify_items": null,
      "left": null,
      "margin": null,
      "max_height": null,
      "max_width": null,
      "min_height": null,
      "min_width": null,
      "object_fit": null,
      "object_position": null,
      "order": null,
      "overflow": null,
      "overflow_x": null,
      "overflow_y": null,
      "padding": null,
      "right": null,
      "top": null,
      "visibility": null,
      "width": null
     }
    },
    "497bd90017034404a815b476706f2f38": {
     "model_module": "@jupyter-widgets/controls",
     "model_module_version": "1.5.0",
     "model_name": "HBoxModel",
     "state": {
      "_dom_classes": [],
      "_model_module": "@jupyter-widgets/controls",
      "_model_module_version": "1.5.0",
      "_model_name": "HBoxModel",
      "_view_count": null,
      "_view_module": "@jupyter-widgets/controls",
      "_view_module_version": "1.5.0",
      "_view_name": "HBoxView",
      "box_style": "",
      "children": [
       "IPY_MODEL_56e99b78a81242cfaec355965c123d76",
       "IPY_MODEL_18a7d4034f32444f87329d652becec03",
       "IPY_MODEL_1af01d5b23154d47b035ab797145f14f"
      ],
      "layout": "IPY_MODEL_0bdd1e036b564f91b11b5e262a8a4fa0"
     }
    },
    "56e99b78a81242cfaec355965c123d76": {
     "model_module": "@jupyter-widgets/controls",
     "model_module_version": "1.5.0",
     "model_name": "HTMLModel",
     "state": {
      "_dom_classes": [],
      "_model_module": "@jupyter-widgets/controls",
      "_model_module_version": "1.5.0",
      "_model_name": "HTMLModel",
      "_view_count": null,
      "_view_module": "@jupyter-widgets/controls",
      "_view_module_version": "1.5.0",
      "_view_name": "HTMLView",
      "description": "",
      "description_tooltip": null,
      "layout": "IPY_MODEL_215ff7b447534900a8349385366f54ad",
      "placeholder": "​",
      "style": "IPY_MODEL_2c733447005a41d0ba0eeef66a685ddf",
      "value": "Downloading: 100%"
     }
    },
    "595fba0ea9224023924fb23f2568033c": {
     "model_module": "@jupyter-widgets/controls",
     "model_module_version": "1.5.0",
     "model_name": "HTMLModel",
     "state": {
      "_dom_classes": [],
      "_model_module": "@jupyter-widgets/controls",
      "_model_module_version": "1.5.0",
      "_model_name": "HTMLModel",
      "_view_count": null,
      "_view_module": "@jupyter-widgets/controls",
      "_view_module_version": "1.5.0",
      "_view_name": "HTMLView",
      "description": "",
      "description_tooltip": null,
      "layout": "IPY_MODEL_1f1e7a0bc1bb4f9a990175c0f9a01913",
      "placeholder": "​",
      "style": "IPY_MODEL_dc70ce35f23b4188a159592e1132aa3c",
      "value": "Downloading: 100%"
     }
    },
    "5b01f236b35345599295f89bb264066d": {
     "model_module": "@jupyter-widgets/controls",
     "model_module_version": "1.5.0",
     "model_name": "HTMLModel",
     "state": {
      "_dom_classes": [],
      "_model_module": "@jupyter-widgets/controls",
      "_model_module_version": "1.5.0",
      "_model_name": "HTMLModel",
      "_view_count": null,
      "_view_module": "@jupyter-widgets/controls",
      "_view_module_version": "1.5.0",
      "_view_name": "HTMLView",
      "description": "",
      "description_tooltip": null,
      "layout": "IPY_MODEL_ad0a55e225e748bca4f010717fcec982",
      "placeholder": "​",
      "style": "IPY_MODEL_01e9a19e5eb74a6cbfb72312e267408f",
      "value": "Downloading: 100%"
     }
    },
    "68aac7629d7d4e66ad27aab3e442db52": {
     "model_module": "@jupyter-widgets/controls",
     "model_module_version": "1.5.0",
     "model_name": "HBoxModel",
     "state": {
      "_dom_classes": [],
      "_model_module": "@jupyter-widgets/controls",
      "_model_module_version": "1.5.0",
      "_model_name": "HBoxModel",
      "_view_count": null,
      "_view_module": "@jupyter-widgets/controls",
      "_view_module_version": "1.5.0",
      "_view_name": "HBoxView",
      "box_style": "",
      "children": [
       "IPY_MODEL_5b01f236b35345599295f89bb264066d",
       "IPY_MODEL_04b45f84e6e343549a0c42f113639135",
       "IPY_MODEL_f20a0e80db1a4769b73f0e018f898f8e"
      ],
      "layout": "IPY_MODEL_70e36b9449794906a080d5de25469e6b"
     }
    },
    "6e0bd7b30ac14591a9177d4d626f8598": {
     "model_module": "@jupyter-widgets/controls",
     "model_module_version": "1.5.0",
     "model_name": "HTMLModel",
     "state": {
      "_dom_classes": [],
      "_model_module": "@jupyter-widgets/controls",
      "_model_module_version": "1.5.0",
      "_model_name": "HTMLModel",
      "_view_count": null,
      "_view_module": "@jupyter-widgets/controls",
      "_view_module_version": "1.5.0",
      "_view_name": "HTMLView",
      "description": "",
      "description_tooltip": null,
      "layout": "IPY_MODEL_efa5e369cd6e46279d9285e8e231e218",
      "placeholder": "​",
      "style": "IPY_MODEL_fbd570b23acf4fc498a13a3dc034e188",
      "value": " 28.0/28.0 [00:00&lt;00:00, 824B/s]"
     }
    },
    "70e36b9449794906a080d5de25469e6b": {
     "model_module": "@jupyter-widgets/base",
     "model_module_version": "1.2.0",
     "model_name": "LayoutModel",
     "state": {
      "_model_module": "@jupyter-widgets/base",
      "_model_module_version": "1.2.0",
      "_model_name": "LayoutModel",
      "_view_count": null,
      "_view_module": "@jupyter-widgets/base",
      "_view_module_version": "1.2.0",
      "_view_name": "LayoutView",
      "align_content": null,
      "align_items": null,
      "align_self": null,
      "border": null,
      "bottom": null,
      "display": null,
      "flex": null,
      "flex_flow": null,
      "grid_area": null,
      "grid_auto_columns": null,
      "grid_auto_flow": null,
      "grid_auto_rows": null,
      "grid_column": null,
      "grid_gap": null,
      "grid_row": null,
      "grid_template_areas": null,
      "grid_template_columns": null,
      "grid_template_rows": null,
      "height": null,
      "justify_content": null,
      "justify_items": null,
      "left": null,
      "margin": null,
      "max_height": null,
      "max_width": null,
      "min_height": null,
      "min_width": null,
      "object_fit": null,
      "object_position": null,
      "order": null,
      "overflow": null,
      "overflow_x": null,
      "overflow_y": null,
      "padding": null,
      "right": null,
      "top": null,
      "visibility": null,
      "width": null
     }
    },
    "7355cb95313b4c26b70594d3c53282d9": {
     "model_module": "@jupyter-widgets/controls",
     "model_module_version": "1.5.0",
     "model_name": "ProgressStyleModel",
     "state": {
      "_model_module": "@jupyter-widgets/controls",
      "_model_module_version": "1.5.0",
      "_model_name": "ProgressStyleModel",
      "_view_count": null,
      "_view_module": "@jupyter-widgets/base",
      "_view_module_version": "1.2.0",
      "_view_name": "StyleView",
      "bar_color": null,
      "description_width": ""
     }
    },
    "74419c4e528d4bdd8a0b3564452220e8": {
     "model_module": "@jupyter-widgets/base",
     "model_module_version": "1.2.0",
     "model_name": "LayoutModel",
     "state": {
      "_model_module": "@jupyter-widgets/base",
      "_model_module_version": "1.2.0",
      "_model_name": "LayoutModel",
      "_view_count": null,
      "_view_module": "@jupyter-widgets/base",
      "_view_module_version": "1.2.0",
      "_view_name": "LayoutView",
      "align_content": null,
      "align_items": null,
      "align_self": null,
      "border": null,
      "bottom": null,
      "display": null,
      "flex": null,
      "flex_flow": null,
      "grid_area": null,
      "grid_auto_columns": null,
      "grid_auto_flow": null,
      "grid_auto_rows": null,
      "grid_column": null,
      "grid_gap": null,
      "grid_row": null,
      "grid_template_areas": null,
      "grid_template_columns": null,
      "grid_template_rows": null,
      "height": null,
      "justify_content": null,
      "justify_items": null,
      "left": null,
      "margin": null,
      "max_height": null,
      "max_width": null,
      "min_height": null,
      "min_width": null,
      "object_fit": null,
      "object_position": null,
      "order": null,
      "overflow": null,
      "overflow_x": null,
      "overflow_y": null,
      "padding": null,
      "right": null,
      "top": null,
      "visibility": null,
      "width": null
     }
    },
    "7cd3edf6bd3c48388d910e8b2a029316": {
     "model_module": "@jupyter-widgets/controls",
     "model_module_version": "1.5.0",
     "model_name": "HTMLModel",
     "state": {
      "_dom_classes": [],
      "_model_module": "@jupyter-widgets/controls",
      "_model_module_version": "1.5.0",
      "_model_name": "HTMLModel",
      "_view_count": null,
      "_view_module": "@jupyter-widgets/controls",
      "_view_module_version": "1.5.0",
      "_view_name": "HTMLView",
      "description": "",
      "description_tooltip": null,
      "layout": "IPY_MODEL_fc939a88803d4fbaa7a67283b875eba6",
      "placeholder": "​",
      "style": "IPY_MODEL_a9d1f5b2a33b4e639ff13732c032bc11",
      "value": " 420M/420M [00:07&lt;00:00, 60.2MB/s]"
     }
    },
    "89f49e7aeae44836a00753842209d467": {
     "model_module": "@jupyter-widgets/controls",
     "model_module_version": "1.5.0",
     "model_name": "HBoxModel",
     "state": {
      "_dom_classes": [],
      "_model_module": "@jupyter-widgets/controls",
      "_model_module_version": "1.5.0",
      "_model_name": "HBoxModel",
      "_view_count": null,
      "_view_module": "@jupyter-widgets/controls",
      "_view_module_version": "1.5.0",
      "_view_name": "HBoxView",
      "box_style": "",
      "children": [
       "IPY_MODEL_34c7bd75e17b42cf85ad5648811406e3",
       "IPY_MODEL_da80bd438ec6481b96d167fc728d5fbd",
       "IPY_MODEL_6e0bd7b30ac14591a9177d4d626f8598"
      ],
      "layout": "IPY_MODEL_36860a61becd4dc18cc5f6f968940c48"
     }
    },
    "8fe9b86c07a44c1ebc47584643e75394": {
     "model_module": "@jupyter-widgets/controls",
     "model_module_version": "1.5.0",
     "model_name": "ProgressStyleModel",
     "state": {
      "_model_module": "@jupyter-widgets/controls",
      "_model_module_version": "1.5.0",
      "_model_name": "ProgressStyleModel",
      "_view_count": null,
      "_view_module": "@jupyter-widgets/base",
      "_view_module_version": "1.2.0",
      "_view_name": "StyleView",
      "bar_color": null,
      "description_width": ""
     }
    },
    "a50d19c1a7f24370861469a9a6f7af74": {
     "model_module": "@jupyter-widgets/controls",
     "model_module_version": "1.5.0",
     "model_name": "HBoxModel",
     "state": {
      "_dom_classes": [],
      "_model_module": "@jupyter-widgets/controls",
      "_model_module_version": "1.5.0",
      "_model_name": "HBoxModel",
      "_view_count": null,
      "_view_module": "@jupyter-widgets/controls",
      "_view_module_version": "1.5.0",
      "_view_name": "HBoxView",
      "box_style": "",
      "children": [
       "IPY_MODEL_595fba0ea9224023924fb23f2568033c",
       "IPY_MODEL_a72a12c5f82743f8a23f765e33d5aec8",
       "IPY_MODEL_7cd3edf6bd3c48388d910e8b2a029316"
      ],
      "layout": "IPY_MODEL_f1d3f0e556a649b5a159e3d00e7a65f8"
     }
    },
    "a72a12c5f82743f8a23f765e33d5aec8": {
     "model_module": "@jupyter-widgets/controls",
     "model_module_version": "1.5.0",
     "model_name": "FloatProgressModel",
     "state": {
      "_dom_classes": [],
      "_model_module": "@jupyter-widgets/controls",
      "_model_module_version": "1.5.0",
      "_model_name": "FloatProgressModel",
      "_view_count": null,
      "_view_module": "@jupyter-widgets/controls",
      "_view_module_version": "1.5.0",
      "_view_name": "ProgressView",
      "bar_style": "success",
      "description": "",
      "description_tooltip": null,
      "layout": "IPY_MODEL_f541b29ce742496aa2185b98fb53b338",
      "max": 440473133,
      "min": 0,
      "orientation": "horizontal",
      "style": "IPY_MODEL_7355cb95313b4c26b70594d3c53282d9",
      "value": 440473133
     }
    },
    "a9d1f5b2a33b4e639ff13732c032bc11": {
     "model_module": "@jupyter-widgets/controls",
     "model_module_version": "1.5.0",
     "model_name": "DescriptionStyleModel",
     "state": {
      "_model_module": "@jupyter-widgets/controls",
      "_model_module_version": "1.5.0",
      "_model_name": "DescriptionStyleModel",
      "_view_count": null,
      "_view_module": "@jupyter-widgets/base",
      "_view_module_version": "1.2.0",
      "_view_name": "StyleView",
      "description_width": ""
     }
    },
    "ad0a55e225e748bca4f010717fcec982": {
     "model_module": "@jupyter-widgets/base",
     "model_module_version": "1.2.0",
     "model_name": "LayoutModel",
     "state": {
      "_model_module": "@jupyter-widgets/base",
      "_model_module_version": "1.2.0",
      "_model_name": "LayoutModel",
      "_view_count": null,
      "_view_module": "@jupyter-widgets/base",
      "_view_module_version": "1.2.0",
      "_view_name": "LayoutView",
      "align_content": null,
      "align_items": null,
      "align_self": null,
      "border": null,
      "bottom": null,
      "display": null,
      "flex": null,
      "flex_flow": null,
      "grid_area": null,
      "grid_auto_columns": null,
      "grid_auto_flow": null,
      "grid_auto_rows": null,
      "grid_column": null,
      "grid_gap": null,
      "grid_row": null,
      "grid_template_areas": null,
      "grid_template_columns": null,
      "grid_template_rows": null,
      "height": null,
      "justify_content": null,
      "justify_items": null,
      "left": null,
      "margin": null,
      "max_height": null,
      "max_width": null,
      "min_height": null,
      "min_width": null,
      "object_fit": null,
      "object_position": null,
      "order": null,
      "overflow": null,
      "overflow_x": null,
      "overflow_y": null,
      "padding": null,
      "right": null,
      "top": null,
      "visibility": null,
      "width": null
     }
    },
    "d9b32c070b0441d89ab33f14484f0f1c": {
     "model_module": "@jupyter-widgets/base",
     "model_module_version": "1.2.0",
     "model_name": "LayoutModel",
     "state": {
      "_model_module": "@jupyter-widgets/base",
      "_model_module_version": "1.2.0",
      "_model_name": "LayoutModel",
      "_view_count": null,
      "_view_module": "@jupyter-widgets/base",
      "_view_module_version": "1.2.0",
      "_view_name": "LayoutView",
      "align_content": null,
      "align_items": null,
      "align_self": null,
      "border": null,
      "bottom": null,
      "display": null,
      "flex": null,
      "flex_flow": null,
      "grid_area": null,
      "grid_auto_columns": null,
      "grid_auto_flow": null,
      "grid_auto_rows": null,
      "grid_column": null,
      "grid_gap": null,
      "grid_row": null,
      "grid_template_areas": null,
      "grid_template_columns": null,
      "grid_template_rows": null,
      "height": null,
      "justify_content": null,
      "justify_items": null,
      "left": null,
      "margin": null,
      "max_height": null,
      "max_width": null,
      "min_height": null,
      "min_width": null,
      "object_fit": null,
      "object_position": null,
      "order": null,
      "overflow": null,
      "overflow_x": null,
      "overflow_y": null,
      "padding": null,
      "right": null,
      "top": null,
      "visibility": null,
      "width": null
     }
    },
    "da80bd438ec6481b96d167fc728d5fbd": {
     "model_module": "@jupyter-widgets/controls",
     "model_module_version": "1.5.0",
     "model_name": "FloatProgressModel",
     "state": {
      "_dom_classes": [],
      "_model_module": "@jupyter-widgets/controls",
      "_model_module_version": "1.5.0",
      "_model_name": "FloatProgressModel",
      "_view_count": null,
      "_view_module": "@jupyter-widgets/controls",
      "_view_module_version": "1.5.0",
      "_view_name": "ProgressView",
      "bar_style": "success",
      "description": "",
      "description_tooltip": null,
      "layout": "IPY_MODEL_0703917c42a34f68a90395fe66c7d7cc",
      "max": 28,
      "min": 0,
      "orientation": "horizontal",
      "style": "IPY_MODEL_02ba0f6967814209896625d53f7988ab",
      "value": 28
     }
    },
    "dc70ce35f23b4188a159592e1132aa3c": {
     "model_module": "@jupyter-widgets/controls",
     "model_module_version": "1.5.0",
     "model_name": "DescriptionStyleModel",
     "state": {
      "_model_module": "@jupyter-widgets/controls",
      "_model_module_version": "1.5.0",
      "_model_name": "DescriptionStyleModel",
      "_view_count": null,
      "_view_module": "@jupyter-widgets/base",
      "_view_module_version": "1.2.0",
      "_view_name": "StyleView",
      "description_width": ""
     }
    },
    "efa5e369cd6e46279d9285e8e231e218": {
     "model_module": "@jupyter-widgets/base",
     "model_module_version": "1.2.0",
     "model_name": "LayoutModel",
     "state": {
      "_model_module": "@jupyter-widgets/base",
      "_model_module_version": "1.2.0",
      "_model_name": "LayoutModel",
      "_view_count": null,
      "_view_module": "@jupyter-widgets/base",
      "_view_module_version": "1.2.0",
      "_view_name": "LayoutView",
      "align_content": null,
      "align_items": null,
      "align_self": null,
      "border": null,
      "bottom": null,
      "display": null,
      "flex": null,
      "flex_flow": null,
      "grid_area": null,
      "grid_auto_columns": null,
      "grid_auto_flow": null,
      "grid_auto_rows": null,
      "grid_column": null,
      "grid_gap": null,
      "grid_row": null,
      "grid_template_areas": null,
      "grid_template_columns": null,
      "grid_template_rows": null,
      "height": null,
      "justify_content": null,
      "justify_items": null,
      "left": null,
      "margin": null,
      "max_height": null,
      "max_width": null,
      "min_height": null,
      "min_width": null,
      "object_fit": null,
      "object_position": null,
      "order": null,
      "overflow": null,
      "overflow_x": null,
      "overflow_y": null,
      "padding": null,
      "right": null,
      "top": null,
      "visibility": null,
      "width": null
     }
    },
    "f1d3f0e556a649b5a159e3d00e7a65f8": {
     "model_module": "@jupyter-widgets/base",
     "model_module_version": "1.2.0",
     "model_name": "LayoutModel",
     "state": {
      "_model_module": "@jupyter-widgets/base",
      "_model_module_version": "1.2.0",
      "_model_name": "LayoutModel",
      "_view_count": null,
      "_view_module": "@jupyter-widgets/base",
      "_view_module_version": "1.2.0",
      "_view_name": "LayoutView",
      "align_content": null,
      "align_items": null,
      "align_self": null,
      "border": null,
      "bottom": null,
      "display": null,
      "flex": null,
      "flex_flow": null,
      "grid_area": null,
      "grid_auto_columns": null,
      "grid_auto_flow": null,
      "grid_auto_rows": null,
      "grid_column": null,
      "grid_gap": null,
      "grid_row": null,
      "grid_template_areas": null,
      "grid_template_columns": null,
      "grid_template_rows": null,
      "height": null,
      "justify_content": null,
      "justify_items": null,
      "left": null,
      "margin": null,
      "max_height": null,
      "max_width": null,
      "min_height": null,
      "min_width": null,
      "object_fit": null,
      "object_position": null,
      "order": null,
      "overflow": null,
      "overflow_x": null,
      "overflow_y": null,
      "padding": null,
      "right": null,
      "top": null,
      "visibility": null,
      "width": null
     }
    },
    "f20a0e80db1a4769b73f0e018f898f8e": {
     "model_module": "@jupyter-widgets/controls",
     "model_module_version": "1.5.0",
     "model_name": "HTMLModel",
     "state": {
      "_dom_classes": [],
      "_model_module": "@jupyter-widgets/controls",
      "_model_module_version": "1.5.0",
      "_model_name": "HTMLModel",
      "_view_count": null,
      "_view_module": "@jupyter-widgets/controls",
      "_view_module_version": "1.5.0",
      "_view_name": "HTMLView",
      "description": "",
      "description_tooltip": null,
      "layout": "IPY_MODEL_1e82c9b4b4694fe193f0fb2be3f4d27a",
      "placeholder": "​",
      "style": "IPY_MODEL_f9eef11fa33a4c5788ed09d462c09686",
      "value": " 226k/226k [00:00&lt;00:00, 335kB/s]"
     }
    },
    "f41ce42e54a6462294459c49482e9008": {
     "model_module": "@jupyter-widgets/controls",
     "model_module_version": "1.5.0",
     "model_name": "ProgressStyleModel",
     "state": {
      "_model_module": "@jupyter-widgets/controls",
      "_model_module_version": "1.5.0",
      "_model_name": "ProgressStyleModel",
      "_view_count": null,
      "_view_module": "@jupyter-widgets/base",
      "_view_module_version": "1.2.0",
      "_view_name": "StyleView",
      "bar_color": null,
      "description_width": ""
     }
    },
    "f541b29ce742496aa2185b98fb53b338": {
     "model_module": "@jupyter-widgets/base",
     "model_module_version": "1.2.0",
     "model_name": "LayoutModel",
     "state": {
      "_model_module": "@jupyter-widgets/base",
      "_model_module_version": "1.2.0",
      "_model_name": "LayoutModel",
      "_view_count": null,
      "_view_module": "@jupyter-widgets/base",
      "_view_module_version": "1.2.0",
      "_view_name": "LayoutView",
      "align_content": null,
      "align_items": null,
      "align_self": null,
      "border": null,
      "bottom": null,
      "display": null,
      "flex": null,
      "flex_flow": null,
      "grid_area": null,
      "grid_auto_columns": null,
      "grid_auto_flow": null,
      "grid_auto_rows": null,
      "grid_column": null,
      "grid_gap": null,
      "grid_row": null,
      "grid_template_areas": null,
      "grid_template_columns": null,
      "grid_template_rows": null,
      "height": null,
      "justify_content": null,
      "justify_items": null,
      "left": null,
      "margin": null,
      "max_height": null,
      "max_width": null,
      "min_height": null,
      "min_width": null,
      "object_fit": null,
      "object_position": null,
      "order": null,
      "overflow": null,
      "overflow_x": null,
      "overflow_y": null,
      "padding": null,
      "right": null,
      "top": null,
      "visibility": null,
      "width": null
     }
    },
    "f9eef11fa33a4c5788ed09d462c09686": {
     "model_module": "@jupyter-widgets/controls",
     "model_module_version": "1.5.0",
     "model_name": "DescriptionStyleModel",
     "state": {
      "_model_module": "@jupyter-widgets/controls",
      "_model_module_version": "1.5.0",
      "_model_name": "DescriptionStyleModel",
      "_view_count": null,
      "_view_module": "@jupyter-widgets/base",
      "_view_module_version": "1.2.0",
      "_view_name": "StyleView",
      "description_width": ""
     }
    },
    "fbd570b23acf4fc498a13a3dc034e188": {
     "model_module": "@jupyter-widgets/controls",
     "model_module_version": "1.5.0",
     "model_name": "DescriptionStyleModel",
     "state": {
      "_model_module": "@jupyter-widgets/controls",
      "_model_module_version": "1.5.0",
      "_model_name": "DescriptionStyleModel",
      "_view_count": null,
      "_view_module": "@jupyter-widgets/base",
      "_view_module_version": "1.2.0",
      "_view_name": "StyleView",
      "description_width": ""
     }
    },
    "fc939a88803d4fbaa7a67283b875eba6": {
     "model_module": "@jupyter-widgets/base",
     "model_module_version": "1.2.0",
     "model_name": "LayoutModel",
     "state": {
      "_model_module": "@jupyter-widgets/base",
      "_model_module_version": "1.2.0",
      "_model_name": "LayoutModel",
      "_view_count": null,
      "_view_module": "@jupyter-widgets/base",
      "_view_module_version": "1.2.0",
      "_view_name": "LayoutView",
      "align_content": null,
      "align_items": null,
      "align_self": null,
      "border": null,
      "bottom": null,
      "display": null,
      "flex": null,
      "flex_flow": null,
      "grid_area": null,
      "grid_auto_columns": null,
      "grid_auto_flow": null,
      "grid_auto_rows": null,
      "grid_column": null,
      "grid_gap": null,
      "grid_row": null,
      "grid_template_areas": null,
      "grid_template_columns": null,
      "grid_template_rows": null,
      "height": null,
      "justify_content": null,
      "justify_items": null,
      "left": null,
      "margin": null,
      "max_height": null,
      "max_width": null,
      "min_height": null,
      "min_width": null,
      "object_fit": null,
      "object_position": null,
      "order": null,
      "overflow": null,
      "overflow_x": null,
      "overflow_y": null,
      "padding": null,
      "right": null,
      "top": null,
      "visibility": null,
      "width": null
     }
    }
   }
  }
 },
 "nbformat": 4,
 "nbformat_minor": 1
}
