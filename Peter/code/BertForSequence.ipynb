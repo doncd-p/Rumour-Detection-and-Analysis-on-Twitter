{
  "nbformat": 4,
  "nbformat_minor": 0,
  "metadata": {
    "colab": {
      "name": "BertForSequence.ipynb",
      "provenance": [],
      "collapsed_sections": [
        "DhyE9siDfopm",
        "Xhyo4ifwe9el"
      ]
    },
    "kernelspec": {
      "name": "python3",
      "display_name": "Python 3"
    },
    "language_info": {
      "name": "python"
    },
    "accelerator": "GPU",
    "widgets": {
      "application/vnd.jupyter.widget-state+json": {
        "05f8c76dbcb74b45b34fe1b336f0ea4e": {
          "model_module": "@jupyter-widgets/controls",
          "model_name": "HBoxModel",
          "model_module_version": "1.5.0",
          "state": {
            "_dom_classes": [],
            "_model_module": "@jupyter-widgets/controls",
            "_model_module_version": "1.5.0",
            "_model_name": "HBoxModel",
            "_view_count": null,
            "_view_module": "@jupyter-widgets/controls",
            "_view_module_version": "1.5.0",
            "_view_name": "HBoxView",
            "box_style": "",
            "children": [
              "IPY_MODEL_e02aca5ea26447859a96c07a9b171f4b",
              "IPY_MODEL_d60f7fbbfe094192b20e59ea738680cc",
              "IPY_MODEL_3bb4c1a4bf854909aebf965d84dc919f"
            ],
            "layout": "IPY_MODEL_a05696bf7b544da39e870d1ac06fe2ea"
          }
        },
        "e02aca5ea26447859a96c07a9b171f4b": {
          "model_module": "@jupyter-widgets/controls",
          "model_name": "HTMLModel",
          "model_module_version": "1.5.0",
          "state": {
            "_dom_classes": [],
            "_model_module": "@jupyter-widgets/controls",
            "_model_module_version": "1.5.0",
            "_model_name": "HTMLModel",
            "_view_count": null,
            "_view_module": "@jupyter-widgets/controls",
            "_view_module_version": "1.5.0",
            "_view_name": "HTMLView",
            "description": "",
            "description_tooltip": null,
            "layout": "IPY_MODEL_85aedfca606c4932acab42d3f27bf0fb",
            "placeholder": "​",
            "style": "IPY_MODEL_4e5a8cd3d2de4cb5b06a0e7a0ee6fc50",
            "value": "Downloading: 100%"
          }
        },
        "d60f7fbbfe094192b20e59ea738680cc": {
          "model_module": "@jupyter-widgets/controls",
          "model_name": "FloatProgressModel",
          "model_module_version": "1.5.0",
          "state": {
            "_dom_classes": [],
            "_model_module": "@jupyter-widgets/controls",
            "_model_module_version": "1.5.0",
            "_model_name": "FloatProgressModel",
            "_view_count": null,
            "_view_module": "@jupyter-widgets/controls",
            "_view_module_version": "1.5.0",
            "_view_name": "ProgressView",
            "bar_style": "success",
            "description": "",
            "description_tooltip": null,
            "layout": "IPY_MODEL_88185390595847a18aefe64354b03c6e",
            "max": 231508,
            "min": 0,
            "orientation": "horizontal",
            "style": "IPY_MODEL_3eaf3366b5c74ae6856c1fd7101a212e",
            "value": 231508
          }
        },
        "3bb4c1a4bf854909aebf965d84dc919f": {
          "model_module": "@jupyter-widgets/controls",
          "model_name": "HTMLModel",
          "model_module_version": "1.5.0",
          "state": {
            "_dom_classes": [],
            "_model_module": "@jupyter-widgets/controls",
            "_model_module_version": "1.5.0",
            "_model_name": "HTMLModel",
            "_view_count": null,
            "_view_module": "@jupyter-widgets/controls",
            "_view_module_version": "1.5.0",
            "_view_name": "HTMLView",
            "description": "",
            "description_tooltip": null,
            "layout": "IPY_MODEL_973d1628f4a34d04a141840afb047452",
            "placeholder": "​",
            "style": "IPY_MODEL_9382ec63a9894d779db5b6ab3187eb8d",
            "value": " 226k/226k [00:00&lt;00:00, 875kB/s]"
          }
        },
        "a05696bf7b544da39e870d1ac06fe2ea": {
          "model_module": "@jupyter-widgets/base",
          "model_name": "LayoutModel",
          "model_module_version": "1.2.0",
          "state": {
            "_model_module": "@jupyter-widgets/base",
            "_model_module_version": "1.2.0",
            "_model_name": "LayoutModel",
            "_view_count": null,
            "_view_module": "@jupyter-widgets/base",
            "_view_module_version": "1.2.0",
            "_view_name": "LayoutView",
            "align_content": null,
            "align_items": null,
            "align_self": null,
            "border": null,
            "bottom": null,
            "display": null,
            "flex": null,
            "flex_flow": null,
            "grid_area": null,
            "grid_auto_columns": null,
            "grid_auto_flow": null,
            "grid_auto_rows": null,
            "grid_column": null,
            "grid_gap": null,
            "grid_row": null,
            "grid_template_areas": null,
            "grid_template_columns": null,
            "grid_template_rows": null,
            "height": null,
            "justify_content": null,
            "justify_items": null,
            "left": null,
            "margin": null,
            "max_height": null,
            "max_width": null,
            "min_height": null,
            "min_width": null,
            "object_fit": null,
            "object_position": null,
            "order": null,
            "overflow": null,
            "overflow_x": null,
            "overflow_y": null,
            "padding": null,
            "right": null,
            "top": null,
            "visibility": null,
            "width": null
          }
        },
        "85aedfca606c4932acab42d3f27bf0fb": {
          "model_module": "@jupyter-widgets/base",
          "model_name": "LayoutModel",
          "model_module_version": "1.2.0",
          "state": {
            "_model_module": "@jupyter-widgets/base",
            "_model_module_version": "1.2.0",
            "_model_name": "LayoutModel",
            "_view_count": null,
            "_view_module": "@jupyter-widgets/base",
            "_view_module_version": "1.2.0",
            "_view_name": "LayoutView",
            "align_content": null,
            "align_items": null,
            "align_self": null,
            "border": null,
            "bottom": null,
            "display": null,
            "flex": null,
            "flex_flow": null,
            "grid_area": null,
            "grid_auto_columns": null,
            "grid_auto_flow": null,
            "grid_auto_rows": null,
            "grid_column": null,
            "grid_gap": null,
            "grid_row": null,
            "grid_template_areas": null,
            "grid_template_columns": null,
            "grid_template_rows": null,
            "height": null,
            "justify_content": null,
            "justify_items": null,
            "left": null,
            "margin": null,
            "max_height": null,
            "max_width": null,
            "min_height": null,
            "min_width": null,
            "object_fit": null,
            "object_position": null,
            "order": null,
            "overflow": null,
            "overflow_x": null,
            "overflow_y": null,
            "padding": null,
            "right": null,
            "top": null,
            "visibility": null,
            "width": null
          }
        },
        "4e5a8cd3d2de4cb5b06a0e7a0ee6fc50": {
          "model_module": "@jupyter-widgets/controls",
          "model_name": "DescriptionStyleModel",
          "model_module_version": "1.5.0",
          "state": {
            "_model_module": "@jupyter-widgets/controls",
            "_model_module_version": "1.5.0",
            "_model_name": "DescriptionStyleModel",
            "_view_count": null,
            "_view_module": "@jupyter-widgets/base",
            "_view_module_version": "1.2.0",
            "_view_name": "StyleView",
            "description_width": ""
          }
        },
        "88185390595847a18aefe64354b03c6e": {
          "model_module": "@jupyter-widgets/base",
          "model_name": "LayoutModel",
          "model_module_version": "1.2.0",
          "state": {
            "_model_module": "@jupyter-widgets/base",
            "_model_module_version": "1.2.0",
            "_model_name": "LayoutModel",
            "_view_count": null,
            "_view_module": "@jupyter-widgets/base",
            "_view_module_version": "1.2.0",
            "_view_name": "LayoutView",
            "align_content": null,
            "align_items": null,
            "align_self": null,
            "border": null,
            "bottom": null,
            "display": null,
            "flex": null,
            "flex_flow": null,
            "grid_area": null,
            "grid_auto_columns": null,
            "grid_auto_flow": null,
            "grid_auto_rows": null,
            "grid_column": null,
            "grid_gap": null,
            "grid_row": null,
            "grid_template_areas": null,
            "grid_template_columns": null,
            "grid_template_rows": null,
            "height": null,
            "justify_content": null,
            "justify_items": null,
            "left": null,
            "margin": null,
            "max_height": null,
            "max_width": null,
            "min_height": null,
            "min_width": null,
            "object_fit": null,
            "object_position": null,
            "order": null,
            "overflow": null,
            "overflow_x": null,
            "overflow_y": null,
            "padding": null,
            "right": null,
            "top": null,
            "visibility": null,
            "width": null
          }
        },
        "3eaf3366b5c74ae6856c1fd7101a212e": {
          "model_module": "@jupyter-widgets/controls",
          "model_name": "ProgressStyleModel",
          "model_module_version": "1.5.0",
          "state": {
            "_model_module": "@jupyter-widgets/controls",
            "_model_module_version": "1.5.0",
            "_model_name": "ProgressStyleModel",
            "_view_count": null,
            "_view_module": "@jupyter-widgets/base",
            "_view_module_version": "1.2.0",
            "_view_name": "StyleView",
            "bar_color": null,
            "description_width": ""
          }
        },
        "973d1628f4a34d04a141840afb047452": {
          "model_module": "@jupyter-widgets/base",
          "model_name": "LayoutModel",
          "model_module_version": "1.2.0",
          "state": {
            "_model_module": "@jupyter-widgets/base",
            "_model_module_version": "1.2.0",
            "_model_name": "LayoutModel",
            "_view_count": null,
            "_view_module": "@jupyter-widgets/base",
            "_view_module_version": "1.2.0",
            "_view_name": "LayoutView",
            "align_content": null,
            "align_items": null,
            "align_self": null,
            "border": null,
            "bottom": null,
            "display": null,
            "flex": null,
            "flex_flow": null,
            "grid_area": null,
            "grid_auto_columns": null,
            "grid_auto_flow": null,
            "grid_auto_rows": null,
            "grid_column": null,
            "grid_gap": null,
            "grid_row": null,
            "grid_template_areas": null,
            "grid_template_columns": null,
            "grid_template_rows": null,
            "height": null,
            "justify_content": null,
            "justify_items": null,
            "left": null,
            "margin": null,
            "max_height": null,
            "max_width": null,
            "min_height": null,
            "min_width": null,
            "object_fit": null,
            "object_position": null,
            "order": null,
            "overflow": null,
            "overflow_x": null,
            "overflow_y": null,
            "padding": null,
            "right": null,
            "top": null,
            "visibility": null,
            "width": null
          }
        },
        "9382ec63a9894d779db5b6ab3187eb8d": {
          "model_module": "@jupyter-widgets/controls",
          "model_name": "DescriptionStyleModel",
          "model_module_version": "1.5.0",
          "state": {
            "_model_module": "@jupyter-widgets/controls",
            "_model_module_version": "1.5.0",
            "_model_name": "DescriptionStyleModel",
            "_view_count": null,
            "_view_module": "@jupyter-widgets/base",
            "_view_module_version": "1.2.0",
            "_view_name": "StyleView",
            "description_width": ""
          }
        },
        "f9e24cc8a28548b7852b68dcb323a473": {
          "model_module": "@jupyter-widgets/controls",
          "model_name": "HBoxModel",
          "model_module_version": "1.5.0",
          "state": {
            "_dom_classes": [],
            "_model_module": "@jupyter-widgets/controls",
            "_model_module_version": "1.5.0",
            "_model_name": "HBoxModel",
            "_view_count": null,
            "_view_module": "@jupyter-widgets/controls",
            "_view_module_version": "1.5.0",
            "_view_name": "HBoxView",
            "box_style": "",
            "children": [
              "IPY_MODEL_5d7571610d0d47189a62084aa8ebd43e",
              "IPY_MODEL_93d935fb20b449dc9d7bbb8eeec440e6",
              "IPY_MODEL_60da584e1e1d4bedad64c411d672261e"
            ],
            "layout": "IPY_MODEL_10ed4741311a4298bab13232f852f2f0"
          }
        },
        "5d7571610d0d47189a62084aa8ebd43e": {
          "model_module": "@jupyter-widgets/controls",
          "model_name": "HTMLModel",
          "model_module_version": "1.5.0",
          "state": {
            "_dom_classes": [],
            "_model_module": "@jupyter-widgets/controls",
            "_model_module_version": "1.5.0",
            "_model_name": "HTMLModel",
            "_view_count": null,
            "_view_module": "@jupyter-widgets/controls",
            "_view_module_version": "1.5.0",
            "_view_name": "HTMLView",
            "description": "",
            "description_tooltip": null,
            "layout": "IPY_MODEL_2a8c91df317a4bff9e1950bdc2590bc7",
            "placeholder": "​",
            "style": "IPY_MODEL_498e4920cfe7414aad438f53d7171076",
            "value": "Downloading: 100%"
          }
        },
        "93d935fb20b449dc9d7bbb8eeec440e6": {
          "model_module": "@jupyter-widgets/controls",
          "model_name": "FloatProgressModel",
          "model_module_version": "1.5.0",
          "state": {
            "_dom_classes": [],
            "_model_module": "@jupyter-widgets/controls",
            "_model_module_version": "1.5.0",
            "_model_name": "FloatProgressModel",
            "_view_count": null,
            "_view_module": "@jupyter-widgets/controls",
            "_view_module_version": "1.5.0",
            "_view_name": "ProgressView",
            "bar_style": "success",
            "description": "",
            "description_tooltip": null,
            "layout": "IPY_MODEL_dfb9f533881f4a1d85c8fa94f77c1c16",
            "max": 28,
            "min": 0,
            "orientation": "horizontal",
            "style": "IPY_MODEL_108dec69f7674e3b9e6f446a6ba7516f",
            "value": 28
          }
        },
        "60da584e1e1d4bedad64c411d672261e": {
          "model_module": "@jupyter-widgets/controls",
          "model_name": "HTMLModel",
          "model_module_version": "1.5.0",
          "state": {
            "_dom_classes": [],
            "_model_module": "@jupyter-widgets/controls",
            "_model_module_version": "1.5.0",
            "_model_name": "HTMLModel",
            "_view_count": null,
            "_view_module": "@jupyter-widgets/controls",
            "_view_module_version": "1.5.0",
            "_view_name": "HTMLView",
            "description": "",
            "description_tooltip": null,
            "layout": "IPY_MODEL_c7a11134b02e42a786d7607dda6a2388",
            "placeholder": "​",
            "style": "IPY_MODEL_d9bcbf64337247ef81d2df3f0af4680f",
            "value": " 28.0/28.0 [00:00&lt;00:00, 941B/s]"
          }
        },
        "10ed4741311a4298bab13232f852f2f0": {
          "model_module": "@jupyter-widgets/base",
          "model_name": "LayoutModel",
          "model_module_version": "1.2.0",
          "state": {
            "_model_module": "@jupyter-widgets/base",
            "_model_module_version": "1.2.0",
            "_model_name": "LayoutModel",
            "_view_count": null,
            "_view_module": "@jupyter-widgets/base",
            "_view_module_version": "1.2.0",
            "_view_name": "LayoutView",
            "align_content": null,
            "align_items": null,
            "align_self": null,
            "border": null,
            "bottom": null,
            "display": null,
            "flex": null,
            "flex_flow": null,
            "grid_area": null,
            "grid_auto_columns": null,
            "grid_auto_flow": null,
            "grid_auto_rows": null,
            "grid_column": null,
            "grid_gap": null,
            "grid_row": null,
            "grid_template_areas": null,
            "grid_template_columns": null,
            "grid_template_rows": null,
            "height": null,
            "justify_content": null,
            "justify_items": null,
            "left": null,
            "margin": null,
            "max_height": null,
            "max_width": null,
            "min_height": null,
            "min_width": null,
            "object_fit": null,
            "object_position": null,
            "order": null,
            "overflow": null,
            "overflow_x": null,
            "overflow_y": null,
            "padding": null,
            "right": null,
            "top": null,
            "visibility": null,
            "width": null
          }
        },
        "2a8c91df317a4bff9e1950bdc2590bc7": {
          "model_module": "@jupyter-widgets/base",
          "model_name": "LayoutModel",
          "model_module_version": "1.2.0",
          "state": {
            "_model_module": "@jupyter-widgets/base",
            "_model_module_version": "1.2.0",
            "_model_name": "LayoutModel",
            "_view_count": null,
            "_view_module": "@jupyter-widgets/base",
            "_view_module_version": "1.2.0",
            "_view_name": "LayoutView",
            "align_content": null,
            "align_items": null,
            "align_self": null,
            "border": null,
            "bottom": null,
            "display": null,
            "flex": null,
            "flex_flow": null,
            "grid_area": null,
            "grid_auto_columns": null,
            "grid_auto_flow": null,
            "grid_auto_rows": null,
            "grid_column": null,
            "grid_gap": null,
            "grid_row": null,
            "grid_template_areas": null,
            "grid_template_columns": null,
            "grid_template_rows": null,
            "height": null,
            "justify_content": null,
            "justify_items": null,
            "left": null,
            "margin": null,
            "max_height": null,
            "max_width": null,
            "min_height": null,
            "min_width": null,
            "object_fit": null,
            "object_position": null,
            "order": null,
            "overflow": null,
            "overflow_x": null,
            "overflow_y": null,
            "padding": null,
            "right": null,
            "top": null,
            "visibility": null,
            "width": null
          }
        },
        "498e4920cfe7414aad438f53d7171076": {
          "model_module": "@jupyter-widgets/controls",
          "model_name": "DescriptionStyleModel",
          "model_module_version": "1.5.0",
          "state": {
            "_model_module": "@jupyter-widgets/controls",
            "_model_module_version": "1.5.0",
            "_model_name": "DescriptionStyleModel",
            "_view_count": null,
            "_view_module": "@jupyter-widgets/base",
            "_view_module_version": "1.2.0",
            "_view_name": "StyleView",
            "description_width": ""
          }
        },
        "dfb9f533881f4a1d85c8fa94f77c1c16": {
          "model_module": "@jupyter-widgets/base",
          "model_name": "LayoutModel",
          "model_module_version": "1.2.0",
          "state": {
            "_model_module": "@jupyter-widgets/base",
            "_model_module_version": "1.2.0",
            "_model_name": "LayoutModel",
            "_view_count": null,
            "_view_module": "@jupyter-widgets/base",
            "_view_module_version": "1.2.0",
            "_view_name": "LayoutView",
            "align_content": null,
            "align_items": null,
            "align_self": null,
            "border": null,
            "bottom": null,
            "display": null,
            "flex": null,
            "flex_flow": null,
            "grid_area": null,
            "grid_auto_columns": null,
            "grid_auto_flow": null,
            "grid_auto_rows": null,
            "grid_column": null,
            "grid_gap": null,
            "grid_row": null,
            "grid_template_areas": null,
            "grid_template_columns": null,
            "grid_template_rows": null,
            "height": null,
            "justify_content": null,
            "justify_items": null,
            "left": null,
            "margin": null,
            "max_height": null,
            "max_width": null,
            "min_height": null,
            "min_width": null,
            "object_fit": null,
            "object_position": null,
            "order": null,
            "overflow": null,
            "overflow_x": null,
            "overflow_y": null,
            "padding": null,
            "right": null,
            "top": null,
            "visibility": null,
            "width": null
          }
        },
        "108dec69f7674e3b9e6f446a6ba7516f": {
          "model_module": "@jupyter-widgets/controls",
          "model_name": "ProgressStyleModel",
          "model_module_version": "1.5.0",
          "state": {
            "_model_module": "@jupyter-widgets/controls",
            "_model_module_version": "1.5.0",
            "_model_name": "ProgressStyleModel",
            "_view_count": null,
            "_view_module": "@jupyter-widgets/base",
            "_view_module_version": "1.2.0",
            "_view_name": "StyleView",
            "bar_color": null,
            "description_width": ""
          }
        },
        "c7a11134b02e42a786d7607dda6a2388": {
          "model_module": "@jupyter-widgets/base",
          "model_name": "LayoutModel",
          "model_module_version": "1.2.0",
          "state": {
            "_model_module": "@jupyter-widgets/base",
            "_model_module_version": "1.2.0",
            "_model_name": "LayoutModel",
            "_view_count": null,
            "_view_module": "@jupyter-widgets/base",
            "_view_module_version": "1.2.0",
            "_view_name": "LayoutView",
            "align_content": null,
            "align_items": null,
            "align_self": null,
            "border": null,
            "bottom": null,
            "display": null,
            "flex": null,
            "flex_flow": null,
            "grid_area": null,
            "grid_auto_columns": null,
            "grid_auto_flow": null,
            "grid_auto_rows": null,
            "grid_column": null,
            "grid_gap": null,
            "grid_row": null,
            "grid_template_areas": null,
            "grid_template_columns": null,
            "grid_template_rows": null,
            "height": null,
            "justify_content": null,
            "justify_items": null,
            "left": null,
            "margin": null,
            "max_height": null,
            "max_width": null,
            "min_height": null,
            "min_width": null,
            "object_fit": null,
            "object_position": null,
            "order": null,
            "overflow": null,
            "overflow_x": null,
            "overflow_y": null,
            "padding": null,
            "right": null,
            "top": null,
            "visibility": null,
            "width": null
          }
        },
        "d9bcbf64337247ef81d2df3f0af4680f": {
          "model_module": "@jupyter-widgets/controls",
          "model_name": "DescriptionStyleModel",
          "model_module_version": "1.5.0",
          "state": {
            "_model_module": "@jupyter-widgets/controls",
            "_model_module_version": "1.5.0",
            "_model_name": "DescriptionStyleModel",
            "_view_count": null,
            "_view_module": "@jupyter-widgets/base",
            "_view_module_version": "1.2.0",
            "_view_name": "StyleView",
            "description_width": ""
          }
        },
        "8c10f73c1b0a416da7a9358b282ff0d0": {
          "model_module": "@jupyter-widgets/controls",
          "model_name": "HBoxModel",
          "model_module_version": "1.5.0",
          "state": {
            "_dom_classes": [],
            "_model_module": "@jupyter-widgets/controls",
            "_model_module_version": "1.5.0",
            "_model_name": "HBoxModel",
            "_view_count": null,
            "_view_module": "@jupyter-widgets/controls",
            "_view_module_version": "1.5.0",
            "_view_name": "HBoxView",
            "box_style": "",
            "children": [
              "IPY_MODEL_48969dbdff1e44ea80e7d384144137de",
              "IPY_MODEL_b00ba6b353de4cd58f78da14413550c1",
              "IPY_MODEL_b30489ae3f1c49279baa469fc509f89e"
            ],
            "layout": "IPY_MODEL_9a154b0966084b9eba2884c6b179fb72"
          }
        },
        "48969dbdff1e44ea80e7d384144137de": {
          "model_module": "@jupyter-widgets/controls",
          "model_name": "HTMLModel",
          "model_module_version": "1.5.0",
          "state": {
            "_dom_classes": [],
            "_model_module": "@jupyter-widgets/controls",
            "_model_module_version": "1.5.0",
            "_model_name": "HTMLModel",
            "_view_count": null,
            "_view_module": "@jupyter-widgets/controls",
            "_view_module_version": "1.5.0",
            "_view_name": "HTMLView",
            "description": "",
            "description_tooltip": null,
            "layout": "IPY_MODEL_8c1cba8648154b078539696c187ab9ab",
            "placeholder": "​",
            "style": "IPY_MODEL_ee48272e94f242549e9f2d016262950a",
            "value": "Downloading: 100%"
          }
        },
        "b00ba6b353de4cd58f78da14413550c1": {
          "model_module": "@jupyter-widgets/controls",
          "model_name": "FloatProgressModel",
          "model_module_version": "1.5.0",
          "state": {
            "_dom_classes": [],
            "_model_module": "@jupyter-widgets/controls",
            "_model_module_version": "1.5.0",
            "_model_name": "FloatProgressModel",
            "_view_count": null,
            "_view_module": "@jupyter-widgets/controls",
            "_view_module_version": "1.5.0",
            "_view_name": "ProgressView",
            "bar_style": "success",
            "description": "",
            "description_tooltip": null,
            "layout": "IPY_MODEL_410276b2081d48efaf16d27b10cc6003",
            "max": 570,
            "min": 0,
            "orientation": "horizontal",
            "style": "IPY_MODEL_f7c22f0663f34996b63f7a5b67941d78",
            "value": 570
          }
        },
        "b30489ae3f1c49279baa469fc509f89e": {
          "model_module": "@jupyter-widgets/controls",
          "model_name": "HTMLModel",
          "model_module_version": "1.5.0",
          "state": {
            "_dom_classes": [],
            "_model_module": "@jupyter-widgets/controls",
            "_model_module_version": "1.5.0",
            "_model_name": "HTMLModel",
            "_view_count": null,
            "_view_module": "@jupyter-widgets/controls",
            "_view_module_version": "1.5.0",
            "_view_name": "HTMLView",
            "description": "",
            "description_tooltip": null,
            "layout": "IPY_MODEL_540dbb5237a84ba087150403e21149d7",
            "placeholder": "​",
            "style": "IPY_MODEL_f7951545780f4178a0f50b9de7e7c0b6",
            "value": " 570/570 [00:00&lt;00:00, 20.5kB/s]"
          }
        },
        "9a154b0966084b9eba2884c6b179fb72": {
          "model_module": "@jupyter-widgets/base",
          "model_name": "LayoutModel",
          "model_module_version": "1.2.0",
          "state": {
            "_model_module": "@jupyter-widgets/base",
            "_model_module_version": "1.2.0",
            "_model_name": "LayoutModel",
            "_view_count": null,
            "_view_module": "@jupyter-widgets/base",
            "_view_module_version": "1.2.0",
            "_view_name": "LayoutView",
            "align_content": null,
            "align_items": null,
            "align_self": null,
            "border": null,
            "bottom": null,
            "display": null,
            "flex": null,
            "flex_flow": null,
            "grid_area": null,
            "grid_auto_columns": null,
            "grid_auto_flow": null,
            "grid_auto_rows": null,
            "grid_column": null,
            "grid_gap": null,
            "grid_row": null,
            "grid_template_areas": null,
            "grid_template_columns": null,
            "grid_template_rows": null,
            "height": null,
            "justify_content": null,
            "justify_items": null,
            "left": null,
            "margin": null,
            "max_height": null,
            "max_width": null,
            "min_height": null,
            "min_width": null,
            "object_fit": null,
            "object_position": null,
            "order": null,
            "overflow": null,
            "overflow_x": null,
            "overflow_y": null,
            "padding": null,
            "right": null,
            "top": null,
            "visibility": null,
            "width": null
          }
        },
        "8c1cba8648154b078539696c187ab9ab": {
          "model_module": "@jupyter-widgets/base",
          "model_name": "LayoutModel",
          "model_module_version": "1.2.0",
          "state": {
            "_model_module": "@jupyter-widgets/base",
            "_model_module_version": "1.2.0",
            "_model_name": "LayoutModel",
            "_view_count": null,
            "_view_module": "@jupyter-widgets/base",
            "_view_module_version": "1.2.0",
            "_view_name": "LayoutView",
            "align_content": null,
            "align_items": null,
            "align_self": null,
            "border": null,
            "bottom": null,
            "display": null,
            "flex": null,
            "flex_flow": null,
            "grid_area": null,
            "grid_auto_columns": null,
            "grid_auto_flow": null,
            "grid_auto_rows": null,
            "grid_column": null,
            "grid_gap": null,
            "grid_row": null,
            "grid_template_areas": null,
            "grid_template_columns": null,
            "grid_template_rows": null,
            "height": null,
            "justify_content": null,
            "justify_items": null,
            "left": null,
            "margin": null,
            "max_height": null,
            "max_width": null,
            "min_height": null,
            "min_width": null,
            "object_fit": null,
            "object_position": null,
            "order": null,
            "overflow": null,
            "overflow_x": null,
            "overflow_y": null,
            "padding": null,
            "right": null,
            "top": null,
            "visibility": null,
            "width": null
          }
        },
        "ee48272e94f242549e9f2d016262950a": {
          "model_module": "@jupyter-widgets/controls",
          "model_name": "DescriptionStyleModel",
          "model_module_version": "1.5.0",
          "state": {
            "_model_module": "@jupyter-widgets/controls",
            "_model_module_version": "1.5.0",
            "_model_name": "DescriptionStyleModel",
            "_view_count": null,
            "_view_module": "@jupyter-widgets/base",
            "_view_module_version": "1.2.0",
            "_view_name": "StyleView",
            "description_width": ""
          }
        },
        "410276b2081d48efaf16d27b10cc6003": {
          "model_module": "@jupyter-widgets/base",
          "model_name": "LayoutModel",
          "model_module_version": "1.2.0",
          "state": {
            "_model_module": "@jupyter-widgets/base",
            "_model_module_version": "1.2.0",
            "_model_name": "LayoutModel",
            "_view_count": null,
            "_view_module": "@jupyter-widgets/base",
            "_view_module_version": "1.2.0",
            "_view_name": "LayoutView",
            "align_content": null,
            "align_items": null,
            "align_self": null,
            "border": null,
            "bottom": null,
            "display": null,
            "flex": null,
            "flex_flow": null,
            "grid_area": null,
            "grid_auto_columns": null,
            "grid_auto_flow": null,
            "grid_auto_rows": null,
            "grid_column": null,
            "grid_gap": null,
            "grid_row": null,
            "grid_template_areas": null,
            "grid_template_columns": null,
            "grid_template_rows": null,
            "height": null,
            "justify_content": null,
            "justify_items": null,
            "left": null,
            "margin": null,
            "max_height": null,
            "max_width": null,
            "min_height": null,
            "min_width": null,
            "object_fit": null,
            "object_position": null,
            "order": null,
            "overflow": null,
            "overflow_x": null,
            "overflow_y": null,
            "padding": null,
            "right": null,
            "top": null,
            "visibility": null,
            "width": null
          }
        },
        "f7c22f0663f34996b63f7a5b67941d78": {
          "model_module": "@jupyter-widgets/controls",
          "model_name": "ProgressStyleModel",
          "model_module_version": "1.5.0",
          "state": {
            "_model_module": "@jupyter-widgets/controls",
            "_model_module_version": "1.5.0",
            "_model_name": "ProgressStyleModel",
            "_view_count": null,
            "_view_module": "@jupyter-widgets/base",
            "_view_module_version": "1.2.0",
            "_view_name": "StyleView",
            "bar_color": null,
            "description_width": ""
          }
        },
        "540dbb5237a84ba087150403e21149d7": {
          "model_module": "@jupyter-widgets/base",
          "model_name": "LayoutModel",
          "model_module_version": "1.2.0",
          "state": {
            "_model_module": "@jupyter-widgets/base",
            "_model_module_version": "1.2.0",
            "_model_name": "LayoutModel",
            "_view_count": null,
            "_view_module": "@jupyter-widgets/base",
            "_view_module_version": "1.2.0",
            "_view_name": "LayoutView",
            "align_content": null,
            "align_items": null,
            "align_self": null,
            "border": null,
            "bottom": null,
            "display": null,
            "flex": null,
            "flex_flow": null,
            "grid_area": null,
            "grid_auto_columns": null,
            "grid_auto_flow": null,
            "grid_auto_rows": null,
            "grid_column": null,
            "grid_gap": null,
            "grid_row": null,
            "grid_template_areas": null,
            "grid_template_columns": null,
            "grid_template_rows": null,
            "height": null,
            "justify_content": null,
            "justify_items": null,
            "left": null,
            "margin": null,
            "max_height": null,
            "max_width": null,
            "min_height": null,
            "min_width": null,
            "object_fit": null,
            "object_position": null,
            "order": null,
            "overflow": null,
            "overflow_x": null,
            "overflow_y": null,
            "padding": null,
            "right": null,
            "top": null,
            "visibility": null,
            "width": null
          }
        },
        "f7951545780f4178a0f50b9de7e7c0b6": {
          "model_module": "@jupyter-widgets/controls",
          "model_name": "DescriptionStyleModel",
          "model_module_version": "1.5.0",
          "state": {
            "_model_module": "@jupyter-widgets/controls",
            "_model_module_version": "1.5.0",
            "_model_name": "DescriptionStyleModel",
            "_view_count": null,
            "_view_module": "@jupyter-widgets/base",
            "_view_module_version": "1.2.0",
            "_view_name": "StyleView",
            "description_width": ""
          }
        },
        "c5d2de9746c546c59f1d9857ddc16f9e": {
          "model_module": "@jupyter-widgets/controls",
          "model_name": "HBoxModel",
          "model_module_version": "1.5.0",
          "state": {
            "_dom_classes": [],
            "_model_module": "@jupyter-widgets/controls",
            "_model_module_version": "1.5.0",
            "_model_name": "HBoxModel",
            "_view_count": null,
            "_view_module": "@jupyter-widgets/controls",
            "_view_module_version": "1.5.0",
            "_view_name": "HBoxView",
            "box_style": "",
            "children": [
              "IPY_MODEL_441099e4392640c6acbf6006af2ad24f",
              "IPY_MODEL_84ed38456309425ca9432c79854d8f6c",
              "IPY_MODEL_153bdc45b04a4e4298ad57b4b077dab7"
            ],
            "layout": "IPY_MODEL_9b766c91a65f43988017a037db905b84"
          }
        },
        "441099e4392640c6acbf6006af2ad24f": {
          "model_module": "@jupyter-widgets/controls",
          "model_name": "HTMLModel",
          "model_module_version": "1.5.0",
          "state": {
            "_dom_classes": [],
            "_model_module": "@jupyter-widgets/controls",
            "_model_module_version": "1.5.0",
            "_model_name": "HTMLModel",
            "_view_count": null,
            "_view_module": "@jupyter-widgets/controls",
            "_view_module_version": "1.5.0",
            "_view_name": "HTMLView",
            "description": "",
            "description_tooltip": null,
            "layout": "IPY_MODEL_388c2e2143de40e697c6e9701bf74990",
            "placeholder": "​",
            "style": "IPY_MODEL_d6c5bfd6bc54412ea404380ab7f7d4c1",
            "value": "Downloading: 100%"
          }
        },
        "84ed38456309425ca9432c79854d8f6c": {
          "model_module": "@jupyter-widgets/controls",
          "model_name": "FloatProgressModel",
          "model_module_version": "1.5.0",
          "state": {
            "_dom_classes": [],
            "_model_module": "@jupyter-widgets/controls",
            "_model_module_version": "1.5.0",
            "_model_name": "FloatProgressModel",
            "_view_count": null,
            "_view_module": "@jupyter-widgets/controls",
            "_view_module_version": "1.5.0",
            "_view_name": "ProgressView",
            "bar_style": "success",
            "description": "",
            "description_tooltip": null,
            "layout": "IPY_MODEL_22e36240287d4ee3902ac787c13548d7",
            "max": 440473133,
            "min": 0,
            "orientation": "horizontal",
            "style": "IPY_MODEL_5865922f43c74ec89fd0918d43fa9967",
            "value": 440473133
          }
        },
        "153bdc45b04a4e4298ad57b4b077dab7": {
          "model_module": "@jupyter-widgets/controls",
          "model_name": "HTMLModel",
          "model_module_version": "1.5.0",
          "state": {
            "_dom_classes": [],
            "_model_module": "@jupyter-widgets/controls",
            "_model_module_version": "1.5.0",
            "_model_name": "HTMLModel",
            "_view_count": null,
            "_view_module": "@jupyter-widgets/controls",
            "_view_module_version": "1.5.0",
            "_view_name": "HTMLView",
            "description": "",
            "description_tooltip": null,
            "layout": "IPY_MODEL_5d964eb4d97a4ce4a2abb517685bff71",
            "placeholder": "​",
            "style": "IPY_MODEL_f8fff8f571404ff599c8b8a81f717fef",
            "value": " 420M/420M [00:08&lt;00:00, 58.0MB/s]"
          }
        },
        "9b766c91a65f43988017a037db905b84": {
          "model_module": "@jupyter-widgets/base",
          "model_name": "LayoutModel",
          "model_module_version": "1.2.0",
          "state": {
            "_model_module": "@jupyter-widgets/base",
            "_model_module_version": "1.2.0",
            "_model_name": "LayoutModel",
            "_view_count": null,
            "_view_module": "@jupyter-widgets/base",
            "_view_module_version": "1.2.0",
            "_view_name": "LayoutView",
            "align_content": null,
            "align_items": null,
            "align_self": null,
            "border": null,
            "bottom": null,
            "display": null,
            "flex": null,
            "flex_flow": null,
            "grid_area": null,
            "grid_auto_columns": null,
            "grid_auto_flow": null,
            "grid_auto_rows": null,
            "grid_column": null,
            "grid_gap": null,
            "grid_row": null,
            "grid_template_areas": null,
            "grid_template_columns": null,
            "grid_template_rows": null,
            "height": null,
            "justify_content": null,
            "justify_items": null,
            "left": null,
            "margin": null,
            "max_height": null,
            "max_width": null,
            "min_height": null,
            "min_width": null,
            "object_fit": null,
            "object_position": null,
            "order": null,
            "overflow": null,
            "overflow_x": null,
            "overflow_y": null,
            "padding": null,
            "right": null,
            "top": null,
            "visibility": null,
            "width": null
          }
        },
        "388c2e2143de40e697c6e9701bf74990": {
          "model_module": "@jupyter-widgets/base",
          "model_name": "LayoutModel",
          "model_module_version": "1.2.0",
          "state": {
            "_model_module": "@jupyter-widgets/base",
            "_model_module_version": "1.2.0",
            "_model_name": "LayoutModel",
            "_view_count": null,
            "_view_module": "@jupyter-widgets/base",
            "_view_module_version": "1.2.0",
            "_view_name": "LayoutView",
            "align_content": null,
            "align_items": null,
            "align_self": null,
            "border": null,
            "bottom": null,
            "display": null,
            "flex": null,
            "flex_flow": null,
            "grid_area": null,
            "grid_auto_columns": null,
            "grid_auto_flow": null,
            "grid_auto_rows": null,
            "grid_column": null,
            "grid_gap": null,
            "grid_row": null,
            "grid_template_areas": null,
            "grid_template_columns": null,
            "grid_template_rows": null,
            "height": null,
            "justify_content": null,
            "justify_items": null,
            "left": null,
            "margin": null,
            "max_height": null,
            "max_width": null,
            "min_height": null,
            "min_width": null,
            "object_fit": null,
            "object_position": null,
            "order": null,
            "overflow": null,
            "overflow_x": null,
            "overflow_y": null,
            "padding": null,
            "right": null,
            "top": null,
            "visibility": null,
            "width": null
          }
        },
        "d6c5bfd6bc54412ea404380ab7f7d4c1": {
          "model_module": "@jupyter-widgets/controls",
          "model_name": "DescriptionStyleModel",
          "model_module_version": "1.5.0",
          "state": {
            "_model_module": "@jupyter-widgets/controls",
            "_model_module_version": "1.5.0",
            "_model_name": "DescriptionStyleModel",
            "_view_count": null,
            "_view_module": "@jupyter-widgets/base",
            "_view_module_version": "1.2.0",
            "_view_name": "StyleView",
            "description_width": ""
          }
        },
        "22e36240287d4ee3902ac787c13548d7": {
          "model_module": "@jupyter-widgets/base",
          "model_name": "LayoutModel",
          "model_module_version": "1.2.0",
          "state": {
            "_model_module": "@jupyter-widgets/base",
            "_model_module_version": "1.2.0",
            "_model_name": "LayoutModel",
            "_view_count": null,
            "_view_module": "@jupyter-widgets/base",
            "_view_module_version": "1.2.0",
            "_view_name": "LayoutView",
            "align_content": null,
            "align_items": null,
            "align_self": null,
            "border": null,
            "bottom": null,
            "display": null,
            "flex": null,
            "flex_flow": null,
            "grid_area": null,
            "grid_auto_columns": null,
            "grid_auto_flow": null,
            "grid_auto_rows": null,
            "grid_column": null,
            "grid_gap": null,
            "grid_row": null,
            "grid_template_areas": null,
            "grid_template_columns": null,
            "grid_template_rows": null,
            "height": null,
            "justify_content": null,
            "justify_items": null,
            "left": null,
            "margin": null,
            "max_height": null,
            "max_width": null,
            "min_height": null,
            "min_width": null,
            "object_fit": null,
            "object_position": null,
            "order": null,
            "overflow": null,
            "overflow_x": null,
            "overflow_y": null,
            "padding": null,
            "right": null,
            "top": null,
            "visibility": null,
            "width": null
          }
        },
        "5865922f43c74ec89fd0918d43fa9967": {
          "model_module": "@jupyter-widgets/controls",
          "model_name": "ProgressStyleModel",
          "model_module_version": "1.5.0",
          "state": {
            "_model_module": "@jupyter-widgets/controls",
            "_model_module_version": "1.5.0",
            "_model_name": "ProgressStyleModel",
            "_view_count": null,
            "_view_module": "@jupyter-widgets/base",
            "_view_module_version": "1.2.0",
            "_view_name": "StyleView",
            "bar_color": null,
            "description_width": ""
          }
        },
        "5d964eb4d97a4ce4a2abb517685bff71": {
          "model_module": "@jupyter-widgets/base",
          "model_name": "LayoutModel",
          "model_module_version": "1.2.0",
          "state": {
            "_model_module": "@jupyter-widgets/base",
            "_model_module_version": "1.2.0",
            "_model_name": "LayoutModel",
            "_view_count": null,
            "_view_module": "@jupyter-widgets/base",
            "_view_module_version": "1.2.0",
            "_view_name": "LayoutView",
            "align_content": null,
            "align_items": null,
            "align_self": null,
            "border": null,
            "bottom": null,
            "display": null,
            "flex": null,
            "flex_flow": null,
            "grid_area": null,
            "grid_auto_columns": null,
            "grid_auto_flow": null,
            "grid_auto_rows": null,
            "grid_column": null,
            "grid_gap": null,
            "grid_row": null,
            "grid_template_areas": null,
            "grid_template_columns": null,
            "grid_template_rows": null,
            "height": null,
            "justify_content": null,
            "justify_items": null,
            "left": null,
            "margin": null,
            "max_height": null,
            "max_width": null,
            "min_height": null,
            "min_width": null,
            "object_fit": null,
            "object_position": null,
            "order": null,
            "overflow": null,
            "overflow_x": null,
            "overflow_y": null,
            "padding": null,
            "right": null,
            "top": null,
            "visibility": null,
            "width": null
          }
        },
        "f8fff8f571404ff599c8b8a81f717fef": {
          "model_module": "@jupyter-widgets/controls",
          "model_name": "DescriptionStyleModel",
          "model_module_version": "1.5.0",
          "state": {
            "_model_module": "@jupyter-widgets/controls",
            "_model_module_version": "1.5.0",
            "_model_name": "DescriptionStyleModel",
            "_view_count": null,
            "_view_module": "@jupyter-widgets/base",
            "_view_module_version": "1.2.0",
            "_view_name": "StyleView",
            "description_width": ""
          }
        }
      }
    }
  },
  "cells": [
    {
      "cell_type": "markdown",
      "source": [
        "# **Import and Install**"
      ],
      "metadata": {
        "id": "DhyE9siDfopm"
      }
    },
    {
      "cell_type": "code",
      "execution_count": 1,
      "metadata": {
        "colab": {
          "base_uri": "https://localhost:8080/"
        },
        "id": "Qe613V6FGwJM",
        "outputId": "89a41286-140c-4322-971d-be1a71ad286e"
      },
      "outputs": [
        {
          "output_type": "stream",
          "name": "stdout",
          "text": [
            "Requirement already satisfied: torch in /usr/local/lib/python3.7/dist-packages (1.11.0+cu113)\n",
            "Requirement already satisfied: torchvision in /usr/local/lib/python3.7/dist-packages (0.12.0+cu113)\n",
            "Collecting transformers\n",
            "  Downloading transformers-4.18.0-py3-none-any.whl (4.0 MB)\n",
            "\u001b[K     |████████████████████████████████| 4.0 MB 9.7 MB/s \n",
            "\u001b[?25hRequirement already satisfied: typing-extensions in /usr/local/lib/python3.7/dist-packages (from torch) (4.2.0)\n",
            "Requirement already satisfied: pillow!=8.3.*,>=5.3.0 in /usr/local/lib/python3.7/dist-packages (from torchvision) (7.1.2)\n",
            "Requirement already satisfied: requests in /usr/local/lib/python3.7/dist-packages (from torchvision) (2.23.0)\n",
            "Requirement already satisfied: numpy in /usr/local/lib/python3.7/dist-packages (from torchvision) (1.21.6)\n",
            "Requirement already satisfied: regex!=2019.12.17 in /usr/local/lib/python3.7/dist-packages (from transformers) (2019.12.20)\n",
            "Collecting huggingface-hub<1.0,>=0.1.0\n",
            "  Downloading huggingface_hub-0.5.1-py3-none-any.whl (77 kB)\n",
            "\u001b[K     |████████████████████████████████| 77 kB 8.9 MB/s \n",
            "\u001b[?25hRequirement already satisfied: tqdm>=4.27 in /usr/local/lib/python3.7/dist-packages (from transformers) (4.64.0)\n",
            "Requirement already satisfied: importlib-metadata in /usr/local/lib/python3.7/dist-packages (from transformers) (4.11.3)\n",
            "Requirement already satisfied: packaging>=20.0 in /usr/local/lib/python3.7/dist-packages (from transformers) (21.3)\n",
            "Collecting sacremoses\n",
            "  Downloading sacremoses-0.0.53.tar.gz (880 kB)\n",
            "\u001b[K     |████████████████████████████████| 880 kB 64.7 MB/s \n",
            "\u001b[?25hCollecting tokenizers!=0.11.3,<0.13,>=0.11.1\n",
            "  Downloading tokenizers-0.12.1-cp37-cp37m-manylinux_2_12_x86_64.manylinux2010_x86_64.whl (6.6 MB)\n",
            "\u001b[K     |████████████████████████████████| 6.6 MB 46.2 MB/s \n",
            "\u001b[?25hRequirement already satisfied: filelock in /usr/local/lib/python3.7/dist-packages (from transformers) (3.6.0)\n",
            "Collecting pyyaml>=5.1\n",
            "  Downloading PyYAML-6.0-cp37-cp37m-manylinux_2_5_x86_64.manylinux1_x86_64.manylinux_2_12_x86_64.manylinux2010_x86_64.whl (596 kB)\n",
            "\u001b[K     |████████████████████████████████| 596 kB 54.6 MB/s \n",
            "\u001b[?25hRequirement already satisfied: pyparsing!=3.0.5,>=2.0.2 in /usr/local/lib/python3.7/dist-packages (from packaging>=20.0->transformers) (3.0.8)\n",
            "Requirement already satisfied: zipp>=0.5 in /usr/local/lib/python3.7/dist-packages (from importlib-metadata->transformers) (3.8.0)\n",
            "Requirement already satisfied: certifi>=2017.4.17 in /usr/local/lib/python3.7/dist-packages (from requests->torchvision) (2021.10.8)\n",
            "Requirement already satisfied: urllib3!=1.25.0,!=1.25.1,<1.26,>=1.21.1 in /usr/local/lib/python3.7/dist-packages (from requests->torchvision) (1.24.3)\n",
            "Requirement already satisfied: idna<3,>=2.5 in /usr/local/lib/python3.7/dist-packages (from requests->torchvision) (2.10)\n",
            "Requirement already satisfied: chardet<4,>=3.0.2 in /usr/local/lib/python3.7/dist-packages (from requests->torchvision) (3.0.4)\n",
            "Requirement already satisfied: six in /usr/local/lib/python3.7/dist-packages (from sacremoses->transformers) (1.15.0)\n",
            "Requirement already satisfied: click in /usr/local/lib/python3.7/dist-packages (from sacremoses->transformers) (7.1.2)\n",
            "Requirement already satisfied: joblib in /usr/local/lib/python3.7/dist-packages (from sacremoses->transformers) (1.1.0)\n",
            "Building wheels for collected packages: sacremoses\n",
            "  Building wheel for sacremoses (setup.py) ... \u001b[?25l\u001b[?25hdone\n",
            "  Created wheel for sacremoses: filename=sacremoses-0.0.53-py3-none-any.whl size=895260 sha256=c30a152bb856879369359043a98e0e2ca9b4fae45108b1082234bcfc97f6c6ab\n",
            "  Stored in directory: /root/.cache/pip/wheels/87/39/dd/a83eeef36d0bf98e7a4d1933a4ad2d660295a40613079bafc9\n",
            "Successfully built sacremoses\n",
            "Installing collected packages: pyyaml, tokenizers, sacremoses, huggingface-hub, transformers\n",
            "  Attempting uninstall: pyyaml\n",
            "    Found existing installation: PyYAML 3.13\n",
            "    Uninstalling PyYAML-3.13:\n",
            "      Successfully uninstalled PyYAML-3.13\n",
            "Successfully installed huggingface-hub-0.5.1 pyyaml-6.0 sacremoses-0.0.53 tokenizers-0.12.1 transformers-4.18.0\n"
          ]
        }
      ],
      "source": [
        "!pip install torch torchvision transformers"
      ]
    },
    {
      "cell_type": "code",
      "source": [
        "import torch\n",
        "import torch.nn as nn\n",
        "import pandas as pd\n",
        "import nltk\n",
        "import pickle\n",
        "import matplotlib.pyplot as plt\n",
        "from torch.utils.data import Dataset, DataLoader\n",
        "from transformers import BertTokenizer, BertConfig, BertForSequenceClassification\n",
        "from transformers import AdamW\n",
        "from sklearn.metrics import f1_score\n",
        "from sklearn.metrics import precision_recall_fscore_support"
      ],
      "metadata": {
        "id": "iS6mkvWBIH8j"
      },
      "execution_count": 2,
      "outputs": []
    },
    {
      "cell_type": "code",
      "source": [
        "nltk.download(\"stopwords\")"
      ],
      "metadata": {
        "colab": {
          "base_uri": "https://localhost:8080/"
        },
        "id": "5kztvTamgU0T",
        "outputId": "c9a3e851-5a37-4c2f-efd7-308b2d8d8abd"
      },
      "execution_count": 3,
      "outputs": [
        {
          "output_type": "stream",
          "name": "stdout",
          "text": [
            "[nltk_data] Downloading package stopwords to /root/nltk_data...\n",
            "[nltk_data]   Unzipping corpora/stopwords.zip.\n"
          ]
        },
        {
          "output_type": "execute_result",
          "data": {
            "text/plain": [
              "True"
            ]
          },
          "metadata": {},
          "execution_count": 3
        }
      ]
    },
    {
      "cell_type": "code",
      "source": [
        "from LoadData import LoadDataAndProcessing\n",
        "from RumourDataSet import RumourDataset"
      ],
      "metadata": {
        "id": "i6_o16fkCTEj"
      },
      "execution_count": 4,
      "outputs": []
    },
    {
      "cell_type": "code",
      "source": [
        "from google.colab import drive\n",
        "drive.mount('/content/drive')"
      ],
      "metadata": {
        "colab": {
          "base_uri": "https://localhost:8080/"
        },
        "id": "ee4YWhO-G4Hy",
        "outputId": "21227ef3-113d-4021-fd63-81bc3b2d2fb8"
      },
      "execution_count": 5,
      "outputs": [
        {
          "output_type": "stream",
          "name": "stdout",
          "text": [
            "Mounted at /content/drive\n"
          ]
        }
      ]
    },
    {
      "cell_type": "markdown",
      "source": [
        "# **Build The Model**"
      ],
      "metadata": {
        "id": "5C8UU9gkfzMC"
      }
    },
    {
      "cell_type": "code",
      "source": [
        "# Parameters setting\n",
        "\n",
        "BATCH_SIZE = 8\n",
        "NUM_WORKERS = 2\n",
        "MAX_LEN = 450\n",
        "num_labels = 2\n",
        "hidden_dropout_prob = 0.3\n",
        "learning_rate = 2e-5\n",
        "weight_decay = 1e-2\n",
        "\n",
        "gpu = 0 # gpu ID\n",
        "device = torch.device(\"cuda:0\" if torch.cuda.is_available() else \"cpu\")"
      ],
      "metadata": {
        "id": "10vmWBICG4kN"
      },
      "execution_count": 6,
      "outputs": []
    },
    {
      "cell_type": "code",
      "source": [
        "# If the inputs are already processed on local\n",
        "\n",
        "train_input_file = \"/content/drive/MyDrive/NLP/data/train_input.pickle\"\n",
        "dev_input_file = \"/content/drive/MyDrive/NLP/data/dev_input.pickle\"\n",
        "\n",
        "train_input = pickle.load(open(train_input_file, \"rb\", -1))\n",
        "dev_input = pickle.load(open(dev_input_file, \"rb\", -1))\n",
        "\n",
        "#Creating instances of training and development set\n",
        "#maxlen sets the maximum length a sentence can have\n",
        "#any sentence longer than this length is truncated to the maxlen size\n",
        "train_set = RumourDataset(data = train_input, maxlen = MAX_LEN)\n",
        "dev_set = RumourDataset(data = dev_input, maxlen = MAX_LEN)\n",
        "\n",
        "#Creating intsances of training and development dataloaders\n",
        "train_loader = DataLoader(train_set, batch_size = BATCH_SIZE, \n",
        "                          collate_fn=train_set.create_mini_batch, \n",
        "                          num_workers = NUM_WORKERS, shuffle=True)\n",
        "dev_loader = DataLoader(dev_set, batch_size = BATCH_SIZE, \n",
        "                        collate_fn=dev_set.create_mini_batch, \n",
        "                        num_workers = NUM_WORKERS, shuffle=True)\n",
        "\n",
        "print(\"Done preprocessing training and development data.\")"
      ],
      "metadata": {
        "id": "X0YL-HbbgB-B",
        "colab": {
          "base_uri": "https://localhost:8080/",
          "height": 130,
          "referenced_widgets": [
            "05f8c76dbcb74b45b34fe1b336f0ea4e",
            "e02aca5ea26447859a96c07a9b171f4b",
            "d60f7fbbfe094192b20e59ea738680cc",
            "3bb4c1a4bf854909aebf965d84dc919f",
            "a05696bf7b544da39e870d1ac06fe2ea",
            "85aedfca606c4932acab42d3f27bf0fb",
            "4e5a8cd3d2de4cb5b06a0e7a0ee6fc50",
            "88185390595847a18aefe64354b03c6e",
            "3eaf3366b5c74ae6856c1fd7101a212e",
            "973d1628f4a34d04a141840afb047452",
            "9382ec63a9894d779db5b6ab3187eb8d",
            "f9e24cc8a28548b7852b68dcb323a473",
            "5d7571610d0d47189a62084aa8ebd43e",
            "93d935fb20b449dc9d7bbb8eeec440e6",
            "60da584e1e1d4bedad64c411d672261e",
            "10ed4741311a4298bab13232f852f2f0",
            "2a8c91df317a4bff9e1950bdc2590bc7",
            "498e4920cfe7414aad438f53d7171076",
            "dfb9f533881f4a1d85c8fa94f77c1c16",
            "108dec69f7674e3b9e6f446a6ba7516f",
            "c7a11134b02e42a786d7607dda6a2388",
            "d9bcbf64337247ef81d2df3f0af4680f",
            "8c10f73c1b0a416da7a9358b282ff0d0",
            "48969dbdff1e44ea80e7d384144137de",
            "b00ba6b353de4cd58f78da14413550c1",
            "b30489ae3f1c49279baa469fc509f89e",
            "9a154b0966084b9eba2884c6b179fb72",
            "8c1cba8648154b078539696c187ab9ab",
            "ee48272e94f242549e9f2d016262950a",
            "410276b2081d48efaf16d27b10cc6003",
            "f7c22f0663f34996b63f7a5b67941d78",
            "540dbb5237a84ba087150403e21149d7",
            "f7951545780f4178a0f50b9de7e7c0b6"
          ]
        },
        "outputId": "72c306f3-425b-4947-e180-84fe3a4498da"
      },
      "execution_count": 7,
      "outputs": [
        {
          "output_type": "display_data",
          "data": {
            "text/plain": [
              "Downloading:   0%|          | 0.00/226k [00:00<?, ?B/s]"
            ],
            "application/vnd.jupyter.widget-view+json": {
              "version_major": 2,
              "version_minor": 0,
              "model_id": "05f8c76dbcb74b45b34fe1b336f0ea4e"
            }
          },
          "metadata": {}
        },
        {
          "output_type": "display_data",
          "data": {
            "text/plain": [
              "Downloading:   0%|          | 0.00/28.0 [00:00<?, ?B/s]"
            ],
            "application/vnd.jupyter.widget-view+json": {
              "version_major": 2,
              "version_minor": 0,
              "model_id": "f9e24cc8a28548b7852b68dcb323a473"
            }
          },
          "metadata": {}
        },
        {
          "output_type": "display_data",
          "data": {
            "text/plain": [
              "Downloading:   0%|          | 0.00/570 [00:00<?, ?B/s]"
            ],
            "application/vnd.jupyter.widget-view+json": {
              "version_major": 2,
              "version_minor": 0,
              "model_id": "8c10f73c1b0a416da7a9358b282ff0d0"
            }
          },
          "metadata": {}
        },
        {
          "output_type": "stream",
          "name": "stdout",
          "text": [
            "Done preprocessing training and development data.\n"
          ]
        }
      ]
    },
    {
      "cell_type": "code",
      "source": [
        "# # else\n",
        "\n",
        "# train_file = \"/content/drive/MyDrive/NLP/data/train_data_prepared.json\"\n",
        "# dev_file = \"/content/drive/MyDrive/NLP/data/dev_data_prepared.json\"\n",
        "\n",
        "# load_twitter_train_data = LoadDataAndProcessing(train_file)\n",
        "# load_twitter_dev_data = LoadDataAndProcessing(dev_file)\n",
        "\n",
        "# train_input = load_twitter_train_data.prepareDataset()\n",
        "# dev_input = load_twitter_dev_data.prepareDataset()\n",
        "\n",
        "# train_set = RumourDataset(data = train_input, maxlen = MAX_LEN)\n",
        "# dev_set = RumourDataset(data = dev_input, maxlen = MAX_LEN)\n",
        "\n",
        "# train_loader = DataLoader(train_set, batch_size = BATCH_SIZE, \n",
        "#                           collate_fn=train_set.create_mini_batch, \n",
        "#                           num_workers = NUM_WORKERS, shuffle=True)\n",
        "# dev_loader = DataLoader(dev_set, batch_size = BATCH_SIZE, \n",
        "#                         collate_fn=dev_set.create_mini_batch, \n",
        "#                         num_workers = NUM_WORKERS, shuffle=True)\n",
        "\n",
        "# print(\"Done preprocessing training and development data.\")"
      ],
      "metadata": {
        "id": "kUO7BonWG4RE"
      },
      "execution_count": 12,
      "outputs": []
    },
    {
      "cell_type": "code",
      "source": [
        "# Load the model\n",
        "print(\"Creating the rumour classifier, initialised with pretrained BERT-BASE parameters...\")\n",
        "config = BertConfig.from_pretrained(\"bert-base-uncased\", \n",
        "                                    num_labels=num_labels, hidden_dropout_prob=hidden_dropout_prob)\n",
        "model = BertForSequenceClassification.from_pretrained(\"bert-base-uncased\", config=config)\n",
        "model.to(device)\n",
        "print(\"Done creating the rumour classifier.\")"
      ],
      "metadata": {
        "colab": {
          "base_uri": "https://localhost:8080/",
          "height": 191,
          "referenced_widgets": [
            "c5d2de9746c546c59f1d9857ddc16f9e",
            "441099e4392640c6acbf6006af2ad24f",
            "84ed38456309425ca9432c79854d8f6c",
            "153bdc45b04a4e4298ad57b4b077dab7",
            "9b766c91a65f43988017a037db905b84",
            "388c2e2143de40e697c6e9701bf74990",
            "d6c5bfd6bc54412ea404380ab7f7d4c1",
            "22e36240287d4ee3902ac787c13548d7",
            "5865922f43c74ec89fd0918d43fa9967",
            "5d964eb4d97a4ce4a2abb517685bff71",
            "f8fff8f571404ff599c8b8a81f717fef"
          ]
        },
        "id": "D8flfqnCG4nl",
        "outputId": "fee4a539-2e1c-4b9a-bb8e-f82d5a6528aa"
      },
      "execution_count": 13,
      "outputs": [
        {
          "output_type": "stream",
          "name": "stdout",
          "text": [
            "Creating the rumour classifier, initialised with pretrained BERT-BASE parameters...\n"
          ]
        },
        {
          "output_type": "display_data",
          "data": {
            "text/plain": [
              "Downloading:   0%|          | 0.00/420M [00:00<?, ?B/s]"
            ],
            "application/vnd.jupyter.widget-view+json": {
              "version_major": 2,
              "version_minor": 0,
              "model_id": "c5d2de9746c546c59f1d9857ddc16f9e"
            }
          },
          "metadata": {}
        },
        {
          "output_type": "stream",
          "name": "stderr",
          "text": [
            "Some weights of the model checkpoint at bert-base-uncased were not used when initializing BertForSequenceClassification: ['cls.predictions.transform.LayerNorm.weight', 'cls.predictions.bias', 'cls.predictions.decoder.weight', 'cls.seq_relationship.weight', 'cls.seq_relationship.bias', 'cls.predictions.transform.dense.weight', 'cls.predictions.transform.dense.bias', 'cls.predictions.transform.LayerNorm.bias']\n",
            "- This IS expected if you are initializing BertForSequenceClassification from the checkpoint of a model trained on another task or with another architecture (e.g. initializing a BertForSequenceClassification model from a BertForPreTraining model).\n",
            "- This IS NOT expected if you are initializing BertForSequenceClassification from the checkpoint of a model that you expect to be exactly identical (initializing a BertForSequenceClassification model from a BertForSequenceClassification model).\n",
            "Some weights of BertForSequenceClassification were not initialized from the model checkpoint at bert-base-uncased and are newly initialized: ['classifier.bias', 'classifier.weight']\n",
            "You should probably TRAIN this model on a down-stream task to be able to use it for predictions and inference.\n"
          ]
        },
        {
          "output_type": "stream",
          "name": "stdout",
          "text": [
            "Done creating the rumour classifier.\n"
          ]
        }
      ]
    },
    {
      "cell_type": "code",
      "source": [
        "# Prepare optimizer and schedule (linear warmup and decay)\n",
        "# set the bias and LayerNorm.weight \n",
        "no_decay = ['bias', 'LayerNorm.weight']\n",
        "optimizer_grouped_parameters = [\n",
        "        {'params': [p for n, p in model.named_parameters() if not \n",
        "                    any(nd in n for nd in no_decay)], 'weight_decay': weight_decay},\n",
        "        {'params': [p for n, p in model.named_parameters() if \n",
        "                    any(nd in n for nd in no_decay)], 'weight_decay': 0.0}\n",
        "]\n",
        "\n",
        "#optimizer = AdamW(model.parameters(), lr=learning_rate)\n",
        "optimizer = torch.optim.AdamW(optimizer_grouped_parameters, lr=learning_rate)\n",
        "criterion = nn.CrossEntropyLoss()"
      ],
      "metadata": {
        "id": "Z65P3aRdG4qm"
      },
      "execution_count": 14,
      "outputs": []
    },
    {
      "cell_type": "markdown",
      "source": [
        "# **Trian and Evaluate the Model**"
      ],
      "metadata": {
        "id": "YhvBRVaffQ65"
      }
    },
    {
      "cell_type": "code",
      "source": [
        "def train(model, dataloader, optimizer, criterion, device):\n",
        "    model.train()\n",
        "    epoch_loss = 0\n",
        "    epoch_acc = 0\n",
        "    for i, batch in enumerate(dataloader):\n",
        "\n",
        "        tokens_tensors, segments_tensors, masks_tensors, labels = [t.to(device) for t in batch]\n",
        "\n",
        "        optimizer.zero_grad()\n",
        "\n",
        "        output = model(input_ids=tokens_tensors, \n",
        "                       token_type_ids=segments_tensors, \n",
        "                       attention_mask=masks_tensors, labels=labels)\n",
        "\n",
        "        y_pred_prob = output[1]\n",
        "        y_pred_label = y_pred_prob.argmax(dim=1)\n",
        "\n",
        "        loss = criterion(y_pred_prob.view(-1, 2), labels.view(-1))\n",
        "\n",
        "        acc = ((y_pred_label == labels.view(-1)).sum()).item()\n",
        "\n",
        "        loss.backward()\n",
        "        optimizer.step()\n",
        "\n",
        "        epoch_loss += loss.item()\n",
        "        epoch_acc += acc\n",
        "\n",
        "        if i % 200 == 0:\n",
        "            print(\"Iteration {} complete. Loss:{}, Accuracy:{}\".format(\n",
        "                i, epoch_loss / (i+1), epoch_acc / ((i+1)*len(labels))))\n",
        "\n",
        "    return epoch_loss / len(dataloader), epoch_acc / len(dataloader.dataset)\n",
        "\n",
        "def evaluate(model, iterator, device):\n",
        "    model.eval()\n",
        "    epoch_loss = 0\n",
        "    epoch_acc = 0\n",
        "    TP, TN, FN, FP = 0, 0, 0 ,0\n",
        "\n",
        "    with torch.no_grad():\n",
        "        for _, batch in enumerate(iterator):\n",
        "            tokens_tensors, segments_tensors, masks_tensors, labels = [t.to(device) for t in batch]\n",
        "\n",
        "            output = model(input_ids=tokens_tensors, \n",
        "                           token_type_ids=segments_tensors, \n",
        "                           attention_mask=masks_tensors, labels=labels)\n",
        "            y_pred_label = output[1].argmax(dim=1)\n",
        "            loss = output[0]\n",
        "            acc = ((y_pred_label == labels.view(-1)).sum()).item()\n",
        "\n",
        "            epoch_loss += loss.item()\n",
        "            epoch_acc += acc\n",
        "\n",
        "            # TP += ((y_pred_label == 1) & (labels.view(-1) == 1)).cpu().sum()\n",
        "            # TN += ((y_pred_label == 0) & (labels.view(-1) == 0)).cpu().sum()\n",
        "            # FN += ((y_pred_label == 0) & (labels.view(-1) == 1)).cpu().sum()\n",
        "            # FP += ((y_pred_label == 1) & (labels.view(-1) == 0)).cpu().sum()\n",
        "\n",
        "            # # Calculate the f1 weighted score\n",
        "            # p, r, f, _ = precision_recall_fscore_support(y_true, y_pred, pos_label=1, average=\"binary\")\n",
        "\n",
        "    # p = TP / (TP + FP)\n",
        "    # r = TP / (TP + FN)\n",
        "    # F1 = 2 * r * p / (r + p)\n",
        "\n",
        "    return epoch_loss / len(iterator), epoch_acc / len(iterator.dataset)"
      ],
      "metadata": {
        "id": "ahdLdy_WnqmE"
      },
      "execution_count": 15,
      "outputs": []
    },
    {
      "cell_type": "code",
      "source": [
        "train_acc_list = []\n",
        "train_loss_list = []\n",
        "dev_acc_list = []\n",
        "dev_loss_list = []\n",
        "\n",
        "best_acc = 0\n",
        "EPOCHS = 20\n",
        "best_ep = 0\n",
        "for ep in range(EPOCHS):\n",
        "    print(\"EPOCH {} ------------------------------------------------------\".format(ep+1))\n",
        "    train_loss, train_acc = train(model, train_loader, optimizer, criterion, device)\n",
        "    print(\"EPOCH {}:\".format(ep+1), \"Mean train loss: \", train_loss, \"\\t\", \"Mean train acc:\", train_acc)\n",
        "    dev_loss, dev_acc = evaluate(model, dev_loader, device)\n",
        "    print(\"EPOCH {}:\".format(ep+1), \"Mean dev loss: \", dev_loss, \"\\t\", \"Mean dev acc:\", dev_acc)\n",
        "\n",
        "    train_acc_list.append(train_acc)\n",
        "    train_loss_list.append(train_loss)\n",
        "    dev_acc_list.append(dev_acc)\n",
        "    dev_loss_list.append(dev_loss)\n",
        "\n",
        "    if dev_acc > best_acc:\n",
        "      print(\"Best development accuracy improved from {} to {}, saving model...\".format(best_acc, dev_acc))\n",
        "      best_acc = dev_acc\n",
        "      best_ep = ep\n",
        "      torch.save(model.state_dict(), 'sstcls_{}.dat'.format(ep))\n",
        "    \n",
        "    print(\"********************************************************************************\")\n"
      ],
      "metadata": {
        "colab": {
          "base_uri": "https://localhost:8080/"
        },
        "id": "T5utQOyEnqqW",
        "outputId": "64bcce61-82a6-4ee0-f29c-bd651d3ac7e1"
      },
      "execution_count": 16,
      "outputs": [
        {
          "output_type": "stream",
          "name": "stdout",
          "text": [
            "EPOCH 1 ------------------------------------------------------\n",
            "Iteration 0 complete. Loss:0.7072023749351501, Accuracy:0.625\n",
            "EPOCH 1: Mean train loss:  0.450709089028592 \t Mean train acc: 0.7955271565495208\n",
            "EPOCH 1: Mean dev loss:  0.3805611977244125 \t Mean dev acc: 0.8141263940520446\n",
            "Best development accuracy improved from 0 to 0.8141263940520446, saving model...\n",
            "********************************************************************************\n",
            "EPOCH 2 ------------------------------------------------------\n",
            "Iteration 0 complete. Loss:0.28800687193870544, Accuracy:0.875\n",
            "EPOCH 2: Mean train loss:  0.34014427986908324 \t Mean train acc: 0.8198083067092652\n",
            "EPOCH 2: Mean dev loss:  0.3055594754131401 \t Mean dev acc: 0.8643122676579925\n",
            "Best development accuracy improved from 0.8141263940520446 to 0.8643122676579925, saving model...\n",
            "********************************************************************************\n",
            "EPOCH 3 ------------------------------------------------------\n",
            "Iteration 0 complete. Loss:0.4316760003566742, Accuracy:0.75\n",
            "EPOCH 3: Mean train loss:  0.24759112330324642 \t Mean train acc: 0.888817891373802\n",
            "EPOCH 3: Mean dev loss:  0.2840222217936945 \t Mean dev acc: 0.8475836431226765\n",
            "********************************************************************************\n",
            "EPOCH 4 ------------------------------------------------------\n",
            "Iteration 0 complete. Loss:0.22782644629478455, Accuracy:0.875\n",
            "EPOCH 4: Mean train loss:  0.1280025522169961 \t Mean train acc: 0.9591054313099041\n",
            "EPOCH 4: Mean dev loss:  0.29579177282593105 \t Mean dev acc: 0.9089219330855018\n",
            "Best development accuracy improved from 0.8643122676579925 to 0.9089219330855018, saving model...\n",
            "********************************************************************************\n",
            "EPOCH 5 ------------------------------------------------------\n",
            "Iteration 0 complete. Loss:0.023681331425905228, Accuracy:1.0\n",
            "EPOCH 5: Mean train loss:  0.07167231589460707 \t Mean train acc: 0.9776357827476039\n",
            "EPOCH 5: Mean dev loss:  0.3032801264669294 \t Mean dev acc: 0.9052044609665427\n",
            "********************************************************************************\n",
            "EPOCH 6 ------------------------------------------------------\n",
            "Iteration 0 complete. Loss:0.004910794086754322, Accuracy:1.0\n",
            "EPOCH 6: Mean train loss:  0.045651934439867585 \t Mean train acc: 0.9884984025559106\n",
            "EPOCH 6: Mean dev loss:  0.2207051144376986 \t Mean dev acc: 0.9330855018587361\n",
            "Best development accuracy improved from 0.9089219330855018 to 0.9330855018587361, saving model...\n",
            "********************************************************************************\n",
            "EPOCH 7 ------------------------------------------------------\n",
            "Iteration 0 complete. Loss:0.003982414957135916, Accuracy:1.0\n",
            "EPOCH 7: Mean train loss:  0.03388627120816358 \t Mean train acc: 0.9878594249201278\n",
            "EPOCH 7: Mean dev loss:  0.16695369242070762 \t Mean dev acc: 0.9516728624535316\n",
            "Best development accuracy improved from 0.9330855018587361 to 0.9516728624535316, saving model...\n",
            "********************************************************************************\n",
            "EPOCH 8 ------------------------------------------------------\n",
            "Iteration 0 complete. Loss:0.007134273648262024, Accuracy:1.0\n",
            "EPOCH 8: Mean train loss:  0.009531523864858841 \t Mean train acc: 0.9980830670926517\n",
            "EPOCH 8: Mean dev loss:  0.2693698132859615 \t Mean dev acc: 0.9479553903345725\n",
            "********************************************************************************\n",
            "EPOCH 9 ------------------------------------------------------\n",
            "Iteration 0 complete. Loss:0.0009272422757931054, Accuracy:1.0\n",
            "EPOCH 9: Mean train loss:  0.01441497330456421 \t Mean train acc: 0.9961661341853035\n",
            "EPOCH 9: Mean dev loss:  0.2988511060945765 \t Mean dev acc: 0.9442379182156134\n",
            "********************************************************************************\n",
            "EPOCH 10 ------------------------------------------------------\n",
            "Iteration 0 complete. Loss:0.0014771759742870927, Accuracy:1.0\n",
            "EPOCH 10: Mean train loss:  0.033542842216366824 \t Mean train acc: 0.9923322683706071\n",
            "EPOCH 10: Mean dev loss:  0.22786429740260836 \t Mean dev acc: 0.9479553903345725\n",
            "********************************************************************************\n",
            "EPOCH 11 ------------------------------------------------------\n",
            "Iteration 0 complete. Loss:0.0017182877054437995, Accuracy:1.0\n",
            "EPOCH 11: Mean train loss:  0.007532361918604191 \t Mean train acc: 0.9980830670926517\n",
            "EPOCH 11: Mean dev loss:  0.2533960610517705 \t Mean dev acc: 0.9572490706319703\n",
            "Best development accuracy improved from 0.9516728624535316 to 0.9572490706319703, saving model...\n",
            "********************************************************************************\n",
            "EPOCH 12 ------------------------------------------------------\n",
            "Iteration 0 complete. Loss:0.0004857853055000305, Accuracy:1.0\n",
            "EPOCH 12: Mean train loss:  0.0014113401409062765 \t Mean train acc: 0.9993610223642172\n",
            "EPOCH 12: Mean dev loss:  0.30729116041787646 \t Mean dev acc: 0.9516728624535316\n",
            "********************************************************************************\n",
            "EPOCH 13 ------------------------------------------------------\n",
            "Iteration 0 complete. Loss:0.0004887371324002743, Accuracy:1.0\n",
            "EPOCH 13: Mean train loss:  0.02331657118190137 \t Mean train acc: 0.9923322683706071\n",
            "EPOCH 13: Mean dev loss:  0.18926734021164626 \t Mean dev acc: 0.9479553903345725\n",
            "********************************************************************************\n",
            "EPOCH 14 ------------------------------------------------------\n",
            "Iteration 0 complete. Loss:0.0025648714508861303, Accuracy:1.0\n",
            "EPOCH 14: Mean train loss:  0.005248399247722439 \t Mean train acc: 0.997444089456869\n",
            "EPOCH 14: Mean dev loss:  0.2719810255319531 \t Mean dev acc: 0.9516728624535316\n",
            "********************************************************************************\n",
            "EPOCH 15 ------------------------------------------------------\n",
            "Iteration 0 complete. Loss:0.00027630626573227346, Accuracy:1.0\n",
            "EPOCH 15: Mean train loss:  0.007191004918184967 \t Mean train acc: 0.9968051118210862\n",
            "EPOCH 15: Mean dev loss:  0.2073731922202355 \t Mean dev acc: 0.9460966542750929\n",
            "********************************************************************************\n",
            "EPOCH 16 ------------------------------------------------------\n",
            "Iteration 0 complete. Loss:0.10904598981142044, Accuracy:0.875\n",
            "EPOCH 16: Mean train loss:  0.0069187324399387524 \t Mean train acc: 0.9968051118210862\n",
            "EPOCH 16: Mean dev loss:  0.24620555873105546 \t Mean dev acc: 0.9553903345724907\n",
            "********************************************************************************\n",
            "EPOCH 17 ------------------------------------------------------\n",
            "Iteration 0 complete. Loss:0.0002746366953942925, Accuracy:1.0\n",
            "EPOCH 17: Mean train loss:  0.0007524654056211074 \t Mean train acc: 1.0\n",
            "EPOCH 17: Mean dev loss:  0.31237078641050386 \t Mean dev acc: 0.9516728624535316\n",
            "********************************************************************************\n",
            "EPOCH 18 ------------------------------------------------------\n",
            "Iteration 0 complete. Loss:0.0002338399935979396, Accuracy:1.0\n",
            "EPOCH 18: Mean train loss:  0.0006770029053675861 \t Mean train acc: 1.0\n",
            "EPOCH 18: Mean dev loss:  0.32734549609904207 \t Mean dev acc: 0.9516728624535316\n",
            "********************************************************************************\n",
            "EPOCH 19 ------------------------------------------------------\n",
            "Iteration 0 complete. Loss:0.00022220400569494814, Accuracy:1.0\n",
            "EPOCH 19: Mean train loss:  0.018976757791483116 \t Mean train acc: 0.9955271565495207\n",
            "EPOCH 19: Mean dev loss:  0.29101294048108256 \t Mean dev acc: 0.9516728624535316\n",
            "********************************************************************************\n",
            "EPOCH 20 ------------------------------------------------------\n",
            "Iteration 0 complete. Loss:0.0037098866887390614, Accuracy:1.0\n",
            "EPOCH 20: Mean train loss:  0.012593286341217784 \t Mean train acc: 0.9968051118210862\n",
            "EPOCH 20: Mean dev loss:  0.23316372833569937 \t Mean dev acc: 0.9591078066914498\n",
            "Best development accuracy improved from 0.9572490706319703 to 0.9591078066914498, saving model...\n",
            "********************************************************************************\n"
          ]
        }
      ]
    },
    {
      "cell_type": "code",
      "source": [
        "epochs = range(1, EPOCHS+1)\n",
        "plt.plot(epochs, train_acc_list, 'b', label = 'Train accuracy')\n",
        "plt.plot(epochs, dev_acc_list, 'r', label = 'Development accuracy')\n",
        "plt.title('Performance on Accuracy')\n",
        "plt.legend()\n",
        "plt.savefig(\"Accuracy.png\")\n",
        "plt.show()"
      ],
      "metadata": {
        "id": "NHzHPLlcefFW",
        "colab": {
          "base_uri": "https://localhost:8080/",
          "height": 281
        },
        "outputId": "c8a106b0-e35d-4e69-9783-2d61f1919053"
      },
      "execution_count": 17,
      "outputs": [
        {
          "output_type": "display_data",
          "data": {
            "text/plain": [
              "<Figure size 432x288 with 1 Axes>"
            ],
            "image/png": "[encoded data removed]"
          },
          "metadata": {
            "needs_background": "light"
          }
        }
      ]
    },
    {
      "cell_type": "code",
      "source": [
        "epochs = range(1, EPOCHS+1)\n",
        "plt.plot(epochs, train_loss_list, 'b', label = 'Train loss')\n",
        "plt.plot(epochs, dev_loss_list, 'r', label = 'Development loss')\n",
        "plt.title('Loss')\n",
        "plt.legend()\n",
        "plt.savefig(\"Loss.png\")\n",
        "plt.show()"
      ],
      "metadata": {
        "id": "e5opr5kcOXqm",
        "colab": {
          "base_uri": "https://localhost:8080/",
          "height": 281
        },
        "outputId": "65aa4bf4-a80a-461c-9e29-989430485b1f"
      },
      "execution_count": 18,
      "outputs": [
        {
          "output_type": "display_data",
          "data": {
            "text/plain": [
              "<Figure size 432x288 with 1 Axes>"
            ],
            "image/png": "[encoded data removed]"
          },
          "metadata": {
            "needs_background": "light"
          }
        }
      ]
    },
    {
      "cell_type": "markdown",
      "source": [
        "# **Devset Prediction**"
      ],
      "metadata": {
        "id": "Q_CLUY6Qh91W"
      }
    },
    {
      "cell_type": "code",
      "source": [
        "# If the inputs are already processed on local\n",
        "\n",
        "dev_to_predict_input_file = \"/content/drive/MyDrive/NLP/data/dev_to_predict_input.pickle\"\n",
        "\n",
        "dev_to_predict_input = pickle.load(open(dev_to_predict_input_file, \"rb\", -1))"
      ],
      "metadata": {
        "id": "cQNORP5riMla"
      },
      "execution_count": 64,
      "outputs": []
    },
    {
      "cell_type": "code",
      "source": [
        "# # else\n",
        "\n",
        "# dev_to_predict_input_file = \"/content/drive/MyDrive/NLP/data/dev_data_to_predict_input.json\"\n",
        "\n",
        "# load_twitter_dev_to_predict_data = LoadDataAndProcessing(dev_to_predict_input_file)\n",
        "\n",
        "# dev_to_predict_input = load_twitter_dev_to_predict_data.prepareDataset()"
      ],
      "metadata": {
        "id": "5j1WwTAIiMjJ"
      },
      "execution_count": 65,
      "outputs": []
    },
    {
      "cell_type": "code",
      "source": [
        "dev_to_predict_set = RumourDataset(data = dev_to_predict_input, maxlen = MAX_LEN)\n",
        "dev_to_predict_loader = DataLoader(dev_to_predict_set, collate_fn=dev_to_predict_set.create_mini_batch, \n",
        "                         batch_size = BATCH_SIZE, num_workers = NUM_WORKERS)"
      ],
      "metadata": {
        "id": "ODCnntDNiMgf"
      },
      "execution_count": 66,
      "outputs": []
    },
    {
      "cell_type": "code",
      "source": [
        "def predict(net, test_loader, model_file=None):\n",
        "    # load weight\n",
        "    if model_file != None:\n",
        "      net.load_state_dict(torch.load(model_file))\n",
        "    \n",
        "    predictions = []\n",
        "    \n",
        "    for _, batch in enumerate(test_loader):\n",
        "      tokens_tensors, segments_tensors, masks_tensors = [t.to(device) for t in batch]\n",
        "\n",
        "      output = model(input_ids=tokens_tensors, \n",
        "                      token_type_ids=segments_tensors, \n",
        "                      attention_mask=masks_tensors)\n",
        "      probs = output[0].argmax(dim=1)\n",
        "      soft_probs = (probs > 0.5).long()\n",
        "      predictions.extend(soft_probs.cpu().numpy().squeeze())\n",
        "    \n",
        "    return predictions"
      ],
      "metadata": {
        "id": "uHpxvjDhiMdR"
      },
      "execution_count": 67,
      "outputs": []
    },
    {
      "cell_type": "code",
      "source": [
        "model_file = \"sstcls_{}.dat\".format(best_ep)\n",
        "predictions = predict(model, dev_to_predict_loader, model_file)\n",
        "len(predictions)"
      ],
      "metadata": {
        "colab": {
          "base_uri": "https://localhost:8080/"
        },
        "id": "N2QNQF7Oi-9F",
        "outputId": "306fc227-da61-4684-c4a2-7c0553aa60f2"
      },
      "execution_count": 68,
      "outputs": [
        {
          "output_type": "execute_result",
          "data": {
            "text/plain": [
              "538"
            ]
          },
          "metadata": {},
          "execution_count": 68
        }
      ]
    },
    {
      "cell_type": "code",
      "source": [
        "pred = pd.DataFrame(data=predictions, columns=['Predicted']).reset_index()\n",
        "pred = pred.rename(columns={'index': 'Id'})\n",
        "print(pred)\n",
        "\n",
        "pred.to_csv('dev_prediction.csv', index = False)"
      ],
      "metadata": {
        "colab": {
          "base_uri": "https://localhost:8080/"
        },
        "id": "Z_UexAc0i-42",
        "outputId": "d29a890a-11bf-4086-f031-da03547b2de5"
      },
      "execution_count": 69,
      "outputs": [
        {
          "output_type": "stream",
          "name": "stdout",
          "text": [
            "      Id  Predicted\n",
            "0      0          0\n",
            "1      1          0\n",
            "2      2          0\n",
            "3      3          0\n",
            "4      4          0\n",
            "..   ...        ...\n",
            "533  533          1\n",
            "534  534          0\n",
            "535  535          1\n",
            "536  536          0\n",
            "537  537          0\n",
            "\n",
            "[538 rows x 2 columns]\n"
          ]
        }
      ]
    },
    {
      "cell_type": "markdown",
      "source": [
        "# **Testset Prediction**"
      ],
      "metadata": {
        "id": "Xhyo4ifwe9el"
      }
    },
    {
      "cell_type": "code",
      "source": [
        "# If the inputs are already processed on local\n",
        "\n",
        "test_input_file = \"/content/drive/MyDrive/NLP/data/test_input.pickle\"\n",
        "\n",
        "test_input = pickle.load(open(test_input_file, \"rb\", -1))"
      ],
      "metadata": {
        "id": "ZBRD9z8POXuz"
      },
      "execution_count": 74,
      "outputs": []
    },
    {
      "cell_type": "code",
      "source": [
        "# # else\n",
        "\n",
        "# test_file = \"/content/drive/MyDrive/NLP/data/test_data_prepared.json\"\n",
        "\n",
        "# load_twitter_test_data = LoadDataAndProcessing(test_file)\n",
        "\n",
        "# test_input = load_twitter_test_data.prepareDataset()"
      ],
      "metadata": {
        "id": "687x-9kJVMh6"
      },
      "execution_count": 75,
      "outputs": []
    },
    {
      "cell_type": "code",
      "source": [
        "test_set = RumourDataset(data = test_input, maxlen = MAX_LEN)\n",
        "test_loader = DataLoader(test_set, collate_fn=test_set.create_mini_batch, \n",
        "                         batch_size = BATCH_SIZE, num_workers = NUM_WORKERS)"
      ],
      "metadata": {
        "id": "O_59hIAWOXzF"
      },
      "execution_count": 76,
      "outputs": []
    },
    {
      "cell_type": "code",
      "source": [
        "model_file = \"sstcls_{}.dat\".format(best_ep)\n",
        "predictions = predict(model, test_loader, model_file)\n",
        "len(predictions)"
      ],
      "metadata": {
        "id": "VLah0WnQPJKG",
        "colab": {
          "base_uri": "https://localhost:8080/"
        },
        "outputId": "efb12f35-bc58-4867-fde7-21ec0d5e7b41"
      },
      "execution_count": 77,
      "outputs": [
        {
          "output_type": "execute_result",
          "data": {
            "text/plain": [
              "558"
            ]
          },
          "metadata": {},
          "execution_count": 77
        }
      ]
    },
    {
      "cell_type": "code",
      "source": [
        "pred = pd.DataFrame(data=predictions, columns=['Predicted']).reset_index()\n",
        "pred = pred.rename(columns={'index': 'Id'})\n",
        "print(pred)\n",
        "\n",
        "pred.to_csv('test_prediction.csv', index = False)"
      ],
      "metadata": {
        "id": "bJxk6rSWOeDw",
        "colab": {
          "base_uri": "https://localhost:8080/"
        },
        "outputId": "85ebc7bc-6aa2-4d37-908a-75a88b9cc236"
      },
      "execution_count": 78,
      "outputs": [
        {
          "output_type": "stream",
          "name": "stdout",
          "text": [
            "      Id  Predicted\n",
            "0      0          0\n",
            "1      1          0\n",
            "2      2          0\n",
            "3      3          0\n",
            "4      4          1\n",
            "..   ...        ...\n",
            "553  553          0\n",
            "554  554          0\n",
            "555  555          1\n",
            "556  556          0\n",
            "557  557          0\n",
            "\n",
            "[558 rows x 2 columns]\n"
          ]
        }
      ]
    },
    {
      "cell_type": "code",
      "source": [
        "with open('Parameters.txt', 'w') as f:\n",
        "    f.write(\"BATCH_SIZE = {},\\n\".format(BATCH_SIZE) +\n",
        "            \"NUM_WORKERS = {},\\n\".format(NUM_WORKERS) +\n",
        "            \"MAX_LEN = {},\\n\".format(MAX_LEN) +\n",
        "            \"hidden_dropout_prob = {},\\n\".format(hidden_dropout_prob) +\n",
        "            \"learning_rate = {},\\n\".format(learning_rate) +\n",
        "            \"weight_decay = {}\".format(weight_decay))"
      ],
      "metadata": {
        "id": "wjCe2ByhZUX_"
      },
      "execution_count": 79,
      "outputs": []
    },
    {
      "cell_type": "markdown",
      "source": [
        "# **Covid set Prediction**"
      ],
      "metadata": {
        "id": "fa0x95C8kY0n"
      }
    },
    {
      "cell_type": "code",
      "source": [
        "# For task 2 covid data\n",
        "\n",
        "covid_input_file = \"/content/drive/MyDrive/NLP/data/covid_input.pickle\"\n",
        "\n",
        "covid_input = pickle.load(open(covid_input_file, \"rb\", -1))"
      ],
      "metadata": {
        "id": "zcSOCUSUnqIa"
      },
      "execution_count": 70,
      "outputs": []
    },
    {
      "cell_type": "code",
      "source": [
        "covid_set = RumourDataset(data = covid_input, maxlen = MAX_LEN)\n",
        "covid_loader = DataLoader(covid_set, collate_fn=covid_set.create_mini_batch, \n",
        "                         batch_size = BATCH_SIZE, num_workers = NUM_WORKERS)"
      ],
      "metadata": {
        "id": "VKz__WU7ZUiN"
      },
      "execution_count": 71,
      "outputs": []
    },
    {
      "cell_type": "code",
      "source": [
        "model_file = \"sstcls_{}.dat\".format(best_ep)\n",
        "predictions = predict(model, covid_loader, model_file)\n",
        "len(predictions)"
      ],
      "metadata": {
        "colab": {
          "base_uri": "https://localhost:8080/"
        },
        "id": "7XYkbHMQk6jz",
        "outputId": "603892a6-fb70-47cf-d07c-886a3b9c924c"
      },
      "execution_count": 72,
      "outputs": [
        {
          "output_type": "execute_result",
          "data": {
            "text/plain": [
              "13454"
            ]
          },
          "metadata": {},
          "execution_count": 72
        }
      ]
    },
    {
      "cell_type": "code",
      "source": [
        "pred = pd.DataFrame(data=predictions, columns=['Predicted']).reset_index()\n",
        "pred = pred.rename(columns={'index': 'Id'})\n",
        "print(pred)\n",
        "\n",
        "pred.to_csv('covid_prediction.csv', index = False)"
      ],
      "metadata": {
        "colab": {
          "base_uri": "https://localhost:8080/"
        },
        "id": "Ea0XlU03k6g0",
        "outputId": "00c94dfd-af12-42a9-a348-e9e95ff80031"
      },
      "execution_count": 73,
      "outputs": [
        {
          "output_type": "stream",
          "name": "stdout",
          "text": [
            "          Id  Predicted\n",
            "0          0          0\n",
            "1          1          0\n",
            "2          2          0\n",
            "3          3          0\n",
            "4          4          0\n",
            "...      ...        ...\n",
            "13449  13449          0\n",
            "13450  13450          1\n",
            "13451  13451          1\n",
            "13452  13452          0\n",
            "13453  13453          0\n",
            "\n",
            "[13454 rows x 2 columns]\n"
          ]
        }
      ]
    },
    {
      "cell_type": "markdown",
      "source": [
        "# Empty the memory"
      ],
      "metadata": {
        "id": "x0tkHLqSe3Wd"
      }
    },
    {
      "cell_type": "code",
      "source": [
        "!ln -sf /opt/bin/nvidia-smi /usr/bin/nvidia-smi\n",
        "!pip install gputil\n",
        "!pip install psutil\n",
        "!pip install humanize"
      ],
      "metadata": {
        "id": "JgjYAMaqOeJH",
        "colab": {
          "base_uri": "https://localhost:8080/"
        },
        "outputId": "fc34fb2f-50de-4dfa-b291-8b909c1f004d"
      },
      "execution_count": null,
      "outputs": [
        {
          "output_type": "stream",
          "name": "stdout",
          "text": [
            "Collecting gputil\n",
            "  Downloading GPUtil-1.4.0.tar.gz (5.5 kB)\n",
            "Building wheels for collected packages: gputil\n",
            "  Building wheel for gputil (setup.py) ... \u001b[?25l\u001b[?25hdone\n",
            "  Created wheel for gputil: filename=GPUtil-1.4.0-py3-none-any.whl size=7411 sha256=bf6297d5882182784a1d000bfd3b2d459e6770ac5611df0f9254a37ed5f14996\n",
            "  Stored in directory: /root/.cache/pip/wheels/6e/f8/83/534c52482d6da64622ddbf72cd93c35d2ef2881b78fd08ff0c\n",
            "Successfully built gputil\n",
            "Installing collected packages: gputil\n",
            "Successfully installed gputil-1.4.0\n",
            "Requirement already satisfied: psutil in /usr/local/lib/python3.7/dist-packages (5.4.8)\n",
            "Requirement already satisfied: humanize in /usr/local/lib/python3.7/dist-packages (0.5.1)\n"
          ]
        }
      ]
    },
    {
      "cell_type": "code",
      "source": [
        "import psutil\n",
        "import humanize\n",
        "import os\n",
        "import GPUtil as GPU\n",
        "\n",
        "GPUs = GPU.getGPUs()\n",
        "# XXX: only one GPU on Colab and isn’t guaranteed\n",
        "gpu = GPUs[0]\n",
        "def printm():\n",
        "    process = psutil.Process(os.getpid())\n",
        "    print(\"Gen RAM Free: \" + humanize.naturalsize(psutil.virtual_memory().available), \" |     Proc size: \" + humanize.naturalsize(process.memory_info().rss))\n",
        "    print(\"GPU RAM Free: {0:.0f}MB | Used: {1:.0f}MB | Util {2:3.0f}% | Total     {3:.0f}MB\".format(gpu.memoryFree, gpu.memoryUsed, gpu.memoryUtil*100, gpu.memoryTotal))\n",
        "printm()\n"
      ],
      "metadata": {
        "colab": {
          "base_uri": "https://localhost:8080/"
        },
        "id": "WYat0FDKMb0G",
        "outputId": "ea19a80b-1908-45c6-a0e7-9cc6c69dfa18"
      },
      "execution_count": null,
      "outputs": [
        {
          "output_type": "stream",
          "name": "stdout",
          "text": [
            "Gen RAM Free: 11.6 GB  |     Proc size: 1.0 GB\n",
            "GPU RAM Free: 15106MB | Used: 3MB | Util   0% | Total     15109MB\n"
          ]
        }
      ]
    },
    {
      "cell_type": "code",
      "source": [
        "!ps -aux|grep python"
      ],
      "metadata": {
        "colab": {
          "base_uri": "https://localhost:8080/"
        },
        "id": "CA9st45EMb2q",
        "outputId": "8868e977-4da0-44a6-c4d4-5ba5a95ddf3d"
      },
      "execution_count": null,
      "outputs": [
        {
          "output_type": "stream",
          "name": "stdout",
          "text": [
            "root          30  0.5  0.0      0     0 ?        Z    06:59   0:04 [python3] <defunct>\n",
            "root          31  0.0  0.3 158256 41376 ?        S    06:59   0:00 python3 /usr/local/bin/colab-fileshim.py\n",
            "root          56  0.4  0.4 202440 61064 ?        Sl   06:59   0:03 /usr/bin/python3 /usr/local/bin/jupyter-notebook --ip=\"172.28.0.2\" --port=9000 --FileContentsManager.root_dir=\"/\" --MappingKernelManager.root_dir=\"/content\"\n",
            "root         316  0.0  0.0  18380  2960 ?        S    06:59   0:00 bash -c tail -n +0 -F \"/root/.config/Google/DriveFS/Logs/drive_fs.txt\" | python3 /opt/google/drive/drive-filter.py > \"/root/.config/Google/DriveFS/Logs/timeouts.txt\" \n",
            "root         319  0.0  0.0  31272  9380 ?        S    06:59   0:00 python3 /opt/google/drive/drive-filter.py\n",
            "root         506  7.5 42.2 31615000 5617240 ?    Ssl  07:07   0:15 /usr/bin/python3 -m ipykernel_launcher -f /root/.local/share/jupyter/runtime/kernel-8598b9a0-c7fd-45c2-bbb1-36144b25e38e.json\n",
            "root         524  0.2  0.1 127700 16380 ?        Sl   07:07   0:00 /usr/bin/python3 /usr/local/lib/python3.7/dist-packages/debugpy/adapter --for-server 40781 --host 127.0.0.1 --port 18404 --server-access-token f7a070892485f9fa0acca1be8c52826c4c308e95669e51f88fd227e527be9716\n",
            "root         618  0.0  0.0  39196  6684 ?        S    07:11   0:00 /bin/bash -c ps -aux|grep python\n",
            "root         620  0.0  0.0  36900  3972 ?        R    07:11   0:00 grep python\n"
          ]
        }
      ]
    },
    {
      "cell_type": "code",
      "source": [
        "!kill -9 506"
      ],
      "metadata": {
        "id": "M34Spx3iMb5l"
      },
      "execution_count": null,
      "outputs": []
    }
  ]
}