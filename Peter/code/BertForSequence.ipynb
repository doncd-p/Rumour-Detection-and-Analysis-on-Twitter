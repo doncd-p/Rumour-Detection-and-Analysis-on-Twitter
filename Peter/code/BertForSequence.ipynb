{
  "nbformat": 4,
  "nbformat_minor": 0,
  "metadata": {
    "colab": {
      "name": "BertForSequence.ipynb",
      "provenance": [],
      "collapsed_sections": [
        "Xhyo4ifwe9el",
        "fa0x95C8kY0n",
        "Vt0TfULRKz3A",
        "x0tkHLqSe3Wd"
      ]
    },
    "kernelspec": {
      "name": "python3",
      "display_name": "Python 3"
    },
    "language_info": {
      "name": "python"
    },
    "accelerator": "GPU",
    "widgets": {
      "application/vnd.jupyter.widget-state+json": {
        "c4d374b854214da49aaa2cfc6087652d": {
          "model_module": "@jupyter-widgets/controls",
          "model_name": "HBoxModel",
          "model_module_version": "1.5.0",
          "state": {
            "_dom_classes": [],
            "_model_module": "@jupyter-widgets/controls",
            "_model_module_version": "1.5.0",
            "_model_name": "HBoxModel",
            "_view_count": null,
            "_view_module": "@jupyter-widgets/controls",
            "_view_module_version": "1.5.0",
            "_view_name": "HBoxView",
            "box_style": "",
            "children": [
              "IPY_MODEL_4b45c5dd615641e8843fe6b0520edd3b",
              "IPY_MODEL_14b001e2a8394ee28aff1b97f7e011c9",
              "IPY_MODEL_a8025ded5c3145ab940a7c593955d03d"
            ],
            "layout": "IPY_MODEL_4e69b2649c324ef1a0c7c3f7459a7dbe"
          }
        },
        "4b45c5dd615641e8843fe6b0520edd3b": {
          "model_module": "@jupyter-widgets/controls",
          "model_name": "HTMLModel",
          "model_module_version": "1.5.0",
          "state": {
            "_dom_classes": [],
            "_model_module": "@jupyter-widgets/controls",
            "_model_module_version": "1.5.0",
            "_model_name": "HTMLModel",
            "_view_count": null,
            "_view_module": "@jupyter-widgets/controls",
            "_view_module_version": "1.5.0",
            "_view_name": "HTMLView",
            "description": "",
            "description_tooltip": null,
            "layout": "IPY_MODEL_10744f6d37f24f2cbcec4631d58ba88e",
            "placeholder": "​",
            "style": "IPY_MODEL_4c01d19e57fe4be7b0357dcae0b4a5ea",
            "value": "Downloading: 100%"
          }
        },
        "14b001e2a8394ee28aff1b97f7e011c9": {
          "model_module": "@jupyter-widgets/controls",
          "model_name": "FloatProgressModel",
          "model_module_version": "1.5.0",
          "state": {
            "_dom_classes": [],
            "_model_module": "@jupyter-widgets/controls",
            "_model_module_version": "1.5.0",
            "_model_name": "FloatProgressModel",
            "_view_count": null,
            "_view_module": "@jupyter-widgets/controls",
            "_view_module_version": "1.5.0",
            "_view_name": "ProgressView",
            "bar_style": "success",
            "description": "",
            "description_tooltip": null,
            "layout": "IPY_MODEL_8bd661a595c246f9853a215f71576c7f",
            "max": 231508,
            "min": 0,
            "orientation": "horizontal",
            "style": "IPY_MODEL_57b3d91ed1bb466a92160793336f8c29",
            "value": 231508
          }
        },
        "a8025ded5c3145ab940a7c593955d03d": {
          "model_module": "@jupyter-widgets/controls",
          "model_name": "HTMLModel",
          "model_module_version": "1.5.0",
          "state": {
            "_dom_classes": [],
            "_model_module": "@jupyter-widgets/controls",
            "_model_module_version": "1.5.0",
            "_model_name": "HTMLModel",
            "_view_count": null,
            "_view_module": "@jupyter-widgets/controls",
            "_view_module_version": "1.5.0",
            "_view_name": "HTMLView",
            "description": "",
            "description_tooltip": null,
            "layout": "IPY_MODEL_cc1862101af7495d94e7d9484b58ad92",
            "placeholder": "​",
            "style": "IPY_MODEL_c4bc0fea65f24b229c0b49aae39ebb02",
            "value": " 226k/226k [00:00&lt;00:00, 2.40MB/s]"
          }
        },
        "4e69b2649c324ef1a0c7c3f7459a7dbe": {
          "model_module": "@jupyter-widgets/base",
          "model_name": "LayoutModel",
          "model_module_version": "1.2.0",
          "state": {
            "_model_module": "@jupyter-widgets/base",
            "_model_module_version": "1.2.0",
            "_model_name": "LayoutModel",
            "_view_count": null,
            "_view_module": "@jupyter-widgets/base",
            "_view_module_version": "1.2.0",
            "_view_name": "LayoutView",
            "align_content": null,
            "align_items": null,
            "align_self": null,
            "border": null,
            "bottom": null,
            "display": null,
            "flex": null,
            "flex_flow": null,
            "grid_area": null,
            "grid_auto_columns": null,
            "grid_auto_flow": null,
            "grid_auto_rows": null,
            "grid_column": null,
            "grid_gap": null,
            "grid_row": null,
            "grid_template_areas": null,
            "grid_template_columns": null,
            "grid_template_rows": null,
            "height": null,
            "justify_content": null,
            "justify_items": null,
            "left": null,
            "margin": null,
            "max_height": null,
            "max_width": null,
            "min_height": null,
            "min_width": null,
            "object_fit": null,
            "object_position": null,
            "order": null,
            "overflow": null,
            "overflow_x": null,
            "overflow_y": null,
            "padding": null,
            "right": null,
            "top": null,
            "visibility": null,
            "width": null
          }
        },
        "10744f6d37f24f2cbcec4631d58ba88e": {
          "model_module": "@jupyter-widgets/base",
          "model_name": "LayoutModel",
          "model_module_version": "1.2.0",
          "state": {
            "_model_module": "@jupyter-widgets/base",
            "_model_module_version": "1.2.0",
            "_model_name": "LayoutModel",
            "_view_count": null,
            "_view_module": "@jupyter-widgets/base",
            "_view_module_version": "1.2.0",
            "_view_name": "LayoutView",
            "align_content": null,
            "align_items": null,
            "align_self": null,
            "border": null,
            "bottom": null,
            "display": null,
            "flex": null,
            "flex_flow": null,
            "grid_area": null,
            "grid_auto_columns": null,
            "grid_auto_flow": null,
            "grid_auto_rows": null,
            "grid_column": null,
            "grid_gap": null,
            "grid_row": null,
            "grid_template_areas": null,
            "grid_template_columns": null,
            "grid_template_rows": null,
            "height": null,
            "justify_content": null,
            "justify_items": null,
            "left": null,
            "margin": null,
            "max_height": null,
            "max_width": null,
            "min_height": null,
            "min_width": null,
            "object_fit": null,
            "object_position": null,
            "order": null,
            "overflow": null,
            "overflow_x": null,
            "overflow_y": null,
            "padding": null,
            "right": null,
            "top": null,
            "visibility": null,
            "width": null
          }
        },
        "4c01d19e57fe4be7b0357dcae0b4a5ea": {
          "model_module": "@jupyter-widgets/controls",
          "model_name": "DescriptionStyleModel",
          "model_module_version": "1.5.0",
          "state": {
            "_model_module": "@jupyter-widgets/controls",
            "_model_module_version": "1.5.0",
            "_model_name": "DescriptionStyleModel",
            "_view_count": null,
            "_view_module": "@jupyter-widgets/base",
            "_view_module_version": "1.2.0",
            "_view_name": "StyleView",
            "description_width": ""
          }
        },
        "8bd661a595c246f9853a215f71576c7f": {
          "model_module": "@jupyter-widgets/base",
          "model_name": "LayoutModel",
          "model_module_version": "1.2.0",
          "state": {
            "_model_module": "@jupyter-widgets/base",
            "_model_module_version": "1.2.0",
            "_model_name": "LayoutModel",
            "_view_count": null,
            "_view_module": "@jupyter-widgets/base",
            "_view_module_version": "1.2.0",
            "_view_name": "LayoutView",
            "align_content": null,
            "align_items": null,
            "align_self": null,
            "border": null,
            "bottom": null,
            "display": null,
            "flex": null,
            "flex_flow": null,
            "grid_area": null,
            "grid_auto_columns": null,
            "grid_auto_flow": null,
            "grid_auto_rows": null,
            "grid_column": null,
            "grid_gap": null,
            "grid_row": null,
            "grid_template_areas": null,
            "grid_template_columns": null,
            "grid_template_rows": null,
            "height": null,
            "justify_content": null,
            "justify_items": null,
            "left": null,
            "margin": null,
            "max_height": null,
            "max_width": null,
            "min_height": null,
            "min_width": null,
            "object_fit": null,
            "object_position": null,
            "order": null,
            "overflow": null,
            "overflow_x": null,
            "overflow_y": null,
            "padding": null,
            "right": null,
            "top": null,
            "visibility": null,
            "width": null
          }
        },
        "57b3d91ed1bb466a92160793336f8c29": {
          "model_module": "@jupyter-widgets/controls",
          "model_name": "ProgressStyleModel",
          "model_module_version": "1.5.0",
          "state": {
            "_model_module": "@jupyter-widgets/controls",
            "_model_module_version": "1.5.0",
            "_model_name": "ProgressStyleModel",
            "_view_count": null,
            "_view_module": "@jupyter-widgets/base",
            "_view_module_version": "1.2.0",
            "_view_name": "StyleView",
            "bar_color": null,
            "description_width": ""
          }
        },
        "cc1862101af7495d94e7d9484b58ad92": {
          "model_module": "@jupyter-widgets/base",
          "model_name": "LayoutModel",
          "model_module_version": "1.2.0",
          "state": {
            "_model_module": "@jupyter-widgets/base",
            "_model_module_version": "1.2.0",
            "_model_name": "LayoutModel",
            "_view_count": null,
            "_view_module": "@jupyter-widgets/base",
            "_view_module_version": "1.2.0",
            "_view_name": "LayoutView",
            "align_content": null,
            "align_items": null,
            "align_self": null,
            "border": null,
            "bottom": null,
            "display": null,
            "flex": null,
            "flex_flow": null,
            "grid_area": null,
            "grid_auto_columns": null,
            "grid_auto_flow": null,
            "grid_auto_rows": null,
            "grid_column": null,
            "grid_gap": null,
            "grid_row": null,
            "grid_template_areas": null,
            "grid_template_columns": null,
            "grid_template_rows": null,
            "height": null,
            "justify_content": null,
            "justify_items": null,
            "left": null,
            "margin": null,
            "max_height": null,
            "max_width": null,
            "min_height": null,
            "min_width": null,
            "object_fit": null,
            "object_position": null,
            "order": null,
            "overflow": null,
            "overflow_x": null,
            "overflow_y": null,
            "padding": null,
            "right": null,
            "top": null,
            "visibility": null,
            "width": null
          }
        },
        "c4bc0fea65f24b229c0b49aae39ebb02": {
          "model_module": "@jupyter-widgets/controls",
          "model_name": "DescriptionStyleModel",
          "model_module_version": "1.5.0",
          "state": {
            "_model_module": "@jupyter-widgets/controls",
            "_model_module_version": "1.5.0",
            "_model_name": "DescriptionStyleModel",
            "_view_count": null,
            "_view_module": "@jupyter-widgets/base",
            "_view_module_version": "1.2.0",
            "_view_name": "StyleView",
            "description_width": ""
          }
        },
        "a40c35e0c62549e4847cc956e1859fd0": {
          "model_module": "@jupyter-widgets/controls",
          "model_name": "HBoxModel",
          "model_module_version": "1.5.0",
          "state": {
            "_dom_classes": [],
            "_model_module": "@jupyter-widgets/controls",
            "_model_module_version": "1.5.0",
            "_model_name": "HBoxModel",
            "_view_count": null,
            "_view_module": "@jupyter-widgets/controls",
            "_view_module_version": "1.5.0",
            "_view_name": "HBoxView",
            "box_style": "",
            "children": [
              "IPY_MODEL_7486272ff9bc4339ae5f2848659ad357",
              "IPY_MODEL_dfb27922313e40ec93a70fc0a4b45881",
              "IPY_MODEL_be277f7b5fb447e8bd35dd78979d5dc8"
            ],
            "layout": "IPY_MODEL_83bfea118c3d44f3aaa4d3bc3506698a"
          }
        },
        "7486272ff9bc4339ae5f2848659ad357": {
          "model_module": "@jupyter-widgets/controls",
          "model_name": "HTMLModel",
          "model_module_version": "1.5.0",
          "state": {
            "_dom_classes": [],
            "_model_module": "@jupyter-widgets/controls",
            "_model_module_version": "1.5.0",
            "_model_name": "HTMLModel",
            "_view_count": null,
            "_view_module": "@jupyter-widgets/controls",
            "_view_module_version": "1.5.0",
            "_view_name": "HTMLView",
            "description": "",
            "description_tooltip": null,
            "layout": "IPY_MODEL_67247cfc989149b294a0c8eef6b96fda",
            "placeholder": "​",
            "style": "IPY_MODEL_02f4e1640cad4deeb5dfc38fcb03239e",
            "value": "Downloading: 100%"
          }
        },
        "dfb27922313e40ec93a70fc0a4b45881": {
          "model_module": "@jupyter-widgets/controls",
          "model_name": "FloatProgressModel",
          "model_module_version": "1.5.0",
          "state": {
            "_dom_classes": [],
            "_model_module": "@jupyter-widgets/controls",
            "_model_module_version": "1.5.0",
            "_model_name": "FloatProgressModel",
            "_view_count": null,
            "_view_module": "@jupyter-widgets/controls",
            "_view_module_version": "1.5.0",
            "_view_name": "ProgressView",
            "bar_style": "success",
            "description": "",
            "description_tooltip": null,
            "layout": "IPY_MODEL_c01d9b4195a545cfbf501dc572f43b1d",
            "max": 28,
            "min": 0,
            "orientation": "horizontal",
            "style": "IPY_MODEL_1bae52755cee4caaa9a107162bec68b8",
            "value": 28
          }
        },
        "be277f7b5fb447e8bd35dd78979d5dc8": {
          "model_module": "@jupyter-widgets/controls",
          "model_name": "HTMLModel",
          "model_module_version": "1.5.0",
          "state": {
            "_dom_classes": [],
            "_model_module": "@jupyter-widgets/controls",
            "_model_module_version": "1.5.0",
            "_model_name": "HTMLModel",
            "_view_count": null,
            "_view_module": "@jupyter-widgets/controls",
            "_view_module_version": "1.5.0",
            "_view_name": "HTMLView",
            "description": "",
            "description_tooltip": null,
            "layout": "IPY_MODEL_9ff4330944064f7691e726501a5cb07e",
            "placeholder": "​",
            "style": "IPY_MODEL_c240440de2ca4143a25b40d9a0bd0d0d",
            "value": " 28.0/28.0 [00:00&lt;00:00, 839B/s]"
          }
        },
        "83bfea118c3d44f3aaa4d3bc3506698a": {
          "model_module": "@jupyter-widgets/base",
          "model_name": "LayoutModel",
          "model_module_version": "1.2.0",
          "state": {
            "_model_module": "@jupyter-widgets/base",
            "_model_module_version": "1.2.0",
            "_model_name": "LayoutModel",
            "_view_count": null,
            "_view_module": "@jupyter-widgets/base",
            "_view_module_version": "1.2.0",
            "_view_name": "LayoutView",
            "align_content": null,
            "align_items": null,
            "align_self": null,
            "border": null,
            "bottom": null,
            "display": null,
            "flex": null,
            "flex_flow": null,
            "grid_area": null,
            "grid_auto_columns": null,
            "grid_auto_flow": null,
            "grid_auto_rows": null,
            "grid_column": null,
            "grid_gap": null,
            "grid_row": null,
            "grid_template_areas": null,
            "grid_template_columns": null,
            "grid_template_rows": null,
            "height": null,
            "justify_content": null,
            "justify_items": null,
            "left": null,
            "margin": null,
            "max_height": null,
            "max_width": null,
            "min_height": null,
            "min_width": null,
            "object_fit": null,
            "object_position": null,
            "order": null,
            "overflow": null,
            "overflow_x": null,
            "overflow_y": null,
            "padding": null,
            "right": null,
            "top": null,
            "visibility": null,
            "width": null
          }
        },
        "67247cfc989149b294a0c8eef6b96fda": {
          "model_module": "@jupyter-widgets/base",
          "model_name": "LayoutModel",
          "model_module_version": "1.2.0",
          "state": {
            "_model_module": "@jupyter-widgets/base",
            "_model_module_version": "1.2.0",
            "_model_name": "LayoutModel",
            "_view_count": null,
            "_view_module": "@jupyter-widgets/base",
            "_view_module_version": "1.2.0",
            "_view_name": "LayoutView",
            "align_content": null,
            "align_items": null,
            "align_self": null,
            "border": null,
            "bottom": null,
            "display": null,
            "flex": null,
            "flex_flow": null,
            "grid_area": null,
            "grid_auto_columns": null,
            "grid_auto_flow": null,
            "grid_auto_rows": null,
            "grid_column": null,
            "grid_gap": null,
            "grid_row": null,
            "grid_template_areas": null,
            "grid_template_columns": null,
            "grid_template_rows": null,
            "height": null,
            "justify_content": null,
            "justify_items": null,
            "left": null,
            "margin": null,
            "max_height": null,
            "max_width": null,
            "min_height": null,
            "min_width": null,
            "object_fit": null,
            "object_position": null,
            "order": null,
            "overflow": null,
            "overflow_x": null,
            "overflow_y": null,
            "padding": null,
            "right": null,
            "top": null,
            "visibility": null,
            "width": null
          }
        },
        "02f4e1640cad4deeb5dfc38fcb03239e": {
          "model_module": "@jupyter-widgets/controls",
          "model_name": "DescriptionStyleModel",
          "model_module_version": "1.5.0",
          "state": {
            "_model_module": "@jupyter-widgets/controls",
            "_model_module_version": "1.5.0",
            "_model_name": "DescriptionStyleModel",
            "_view_count": null,
            "_view_module": "@jupyter-widgets/base",
            "_view_module_version": "1.2.0",
            "_view_name": "StyleView",
            "description_width": ""
          }
        },
        "c01d9b4195a545cfbf501dc572f43b1d": {
          "model_module": "@jupyter-widgets/base",
          "model_name": "LayoutModel",
          "model_module_version": "1.2.0",
          "state": {
            "_model_module": "@jupyter-widgets/base",
            "_model_module_version": "1.2.0",
            "_model_name": "LayoutModel",
            "_view_count": null,
            "_view_module": "@jupyter-widgets/base",
            "_view_module_version": "1.2.0",
            "_view_name": "LayoutView",
            "align_content": null,
            "align_items": null,
            "align_self": null,
            "border": null,
            "bottom": null,
            "display": null,
            "flex": null,
            "flex_flow": null,
            "grid_area": null,
            "grid_auto_columns": null,
            "grid_auto_flow": null,
            "grid_auto_rows": null,
            "grid_column": null,
            "grid_gap": null,
            "grid_row": null,
            "grid_template_areas": null,
            "grid_template_columns": null,
            "grid_template_rows": null,
            "height": null,
            "justify_content": null,
            "justify_items": null,
            "left": null,
            "margin": null,
            "max_height": null,
            "max_width": null,
            "min_height": null,
            "min_width": null,
            "object_fit": null,
            "object_position": null,
            "order": null,
            "overflow": null,
            "overflow_x": null,
            "overflow_y": null,
            "padding": null,
            "right": null,
            "top": null,
            "visibility": null,
            "width": null
          }
        },
        "1bae52755cee4caaa9a107162bec68b8": {
          "model_module": "@jupyter-widgets/controls",
          "model_name": "ProgressStyleModel",
          "model_module_version": "1.5.0",
          "state": {
            "_model_module": "@jupyter-widgets/controls",
            "_model_module_version": "1.5.0",
            "_model_name": "ProgressStyleModel",
            "_view_count": null,
            "_view_module": "@jupyter-widgets/base",
            "_view_module_version": "1.2.0",
            "_view_name": "StyleView",
            "bar_color": null,
            "description_width": ""
          }
        },
        "9ff4330944064f7691e726501a5cb07e": {
          "model_module": "@jupyter-widgets/base",
          "model_name": "LayoutModel",
          "model_module_version": "1.2.0",
          "state": {
            "_model_module": "@jupyter-widgets/base",
            "_model_module_version": "1.2.0",
            "_model_name": "LayoutModel",
            "_view_count": null,
            "_view_module": "@jupyter-widgets/base",
            "_view_module_version": "1.2.0",
            "_view_name": "LayoutView",
            "align_content": null,
            "align_items": null,
            "align_self": null,
            "border": null,
            "bottom": null,
            "display": null,
            "flex": null,
            "flex_flow": null,
            "grid_area": null,
            "grid_auto_columns": null,
            "grid_auto_flow": null,
            "grid_auto_rows": null,
            "grid_column": null,
            "grid_gap": null,
            "grid_row": null,
            "grid_template_areas": null,
            "grid_template_columns": null,
            "grid_template_rows": null,
            "height": null,
            "justify_content": null,
            "justify_items": null,
            "left": null,
            "margin": null,
            "max_height": null,
            "max_width": null,
            "min_height": null,
            "min_width": null,
            "object_fit": null,
            "object_position": null,
            "order": null,
            "overflow": null,
            "overflow_x": null,
            "overflow_y": null,
            "padding": null,
            "right": null,
            "top": null,
            "visibility": null,
            "width": null
          }
        },
        "c240440de2ca4143a25b40d9a0bd0d0d": {
          "model_module": "@jupyter-widgets/controls",
          "model_name": "DescriptionStyleModel",
          "model_module_version": "1.5.0",
          "state": {
            "_model_module": "@jupyter-widgets/controls",
            "_model_module_version": "1.5.0",
            "_model_name": "DescriptionStyleModel",
            "_view_count": null,
            "_view_module": "@jupyter-widgets/base",
            "_view_module_version": "1.2.0",
            "_view_name": "StyleView",
            "description_width": ""
          }
        },
        "c3f2a666c54345f4b15fc251356e6a15": {
          "model_module": "@jupyter-widgets/controls",
          "model_name": "HBoxModel",
          "model_module_version": "1.5.0",
          "state": {
            "_dom_classes": [],
            "_model_module": "@jupyter-widgets/controls",
            "_model_module_version": "1.5.0",
            "_model_name": "HBoxModel",
            "_view_count": null,
            "_view_module": "@jupyter-widgets/controls",
            "_view_module_version": "1.5.0",
            "_view_name": "HBoxView",
            "box_style": "",
            "children": [
              "IPY_MODEL_da99cec398b5401883f8f14ba29cbb89",
              "IPY_MODEL_b7b749df83b74caa92c6d10baf4470cb",
              "IPY_MODEL_db66fc9c8b7b4655a44909f6fd3fe016"
            ],
            "layout": "IPY_MODEL_f54da9bf0dc94a07bdc1c8d054ad69c5"
          }
        },
        "da99cec398b5401883f8f14ba29cbb89": {
          "model_module": "@jupyter-widgets/controls",
          "model_name": "HTMLModel",
          "model_module_version": "1.5.0",
          "state": {
            "_dom_classes": [],
            "_model_module": "@jupyter-widgets/controls",
            "_model_module_version": "1.5.0",
            "_model_name": "HTMLModel",
            "_view_count": null,
            "_view_module": "@jupyter-widgets/controls",
            "_view_module_version": "1.5.0",
            "_view_name": "HTMLView",
            "description": "",
            "description_tooltip": null,
            "layout": "IPY_MODEL_ef635f2474784b69a46595f318c2131d",
            "placeholder": "​",
            "style": "IPY_MODEL_2708f5db4b7d4489b1da24a49c5b335f",
            "value": "Downloading: 100%"
          }
        },
        "b7b749df83b74caa92c6d10baf4470cb": {
          "model_module": "@jupyter-widgets/controls",
          "model_name": "FloatProgressModel",
          "model_module_version": "1.5.0",
          "state": {
            "_dom_classes": [],
            "_model_module": "@jupyter-widgets/controls",
            "_model_module_version": "1.5.0",
            "_model_name": "FloatProgressModel",
            "_view_count": null,
            "_view_module": "@jupyter-widgets/controls",
            "_view_module_version": "1.5.0",
            "_view_name": "ProgressView",
            "bar_style": "success",
            "description": "",
            "description_tooltip": null,
            "layout": "IPY_MODEL_00de108ed8f245d69c528a0429852556",
            "max": 570,
            "min": 0,
            "orientation": "horizontal",
            "style": "IPY_MODEL_3b0b11a4d7364b54b094e1a6c52faae3",
            "value": 570
          }
        },
        "db66fc9c8b7b4655a44909f6fd3fe016": {
          "model_module": "@jupyter-widgets/controls",
          "model_name": "HTMLModel",
          "model_module_version": "1.5.0",
          "state": {
            "_dom_classes": [],
            "_model_module": "@jupyter-widgets/controls",
            "_model_module_version": "1.5.0",
            "_model_name": "HTMLModel",
            "_view_count": null,
            "_view_module": "@jupyter-widgets/controls",
            "_view_module_version": "1.5.0",
            "_view_name": "HTMLView",
            "description": "",
            "description_tooltip": null,
            "layout": "IPY_MODEL_2e97fe17e14044d48d08c0de25bccab6",
            "placeholder": "​",
            "style": "IPY_MODEL_6a0a929119c541daa82b314068c373f9",
            "value": " 570/570 [00:00&lt;00:00, 19.0kB/s]"
          }
        },
        "f54da9bf0dc94a07bdc1c8d054ad69c5": {
          "model_module": "@jupyter-widgets/base",
          "model_name": "LayoutModel",
          "model_module_version": "1.2.0",
          "state": {
            "_model_module": "@jupyter-widgets/base",
            "_model_module_version": "1.2.0",
            "_model_name": "LayoutModel",
            "_view_count": null,
            "_view_module": "@jupyter-widgets/base",
            "_view_module_version": "1.2.0",
            "_view_name": "LayoutView",
            "align_content": null,
            "align_items": null,
            "align_self": null,
            "border": null,
            "bottom": null,
            "display": null,
            "flex": null,
            "flex_flow": null,
            "grid_area": null,
            "grid_auto_columns": null,
            "grid_auto_flow": null,
            "grid_auto_rows": null,
            "grid_column": null,
            "grid_gap": null,
            "grid_row": null,
            "grid_template_areas": null,
            "grid_template_columns": null,
            "grid_template_rows": null,
            "height": null,
            "justify_content": null,
            "justify_items": null,
            "left": null,
            "margin": null,
            "max_height": null,
            "max_width": null,
            "min_height": null,
            "min_width": null,
            "object_fit": null,
            "object_position": null,
            "order": null,
            "overflow": null,
            "overflow_x": null,
            "overflow_y": null,
            "padding": null,
            "right": null,
            "top": null,
            "visibility": null,
            "width": null
          }
        },
        "ef635f2474784b69a46595f318c2131d": {
          "model_module": "@jupyter-widgets/base",
          "model_name": "LayoutModel",
          "model_module_version": "1.2.0",
          "state": {
            "_model_module": "@jupyter-widgets/base",
            "_model_module_version": "1.2.0",
            "_model_name": "LayoutModel",
            "_view_count": null,
            "_view_module": "@jupyter-widgets/base",
            "_view_module_version": "1.2.0",
            "_view_name": "LayoutView",
            "align_content": null,
            "align_items": null,
            "align_self": null,
            "border": null,
            "bottom": null,
            "display": null,
            "flex": null,
            "flex_flow": null,
            "grid_area": null,
            "grid_auto_columns": null,
            "grid_auto_flow": null,
            "grid_auto_rows": null,
            "grid_column": null,
            "grid_gap": null,
            "grid_row": null,
            "grid_template_areas": null,
            "grid_template_columns": null,
            "grid_template_rows": null,
            "height": null,
            "justify_content": null,
            "justify_items": null,
            "left": null,
            "margin": null,
            "max_height": null,
            "max_width": null,
            "min_height": null,
            "min_width": null,
            "object_fit": null,
            "object_position": null,
            "order": null,
            "overflow": null,
            "overflow_x": null,
            "overflow_y": null,
            "padding": null,
            "right": null,
            "top": null,
            "visibility": null,
            "width": null
          }
        },
        "2708f5db4b7d4489b1da24a49c5b335f": {
          "model_module": "@jupyter-widgets/controls",
          "model_name": "DescriptionStyleModel",
          "model_module_version": "1.5.0",
          "state": {
            "_model_module": "@jupyter-widgets/controls",
            "_model_module_version": "1.5.0",
            "_model_name": "DescriptionStyleModel",
            "_view_count": null,
            "_view_module": "@jupyter-widgets/base",
            "_view_module_version": "1.2.0",
            "_view_name": "StyleView",
            "description_width": ""
          }
        },
        "00de108ed8f245d69c528a0429852556": {
          "model_module": "@jupyter-widgets/base",
          "model_name": "LayoutModel",
          "model_module_version": "1.2.0",
          "state": {
            "_model_module": "@jupyter-widgets/base",
            "_model_module_version": "1.2.0",
            "_model_name": "LayoutModel",
            "_view_count": null,
            "_view_module": "@jupyter-widgets/base",
            "_view_module_version": "1.2.0",
            "_view_name": "LayoutView",
            "align_content": null,
            "align_items": null,
            "align_self": null,
            "border": null,
            "bottom": null,
            "display": null,
            "flex": null,
            "flex_flow": null,
            "grid_area": null,
            "grid_auto_columns": null,
            "grid_auto_flow": null,
            "grid_auto_rows": null,
            "grid_column": null,
            "grid_gap": null,
            "grid_row": null,
            "grid_template_areas": null,
            "grid_template_columns": null,
            "grid_template_rows": null,
            "height": null,
            "justify_content": null,
            "justify_items": null,
            "left": null,
            "margin": null,
            "max_height": null,
            "max_width": null,
            "min_height": null,
            "min_width": null,
            "object_fit": null,
            "object_position": null,
            "order": null,
            "overflow": null,
            "overflow_x": null,
            "overflow_y": null,
            "padding": null,
            "right": null,
            "top": null,
            "visibility": null,
            "width": null
          }
        },
        "3b0b11a4d7364b54b094e1a6c52faae3": {
          "model_module": "@jupyter-widgets/controls",
          "model_name": "ProgressStyleModel",
          "model_module_version": "1.5.0",
          "state": {
            "_model_module": "@jupyter-widgets/controls",
            "_model_module_version": "1.5.0",
            "_model_name": "ProgressStyleModel",
            "_view_count": null,
            "_view_module": "@jupyter-widgets/base",
            "_view_module_version": "1.2.0",
            "_view_name": "StyleView",
            "bar_color": null,
            "description_width": ""
          }
        },
        "2e97fe17e14044d48d08c0de25bccab6": {
          "model_module": "@jupyter-widgets/base",
          "model_name": "LayoutModel",
          "model_module_version": "1.2.0",
          "state": {
            "_model_module": "@jupyter-widgets/base",
            "_model_module_version": "1.2.0",
            "_model_name": "LayoutModel",
            "_view_count": null,
            "_view_module": "@jupyter-widgets/base",
            "_view_module_version": "1.2.0",
            "_view_name": "LayoutView",
            "align_content": null,
            "align_items": null,
            "align_self": null,
            "border": null,
            "bottom": null,
            "display": null,
            "flex": null,
            "flex_flow": null,
            "grid_area": null,
            "grid_auto_columns": null,
            "grid_auto_flow": null,
            "grid_auto_rows": null,
            "grid_column": null,
            "grid_gap": null,
            "grid_row": null,
            "grid_template_areas": null,
            "grid_template_columns": null,
            "grid_template_rows": null,
            "height": null,
            "justify_content": null,
            "justify_items": null,
            "left": null,
            "margin": null,
            "max_height": null,
            "max_width": null,
            "min_height": null,
            "min_width": null,
            "object_fit": null,
            "object_position": null,
            "order": null,
            "overflow": null,
            "overflow_x": null,
            "overflow_y": null,
            "padding": null,
            "right": null,
            "top": null,
            "visibility": null,
            "width": null
          }
        },
        "6a0a929119c541daa82b314068c373f9": {
          "model_module": "@jupyter-widgets/controls",
          "model_name": "DescriptionStyleModel",
          "model_module_version": "1.5.0",
          "state": {
            "_model_module": "@jupyter-widgets/controls",
            "_model_module_version": "1.5.0",
            "_model_name": "DescriptionStyleModel",
            "_view_count": null,
            "_view_module": "@jupyter-widgets/base",
            "_view_module_version": "1.2.0",
            "_view_name": "StyleView",
            "description_width": ""
          }
        },
        "f62b4d6837484883b967a874a91fe5ab": {
          "model_module": "@jupyter-widgets/controls",
          "model_name": "HBoxModel",
          "model_module_version": "1.5.0",
          "state": {
            "_dom_classes": [],
            "_model_module": "@jupyter-widgets/controls",
            "_model_module_version": "1.5.0",
            "_model_name": "HBoxModel",
            "_view_count": null,
            "_view_module": "@jupyter-widgets/controls",
            "_view_module_version": "1.5.0",
            "_view_name": "HBoxView",
            "box_style": "",
            "children": [
              "IPY_MODEL_4f4da374d55749ac94a222fd7e3ef270",
              "IPY_MODEL_d90b1b3dc7c9448bbf904ec6a9e36b8e",
              "IPY_MODEL_f6ce964296b942e4ad902ce29af0264b"
            ],
            "layout": "IPY_MODEL_e5547e2897d44235a033eacd5847e8f6"
          }
        },
        "4f4da374d55749ac94a222fd7e3ef270": {
          "model_module": "@jupyter-widgets/controls",
          "model_name": "HTMLModel",
          "model_module_version": "1.5.0",
          "state": {
            "_dom_classes": [],
            "_model_module": "@jupyter-widgets/controls",
            "_model_module_version": "1.5.0",
            "_model_name": "HTMLModel",
            "_view_count": null,
            "_view_module": "@jupyter-widgets/controls",
            "_view_module_version": "1.5.0",
            "_view_name": "HTMLView",
            "description": "",
            "description_tooltip": null,
            "layout": "IPY_MODEL_9e3b42cbc8bd4e869ddf943f8fdce2cf",
            "placeholder": "​",
            "style": "IPY_MODEL_4276277df85542bcbb77205cab9f542c",
            "value": "Downloading: 100%"
          }
        },
        "d90b1b3dc7c9448bbf904ec6a9e36b8e": {
          "model_module": "@jupyter-widgets/controls",
          "model_name": "FloatProgressModel",
          "model_module_version": "1.5.0",
          "state": {
            "_dom_classes": [],
            "_model_module": "@jupyter-widgets/controls",
            "_model_module_version": "1.5.0",
            "_model_name": "FloatProgressModel",
            "_view_count": null,
            "_view_module": "@jupyter-widgets/controls",
            "_view_module_version": "1.5.0",
            "_view_name": "ProgressView",
            "bar_style": "success",
            "description": "",
            "description_tooltip": null,
            "layout": "IPY_MODEL_e53cfadf0f1142f8a276f475992f26f2",
            "max": 440473133,
            "min": 0,
            "orientation": "horizontal",
            "style": "IPY_MODEL_ceaac8f42d9841b481ff03736be0542b",
            "value": 440473133
          }
        },
        "f6ce964296b942e4ad902ce29af0264b": {
          "model_module": "@jupyter-widgets/controls",
          "model_name": "HTMLModel",
          "model_module_version": "1.5.0",
          "state": {
            "_dom_classes": [],
            "_model_module": "@jupyter-widgets/controls",
            "_model_module_version": "1.5.0",
            "_model_name": "HTMLModel",
            "_view_count": null,
            "_view_module": "@jupyter-widgets/controls",
            "_view_module_version": "1.5.0",
            "_view_name": "HTMLView",
            "description": "",
            "description_tooltip": null,
            "layout": "IPY_MODEL_a41e7a345db34a1cb39e1517427bbd82",
            "placeholder": "​",
            "style": "IPY_MODEL_f34b507b0dde49f2b3855ef846d82bd3",
            "value": " 420M/420M [00:11&lt;00:00, 56.8MB/s]"
          }
        },
        "e5547e2897d44235a033eacd5847e8f6": {
          "model_module": "@jupyter-widgets/base",
          "model_name": "LayoutModel",
          "model_module_version": "1.2.0",
          "state": {
            "_model_module": "@jupyter-widgets/base",
            "_model_module_version": "1.2.0",
            "_model_name": "LayoutModel",
            "_view_count": null,
            "_view_module": "@jupyter-widgets/base",
            "_view_module_version": "1.2.0",
            "_view_name": "LayoutView",
            "align_content": null,
            "align_items": null,
            "align_self": null,
            "border": null,
            "bottom": null,
            "display": null,
            "flex": null,
            "flex_flow": null,
            "grid_area": null,
            "grid_auto_columns": null,
            "grid_auto_flow": null,
            "grid_auto_rows": null,
            "grid_column": null,
            "grid_gap": null,
            "grid_row": null,
            "grid_template_areas": null,
            "grid_template_columns": null,
            "grid_template_rows": null,
            "height": null,
            "justify_content": null,
            "justify_items": null,
            "left": null,
            "margin": null,
            "max_height": null,
            "max_width": null,
            "min_height": null,
            "min_width": null,
            "object_fit": null,
            "object_position": null,
            "order": null,
            "overflow": null,
            "overflow_x": null,
            "overflow_y": null,
            "padding": null,
            "right": null,
            "top": null,
            "visibility": null,
            "width": null
          }
        },
        "9e3b42cbc8bd4e869ddf943f8fdce2cf": {
          "model_module": "@jupyter-widgets/base",
          "model_name": "LayoutModel",
          "model_module_version": "1.2.0",
          "state": {
            "_model_module": "@jupyter-widgets/base",
            "_model_module_version": "1.2.0",
            "_model_name": "LayoutModel",
            "_view_count": null,
            "_view_module": "@jupyter-widgets/base",
            "_view_module_version": "1.2.0",
            "_view_name": "LayoutView",
            "align_content": null,
            "align_items": null,
            "align_self": null,
            "border": null,
            "bottom": null,
            "display": null,
            "flex": null,
            "flex_flow": null,
            "grid_area": null,
            "grid_auto_columns": null,
            "grid_auto_flow": null,
            "grid_auto_rows": null,
            "grid_column": null,
            "grid_gap": null,
            "grid_row": null,
            "grid_template_areas": null,
            "grid_template_columns": null,
            "grid_template_rows": null,
            "height": null,
            "justify_content": null,
            "justify_items": null,
            "left": null,
            "margin": null,
            "max_height": null,
            "max_width": null,
            "min_height": null,
            "min_width": null,
            "object_fit": null,
            "object_position": null,
            "order": null,
            "overflow": null,
            "overflow_x": null,
            "overflow_y": null,
            "padding": null,
            "right": null,
            "top": null,
            "visibility": null,
            "width": null
          }
        },
        "4276277df85542bcbb77205cab9f542c": {
          "model_module": "@jupyter-widgets/controls",
          "model_name": "DescriptionStyleModel",
          "model_module_version": "1.5.0",
          "state": {
            "_model_module": "@jupyter-widgets/controls",
            "_model_module_version": "1.5.0",
            "_model_name": "DescriptionStyleModel",
            "_view_count": null,
            "_view_module": "@jupyter-widgets/base",
            "_view_module_version": "1.2.0",
            "_view_name": "StyleView",
            "description_width": ""
          }
        },
        "e53cfadf0f1142f8a276f475992f26f2": {
          "model_module": "@jupyter-widgets/base",
          "model_name": "LayoutModel",
          "model_module_version": "1.2.0",
          "state": {
            "_model_module": "@jupyter-widgets/base",
            "_model_module_version": "1.2.0",
            "_model_name": "LayoutModel",
            "_view_count": null,
            "_view_module": "@jupyter-widgets/base",
            "_view_module_version": "1.2.0",
            "_view_name": "LayoutView",
            "align_content": null,
            "align_items": null,
            "align_self": null,
            "border": null,
            "bottom": null,
            "display": null,
            "flex": null,
            "flex_flow": null,
            "grid_area": null,
            "grid_auto_columns": null,
            "grid_auto_flow": null,
            "grid_auto_rows": null,
            "grid_column": null,
            "grid_gap": null,
            "grid_row": null,
            "grid_template_areas": null,
            "grid_template_columns": null,
            "grid_template_rows": null,
            "height": null,
            "justify_content": null,
            "justify_items": null,
            "left": null,
            "margin": null,
            "max_height": null,
            "max_width": null,
            "min_height": null,
            "min_width": null,
            "object_fit": null,
            "object_position": null,
            "order": null,
            "overflow": null,
            "overflow_x": null,
            "overflow_y": null,
            "padding": null,
            "right": null,
            "top": null,
            "visibility": null,
            "width": null
          }
        },
        "ceaac8f42d9841b481ff03736be0542b": {
          "model_module": "@jupyter-widgets/controls",
          "model_name": "ProgressStyleModel",
          "model_module_version": "1.5.0",
          "state": {
            "_model_module": "@jupyter-widgets/controls",
            "_model_module_version": "1.5.0",
            "_model_name": "ProgressStyleModel",
            "_view_count": null,
            "_view_module": "@jupyter-widgets/base",
            "_view_module_version": "1.2.0",
            "_view_name": "StyleView",
            "bar_color": null,
            "description_width": ""
          }
        },
        "a41e7a345db34a1cb39e1517427bbd82": {
          "model_module": "@jupyter-widgets/base",
          "model_name": "LayoutModel",
          "model_module_version": "1.2.0",
          "state": {
            "_model_module": "@jupyter-widgets/base",
            "_model_module_version": "1.2.0",
            "_model_name": "LayoutModel",
            "_view_count": null,
            "_view_module": "@jupyter-widgets/base",
            "_view_module_version": "1.2.0",
            "_view_name": "LayoutView",
            "align_content": null,
            "align_items": null,
            "align_self": null,
            "border": null,
            "bottom": null,
            "display": null,
            "flex": null,
            "flex_flow": null,
            "grid_area": null,
            "grid_auto_columns": null,
            "grid_auto_flow": null,
            "grid_auto_rows": null,
            "grid_column": null,
            "grid_gap": null,
            "grid_row": null,
            "grid_template_areas": null,
            "grid_template_columns": null,
            "grid_template_rows": null,
            "height": null,
            "justify_content": null,
            "justify_items": null,
            "left": null,
            "margin": null,
            "max_height": null,
            "max_width": null,
            "min_height": null,
            "min_width": null,
            "object_fit": null,
            "object_position": null,
            "order": null,
            "overflow": null,
            "overflow_x": null,
            "overflow_y": null,
            "padding": null,
            "right": null,
            "top": null,
            "visibility": null,
            "width": null
          }
        },
        "f34b507b0dde49f2b3855ef846d82bd3": {
          "model_module": "@jupyter-widgets/controls",
          "model_name": "DescriptionStyleModel",
          "model_module_version": "1.5.0",
          "state": {
            "_model_module": "@jupyter-widgets/controls",
            "_model_module_version": "1.5.0",
            "_model_name": "DescriptionStyleModel",
            "_view_count": null,
            "_view_module": "@jupyter-widgets/base",
            "_view_module_version": "1.2.0",
            "_view_name": "StyleView",
            "description_width": ""
          }
        }
      }
    }
  },
  "cells": [
    {
      "cell_type": "markdown",
      "source": [
        "# **Import and Install**"
      ],
      "metadata": {
        "id": "DhyE9siDfopm"
      }
    },
    {
      "cell_type": "code",
      "execution_count": 1,
      "metadata": {
        "colab": {
          "base_uri": "https://localhost:8080/"
        },
        "id": "Qe613V6FGwJM",
        "outputId": "f0706e4d-b9a8-4baf-874f-13a299b5a393"
      },
      "outputs": [
        {
          "output_type": "stream",
          "name": "stdout",
          "text": [
            "Requirement already satisfied: torch in /usr/local/lib/python3.7/dist-packages (1.11.0+cu113)\n",
            "Requirement already satisfied: torchvision in /usr/local/lib/python3.7/dist-packages (0.12.0+cu113)\n",
            "Collecting transformers\n",
            "  Downloading transformers-4.18.0-py3-none-any.whl (4.0 MB)\n",
            "\u001b[K     |████████████████████████████████| 4.0 MB 5.1 MB/s \n",
            "\u001b[?25hRequirement already satisfied: typing-extensions in /usr/local/lib/python3.7/dist-packages (from torch) (4.2.0)\n",
            "Requirement already satisfied: numpy in /usr/local/lib/python3.7/dist-packages (from torchvision) (1.21.6)\n",
            "Requirement already satisfied: pillow!=8.3.*,>=5.3.0 in /usr/local/lib/python3.7/dist-packages (from torchvision) (7.1.2)\n",
            "Requirement already satisfied: requests in /usr/local/lib/python3.7/dist-packages (from torchvision) (2.23.0)\n",
            "Collecting pyyaml>=5.1\n",
            "  Downloading PyYAML-6.0-cp37-cp37m-manylinux_2_5_x86_64.manylinux1_x86_64.manylinux_2_12_x86_64.manylinux2010_x86_64.whl (596 kB)\n",
            "\u001b[K     |████████████████████████████████| 596 kB 56.6 MB/s \n",
            "\u001b[?25hRequirement already satisfied: filelock in /usr/local/lib/python3.7/dist-packages (from transformers) (3.6.0)\n",
            "Requirement already satisfied: importlib-metadata in /usr/local/lib/python3.7/dist-packages (from transformers) (4.11.3)\n",
            "Requirement already satisfied: regex!=2019.12.17 in /usr/local/lib/python3.7/dist-packages (from transformers) (2019.12.20)\n",
            "Requirement already satisfied: tqdm>=4.27 in /usr/local/lib/python3.7/dist-packages (from transformers) (4.64.0)\n",
            "Collecting huggingface-hub<1.0,>=0.1.0\n",
            "  Downloading huggingface_hub-0.5.1-py3-none-any.whl (77 kB)\n",
            "\u001b[K     |████████████████████████████████| 77 kB 8.0 MB/s \n",
            "\u001b[?25hRequirement already satisfied: packaging>=20.0 in /usr/local/lib/python3.7/dist-packages (from transformers) (21.3)\n",
            "Collecting tokenizers!=0.11.3,<0.13,>=0.11.1\n",
            "  Downloading tokenizers-0.12.1-cp37-cp37m-manylinux_2_12_x86_64.manylinux2010_x86_64.whl (6.6 MB)\n",
            "\u001b[K     |████████████████████████████████| 6.6 MB 45.0 MB/s \n",
            "\u001b[?25hCollecting sacremoses\n",
            "  Downloading sacremoses-0.0.53.tar.gz (880 kB)\n",
            "\u001b[K     |████████████████████████████████| 880 kB 59.5 MB/s \n",
            "\u001b[?25hRequirement already satisfied: pyparsing!=3.0.5,>=2.0.2 in /usr/local/lib/python3.7/dist-packages (from packaging>=20.0->transformers) (3.0.8)\n",
            "Requirement already satisfied: zipp>=0.5 in /usr/local/lib/python3.7/dist-packages (from importlib-metadata->transformers) (3.8.0)\n",
            "Requirement already satisfied: idna<3,>=2.5 in /usr/local/lib/python3.7/dist-packages (from requests->torchvision) (2.10)\n",
            "Requirement already satisfied: urllib3!=1.25.0,!=1.25.1,<1.26,>=1.21.1 in /usr/local/lib/python3.7/dist-packages (from requests->torchvision) (1.24.3)\n",
            "Requirement already satisfied: chardet<4,>=3.0.2 in /usr/local/lib/python3.7/dist-packages (from requests->torchvision) (3.0.4)\n",
            "Requirement already satisfied: certifi>=2017.4.17 in /usr/local/lib/python3.7/dist-packages (from requests->torchvision) (2021.10.8)\n",
            "Requirement already satisfied: six in /usr/local/lib/python3.7/dist-packages (from sacremoses->transformers) (1.15.0)\n",
            "Requirement already satisfied: click in /usr/local/lib/python3.7/dist-packages (from sacremoses->transformers) (7.1.2)\n",
            "Requirement already satisfied: joblib in /usr/local/lib/python3.7/dist-packages (from sacremoses->transformers) (1.1.0)\n",
            "Building wheels for collected packages: sacremoses\n",
            "  Building wheel for sacremoses (setup.py) ... \u001b[?25l\u001b[?25hdone\n",
            "  Created wheel for sacremoses: filename=sacremoses-0.0.53-py3-none-any.whl size=895260 sha256=c30825ef1dbc83467b492db93c7052000fd442c3ac89d8a5de4160cefd9be4b0\n",
            "  Stored in directory: /root/.cache/pip/wheels/87/39/dd/a83eeef36d0bf98e7a4d1933a4ad2d660295a40613079bafc9\n",
            "Successfully built sacremoses\n",
            "Installing collected packages: pyyaml, tokenizers, sacremoses, huggingface-hub, transformers\n",
            "  Attempting uninstall: pyyaml\n",
            "    Found existing installation: PyYAML 3.13\n",
            "    Uninstalling PyYAML-3.13:\n",
            "      Successfully uninstalled PyYAML-3.13\n",
            "Successfully installed huggingface-hub-0.5.1 pyyaml-6.0 sacremoses-0.0.53 tokenizers-0.12.1 transformers-4.18.0\n"
          ]
        }
      ],
      "source": [
        "!pip install torch torchvision transformers"
      ]
    },
    {
      "cell_type": "code",
      "source": [
        "import torch\n",
        "import torch.nn as nn\n",
        "import pandas as pd\n",
        "import nltk\n",
        "import pickle\n",
        "import matplotlib.pyplot as plt\n",
        "from torch.utils.data import Dataset, DataLoader\n",
        "from transformers import BertTokenizer, BertConfig, BertForSequenceClassification\n",
        "from transformers import AdamW\n",
        "from sklearn.metrics import precision_recall_fscore_support, accuracy_score"
      ],
      "metadata": {
        "id": "iS6mkvWBIH8j"
      },
      "execution_count": 35,
      "outputs": []
    },
    {
      "cell_type": "code",
      "source": [
        "nltk.download(\"stopwords\")"
      ],
      "metadata": {
        "colab": {
          "base_uri": "https://localhost:8080/"
        },
        "id": "5kztvTamgU0T",
        "outputId": "db491f5b-ef68-491a-f108-b67b959b3047"
      },
      "execution_count": 3,
      "outputs": [
        {
          "output_type": "stream",
          "name": "stdout",
          "text": [
            "[nltk_data] Downloading package stopwords to /root/nltk_data...\n",
            "[nltk_data]   Unzipping corpora/stopwords.zip.\n"
          ]
        },
        {
          "output_type": "execute_result",
          "data": {
            "text/plain": [
              "True"
            ]
          },
          "metadata": {},
          "execution_count": 3
        }
      ]
    },
    {
      "cell_type": "code",
      "source": [
        "from LoadData import LoadDataAndProcessing\n",
        "from RumourDataSet import RumourDataset"
      ],
      "metadata": {
        "id": "i6_o16fkCTEj"
      },
      "execution_count": 4,
      "outputs": []
    },
    {
      "cell_type": "code",
      "source": [
        "from google.colab import drive\n",
        "drive.mount('/content/drive')"
      ],
      "metadata": {
        "colab": {
          "base_uri": "https://localhost:8080/"
        },
        "id": "ee4YWhO-G4Hy",
        "outputId": "95552705-2527-4298-8b57-f9394d9a307a"
      },
      "execution_count": 6,
      "outputs": [
        {
          "output_type": "stream",
          "name": "stdout",
          "text": [
            "Mounted at /content/drive\n"
          ]
        }
      ]
    },
    {
      "cell_type": "code",
      "source": [
        "!mkdir \"/content/output\""
      ],
      "metadata": {
        "id": "cQ5dggn0KOXx"
      },
      "execution_count": 54,
      "outputs": []
    },
    {
      "cell_type": "markdown",
      "source": [
        "# **Build The Model**"
      ],
      "metadata": {
        "id": "5C8UU9gkfzMC"
      }
    },
    {
      "cell_type": "code",
      "source": [
        "# Parameters setting\n",
        "\n",
        "BATCH_SIZE = 8\n",
        "NUM_WORKERS = 2\n",
        "MAX_LEN = 450\n",
        "num_labels = 2\n",
        "hidden_dropout_prob = 0.5\n",
        "learning_rate = 2e-5\n",
        "weight_decay = 1e-2\n",
        "\n",
        "gpu = 0 # gpu ID\n",
        "device = torch.device(\"cuda:0\" if torch.cuda.is_available() else \"cpu\")"
      ],
      "metadata": {
        "id": "10vmWBICG4kN"
      },
      "execution_count": 7,
      "outputs": []
    },
    {
      "cell_type": "code",
      "source": [
        "# If the inputs are already processed on local\n",
        "\n",
        "train_input_file = \"/content/drive/MyDrive/NLP/data/train_input.pickle\"\n",
        "dev_input_file = \"/content/drive/MyDrive/NLP/data/dev_input.pickle\"\n",
        "\n",
        "train_input = pickle.load(open(train_input_file, \"rb\", -1))\n",
        "dev_input = pickle.load(open(dev_input_file, \"rb\", -1))\n",
        "\n",
        "#Creating instances of training and development set\n",
        "#maxlen sets the maximum length a sentence can have\n",
        "#any sentence longer than this length is truncated to the maxlen size\n",
        "train_set = RumourDataset(data = train_input, maxlen = MAX_LEN)\n",
        "dev_set = RumourDataset(data = dev_input, maxlen = MAX_LEN)\n",
        "\n",
        "#Creating intsances of training and development dataloaders\n",
        "train_loader = DataLoader(train_set, batch_size = BATCH_SIZE, \n",
        "                          collate_fn=train_set.create_mini_batch, \n",
        "                          num_workers = NUM_WORKERS, shuffle=True)\n",
        "dev_loader = DataLoader(dev_set, batch_size = BATCH_SIZE, \n",
        "                        collate_fn=dev_set.create_mini_batch, \n",
        "                        num_workers = NUM_WORKERS, shuffle=True)\n",
        "\n",
        "print(\"Done preprocessing training and development data.\")"
      ],
      "metadata": {
        "id": "X0YL-HbbgB-B",
        "colab": {
          "base_uri": "https://localhost:8080/",
          "height": 130,
          "referenced_widgets": [
            "c4d374b854214da49aaa2cfc6087652d",
            "4b45c5dd615641e8843fe6b0520edd3b",
            "14b001e2a8394ee28aff1b97f7e011c9",
            "a8025ded5c3145ab940a7c593955d03d",
            "4e69b2649c324ef1a0c7c3f7459a7dbe",
            "10744f6d37f24f2cbcec4631d58ba88e",
            "4c01d19e57fe4be7b0357dcae0b4a5ea",
            "8bd661a595c246f9853a215f71576c7f",
            "57b3d91ed1bb466a92160793336f8c29",
            "cc1862101af7495d94e7d9484b58ad92",
            "c4bc0fea65f24b229c0b49aae39ebb02",
            "a40c35e0c62549e4847cc956e1859fd0",
            "7486272ff9bc4339ae5f2848659ad357",
            "dfb27922313e40ec93a70fc0a4b45881",
            "be277f7b5fb447e8bd35dd78979d5dc8",
            "83bfea118c3d44f3aaa4d3bc3506698a",
            "67247cfc989149b294a0c8eef6b96fda",
            "02f4e1640cad4deeb5dfc38fcb03239e",
            "c01d9b4195a545cfbf501dc572f43b1d",
            "1bae52755cee4caaa9a107162bec68b8",
            "9ff4330944064f7691e726501a5cb07e",
            "c240440de2ca4143a25b40d9a0bd0d0d",
            "c3f2a666c54345f4b15fc251356e6a15",
            "da99cec398b5401883f8f14ba29cbb89",
            "b7b749df83b74caa92c6d10baf4470cb",
            "db66fc9c8b7b4655a44909f6fd3fe016",
            "f54da9bf0dc94a07bdc1c8d054ad69c5",
            "ef635f2474784b69a46595f318c2131d",
            "2708f5db4b7d4489b1da24a49c5b335f",
            "00de108ed8f245d69c528a0429852556",
            "3b0b11a4d7364b54b094e1a6c52faae3",
            "2e97fe17e14044d48d08c0de25bccab6",
            "6a0a929119c541daa82b314068c373f9"
          ]
        },
        "outputId": "957efff0-1d2d-4788-ccc3-56e2e2f354a6"
      },
      "execution_count": 8,
      "outputs": [
        {
          "output_type": "display_data",
          "data": {
            "text/plain": [
              "Downloading:   0%|          | 0.00/226k [00:00<?, ?B/s]"
            ],
            "application/vnd.jupyter.widget-view+json": {
              "version_major": 2,
              "version_minor": 0,
              "model_id": "c4d374b854214da49aaa2cfc6087652d"
            }
          },
          "metadata": {}
        },
        {
          "output_type": "display_data",
          "data": {
            "text/plain": [
              "Downloading:   0%|          | 0.00/28.0 [00:00<?, ?B/s]"
            ],
            "application/vnd.jupyter.widget-view+json": {
              "version_major": 2,
              "version_minor": 0,
              "model_id": "a40c35e0c62549e4847cc956e1859fd0"
            }
          },
          "metadata": {}
        },
        {
          "output_type": "display_data",
          "data": {
            "text/plain": [
              "Downloading:   0%|          | 0.00/570 [00:00<?, ?B/s]"
            ],
            "application/vnd.jupyter.widget-view+json": {
              "version_major": 2,
              "version_minor": 0,
              "model_id": "c3f2a666c54345f4b15fc251356e6a15"
            }
          },
          "metadata": {}
        },
        {
          "output_type": "stream",
          "name": "stdout",
          "text": [
            "Done preprocessing training and development data.\n"
          ]
        }
      ]
    },
    {
      "cell_type": "code",
      "source": [
        "# # else\n",
        "\n",
        "# train_file = \"/content/drive/MyDrive/NLP/data/train_data_prepared.json\"\n",
        "# dev_file = \"/content/drive/MyDrive/NLP/data/dev_data_prepared.json\"\n",
        "\n",
        "# load_twitter_train_data = LoadDataAndProcessing(train_file)\n",
        "# load_twitter_dev_data = LoadDataAndProcessing(dev_file)\n",
        "\n",
        "# train_input = load_twitter_train_data.prepareDataset()\n",
        "# dev_input = load_twitter_dev_data.prepareDataset()\n",
        "\n",
        "# train_set = RumourDataset(data = train_input, maxlen = MAX_LEN)\n",
        "# dev_set = RumourDataset(data = dev_input, maxlen = MAX_LEN)\n",
        "\n",
        "# train_loader = DataLoader(train_set, batch_size = BATCH_SIZE, \n",
        "#                           collate_fn=train_set.create_mini_batch, \n",
        "#                           num_workers = NUM_WORKERS, shuffle=True)\n",
        "# dev_loader = DataLoader(dev_set, batch_size = BATCH_SIZE, \n",
        "#                         collate_fn=dev_set.create_mini_batch, \n",
        "#                         num_workers = NUM_WORKERS, shuffle=True)\n",
        "\n",
        "# print(\"Done preprocessing training and development data.\")"
      ],
      "metadata": {
        "id": "kUO7BonWG4RE"
      },
      "execution_count": 9,
      "outputs": []
    },
    {
      "cell_type": "code",
      "source": [
        "# Load the model\n",
        "print(\"Creating the rumour classifier, initialised with pretrained BERT-BASE parameters...\")\n",
        "config = BertConfig.from_pretrained(\"bert-base-uncased\", \n",
        "                                    num_labels=num_labels, hidden_dropout_prob=hidden_dropout_prob)\n",
        "model = BertForSequenceClassification.from_pretrained(\"bert-base-uncased\", config=config)\n",
        "model.to(device)\n",
        "print(\"Done creating the rumour classifier.\")"
      ],
      "metadata": {
        "colab": {
          "base_uri": "https://localhost:8080/",
          "height": 191,
          "referenced_widgets": [
            "f62b4d6837484883b967a874a91fe5ab",
            "4f4da374d55749ac94a222fd7e3ef270",
            "d90b1b3dc7c9448bbf904ec6a9e36b8e",
            "f6ce964296b942e4ad902ce29af0264b",
            "e5547e2897d44235a033eacd5847e8f6",
            "9e3b42cbc8bd4e869ddf943f8fdce2cf",
            "4276277df85542bcbb77205cab9f542c",
            "e53cfadf0f1142f8a276f475992f26f2",
            "ceaac8f42d9841b481ff03736be0542b",
            "a41e7a345db34a1cb39e1517427bbd82",
            "f34b507b0dde49f2b3855ef846d82bd3"
          ]
        },
        "id": "D8flfqnCG4nl",
        "outputId": "ea10610c-f170-477d-85e4-0de01bd1726c"
      },
      "execution_count": 10,
      "outputs": [
        {
          "output_type": "stream",
          "name": "stdout",
          "text": [
            "Creating the rumour classifier, initialised with pretrained BERT-BASE parameters...\n"
          ]
        },
        {
          "output_type": "display_data",
          "data": {
            "text/plain": [
              "Downloading:   0%|          | 0.00/420M [00:00<?, ?B/s]"
            ],
            "application/vnd.jupyter.widget-view+json": {
              "version_major": 2,
              "version_minor": 0,
              "model_id": "f62b4d6837484883b967a874a91fe5ab"
            }
          },
          "metadata": {}
        },
        {
          "output_type": "stream",
          "name": "stderr",
          "text": [
            "Some weights of the model checkpoint at bert-base-uncased were not used when initializing BertForSequenceClassification: ['cls.predictions.transform.LayerNorm.bias', 'cls.seq_relationship.weight', 'cls.predictions.transform.dense.weight', 'cls.predictions.transform.dense.bias', 'cls.predictions.decoder.weight', 'cls.predictions.bias', 'cls.seq_relationship.bias', 'cls.predictions.transform.LayerNorm.weight']\n",
            "- This IS expected if you are initializing BertForSequenceClassification from the checkpoint of a model trained on another task or with another architecture (e.g. initializing a BertForSequenceClassification model from a BertForPreTraining model).\n",
            "- This IS NOT expected if you are initializing BertForSequenceClassification from the checkpoint of a model that you expect to be exactly identical (initializing a BertForSequenceClassification model from a BertForSequenceClassification model).\n",
            "Some weights of BertForSequenceClassification were not initialized from the model checkpoint at bert-base-uncased and are newly initialized: ['classifier.weight', 'classifier.bias']\n",
            "You should probably TRAIN this model on a down-stream task to be able to use it for predictions and inference.\n"
          ]
        },
        {
          "output_type": "stream",
          "name": "stdout",
          "text": [
            "Done creating the rumour classifier.\n"
          ]
        }
      ]
    },
    {
      "cell_type": "code",
      "source": [
        "# Prepare optimizer and schedule (linear warmup and decay)\n",
        "# set the bias and LayerNorm.weight \n",
        "no_decay = ['bias', 'LayerNorm.weight']\n",
        "optimizer_grouped_parameters = [\n",
        "        {'params': [p for n, p in model.named_parameters() if not \n",
        "                    any(nd in n for nd in no_decay)], 'weight_decay': weight_decay},\n",
        "        {'params': [p for n, p in model.named_parameters() if \n",
        "                    any(nd in n for nd in no_decay)], 'weight_decay': 0.0}\n",
        "]\n",
        "\n",
        "#optimizer = AdamW(model.parameters(), lr=learning_rate)\n",
        "optimizer = torch.optim.AdamW(optimizer_grouped_parameters, lr=learning_rate)\n",
        "criterion = nn.CrossEntropyLoss()"
      ],
      "metadata": {
        "id": "Z65P3aRdG4qm"
      },
      "execution_count": 11,
      "outputs": []
    },
    {
      "cell_type": "markdown",
      "source": [
        "# **Trian and Evaluate the Model**"
      ],
      "metadata": {
        "id": "YhvBRVaffQ65"
      }
    },
    {
      "cell_type": "code",
      "source": [
        "def train(model, dataloader, optimizer, criterion, device):\n",
        "    model.train()\n",
        "    epoch_loss = 0\n",
        "    epoch_acc = 0\n",
        "    for i, batch in enumerate(dataloader):\n",
        "\n",
        "        tokens_tensors, segments_tensors, masks_tensors, labels = [t.to(device) for t in batch]\n",
        "\n",
        "        optimizer.zero_grad()\n",
        "\n",
        "        output = model(input_ids=tokens_tensors, \n",
        "                       token_type_ids=segments_tensors, \n",
        "                       attention_mask=masks_tensors, labels=labels)\n",
        "\n",
        "        y_pred_prob = output[1]\n",
        "        y_pred_label = y_pred_prob.argmax(dim=1)\n",
        "\n",
        "        loss = criterion(y_pred_prob.view(-1, 2), labels.view(-1))\n",
        "\n",
        "        acc = ((y_pred_label == labels.view(-1)).sum()).item()\n",
        "\n",
        "        loss.backward()\n",
        "        optimizer.step()\n",
        "\n",
        "        epoch_loss += loss.item()\n",
        "        epoch_acc += acc\n",
        "\n",
        "        if i % 200 == 0:\n",
        "            print(\"Iteration {} complete. Loss:{}, Accuracy:{}\".format(\n",
        "                i, epoch_loss / (i+1), epoch_acc / ((i+1)*len(labels))))\n",
        "\n",
        "    return epoch_loss / len(dataloader), epoch_acc / len(dataloader.dataset)\n",
        "\n",
        "def evaluate(model, iterator, device):\n",
        "    model.eval()\n",
        "    epoch_loss = 0\n",
        "    epoch_acc = 0\n",
        "    TP, TN, FN, FP = 0, 0, 0 ,0\n",
        "\n",
        "    with torch.no_grad():\n",
        "        for _, batch in enumerate(iterator):\n",
        "            tokens_tensors, segments_tensors, masks_tensors, labels = [t.to(device) for t in batch]\n",
        "\n",
        "            output = model(input_ids=tokens_tensors, \n",
        "                           token_type_ids=segments_tensors, \n",
        "                           attention_mask=masks_tensors, labels=labels)\n",
        "            y_pred_label = output[1].argmax(dim=1)\n",
        "            loss = output[0]\n",
        "            acc = ((y_pred_label == labels.view(-1)).sum()).item()\n",
        "\n",
        "            epoch_loss += loss.item()\n",
        "            epoch_acc += acc\n",
        "\n",
        "    return epoch_loss / len(iterator), epoch_acc / len(iterator.dataset)"
      ],
      "metadata": {
        "id": "ahdLdy_WnqmE"
      },
      "execution_count": 17,
      "outputs": []
    },
    {
      "cell_type": "code",
      "source": [
        "train_acc_list = []\n",
        "train_loss_list = []\n",
        "dev_acc_list = []\n",
        "dev_loss_list = []\n",
        "\n",
        "best_acc = 0\n",
        "EPOCHS = 20\n",
        "best_ep = 0\n",
        "for ep in range(EPOCHS):\n",
        "    print(\"EPOCH {} ------------------------------------------------------\".format(ep+1))\n",
        "    train_loss, train_acc = train(model, train_loader, optimizer, criterion, device)\n",
        "    print(\"EPOCH {}:\".format(ep+1), \"Mean train loss: \", train_loss, \"\\t\", \"Mean train acc:\", train_acc)\n",
        "    dev_loss, dev_acc = evaluate(model, dev_loader, device)\n",
        "    print(\"EPOCH {}:\".format(ep+1), \"Mean dev loss: \", dev_loss, \"\\t\", \"Mean dev acc:\", dev_acc)\n",
        "\n",
        "    train_acc_list.append(train_acc)\n",
        "    train_loss_list.append(train_loss)\n",
        "    dev_acc_list.append(dev_acc)\n",
        "    dev_loss_list.append(dev_loss)\n",
        "\n",
        "    if dev_acc > best_acc:\n",
        "      print(\"Best development accuracy improved from {} to {}, saving model...\".format(best_acc, dev_acc))\n",
        "      best_acc = dev_acc\n",
        "      best_ep = ep\n",
        "      torch.save(model.state_dict(), 'sstcls_{}.dat'.format(ep))\n",
        "    \n",
        "    print(\"*\"*80)\n"
      ],
      "metadata": {
        "colab": {
          "base_uri": "https://localhost:8080/"
        },
        "id": "T5utQOyEnqqW",
        "outputId": "198b7d22-8898-4536-824d-eeb04d30ad03"
      },
      "execution_count": 18,
      "outputs": [
        {
          "output_type": "stream",
          "name": "stdout",
          "text": [
            "EPOCH 1 ------------------------------------------------------\n",
            "Iteration 0 complete. Loss:0.7337446212768555, Accuracy:0.375\n",
            "EPOCH 1: Mean train loss:  0.47647446561224605 \t Mean train acc: 0.7884984025559105\n",
            "EPOCH 1: Mean dev loss:  0.4619450867176056 \t Mean dev acc: 0.7862453531598513\n",
            "Best development accuracy improved from 0 to 0.7862453531598513, saving model...\n",
            "********************************************************************************\n",
            "EPOCH 2 ------------------------------------------------------\n",
            "Iteration 0 complete. Loss:0.5512163639068604, Accuracy:0.625\n",
            "EPOCH 2: Mean train loss:  0.4084260028083714 \t Mean train acc: 0.8012779552715655\n",
            "EPOCH 2: Mean dev loss:  0.4278174095841892 \t Mean dev acc: 0.7843866171003717\n",
            "********************************************************************************\n",
            "EPOCH 3 ------------------------------------------------------\n",
            "Iteration 0 complete. Loss:0.31160420179367065, Accuracy:0.75\n",
            "EPOCH 3: Mean train loss:  0.4013385520677786 \t Mean train acc: 0.8044728434504792\n",
            "EPOCH 3: Mean dev loss:  0.395329174147371 \t Mean dev acc: 0.7973977695167286\n",
            "Best development accuracy improved from 0.7862453531598513 to 0.7973977695167286, saving model...\n",
            "********************************************************************************\n",
            "EPOCH 4 ------------------------------------------------------\n",
            "Iteration 0 complete. Loss:0.2395934909582138, Accuracy:0.875\n",
            "EPOCH 4: Mean train loss:  0.3100713594170401 \t Mean train acc: 0.8549520766773163\n",
            "EPOCH 4: Mean dev loss:  0.32068037827882695 \t Mean dev acc: 0.845724907063197\n",
            "Best development accuracy improved from 0.7973977695167286 to 0.845724907063197, saving model...\n",
            "********************************************************************************\n",
            "EPOCH 5 ------------------------------------------------------\n",
            "Iteration 0 complete. Loss:0.10960283875465393, Accuracy:1.0\n",
            "EPOCH 5: Mean train loss:  0.21567208709537375 \t Mean train acc: 0.9156549520766774\n",
            "EPOCH 5: Mean dev loss:  0.278469389592133 \t Mean dev acc: 0.8921933085501859\n",
            "Best development accuracy improved from 0.845724907063197 to 0.8921933085501859, saving model...\n",
            "********************************************************************************\n",
            "EPOCH 6 ------------------------------------------------------\n",
            "Iteration 0 complete. Loss:0.09861139953136444, Accuracy:1.0\n",
            "EPOCH 6: Mean train loss:  0.14577472594338564 \t Mean train acc: 0.949520766773163\n",
            "EPOCH 6: Mean dev loss:  0.3279226897421348 \t Mean dev acc: 0.9089219330855018\n",
            "Best development accuracy improved from 0.8921933085501859 to 0.9089219330855018, saving model...\n",
            "********************************************************************************\n",
            "EPOCH 7 ------------------------------------------------------\n",
            "Iteration 0 complete. Loss:0.06507981568574905, Accuracy:1.0\n",
            "EPOCH 7: Mean train loss:  0.12015741521478346 \t Mean train acc: 0.9603833865814696\n",
            "EPOCH 7: Mean dev loss:  0.2696857278043514 \t Mean dev acc: 0.9182156133828996\n",
            "Best development accuracy improved from 0.9089219330855018 to 0.9182156133828996, saving model...\n",
            "********************************************************************************\n",
            "EPOCH 8 ------------------------------------------------------\n",
            "Iteration 0 complete. Loss:0.04519094526767731, Accuracy:1.0\n",
            "EPOCH 8: Mean train loss:  0.11888240252583458 \t Mean train acc: 0.9597444089456869\n",
            "EPOCH 8: Mean dev loss:  0.24078927022021482 \t Mean dev acc: 0.9256505576208178\n",
            "Best development accuracy improved from 0.9182156133828996 to 0.9256505576208178, saving model...\n",
            "********************************************************************************\n",
            "EPOCH 9 ------------------------------------------------------\n",
            "Iteration 0 complete. Loss:0.014111308380961418, Accuracy:1.0\n",
            "EPOCH 9: Mean train loss:  0.07068143478399903 \t Mean train acc: 0.9789137380191694\n",
            "EPOCH 9: Mean dev loss:  0.2464520349578165 \t Mean dev acc: 0.9386617100371747\n",
            "Best development accuracy improved from 0.9256505576208178 to 0.9386617100371747, saving model...\n",
            "********************************************************************************\n",
            "EPOCH 10 ------------------------------------------------------\n",
            "Iteration 0 complete. Loss:0.008119910955429077, Accuracy:1.0\n",
            "EPOCH 10: Mean train loss:  0.056891161542176744 \t Mean train acc: 0.9853035143769968\n",
            "EPOCH 10: Mean dev loss:  0.29951940450187337 \t Mean dev acc: 0.9405204460966543\n",
            "Best development accuracy improved from 0.9386617100371747 to 0.9405204460966543, saving model...\n",
            "********************************************************************************\n",
            "EPOCH 11 ------------------------------------------------------\n",
            "Iteration 0 complete. Loss:0.004854758270084858, Accuracy:1.0\n",
            "EPOCH 11: Mean train loss:  0.07743599826626822 \t Mean train acc: 0.9738019169329073\n",
            "EPOCH 11: Mean dev loss:  0.22632533243877867 \t Mean dev acc: 0.9442379182156134\n",
            "Best development accuracy improved from 0.9405204460966543 to 0.9442379182156134, saving model...\n",
            "********************************************************************************\n",
            "EPOCH 12 ------------------------------------------------------\n",
            "Iteration 0 complete. Loss:0.005551387555897236, Accuracy:1.0\n",
            "EPOCH 12: Mean train loss:  0.02384312192218055 \t Mean train acc: 0.9916932907348243\n",
            "EPOCH 12: Mean dev loss:  0.25776861442778576 \t Mean dev acc: 0.9460966542750929\n",
            "Best development accuracy improved from 0.9442379182156134 to 0.9460966542750929, saving model...\n",
            "********************************************************************************\n",
            "EPOCH 13 ------------------------------------------------------\n",
            "Iteration 0 complete. Loss:0.002150425687432289, Accuracy:1.0\n",
            "EPOCH 13: Mean train loss:  0.02485298040757735 \t Mean train acc: 0.994888178913738\n",
            "EPOCH 13: Mean dev loss:  0.31862700908095576 \t Mean dev acc: 0.9479553903345725\n",
            "Best development accuracy improved from 0.9460966542750929 to 0.9479553903345725, saving model...\n",
            "********************************************************************************\n",
            "EPOCH 14 ------------------------------------------------------\n",
            "Iteration 0 complete. Loss:0.0014528540195897222, Accuracy:1.0\n",
            "EPOCH 14: Mean train loss:  0.039005200753679824 \t Mean train acc: 0.9897763578274761\n",
            "EPOCH 14: Mean dev loss:  0.295721603292109 \t Mean dev acc: 0.9368029739776952\n",
            "********************************************************************************\n",
            "EPOCH 15 ------------------------------------------------------\n",
            "Iteration 0 complete. Loss:0.004587310366332531, Accuracy:1.0\n",
            "EPOCH 15: Mean train loss:  0.039986040063644285 \t Mean train acc: 0.984664536741214\n",
            "EPOCH 15: Mean dev loss:  0.26364840105816256 \t Mean dev acc: 0.9516728624535316\n",
            "Best development accuracy improved from 0.9479553903345725 to 0.9516728624535316, saving model...\n",
            "********************************************************************************\n",
            "EPOCH 16 ------------------------------------------------------\n",
            "Iteration 0 complete. Loss:0.0022627944126725197, Accuracy:1.0\n",
            "EPOCH 16: Mean train loss:  0.014477352241389168 \t Mean train acc: 0.9968051118210862\n",
            "EPOCH 16: Mean dev loss:  0.27550924979389974 \t Mean dev acc: 0.9572490706319703\n",
            "Best development accuracy improved from 0.9516728624535316 to 0.9572490706319703, saving model...\n",
            "********************************************************************************\n",
            "EPOCH 17 ------------------------------------------------------\n",
            "Iteration 0 complete. Loss:0.0008662933250889182, Accuracy:1.0\n",
            "EPOCH 17: Mean train loss:  0.019743054156365084 \t Mean train acc: 0.9936102236421726\n",
            "EPOCH 17: Mean dev loss:  0.24668803639660303 \t Mean dev acc: 0.9535315985130112\n",
            "********************************************************************************\n",
            "EPOCH 18 ------------------------------------------------------\n",
            "Iteration 0 complete. Loss:0.0009084170451387763, Accuracy:1.0\n",
            "EPOCH 18: Mean train loss:  0.010247006785624652 \t Mean train acc: 0.9968051118210862\n",
            "EPOCH 18: Mean dev loss:  0.2800588694338812 \t Mean dev acc: 0.9535315985130112\n",
            "********************************************************************************\n",
            "EPOCH 19 ------------------------------------------------------\n",
            "Iteration 0 complete. Loss:0.0007299731369130313, Accuracy:1.0\n",
            "EPOCH 19: Mean train loss:  0.011303682131627432 \t Mean train acc: 0.9955271565495207\n",
            "EPOCH 19: Mean dev loss:  0.2815336958740184 \t Mean dev acc: 0.9553903345724907\n",
            "********************************************************************************\n",
            "EPOCH 20 ------------------------------------------------------\n",
            "Iteration 0 complete. Loss:0.0007523603271692991, Accuracy:1.0\n",
            "EPOCH 20: Mean train loss:  0.013321361513701458 \t Mean train acc: 0.9961661341853035\n",
            "EPOCH 20: Mean dev loss:  0.25241057490240887 \t Mean dev acc: 0.949814126394052\n",
            "********************************************************************************\n"
          ]
        }
      ]
    },
    {
      "cell_type": "code",
      "source": [
        "epochs = range(1, EPOCHS+1)\n",
        "plt.plot(epochs, train_acc_list, 'b', label = 'Train accuracy')\n",
        "plt.plot(epochs, dev_acc_list, 'r', label = 'Development accuracy')\n",
        "plt.title('Performance on Accuracy')\n",
        "plt.legend()\n",
        "plt.savefig(\"output/Accuracy.png\")\n",
        "plt.show()"
      ],
      "metadata": {
        "id": "NHzHPLlcefFW",
        "colab": {
          "base_uri": "https://localhost:8080/",
          "height": 281
        },
        "outputId": "b52002df-ee98-452a-a63b-f76ccdb07550"
      },
      "execution_count": 58,
      "outputs": [
        {
          "output_type": "display_data",
          "data": {
            "text/plain": [
              "<Figure size 432x288 with 1 Axes>"
            ],
            "image/png": "[encoded data removed]"
          },
          "metadata": {
            "needs_background": "light"
          }
        }
      ]
    },
    {
      "cell_type": "code",
      "source": [
        "epochs = range(1, EPOCHS+1)\n",
        "plt.plot(epochs, train_loss_list, 'b', label = 'Train loss')\n",
        "plt.plot(epochs, dev_loss_list, 'r', label = 'Development loss')\n",
        "plt.title('Performance on Loss')\n",
        "plt.legend()\n",
        "plt.savefig(\"output/Loss.png\")\n",
        "plt.show()"
      ],
      "metadata": {
        "id": "e5opr5kcOXqm",
        "colab": {
          "base_uri": "https://localhost:8080/",
          "height": 281
        },
        "outputId": "e076f1e9-ce3c-4bf4-c47f-1b629ca56b83"
      },
      "execution_count": 59,
      "outputs": [
        {
          "output_type": "display_data",
          "data": {
            "text/plain": [
              "<Figure size 432x288 with 1 Axes>"
            ],
            "image/png": "[encoded data removed]"
          },
          "metadata": {
            "needs_background": "light"
          }
        }
      ]
    },
    {
      "cell_type": "markdown",
      "source": [
        "# **Devset Prediction**"
      ],
      "metadata": {
        "id": "Q_CLUY6Qh91W"
      }
    },
    {
      "cell_type": "code",
      "source": [
        "# If the inputs are already processed on local\n",
        "\n",
        "dev_to_predict_input_file = \"/content/drive/MyDrive/NLP/data/dev_to_predict_input.pickle\"\n",
        "\n",
        "dev_to_predict_input = pickle.load(open(dev_to_predict_input_file, \"rb\", -1))"
      ],
      "metadata": {
        "id": "cQNORP5riMla"
      },
      "execution_count": 23,
      "outputs": []
    },
    {
      "cell_type": "code",
      "source": [
        "# # else\n",
        "\n",
        "# dev_to_predict_input_file = \"/content/drive/MyDrive/NLP/data/dev_data_to_predict_input.json\"\n",
        "\n",
        "# load_twitter_dev_to_predict_data = LoadDataAndProcessing(dev_to_predict_input_file)\n",
        "\n",
        "# dev_to_predict_input = load_twitter_dev_to_predict_data.prepareDataset()"
      ],
      "metadata": {
        "id": "5j1WwTAIiMjJ"
      },
      "execution_count": 24,
      "outputs": []
    },
    {
      "cell_type": "code",
      "source": [
        "dev_to_predict_set = RumourDataset(data = dev_to_predict_input, maxlen = MAX_LEN)\n",
        "dev_to_predict_loader = DataLoader(dev_to_predict_set, collate_fn=dev_to_predict_set.create_mini_batch, \n",
        "                         batch_size = BATCH_SIZE, num_workers = NUM_WORKERS)"
      ],
      "metadata": {
        "id": "ODCnntDNiMgf"
      },
      "execution_count": 25,
      "outputs": []
    },
    {
      "cell_type": "code",
      "source": [
        "def predict(net, test_loader, model_file=None):\n",
        "    # load weight\n",
        "    if model_file != None:\n",
        "      net.load_state_dict(torch.load(model_file))\n",
        "    \n",
        "    predictions = []\n",
        "    \n",
        "    for _, batch in enumerate(test_loader):\n",
        "      tokens_tensors, segments_tensors, masks_tensors = [t.to(device) for t in batch]\n",
        "\n",
        "      output = model(input_ids=tokens_tensors, \n",
        "                      token_type_ids=segments_tensors, \n",
        "                      attention_mask=masks_tensors)\n",
        "      probs = output[0].argmax(dim=1)\n",
        "      soft_probs = (probs > 0.5).long()\n",
        "      predictions.extend(soft_probs.cpu().numpy().squeeze())\n",
        "    \n",
        "    return predictions"
      ],
      "metadata": {
        "id": "uHpxvjDhiMdR"
      },
      "execution_count": 26,
      "outputs": []
    },
    {
      "cell_type": "code",
      "source": [
        "model_file = \"sstcls_{}.dat\".format(best_ep)\n",
        "dev_predictions = predict(model, dev_to_predict_loader, model_file)\n",
        "len(dev_predictions)"
      ],
      "metadata": {
        "colab": {
          "base_uri": "https://localhost:8080/"
        },
        "id": "N2QNQF7Oi-9F",
        "outputId": "9f48fb18-b872-4fdb-da1f-8708c0e0b114"
      },
      "execution_count": 27,
      "outputs": [
        {
          "output_type": "execute_result",
          "data": {
            "text/plain": [
              "538"
            ]
          },
          "metadata": {},
          "execution_count": 27
        }
      ]
    },
    {
      "cell_type": "code",
      "source": [
        "dev_pred = pd.DataFrame(data=dev_predictions, columns=['Predicted']).reset_index()\n",
        "dev_pred = dev_pred.rename(columns={'index': 'Id'})\n",
        "print(dev_pred)\n",
        "\n",
        "dev_pred.to_csv('output/dev_prediction.csv', index = False)"
      ],
      "metadata": {
        "colab": {
          "base_uri": "https://localhost:8080/"
        },
        "id": "Z_UexAc0i-42",
        "outputId": "dfdc6ac0-3e2e-4220-e952-4929318b0ac6"
      },
      "execution_count": 55,
      "outputs": [
        {
          "output_type": "stream",
          "name": "stdout",
          "text": [
            "      Id  Predicted\n",
            "0      0          0\n",
            "1      1          0\n",
            "2      2          0\n",
            "3      3          0\n",
            "4      4          0\n",
            "..   ...        ...\n",
            "533  533          1\n",
            "534  534          0\n",
            "535  535          1\n",
            "536  536          0\n",
            "537  537          0\n",
            "\n",
            "[538 rows x 2 columns]\n"
          ]
        }
      ]
    },
    {
      "cell_type": "code",
      "source": [
        "dev_true_label_file = '/content/drive/MyDrive/NLP/data/valid.dev.label.txt'\n",
        "dev_true_label = pd.read_table(dev_true_label_file,sep='\\n', \n",
        "                               header=None)[0].apply(lambda x: 1 if x==\"rumour\" else 0)"
      ],
      "metadata": {
        "id": "eHb-PCUgnEDw"
      },
      "execution_count": 29,
      "outputs": []
    },
    {
      "cell_type": "code",
      "source": [
        "y_true = list(dev_true_label)\n",
        "y_pred = dev_predictions"
      ],
      "metadata": {
        "id": "JNVvNDSfnFfg"
      },
      "execution_count": 30,
      "outputs": []
    },
    {
      "cell_type": "code",
      "source": [
        "p, r, f1, _ = precision_recall_fscore_support(y_true, y_pred, pos_label=1, average=\"binary\")\n",
        "a = accuracy_score(y_true, y_pred)"
      ],
      "metadata": {
        "id": "OVCbRRjgnFbg"
      },
      "execution_count": 41,
      "outputs": []
    },
    {
      "cell_type": "code",
      "source": [
        "print(\"Performance on the rumour class:\")\n",
        "print(\"Accuracy =\", a)\n",
        "print(\"Precision =\", p)\n",
        "print(\"Recall    =\", r)\n",
        "print(\"F1        =\", f1)"
      ],
      "metadata": {
        "colab": {
          "base_uri": "https://localhost:8080/"
        },
        "id": "_zmsxBOznFX_",
        "outputId": "e683f0c9-4f50-452b-a8c4-08618d811136"
      },
      "execution_count": 42,
      "outputs": [
        {
          "output_type": "stream",
          "name": "stdout",
          "text": [
            "Performance on the rumour class:\n",
            "Accuracy = 0.9572490706319703\n",
            "Precision = 0.9107142857142857\n",
            "Recall    = 0.8869565217391304\n",
            "F1        = 0.8986784140969162\n"
          ]
        }
      ]
    },
    {
      "cell_type": "code",
      "source": [
        "with open('output/dev_performance.txt', 'w') as f:\n",
        "    f.write(\"Accuracy = {}\\n\".format(a) +\n",
        "            \"Precision = {}\\n\".format(p) +\n",
        "            \"Recall = {}\\n\".format(r) + \n",
        "            \"F1 = {}\\n\".format(f1))"
      ],
      "metadata": {
        "id": "kFT1yNFEnFUr"
      },
      "execution_count": 56,
      "outputs": []
    },
    {
      "cell_type": "markdown",
      "source": [
        "# **Testset Prediction**"
      ],
      "metadata": {
        "id": "Xhyo4ifwe9el"
      }
    },
    {
      "cell_type": "code",
      "source": [
        "# If the inputs are already processed on local\n",
        "\n",
        "test_input_file = \"/content/drive/MyDrive/NLP/data/test_input.pickle\"\n",
        "\n",
        "test_input = pickle.load(open(test_input_file, \"rb\", -1))"
      ],
      "metadata": {
        "id": "ZBRD9z8POXuz"
      },
      "execution_count": 45,
      "outputs": []
    },
    {
      "cell_type": "code",
      "source": [
        "# # else\n",
        "\n",
        "# test_file = \"/content/drive/MyDrive/NLP/data/test_data_prepared.json\"\n",
        "\n",
        "# load_twitter_test_data = LoadDataAndProcessing(test_file)\n",
        "\n",
        "# test_input = load_twitter_test_data.prepareDataset()"
      ],
      "metadata": {
        "id": "687x-9kJVMh6"
      },
      "execution_count": 46,
      "outputs": []
    },
    {
      "cell_type": "code",
      "source": [
        "test_set = RumourDataset(data = test_input, maxlen = MAX_LEN)\n",
        "test_loader = DataLoader(test_set, collate_fn=test_set.create_mini_batch, \n",
        "                         batch_size = BATCH_SIZE, num_workers = NUM_WORKERS)"
      ],
      "metadata": {
        "id": "O_59hIAWOXzF"
      },
      "execution_count": 47,
      "outputs": []
    },
    {
      "cell_type": "code",
      "source": [
        "model_file = \"sstcls_{}.dat\".format(best_ep)\n",
        "predictions = predict(model, test_loader, model_file)\n",
        "len(predictions)"
      ],
      "metadata": {
        "id": "VLah0WnQPJKG",
        "colab": {
          "base_uri": "https://localhost:8080/"
        },
        "outputId": "261e871a-804a-4070-9c43-8b2f5047ecea"
      },
      "execution_count": 48,
      "outputs": [
        {
          "output_type": "execute_result",
          "data": {
            "text/plain": [
              "558"
            ]
          },
          "metadata": {},
          "execution_count": 48
        }
      ]
    },
    {
      "cell_type": "code",
      "source": [
        "pred = pd.DataFrame(data=predictions, columns=['Predicted']).reset_index()\n",
        "pred = pred.rename(columns={'index': 'Id'})\n",
        "print(pred)\n",
        "\n",
        "pred.to_csv('output/test_prediction.csv', index = False)"
      ],
      "metadata": {
        "id": "bJxk6rSWOeDw",
        "colab": {
          "base_uri": "https://localhost:8080/"
        },
        "outputId": "75922bc8-7dc1-4b98-a6a3-1cb5e9fdc2a9"
      },
      "execution_count": 57,
      "outputs": [
        {
          "output_type": "stream",
          "name": "stdout",
          "text": [
            "      Id  Predicted\n",
            "0      0          0\n",
            "1      1          0\n",
            "2      2          0\n",
            "3      3          0\n",
            "4      4          0\n",
            "..   ...        ...\n",
            "553  553          0\n",
            "554  554          0\n",
            "555  555          1\n",
            "556  556          0\n",
            "557  557          0\n",
            "\n",
            "[558 rows x 2 columns]\n"
          ]
        }
      ]
    },
    {
      "cell_type": "code",
      "source": [
        "with open('output/Parameters.txt', 'w') as f:\n",
        "    f.write(\"BATCH_SIZE = {},\\n\".format(BATCH_SIZE) +\n",
        "            \"NUM_WORKERS = {},\\n\".format(NUM_WORKERS) +\n",
        "            \"MAX_LEN = {},\\n\".format(MAX_LEN) +\n",
        "            \"hidden_dropout_prob = {},\\n\".format(hidden_dropout_prob) +\n",
        "            \"learning_rate = {},\\n\".format(learning_rate) +\n",
        "            \"weight_decay = {}\".format(weight_decay))"
      ],
      "metadata": {
        "id": "wjCe2ByhZUX_"
      },
      "execution_count": 60,
      "outputs": []
    },
    {
      "cell_type": "markdown",
      "source": [
        "# **Covid set Prediction**"
      ],
      "metadata": {
        "id": "fa0x95C8kY0n"
      }
    },
    {
      "cell_type": "code",
      "source": [
        "# For task 2 covid data\n",
        "\n",
        "covid_input_file = \"/content/drive/MyDrive/NLP/data/covid_input.pickle\"\n",
        "\n",
        "covid_input = pickle.load(open(covid_input_file, \"rb\", -1))"
      ],
      "metadata": {
        "id": "zcSOCUSUnqIa"
      },
      "execution_count": null,
      "outputs": []
    },
    {
      "cell_type": "code",
      "source": [
        "covid_set = RumourDataset(data = covid_input, maxlen = MAX_LEN)\n",
        "covid_loader = DataLoader(covid_set, collate_fn=covid_set.create_mini_batch, \n",
        "                         batch_size = BATCH_SIZE, num_workers = NUM_WORKERS)"
      ],
      "metadata": {
        "id": "VKz__WU7ZUiN"
      },
      "execution_count": null,
      "outputs": []
    },
    {
      "cell_type": "code",
      "source": [
        "model_file = \"sstcls_{}.dat\".format(best_ep)\n",
        "predictions = predict(model, covid_loader, model_file)\n",
        "len(predictions)"
      ],
      "metadata": {
        "colab": {
          "base_uri": "https://localhost:8080/"
        },
        "id": "7XYkbHMQk6jz",
        "outputId": "603892a6-fb70-47cf-d07c-886a3b9c924c"
      },
      "execution_count": null,
      "outputs": [
        {
          "output_type": "execute_result",
          "data": {
            "text/plain": [
              "13454"
            ]
          },
          "metadata": {},
          "execution_count": 72
        }
      ]
    },
    {
      "cell_type": "code",
      "source": [
        "pred = pd.DataFrame(data=predictions, columns=['Predicted']).reset_index()\n",
        "pred = pred.rename(columns={'index': 'Id'})\n",
        "print(pred)\n",
        "\n",
        "pred.to_csv('covid_prediction.csv', index = False)"
      ],
      "metadata": {
        "colab": {
          "base_uri": "https://localhost:8080/"
        },
        "id": "Ea0XlU03k6g0",
        "outputId": "00c94dfd-af12-42a9-a348-e9e95ff80031"
      },
      "execution_count": null,
      "outputs": [
        {
          "output_type": "stream",
          "name": "stdout",
          "text": [
            "          Id  Predicted\n",
            "0          0          0\n",
            "1          1          0\n",
            "2          2          0\n",
            "3          3          0\n",
            "4          4          0\n",
            "...      ...        ...\n",
            "13449  13449          0\n",
            "13450  13450          1\n",
            "13451  13451          1\n",
            "13452  13452          0\n",
            "13453  13453          0\n",
            "\n",
            "[13454 rows x 2 columns]\n"
          ]
        }
      ]
    },
    {
      "cell_type": "markdown",
      "source": [
        "# **Download Output**"
      ],
      "metadata": {
        "id": "Vt0TfULRKz3A"
      }
    },
    {
      "cell_type": "code",
      "source": [
        "!zip -r output.zip output"
      ],
      "metadata": {
        "colab": {
          "base_uri": "https://localhost:8080/"
        },
        "id": "ofW5gtCgKyBN",
        "outputId": "9a5a65f2-76c0-4ffd-84ad-de96c4590e2e"
      },
      "execution_count": 61,
      "outputs": [
        {
          "output_type": "stream",
          "name": "stdout",
          "text": [
            "  adding: output/ (stored 0%)\n",
            "  adding: output/Parameters.txt (deflated 7%)\n",
            "  adding: output/Loss.png (deflated 4%)\n",
            "  adding: output/test_prediction.csv (deflated 64%)\n",
            "  adding: output/dev_performance.txt (deflated 17%)\n",
            "  adding: output/dev_prediction.csv (deflated 64%)\n",
            "  adding: output/Accuracy.png (deflated 5%)\n"
          ]
        }
      ]
    },
    {
      "cell_type": "code",
      "source": [
        "from google.colab import files\n",
        "files.download(\"output.zip\")"
      ],
      "metadata": {
        "colab": {
          "base_uri": "https://localhost:8080/",
          "height": 17
        },
        "id": "aFzs7_wULXID",
        "outputId": "34ce75eb-1bbc-4b35-bd86-fbcfa46b9883"
      },
      "execution_count": 62,
      "outputs": [
        {
          "output_type": "display_data",
          "data": {
            "text/plain": [
              "<IPython.core.display.Javascript object>"
            ],
            "application/javascript": [
              "\n",
              "    async function download(id, filename, size) {\n",
              "      if (!google.colab.kernel.accessAllowed) {\n",
              "        return;\n",
              "      }\n",
              "      const div = document.createElement('div');\n",
              "      const label = document.createElement('label');\n",
              "      label.textContent = `Downloading \"${filename}\": `;\n",
              "      div.appendChild(label);\n",
              "      const progress = document.createElement('progress');\n",
              "      progress.max = size;\n",
              "      div.appendChild(progress);\n",
              "      document.body.appendChild(div);\n",
              "\n",
              "      const buffers = [];\n",
              "      let downloaded = 0;\n",
              "\n",
              "      const channel = await google.colab.kernel.comms.open(id);\n",
              "      // Send a message to notify the kernel that we're ready.\n",
              "      channel.send({})\n",
              "\n",
              "      for await (const message of channel.messages) {\n",
              "        // Send a message to notify the kernel that we're ready.\n",
              "        channel.send({})\n",
              "        if (message.buffers) {\n",
              "          for (const buffer of message.buffers) {\n",
              "            buffers.push(buffer);\n",
              "            downloaded += buffer.byteLength;\n",
              "            progress.value = downloaded;\n",
              "          }\n",
              "        }\n",
              "      }\n",
              "      const blob = new Blob(buffers, {type: 'application/binary'});\n",
              "      const a = document.createElement('a');\n",
              "      a.href = window.URL.createObjectURL(blob);\n",
              "      a.download = filename;\n",
              "      div.appendChild(a);\n",
              "      a.click();\n",
              "      div.remove();\n",
              "    }\n",
              "  "
            ]
          },
          "metadata": {}
        },
        {
          "output_type": "display_data",
          "data": {
            "text/plain": [
              "<IPython.core.display.Javascript object>"
            ],
            "application/javascript": [
              "download(\"download_af123b38-bcb2-45fe-92c9-ad2c3d5b3c6d\", \"output.zip\", 36133)"
            ]
          },
          "metadata": {}
        }
      ]
    },
    {
      "cell_type": "markdown",
      "source": [
        "# Empty the memory"
      ],
      "metadata": {
        "id": "x0tkHLqSe3Wd"
      }
    },
    {
      "cell_type": "code",
      "source": [
        "!ln -sf /opt/bin/nvidia-smi /usr/bin/nvidia-smi\n",
        "!pip install gputil\n",
        "!pip install psutil\n",
        "!pip install humanize"
      ],
      "metadata": {
        "id": "JgjYAMaqOeJH",
        "colab": {
          "base_uri": "https://localhost:8080/"
        },
        "outputId": "fc34fb2f-50de-4dfa-b291-8b909c1f004d"
      },
      "execution_count": null,
      "outputs": [
        {
          "output_type": "stream",
          "name": "stdout",
          "text": [
            "Collecting gputil\n",
            "  Downloading GPUtil-1.4.0.tar.gz (5.5 kB)\n",
            "Building wheels for collected packages: gputil\n",
            "  Building wheel for gputil (setup.py) ... \u001b[?25l\u001b[?25hdone\n",
            "  Created wheel for gputil: filename=GPUtil-1.4.0-py3-none-any.whl size=7411 sha256=bf6297d5882182784a1d000bfd3b2d459e6770ac5611df0f9254a37ed5f14996\n",
            "  Stored in directory: /root/.cache/pip/wheels/6e/f8/83/534c52482d6da64622ddbf72cd93c35d2ef2881b78fd08ff0c\n",
            "Successfully built gputil\n",
            "Installing collected packages: gputil\n",
            "Successfully installed gputil-1.4.0\n",
            "Requirement already satisfied: psutil in /usr/local/lib/python3.7/dist-packages (5.4.8)\n",
            "Requirement already satisfied: humanize in /usr/local/lib/python3.7/dist-packages (0.5.1)\n"
          ]
        }
      ]
    },
    {
      "cell_type": "code",
      "source": [
        "import psutil\n",
        "import humanize\n",
        "import os\n",
        "import GPUtil as GPU\n",
        "\n",
        "GPUs = GPU.getGPUs()\n",
        "# XXX: only one GPU on Colab and isn’t guaranteed\n",
        "gpu = GPUs[0]\n",
        "def printm():\n",
        "    process = psutil.Process(os.getpid())\n",
        "    print(\"Gen RAM Free: \" + humanize.naturalsize(psutil.virtual_memory().available), \" |     Proc size: \" + humanize.naturalsize(process.memory_info().rss))\n",
        "    print(\"GPU RAM Free: {0:.0f}MB | Used: {1:.0f}MB | Util {2:3.0f}% | Total     {3:.0f}MB\".format(gpu.memoryFree, gpu.memoryUsed, gpu.memoryUtil*100, gpu.memoryTotal))\n",
        "printm()\n"
      ],
      "metadata": {
        "colab": {
          "base_uri": "https://localhost:8080/"
        },
        "id": "WYat0FDKMb0G",
        "outputId": "ea19a80b-1908-45c6-a0e7-9cc6c69dfa18"
      },
      "execution_count": null,
      "outputs": [
        {
          "output_type": "stream",
          "name": "stdout",
          "text": [
            "Gen RAM Free: 11.6 GB  |     Proc size: 1.0 GB\n",
            "GPU RAM Free: 15106MB | Used: 3MB | Util   0% | Total     15109MB\n"
          ]
        }
      ]
    },
    {
      "cell_type": "code",
      "source": [
        "!ps -aux|grep python"
      ],
      "metadata": {
        "colab": {
          "base_uri": "https://localhost:8080/"
        },
        "id": "CA9st45EMb2q",
        "outputId": "8868e977-4da0-44a6-c4d4-5ba5a95ddf3d"
      },
      "execution_count": null,
      "outputs": [
        {
          "output_type": "stream",
          "name": "stdout",
          "text": [
            "root          30  0.5  0.0      0     0 ?        Z    06:59   0:04 [python3] <defunct>\n",
            "root          31  0.0  0.3 158256 41376 ?        S    06:59   0:00 python3 /usr/local/bin/colab-fileshim.py\n",
            "root          56  0.4  0.4 202440 61064 ?        Sl   06:59   0:03 /usr/bin/python3 /usr/local/bin/jupyter-notebook --ip=\"172.28.0.2\" --port=9000 --FileContentsManager.root_dir=\"/\" --MappingKernelManager.root_dir=\"/content\"\n",
            "root         316  0.0  0.0  18380  2960 ?        S    06:59   0:00 bash -c tail -n +0 -F \"/root/.config/Google/DriveFS/Logs/drive_fs.txt\" | python3 /opt/google/drive/drive-filter.py > \"/root/.config/Google/DriveFS/Logs/timeouts.txt\" \n",
            "root         319  0.0  0.0  31272  9380 ?        S    06:59   0:00 python3 /opt/google/drive/drive-filter.py\n",
            "root         506  7.5 42.2 31615000 5617240 ?    Ssl  07:07   0:15 /usr/bin/python3 -m ipykernel_launcher -f /root/.local/share/jupyter/runtime/kernel-8598b9a0-c7fd-45c2-bbb1-36144b25e38e.json\n",
            "root         524  0.2  0.1 127700 16380 ?        Sl   07:07   0:00 /usr/bin/python3 /usr/local/lib/python3.7/dist-packages/debugpy/adapter --for-server 40781 --host 127.0.0.1 --port 18404 --server-access-token f7a070892485f9fa0acca1be8c52826c4c308e95669e51f88fd227e527be9716\n",
            "root         618  0.0  0.0  39196  6684 ?        S    07:11   0:00 /bin/bash -c ps -aux|grep python\n",
            "root         620  0.0  0.0  36900  3972 ?        R    07:11   0:00 grep python\n"
          ]
        }
      ]
    },
    {
      "cell_type": "code",
      "source": [
        "!kill -9 506"
      ],
      "metadata": {
        "id": "M34Spx3iMb5l"
      },
      "execution_count": null,
      "outputs": []
    }
  ]
}