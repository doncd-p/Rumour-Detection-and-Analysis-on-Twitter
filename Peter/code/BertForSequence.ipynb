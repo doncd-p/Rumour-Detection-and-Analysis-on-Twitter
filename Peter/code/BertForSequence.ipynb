{
  "nbformat": 4,
  "nbformat_minor": 0,
  "metadata": {
    "colab": {
      "name": "BertForSequence.ipynb",
      "provenance": [],
      "collapsed_sections": [
        "DhyE9siDfopm",
        "5C8UU9gkfzMC",
        "Vt0TfULRKz3A",
        "x0tkHLqSe3Wd"
      ]
    },
    "kernelspec": {
      "name": "python3",
      "display_name": "Python 3"
    },
    "language_info": {
      "name": "python"
    },
    "accelerator": "GPU",
    "widgets": {
      "application/vnd.jupyter.widget-state+json": {
        "d21863e7231f4088a19d20f454b2c6d5": {
          "model_module": "@jupyter-widgets/controls",
          "model_name": "HBoxModel",
          "model_module_version": "1.5.0",
          "state": {
            "_dom_classes": [],
            "_model_module": "@jupyter-widgets/controls",
            "_model_module_version": "1.5.0",
            "_model_name": "HBoxModel",
            "_view_count": null,
            "_view_module": "@jupyter-widgets/controls",
            "_view_module_version": "1.5.0",
            "_view_name": "HBoxView",
            "box_style": "",
            "children": [
              "IPY_MODEL_0aafc11b07c64d1896c38f5cd41ce5a1",
              "IPY_MODEL_f9ceaa4632644828a812bb147e3e05ab",
              "IPY_MODEL_4fd4a177eb734202bc53978d2d62a52d"
            ],
            "layout": "IPY_MODEL_78ea6b510f1b48288e1c567cbe978587"
          }
        },
        "0aafc11b07c64d1896c38f5cd41ce5a1": {
          "model_module": "@jupyter-widgets/controls",
          "model_name": "HTMLModel",
          "model_module_version": "1.5.0",
          "state": {
            "_dom_classes": [],
            "_model_module": "@jupyter-widgets/controls",
            "_model_module_version": "1.5.0",
            "_model_name": "HTMLModel",
            "_view_count": null,
            "_view_module": "@jupyter-widgets/controls",
            "_view_module_version": "1.5.0",
            "_view_name": "HTMLView",
            "description": "",
            "description_tooltip": null,
            "layout": "IPY_MODEL_9db9f43cbc62470fbe10e3fc700c0873",
            "placeholder": "​",
            "style": "IPY_MODEL_df1ff26bd7e748d6a9d9213eb8ce251f",
            "value": "Downloading: 100%"
          }
        },
        "f9ceaa4632644828a812bb147e3e05ab": {
          "model_module": "@jupyter-widgets/controls",
          "model_name": "FloatProgressModel",
          "model_module_version": "1.5.0",
          "state": {
            "_dom_classes": [],
            "_model_module": "@jupyter-widgets/controls",
            "_model_module_version": "1.5.0",
            "_model_name": "FloatProgressModel",
            "_view_count": null,
            "_view_module": "@jupyter-widgets/controls",
            "_view_module_version": "1.5.0",
            "_view_name": "ProgressView",
            "bar_style": "success",
            "description": "",
            "description_tooltip": null,
            "layout": "IPY_MODEL_d9367ae0ac334239b9f518726443fd83",
            "max": 231508,
            "min": 0,
            "orientation": "horizontal",
            "style": "IPY_MODEL_a3a018172290411ea1e900b9b2c80140",
            "value": 231508
          }
        },
        "4fd4a177eb734202bc53978d2d62a52d": {
          "model_module": "@jupyter-widgets/controls",
          "model_name": "HTMLModel",
          "model_module_version": "1.5.0",
          "state": {
            "_dom_classes": [],
            "_model_module": "@jupyter-widgets/controls",
            "_model_module_version": "1.5.0",
            "_model_name": "HTMLModel",
            "_view_count": null,
            "_view_module": "@jupyter-widgets/controls",
            "_view_module_version": "1.5.0",
            "_view_name": "HTMLView",
            "description": "",
            "description_tooltip": null,
            "layout": "IPY_MODEL_e8530336d8f640bab910b5e87de1bd9d",
            "placeholder": "​",
            "style": "IPY_MODEL_244dcafe6e0543c688f245a26f86c7e1",
            "value": " 226k/226k [00:00&lt;00:00, 2.40MB/s]"
          }
        },
        "78ea6b510f1b48288e1c567cbe978587": {
          "model_module": "@jupyter-widgets/base",
          "model_name": "LayoutModel",
          "model_module_version": "1.2.0",
          "state": {
            "_model_module": "@jupyter-widgets/base",
            "_model_module_version": "1.2.0",
            "_model_name": "LayoutModel",
            "_view_count": null,
            "_view_module": "@jupyter-widgets/base",
            "_view_module_version": "1.2.0",
            "_view_name": "LayoutView",
            "align_content": null,
            "align_items": null,
            "align_self": null,
            "border": null,
            "bottom": null,
            "display": null,
            "flex": null,
            "flex_flow": null,
            "grid_area": null,
            "grid_auto_columns": null,
            "grid_auto_flow": null,
            "grid_auto_rows": null,
            "grid_column": null,
            "grid_gap": null,
            "grid_row": null,
            "grid_template_areas": null,
            "grid_template_columns": null,
            "grid_template_rows": null,
            "height": null,
            "justify_content": null,
            "justify_items": null,
            "left": null,
            "margin": null,
            "max_height": null,
            "max_width": null,
            "min_height": null,
            "min_width": null,
            "object_fit": null,
            "object_position": null,
            "order": null,
            "overflow": null,
            "overflow_x": null,
            "overflow_y": null,
            "padding": null,
            "right": null,
            "top": null,
            "visibility": null,
            "width": null
          }
        },
        "9db9f43cbc62470fbe10e3fc700c0873": {
          "model_module": "@jupyter-widgets/base",
          "model_name": "LayoutModel",
          "model_module_version": "1.2.0",
          "state": {
            "_model_module": "@jupyter-widgets/base",
            "_model_module_version": "1.2.0",
            "_model_name": "LayoutModel",
            "_view_count": null,
            "_view_module": "@jupyter-widgets/base",
            "_view_module_version": "1.2.0",
            "_view_name": "LayoutView",
            "align_content": null,
            "align_items": null,
            "align_self": null,
            "border": null,
            "bottom": null,
            "display": null,
            "flex": null,
            "flex_flow": null,
            "grid_area": null,
            "grid_auto_columns": null,
            "grid_auto_flow": null,
            "grid_auto_rows": null,
            "grid_column": null,
            "grid_gap": null,
            "grid_row": null,
            "grid_template_areas": null,
            "grid_template_columns": null,
            "grid_template_rows": null,
            "height": null,
            "justify_content": null,
            "justify_items": null,
            "left": null,
            "margin": null,
            "max_height": null,
            "max_width": null,
            "min_height": null,
            "min_width": null,
            "object_fit": null,
            "object_position": null,
            "order": null,
            "overflow": null,
            "overflow_x": null,
            "overflow_y": null,
            "padding": null,
            "right": null,
            "top": null,
            "visibility": null,
            "width": null
          }
        },
        "df1ff26bd7e748d6a9d9213eb8ce251f": {
          "model_module": "@jupyter-widgets/controls",
          "model_name": "DescriptionStyleModel",
          "model_module_version": "1.5.0",
          "state": {
            "_model_module": "@jupyter-widgets/controls",
            "_model_module_version": "1.5.0",
            "_model_name": "DescriptionStyleModel",
            "_view_count": null,
            "_view_module": "@jupyter-widgets/base",
            "_view_module_version": "1.2.0",
            "_view_name": "StyleView",
            "description_width": ""
          }
        },
        "d9367ae0ac334239b9f518726443fd83": {
          "model_module": "@jupyter-widgets/base",
          "model_name": "LayoutModel",
          "model_module_version": "1.2.0",
          "state": {
            "_model_module": "@jupyter-widgets/base",
            "_model_module_version": "1.2.0",
            "_model_name": "LayoutModel",
            "_view_count": null,
            "_view_module": "@jupyter-widgets/base",
            "_view_module_version": "1.2.0",
            "_view_name": "LayoutView",
            "align_content": null,
            "align_items": null,
            "align_self": null,
            "border": null,
            "bottom": null,
            "display": null,
            "flex": null,
            "flex_flow": null,
            "grid_area": null,
            "grid_auto_columns": null,
            "grid_auto_flow": null,
            "grid_auto_rows": null,
            "grid_column": null,
            "grid_gap": null,
            "grid_row": null,
            "grid_template_areas": null,
            "grid_template_columns": null,
            "grid_template_rows": null,
            "height": null,
            "justify_content": null,
            "justify_items": null,
            "left": null,
            "margin": null,
            "max_height": null,
            "max_width": null,
            "min_height": null,
            "min_width": null,
            "object_fit": null,
            "object_position": null,
            "order": null,
            "overflow": null,
            "overflow_x": null,
            "overflow_y": null,
            "padding": null,
            "right": null,
            "top": null,
            "visibility": null,
            "width": null
          }
        },
        "a3a018172290411ea1e900b9b2c80140": {
          "model_module": "@jupyter-widgets/controls",
          "model_name": "ProgressStyleModel",
          "model_module_version": "1.5.0",
          "state": {
            "_model_module": "@jupyter-widgets/controls",
            "_model_module_version": "1.5.0",
            "_model_name": "ProgressStyleModel",
            "_view_count": null,
            "_view_module": "@jupyter-widgets/base",
            "_view_module_version": "1.2.0",
            "_view_name": "StyleView",
            "bar_color": null,
            "description_width": ""
          }
        },
        "e8530336d8f640bab910b5e87de1bd9d": {
          "model_module": "@jupyter-widgets/base",
          "model_name": "LayoutModel",
          "model_module_version": "1.2.0",
          "state": {
            "_model_module": "@jupyter-widgets/base",
            "_model_module_version": "1.2.0",
            "_model_name": "LayoutModel",
            "_view_count": null,
            "_view_module": "@jupyter-widgets/base",
            "_view_module_version": "1.2.0",
            "_view_name": "LayoutView",
            "align_content": null,
            "align_items": null,
            "align_self": null,
            "border": null,
            "bottom": null,
            "display": null,
            "flex": null,
            "flex_flow": null,
            "grid_area": null,
            "grid_auto_columns": null,
            "grid_auto_flow": null,
            "grid_auto_rows": null,
            "grid_column": null,
            "grid_gap": null,
            "grid_row": null,
            "grid_template_areas": null,
            "grid_template_columns": null,
            "grid_template_rows": null,
            "height": null,
            "justify_content": null,
            "justify_items": null,
            "left": null,
            "margin": null,
            "max_height": null,
            "max_width": null,
            "min_height": null,
            "min_width": null,
            "object_fit": null,
            "object_position": null,
            "order": null,
            "overflow": null,
            "overflow_x": null,
            "overflow_y": null,
            "padding": null,
            "right": null,
            "top": null,
            "visibility": null,
            "width": null
          }
        },
        "244dcafe6e0543c688f245a26f86c7e1": {
          "model_module": "@jupyter-widgets/controls",
          "model_name": "DescriptionStyleModel",
          "model_module_version": "1.5.0",
          "state": {
            "_model_module": "@jupyter-widgets/controls",
            "_model_module_version": "1.5.0",
            "_model_name": "DescriptionStyleModel",
            "_view_count": null,
            "_view_module": "@jupyter-widgets/base",
            "_view_module_version": "1.2.0",
            "_view_name": "StyleView",
            "description_width": ""
          }
        },
        "4e9f428df1de42bbb0eb0156980290fb": {
          "model_module": "@jupyter-widgets/controls",
          "model_name": "HBoxModel",
          "model_module_version": "1.5.0",
          "state": {
            "_dom_classes": [],
            "_model_module": "@jupyter-widgets/controls",
            "_model_module_version": "1.5.0",
            "_model_name": "HBoxModel",
            "_view_count": null,
            "_view_module": "@jupyter-widgets/controls",
            "_view_module_version": "1.5.0",
            "_view_name": "HBoxView",
            "box_style": "",
            "children": [
              "IPY_MODEL_587fdf1aef0b47a7bbe35e8672346e8d",
              "IPY_MODEL_a09cdae3e8da4d609476947332ecc056",
              "IPY_MODEL_10d0e056055d42eebf12dfba9d692290"
            ],
            "layout": "IPY_MODEL_46297cadc1e94cb4bbb7d8b0b2e61f96"
          }
        },
        "587fdf1aef0b47a7bbe35e8672346e8d": {
          "model_module": "@jupyter-widgets/controls",
          "model_name": "HTMLModel",
          "model_module_version": "1.5.0",
          "state": {
            "_dom_classes": [],
            "_model_module": "@jupyter-widgets/controls",
            "_model_module_version": "1.5.0",
            "_model_name": "HTMLModel",
            "_view_count": null,
            "_view_module": "@jupyter-widgets/controls",
            "_view_module_version": "1.5.0",
            "_view_name": "HTMLView",
            "description": "",
            "description_tooltip": null,
            "layout": "IPY_MODEL_33d0f016f3be45a196df7f1c5d56aa0b",
            "placeholder": "​",
            "style": "IPY_MODEL_05c76c970cc5402ebd2caf5bdeebef2d",
            "value": "Downloading: 100%"
          }
        },
        "a09cdae3e8da4d609476947332ecc056": {
          "model_module": "@jupyter-widgets/controls",
          "model_name": "FloatProgressModel",
          "model_module_version": "1.5.0",
          "state": {
            "_dom_classes": [],
            "_model_module": "@jupyter-widgets/controls",
            "_model_module_version": "1.5.0",
            "_model_name": "FloatProgressModel",
            "_view_count": null,
            "_view_module": "@jupyter-widgets/controls",
            "_view_module_version": "1.5.0",
            "_view_name": "ProgressView",
            "bar_style": "success",
            "description": "",
            "description_tooltip": null,
            "layout": "IPY_MODEL_2bd1db725d5c4ca2986726d535da920b",
            "max": 28,
            "min": 0,
            "orientation": "horizontal",
            "style": "IPY_MODEL_9480842971584ee2a021162490bf7887",
            "value": 28
          }
        },
        "10d0e056055d42eebf12dfba9d692290": {
          "model_module": "@jupyter-widgets/controls",
          "model_name": "HTMLModel",
          "model_module_version": "1.5.0",
          "state": {
            "_dom_classes": [],
            "_model_module": "@jupyter-widgets/controls",
            "_model_module_version": "1.5.0",
            "_model_name": "HTMLModel",
            "_view_count": null,
            "_view_module": "@jupyter-widgets/controls",
            "_view_module_version": "1.5.0",
            "_view_name": "HTMLView",
            "description": "",
            "description_tooltip": null,
            "layout": "IPY_MODEL_ff34cf563d7d4de9ab2bfcb175d61d6b",
            "placeholder": "​",
            "style": "IPY_MODEL_a162c7a75b0240a89c9158b5c627dd95",
            "value": " 28.0/28.0 [00:00&lt;00:00, 1.00kB/s]"
          }
        },
        "46297cadc1e94cb4bbb7d8b0b2e61f96": {
          "model_module": "@jupyter-widgets/base",
          "model_name": "LayoutModel",
          "model_module_version": "1.2.0",
          "state": {
            "_model_module": "@jupyter-widgets/base",
            "_model_module_version": "1.2.0",
            "_model_name": "LayoutModel",
            "_view_count": null,
            "_view_module": "@jupyter-widgets/base",
            "_view_module_version": "1.2.0",
            "_view_name": "LayoutView",
            "align_content": null,
            "align_items": null,
            "align_self": null,
            "border": null,
            "bottom": null,
            "display": null,
            "flex": null,
            "flex_flow": null,
            "grid_area": null,
            "grid_auto_columns": null,
            "grid_auto_flow": null,
            "grid_auto_rows": null,
            "grid_column": null,
            "grid_gap": null,
            "grid_row": null,
            "grid_template_areas": null,
            "grid_template_columns": null,
            "grid_template_rows": null,
            "height": null,
            "justify_content": null,
            "justify_items": null,
            "left": null,
            "margin": null,
            "max_height": null,
            "max_width": null,
            "min_height": null,
            "min_width": null,
            "object_fit": null,
            "object_position": null,
            "order": null,
            "overflow": null,
            "overflow_x": null,
            "overflow_y": null,
            "padding": null,
            "right": null,
            "top": null,
            "visibility": null,
            "width": null
          }
        },
        "33d0f016f3be45a196df7f1c5d56aa0b": {
          "model_module": "@jupyter-widgets/base",
          "model_name": "LayoutModel",
          "model_module_version": "1.2.0",
          "state": {
            "_model_module": "@jupyter-widgets/base",
            "_model_module_version": "1.2.0",
            "_model_name": "LayoutModel",
            "_view_count": null,
            "_view_module": "@jupyter-widgets/base",
            "_view_module_version": "1.2.0",
            "_view_name": "LayoutView",
            "align_content": null,
            "align_items": null,
            "align_self": null,
            "border": null,
            "bottom": null,
            "display": null,
            "flex": null,
            "flex_flow": null,
            "grid_area": null,
            "grid_auto_columns": null,
            "grid_auto_flow": null,
            "grid_auto_rows": null,
            "grid_column": null,
            "grid_gap": null,
            "grid_row": null,
            "grid_template_areas": null,
            "grid_template_columns": null,
            "grid_template_rows": null,
            "height": null,
            "justify_content": null,
            "justify_items": null,
            "left": null,
            "margin": null,
            "max_height": null,
            "max_width": null,
            "min_height": null,
            "min_width": null,
            "object_fit": null,
            "object_position": null,
            "order": null,
            "overflow": null,
            "overflow_x": null,
            "overflow_y": null,
            "padding": null,
            "right": null,
            "top": null,
            "visibility": null,
            "width": null
          }
        },
        "05c76c970cc5402ebd2caf5bdeebef2d": {
          "model_module": "@jupyter-widgets/controls",
          "model_name": "DescriptionStyleModel",
          "model_module_version": "1.5.0",
          "state": {
            "_model_module": "@jupyter-widgets/controls",
            "_model_module_version": "1.5.0",
            "_model_name": "DescriptionStyleModel",
            "_view_count": null,
            "_view_module": "@jupyter-widgets/base",
            "_view_module_version": "1.2.0",
            "_view_name": "StyleView",
            "description_width": ""
          }
        },
        "2bd1db725d5c4ca2986726d535da920b": {
          "model_module": "@jupyter-widgets/base",
          "model_name": "LayoutModel",
          "model_module_version": "1.2.0",
          "state": {
            "_model_module": "@jupyter-widgets/base",
            "_model_module_version": "1.2.0",
            "_model_name": "LayoutModel",
            "_view_count": null,
            "_view_module": "@jupyter-widgets/base",
            "_view_module_version": "1.2.0",
            "_view_name": "LayoutView",
            "align_content": null,
            "align_items": null,
            "align_self": null,
            "border": null,
            "bottom": null,
            "display": null,
            "flex": null,
            "flex_flow": null,
            "grid_area": null,
            "grid_auto_columns": null,
            "grid_auto_flow": null,
            "grid_auto_rows": null,
            "grid_column": null,
            "grid_gap": null,
            "grid_row": null,
            "grid_template_areas": null,
            "grid_template_columns": null,
            "grid_template_rows": null,
            "height": null,
            "justify_content": null,
            "justify_items": null,
            "left": null,
            "margin": null,
            "max_height": null,
            "max_width": null,
            "min_height": null,
            "min_width": null,
            "object_fit": null,
            "object_position": null,
            "order": null,
            "overflow": null,
            "overflow_x": null,
            "overflow_y": null,
            "padding": null,
            "right": null,
            "top": null,
            "visibility": null,
            "width": null
          }
        },
        "9480842971584ee2a021162490bf7887": {
          "model_module": "@jupyter-widgets/controls",
          "model_name": "ProgressStyleModel",
          "model_module_version": "1.5.0",
          "state": {
            "_model_module": "@jupyter-widgets/controls",
            "_model_module_version": "1.5.0",
            "_model_name": "ProgressStyleModel",
            "_view_count": null,
            "_view_module": "@jupyter-widgets/base",
            "_view_module_version": "1.2.0",
            "_view_name": "StyleView",
            "bar_color": null,
            "description_width": ""
          }
        },
        "ff34cf563d7d4de9ab2bfcb175d61d6b": {
          "model_module": "@jupyter-widgets/base",
          "model_name": "LayoutModel",
          "model_module_version": "1.2.0",
          "state": {
            "_model_module": "@jupyter-widgets/base",
            "_model_module_version": "1.2.0",
            "_model_name": "LayoutModel",
            "_view_count": null,
            "_view_module": "@jupyter-widgets/base",
            "_view_module_version": "1.2.0",
            "_view_name": "LayoutView",
            "align_content": null,
            "align_items": null,
            "align_self": null,
            "border": null,
            "bottom": null,
            "display": null,
            "flex": null,
            "flex_flow": null,
            "grid_area": null,
            "grid_auto_columns": null,
            "grid_auto_flow": null,
            "grid_auto_rows": null,
            "grid_column": null,
            "grid_gap": null,
            "grid_row": null,
            "grid_template_areas": null,
            "grid_template_columns": null,
            "grid_template_rows": null,
            "height": null,
            "justify_content": null,
            "justify_items": null,
            "left": null,
            "margin": null,
            "max_height": null,
            "max_width": null,
            "min_height": null,
            "min_width": null,
            "object_fit": null,
            "object_position": null,
            "order": null,
            "overflow": null,
            "overflow_x": null,
            "overflow_y": null,
            "padding": null,
            "right": null,
            "top": null,
            "visibility": null,
            "width": null
          }
        },
        "a162c7a75b0240a89c9158b5c627dd95": {
          "model_module": "@jupyter-widgets/controls",
          "model_name": "DescriptionStyleModel",
          "model_module_version": "1.5.0",
          "state": {
            "_model_module": "@jupyter-widgets/controls",
            "_model_module_version": "1.5.0",
            "_model_name": "DescriptionStyleModel",
            "_view_count": null,
            "_view_module": "@jupyter-widgets/base",
            "_view_module_version": "1.2.0",
            "_view_name": "StyleView",
            "description_width": ""
          }
        },
        "dd952ee0d56b442194b2bf5990c96648": {
          "model_module": "@jupyter-widgets/controls",
          "model_name": "HBoxModel",
          "model_module_version": "1.5.0",
          "state": {
            "_dom_classes": [],
            "_model_module": "@jupyter-widgets/controls",
            "_model_module_version": "1.5.0",
            "_model_name": "HBoxModel",
            "_view_count": null,
            "_view_module": "@jupyter-widgets/controls",
            "_view_module_version": "1.5.0",
            "_view_name": "HBoxView",
            "box_style": "",
            "children": [
              "IPY_MODEL_bb7f50881eff413595771b944a2d265b",
              "IPY_MODEL_7b7ed30a3ab74effa3e029e411d28a0d",
              "IPY_MODEL_cb40508e52504af49769d77cf3b3ea39"
            ],
            "layout": "IPY_MODEL_59e76f2ab30e4072bffd35cd950842af"
          }
        },
        "bb7f50881eff413595771b944a2d265b": {
          "model_module": "@jupyter-widgets/controls",
          "model_name": "HTMLModel",
          "model_module_version": "1.5.0",
          "state": {
            "_dom_classes": [],
            "_model_module": "@jupyter-widgets/controls",
            "_model_module_version": "1.5.0",
            "_model_name": "HTMLModel",
            "_view_count": null,
            "_view_module": "@jupyter-widgets/controls",
            "_view_module_version": "1.5.0",
            "_view_name": "HTMLView",
            "description": "",
            "description_tooltip": null,
            "layout": "IPY_MODEL_750f9186ed7748b1935ade5a31034501",
            "placeholder": "​",
            "style": "IPY_MODEL_38d2ea299dae4fdd90cb744ea524d96d",
            "value": "Downloading: 100%"
          }
        },
        "7b7ed30a3ab74effa3e029e411d28a0d": {
          "model_module": "@jupyter-widgets/controls",
          "model_name": "FloatProgressModel",
          "model_module_version": "1.5.0",
          "state": {
            "_dom_classes": [],
            "_model_module": "@jupyter-widgets/controls",
            "_model_module_version": "1.5.0",
            "_model_name": "FloatProgressModel",
            "_view_count": null,
            "_view_module": "@jupyter-widgets/controls",
            "_view_module_version": "1.5.0",
            "_view_name": "ProgressView",
            "bar_style": "success",
            "description": "",
            "description_tooltip": null,
            "layout": "IPY_MODEL_f8c37776e6a34bf78af9f69659ba83e8",
            "max": 570,
            "min": 0,
            "orientation": "horizontal",
            "style": "IPY_MODEL_95b6a7f092b24f4ea9c73b5d1be05c70",
            "value": 570
          }
        },
        "cb40508e52504af49769d77cf3b3ea39": {
          "model_module": "@jupyter-widgets/controls",
          "model_name": "HTMLModel",
          "model_module_version": "1.5.0",
          "state": {
            "_dom_classes": [],
            "_model_module": "@jupyter-widgets/controls",
            "_model_module_version": "1.5.0",
            "_model_name": "HTMLModel",
            "_view_count": null,
            "_view_module": "@jupyter-widgets/controls",
            "_view_module_version": "1.5.0",
            "_view_name": "HTMLView",
            "description": "",
            "description_tooltip": null,
            "layout": "IPY_MODEL_f5b1905972874865aa0a34bb9efbe592",
            "placeholder": "​",
            "style": "IPY_MODEL_0603e71a507f4eceb4582695218bde32",
            "value": " 570/570 [00:00&lt;00:00, 18.0kB/s]"
          }
        },
        "59e76f2ab30e4072bffd35cd950842af": {
          "model_module": "@jupyter-widgets/base",
          "model_name": "LayoutModel",
          "model_module_version": "1.2.0",
          "state": {
            "_model_module": "@jupyter-widgets/base",
            "_model_module_version": "1.2.0",
            "_model_name": "LayoutModel",
            "_view_count": null,
            "_view_module": "@jupyter-widgets/base",
            "_view_module_version": "1.2.0",
            "_view_name": "LayoutView",
            "align_content": null,
            "align_items": null,
            "align_self": null,
            "border": null,
            "bottom": null,
            "display": null,
            "flex": null,
            "flex_flow": null,
            "grid_area": null,
            "grid_auto_columns": null,
            "grid_auto_flow": null,
            "grid_auto_rows": null,
            "grid_column": null,
            "grid_gap": null,
            "grid_row": null,
            "grid_template_areas": null,
            "grid_template_columns": null,
            "grid_template_rows": null,
            "height": null,
            "justify_content": null,
            "justify_items": null,
            "left": null,
            "margin": null,
            "max_height": null,
            "max_width": null,
            "min_height": null,
            "min_width": null,
            "object_fit": null,
            "object_position": null,
            "order": null,
            "overflow": null,
            "overflow_x": null,
            "overflow_y": null,
            "padding": null,
            "right": null,
            "top": null,
            "visibility": null,
            "width": null
          }
        },
        "750f9186ed7748b1935ade5a31034501": {
          "model_module": "@jupyter-widgets/base",
          "model_name": "LayoutModel",
          "model_module_version": "1.2.0",
          "state": {
            "_model_module": "@jupyter-widgets/base",
            "_model_module_version": "1.2.0",
            "_model_name": "LayoutModel",
            "_view_count": null,
            "_view_module": "@jupyter-widgets/base",
            "_view_module_version": "1.2.0",
            "_view_name": "LayoutView",
            "align_content": null,
            "align_items": null,
            "align_self": null,
            "border": null,
            "bottom": null,
            "display": null,
            "flex": null,
            "flex_flow": null,
            "grid_area": null,
            "grid_auto_columns": null,
            "grid_auto_flow": null,
            "grid_auto_rows": null,
            "grid_column": null,
            "grid_gap": null,
            "grid_row": null,
            "grid_template_areas": null,
            "grid_template_columns": null,
            "grid_template_rows": null,
            "height": null,
            "justify_content": null,
            "justify_items": null,
            "left": null,
            "margin": null,
            "max_height": null,
            "max_width": null,
            "min_height": null,
            "min_width": null,
            "object_fit": null,
            "object_position": null,
            "order": null,
            "overflow": null,
            "overflow_x": null,
            "overflow_y": null,
            "padding": null,
            "right": null,
            "top": null,
            "visibility": null,
            "width": null
          }
        },
        "38d2ea299dae4fdd90cb744ea524d96d": {
          "model_module": "@jupyter-widgets/controls",
          "model_name": "DescriptionStyleModel",
          "model_module_version": "1.5.0",
          "state": {
            "_model_module": "@jupyter-widgets/controls",
            "_model_module_version": "1.5.0",
            "_model_name": "DescriptionStyleModel",
            "_view_count": null,
            "_view_module": "@jupyter-widgets/base",
            "_view_module_version": "1.2.0",
            "_view_name": "StyleView",
            "description_width": ""
          }
        },
        "f8c37776e6a34bf78af9f69659ba83e8": {
          "model_module": "@jupyter-widgets/base",
          "model_name": "LayoutModel",
          "model_module_version": "1.2.0",
          "state": {
            "_model_module": "@jupyter-widgets/base",
            "_model_module_version": "1.2.0",
            "_model_name": "LayoutModel",
            "_view_count": null,
            "_view_module": "@jupyter-widgets/base",
            "_view_module_version": "1.2.0",
            "_view_name": "LayoutView",
            "align_content": null,
            "align_items": null,
            "align_self": null,
            "border": null,
            "bottom": null,
            "display": null,
            "flex": null,
            "flex_flow": null,
            "grid_area": null,
            "grid_auto_columns": null,
            "grid_auto_flow": null,
            "grid_auto_rows": null,
            "grid_column": null,
            "grid_gap": null,
            "grid_row": null,
            "grid_template_areas": null,
            "grid_template_columns": null,
            "grid_template_rows": null,
            "height": null,
            "justify_content": null,
            "justify_items": null,
            "left": null,
            "margin": null,
            "max_height": null,
            "max_width": null,
            "min_height": null,
            "min_width": null,
            "object_fit": null,
            "object_position": null,
            "order": null,
            "overflow": null,
            "overflow_x": null,
            "overflow_y": null,
            "padding": null,
            "right": null,
            "top": null,
            "visibility": null,
            "width": null
          }
        },
        "95b6a7f092b24f4ea9c73b5d1be05c70": {
          "model_module": "@jupyter-widgets/controls",
          "model_name": "ProgressStyleModel",
          "model_module_version": "1.5.0",
          "state": {
            "_model_module": "@jupyter-widgets/controls",
            "_model_module_version": "1.5.0",
            "_model_name": "ProgressStyleModel",
            "_view_count": null,
            "_view_module": "@jupyter-widgets/base",
            "_view_module_version": "1.2.0",
            "_view_name": "StyleView",
            "bar_color": null,
            "description_width": ""
          }
        },
        "f5b1905972874865aa0a34bb9efbe592": {
          "model_module": "@jupyter-widgets/base",
          "model_name": "LayoutModel",
          "model_module_version": "1.2.0",
          "state": {
            "_model_module": "@jupyter-widgets/base",
            "_model_module_version": "1.2.0",
            "_model_name": "LayoutModel",
            "_view_count": null,
            "_view_module": "@jupyter-widgets/base",
            "_view_module_version": "1.2.0",
            "_view_name": "LayoutView",
            "align_content": null,
            "align_items": null,
            "align_self": null,
            "border": null,
            "bottom": null,
            "display": null,
            "flex": null,
            "flex_flow": null,
            "grid_area": null,
            "grid_auto_columns": null,
            "grid_auto_flow": null,
            "grid_auto_rows": null,
            "grid_column": null,
            "grid_gap": null,
            "grid_row": null,
            "grid_template_areas": null,
            "grid_template_columns": null,
            "grid_template_rows": null,
            "height": null,
            "justify_content": null,
            "justify_items": null,
            "left": null,
            "margin": null,
            "max_height": null,
            "max_width": null,
            "min_height": null,
            "min_width": null,
            "object_fit": null,
            "object_position": null,
            "order": null,
            "overflow": null,
            "overflow_x": null,
            "overflow_y": null,
            "padding": null,
            "right": null,
            "top": null,
            "visibility": null,
            "width": null
          }
        },
        "0603e71a507f4eceb4582695218bde32": {
          "model_module": "@jupyter-widgets/controls",
          "model_name": "DescriptionStyleModel",
          "model_module_version": "1.5.0",
          "state": {
            "_model_module": "@jupyter-widgets/controls",
            "_model_module_version": "1.5.0",
            "_model_name": "DescriptionStyleModel",
            "_view_count": null,
            "_view_module": "@jupyter-widgets/base",
            "_view_module_version": "1.2.0",
            "_view_name": "StyleView",
            "description_width": ""
          }
        },
        "7812df8bd07d472bb949a30a48397c75": {
          "model_module": "@jupyter-widgets/controls",
          "model_name": "HBoxModel",
          "model_module_version": "1.5.0",
          "state": {
            "_dom_classes": [],
            "_model_module": "@jupyter-widgets/controls",
            "_model_module_version": "1.5.0",
            "_model_name": "HBoxModel",
            "_view_count": null,
            "_view_module": "@jupyter-widgets/controls",
            "_view_module_version": "1.5.0",
            "_view_name": "HBoxView",
            "box_style": "",
            "children": [
              "IPY_MODEL_7dce247385de434fb0c939edb0815a93",
              "IPY_MODEL_eb542733febd4c7d81aab374722a10ad",
              "IPY_MODEL_4f712e1b4a1341d784ca201891b0a169"
            ],
            "layout": "IPY_MODEL_98ee515bbf0545c2ae183d14578c7df1"
          }
        },
        "7dce247385de434fb0c939edb0815a93": {
          "model_module": "@jupyter-widgets/controls",
          "model_name": "HTMLModel",
          "model_module_version": "1.5.0",
          "state": {
            "_dom_classes": [],
            "_model_module": "@jupyter-widgets/controls",
            "_model_module_version": "1.5.0",
            "_model_name": "HTMLModel",
            "_view_count": null,
            "_view_module": "@jupyter-widgets/controls",
            "_view_module_version": "1.5.0",
            "_view_name": "HTMLView",
            "description": "",
            "description_tooltip": null,
            "layout": "IPY_MODEL_15dfba0643874b61b9cfdc56de422188",
            "placeholder": "​",
            "style": "IPY_MODEL_a099dc06c4314419821daebf29e91153",
            "value": "Downloading: 100%"
          }
        },
        "eb542733febd4c7d81aab374722a10ad": {
          "model_module": "@jupyter-widgets/controls",
          "model_name": "FloatProgressModel",
          "model_module_version": "1.5.0",
          "state": {
            "_dom_classes": [],
            "_model_module": "@jupyter-widgets/controls",
            "_model_module_version": "1.5.0",
            "_model_name": "FloatProgressModel",
            "_view_count": null,
            "_view_module": "@jupyter-widgets/controls",
            "_view_module_version": "1.5.0",
            "_view_name": "ProgressView",
            "bar_style": "success",
            "description": "",
            "description_tooltip": null,
            "layout": "IPY_MODEL_6caf97cfed264d768373687686a4d416",
            "max": 440473133,
            "min": 0,
            "orientation": "horizontal",
            "style": "IPY_MODEL_3ee51440aea34d108d0bd0d0689c7522",
            "value": 440473133
          }
        },
        "4f712e1b4a1341d784ca201891b0a169": {
          "model_module": "@jupyter-widgets/controls",
          "model_name": "HTMLModel",
          "model_module_version": "1.5.0",
          "state": {
            "_dom_classes": [],
            "_model_module": "@jupyter-widgets/controls",
            "_model_module_version": "1.5.0",
            "_model_name": "HTMLModel",
            "_view_count": null,
            "_view_module": "@jupyter-widgets/controls",
            "_view_module_version": "1.5.0",
            "_view_name": "HTMLView",
            "description": "",
            "description_tooltip": null,
            "layout": "IPY_MODEL_ec1653d62474477ebde026390563cc11",
            "placeholder": "​",
            "style": "IPY_MODEL_b7f1af6e872d4c898a366146e19944a1",
            "value": " 420M/420M [00:09&lt;00:00, 28.6MB/s]"
          }
        },
        "98ee515bbf0545c2ae183d14578c7df1": {
          "model_module": "@jupyter-widgets/base",
          "model_name": "LayoutModel",
          "model_module_version": "1.2.0",
          "state": {
            "_model_module": "@jupyter-widgets/base",
            "_model_module_version": "1.2.0",
            "_model_name": "LayoutModel",
            "_view_count": null,
            "_view_module": "@jupyter-widgets/base",
            "_view_module_version": "1.2.0",
            "_view_name": "LayoutView",
            "align_content": null,
            "align_items": null,
            "align_self": null,
            "border": null,
            "bottom": null,
            "display": null,
            "flex": null,
            "flex_flow": null,
            "grid_area": null,
            "grid_auto_columns": null,
            "grid_auto_flow": null,
            "grid_auto_rows": null,
            "grid_column": null,
            "grid_gap": null,
            "grid_row": null,
            "grid_template_areas": null,
            "grid_template_columns": null,
            "grid_template_rows": null,
            "height": null,
            "justify_content": null,
            "justify_items": null,
            "left": null,
            "margin": null,
            "max_height": null,
            "max_width": null,
            "min_height": null,
            "min_width": null,
            "object_fit": null,
            "object_position": null,
            "order": null,
            "overflow": null,
            "overflow_x": null,
            "overflow_y": null,
            "padding": null,
            "right": null,
            "top": null,
            "visibility": null,
            "width": null
          }
        },
        "15dfba0643874b61b9cfdc56de422188": {
          "model_module": "@jupyter-widgets/base",
          "model_name": "LayoutModel",
          "model_module_version": "1.2.0",
          "state": {
            "_model_module": "@jupyter-widgets/base",
            "_model_module_version": "1.2.0",
            "_model_name": "LayoutModel",
            "_view_count": null,
            "_view_module": "@jupyter-widgets/base",
            "_view_module_version": "1.2.0",
            "_view_name": "LayoutView",
            "align_content": null,
            "align_items": null,
            "align_self": null,
            "border": null,
            "bottom": null,
            "display": null,
            "flex": null,
            "flex_flow": null,
            "grid_area": null,
            "grid_auto_columns": null,
            "grid_auto_flow": null,
            "grid_auto_rows": null,
            "grid_column": null,
            "grid_gap": null,
            "grid_row": null,
            "grid_template_areas": null,
            "grid_template_columns": null,
            "grid_template_rows": null,
            "height": null,
            "justify_content": null,
            "justify_items": null,
            "left": null,
            "margin": null,
            "max_height": null,
            "max_width": null,
            "min_height": null,
            "min_width": null,
            "object_fit": null,
            "object_position": null,
            "order": null,
            "overflow": null,
            "overflow_x": null,
            "overflow_y": null,
            "padding": null,
            "right": null,
            "top": null,
            "visibility": null,
            "width": null
          }
        },
        "a099dc06c4314419821daebf29e91153": {
          "model_module": "@jupyter-widgets/controls",
          "model_name": "DescriptionStyleModel",
          "model_module_version": "1.5.0",
          "state": {
            "_model_module": "@jupyter-widgets/controls",
            "_model_module_version": "1.5.0",
            "_model_name": "DescriptionStyleModel",
            "_view_count": null,
            "_view_module": "@jupyter-widgets/base",
            "_view_module_version": "1.2.0",
            "_view_name": "StyleView",
            "description_width": ""
          }
        },
        "6caf97cfed264d768373687686a4d416": {
          "model_module": "@jupyter-widgets/base",
          "model_name": "LayoutModel",
          "model_module_version": "1.2.0",
          "state": {
            "_model_module": "@jupyter-widgets/base",
            "_model_module_version": "1.2.0",
            "_model_name": "LayoutModel",
            "_view_count": null,
            "_view_module": "@jupyter-widgets/base",
            "_view_module_version": "1.2.0",
            "_view_name": "LayoutView",
            "align_content": null,
            "align_items": null,
            "align_self": null,
            "border": null,
            "bottom": null,
            "display": null,
            "flex": null,
            "flex_flow": null,
            "grid_area": null,
            "grid_auto_columns": null,
            "grid_auto_flow": null,
            "grid_auto_rows": null,
            "grid_column": null,
            "grid_gap": null,
            "grid_row": null,
            "grid_template_areas": null,
            "grid_template_columns": null,
            "grid_template_rows": null,
            "height": null,
            "justify_content": null,
            "justify_items": null,
            "left": null,
            "margin": null,
            "max_height": null,
            "max_width": null,
            "min_height": null,
            "min_width": null,
            "object_fit": null,
            "object_position": null,
            "order": null,
            "overflow": null,
            "overflow_x": null,
            "overflow_y": null,
            "padding": null,
            "right": null,
            "top": null,
            "visibility": null,
            "width": null
          }
        },
        "3ee51440aea34d108d0bd0d0689c7522": {
          "model_module": "@jupyter-widgets/controls",
          "model_name": "ProgressStyleModel",
          "model_module_version": "1.5.0",
          "state": {
            "_model_module": "@jupyter-widgets/controls",
            "_model_module_version": "1.5.0",
            "_model_name": "ProgressStyleModel",
            "_view_count": null,
            "_view_module": "@jupyter-widgets/base",
            "_view_module_version": "1.2.0",
            "_view_name": "StyleView",
            "bar_color": null,
            "description_width": ""
          }
        },
        "ec1653d62474477ebde026390563cc11": {
          "model_module": "@jupyter-widgets/base",
          "model_name": "LayoutModel",
          "model_module_version": "1.2.0",
          "state": {
            "_model_module": "@jupyter-widgets/base",
            "_model_module_version": "1.2.0",
            "_model_name": "LayoutModel",
            "_view_count": null,
            "_view_module": "@jupyter-widgets/base",
            "_view_module_version": "1.2.0",
            "_view_name": "LayoutView",
            "align_content": null,
            "align_items": null,
            "align_self": null,
            "border": null,
            "bottom": null,
            "display": null,
            "flex": null,
            "flex_flow": null,
            "grid_area": null,
            "grid_auto_columns": null,
            "grid_auto_flow": null,
            "grid_auto_rows": null,
            "grid_column": null,
            "grid_gap": null,
            "grid_row": null,
            "grid_template_areas": null,
            "grid_template_columns": null,
            "grid_template_rows": null,
            "height": null,
            "justify_content": null,
            "justify_items": null,
            "left": null,
            "margin": null,
            "max_height": null,
            "max_width": null,
            "min_height": null,
            "min_width": null,
            "object_fit": null,
            "object_position": null,
            "order": null,
            "overflow": null,
            "overflow_x": null,
            "overflow_y": null,
            "padding": null,
            "right": null,
            "top": null,
            "visibility": null,
            "width": null
          }
        },
        "b7f1af6e872d4c898a366146e19944a1": {
          "model_module": "@jupyter-widgets/controls",
          "model_name": "DescriptionStyleModel",
          "model_module_version": "1.5.0",
          "state": {
            "_model_module": "@jupyter-widgets/controls",
            "_model_module_version": "1.5.0",
            "_model_name": "DescriptionStyleModel",
            "_view_count": null,
            "_view_module": "@jupyter-widgets/base",
            "_view_module_version": "1.2.0",
            "_view_name": "StyleView",
            "description_width": ""
          }
        }
      }
    }
  },
  "cells": [
    {
      "cell_type": "markdown",
      "source": [
        "# **Import and Install**"
      ],
      "metadata": {
        "id": "DhyE9siDfopm"
      }
    },
    {
      "cell_type": "code",
      "execution_count": 1,
      "metadata": {
        "colab": {
          "base_uri": "https://localhost:8080/"
        },
        "id": "Qe613V6FGwJM",
        "outputId": "67f73675-3d4b-419e-abca-fe62fbd64d9d"
      },
      "outputs": [
        {
          "output_type": "stream",
          "name": "stdout",
          "text": [
            "Requirement already satisfied: torch in /usr/local/lib/python3.7/dist-packages (1.11.0+cu113)\n",
            "Requirement already satisfied: torchvision in /usr/local/lib/python3.7/dist-packages (0.12.0+cu113)\n",
            "Collecting transformers\n",
            "  Downloading transformers-4.18.0-py3-none-any.whl (4.0 MB)\n",
            "\u001b[K     |████████████████████████████████| 4.0 MB 5.1 MB/s \n",
            "\u001b[?25hRequirement already satisfied: typing-extensions in /usr/local/lib/python3.7/dist-packages (from torch) (4.2.0)\n",
            "Requirement already satisfied: numpy in /usr/local/lib/python3.7/dist-packages (from torchvision) (1.21.6)\n",
            "Requirement already satisfied: pillow!=8.3.*,>=5.3.0 in /usr/local/lib/python3.7/dist-packages (from torchvision) (7.1.2)\n",
            "Requirement already satisfied: requests in /usr/local/lib/python3.7/dist-packages (from torchvision) (2.23.0)\n",
            "Requirement already satisfied: tqdm>=4.27 in /usr/local/lib/python3.7/dist-packages (from transformers) (4.64.0)\n",
            "Collecting huggingface-hub<1.0,>=0.1.0\n",
            "  Downloading huggingface_hub-0.5.1-py3-none-any.whl (77 kB)\n",
            "\u001b[K     |████████████████████████████████| 77 kB 8.1 MB/s \n",
            "\u001b[?25hCollecting pyyaml>=5.1\n",
            "  Downloading PyYAML-6.0-cp37-cp37m-manylinux_2_5_x86_64.manylinux1_x86_64.manylinux_2_12_x86_64.manylinux2010_x86_64.whl (596 kB)\n",
            "\u001b[K     |████████████████████████████████| 596 kB 62.0 MB/s \n",
            "\u001b[?25hCollecting tokenizers!=0.11.3,<0.13,>=0.11.1\n",
            "  Downloading tokenizers-0.12.1-cp37-cp37m-manylinux_2_12_x86_64.manylinux2010_x86_64.whl (6.6 MB)\n",
            "\u001b[K     |████████████████████████████████| 6.6 MB 53.5 MB/s \n",
            "\u001b[?25hRequirement already satisfied: importlib-metadata in /usr/local/lib/python3.7/dist-packages (from transformers) (4.11.3)\n",
            "Requirement already satisfied: packaging>=20.0 in /usr/local/lib/python3.7/dist-packages (from transformers) (21.3)\n",
            "Requirement already satisfied: regex!=2019.12.17 in /usr/local/lib/python3.7/dist-packages (from transformers) (2019.12.20)\n",
            "Requirement already satisfied: filelock in /usr/local/lib/python3.7/dist-packages (from transformers) (3.6.0)\n",
            "Collecting sacremoses\n",
            "  Downloading sacremoses-0.0.53.tar.gz (880 kB)\n",
            "\u001b[K     |████████████████████████████████| 880 kB 53.4 MB/s \n",
            "\u001b[?25hRequirement already satisfied: pyparsing!=3.0.5,>=2.0.2 in /usr/local/lib/python3.7/dist-packages (from packaging>=20.0->transformers) (3.0.8)\n",
            "Requirement already satisfied: zipp>=0.5 in /usr/local/lib/python3.7/dist-packages (from importlib-metadata->transformers) (3.8.0)\n",
            "Requirement already satisfied: chardet<4,>=3.0.2 in /usr/local/lib/python3.7/dist-packages (from requests->torchvision) (3.0.4)\n",
            "Requirement already satisfied: certifi>=2017.4.17 in /usr/local/lib/python3.7/dist-packages (from requests->torchvision) (2021.10.8)\n",
            "Requirement already satisfied: urllib3!=1.25.0,!=1.25.1,<1.26,>=1.21.1 in /usr/local/lib/python3.7/dist-packages (from requests->torchvision) (1.24.3)\n",
            "Requirement already satisfied: idna<3,>=2.5 in /usr/local/lib/python3.7/dist-packages (from requests->torchvision) (2.10)\n",
            "Requirement already satisfied: six in /usr/local/lib/python3.7/dist-packages (from sacremoses->transformers) (1.15.0)\n",
            "Requirement already satisfied: click in /usr/local/lib/python3.7/dist-packages (from sacremoses->transformers) (7.1.2)\n",
            "Requirement already satisfied: joblib in /usr/local/lib/python3.7/dist-packages (from sacremoses->transformers) (1.1.0)\n",
            "Building wheels for collected packages: sacremoses\n",
            "  Building wheel for sacremoses (setup.py) ... \u001b[?25l\u001b[?25hdone\n",
            "  Created wheel for sacremoses: filename=sacremoses-0.0.53-py3-none-any.whl size=895260 sha256=4973bac7c909deab3a04641625aa09d14dff55bc0e65bced47cc9ab6fe0d3631\n",
            "  Stored in directory: /root/.cache/pip/wheels/87/39/dd/a83eeef36d0bf98e7a4d1933a4ad2d660295a40613079bafc9\n",
            "Successfully built sacremoses\n",
            "Installing collected packages: pyyaml, tokenizers, sacremoses, huggingface-hub, transformers\n",
            "  Attempting uninstall: pyyaml\n",
            "    Found existing installation: PyYAML 3.13\n",
            "    Uninstalling PyYAML-3.13:\n",
            "      Successfully uninstalled PyYAML-3.13\n",
            "Successfully installed huggingface-hub-0.5.1 pyyaml-6.0 sacremoses-0.0.53 tokenizers-0.12.1 transformers-4.18.0\n"
          ]
        }
      ],
      "source": [
        "!pip install torch torchvision transformers"
      ]
    },
    {
      "cell_type": "code",
      "source": [
        "import torch\n",
        "import torch.nn as nn\n",
        "import pandas as pd\n",
        "import nltk\n",
        "import pickle\n",
        "import matplotlib.pyplot as plt\n",
        "from torch.utils.data import Dataset, DataLoader\n",
        "from transformers import BertTokenizer, BertConfig, BertForSequenceClassification\n",
        "from transformers import AdamW\n",
        "from sklearn.metrics import precision_recall_fscore_support, accuracy_score"
      ],
      "metadata": {
        "id": "iS6mkvWBIH8j"
      },
      "execution_count": 2,
      "outputs": []
    },
    {
      "cell_type": "code",
      "source": [
        "nltk.download(\"stopwords\")"
      ],
      "metadata": {
        "colab": {
          "base_uri": "https://localhost:8080/"
        },
        "id": "5kztvTamgU0T",
        "outputId": "ff103ca4-b007-4cee-951e-45d84d8f4578"
      },
      "execution_count": 3,
      "outputs": [
        {
          "output_type": "stream",
          "name": "stdout",
          "text": [
            "[nltk_data] Downloading package stopwords to /root/nltk_data...\n",
            "[nltk_data]   Unzipping corpora/stopwords.zip.\n"
          ]
        },
        {
          "output_type": "execute_result",
          "data": {
            "text/plain": [
              "True"
            ]
          },
          "metadata": {},
          "execution_count": 3
        }
      ]
    },
    {
      "cell_type": "code",
      "source": [
        "from LoadData import LoadDataAndProcessing\n",
        "from RumourDataSet import RumourDataset"
      ],
      "metadata": {
        "id": "i6_o16fkCTEj"
      },
      "execution_count": 4,
      "outputs": []
    },
    {
      "cell_type": "code",
      "source": [
        "from google.colab import drive\n",
        "drive.mount('/content/drive')"
      ],
      "metadata": {
        "colab": {
          "base_uri": "https://localhost:8080/"
        },
        "id": "ee4YWhO-G4Hy",
        "outputId": "e005cd37-0f26-4033-ac6a-8481c5cfc883"
      },
      "execution_count": 5,
      "outputs": [
        {
          "output_type": "stream",
          "name": "stdout",
          "text": [
            "Mounted at /content/drive\n"
          ]
        }
      ]
    },
    {
      "cell_type": "code",
      "source": [
        "!mkdir \"/content/output\""
      ],
      "metadata": {
        "id": "cQ5dggn0KOXx"
      },
      "execution_count": 6,
      "outputs": []
    },
    {
      "cell_type": "markdown",
      "source": [
        "# **Build The Model**"
      ],
      "metadata": {
        "id": "5C8UU9gkfzMC"
      }
    },
    {
      "cell_type": "code",
      "source": [
        "# Parameters setting\n",
        "\n",
        "BATCH_SIZE = 8\n",
        "NUM_WORKERS = 2\n",
        "MAX_LEN = 450\n",
        "num_labels = 2\n",
        "hidden_dropout_prob = 0.2\n",
        "learning_rate = 2e-5\n",
        "weight_decay = 1e-2\n",
        "\n",
        "gpu = 0 # gpu ID\n",
        "device = torch.device(\"cuda:0\" if torch.cuda.is_available() else \"cpu\")"
      ],
      "metadata": {
        "id": "10vmWBICG4kN"
      },
      "execution_count": 7,
      "outputs": []
    },
    {
      "cell_type": "code",
      "source": [
        "# # If the inputs are already processed on local\n",
        "\n",
        "# train_input_file = \"/content/drive/MyDrive/NLP/data/train_input.pickle\"\n",
        "# dev_input_file = \"/content/drive/MyDrive/NLP/data/dev_input.pickle\"\n",
        "\n",
        "# train_input = pickle.load(open(train_input_file, \"rb\", -1))\n",
        "# dev_input = pickle.load(open(dev_input_file, \"rb\", -1))\n",
        "\n",
        "# #Creating instances of training and development set\n",
        "# #maxlen sets the maximum length a sentence can have\n",
        "# #any sentence longer than this length is truncated to the maxlen size\n",
        "# train_set = RumourDataset(data = train_input, maxlen = MAX_LEN)\n",
        "# dev_set = RumourDataset(data = dev_input, maxlen = MAX_LEN)\n",
        "\n",
        "# #Creating intsances of training and development dataloaders\n",
        "# train_loader = DataLoader(train_set, batch_size = BATCH_SIZE, \n",
        "#                           collate_fn=train_set.create_mini_batch, \n",
        "#                           num_workers = NUM_WORKERS, shuffle=True)\n",
        "# dev_loader = DataLoader(dev_set, batch_size = BATCH_SIZE, \n",
        "#                         collate_fn=dev_set.create_mini_batch, \n",
        "#                         num_workers = NUM_WORKERS, shuffle=True)\n",
        "\n",
        "# print(\"Done preprocessing training and development data.\")"
      ],
      "metadata": {
        "id": "X0YL-HbbgB-B"
      },
      "execution_count": 8,
      "outputs": []
    },
    {
      "cell_type": "code",
      "source": [
        "# else\n",
        "\n",
        "train_file = \"/content/drive/MyDrive/NLP/data/train_data_prepared.json\"\n",
        "dev_file = \"/content/drive/MyDrive/NLP/data/dev_data_prepared.json\"\n",
        "\n",
        "load_twitter_train_data = LoadDataAndProcessing(train_file)\n",
        "load_twitter_dev_data = LoadDataAndProcessing(dev_file)\n",
        "\n",
        "train_input = load_twitter_train_data.prepareDataset()\n",
        "dev_input = load_twitter_dev_data.prepareDataset()\n",
        "\n",
        "train_set = RumourDataset(data = train_input, maxlen = MAX_LEN)\n",
        "dev_set = RumourDataset(data = dev_input, maxlen = MAX_LEN)\n",
        "\n",
        "train_loader = DataLoader(train_set, batch_size = BATCH_SIZE, \n",
        "                          collate_fn=train_set.create_mini_batch, \n",
        "                          num_workers = NUM_WORKERS, shuffle=True)\n",
        "dev_loader = DataLoader(dev_set, batch_size = BATCH_SIZE, \n",
        "                        collate_fn=dev_set.create_mini_batch, \n",
        "                        num_workers = NUM_WORKERS, shuffle=True)\n",
        "\n",
        "print(\"Done preprocessing training and development data.\")"
      ],
      "metadata": {
        "id": "kUO7BonWG4RE",
        "colab": {
          "base_uri": "https://localhost:8080/",
          "height": 130,
          "referenced_widgets": [
            "d21863e7231f4088a19d20f454b2c6d5",
            "0aafc11b07c64d1896c38f5cd41ce5a1",
            "f9ceaa4632644828a812bb147e3e05ab",
            "4fd4a177eb734202bc53978d2d62a52d",
            "78ea6b510f1b48288e1c567cbe978587",
            "9db9f43cbc62470fbe10e3fc700c0873",
            "df1ff26bd7e748d6a9d9213eb8ce251f",
            "d9367ae0ac334239b9f518726443fd83",
            "a3a018172290411ea1e900b9b2c80140",
            "e8530336d8f640bab910b5e87de1bd9d",
            "244dcafe6e0543c688f245a26f86c7e1",
            "4e9f428df1de42bbb0eb0156980290fb",
            "587fdf1aef0b47a7bbe35e8672346e8d",
            "a09cdae3e8da4d609476947332ecc056",
            "10d0e056055d42eebf12dfba9d692290",
            "46297cadc1e94cb4bbb7d8b0b2e61f96",
            "33d0f016f3be45a196df7f1c5d56aa0b",
            "05c76c970cc5402ebd2caf5bdeebef2d",
            "2bd1db725d5c4ca2986726d535da920b",
            "9480842971584ee2a021162490bf7887",
            "ff34cf563d7d4de9ab2bfcb175d61d6b",
            "a162c7a75b0240a89c9158b5c627dd95",
            "dd952ee0d56b442194b2bf5990c96648",
            "bb7f50881eff413595771b944a2d265b",
            "7b7ed30a3ab74effa3e029e411d28a0d",
            "cb40508e52504af49769d77cf3b3ea39",
            "59e76f2ab30e4072bffd35cd950842af",
            "750f9186ed7748b1935ade5a31034501",
            "38d2ea299dae4fdd90cb744ea524d96d",
            "f8c37776e6a34bf78af9f69659ba83e8",
            "95b6a7f092b24f4ea9c73b5d1be05c70",
            "f5b1905972874865aa0a34bb9efbe592",
            "0603e71a507f4eceb4582695218bde32"
          ]
        },
        "outputId": "14a9ce77-7fd7-4ff0-f44a-7e93ec1269bb"
      },
      "execution_count": 9,
      "outputs": [
        {
          "output_type": "display_data",
          "data": {
            "text/plain": [
              "Downloading:   0%|          | 0.00/226k [00:00<?, ?B/s]"
            ],
            "application/vnd.jupyter.widget-view+json": {
              "version_major": 2,
              "version_minor": 0,
              "model_id": "d21863e7231f4088a19d20f454b2c6d5"
            }
          },
          "metadata": {}
        },
        {
          "output_type": "display_data",
          "data": {
            "text/plain": [
              "Downloading:   0%|          | 0.00/28.0 [00:00<?, ?B/s]"
            ],
            "application/vnd.jupyter.widget-view+json": {
              "version_major": 2,
              "version_minor": 0,
              "model_id": "4e9f428df1de42bbb0eb0156980290fb"
            }
          },
          "metadata": {}
        },
        {
          "output_type": "display_data",
          "data": {
            "text/plain": [
              "Downloading:   0%|          | 0.00/570 [00:00<?, ?B/s]"
            ],
            "application/vnd.jupyter.widget-view+json": {
              "version_major": 2,
              "version_minor": 0,
              "model_id": "dd952ee0d56b442194b2bf5990c96648"
            }
          },
          "metadata": {}
        },
        {
          "output_type": "stream",
          "name": "stdout",
          "text": [
            "Done preprocessing training and development data.\n"
          ]
        }
      ]
    },
    {
      "cell_type": "code",
      "source": [
        "# Load the model\n",
        "print(\"Creating the rumour classifier, initialised with pretrained BERT-BASE parameters...\")\n",
        "config = BertConfig.from_pretrained(\"bert-base-uncased\", \n",
        "                                    num_labels=num_labels, hidden_dropout_prob=hidden_dropout_prob)\n",
        "model = BertForSequenceClassification.from_pretrained(\"bert-base-uncased\", config=config)\n",
        "model.to(device)\n",
        "print(\"Done creating the rumour classifier.\")"
      ],
      "metadata": {
        "colab": {
          "base_uri": "https://localhost:8080/",
          "height": 191,
          "referenced_widgets": [
            "7812df8bd07d472bb949a30a48397c75",
            "7dce247385de434fb0c939edb0815a93",
            "eb542733febd4c7d81aab374722a10ad",
            "4f712e1b4a1341d784ca201891b0a169",
            "98ee515bbf0545c2ae183d14578c7df1",
            "15dfba0643874b61b9cfdc56de422188",
            "a099dc06c4314419821daebf29e91153",
            "6caf97cfed264d768373687686a4d416",
            "3ee51440aea34d108d0bd0d0689c7522",
            "ec1653d62474477ebde026390563cc11",
            "b7f1af6e872d4c898a366146e19944a1"
          ]
        },
        "id": "D8flfqnCG4nl",
        "outputId": "796de61c-9e49-468a-d50c-c3ff22ea3d4a"
      },
      "execution_count": 10,
      "outputs": [
        {
          "output_type": "stream",
          "name": "stdout",
          "text": [
            "Creating the rumour classifier, initialised with pretrained BERT-BASE parameters...\n"
          ]
        },
        {
          "output_type": "display_data",
          "data": {
            "text/plain": [
              "Downloading:   0%|          | 0.00/420M [00:00<?, ?B/s]"
            ],
            "application/vnd.jupyter.widget-view+json": {
              "version_major": 2,
              "version_minor": 0,
              "model_id": "7812df8bd07d472bb949a30a48397c75"
            }
          },
          "metadata": {}
        },
        {
          "output_type": "stream",
          "name": "stderr",
          "text": [
            "Some weights of the model checkpoint at bert-base-uncased were not used when initializing BertForSequenceClassification: ['cls.predictions.transform.dense.bias', 'cls.predictions.transform.LayerNorm.bias', 'cls.predictions.decoder.weight', 'cls.predictions.transform.LayerNorm.weight', 'cls.predictions.bias', 'cls.predictions.transform.dense.weight', 'cls.seq_relationship.bias', 'cls.seq_relationship.weight']\n",
            "- This IS expected if you are initializing BertForSequenceClassification from the checkpoint of a model trained on another task or with another architecture (e.g. initializing a BertForSequenceClassification model from a BertForPreTraining model).\n",
            "- This IS NOT expected if you are initializing BertForSequenceClassification from the checkpoint of a model that you expect to be exactly identical (initializing a BertForSequenceClassification model from a BertForSequenceClassification model).\n",
            "Some weights of BertForSequenceClassification were not initialized from the model checkpoint at bert-base-uncased and are newly initialized: ['classifier.bias', 'classifier.weight']\n",
            "You should probably TRAIN this model on a down-stream task to be able to use it for predictions and inference.\n"
          ]
        },
        {
          "output_type": "stream",
          "name": "stdout",
          "text": [
            "Done creating the rumour classifier.\n"
          ]
        }
      ]
    },
    {
      "cell_type": "code",
      "source": [
        "# Prepare optimizer and schedule (linear warmup and decay)\n",
        "# set the bias and LayerNorm.weight \n",
        "no_decay = ['bias', 'LayerNorm.weight']\n",
        "optimizer_grouped_parameters = [\n",
        "        {'params': [p for n, p in model.named_parameters() if not \n",
        "                    any(nd in n for nd in no_decay)], 'weight_decay': weight_decay},\n",
        "        {'params': [p for n, p in model.named_parameters() if \n",
        "                    any(nd in n for nd in no_decay)], 'weight_decay': 0.0}\n",
        "]\n",
        "\n",
        "#optimizer = AdamW(model.parameters(), lr=learning_rate)\n",
        "optimizer = torch.optim.AdamW(optimizer_grouped_parameters, lr=learning_rate)\n",
        "criterion = nn.CrossEntropyLoss()"
      ],
      "metadata": {
        "id": "Z65P3aRdG4qm"
      },
      "execution_count": 11,
      "outputs": []
    },
    {
      "cell_type": "markdown",
      "source": [
        "# **Trian and Evaluate the Model**"
      ],
      "metadata": {
        "id": "YhvBRVaffQ65"
      }
    },
    {
      "cell_type": "code",
      "source": [
        "def train(model, dataloader, optimizer, criterion, device):\n",
        "    model.train()\n",
        "    epoch_loss = 0\n",
        "    epoch_acc = 0\n",
        "    for i, batch in enumerate(dataloader):\n",
        "\n",
        "        tokens_tensors, segments_tensors, masks_tensors, labels = [t.to(device) for t in batch]\n",
        "\n",
        "        optimizer.zero_grad()\n",
        "\n",
        "        output = model(input_ids=tokens_tensors, \n",
        "                       token_type_ids=segments_tensors, \n",
        "                       attention_mask=masks_tensors, labels=labels)\n",
        "\n",
        "        y_pred_prob = output[1]\n",
        "        y_pred_label = y_pred_prob.argmax(dim=1)\n",
        "\n",
        "        loss = criterion(y_pred_prob.view(-1, 2), labels.view(-1))\n",
        "\n",
        "        acc = ((y_pred_label == labels.view(-1)).sum()).item()\n",
        "\n",
        "        loss.backward()\n",
        "        optimizer.step()\n",
        "\n",
        "        epoch_loss += loss.item()\n",
        "        epoch_acc += acc\n",
        "\n",
        "        if i % 200 == 0:\n",
        "            print(\"Iteration {} complete. Loss:{}, Accuracy:{}\".format(\n",
        "                i, epoch_loss / (i+1), epoch_acc / ((i+1)*len(labels))))\n",
        "\n",
        "    return epoch_loss / len(dataloader), epoch_acc / len(dataloader.dataset)\n",
        "\n",
        "def evaluate(model, iterator, device):\n",
        "    model.eval()\n",
        "    epoch_loss = 0\n",
        "    epoch_acc = 0\n",
        "    TP, TN, FN, FP = 0, 0, 0 ,0\n",
        "\n",
        "    with torch.no_grad():\n",
        "        for _, batch in enumerate(iterator):\n",
        "            tokens_tensors, segments_tensors, masks_tensors, labels = [t.to(device) for t in batch]\n",
        "\n",
        "            output = model(input_ids=tokens_tensors, \n",
        "                           token_type_ids=segments_tensors, \n",
        "                           attention_mask=masks_tensors, labels=labels)\n",
        "            y_pred_label = output[1].argmax(dim=1)\n",
        "            loss = output[0]\n",
        "            acc = ((y_pred_label == labels.view(-1)).sum()).item()\n",
        "\n",
        "            epoch_loss += loss.item()\n",
        "            epoch_acc += acc\n",
        "\n",
        "    return epoch_loss / len(iterator), epoch_acc / len(iterator.dataset)"
      ],
      "metadata": {
        "id": "ahdLdy_WnqmE"
      },
      "execution_count": 12,
      "outputs": []
    },
    {
      "cell_type": "code",
      "source": [
        "train_acc_list = []\n",
        "train_loss_list = []\n",
        "dev_acc_list = []\n",
        "dev_loss_list = []\n",
        "\n",
        "best_acc = 0\n",
        "EPOCHS = 20\n",
        "best_ep = 0\n",
        "for ep in range(EPOCHS):\n",
        "    print(\"EPOCH {} ------------------------------------------------------\".format(ep+1))\n",
        "    train_loss, train_acc = train(model, train_loader, optimizer, criterion, device)\n",
        "    print(\"EPOCH {}:\".format(ep+1), \"Mean train loss: \", train_loss, \"\\t\", \"Mean train acc:\", train_acc)\n",
        "    dev_loss, dev_acc = evaluate(model, dev_loader, device)\n",
        "    print(\"EPOCH {}:\".format(ep+1), \"Mean dev loss: \", dev_loss, \"\\t\", \"Mean dev acc:\", dev_acc)\n",
        "\n",
        "    train_acc_list.append(train_acc)\n",
        "    train_loss_list.append(train_loss)\n",
        "    dev_acc_list.append(dev_acc)\n",
        "    dev_loss_list.append(dev_loss)\n",
        "\n",
        "    if dev_acc > best_acc:\n",
        "      print(\"Best development accuracy improved from {} to {}, saving model...\".format(best_acc, dev_acc))\n",
        "      best_acc = dev_acc\n",
        "      best_ep = ep\n",
        "      torch.save(model.state_dict(), 'sstcls_{}.dat'.format(ep))\n",
        "    \n",
        "    print(\"*\"*80)\n"
      ],
      "metadata": {
        "colab": {
          "base_uri": "https://localhost:8080/"
        },
        "id": "T5utQOyEnqqW",
        "outputId": "ad79627e-be06-4f16-f1db-dfbaff1880b4"
      },
      "execution_count": 13,
      "outputs": [
        {
          "output_type": "stream",
          "name": "stdout",
          "text": [
            "EPOCH 1 ------------------------------------------------------\n",
            "Iteration 0 complete. Loss:0.7097280025482178, Accuracy:0.5\n",
            "EPOCH 1: Mean train loss:  0.41712550809416843 \t Mean train acc: 0.8070287539936102\n",
            "EPOCH 1: Mean dev loss:  0.413543799015529 \t Mean dev acc: 0.8104089219330854\n",
            "Best development accuracy improved from 0 to 0.8104089219330854, saving model...\n",
            "********************************************************************************\n",
            "EPOCH 2 ------------------------------------------------------\n",
            "Iteration 0 complete. Loss:0.18448057770729065, Accuracy:0.875\n",
            "EPOCH 2: Mean train loss:  0.2670028810294307 \t Mean train acc: 0.8843450479233227\n",
            "EPOCH 2: Mean dev loss:  0.24033481255173683 \t Mean dev acc: 0.9070631970260223\n",
            "Best development accuracy improved from 0.8104089219330854 to 0.9070631970260223, saving model...\n",
            "********************************************************************************\n",
            "EPOCH 3 ------------------------------------------------------\n",
            "Iteration 0 complete. Loss:0.15045447647571564, Accuracy:0.875\n",
            "EPOCH 3: Mean train loss:  0.17181215617967274 \t Mean train acc: 0.9361022364217252\n",
            "EPOCH 3: Mean dev loss:  0.22297883692526205 \t Mean dev acc: 0.9256505576208178\n",
            "Best development accuracy improved from 0.9070631970260223 to 0.9256505576208178, saving model...\n",
            "********************************************************************************\n",
            "EPOCH 4 ------------------------------------------------------\n",
            "Iteration 0 complete. Loss:0.017484411597251892, Accuracy:1.0\n",
            "EPOCH 4: Mean train loss:  0.08665769538671082 \t Mean train acc: 0.9744408945686901\n",
            "EPOCH 4: Mean dev loss:  0.17491741299026592 \t Mean dev acc: 0.9386617100371747\n",
            "Best development accuracy improved from 0.9256505576208178 to 0.9386617100371747, saving model...\n",
            "********************************************************************************\n",
            "EPOCH 5 ------------------------------------------------------\n",
            "Iteration 0 complete. Loss:0.009294089861214161, Accuracy:1.0\n",
            "EPOCH 5: Mean train loss:  0.055603293095577544 \t Mean train acc: 0.9865814696485623\n",
            "EPOCH 5: Mean dev loss:  0.14723865056465216 \t Mean dev acc: 0.9442379182156134\n",
            "Best development accuracy improved from 0.9386617100371747 to 0.9442379182156134, saving model...\n",
            "********************************************************************************\n",
            "EPOCH 6 ------------------------------------------------------\n",
            "Iteration 0 complete. Loss:0.012817642651498318, Accuracy:1.0\n",
            "EPOCH 6: Mean train loss:  0.025504812039910073 \t Mean train acc: 0.9936102236421726\n",
            "EPOCH 6: Mean dev loss:  0.23584156216683744 \t Mean dev acc: 0.9405204460966543\n",
            "********************************************************************************\n",
            "EPOCH 7 ------------------------------------------------------\n",
            "Iteration 0 complete. Loss:0.0031113235745579004, Accuracy:1.0\n",
            "EPOCH 7: Mean train loss:  0.026520276084905776 \t Mean train acc: 0.9904153354632588\n",
            "EPOCH 7: Mean dev loss:  0.21745839659021893 \t Mean dev acc: 0.9460966542750929\n",
            "Best development accuracy improved from 0.9442379182156134 to 0.9460966542750929, saving model...\n",
            "********************************************************************************\n",
            "EPOCH 8 ------------------------------------------------------\n",
            "Iteration 0 complete. Loss:0.0014289169339463115, Accuracy:1.0\n",
            "EPOCH 8: Mean train loss:  0.007023923280494459 \t Mean train acc: 0.9980830670926517\n",
            "EPOCH 8: Mean dev loss:  0.25408253763645705 \t Mean dev acc: 0.9535315985130112\n",
            "Best development accuracy improved from 0.9460966542750929 to 0.9535315985130112, saving model...\n",
            "********************************************************************************\n",
            "EPOCH 9 ------------------------------------------------------\n",
            "Iteration 0 complete. Loss:0.0009900323348119855, Accuracy:1.0\n",
            "EPOCH 9: Mean train loss:  0.004634712269614042 \t Mean train acc: 0.9993610223642172\n",
            "EPOCH 9: Mean dev loss:  0.21403165725325166 \t Mean dev acc: 0.949814126394052\n",
            "********************************************************************************\n",
            "EPOCH 10 ------------------------------------------------------\n",
            "Iteration 0 complete. Loss:0.00143687694799155, Accuracy:1.0\n",
            "EPOCH 10: Mean train loss:  0.03013121183250071 \t Mean train acc: 0.9916932907348243\n",
            "EPOCH 10: Mean dev loss:  0.17587066829069312 \t Mean dev acc: 0.9572490706319703\n",
            "Best development accuracy improved from 0.9535315985130112 to 0.9572490706319703, saving model...\n",
            "********************************************************************************\n",
            "EPOCH 11 ------------------------------------------------------\n",
            "Iteration 0 complete. Loss:0.0011611862573772669, Accuracy:1.0\n",
            "EPOCH 11: Mean train loss:  0.02117195580575178 \t Mean train acc: 0.9929712460063898\n",
            "EPOCH 11: Mean dev loss:  0.22057885472981176 \t Mean dev acc: 0.9479553903345725\n",
            "********************************************************************************\n",
            "EPOCH 12 ------------------------------------------------------\n",
            "Iteration 0 complete. Loss:0.005050654988735914, Accuracy:1.0\n",
            "EPOCH 12: Mean train loss:  0.00588552278958912 \t Mean train acc: 0.9987220447284345\n",
            "EPOCH 12: Mean dev loss:  0.21113341441099798 \t Mean dev acc: 0.9646840148698885\n",
            "Best development accuracy improved from 0.9572490706319703 to 0.9646840148698885, saving model...\n",
            "********************************************************************************\n",
            "EPOCH 13 ------------------------------------------------------\n",
            "Iteration 0 complete. Loss:0.0015522222965955734, Accuracy:1.0\n",
            "EPOCH 13: Mean train loss:  0.00047133925434128304 \t Mean train acc: 1.0\n",
            "EPOCH 13: Mean dev loss:  0.23819768383317055 \t Mean dev acc: 0.9628252788104089\n",
            "********************************************************************************\n",
            "EPOCH 14 ------------------------------------------------------\n",
            "Iteration 0 complete. Loss:0.0003320511314086616, Accuracy:1.0\n",
            "EPOCH 14: Mean train loss:  0.0002975990182490858 \t Mean train acc: 1.0\n",
            "EPOCH 14: Mean dev loss:  0.24444906944218553 \t Mean dev acc: 0.9628252788104089\n",
            "********************************************************************************\n",
            "EPOCH 15 ------------------------------------------------------\n",
            "Iteration 0 complete. Loss:0.0003998315369244665, Accuracy:1.0\n",
            "EPOCH 15: Mean train loss:  0.000232354024625906 \t Mean train acc: 1.0\n",
            "EPOCH 15: Mean dev loss:  0.2522423755384379 \t Mean dev acc: 0.9628252788104089\n",
            "********************************************************************************\n",
            "EPOCH 16 ------------------------------------------------------\n",
            "Iteration 0 complete. Loss:0.00022364480537362397, Accuracy:1.0\n",
            "EPOCH 16: Mean train loss:  0.0001943415938921116 \t Mean train acc: 1.0\n",
            "EPOCH 16: Mean dev loss:  0.26785822935198667 \t Mean dev acc: 0.9628252788104089\n",
            "********************************************************************************\n",
            "EPOCH 17 ------------------------------------------------------\n",
            "Iteration 0 complete. Loss:0.00014317171007860452, Accuracy:1.0\n",
            "EPOCH 17: Mean train loss:  0.00015534125100666828 \t Mean train acc: 1.0\n",
            "EPOCH 17: Mean dev loss:  0.27408782128703235 \t Mean dev acc: 0.9628252788104089\n",
            "********************************************************************************\n",
            "EPOCH 18 ------------------------------------------------------\n",
            "Iteration 0 complete. Loss:0.00012733488983940333, Accuracy:1.0\n",
            "EPOCH 18: Mean train loss:  0.00012993092530784768 \t Mean train acc: 1.0\n",
            "EPOCH 18: Mean dev loss:  0.2816621335223852 \t Mean dev acc: 0.9628252788104089\n",
            "********************************************************************************\n",
            "EPOCH 19 ------------------------------------------------------\n",
            "Iteration 0 complete. Loss:8.725704537937418e-05, Accuracy:1.0\n",
            "EPOCH 19: Mean train loss:  0.00011235653953323835 \t Mean train acc: 1.0\n",
            "EPOCH 19: Mean dev loss:  0.2872293646534993 \t Mean dev acc: 0.9628252788104089\n",
            "********************************************************************************\n",
            "EPOCH 20 ------------------------------------------------------\n",
            "Iteration 0 complete. Loss:0.00011730672849807888, Accuracy:1.0\n",
            "EPOCH 20: Mean train loss:  0.00010331430645720149 \t Mean train acc: 1.0\n",
            "EPOCH 20: Mean dev loss:  0.2894737620703488 \t Mean dev acc: 0.9628252788104089\n",
            "********************************************************************************\n"
          ]
        }
      ]
    },
    {
      "cell_type": "code",
      "source": [
        "epochs = range(1, EPOCHS+1)\n",
        "plt.plot(epochs, train_acc_list, 'b', label = 'Train accuracy')\n",
        "plt.plot(epochs, dev_acc_list, 'r', label = 'Development accuracy')\n",
        "plt.title('Performance on Accuracy')\n",
        "plt.legend()\n",
        "plt.savefig(\"output/Accuracy.png\")\n",
        "plt.show()"
      ],
      "metadata": {
        "id": "NHzHPLlcefFW",
        "colab": {
          "base_uri": "https://localhost:8080/",
          "height": 281
        },
        "outputId": "1bad6760-e1f4-4751-ee9b-50424073a879"
      },
      "execution_count": 14,
      "outputs": [
        {
          "output_type": "display_data",
          "data": {
            "text/plain": [
              "<Figure size 432x288 with 1 Axes>"
            ],
            "image/png": "[encoded data removed]"
          },
          "metadata": {
            "needs_background": "light"
          }
        }
      ]
    },
    {
      "cell_type": "code",
      "source": [
        "epochs = range(1, EPOCHS+1)\n",
        "plt.plot(epochs, train_loss_list, 'b', label = 'Train loss')\n",
        "plt.plot(epochs, dev_loss_list, 'r', label = 'Development loss')\n",
        "plt.title('Performance on Loss')\n",
        "plt.legend()\n",
        "plt.savefig(\"output/Loss.png\")\n",
        "plt.show()"
      ],
      "metadata": {
        "id": "e5opr5kcOXqm",
        "colab": {
          "base_uri": "https://localhost:8080/",
          "height": 281
        },
        "outputId": "c51041fe-c616-49c9-9cf5-fb4c4895e978"
      },
      "execution_count": 15,
      "outputs": [
        {
          "output_type": "display_data",
          "data": {
            "text/plain": [
              "<Figure size 432x288 with 1 Axes>"
            ],
            "image/png": "[encoded data removed]"
          },
          "metadata": {
            "needs_background": "light"
          }
        }
      ]
    },
    {
      "cell_type": "markdown",
      "source": [
        "# **Devset Prediction**"
      ],
      "metadata": {
        "id": "Q_CLUY6Qh91W"
      }
    },
    {
      "cell_type": "code",
      "source": [
        "# # If the inputs are already processed on local\n",
        "\n",
        "# dev_to_predict_input_file = \"/content/drive/MyDrive/NLP/data/dev_to_predict_input.pickle\"\n",
        "\n",
        "# dev_to_predict_input = pickle.load(open(dev_to_predict_input_file, \"rb\", -1))"
      ],
      "metadata": {
        "id": "cQNORP5riMla"
      },
      "execution_count": 16,
      "outputs": []
    },
    {
      "cell_type": "code",
      "source": [
        "# else\n",
        "\n",
        "dev_to_predict_input_file = \"/content/drive/MyDrive/NLP/data/dev_data_to_predict.json\"\n",
        "\n",
        "load_twitter_dev_to_predict_data = LoadDataAndProcessing(dev_to_predict_input_file)\n",
        "\n",
        "dev_to_predict_input = load_twitter_dev_to_predict_data.prepareDataset()"
      ],
      "metadata": {
        "id": "5j1WwTAIiMjJ"
      },
      "execution_count": 18,
      "outputs": []
    },
    {
      "cell_type": "code",
      "source": [
        "dev_to_predict_set = RumourDataset(data = dev_to_predict_input, maxlen = MAX_LEN)\n",
        "dev_to_predict_loader = DataLoader(dev_to_predict_set, collate_fn=dev_to_predict_set.create_mini_batch, \n",
        "                         batch_size = BATCH_SIZE, num_workers = NUM_WORKERS)"
      ],
      "metadata": {
        "id": "ODCnntDNiMgf"
      },
      "execution_count": 19,
      "outputs": []
    },
    {
      "cell_type": "code",
      "source": [
        "def predict(net, test_loader, model_file=None):\n",
        "    # load weight\n",
        "    if model_file != None:\n",
        "      net.load_state_dict(torch.load(model_file))\n",
        "    \n",
        "    predictions = []\n",
        "    \n",
        "    for _, batch in enumerate(test_loader):\n",
        "      tokens_tensors, segments_tensors, masks_tensors = [t.to(device) for t in batch]\n",
        "\n",
        "      output = model(input_ids=tokens_tensors, \n",
        "                      token_type_ids=segments_tensors, \n",
        "                      attention_mask=masks_tensors)\n",
        "      probs = output[0].argmax(dim=1)\n",
        "      soft_probs = (probs > 0.5).long()\n",
        "      predictions.extend(soft_probs.cpu().numpy().squeeze())\n",
        "    \n",
        "    return predictions"
      ],
      "metadata": {
        "id": "uHpxvjDhiMdR"
      },
      "execution_count": 20,
      "outputs": []
    },
    {
      "cell_type": "code",
      "source": [
        "model_file = \"sstcls_{}.dat\".format(best_ep)\n",
        "dev_predictions = predict(model, dev_to_predict_loader, model_file)\n",
        "len(dev_predictions)"
      ],
      "metadata": {
        "colab": {
          "base_uri": "https://localhost:8080/"
        },
        "id": "N2QNQF7Oi-9F",
        "outputId": "3bd89df2-8a30-4a7b-de94-57d2e259840b"
      },
      "execution_count": 21,
      "outputs": [
        {
          "output_type": "execute_result",
          "data": {
            "text/plain": [
              "538"
            ]
          },
          "metadata": {},
          "execution_count": 21
        }
      ]
    },
    {
      "cell_type": "code",
      "source": [
        "dev_pred = pd.DataFrame(data=dev_predictions, columns=['Predicted']).reset_index()\n",
        "dev_pred = dev_pred.rename(columns={'index': 'Id'})\n",
        "print(dev_pred)\n",
        "\n",
        "dev_pred.to_csv('output/dev_prediction.csv', index = False)"
      ],
      "metadata": {
        "colab": {
          "base_uri": "https://localhost:8080/"
        },
        "id": "Z_UexAc0i-42",
        "outputId": "cdbb5e77-944f-401e-adf4-b08515b84e42"
      },
      "execution_count": 22,
      "outputs": [
        {
          "output_type": "stream",
          "name": "stdout",
          "text": [
            "      Id  Predicted\n",
            "0      0          0\n",
            "1      1          0\n",
            "2      2          0\n",
            "3      3          0\n",
            "4      4          0\n",
            "..   ...        ...\n",
            "533  533          1\n",
            "534  534          0\n",
            "535  535          1\n",
            "536  536          0\n",
            "537  537          0\n",
            "\n",
            "[538 rows x 2 columns]\n"
          ]
        }
      ]
    },
    {
      "cell_type": "code",
      "source": [
        "dev_true_label_file = '/content/drive/MyDrive/NLP/data/valid.dev.label.txt'\n",
        "dev_true_label = pd.read_table(dev_true_label_file,sep='\\n', \n",
        "                               header=None)[0].apply(lambda x: 1 if x==\"rumour\" else 0)"
      ],
      "metadata": {
        "id": "eHb-PCUgnEDw"
      },
      "execution_count": 23,
      "outputs": []
    },
    {
      "cell_type": "code",
      "source": [
        "y_true = list(dev_true_label)\n",
        "y_pred = dev_predictions"
      ],
      "metadata": {
        "id": "JNVvNDSfnFfg"
      },
      "execution_count": 24,
      "outputs": []
    },
    {
      "cell_type": "code",
      "source": [
        "p, r, f1, _ = precision_recall_fscore_support(y_true, y_pred, pos_label=1, average=\"binary\")\n",
        "a = accuracy_score(y_true, y_pred)"
      ],
      "metadata": {
        "id": "OVCbRRjgnFbg"
      },
      "execution_count": 25,
      "outputs": []
    },
    {
      "cell_type": "code",
      "source": [
        "print(\"Performance on the rumour class:\")\n",
        "print(\"Accuracy  =\", a)\n",
        "print(\"Precision =\", p)\n",
        "print(\"Recall    =\", r)\n",
        "print(\"F1        =\", f1)"
      ],
      "metadata": {
        "colab": {
          "base_uri": "https://localhost:8080/"
        },
        "id": "_zmsxBOznFX_",
        "outputId": "761f44b3-ff4e-4f4d-fc08-071d32585001"
      },
      "execution_count": 36,
      "outputs": [
        {
          "output_type": "stream",
          "name": "stdout",
          "text": [
            "Performance on the rumour class:\n",
            "Accuracy  = 0.9646840148698885\n",
            "Precision = 0.9444444444444444\n",
            "Recall    = 0.8869565217391304\n",
            "F1        = 0.914798206278027\n"
          ]
        }
      ]
    },
    {
      "cell_type": "code",
      "source": [
        "with open('output/dev_performance.txt', 'w') as f:\n",
        "    f.write(\"Accuracy  = {}\\n\".format(a) +\n",
        "            \"Precision = {}\\n\".format(p) +\n",
        "            \"Recall    = {}\\n\".format(r) + \n",
        "            \"F1        = {}\\n\".format(f1))"
      ],
      "metadata": {
        "id": "kFT1yNFEnFUr"
      },
      "execution_count": 27,
      "outputs": []
    },
    {
      "cell_type": "markdown",
      "source": [
        "# **Testset Prediction**"
      ],
      "metadata": {
        "id": "Xhyo4ifwe9el"
      }
    },
    {
      "cell_type": "code",
      "source": [
        "# # If the inputs are already processed on local\n",
        "\n",
        "# test_input_file = \"/content/drive/MyDrive/NLP/data/test_input.pickle\"\n",
        "\n",
        "# test_input = pickle.load(open(test_input_file, \"rb\", -1))"
      ],
      "metadata": {
        "id": "ZBRD9z8POXuz"
      },
      "execution_count": 28,
      "outputs": []
    },
    {
      "cell_type": "code",
      "source": [
        "# else\n",
        "\n",
        "test_file = \"/content/drive/MyDrive/NLP/data/test_data_prepared.json\"\n",
        "\n",
        "load_twitter_test_data = LoadDataAndProcessing(test_file)\n",
        "\n",
        "test_input = load_twitter_test_data.prepareDataset()"
      ],
      "metadata": {
        "id": "687x-9kJVMh6"
      },
      "execution_count": 29,
      "outputs": []
    },
    {
      "cell_type": "code",
      "source": [
        "test_set = RumourDataset(data = test_input, maxlen = MAX_LEN)\n",
        "test_loader = DataLoader(test_set, collate_fn=test_set.create_mini_batch, \n",
        "                         batch_size = BATCH_SIZE, num_workers = NUM_WORKERS)"
      ],
      "metadata": {
        "id": "O_59hIAWOXzF"
      },
      "execution_count": 30,
      "outputs": []
    },
    {
      "cell_type": "code",
      "source": [
        "model_file = \"sstcls_{}.dat\".format(best_ep)\n",
        "predictions = predict(model, test_loader, model_file)\n",
        "len(predictions)"
      ],
      "metadata": {
        "id": "VLah0WnQPJKG",
        "colab": {
          "base_uri": "https://localhost:8080/"
        },
        "outputId": "1340bf49-2e76-4c1b-9046-56cea0c52d14"
      },
      "execution_count": 31,
      "outputs": [
        {
          "output_type": "execute_result",
          "data": {
            "text/plain": [
              "558"
            ]
          },
          "metadata": {},
          "execution_count": 31
        }
      ]
    },
    {
      "cell_type": "code",
      "source": [
        "pred = pd.DataFrame(data=predictions, columns=['Predicted']).reset_index()\n",
        "pred = pred.rename(columns={'index': 'Id'})\n",
        "print(pred)\n",
        "\n",
        "pred.to_csv('output/test_prediction.csv', index = False)"
      ],
      "metadata": {
        "id": "bJxk6rSWOeDw",
        "colab": {
          "base_uri": "https://localhost:8080/"
        },
        "outputId": "55e799e7-8c3f-4061-d1fc-1ccfd02b420d"
      },
      "execution_count": 32,
      "outputs": [
        {
          "output_type": "stream",
          "name": "stdout",
          "text": [
            "      Id  Predicted\n",
            "0      0          0\n",
            "1      1          0\n",
            "2      2          0\n",
            "3      3          0\n",
            "4      4          0\n",
            "..   ...        ...\n",
            "553  553          0\n",
            "554  554          0\n",
            "555  555          1\n",
            "556  556          0\n",
            "557  557          0\n",
            "\n",
            "[558 rows x 2 columns]\n"
          ]
        }
      ]
    },
    {
      "cell_type": "code",
      "source": [
        "with open('output/Parameters.txt', 'w') as f:\n",
        "    f.write(\"BATCH_SIZE          = {},\\n\".format(BATCH_SIZE) +\n",
        "            \"NUM_WORKERS         = {},\\n\".format(NUM_WORKERS) +\n",
        "            \"MAX_LEN             = {},\\n\".format(MAX_LEN) +\n",
        "            \"hidden_dropout_prob = {},\\n\".format(hidden_dropout_prob) +\n",
        "            \"learning_rate       = {},\\n\".format(learning_rate) +\n",
        "            \"weight_decay        = {}\".format(weight_decay))"
      ],
      "metadata": {
        "id": "wjCe2ByhZUX_"
      },
      "execution_count": 33,
      "outputs": []
    },
    {
      "cell_type": "markdown",
      "source": [
        "# **Covid set Prediction**"
      ],
      "metadata": {
        "id": "fa0x95C8kY0n"
      }
    },
    {
      "cell_type": "code",
      "source": [
        "# # For task 2 covid data\n",
        "\n",
        "# covid_input_file = \"/content/drive/MyDrive/NLP/data/covid_input.pickle\"\n",
        "\n",
        "# covid_input = pickle.load(open(covid_input_file, \"rb\", -1))"
      ],
      "metadata": {
        "id": "zcSOCUSUnqIa"
      },
      "execution_count": null,
      "outputs": []
    },
    {
      "cell_type": "code",
      "source": [
        "# else\n",
        "\n",
        "covid_file = \"/content/drive/MyDrive/NLP/data/covid_data_prepared.json\"\n",
        "\n",
        "load_twitter_covid_data = LoadDataAndProcessing(covid_file)\n",
        "\n",
        "covid_input = load_twitter_covid_data.prepareDataset()"
      ],
      "metadata": {
        "id": "J_qMSQ2Mdvan"
      },
      "execution_count": null,
      "outputs": []
    },
    {
      "cell_type": "code",
      "source": [
        "covid_set = RumourDataset(data = covid_input, maxlen = MAX_LEN)\n",
        "covid_loader = DataLoader(covid_set, collate_fn=covid_set.create_mini_batch, \n",
        "                         batch_size = BATCH_SIZE, num_workers = NUM_WORKERS)"
      ],
      "metadata": {
        "id": "VKz__WU7ZUiN"
      },
      "execution_count": null,
      "outputs": []
    },
    {
      "cell_type": "code",
      "source": [
        "model_file = \"sstcls_{}.dat\".format(best_ep)\n",
        "covid_predictions = predict(model, covid_loader, model_file)\n",
        "len(covid_predictions)"
      ],
      "metadata": {
        "colab": {
          "base_uri": "https://localhost:8080/"
        },
        "id": "7XYkbHMQk6jz",
        "outputId": "603892a6-fb70-47cf-d07c-886a3b9c924c"
      },
      "execution_count": null,
      "outputs": [
        {
          "output_type": "execute_result",
          "data": {
            "text/plain": [
              "13454"
            ]
          },
          "metadata": {},
          "execution_count": 72
        }
      ]
    },
    {
      "cell_type": "code",
      "source": [
        "covid_pred = pd.DataFrame(data=covid_predictions, columns=['Predicted']).reset_index()\n",
        "covid_pred = pred.rename(columns={'index': 'Id'})\n",
        "print(pred)\n",
        "\n",
        "covid_pred.to_csv('covid_prediction.csv', index = False)"
      ],
      "metadata": {
        "colab": {
          "base_uri": "https://localhost:8080/"
        },
        "id": "Ea0XlU03k6g0",
        "outputId": "00c94dfd-af12-42a9-a348-e9e95ff80031"
      },
      "execution_count": null,
      "outputs": [
        {
          "output_type": "stream",
          "name": "stdout",
          "text": [
            "          Id  Predicted\n",
            "0          0          0\n",
            "1          1          0\n",
            "2          2          0\n",
            "3          3          0\n",
            "4          4          0\n",
            "...      ...        ...\n",
            "13449  13449          0\n",
            "13450  13450          1\n",
            "13451  13451          1\n",
            "13452  13452          0\n",
            "13453  13453          0\n",
            "\n",
            "[13454 rows x 2 columns]\n"
          ]
        }
      ]
    },
    {
      "cell_type": "markdown",
      "source": [
        "# **Download Output**"
      ],
      "metadata": {
        "id": "Vt0TfULRKz3A"
      }
    },
    {
      "cell_type": "code",
      "source": [
        "!zip -r output.zip output"
      ],
      "metadata": {
        "colab": {
          "base_uri": "https://localhost:8080/"
        },
        "id": "ofW5gtCgKyBN",
        "outputId": "737a3b97-2ba5-422e-a249-55e92f7c419b"
      },
      "execution_count": 34,
      "outputs": [
        {
          "output_type": "stream",
          "name": "stdout",
          "text": [
            "  adding: output/ (stored 0%)\n",
            "  adding: output/Parameters.txt (deflated 7%)\n",
            "  adding: output/Loss.png (deflated 5%)\n",
            "  adding: output/test_prediction.csv (deflated 64%)\n",
            "  adding: output/dev_performance.txt (deflated 21%)\n",
            "  adding: output/dev_prediction.csv (deflated 64%)\n",
            "  adding: output/Accuracy.png (deflated 7%)\n"
          ]
        }
      ]
    },
    {
      "cell_type": "code",
      "source": [
        "from google.colab import files\n",
        "files.download(\"output.zip\")"
      ],
      "metadata": {
        "colab": {
          "base_uri": "https://localhost:8080/",
          "height": 0
        },
        "id": "aFzs7_wULXID",
        "outputId": "b05f5349-e86f-4cbb-f063-6cbe01dfb393"
      },
      "execution_count": 35,
      "outputs": [
        {
          "output_type": "display_data",
          "data": {
            "text/plain": [
              "<IPython.core.display.Javascript object>"
            ],
            "application/javascript": [
              "\n",
              "    async function download(id, filename, size) {\n",
              "      if (!google.colab.kernel.accessAllowed) {\n",
              "        return;\n",
              "      }\n",
              "      const div = document.createElement('div');\n",
              "      const label = document.createElement('label');\n",
              "      label.textContent = `Downloading \"${filename}\": `;\n",
              "      div.appendChild(label);\n",
              "      const progress = document.createElement('progress');\n",
              "      progress.max = size;\n",
              "      div.appendChild(progress);\n",
              "      document.body.appendChild(div);\n",
              "\n",
              "      const buffers = [];\n",
              "      let downloaded = 0;\n",
              "\n",
              "      const channel = await google.colab.kernel.comms.open(id);\n",
              "      // Send a message to notify the kernel that we're ready.\n",
              "      channel.send({})\n",
              "\n",
              "      for await (const message of channel.messages) {\n",
              "        // Send a message to notify the kernel that we're ready.\n",
              "        channel.send({})\n",
              "        if (message.buffers) {\n",
              "          for (const buffer of message.buffers) {\n",
              "            buffers.push(buffer);\n",
              "            downloaded += buffer.byteLength;\n",
              "            progress.value = downloaded;\n",
              "          }\n",
              "        }\n",
              "      }\n",
              "      const blob = new Blob(buffers, {type: 'application/binary'});\n",
              "      const a = document.createElement('a');\n",
              "      a.href = window.URL.createObjectURL(blob);\n",
              "      a.download = filename;\n",
              "      div.appendChild(a);\n",
              "      a.click();\n",
              "      div.remove();\n",
              "    }\n",
              "  "
            ]
          },
          "metadata": {}
        },
        {
          "output_type": "display_data",
          "data": {
            "text/plain": [
              "<IPython.core.display.Javascript object>"
            ],
            "application/javascript": [
              "download(\"download_9bc80075-6ce3-40c1-8458-828a69f5fb99\", \"output.zip\", 36575)"
            ]
          },
          "metadata": {}
        }
      ]
    },
    {
      "cell_type": "markdown",
      "source": [
        "# Empty the memory"
      ],
      "metadata": {
        "id": "x0tkHLqSe3Wd"
      }
    },
    {
      "cell_type": "code",
      "source": [
        "!ln -sf /opt/bin/nvidia-smi /usr/bin/nvidia-smi\n",
        "!pip install gputil\n",
        "!pip install psutil\n",
        "!pip install humanize"
      ],
      "metadata": {
        "id": "JgjYAMaqOeJH",
        "colab": {
          "base_uri": "https://localhost:8080/"
        },
        "outputId": "fc34fb2f-50de-4dfa-b291-8b909c1f004d"
      },
      "execution_count": null,
      "outputs": [
        {
          "output_type": "stream",
          "name": "stdout",
          "text": [
            "Collecting gputil\n",
            "  Downloading GPUtil-1.4.0.tar.gz (5.5 kB)\n",
            "Building wheels for collected packages: gputil\n",
            "  Building wheel for gputil (setup.py) ... \u001b[?25l\u001b[?25hdone\n",
            "  Created wheel for gputil: filename=GPUtil-1.4.0-py3-none-any.whl size=7411 sha256=bf6297d5882182784a1d000bfd3b2d459e6770ac5611df0f9254a37ed5f14996\n",
            "  Stored in directory: /root/.cache/pip/wheels/6e/f8/83/534c52482d6da64622ddbf72cd93c35d2ef2881b78fd08ff0c\n",
            "Successfully built gputil\n",
            "Installing collected packages: gputil\n",
            "Successfully installed gputil-1.4.0\n",
            "Requirement already satisfied: psutil in /usr/local/lib/python3.7/dist-packages (5.4.8)\n",
            "Requirement already satisfied: humanize in /usr/local/lib/python3.7/dist-packages (0.5.1)\n"
          ]
        }
      ]
    },
    {
      "cell_type": "code",
      "source": [
        "import psutil\n",
        "import humanize\n",
        "import os\n",
        "import GPUtil as GPU\n",
        "\n",
        "GPUs = GPU.getGPUs()\n",
        "# XXX: only one GPU on Colab and isn’t guaranteed\n",
        "gpu = GPUs[0]\n",
        "def printm():\n",
        "    process = psutil.Process(os.getpid())\n",
        "    print(\"Gen RAM Free: \" + humanize.naturalsize(psutil.virtual_memory().available), \" |     Proc size: \" + humanize.naturalsize(process.memory_info().rss))\n",
        "    print(\"GPU RAM Free: {0:.0f}MB | Used: {1:.0f}MB | Util {2:3.0f}% | Total     {3:.0f}MB\".format(gpu.memoryFree, gpu.memoryUsed, gpu.memoryUtil*100, gpu.memoryTotal))\n",
        "printm()\n"
      ],
      "metadata": {
        "colab": {
          "base_uri": "https://localhost:8080/"
        },
        "id": "WYat0FDKMb0G",
        "outputId": "ea19a80b-1908-45c6-a0e7-9cc6c69dfa18"
      },
      "execution_count": null,
      "outputs": [
        {
          "output_type": "stream",
          "name": "stdout",
          "text": [
            "Gen RAM Free: 11.6 GB  |     Proc size: 1.0 GB\n",
            "GPU RAM Free: 15106MB | Used: 3MB | Util   0% | Total     15109MB\n"
          ]
        }
      ]
    },
    {
      "cell_type": "code",
      "source": [
        "!ps -aux|grep python"
      ],
      "metadata": {
        "colab": {
          "base_uri": "https://localhost:8080/"
        },
        "id": "CA9st45EMb2q",
        "outputId": "8868e977-4da0-44a6-c4d4-5ba5a95ddf3d"
      },
      "execution_count": null,
      "outputs": [
        {
          "output_type": "stream",
          "name": "stdout",
          "text": [
            "root          30  0.5  0.0      0     0 ?        Z    06:59   0:04 [python3] <defunct>\n",
            "root          31  0.0  0.3 158256 41376 ?        S    06:59   0:00 python3 /usr/local/bin/colab-fileshim.py\n",
            "root          56  0.4  0.4 202440 61064 ?        Sl   06:59   0:03 /usr/bin/python3 /usr/local/bin/jupyter-notebook --ip=\"172.28.0.2\" --port=9000 --FileContentsManager.root_dir=\"/\" --MappingKernelManager.root_dir=\"/content\"\n",
            "root         316  0.0  0.0  18380  2960 ?        S    06:59   0:00 bash -c tail -n +0 -F \"/root/.config/Google/DriveFS/Logs/drive_fs.txt\" | python3 /opt/google/drive/drive-filter.py > \"/root/.config/Google/DriveFS/Logs/timeouts.txt\" \n",
            "root         319  0.0  0.0  31272  9380 ?        S    06:59   0:00 python3 /opt/google/drive/drive-filter.py\n",
            "root         506  7.5 42.2 31615000 5617240 ?    Ssl  07:07   0:15 /usr/bin/python3 -m ipykernel_launcher -f /root/.local/share/jupyter/runtime/kernel-8598b9a0-c7fd-45c2-bbb1-36144b25e38e.json\n",
            "root         524  0.2  0.1 127700 16380 ?        Sl   07:07   0:00 /usr/bin/python3 /usr/local/lib/python3.7/dist-packages/debugpy/adapter --for-server 40781 --host 127.0.0.1 --port 18404 --server-access-token f7a070892485f9fa0acca1be8c52826c4c308e95669e51f88fd227e527be9716\n",
            "root         618  0.0  0.0  39196  6684 ?        S    07:11   0:00 /bin/bash -c ps -aux|grep python\n",
            "root         620  0.0  0.0  36900  3972 ?        R    07:11   0:00 grep python\n"
          ]
        }
      ]
    },
    {
      "cell_type": "code",
      "source": [
        "!kill -9 506"
      ],
      "metadata": {
        "id": "M34Spx3iMb5l"
      },
      "execution_count": null,
      "outputs": []
    }
  ]
}