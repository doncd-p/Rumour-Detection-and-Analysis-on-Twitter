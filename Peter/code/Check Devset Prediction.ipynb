{
 "cells": [
  {
   "cell_type": "code",
   "execution_count": 1,
   "id": "e0a40188",
   "metadata": {
    "ExecuteTime": {
     "end_time": "2022-05-09T06:45:23.671550Z",
     "start_time": "2022-05-09T06:45:17.876314Z"
    }
   },
   "outputs": [],
   "source": [
    "import pandas as pd\n",
    "import json\n",
    "from pprint import pprint\n",
    "from sklearn.metrics import confusion_matrix\n",
    "from sklearn.metrics import precision_recall_fscore_support\n",
    "import matplotlib.pyplot as plt"
   ]
  },
  {
   "cell_type": "code",
   "execution_count": 2,
   "id": "c5796ceb",
   "metadata": {
    "ExecuteTime": {
     "end_time": "2022-05-09T06:45:23.727540Z",
     "start_time": "2022-05-09T06:45:23.711540Z"
    }
   },
   "outputs": [],
   "source": [
    "def read_file(file_name):\n",
    "    '''\n",
    "    This function will read the file containing tweet ids sperating by lines (in groups)\n",
    "    '''\n",
    "    all_ids = pd.read_table(file_name,sep='\\n',header=None)\n",
    "    return all_ids"
   ]
  },
  {
   "cell_type": "code",
   "execution_count": 3,
   "id": "44f0fc23",
   "metadata": {
    "ExecuteTime": {
     "end_time": "2022-05-09T06:45:23.791538Z",
     "start_time": "2022-05-09T06:45:23.759540Z"
    }
   },
   "outputs": [],
   "source": [
    "dev_predictions_file = \"../output/dev_prediction.csv\"\n",
    "dev_predictions = pd.read_csv(dev_predictions_file)\n",
    "dev_predict_label = dev_predictions['Predicted']"
   ]
  },
  {
   "cell_type": "code",
   "execution_count": 4,
   "id": "e84cd299",
   "metadata": {
    "ExecuteTime": {
     "end_time": "2022-05-09T06:45:23.895540Z",
     "start_time": "2022-05-09T06:45:23.855539Z"
    }
   },
   "outputs": [],
   "source": [
    "dev_true_label_file = '../data/valid.dev.label.txt'\n",
    "dev_true_label = read_file(dev_true_label_file)[0].apply(lambda x: 1 if x==\"rumour\" else 0)"
   ]
  },
  {
   "cell_type": "code",
   "execution_count": 5,
   "id": "20bbbaa2",
   "metadata": {
    "ExecuteTime": {
     "end_time": "2022-05-09T06:45:23.989846Z",
     "start_time": "2022-05-09T06:45:23.973848Z"
    }
   },
   "outputs": [],
   "source": [
    "y_true = list(dev_true_label)\n",
    "y_pred = list(dev_predict_label)"
   ]
  },
  {
   "cell_type": "code",
   "execution_count": 6,
   "id": "93b9dfae",
   "metadata": {
    "ExecuteTime": {
     "end_time": "2022-05-09T06:45:25.090734Z",
     "start_time": "2022-05-09T06:45:24.724348Z"
    }
   },
   "outputs": [
    {
     "data": {
      "image/png": "[encoded data removed]",
      "text/plain": [
       "<Figure size 360x360 with 1 Axes>"
      ]
     },
     "metadata": {
      "needs_background": "light"
     },
     "output_type": "display_data"
    }
   ],
   "source": [
    "conf_matrix = confusion_matrix(y_true=y_true, y_pred=y_pred)\n",
    "\n",
    "fig, ax = plt.subplots(figsize=(5, 5))\n",
    "ax.matshow(conf_matrix, cmap=plt.cm.Oranges, alpha=0.5)\n",
    "for i in range(conf_matrix.shape[0]):\n",
    "    for j in range(conf_matrix.shape[1]):\n",
    "        ax.text(x=j, y=i,s=conf_matrix[i, j], va='center', ha='center', size='xx-large')\n",
    "\n",
    "plt.xlabel('Predictions', fontsize=18)\n",
    "plt.ylabel('Actuals', fontsize=18)\n",
    "plt.title('Confusion Matrix', fontsize=18)\n",
    "plt.show()"
   ]
  },
  {
   "cell_type": "code",
   "execution_count": 8,
   "id": "ff0d0908",
   "metadata": {
    "ExecuteTime": {
     "end_time": "2022-05-09T06:51:57.592375Z",
     "start_time": "2022-05-09T06:51:57.568615Z"
    }
   },
   "outputs": [],
   "source": [
    "p, r, f, _ = precision_recall_fscore_support(y_true, y_pred, pos_label=1, average=\"binary\")"
   ]
  },
  {
   "cell_type": "code",
   "execution_count": 13,
   "id": "e3742f5a",
   "metadata": {
    "ExecuteTime": {
     "end_time": "2022-05-09T06:52:56.271469Z",
     "start_time": "2022-05-09T06:52:56.248008Z"
    }
   },
   "outputs": [
    {
     "name": "stdout",
     "output_type": "stream",
     "text": [
      "Performance on the rumour class:\n",
      "Precision = 0.9509803921568627\n",
      "Recall    = 0.8434782608695652\n",
      "F1        = 0.8940092165898618\n"
     ]
    }
   ],
   "source": [
    "print(\"Performance on the rumour class:\")\n",
    "print(\"Precision =\", p)\n",
    "print(\"Recall    =\", r)\n",
    "print(\"F1        =\", f)"
   ]
  }
 ],
 "metadata": {
  "kernelspec": {
   "display_name": "Python 3 (ipykernel)",
   "language": "python",
   "name": "python3"
  },
  "language_info": {
   "codemirror_mode": {
    "name": "ipython",
    "version": 3
   },
   "file_extension": ".py",
   "mimetype": "text/x-python",
   "name": "python",
   "nbconvert_exporter": "python",
   "pygments_lexer": "ipython3",
   "version": "3.7.6"
  },
  "toc": {
   "base_numbering": 1,
   "nav_menu": {},
   "number_sections": true,
   "sideBar": true,
   "skip_h1_title": false,
   "title_cell": "Table of Contents",
   "title_sidebar": "Contents",
   "toc_cell": false,
   "toc_position": {},
   "toc_section_display": true,
   "toc_window_display": false
  },
  "varInspector": {
   "cols": {
    "lenName": 16,
    "lenType": 16,
    "lenVar": 40
   },
   "kernels_config": {
    "python": {
     "delete_cmd_postfix": "",
     "delete_cmd_prefix": "del ",
     "library": "var_list.py",
     "varRefreshCmd": "print(var_dic_list())"
    },
    "r": {
     "delete_cmd_postfix": ") ",
     "delete_cmd_prefix": "rm(",
     "library": "var_list.r",
     "varRefreshCmd": "cat(var_dic_list()) "
    }
   },
   "types_to_exclude": [
    "module",
    "function",
    "builtin_function_or_method",
    "instance",
    "_Feature"
   ],
   "window_display": false
  }
 },
 "nbformat": 4,
 "nbformat_minor": 5
}
