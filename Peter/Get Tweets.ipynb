{
 "cells": [
  {
   "cell_type": "code",
   "execution_count": 407,
   "id": "afecec3e",
   "metadata": {
    "ExecuteTime": {
     "end_time": "2022-04-24T16:34:07.305315Z",
     "start_time": "2022-04-24T16:34:07.283322Z"
    }
   },
   "outputs": [],
   "source": [
    "import requests\n",
    "import os\n",
    "import json\n",
    "from pprint import pprint\n",
    "\n",
    "# os.environ['BEARER_TOKEN'] = 'WRITE YOUR TOKEN HERE'\n",
    "bearer_token = os.environ.get('BEARER_TOKEN')\n",
    "\n",
    "def create_url(_ids):\n",
    "#     tweet_fields = \"tweet.fields=lang,author_id,attachments,context_annotations,conversation_id,created_at,entities,geo,id,public_metrics,withheld\"\n",
    "#     expansion = \"expansions=author_id\"\n",
    "#     author_fields = \"user.fields=id,name,username,created_at,description,entities,location,public_metrics,protected,verified,withheld\"\n",
    "    ids = \"ids={}\".format(_ids)\n",
    "    tweet_fields = \"tweet.fields=lang,created_at,geo,id,public_metrics,withheld\"\n",
    "    expansion = \"expansions=author_id\"\n",
    "    user_fields = \"user.fields=created_at,description,public_metrics,protected,verified,withheld\"\n",
    "    \n",
    "    url = \"https://api.twitter.com/2/tweets?{}&{}&{}&{}\".format(ids, tweet_fields, expansion, user_fields)\n",
    "    return url\n",
    "\n",
    "\n",
    "def get_tweets(_ids):\n",
    "    url = create_url(_ids)\n",
    "    payload={}\n",
    "    headers = {\n",
    "      'Authorization': 'Bearer {}'.format(bearer_token),\n",
    "      'Cookie': 'guest_id=v1%3A164999832374703747; guest_id_ads=v1%3A164999832374703747; guest_id_marketing=v1%3A164999832374703747; personalization_id=\"v1_+F68isE/iukb7yr8y66bOw==\"'\n",
    "    }\n",
    "\n",
    "    response = requests.request(\"GET\", url, headers=headers, data=payload)\n",
    "\n",
    "    return response.json()\n"
   ]
  },
  {
   "cell_type": "code",
   "execution_count": 2,
   "id": "21b7489d",
   "metadata": {
    "ExecuteTime": {
     "end_time": "2022-04-21T13:11:29.526836Z",
     "start_time": "2022-04-21T13:11:28.289332Z"
    }
   },
   "outputs": [],
   "source": [
    "import pandas as pd\n",
    "\n",
    "def read_file(file_name):\n",
    "    '''\n",
    "    This function will read the file containing tweet ids sperating by lines (in groups)\n",
    "    '''\n",
    "    all_ids = pd.read_table(file_name,sep='\\n',header=None)\n",
    "    return all_ids"
   ]
  },
  {
   "cell_type": "code",
   "execution_count": 3,
   "id": "db10d2fc",
   "metadata": {
    "ExecuteTime": {
     "end_time": "2022-04-21T13:11:30.042801Z",
     "start_time": "2022-04-21T13:11:30.026361Z"
    },
    "code_folding": []
   },
   "outputs": [],
   "source": [
    "def separate_ids(ids):\n",
    "    '''\n",
    "    This function will split the sperate ids into a list\n",
    "    '''\n",
    "    seperated_ids = ids.split(\",\")\n",
    "    return seperated_ids"
   ]
  },
  {
   "cell_type": "code",
   "execution_count": 51,
   "id": "85180d53",
   "metadata": {
    "ExecuteTime": {
     "end_time": "2022-04-22T08:30:59.571933Z",
     "start_time": "2022-04-22T08:30:59.560902Z"
    },
    "code_folding": [
     0
    ]
   },
   "outputs": [],
   "source": [
    "def get_tweet_groups(groups_ids):\n",
    "    '''\n",
    "    This function will get tweets information using Twitter API in groups with indexing\n",
    "    params groups_ids: all ids in lines (groups) retrieved from the orginal file \n",
    "    '''\n",
    "    tweet_groups = {}\n",
    "    no_access_first_tweets = []\n",
    "    for group_index in range(len(groups_ids)):\n",
    "        group_separated_ids = separate_ids(groups_ids[0][group_index])\n",
    "        group_dict = {}\n",
    "        \n",
    "        # first check if the first tweet is valid to be accessed\n",
    "        # if no access, only 'errors' will be returned\n",
    "        first_tweet = get_tweets(group_separated_ids[0])\n",
    "        if len(first_tweet) == 1:\n",
    "            no_access_first_tweets.append(group_index)\n",
    "            continue\n",
    "        else:\n",
    "            # check if the group contains more than 100 ids \n",
    "            # since multiple tweets lookup has 100 maxmimum\n",
    "            if len(group_separated_ids) > 100:\n",
    "                index = 0\n",
    "                partial_group = {}\n",
    "\n",
    "                # partition groups with more than 100 ids into maximum 100 each group\n",
    "                for i in range(len(group_separated_ids)//100 + 1):\n",
    "                    partial_group_ids = ','.join(group_separated_ids[index:index+100])\n",
    "                    partial_group = get_tweets(partial_group_ids)\n",
    "                    # initialise the dict with the information from the first partial group\n",
    "                    if len(group_dict) == 0 and len(partial_group) != 1:\n",
    "                        group_dict = partial_group\n",
    "                    # combining partial groups into a whole group\n",
    "                    else:\n",
    "                        # there is any tweet valid to be accessed in the partial group\n",
    "                        if len(partial_group) != 1:\n",
    "                            group_dict['data'].extend(partial_group['data'])\n",
    "                            group_dict['includes']['users'].extend(partial_group['includes']['users'])\n",
    "\n",
    "                    index += 100\n",
    "\n",
    "            else:\n",
    "                full_group_ids = ','.join(group_separated_ids)\n",
    "                group_dict = get_tweets(full_group_ids)\n",
    "\n",
    "            tweet_groups[group_index] = group_dict\n",
    "    return tweet_groups, no_access_first_tweets"
   ]
  },
  {
   "cell_type": "code",
   "execution_count": 85,
   "id": "a0f152b0",
   "metadata": {
    "ExecuteTime": {
     "end_time": "2022-04-22T08:47:29.756583Z",
     "start_time": "2022-04-22T08:47:29.735416Z"
    },
    "code_folding": []
   },
   "outputs": [],
   "source": [
    "def get_tweet_groups_start_end(groups_ids, start, end):\n",
    "    '''\n",
    "    This function will get tweets information using Twitter API in groups with indexing\n",
    "    params groups_ids: all ids in lines (groups) retrieved from the orginal file \n",
    "    '''\n",
    "    tweet_groups = {}\n",
    "    no_access_first_tweets = []\n",
    "    for group_index in range(start, end):\n",
    "        group_separated_ids = separate_ids(groups_ids[0][group_index])\n",
    "        group_dict = {}\n",
    "        \n",
    "        # first check if the first tweet is valid to be accessed\n",
    "        # if no access, only 'errors' will be returned\n",
    "        first_tweet = get_tweets(group_separated_ids[0])\n",
    "        if len(first_tweet) == 1:\n",
    "            no_access_first_tweets.append(group_index)\n",
    "            continue\n",
    "        else:\n",
    "            # check if the group contains more than 100 ids \n",
    "            # since multiple tweets lookup has 100 maxmimum\n",
    "            if len(group_separated_ids) > 100:\n",
    "                index = 0\n",
    "                partial_group = {}\n",
    "\n",
    "                # partition groups with more than 100 ids into maximum 100 each group\n",
    "                for i in range(len(group_separated_ids)//100 + 1):\n",
    "                    if len(group_separated_ids) % 100 == 0 and i == len(group_separated_ids)//100:\n",
    "                        continue\n",
    "                        \n",
    "                    partial_group_ids = ','.join(group_separated_ids[index:index+100])\n",
    "                    partial_group = get_tweets(partial_group_ids)\n",
    "\n",
    "                    # initialise the dict with the information from the first partial group\n",
    "                    if len(group_dict) == 0 and len(partial_group) != 1:\n",
    "                        group_dict = partial_group\n",
    "                    # combining partial groups into a whole group\n",
    "                    else:\n",
    "                        # there is any tweet valid to be accessed in the partial group\n",
    "                        if len(partial_group) != 1:\n",
    "                            group_dict['data'].extend(partial_group['data'])\n",
    "                            group_dict['includes']['users'].extend(partial_group['includes']['users'])\n",
    "\n",
    "                    index += 100\n",
    "\n",
    "            else:\n",
    "                full_group_ids = ','.join(group_separated_ids)\n",
    "                group_dict = get_tweets(full_group_ids)\n",
    "\n",
    "            tweet_groups[group_index] = group_dict\n",
    "    return tweet_groups, no_access_first_tweets"
   ]
  },
  {
   "cell_type": "code",
   "execution_count": 18,
   "id": "e52b7c70",
   "metadata": {
    "ExecuteTime": {
     "end_time": "2022-04-21T13:19:47.617827Z",
     "start_time": "2022-04-21T13:19:47.570826Z"
    }
   },
   "outputs": [],
   "source": []
  },
  {
   "cell_type": "code",
   "execution_count": 299,
   "id": "bc8ca916",
   "metadata": {
    "ExecuteTime": {
     "end_time": "2022-04-24T15:36:35.233509Z",
     "start_time": "2022-04-24T15:36:35.059738Z"
    }
   },
   "outputs": [
    {
     "data": {
      "text/html": [
       "<div>\n",
       "<style scoped>\n",
       "    .dataframe tbody tr th:only-of-type {\n",
       "        vertical-align: middle;\n",
       "    }\n",
       "\n",
       "    .dataframe tbody tr th {\n",
       "        vertical-align: top;\n",
       "    }\n",
       "\n",
       "    .dataframe thead th {\n",
       "        text-align: right;\n",
       "    }\n",
       "</style>\n",
       "<table border=\"1\" class=\"dataframe\">\n",
       "  <thead>\n",
       "    <tr style=\"text-align: right;\">\n",
       "      <th></th>\n",
       "      <th>0</th>\n",
       "    </tr>\n",
       "  </thead>\n",
       "  <tbody>\n",
       "    <tr>\n",
       "      <th>0</th>\n",
       "      <td>1250219300389974016,1250219116993974272,125021...</td>\n",
       "    </tr>\n",
       "    <tr>\n",
       "      <th>1</th>\n",
       "      <td>554886875303780352,554894001946759168,55495964...</td>\n",
       "    </tr>\n",
       "    <tr>\n",
       "      <th>2</th>\n",
       "      <td>1237901309011021825,1237901311439450112,123986...</td>\n",
       "    </tr>\n",
       "    <tr>\n",
       "      <th>3</th>\n",
       "      <td>524958128392376320,524961934064754688,52495902...</td>\n",
       "    </tr>\n",
       "    <tr>\n",
       "      <th>4</th>\n",
       "      <td>1239295488677085185,1239562248990806016</td>\n",
       "    </tr>\n",
       "    <tr>\n",
       "      <th>...</th>\n",
       "      <td>...</td>\n",
       "    </tr>\n",
       "    <tr>\n",
       "      <th>1890</th>\n",
       "      <td>671181758692507648,671200376843067392,67118426...</td>\n",
       "    </tr>\n",
       "    <tr>\n",
       "      <th>1891</th>\n",
       "      <td>672513234419638273,672513853645717504,67258916...</td>\n",
       "    </tr>\n",
       "    <tr>\n",
       "      <th>1892</th>\n",
       "      <td>553508098825261056,553511652587360256,55350954...</td>\n",
       "    </tr>\n",
       "    <tr>\n",
       "      <th>1893</th>\n",
       "      <td>1249479605582327808,1249392473073487873,124953...</td>\n",
       "    </tr>\n",
       "    <tr>\n",
       "      <th>1894</th>\n",
       "      <td>1241082793737818113,1241041450084839424,124106...</td>\n",
       "    </tr>\n",
       "  </tbody>\n",
       "</table>\n",
       "<p>1895 rows × 1 columns</p>\n",
       "</div>"
      ],
      "text/plain": [
       "                                                      0\n",
       "0     1250219300389974016,1250219116993974272,125021...\n",
       "1     554886875303780352,554894001946759168,55495964...\n",
       "2     1237901309011021825,1237901311439450112,123986...\n",
       "3     524958128392376320,524961934064754688,52495902...\n",
       "4               1239295488677085185,1239562248990806016\n",
       "...                                                 ...\n",
       "1890  671181758692507648,671200376843067392,67118426...\n",
       "1891  672513234419638273,672513853645717504,67258916...\n",
       "1892  553508098825261056,553511652587360256,55350954...\n",
       "1893  1249479605582327808,1249392473073487873,124953...\n",
       "1894  1241082793737818113,1241041450084839424,124106...\n",
       "\n",
       "[1895 rows x 1 columns]"
      ]
     },
     "execution_count": 299,
     "metadata": {},
     "output_type": "execute_result"
    }
   ],
   "source": [
    "train_ids = read_file('../../project-data/train.data.txt')\n",
    "train_ids"
   ]
  },
  {
   "cell_type": "code",
   "execution_count": 285,
   "id": "2d4176f2",
   "metadata": {
    "ExecuteTime": {
     "end_time": "2022-04-22T18:30:47.911969Z",
     "start_time": "2022-04-22T18:30:47.897965Z"
    }
   },
   "outputs": [
    {
     "data": {
      "text/html": [
       "<div>\n",
       "<style scoped>\n",
       "    .dataframe tbody tr th:only-of-type {\n",
       "        vertical-align: middle;\n",
       "    }\n",
       "\n",
       "    .dataframe tbody tr th {\n",
       "        vertical-align: top;\n",
       "    }\n",
       "\n",
       "    .dataframe thead th {\n",
       "        text-align: right;\n",
       "    }\n",
       "</style>\n",
       "<table border=\"1\" class=\"dataframe\">\n",
       "  <thead>\n",
       "    <tr style=\"text-align: right;\">\n",
       "      <th></th>\n",
       "      <th>0</th>\n",
       "    </tr>\n",
       "  </thead>\n",
       "  <tbody>\n",
       "    <tr>\n",
       "      <th>0</th>\n",
       "      <td>1249004694950817796,1249011200068730880</td>\n",
       "    </tr>\n",
       "    <tr>\n",
       "      <th>1</th>\n",
       "      <td>1267552274819227649,1270394169836568576,127050...</td>\n",
       "    </tr>\n",
       "    <tr>\n",
       "      <th>2</th>\n",
       "      <td>1235238334722699265,1235234904281165825,123523...</td>\n",
       "    </tr>\n",
       "    <tr>\n",
       "      <th>3</th>\n",
       "      <td>1248746792914546688,1248775858120097792</td>\n",
       "    </tr>\n",
       "    <tr>\n",
       "      <th>4</th>\n",
       "      <td>523820806917603328,523943560589361152,52402705...</td>\n",
       "    </tr>\n",
       "    <tr>\n",
       "      <th>...</th>\n",
       "      <td>...</td>\n",
       "    </tr>\n",
       "    <tr>\n",
       "      <th>627</th>\n",
       "      <td>1249582429565829120,1249582412004306944,124958...</td>\n",
       "    </tr>\n",
       "    <tr>\n",
       "      <th>628</th>\n",
       "      <td>524881688825167872,524919134715252736,52493671...</td>\n",
       "    </tr>\n",
       "    <tr>\n",
       "      <th>629</th>\n",
       "      <td>1240908749256232960,1240908751063965696,124090...</td>\n",
       "    </tr>\n",
       "    <tr>\n",
       "      <th>630</th>\n",
       "      <td>661102820976930816,661643543551848448,66115142...</td>\n",
       "    </tr>\n",
       "    <tr>\n",
       "      <th>631</th>\n",
       "      <td>1248261299160612870,1248260447821869061,124826...</td>\n",
       "    </tr>\n",
       "  </tbody>\n",
       "</table>\n",
       "<p>632 rows × 1 columns</p>\n",
       "</div>"
      ],
      "text/plain": [
       "                                                     0\n",
       "0              1249004694950817796,1249011200068730880\n",
       "1    1267552274819227649,1270394169836568576,127050...\n",
       "2    1235238334722699265,1235234904281165825,123523...\n",
       "3              1248746792914546688,1248775858120097792\n",
       "4    523820806917603328,523943560589361152,52402705...\n",
       "..                                                 ...\n",
       "627  1249582429565829120,1249582412004306944,124958...\n",
       "628  524881688825167872,524919134715252736,52493671...\n",
       "629  1240908749256232960,1240908751063965696,124090...\n",
       "630  661102820976930816,661643543551848448,66115142...\n",
       "631  1248261299160612870,1248260447821869061,124826...\n",
       "\n",
       "[632 rows x 1 columns]"
      ]
     },
     "execution_count": 285,
     "metadata": {},
     "output_type": "execute_result"
    }
   ],
   "source": [
    "dev_ids = read_file('../../project-data/dev.data.txt')\n",
    "dev_ids"
   ]
  },
  {
   "cell_type": "code",
   "execution_count": null,
   "id": "55436928",
   "metadata": {},
   "outputs": [],
   "source": []
  },
  {
   "cell_type": "markdown",
   "id": "69d72390",
   "metadata": {},
   "source": [
    "### Devset"
   ]
  },
  {
   "cell_type": "code",
   "execution_count": 34,
   "id": "b11fb218",
   "metadata": {
    "ExecuteTime": {
     "end_time": "2022-04-21T13:31:14.468491Z",
     "start_time": "2022-04-21T13:29:02.462325Z"
    }
   },
   "outputs": [],
   "source": [
    "# tweets_dev1, no_access_first_tweets_dev1 = get_tweet_groups_start_end(dev_ids, 0, 100)"
   ]
  },
  {
   "cell_type": "code",
   "execution_count": 161,
   "id": "f6a3be97",
   "metadata": {
    "ExecuteTime": {
     "end_time": "2022-04-22T09:52:40.955778Z",
     "start_time": "2022-04-22T09:50:22.355569Z"
    }
   },
   "outputs": [],
   "source": [
    "# tweets_dev2, no_access_first_tweets_dev2 = get_tweet_groups_start_end(dev_ids, 100, 200)"
   ]
  },
  {
   "cell_type": "code",
   "execution_count": 275,
   "id": "407fdbd7",
   "metadata": {
    "ExecuteTime": {
     "end_time": "2022-04-22T18:29:26.333209Z",
     "start_time": "2022-04-22T18:25:34.045350Z"
    }
   },
   "outputs": [],
   "source": [
    "# tweets_dev3, no_access_first_tweets_dev3 = get_tweet_groups_start_end(dev_ids, 200, 300)"
   ]
  },
  {
   "cell_type": "code",
   "execution_count": 571,
   "id": "e076b781",
   "metadata": {
    "ExecuteTime": {
     "end_time": "2022-04-24T17:41:46.517976Z",
     "start_time": "2022-04-24T17:39:26.784914Z"
    }
   },
   "outputs": [],
   "source": [
    "# tweets_dev4, no_access_first_tweets_dev4 = get_tweet_groups_start_end(dev_ids, 300, 400)"
   ]
  },
  {
   "cell_type": "code",
   "execution_count": 286,
   "id": "e1727774",
   "metadata": {
    "ExecuteTime": {
     "end_time": "2022-04-22T18:47:15.250497Z",
     "start_time": "2022-04-22T18:45:22.003034Z"
    }
   },
   "outputs": [],
   "source": [
    "# tweets_dev5, no_access_first_tweets_dev5 = get_tweet_groups_start_end(dev_ids, 400, 500)"
   ]
  },
  {
   "cell_type": "code",
   "execution_count": 293,
   "id": "ea1afe38",
   "metadata": {
    "ExecuteTime": {
     "end_time": "2022-04-22T19:12:38.227603Z",
     "start_time": "2022-04-22T19:10:05.605386Z"
    }
   },
   "outputs": [],
   "source": [
    "# tweets_dev6, no_access_first_tweets_dev6 = get_tweet_groups_start_end(dev_ids, 500, 632)"
   ]
  },
  {
   "cell_type": "code",
   "execution_count": 619,
   "id": "cb5f0b3b",
   "metadata": {
    "ExecuteTime": {
     "end_time": "2022-04-24T17:56:21.459749Z",
     "start_time": "2022-04-24T17:56:21.359722Z"
    }
   },
   "outputs": [],
   "source": [
    "with open(\"data/dev_data.json\",'r',encoding='utf-8') as f:\n",
    "    tweet_dev = json.load(f)\n",
    "    \n",
    "with open(\"data/no_access_first_tweets_dev.json\",'r',encoding='utf-8') as f:\n",
    "    no_access_first_tweets_dev = json.load(f)"
   ]
  },
  {
   "cell_type": "code",
   "execution_count": 589,
   "id": "50b3bd58",
   "metadata": {
    "ExecuteTime": {
     "end_time": "2022-04-24T17:44:37.638713Z",
     "start_time": "2022-04-24T17:44:37.609115Z"
    }
   },
   "outputs": [],
   "source": [
    "# tweet_dev.update(tweets_dev4)\n",
    "\n",
    "# no_access_first_tweets_dev.extend(no_access_first_tweets_dev4)"
   ]
  },
  {
   "cell_type": "code",
   "execution_count": 613,
   "id": "eab4bf8e",
   "metadata": {
    "ExecuteTime": {
     "end_time": "2022-04-24T17:49:23.865596Z",
     "start_time": "2022-04-24T17:49:22.950111Z"
    }
   },
   "outputs": [],
   "source": [
    "with open(\"data/dev_data.json\", \"w\",encoding='utf-8') as outfile:\n",
    "    json.dump(tweet_dev, outfile)\n",
    "        \n",
    "with open(\"data/no_access_first_tweets_dev.json\", \"w\",encoding='utf-8') as outfile:\n",
    "    json.dump(no_access_first_tweets_dev, outfile)"
   ]
  },
  {
   "cell_type": "markdown",
   "id": "2477f5c8",
   "metadata": {},
   "source": [
    "### Trainset"
   ]
  },
  {
   "cell_type": "code",
   "execution_count": 161,
   "id": "7726934b",
   "metadata": {
    "ExecuteTime": {
     "end_time": "2022-04-17T05:27:45.963799Z",
     "start_time": "2022-04-17T05:27:45.958790Z"
    },
    "scrolled": true
   },
   "outputs": [],
   "source": [
    "# tweets_train1, no_access_first_tweets1 = get_tweet_groups_start_end(train_ids, 0, 100)"
   ]
  },
  {
   "cell_type": "code",
   "execution_count": 181,
   "id": "fabdc271",
   "metadata": {
    "ExecuteTime": {
     "end_time": "2022-04-17T06:03:21.995168Z",
     "start_time": "2022-04-17T06:03:21.990161Z"
    },
    "scrolled": true
   },
   "outputs": [],
   "source": [
    "# tweets_train2, no_access_first_tweets2 = get_tweet_groups_start_end(train_ids, 100, 200)"
   ]
  },
  {
   "cell_type": "code",
   "execution_count": 183,
   "id": "75770170",
   "metadata": {
    "ExecuteTime": {
     "end_time": "2022-04-17T06:05:36.152792Z",
     "start_time": "2022-04-17T06:05:36.137705Z"
    },
    "scrolled": true
   },
   "outputs": [],
   "source": [
    "# tweets_train3, no_access_first_tweets3 = get_tweet_groups_start_end(train_ids, 200, 300)"
   ]
  },
  {
   "cell_type": "code",
   "execution_count": 189,
   "id": "74b25824",
   "metadata": {
    "ExecuteTime": {
     "end_time": "2022-04-17T06:50:42.025189Z",
     "start_time": "2022-04-17T06:50:42.014689Z"
    },
    "scrolled": true
   },
   "outputs": [],
   "source": [
    "# tweets_train4, no_access_first_tweets4 = get_tweet_groups_start_end(train_ids, 300, 400)"
   ]
  },
  {
   "cell_type": "code",
   "execution_count": 86,
   "id": "e9512e6c",
   "metadata": {
    "ExecuteTime": {
     "end_time": "2022-04-22T08:49:49.291906Z",
     "start_time": "2022-04-22T08:47:39.491838Z"
    }
   },
   "outputs": [],
   "source": [
    "# tweets_train5, no_access_first_tweets5 = get_tweet_groups_start_end(train_ids, 400, 500)"
   ]
  },
  {
   "cell_type": "code",
   "execution_count": 124,
   "id": "05a27663",
   "metadata": {
    "ExecuteTime": {
     "end_time": "2022-04-22T09:06:27.816323Z",
     "start_time": "2022-04-22T09:04:18.159665Z"
    }
   },
   "outputs": [],
   "source": [
    "# tweets_train6, no_access_first_tweets6 = get_tweet_groups_start_end(train_ids, 500, 600)"
   ]
  },
  {
   "cell_type": "code",
   "execution_count": 136,
   "id": "c67c3d4e",
   "metadata": {
    "ExecuteTime": {
     "end_time": "2022-04-22T09:31:33.738720Z",
     "start_time": "2022-04-22T09:29:11.338598Z"
    }
   },
   "outputs": [],
   "source": [
    "# tweets_train7, no_access_first_tweets7 = get_tweet_groups_start_end(train_ids, 600, 700)"
   ]
  },
  {
   "cell_type": "code",
   "execution_count": 190,
   "id": "b78aeff8",
   "metadata": {
    "ExecuteTime": {
     "end_time": "2022-04-22T14:04:52.387560Z",
     "start_time": "2022-04-22T14:02:39.542152Z"
    }
   },
   "outputs": [],
   "source": [
    "# tweets_train8, no_access_first_tweets8 = get_tweet_groups_start_end(train_ids, 700, 800)"
   ]
  },
  {
   "cell_type": "code",
   "execution_count": null,
   "id": "d2eb4199",
   "metadata": {},
   "outputs": [],
   "source": [
    "# tweets_train9, no_access_first_tweets9 = get_tweet_groups_start_end(train_ids, 800, 900)"
   ]
  },
  {
   "cell_type": "code",
   "execution_count": 198,
   "id": "8d1ff10e",
   "metadata": {
    "ExecuteTime": {
     "end_time": "2022-04-22T14:29:10.381754Z",
     "start_time": "2022-04-22T14:26:54.095763Z"
    }
   },
   "outputs": [],
   "source": [
    "# tweets_train10, no_access_first_tweets10 = get_tweet_groups_start_end(train_ids, 900, 1000)"
   ]
  },
  {
   "cell_type": "code",
   "execution_count": 504,
   "id": "d5d0d469",
   "metadata": {
    "ExecuteTime": {
     "end_time": "2022-04-24T17:03:55.674180Z",
     "start_time": "2022-04-24T16:59:36.362045Z"
    }
   },
   "outputs": [],
   "source": [
    "# tweets_train11, no_access_first_tweets11 = get_tweet_groups_start_end(train_ids, 1000, 1100)"
   ]
  },
  {
   "cell_type": "code",
   "execution_count": 506,
   "id": "50d2b936",
   "metadata": {
    "ExecuteTime": {
     "end_time": "2022-04-24T17:21:46.463442Z",
     "start_time": "2022-04-24T17:19:34.337949Z"
    }
   },
   "outputs": [],
   "source": [
    "# tweets_train12, no_access_first_tweets12 = get_tweet_groups_start_end(train_ids, 1100, 1200)"
   ]
  },
  {
   "cell_type": "code",
   "execution_count": 213,
   "id": "c20074d0",
   "metadata": {
    "ExecuteTime": {
     "end_time": "2022-04-22T15:31:34.385223Z",
     "start_time": "2022-04-22T15:29:34.494638Z"
    }
   },
   "outputs": [],
   "source": [
    "# tweets_train13, no_access_first_tweets13 = get_tweet_groups_start_end(train_ids, 1200, 1300)"
   ]
  },
  {
   "cell_type": "code",
   "execution_count": 222,
   "id": "3ad2ae64",
   "metadata": {
    "ExecuteTime": {
     "end_time": "2022-04-22T16:05:55.373011Z",
     "start_time": "2022-04-22T16:03:53.088259Z"
    }
   },
   "outputs": [],
   "source": [
    "# tweets_train14, no_access_first_tweets14 = get_tweet_groups_start_end(train_ids, 1300, 1400)"
   ]
  },
  {
   "cell_type": "code",
   "execution_count": 232,
   "id": "275f27a9",
   "metadata": {
    "ExecuteTime": {
     "end_time": "2022-04-22T16:21:45.421656Z",
     "start_time": "2022-04-22T16:19:46.921535Z"
    }
   },
   "outputs": [],
   "source": [
    "# tweets_train15, no_access_first_tweets15 = get_tweet_groups_start_end(train_ids, 1400, 1500)"
   ]
  },
  {
   "cell_type": "code",
   "execution_count": 242,
   "id": "6c336575",
   "metadata": {
    "ExecuteTime": {
     "end_time": "2022-04-22T17:08:23.153185Z",
     "start_time": "2022-04-22T17:06:31.637733Z"
    }
   },
   "outputs": [],
   "source": [
    "# tweets_train16, no_access_first_tweets16 = get_tweet_groups_start_end(train_ids, 1500, 1600)"
   ]
  },
  {
   "cell_type": "code",
   "execution_count": 250,
   "id": "d42a365d",
   "metadata": {
    "ExecuteTime": {
     "end_time": "2022-04-22T17:48:40.523572Z",
     "start_time": "2022-04-22T17:46:47.683666Z"
    }
   },
   "outputs": [],
   "source": [
    "# tweets_train17, no_access_first_tweets17 = get_tweet_groups_start_end(train_ids, 1600, 1700)"
   ]
  },
  {
   "cell_type": "code",
   "execution_count": 263,
   "id": "7c8ee3f0",
   "metadata": {
    "ExecuteTime": {
     "end_time": "2022-04-22T18:09:12.240960Z",
     "start_time": "2022-04-22T18:05:25.758304Z"
    }
   },
   "outputs": [],
   "source": [
    "# tweets_train18, no_access_first_tweets18 = get_tweet_groups_start_end(train_ids, 1700, 1800)"
   ]
  },
  {
   "cell_type": "code",
   "execution_count": 413,
   "id": "9166f7a0",
   "metadata": {
    "ExecuteTime": {
     "end_time": "2022-04-24T16:38:20.330214Z",
     "start_time": "2022-04-24T16:36:15.304846Z"
    }
   },
   "outputs": [],
   "source": [
    "# tweets_train19, no_access_first_tweets19 = get_tweet_groups_start_end(train_ids, 1800, 1895)"
   ]
  },
  {
   "cell_type": "code",
   "execution_count": 265,
   "id": "8f7ccfd6",
   "metadata": {
    "ExecuteTime": {
     "end_time": "2022-04-22T18:10:08.363496Z",
     "start_time": "2022-04-22T18:10:08.343452Z"
    }
   },
   "outputs": [
    {
     "data": {
      "text/plain": [
       "175"
      ]
     },
     "execution_count": 265,
     "metadata": {},
     "output_type": "execute_result"
    }
   ],
   "source": [
    "len(tweets_train18)"
   ]
  },
  {
   "cell_type": "code",
   "execution_count": 267,
   "id": "4fe7deed",
   "metadata": {
    "ExecuteTime": {
     "end_time": "2022-04-22T18:10:22.684822Z",
     "start_time": "2022-04-22T18:10:22.667786Z"
    }
   },
   "outputs": [
    {
     "data": {
      "text/plain": [
       "20"
      ]
     },
     "execution_count": 267,
     "metadata": {},
     "output_type": "execute_result"
    }
   ],
   "source": [
    "len(no_access_first_tweets18)"
   ]
  },
  {
   "cell_type": "code",
   "execution_count": 630,
   "id": "b357d291",
   "metadata": {
    "ExecuteTime": {
     "end_time": "2022-04-25T13:57:28.742045Z",
     "start_time": "2022-04-25T13:57:28.691566Z"
    }
   },
   "outputs": [
    {
     "data": {
      "text/plain": [
       "{'users': [{'public_metrics': {'followers_count': 367901,\n",
       "    'following_count': 5211,\n",
       "    'tweet_count': 34480,\n",
       "    'listed_count': 5483},\n",
       "   'username': 'rcallimachi',\n",
       "   'name': 'Rukmini Callimachi',\n",
       "   'created_at': '2009-04-12T18:58:23.000Z',\n",
       "   'protected': False,\n",
       "   'description': 'New York Times journalist currently on book leave. NBC analyst. Previously, 7 years covering ISIS & al-Qaeda, 7 years in Africa. Ex-AP bureau chief. Ex-refugee.',\n",
       "   'verified': True,\n",
       "   'id': '30699754'},\n",
       "  {'public_metrics': {'followers_count': 2419,\n",
       "    'following_count': 1679,\n",
       "    'tweet_count': 86616,\n",
       "    'listed_count': 20},\n",
       "   'username': 'GleamingRazor',\n",
       "   'name': 'GleamingRazor',\n",
       "   'created_at': '2013-08-13T20:31:46.000Z',\n",
       "   'protected': False,\n",
       "   'description': 'RT/LIKE not necessarily an endorsement. I love swimming, football, gym, reading, writing and annoying people on Twitter. Muslim.',\n",
       "   'verified': False,\n",
       "   'id': '1668697268'}]}"
      ]
     },
     "execution_count": 630,
     "metadata": {},
     "output_type": "execute_result"
    }
   ],
   "source": [
    "tweet_train['1200']['includes']"
   ]
  },
  {
   "cell_type": "code",
   "execution_count": 622,
   "id": "ef70f736",
   "metadata": {
    "ExecuteTime": {
     "end_time": "2022-04-25T13:56:05.372402Z",
     "start_time": "2022-04-25T13:56:04.527068Z"
    }
   },
   "outputs": [],
   "source": [
    "with open(\"data/train_data.json\",'r',encoding='utf-8') as f:\n",
    "    tweet_train = json.load(f)\n",
    "    \n",
    "with open(\"data/no_access_first_tweets_train.json\",'r',encoding='utf-8') as f:\n",
    "    no_access_first_tweets_train = json.load(f)"
   ]
  },
  {
   "cell_type": "code",
   "execution_count": 553,
   "id": "3c9dcbef",
   "metadata": {
    "ExecuteTime": {
     "end_time": "2022-04-24T17:34:39.083043Z",
     "start_time": "2022-04-24T17:34:39.040512Z"
    }
   },
   "outputs": [],
   "source": [
    "# tweet_train.update(tweets_train12)\n",
    "\n",
    "# no_access_first_tweets_train.extend(no_access_first_tweets12)"
   ]
  },
  {
   "cell_type": "code",
   "execution_count": 569,
   "id": "e0419a34",
   "metadata": {
    "ExecuteTime": {
     "end_time": "2022-04-24T17:37:35.211722Z",
     "start_time": "2022-04-24T17:37:32.447814Z"
    }
   },
   "outputs": [],
   "source": [
    "with open(\"data/train_data.json\", \"w\",encoding='utf-8') as outfile:\n",
    "    json.dump(tweet_train, outfile)\n",
    "        \n",
    "with open(\"data/no_access_first_tweets_train.json\", \"w\",encoding='utf-8') as outfile:\n",
    "    json.dump(no_access_first_tweets_train, outfile)"
   ]
  }
 ],
 "metadata": {
  "kernelspec": {
   "display_name": "Python 3 (ipykernel)",
   "language": "python",
   "name": "python3"
  },
  "language_info": {
   "codemirror_mode": {
    "name": "ipython",
    "version": 3
   },
   "file_extension": ".py",
   "mimetype": "text/x-python",
   "name": "python",
   "nbconvert_exporter": "python",
   "pygments_lexer": "ipython3",
   "version": "3.7.6"
  },
  "varInspector": {
   "cols": {
    "lenName": 16,
    "lenType": 16,
    "lenVar": 40
   },
   "kernels_config": {
    "python": {
     "delete_cmd_postfix": "",
     "delete_cmd_prefix": "del ",
     "library": "var_list.py",
     "varRefreshCmd": "print(var_dic_list())"
    },
    "r": {
     "delete_cmd_postfix": ") ",
     "delete_cmd_prefix": "rm(",
     "library": "var_list.r",
     "varRefreshCmd": "cat(var_dic_list()) "
    }
   },
   "types_to_exclude": [
    "module",
    "function",
    "builtin_function_or_method",
    "instance",
    "_Feature"
   ],
   "window_display": false
  }
 },
 "nbformat": 4,
 "nbformat_minor": 5
}
