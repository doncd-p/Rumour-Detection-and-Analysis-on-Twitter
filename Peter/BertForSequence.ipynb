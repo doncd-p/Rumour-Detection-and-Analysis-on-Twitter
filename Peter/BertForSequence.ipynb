{
  "nbformat": 4,
  "nbformat_minor": 0,
  "metadata": {
    "colab": {
      "name": "BertForSequence.ipynb",
      "provenance": [],
      "collapsed_sections": [
        "DhyE9siDfopm",
        "5C8UU9gkfzMC"
      ]
    },
    "kernelspec": {
      "name": "python3",
      "display_name": "Python 3"
    },
    "language_info": {
      "name": "python"
    },
    "accelerator": "GPU",
    "widgets": {
      "application/vnd.jupyter.widget-state+json": {
        "536bf28b71c3467cbbec428e31da3d9f": {
          "model_module": "@jupyter-widgets/controls",
          "model_name": "HBoxModel",
          "model_module_version": "1.5.0",
          "state": {
            "_dom_classes": [],
            "_model_module": "@jupyter-widgets/controls",
            "_model_module_version": "1.5.0",
            "_model_name": "HBoxModel",
            "_view_count": null,
            "_view_module": "@jupyter-widgets/controls",
            "_view_module_version": "1.5.0",
            "_view_name": "HBoxView",
            "box_style": "",
            "children": [
              "IPY_MODEL_d5f5230c37da469fb2d1c03265d0df13",
              "IPY_MODEL_b717ede2d854456cbdd1b967fd700fa2",
              "IPY_MODEL_ca2b583a15e64175a547455583854654"
            ],
            "layout": "IPY_MODEL_db747c2c39844f9fad8c3b7a7d0500c8"
          }
        },
        "d5f5230c37da469fb2d1c03265d0df13": {
          "model_module": "@jupyter-widgets/controls",
          "model_name": "HTMLModel",
          "model_module_version": "1.5.0",
          "state": {
            "_dom_classes": [],
            "_model_module": "@jupyter-widgets/controls",
            "_model_module_version": "1.5.0",
            "_model_name": "HTMLModel",
            "_view_count": null,
            "_view_module": "@jupyter-widgets/controls",
            "_view_module_version": "1.5.0",
            "_view_name": "HTMLView",
            "description": "",
            "description_tooltip": null,
            "layout": "IPY_MODEL_6e1b3c13a3be48bebad1bdb4398b62f2",
            "placeholder": "​",
            "style": "IPY_MODEL_3ca254b29e76451883c9f6c19c6c19ed",
            "value": "Downloading: 100%"
          }
        },
        "b717ede2d854456cbdd1b967fd700fa2": {
          "model_module": "@jupyter-widgets/controls",
          "model_name": "FloatProgressModel",
          "model_module_version": "1.5.0",
          "state": {
            "_dom_classes": [],
            "_model_module": "@jupyter-widgets/controls",
            "_model_module_version": "1.5.0",
            "_model_name": "FloatProgressModel",
            "_view_count": null,
            "_view_module": "@jupyter-widgets/controls",
            "_view_module_version": "1.5.0",
            "_view_name": "ProgressView",
            "bar_style": "success",
            "description": "",
            "description_tooltip": null,
            "layout": "IPY_MODEL_8b16ec73958e451c87ef28600874c588",
            "max": 231508,
            "min": 0,
            "orientation": "horizontal",
            "style": "IPY_MODEL_fb63973ccc5949a38e516c5ddbba3f3b",
            "value": 231508
          }
        },
        "ca2b583a15e64175a547455583854654": {
          "model_module": "@jupyter-widgets/controls",
          "model_name": "HTMLModel",
          "model_module_version": "1.5.0",
          "state": {
            "_dom_classes": [],
            "_model_module": "@jupyter-widgets/controls",
            "_model_module_version": "1.5.0",
            "_model_name": "HTMLModel",
            "_view_count": null,
            "_view_module": "@jupyter-widgets/controls",
            "_view_module_version": "1.5.0",
            "_view_name": "HTMLView",
            "description": "",
            "description_tooltip": null,
            "layout": "IPY_MODEL_a24578e99ceb4aa7beb39f2fac7ff10c",
            "placeholder": "​",
            "style": "IPY_MODEL_f98b5c41320343cba24dd9b3a9a8494a",
            "value": " 226k/226k [00:00&lt;00:00, 698kB/s]"
          }
        },
        "db747c2c39844f9fad8c3b7a7d0500c8": {
          "model_module": "@jupyter-widgets/base",
          "model_name": "LayoutModel",
          "model_module_version": "1.2.0",
          "state": {
            "_model_module": "@jupyter-widgets/base",
            "_model_module_version": "1.2.0",
            "_model_name": "LayoutModel",
            "_view_count": null,
            "_view_module": "@jupyter-widgets/base",
            "_view_module_version": "1.2.0",
            "_view_name": "LayoutView",
            "align_content": null,
            "align_items": null,
            "align_self": null,
            "border": null,
            "bottom": null,
            "display": null,
            "flex": null,
            "flex_flow": null,
            "grid_area": null,
            "grid_auto_columns": null,
            "grid_auto_flow": null,
            "grid_auto_rows": null,
            "grid_column": null,
            "grid_gap": null,
            "grid_row": null,
            "grid_template_areas": null,
            "grid_template_columns": null,
            "grid_template_rows": null,
            "height": null,
            "justify_content": null,
            "justify_items": null,
            "left": null,
            "margin": null,
            "max_height": null,
            "max_width": null,
            "min_height": null,
            "min_width": null,
            "object_fit": null,
            "object_position": null,
            "order": null,
            "overflow": null,
            "overflow_x": null,
            "overflow_y": null,
            "padding": null,
            "right": null,
            "top": null,
            "visibility": null,
            "width": null
          }
        },
        "6e1b3c13a3be48bebad1bdb4398b62f2": {
          "model_module": "@jupyter-widgets/base",
          "model_name": "LayoutModel",
          "model_module_version": "1.2.0",
          "state": {
            "_model_module": "@jupyter-widgets/base",
            "_model_module_version": "1.2.0",
            "_model_name": "LayoutModel",
            "_view_count": null,
            "_view_module": "@jupyter-widgets/base",
            "_view_module_version": "1.2.0",
            "_view_name": "LayoutView",
            "align_content": null,
            "align_items": null,
            "align_self": null,
            "border": null,
            "bottom": null,
            "display": null,
            "flex": null,
            "flex_flow": null,
            "grid_area": null,
            "grid_auto_columns": null,
            "grid_auto_flow": null,
            "grid_auto_rows": null,
            "grid_column": null,
            "grid_gap": null,
            "grid_row": null,
            "grid_template_areas": null,
            "grid_template_columns": null,
            "grid_template_rows": null,
            "height": null,
            "justify_content": null,
            "justify_items": null,
            "left": null,
            "margin": null,
            "max_height": null,
            "max_width": null,
            "min_height": null,
            "min_width": null,
            "object_fit": null,
            "object_position": null,
            "order": null,
            "overflow": null,
            "overflow_x": null,
            "overflow_y": null,
            "padding": null,
            "right": null,
            "top": null,
            "visibility": null,
            "width": null
          }
        },
        "3ca254b29e76451883c9f6c19c6c19ed": {
          "model_module": "@jupyter-widgets/controls",
          "model_name": "DescriptionStyleModel",
          "model_module_version": "1.5.0",
          "state": {
            "_model_module": "@jupyter-widgets/controls",
            "_model_module_version": "1.5.0",
            "_model_name": "DescriptionStyleModel",
            "_view_count": null,
            "_view_module": "@jupyter-widgets/base",
            "_view_module_version": "1.2.0",
            "_view_name": "StyleView",
            "description_width": ""
          }
        },
        "8b16ec73958e451c87ef28600874c588": {
          "model_module": "@jupyter-widgets/base",
          "model_name": "LayoutModel",
          "model_module_version": "1.2.0",
          "state": {
            "_model_module": "@jupyter-widgets/base",
            "_model_module_version": "1.2.0",
            "_model_name": "LayoutModel",
            "_view_count": null,
            "_view_module": "@jupyter-widgets/base",
            "_view_module_version": "1.2.0",
            "_view_name": "LayoutView",
            "align_content": null,
            "align_items": null,
            "align_self": null,
            "border": null,
            "bottom": null,
            "display": null,
            "flex": null,
            "flex_flow": null,
            "grid_area": null,
            "grid_auto_columns": null,
            "grid_auto_flow": null,
            "grid_auto_rows": null,
            "grid_column": null,
            "grid_gap": null,
            "grid_row": null,
            "grid_template_areas": null,
            "grid_template_columns": null,
            "grid_template_rows": null,
            "height": null,
            "justify_content": null,
            "justify_items": null,
            "left": null,
            "margin": null,
            "max_height": null,
            "max_width": null,
            "min_height": null,
            "min_width": null,
            "object_fit": null,
            "object_position": null,
            "order": null,
            "overflow": null,
            "overflow_x": null,
            "overflow_y": null,
            "padding": null,
            "right": null,
            "top": null,
            "visibility": null,
            "width": null
          }
        },
        "fb63973ccc5949a38e516c5ddbba3f3b": {
          "model_module": "@jupyter-widgets/controls",
          "model_name": "ProgressStyleModel",
          "model_module_version": "1.5.0",
          "state": {
            "_model_module": "@jupyter-widgets/controls",
            "_model_module_version": "1.5.0",
            "_model_name": "ProgressStyleModel",
            "_view_count": null,
            "_view_module": "@jupyter-widgets/base",
            "_view_module_version": "1.2.0",
            "_view_name": "StyleView",
            "bar_color": null,
            "description_width": ""
          }
        },
        "a24578e99ceb4aa7beb39f2fac7ff10c": {
          "model_module": "@jupyter-widgets/base",
          "model_name": "LayoutModel",
          "model_module_version": "1.2.0",
          "state": {
            "_model_module": "@jupyter-widgets/base",
            "_model_module_version": "1.2.0",
            "_model_name": "LayoutModel",
            "_view_count": null,
            "_view_module": "@jupyter-widgets/base",
            "_view_module_version": "1.2.0",
            "_view_name": "LayoutView",
            "align_content": null,
            "align_items": null,
            "align_self": null,
            "border": null,
            "bottom": null,
            "display": null,
            "flex": null,
            "flex_flow": null,
            "grid_area": null,
            "grid_auto_columns": null,
            "grid_auto_flow": null,
            "grid_auto_rows": null,
            "grid_column": null,
            "grid_gap": null,
            "grid_row": null,
            "grid_template_areas": null,
            "grid_template_columns": null,
            "grid_template_rows": null,
            "height": null,
            "justify_content": null,
            "justify_items": null,
            "left": null,
            "margin": null,
            "max_height": null,
            "max_width": null,
            "min_height": null,
            "min_width": null,
            "object_fit": null,
            "object_position": null,
            "order": null,
            "overflow": null,
            "overflow_x": null,
            "overflow_y": null,
            "padding": null,
            "right": null,
            "top": null,
            "visibility": null,
            "width": null
          }
        },
        "f98b5c41320343cba24dd9b3a9a8494a": {
          "model_module": "@jupyter-widgets/controls",
          "model_name": "DescriptionStyleModel",
          "model_module_version": "1.5.0",
          "state": {
            "_model_module": "@jupyter-widgets/controls",
            "_model_module_version": "1.5.0",
            "_model_name": "DescriptionStyleModel",
            "_view_count": null,
            "_view_module": "@jupyter-widgets/base",
            "_view_module_version": "1.2.0",
            "_view_name": "StyleView",
            "description_width": ""
          }
        },
        "b719bf15495047d49d06889374f1fa2d": {
          "model_module": "@jupyter-widgets/controls",
          "model_name": "HBoxModel",
          "model_module_version": "1.5.0",
          "state": {
            "_dom_classes": [],
            "_model_module": "@jupyter-widgets/controls",
            "_model_module_version": "1.5.0",
            "_model_name": "HBoxModel",
            "_view_count": null,
            "_view_module": "@jupyter-widgets/controls",
            "_view_module_version": "1.5.0",
            "_view_name": "HBoxView",
            "box_style": "",
            "children": [
              "IPY_MODEL_83de662b46214c78b95aafe7c9367605",
              "IPY_MODEL_5c9fe3c87960498d8631538e843d77f2",
              "IPY_MODEL_7fb1946a09674eae951a39cdc1b2e97c"
            ],
            "layout": "IPY_MODEL_98b03ebcd98c434db237ea75b99af4fb"
          }
        },
        "83de662b46214c78b95aafe7c9367605": {
          "model_module": "@jupyter-widgets/controls",
          "model_name": "HTMLModel",
          "model_module_version": "1.5.0",
          "state": {
            "_dom_classes": [],
            "_model_module": "@jupyter-widgets/controls",
            "_model_module_version": "1.5.0",
            "_model_name": "HTMLModel",
            "_view_count": null,
            "_view_module": "@jupyter-widgets/controls",
            "_view_module_version": "1.5.0",
            "_view_name": "HTMLView",
            "description": "",
            "description_tooltip": null,
            "layout": "IPY_MODEL_7ce2b2a4c60c47a49561643c5b3fb2aa",
            "placeholder": "​",
            "style": "IPY_MODEL_ac907e882eba4f75b8b219c61413d1db",
            "value": "Downloading: 100%"
          }
        },
        "5c9fe3c87960498d8631538e843d77f2": {
          "model_module": "@jupyter-widgets/controls",
          "model_name": "FloatProgressModel",
          "model_module_version": "1.5.0",
          "state": {
            "_dom_classes": [],
            "_model_module": "@jupyter-widgets/controls",
            "_model_module_version": "1.5.0",
            "_model_name": "FloatProgressModel",
            "_view_count": null,
            "_view_module": "@jupyter-widgets/controls",
            "_view_module_version": "1.5.0",
            "_view_name": "ProgressView",
            "bar_style": "success",
            "description": "",
            "description_tooltip": null,
            "layout": "IPY_MODEL_e1b623a3a4f34eac9fec23d7714d9305",
            "max": 28,
            "min": 0,
            "orientation": "horizontal",
            "style": "IPY_MODEL_3eb0cb1db321420984731f4d45c3e4c2",
            "value": 28
          }
        },
        "7fb1946a09674eae951a39cdc1b2e97c": {
          "model_module": "@jupyter-widgets/controls",
          "model_name": "HTMLModel",
          "model_module_version": "1.5.0",
          "state": {
            "_dom_classes": [],
            "_model_module": "@jupyter-widgets/controls",
            "_model_module_version": "1.5.0",
            "_model_name": "HTMLModel",
            "_view_count": null,
            "_view_module": "@jupyter-widgets/controls",
            "_view_module_version": "1.5.0",
            "_view_name": "HTMLView",
            "description": "",
            "description_tooltip": null,
            "layout": "IPY_MODEL_575746d6503846a8a341570f92da53a5",
            "placeholder": "​",
            "style": "IPY_MODEL_db2ba5fc35f548308b9bc863a9108a9e",
            "value": " 28.0/28.0 [00:00&lt;00:00, 985B/s]"
          }
        },
        "98b03ebcd98c434db237ea75b99af4fb": {
          "model_module": "@jupyter-widgets/base",
          "model_name": "LayoutModel",
          "model_module_version": "1.2.0",
          "state": {
            "_model_module": "@jupyter-widgets/base",
            "_model_module_version": "1.2.0",
            "_model_name": "LayoutModel",
            "_view_count": null,
            "_view_module": "@jupyter-widgets/base",
            "_view_module_version": "1.2.0",
            "_view_name": "LayoutView",
            "align_content": null,
            "align_items": null,
            "align_self": null,
            "border": null,
            "bottom": null,
            "display": null,
            "flex": null,
            "flex_flow": null,
            "grid_area": null,
            "grid_auto_columns": null,
            "grid_auto_flow": null,
            "grid_auto_rows": null,
            "grid_column": null,
            "grid_gap": null,
            "grid_row": null,
            "grid_template_areas": null,
            "grid_template_columns": null,
            "grid_template_rows": null,
            "height": null,
            "justify_content": null,
            "justify_items": null,
            "left": null,
            "margin": null,
            "max_height": null,
            "max_width": null,
            "min_height": null,
            "min_width": null,
            "object_fit": null,
            "object_position": null,
            "order": null,
            "overflow": null,
            "overflow_x": null,
            "overflow_y": null,
            "padding": null,
            "right": null,
            "top": null,
            "visibility": null,
            "width": null
          }
        },
        "7ce2b2a4c60c47a49561643c5b3fb2aa": {
          "model_module": "@jupyter-widgets/base",
          "model_name": "LayoutModel",
          "model_module_version": "1.2.0",
          "state": {
            "_model_module": "@jupyter-widgets/base",
            "_model_module_version": "1.2.0",
            "_model_name": "LayoutModel",
            "_view_count": null,
            "_view_module": "@jupyter-widgets/base",
            "_view_module_version": "1.2.0",
            "_view_name": "LayoutView",
            "align_content": null,
            "align_items": null,
            "align_self": null,
            "border": null,
            "bottom": null,
            "display": null,
            "flex": null,
            "flex_flow": null,
            "grid_area": null,
            "grid_auto_columns": null,
            "grid_auto_flow": null,
            "grid_auto_rows": null,
            "grid_column": null,
            "grid_gap": null,
            "grid_row": null,
            "grid_template_areas": null,
            "grid_template_columns": null,
            "grid_template_rows": null,
            "height": null,
            "justify_content": null,
            "justify_items": null,
            "left": null,
            "margin": null,
            "max_height": null,
            "max_width": null,
            "min_height": null,
            "min_width": null,
            "object_fit": null,
            "object_position": null,
            "order": null,
            "overflow": null,
            "overflow_x": null,
            "overflow_y": null,
            "padding": null,
            "right": null,
            "top": null,
            "visibility": null,
            "width": null
          }
        },
        "ac907e882eba4f75b8b219c61413d1db": {
          "model_module": "@jupyter-widgets/controls",
          "model_name": "DescriptionStyleModel",
          "model_module_version": "1.5.0",
          "state": {
            "_model_module": "@jupyter-widgets/controls",
            "_model_module_version": "1.5.0",
            "_model_name": "DescriptionStyleModel",
            "_view_count": null,
            "_view_module": "@jupyter-widgets/base",
            "_view_module_version": "1.2.0",
            "_view_name": "StyleView",
            "description_width": ""
          }
        },
        "e1b623a3a4f34eac9fec23d7714d9305": {
          "model_module": "@jupyter-widgets/base",
          "model_name": "LayoutModel",
          "model_module_version": "1.2.0",
          "state": {
            "_model_module": "@jupyter-widgets/base",
            "_model_module_version": "1.2.0",
            "_model_name": "LayoutModel",
            "_view_count": null,
            "_view_module": "@jupyter-widgets/base",
            "_view_module_version": "1.2.0",
            "_view_name": "LayoutView",
            "align_content": null,
            "align_items": null,
            "align_self": null,
            "border": null,
            "bottom": null,
            "display": null,
            "flex": null,
            "flex_flow": null,
            "grid_area": null,
            "grid_auto_columns": null,
            "grid_auto_flow": null,
            "grid_auto_rows": null,
            "grid_column": null,
            "grid_gap": null,
            "grid_row": null,
            "grid_template_areas": null,
            "grid_template_columns": null,
            "grid_template_rows": null,
            "height": null,
            "justify_content": null,
            "justify_items": null,
            "left": null,
            "margin": null,
            "max_height": null,
            "max_width": null,
            "min_height": null,
            "min_width": null,
            "object_fit": null,
            "object_position": null,
            "order": null,
            "overflow": null,
            "overflow_x": null,
            "overflow_y": null,
            "padding": null,
            "right": null,
            "top": null,
            "visibility": null,
            "width": null
          }
        },
        "3eb0cb1db321420984731f4d45c3e4c2": {
          "model_module": "@jupyter-widgets/controls",
          "model_name": "ProgressStyleModel",
          "model_module_version": "1.5.0",
          "state": {
            "_model_module": "@jupyter-widgets/controls",
            "_model_module_version": "1.5.0",
            "_model_name": "ProgressStyleModel",
            "_view_count": null,
            "_view_module": "@jupyter-widgets/base",
            "_view_module_version": "1.2.0",
            "_view_name": "StyleView",
            "bar_color": null,
            "description_width": ""
          }
        },
        "575746d6503846a8a341570f92da53a5": {
          "model_module": "@jupyter-widgets/base",
          "model_name": "LayoutModel",
          "model_module_version": "1.2.0",
          "state": {
            "_model_module": "@jupyter-widgets/base",
            "_model_module_version": "1.2.0",
            "_model_name": "LayoutModel",
            "_view_count": null,
            "_view_module": "@jupyter-widgets/base",
            "_view_module_version": "1.2.0",
            "_view_name": "LayoutView",
            "align_content": null,
            "align_items": null,
            "align_self": null,
            "border": null,
            "bottom": null,
            "display": null,
            "flex": null,
            "flex_flow": null,
            "grid_area": null,
            "grid_auto_columns": null,
            "grid_auto_flow": null,
            "grid_auto_rows": null,
            "grid_column": null,
            "grid_gap": null,
            "grid_row": null,
            "grid_template_areas": null,
            "grid_template_columns": null,
            "grid_template_rows": null,
            "height": null,
            "justify_content": null,
            "justify_items": null,
            "left": null,
            "margin": null,
            "max_height": null,
            "max_width": null,
            "min_height": null,
            "min_width": null,
            "object_fit": null,
            "object_position": null,
            "order": null,
            "overflow": null,
            "overflow_x": null,
            "overflow_y": null,
            "padding": null,
            "right": null,
            "top": null,
            "visibility": null,
            "width": null
          }
        },
        "db2ba5fc35f548308b9bc863a9108a9e": {
          "model_module": "@jupyter-widgets/controls",
          "model_name": "DescriptionStyleModel",
          "model_module_version": "1.5.0",
          "state": {
            "_model_module": "@jupyter-widgets/controls",
            "_model_module_version": "1.5.0",
            "_model_name": "DescriptionStyleModel",
            "_view_count": null,
            "_view_module": "@jupyter-widgets/base",
            "_view_module_version": "1.2.0",
            "_view_name": "StyleView",
            "description_width": ""
          }
        },
        "7ac4560a5d8045e69d7caba53aca50bb": {
          "model_module": "@jupyter-widgets/controls",
          "model_name": "HBoxModel",
          "model_module_version": "1.5.0",
          "state": {
            "_dom_classes": [],
            "_model_module": "@jupyter-widgets/controls",
            "_model_module_version": "1.5.0",
            "_model_name": "HBoxModel",
            "_view_count": null,
            "_view_module": "@jupyter-widgets/controls",
            "_view_module_version": "1.5.0",
            "_view_name": "HBoxView",
            "box_style": "",
            "children": [
              "IPY_MODEL_1e29a34cbf2345a0ad7e4cd9eee7b501",
              "IPY_MODEL_4e8ec4d2fbc74007b652aefab32cc722",
              "IPY_MODEL_97246f0b0cde4be296a247f216b897fa"
            ],
            "layout": "IPY_MODEL_6bae487b62c343f893508a081b5bd24a"
          }
        },
        "1e29a34cbf2345a0ad7e4cd9eee7b501": {
          "model_module": "@jupyter-widgets/controls",
          "model_name": "HTMLModel",
          "model_module_version": "1.5.0",
          "state": {
            "_dom_classes": [],
            "_model_module": "@jupyter-widgets/controls",
            "_model_module_version": "1.5.0",
            "_model_name": "HTMLModel",
            "_view_count": null,
            "_view_module": "@jupyter-widgets/controls",
            "_view_module_version": "1.5.0",
            "_view_name": "HTMLView",
            "description": "",
            "description_tooltip": null,
            "layout": "IPY_MODEL_3769e6303a0d483babb20554537bfe27",
            "placeholder": "​",
            "style": "IPY_MODEL_ab73b2e14e3c4550bf26c45258615a4d",
            "value": "Downloading: 100%"
          }
        },
        "4e8ec4d2fbc74007b652aefab32cc722": {
          "model_module": "@jupyter-widgets/controls",
          "model_name": "FloatProgressModel",
          "model_module_version": "1.5.0",
          "state": {
            "_dom_classes": [],
            "_model_module": "@jupyter-widgets/controls",
            "_model_module_version": "1.5.0",
            "_model_name": "FloatProgressModel",
            "_view_count": null,
            "_view_module": "@jupyter-widgets/controls",
            "_view_module_version": "1.5.0",
            "_view_name": "ProgressView",
            "bar_style": "success",
            "description": "",
            "description_tooltip": null,
            "layout": "IPY_MODEL_07cef4d6d88c485aad48c27078afeb94",
            "max": 570,
            "min": 0,
            "orientation": "horizontal",
            "style": "IPY_MODEL_358bbe39bb58415f90849d4e858ed664",
            "value": 570
          }
        },
        "97246f0b0cde4be296a247f216b897fa": {
          "model_module": "@jupyter-widgets/controls",
          "model_name": "HTMLModel",
          "model_module_version": "1.5.0",
          "state": {
            "_dom_classes": [],
            "_model_module": "@jupyter-widgets/controls",
            "_model_module_version": "1.5.0",
            "_model_name": "HTMLModel",
            "_view_count": null,
            "_view_module": "@jupyter-widgets/controls",
            "_view_module_version": "1.5.0",
            "_view_name": "HTMLView",
            "description": "",
            "description_tooltip": null,
            "layout": "IPY_MODEL_158ef29160684b9b95d3cf701aecde58",
            "placeholder": "​",
            "style": "IPY_MODEL_cb94b3a701544c9384d799965bf2f71c",
            "value": " 570/570 [00:00&lt;00:00, 18.4kB/s]"
          }
        },
        "6bae487b62c343f893508a081b5bd24a": {
          "model_module": "@jupyter-widgets/base",
          "model_name": "LayoutModel",
          "model_module_version": "1.2.0",
          "state": {
            "_model_module": "@jupyter-widgets/base",
            "_model_module_version": "1.2.0",
            "_model_name": "LayoutModel",
            "_view_count": null,
            "_view_module": "@jupyter-widgets/base",
            "_view_module_version": "1.2.0",
            "_view_name": "LayoutView",
            "align_content": null,
            "align_items": null,
            "align_self": null,
            "border": null,
            "bottom": null,
            "display": null,
            "flex": null,
            "flex_flow": null,
            "grid_area": null,
            "grid_auto_columns": null,
            "grid_auto_flow": null,
            "grid_auto_rows": null,
            "grid_column": null,
            "grid_gap": null,
            "grid_row": null,
            "grid_template_areas": null,
            "grid_template_columns": null,
            "grid_template_rows": null,
            "height": null,
            "justify_content": null,
            "justify_items": null,
            "left": null,
            "margin": null,
            "max_height": null,
            "max_width": null,
            "min_height": null,
            "min_width": null,
            "object_fit": null,
            "object_position": null,
            "order": null,
            "overflow": null,
            "overflow_x": null,
            "overflow_y": null,
            "padding": null,
            "right": null,
            "top": null,
            "visibility": null,
            "width": null
          }
        },
        "3769e6303a0d483babb20554537bfe27": {
          "model_module": "@jupyter-widgets/base",
          "model_name": "LayoutModel",
          "model_module_version": "1.2.0",
          "state": {
            "_model_module": "@jupyter-widgets/base",
            "_model_module_version": "1.2.0",
            "_model_name": "LayoutModel",
            "_view_count": null,
            "_view_module": "@jupyter-widgets/base",
            "_view_module_version": "1.2.0",
            "_view_name": "LayoutView",
            "align_content": null,
            "align_items": null,
            "align_self": null,
            "border": null,
            "bottom": null,
            "display": null,
            "flex": null,
            "flex_flow": null,
            "grid_area": null,
            "grid_auto_columns": null,
            "grid_auto_flow": null,
            "grid_auto_rows": null,
            "grid_column": null,
            "grid_gap": null,
            "grid_row": null,
            "grid_template_areas": null,
            "grid_template_columns": null,
            "grid_template_rows": null,
            "height": null,
            "justify_content": null,
            "justify_items": null,
            "left": null,
            "margin": null,
            "max_height": null,
            "max_width": null,
            "min_height": null,
            "min_width": null,
            "object_fit": null,
            "object_position": null,
            "order": null,
            "overflow": null,
            "overflow_x": null,
            "overflow_y": null,
            "padding": null,
            "right": null,
            "top": null,
            "visibility": null,
            "width": null
          }
        },
        "ab73b2e14e3c4550bf26c45258615a4d": {
          "model_module": "@jupyter-widgets/controls",
          "model_name": "DescriptionStyleModel",
          "model_module_version": "1.5.0",
          "state": {
            "_model_module": "@jupyter-widgets/controls",
            "_model_module_version": "1.5.0",
            "_model_name": "DescriptionStyleModel",
            "_view_count": null,
            "_view_module": "@jupyter-widgets/base",
            "_view_module_version": "1.2.0",
            "_view_name": "StyleView",
            "description_width": ""
          }
        },
        "07cef4d6d88c485aad48c27078afeb94": {
          "model_module": "@jupyter-widgets/base",
          "model_name": "LayoutModel",
          "model_module_version": "1.2.0",
          "state": {
            "_model_module": "@jupyter-widgets/base",
            "_model_module_version": "1.2.0",
            "_model_name": "LayoutModel",
            "_view_count": null,
            "_view_module": "@jupyter-widgets/base",
            "_view_module_version": "1.2.0",
            "_view_name": "LayoutView",
            "align_content": null,
            "align_items": null,
            "align_self": null,
            "border": null,
            "bottom": null,
            "display": null,
            "flex": null,
            "flex_flow": null,
            "grid_area": null,
            "grid_auto_columns": null,
            "grid_auto_flow": null,
            "grid_auto_rows": null,
            "grid_column": null,
            "grid_gap": null,
            "grid_row": null,
            "grid_template_areas": null,
            "grid_template_columns": null,
            "grid_template_rows": null,
            "height": null,
            "justify_content": null,
            "justify_items": null,
            "left": null,
            "margin": null,
            "max_height": null,
            "max_width": null,
            "min_height": null,
            "min_width": null,
            "object_fit": null,
            "object_position": null,
            "order": null,
            "overflow": null,
            "overflow_x": null,
            "overflow_y": null,
            "padding": null,
            "right": null,
            "top": null,
            "visibility": null,
            "width": null
          }
        },
        "358bbe39bb58415f90849d4e858ed664": {
          "model_module": "@jupyter-widgets/controls",
          "model_name": "ProgressStyleModel",
          "model_module_version": "1.5.0",
          "state": {
            "_model_module": "@jupyter-widgets/controls",
            "_model_module_version": "1.5.0",
            "_model_name": "ProgressStyleModel",
            "_view_count": null,
            "_view_module": "@jupyter-widgets/base",
            "_view_module_version": "1.2.0",
            "_view_name": "StyleView",
            "bar_color": null,
            "description_width": ""
          }
        },
        "158ef29160684b9b95d3cf701aecde58": {
          "model_module": "@jupyter-widgets/base",
          "model_name": "LayoutModel",
          "model_module_version": "1.2.0",
          "state": {
            "_model_module": "@jupyter-widgets/base",
            "_model_module_version": "1.2.0",
            "_model_name": "LayoutModel",
            "_view_count": null,
            "_view_module": "@jupyter-widgets/base",
            "_view_module_version": "1.2.0",
            "_view_name": "LayoutView",
            "align_content": null,
            "align_items": null,
            "align_self": null,
            "border": null,
            "bottom": null,
            "display": null,
            "flex": null,
            "flex_flow": null,
            "grid_area": null,
            "grid_auto_columns": null,
            "grid_auto_flow": null,
            "grid_auto_rows": null,
            "grid_column": null,
            "grid_gap": null,
            "grid_row": null,
            "grid_template_areas": null,
            "grid_template_columns": null,
            "grid_template_rows": null,
            "height": null,
            "justify_content": null,
            "justify_items": null,
            "left": null,
            "margin": null,
            "max_height": null,
            "max_width": null,
            "min_height": null,
            "min_width": null,
            "object_fit": null,
            "object_position": null,
            "order": null,
            "overflow": null,
            "overflow_x": null,
            "overflow_y": null,
            "padding": null,
            "right": null,
            "top": null,
            "visibility": null,
            "width": null
          }
        },
        "cb94b3a701544c9384d799965bf2f71c": {
          "model_module": "@jupyter-widgets/controls",
          "model_name": "DescriptionStyleModel",
          "model_module_version": "1.5.0",
          "state": {
            "_model_module": "@jupyter-widgets/controls",
            "_model_module_version": "1.5.0",
            "_model_name": "DescriptionStyleModel",
            "_view_count": null,
            "_view_module": "@jupyter-widgets/base",
            "_view_module_version": "1.2.0",
            "_view_name": "StyleView",
            "description_width": ""
          }
        },
        "93943a6d1e7843f4a014fc7d56d8ed52": {
          "model_module": "@jupyter-widgets/controls",
          "model_name": "HBoxModel",
          "model_module_version": "1.5.0",
          "state": {
            "_dom_classes": [],
            "_model_module": "@jupyter-widgets/controls",
            "_model_module_version": "1.5.0",
            "_model_name": "HBoxModel",
            "_view_count": null,
            "_view_module": "@jupyter-widgets/controls",
            "_view_module_version": "1.5.0",
            "_view_name": "HBoxView",
            "box_style": "",
            "children": [
              "IPY_MODEL_048fcacb43424901bd12ec458dc4fb50",
              "IPY_MODEL_8fd00e1790b64edc883e6a80260f6b3c",
              "IPY_MODEL_6961e11d142e4adeaa672f9794d1c4e1"
            ],
            "layout": "IPY_MODEL_220c2a2f2f3540e9bd5b51c486d47c16"
          }
        },
        "048fcacb43424901bd12ec458dc4fb50": {
          "model_module": "@jupyter-widgets/controls",
          "model_name": "HTMLModel",
          "model_module_version": "1.5.0",
          "state": {
            "_dom_classes": [],
            "_model_module": "@jupyter-widgets/controls",
            "_model_module_version": "1.5.0",
            "_model_name": "HTMLModel",
            "_view_count": null,
            "_view_module": "@jupyter-widgets/controls",
            "_view_module_version": "1.5.0",
            "_view_name": "HTMLView",
            "description": "",
            "description_tooltip": null,
            "layout": "IPY_MODEL_a13e5114b7bb49eb85223927e394c226",
            "placeholder": "​",
            "style": "IPY_MODEL_3d66be53093b4f7fb3202e2c0e52fb9a",
            "value": "Downloading: 100%"
          }
        },
        "8fd00e1790b64edc883e6a80260f6b3c": {
          "model_module": "@jupyter-widgets/controls",
          "model_name": "FloatProgressModel",
          "model_module_version": "1.5.0",
          "state": {
            "_dom_classes": [],
            "_model_module": "@jupyter-widgets/controls",
            "_model_module_version": "1.5.0",
            "_model_name": "FloatProgressModel",
            "_view_count": null,
            "_view_module": "@jupyter-widgets/controls",
            "_view_module_version": "1.5.0",
            "_view_name": "ProgressView",
            "bar_style": "success",
            "description": "",
            "description_tooltip": null,
            "layout": "IPY_MODEL_274302b3dfab4f52bb177c6a15958e4e",
            "max": 440473133,
            "min": 0,
            "orientation": "horizontal",
            "style": "IPY_MODEL_9d7b76ef2c4a4a4b8c22728d66506f69",
            "value": 440473133
          }
        },
        "6961e11d142e4adeaa672f9794d1c4e1": {
          "model_module": "@jupyter-widgets/controls",
          "model_name": "HTMLModel",
          "model_module_version": "1.5.0",
          "state": {
            "_dom_classes": [],
            "_model_module": "@jupyter-widgets/controls",
            "_model_module_version": "1.5.0",
            "_model_name": "HTMLModel",
            "_view_count": null,
            "_view_module": "@jupyter-widgets/controls",
            "_view_module_version": "1.5.0",
            "_view_name": "HTMLView",
            "description": "",
            "description_tooltip": null,
            "layout": "IPY_MODEL_06f0404841214eeeb5e4bb9f924334e0",
            "placeholder": "​",
            "style": "IPY_MODEL_e159154445cd4698a41eed19278c7608",
            "value": " 420M/420M [00:07&lt;00:00, 66.6MB/s]"
          }
        },
        "220c2a2f2f3540e9bd5b51c486d47c16": {
          "model_module": "@jupyter-widgets/base",
          "model_name": "LayoutModel",
          "model_module_version": "1.2.0",
          "state": {
            "_model_module": "@jupyter-widgets/base",
            "_model_module_version": "1.2.0",
            "_model_name": "LayoutModel",
            "_view_count": null,
            "_view_module": "@jupyter-widgets/base",
            "_view_module_version": "1.2.0",
            "_view_name": "LayoutView",
            "align_content": null,
            "align_items": null,
            "align_self": null,
            "border": null,
            "bottom": null,
            "display": null,
            "flex": null,
            "flex_flow": null,
            "grid_area": null,
            "grid_auto_columns": null,
            "grid_auto_flow": null,
            "grid_auto_rows": null,
            "grid_column": null,
            "grid_gap": null,
            "grid_row": null,
            "grid_template_areas": null,
            "grid_template_columns": null,
            "grid_template_rows": null,
            "height": null,
            "justify_content": null,
            "justify_items": null,
            "left": null,
            "margin": null,
            "max_height": null,
            "max_width": null,
            "min_height": null,
            "min_width": null,
            "object_fit": null,
            "object_position": null,
            "order": null,
            "overflow": null,
            "overflow_x": null,
            "overflow_y": null,
            "padding": null,
            "right": null,
            "top": null,
            "visibility": null,
            "width": null
          }
        },
        "a13e5114b7bb49eb85223927e394c226": {
          "model_module": "@jupyter-widgets/base",
          "model_name": "LayoutModel",
          "model_module_version": "1.2.0",
          "state": {
            "_model_module": "@jupyter-widgets/base",
            "_model_module_version": "1.2.0",
            "_model_name": "LayoutModel",
            "_view_count": null,
            "_view_module": "@jupyter-widgets/base",
            "_view_module_version": "1.2.0",
            "_view_name": "LayoutView",
            "align_content": null,
            "align_items": null,
            "align_self": null,
            "border": null,
            "bottom": null,
            "display": null,
            "flex": null,
            "flex_flow": null,
            "grid_area": null,
            "grid_auto_columns": null,
            "grid_auto_flow": null,
            "grid_auto_rows": null,
            "grid_column": null,
            "grid_gap": null,
            "grid_row": null,
            "grid_template_areas": null,
            "grid_template_columns": null,
            "grid_template_rows": null,
            "height": null,
            "justify_content": null,
            "justify_items": null,
            "left": null,
            "margin": null,
            "max_height": null,
            "max_width": null,
            "min_height": null,
            "min_width": null,
            "object_fit": null,
            "object_position": null,
            "order": null,
            "overflow": null,
            "overflow_x": null,
            "overflow_y": null,
            "padding": null,
            "right": null,
            "top": null,
            "visibility": null,
            "width": null
          }
        },
        "3d66be53093b4f7fb3202e2c0e52fb9a": {
          "model_module": "@jupyter-widgets/controls",
          "model_name": "DescriptionStyleModel",
          "model_module_version": "1.5.0",
          "state": {
            "_model_module": "@jupyter-widgets/controls",
            "_model_module_version": "1.5.0",
            "_model_name": "DescriptionStyleModel",
            "_view_count": null,
            "_view_module": "@jupyter-widgets/base",
            "_view_module_version": "1.2.0",
            "_view_name": "StyleView",
            "description_width": ""
          }
        },
        "274302b3dfab4f52bb177c6a15958e4e": {
          "model_module": "@jupyter-widgets/base",
          "model_name": "LayoutModel",
          "model_module_version": "1.2.0",
          "state": {
            "_model_module": "@jupyter-widgets/base",
            "_model_module_version": "1.2.0",
            "_model_name": "LayoutModel",
            "_view_count": null,
            "_view_module": "@jupyter-widgets/base",
            "_view_module_version": "1.2.0",
            "_view_name": "LayoutView",
            "align_content": null,
            "align_items": null,
            "align_self": null,
            "border": null,
            "bottom": null,
            "display": null,
            "flex": null,
            "flex_flow": null,
            "grid_area": null,
            "grid_auto_columns": null,
            "grid_auto_flow": null,
            "grid_auto_rows": null,
            "grid_column": null,
            "grid_gap": null,
            "grid_row": null,
            "grid_template_areas": null,
            "grid_template_columns": null,
            "grid_template_rows": null,
            "height": null,
            "justify_content": null,
            "justify_items": null,
            "left": null,
            "margin": null,
            "max_height": null,
            "max_width": null,
            "min_height": null,
            "min_width": null,
            "object_fit": null,
            "object_position": null,
            "order": null,
            "overflow": null,
            "overflow_x": null,
            "overflow_y": null,
            "padding": null,
            "right": null,
            "top": null,
            "visibility": null,
            "width": null
          }
        },
        "9d7b76ef2c4a4a4b8c22728d66506f69": {
          "model_module": "@jupyter-widgets/controls",
          "model_name": "ProgressStyleModel",
          "model_module_version": "1.5.0",
          "state": {
            "_model_module": "@jupyter-widgets/controls",
            "_model_module_version": "1.5.0",
            "_model_name": "ProgressStyleModel",
            "_view_count": null,
            "_view_module": "@jupyter-widgets/base",
            "_view_module_version": "1.2.0",
            "_view_name": "StyleView",
            "bar_color": null,
            "description_width": ""
          }
        },
        "06f0404841214eeeb5e4bb9f924334e0": {
          "model_module": "@jupyter-widgets/base",
          "model_name": "LayoutModel",
          "model_module_version": "1.2.0",
          "state": {
            "_model_module": "@jupyter-widgets/base",
            "_model_module_version": "1.2.0",
            "_model_name": "LayoutModel",
            "_view_count": null,
            "_view_module": "@jupyter-widgets/base",
            "_view_module_version": "1.2.0",
            "_view_name": "LayoutView",
            "align_content": null,
            "align_items": null,
            "align_self": null,
            "border": null,
            "bottom": null,
            "display": null,
            "flex": null,
            "flex_flow": null,
            "grid_area": null,
            "grid_auto_columns": null,
            "grid_auto_flow": null,
            "grid_auto_rows": null,
            "grid_column": null,
            "grid_gap": null,
            "grid_row": null,
            "grid_template_areas": null,
            "grid_template_columns": null,
            "grid_template_rows": null,
            "height": null,
            "justify_content": null,
            "justify_items": null,
            "left": null,
            "margin": null,
            "max_height": null,
            "max_width": null,
            "min_height": null,
            "min_width": null,
            "object_fit": null,
            "object_position": null,
            "order": null,
            "overflow": null,
            "overflow_x": null,
            "overflow_y": null,
            "padding": null,
            "right": null,
            "top": null,
            "visibility": null,
            "width": null
          }
        },
        "e159154445cd4698a41eed19278c7608": {
          "model_module": "@jupyter-widgets/controls",
          "model_name": "DescriptionStyleModel",
          "model_module_version": "1.5.0",
          "state": {
            "_model_module": "@jupyter-widgets/controls",
            "_model_module_version": "1.5.0",
            "_model_name": "DescriptionStyleModel",
            "_view_count": null,
            "_view_module": "@jupyter-widgets/base",
            "_view_module_version": "1.2.0",
            "_view_name": "StyleView",
            "description_width": ""
          }
        }
      }
    }
  },
  "cells": [
    {
      "cell_type": "markdown",
      "source": [
        "# **Import and Install**"
      ],
      "metadata": {
        "id": "DhyE9siDfopm"
      }
    },
    {
      "cell_type": "code",
      "execution_count": 1,
      "metadata": {
        "colab": {
          "base_uri": "https://localhost:8080/"
        },
        "id": "Qe613V6FGwJM",
        "outputId": "774b1055-05fb-4de6-f814-2a6394444155"
      },
      "outputs": [
        {
          "output_type": "stream",
          "name": "stdout",
          "text": [
            "Requirement already satisfied: torch in /usr/local/lib/python3.7/dist-packages (1.11.0+cu113)\n",
            "Requirement already satisfied: torchvision in /usr/local/lib/python3.7/dist-packages (0.12.0+cu113)\n",
            "Collecting transformers\n",
            "  Downloading transformers-4.18.0-py3-none-any.whl (4.0 MB)\n",
            "\u001b[K     |████████████████████████████████| 4.0 MB 8.1 MB/s \n",
            "\u001b[?25hRequirement already satisfied: typing-extensions in /usr/local/lib/python3.7/dist-packages (from torch) (4.2.0)\n",
            "Requirement already satisfied: requests in /usr/local/lib/python3.7/dist-packages (from torchvision) (2.23.0)\n",
            "Requirement already satisfied: pillow!=8.3.*,>=5.3.0 in /usr/local/lib/python3.7/dist-packages (from torchvision) (7.1.2)\n",
            "Requirement already satisfied: numpy in /usr/local/lib/python3.7/dist-packages (from torchvision) (1.21.6)\n",
            "Requirement already satisfied: packaging>=20.0 in /usr/local/lib/python3.7/dist-packages (from transformers) (21.3)\n",
            "Collecting tokenizers!=0.11.3,<0.13,>=0.11.1\n",
            "  Downloading tokenizers-0.12.1-cp37-cp37m-manylinux_2_12_x86_64.manylinux2010_x86_64.whl (6.6 MB)\n",
            "\u001b[K     |████████████████████████████████| 6.6 MB 57.5 MB/s \n",
            "\u001b[?25hCollecting pyyaml>=5.1\n",
            "  Downloading PyYAML-6.0-cp37-cp37m-manylinux_2_5_x86_64.manylinux1_x86_64.manylinux_2_12_x86_64.manylinux2010_x86_64.whl (596 kB)\n",
            "\u001b[K     |████████████████████████████████| 596 kB 58.3 MB/s \n",
            "\u001b[?25hRequirement already satisfied: filelock in /usr/local/lib/python3.7/dist-packages (from transformers) (3.6.0)\n",
            "Requirement already satisfied: importlib-metadata in /usr/local/lib/python3.7/dist-packages (from transformers) (4.11.3)\n",
            "Requirement already satisfied: regex!=2019.12.17 in /usr/local/lib/python3.7/dist-packages (from transformers) (2019.12.20)\n",
            "Collecting huggingface-hub<1.0,>=0.1.0\n",
            "  Downloading huggingface_hub-0.5.1-py3-none-any.whl (77 kB)\n",
            "\u001b[K     |████████████████████████████████| 77 kB 7.4 MB/s \n",
            "\u001b[?25hCollecting sacremoses\n",
            "  Downloading sacremoses-0.0.53.tar.gz (880 kB)\n",
            "\u001b[K     |████████████████████████████████| 880 kB 65.8 MB/s \n",
            "\u001b[?25hRequirement already satisfied: tqdm>=4.27 in /usr/local/lib/python3.7/dist-packages (from transformers) (4.64.0)\n",
            "Requirement already satisfied: pyparsing!=3.0.5,>=2.0.2 in /usr/local/lib/python3.7/dist-packages (from packaging>=20.0->transformers) (3.0.8)\n",
            "Requirement already satisfied: zipp>=0.5 in /usr/local/lib/python3.7/dist-packages (from importlib-metadata->transformers) (3.8.0)\n",
            "Requirement already satisfied: chardet<4,>=3.0.2 in /usr/local/lib/python3.7/dist-packages (from requests->torchvision) (3.0.4)\n",
            "Requirement already satisfied: certifi>=2017.4.17 in /usr/local/lib/python3.7/dist-packages (from requests->torchvision) (2021.10.8)\n",
            "Requirement already satisfied: urllib3!=1.25.0,!=1.25.1,<1.26,>=1.21.1 in /usr/local/lib/python3.7/dist-packages (from requests->torchvision) (1.24.3)\n",
            "Requirement already satisfied: idna<3,>=2.5 in /usr/local/lib/python3.7/dist-packages (from requests->torchvision) (2.10)\n",
            "Requirement already satisfied: six in /usr/local/lib/python3.7/dist-packages (from sacremoses->transformers) (1.15.0)\n",
            "Requirement already satisfied: click in /usr/local/lib/python3.7/dist-packages (from sacremoses->transformers) (7.1.2)\n",
            "Requirement already satisfied: joblib in /usr/local/lib/python3.7/dist-packages (from sacremoses->transformers) (1.1.0)\n",
            "Building wheels for collected packages: sacremoses\n",
            "  Building wheel for sacremoses (setup.py) ... \u001b[?25l\u001b[?25hdone\n",
            "  Created wheel for sacremoses: filename=sacremoses-0.0.53-py3-none-any.whl size=895260 sha256=d10cba03bb87130ff291c01ed24846af45a6cf3eb4327137ff92556482d11429\n",
            "  Stored in directory: /root/.cache/pip/wheels/87/39/dd/a83eeef36d0bf98e7a4d1933a4ad2d660295a40613079bafc9\n",
            "Successfully built sacremoses\n",
            "Installing collected packages: pyyaml, tokenizers, sacremoses, huggingface-hub, transformers\n",
            "  Attempting uninstall: pyyaml\n",
            "    Found existing installation: PyYAML 3.13\n",
            "    Uninstalling PyYAML-3.13:\n",
            "      Successfully uninstalled PyYAML-3.13\n",
            "Successfully installed huggingface-hub-0.5.1 pyyaml-6.0 sacremoses-0.0.53 tokenizers-0.12.1 transformers-4.18.0\n"
          ]
        }
      ],
      "source": [
        "!pip install torch torchvision transformers"
      ]
    },
    {
      "cell_type": "code",
      "source": [
        "import torch\n",
        "import torch.nn as nn\n",
        "import pandas as pd\n",
        "import nltk\n",
        "import pickle\n",
        "import matplotlib.pyplot as plt\n",
        "from torch.utils.data import Dataset, DataLoader\n",
        "from transformers import BertTokenizer, BertConfig, BertForSequenceClassification\n",
        "from transformers import AdamW\n",
        "from sklearn.metrics import f1_score\n",
        "from sklearn.metrics import precision_recall_fscore_support\n"
      ],
      "metadata": {
        "id": "iS6mkvWBIH8j"
      },
      "execution_count": 2,
      "outputs": []
    },
    {
      "cell_type": "code",
      "source": [
        "nltk.download(\"stopwords\")"
      ],
      "metadata": {
        "colab": {
          "base_uri": "https://localhost:8080/"
        },
        "id": "5kztvTamgU0T",
        "outputId": "a3f331aa-7b13-41e5-bf88-2f6d1c217b7e"
      },
      "execution_count": 3,
      "outputs": [
        {
          "output_type": "stream",
          "name": "stdout",
          "text": [
            "[nltk_data] Downloading package stopwords to /root/nltk_data...\n",
            "[nltk_data]   Unzipping corpora/stopwords.zip.\n"
          ]
        },
        {
          "output_type": "execute_result",
          "data": {
            "text/plain": [
              "True"
            ]
          },
          "metadata": {},
          "execution_count": 3
        }
      ]
    },
    {
      "cell_type": "code",
      "source": [
        "from LoadData import LoadDataAndProcessing\n",
        "from RumourDataSet import RumourDataset"
      ],
      "metadata": {
        "id": "i6_o16fkCTEj"
      },
      "execution_count": 4,
      "outputs": []
    },
    {
      "cell_type": "code",
      "source": [
        "from google.colab import drive\n",
        "drive.mount('/content/drive')"
      ],
      "metadata": {
        "colab": {
          "base_uri": "https://localhost:8080/"
        },
        "id": "ee4YWhO-G4Hy",
        "outputId": "7f203f04-fcb5-4df1-f4e5-ea7b5ae05d36"
      },
      "execution_count": 5,
      "outputs": [
        {
          "output_type": "stream",
          "name": "stdout",
          "text": [
            "Mounted at /content/drive\n"
          ]
        }
      ]
    },
    {
      "cell_type": "code",
      "source": [
        ""
      ],
      "metadata": {
        "id": "f28M-EfFemCA"
      },
      "execution_count": 5,
      "outputs": []
    },
    {
      "cell_type": "markdown",
      "source": [
        "# **Build The Model**"
      ],
      "metadata": {
        "id": "5C8UU9gkfzMC"
      }
    },
    {
      "cell_type": "code",
      "source": [
        "# Parameters setting\n",
        "\n",
        "BATCH_SIZE = 8\n",
        "NUM_WORKERS = 2\n",
        "MAX_LEN = 450\n",
        "num_labels = 2\n",
        "hidden_dropout_prob = 0.3\n",
        "learning_rate = 2e-5\n",
        "weight_decay = 1e-2\n",
        "\n",
        "gpu = 0 # gpu ID\n",
        "device = torch.device(\"cuda:0\" if torch.cuda.is_available() else \"cpu\")"
      ],
      "metadata": {
        "id": "10vmWBICG4kN"
      },
      "execution_count": 6,
      "outputs": []
    },
    {
      "cell_type": "code",
      "source": [
        "# If the inputs are already processed on local\n",
        "\n",
        "train_input_file = \"/content/drive/MyDrive/NLP/data/train_input.pickle\"\n",
        "dev_input_file = \"/content/drive/MyDrive/NLP/data/dev_input.pickle\"\n",
        "\n",
        "train_input = pickle.load(open(train_input_file, \"rb\", -1))\n",
        "dev_input = pickle.load(open(dev_input_file, \"rb\", -1))\n",
        "\n",
        "#Creating instances of training and development set\n",
        "#maxlen sets the maximum length a sentence can have\n",
        "#any sentence longer than this length is truncated to the maxlen size\n",
        "train_set = RumourDataset(data = train_input, maxlen = MAX_LEN)\n",
        "dev_set = RumourDataset(data = dev_input, maxlen = MAX_LEN)\n",
        "\n",
        "#Creating intsances of training and development dataloaders\n",
        "train_loader = DataLoader(train_set, batch_size = BATCH_SIZE, \n",
        "                          collate_fn=train_set.create_mini_batch, \n",
        "                          num_workers = NUM_WORKERS, shuffle=True)\n",
        "dev_loader = DataLoader(dev_set, batch_size = BATCH_SIZE, \n",
        "                        collate_fn=dev_set.create_mini_batch, \n",
        "                        num_workers = NUM_WORKERS, shuffle=True)\n",
        "\n",
        "print(\"Done preprocessing training and development data.\")"
      ],
      "metadata": {
        "colab": {
          "base_uri": "https://localhost:8080/",
          "height": 130,
          "referenced_widgets": [
            "536bf28b71c3467cbbec428e31da3d9f",
            "d5f5230c37da469fb2d1c03265d0df13",
            "b717ede2d854456cbdd1b967fd700fa2",
            "ca2b583a15e64175a547455583854654",
            "db747c2c39844f9fad8c3b7a7d0500c8",
            "6e1b3c13a3be48bebad1bdb4398b62f2",
            "3ca254b29e76451883c9f6c19c6c19ed",
            "8b16ec73958e451c87ef28600874c588",
            "fb63973ccc5949a38e516c5ddbba3f3b",
            "a24578e99ceb4aa7beb39f2fac7ff10c",
            "f98b5c41320343cba24dd9b3a9a8494a",
            "b719bf15495047d49d06889374f1fa2d",
            "83de662b46214c78b95aafe7c9367605",
            "5c9fe3c87960498d8631538e843d77f2",
            "7fb1946a09674eae951a39cdc1b2e97c",
            "98b03ebcd98c434db237ea75b99af4fb",
            "7ce2b2a4c60c47a49561643c5b3fb2aa",
            "ac907e882eba4f75b8b219c61413d1db",
            "e1b623a3a4f34eac9fec23d7714d9305",
            "3eb0cb1db321420984731f4d45c3e4c2",
            "575746d6503846a8a341570f92da53a5",
            "db2ba5fc35f548308b9bc863a9108a9e",
            "7ac4560a5d8045e69d7caba53aca50bb",
            "1e29a34cbf2345a0ad7e4cd9eee7b501",
            "4e8ec4d2fbc74007b652aefab32cc722",
            "97246f0b0cde4be296a247f216b897fa",
            "6bae487b62c343f893508a081b5bd24a",
            "3769e6303a0d483babb20554537bfe27",
            "ab73b2e14e3c4550bf26c45258615a4d",
            "07cef4d6d88c485aad48c27078afeb94",
            "358bbe39bb58415f90849d4e858ed664",
            "158ef29160684b9b95d3cf701aecde58",
            "cb94b3a701544c9384d799965bf2f71c"
          ]
        },
        "id": "X0YL-HbbgB-B",
        "outputId": "3815e1ec-9ab7-4043-d9db-c5f1828c7d4e"
      },
      "execution_count": 7,
      "outputs": [
        {
          "output_type": "display_data",
          "data": {
            "text/plain": [
              "Downloading:   0%|          | 0.00/226k [00:00<?, ?B/s]"
            ],
            "application/vnd.jupyter.widget-view+json": {
              "version_major": 2,
              "version_minor": 0,
              "model_id": "536bf28b71c3467cbbec428e31da3d9f"
            }
          },
          "metadata": {}
        },
        {
          "output_type": "display_data",
          "data": {
            "text/plain": [
              "Downloading:   0%|          | 0.00/28.0 [00:00<?, ?B/s]"
            ],
            "application/vnd.jupyter.widget-view+json": {
              "version_major": 2,
              "version_minor": 0,
              "model_id": "b719bf15495047d49d06889374f1fa2d"
            }
          },
          "metadata": {}
        },
        {
          "output_type": "display_data",
          "data": {
            "text/plain": [
              "Downloading:   0%|          | 0.00/570 [00:00<?, ?B/s]"
            ],
            "application/vnd.jupyter.widget-view+json": {
              "version_major": 2,
              "version_minor": 0,
              "model_id": "7ac4560a5d8045e69d7caba53aca50bb"
            }
          },
          "metadata": {}
        },
        {
          "output_type": "stream",
          "name": "stdout",
          "text": [
            "Done preprocessing training and development data.\n"
          ]
        }
      ]
    },
    {
      "cell_type": "code",
      "source": [
        "# # else\n",
        "\n",
        "# train_file = \"/content/drive/MyDrive/NLP/data/train_data_prepared.json\"\n",
        "# dev_file = \"/content/drive/MyDrive/NLP/data/dev_data_prepared.json\"\n",
        "\n",
        "# load_twitter_train_data = LoadDataAndProcessing(train_file)\n",
        "# load_twitter_dev_data = LoadDataAndProcessing(dev_file)\n",
        "\n",
        "# train_input = load_twitter_train_data.prepareDataset()\n",
        "# dev_input = load_twitter_dev_data.prepareDataset()"
      ],
      "metadata": {
        "id": "kUO7BonWG4RE"
      },
      "execution_count": null,
      "outputs": []
    },
    {
      "cell_type": "code",
      "source": [
        "# train_set = RumourDataset(data = train_input, maxlen = MAX_LEN)\n",
        "# dev_set = RumourDataset(data = dev_input, maxlen = MAX_LEN)\n",
        "\n",
        "# train_loader = DataLoader(train_set, batch_size = BATCH_SIZE, \n",
        "#                           collate_fn=train_set.create_mini_batch, \n",
        "#                           num_workers = NUM_WORKERS, shuffle=True)\n",
        "# dev_loader = DataLoader(dev_set, batch_size = BATCH_SIZE, \n",
        "#                         collate_fn=dev_set.create_mini_batch, \n",
        "#                         num_workers = NUM_WORKERS, shuffle=True)\n",
        "\n",
        "# print(\"Done preprocessing training and development data.\")"
      ],
      "metadata": {
        "id": "-Q6YD5aChovf"
      },
      "execution_count": null,
      "outputs": []
    },
    {
      "cell_type": "code",
      "source": [
        ""
      ],
      "metadata": {
        "id": "rnB_MvN-JkIv"
      },
      "execution_count": null,
      "outputs": []
    },
    {
      "cell_type": "code",
      "source": [
        "# Load the model\n",
        "print(\"Creating the rumour classifier, initialised with pretrained BERT-BASE parameters...\")\n",
        "config = BertConfig.from_pretrained(\"bert-base-uncased\", \n",
        "                                    num_labels=num_labels, hidden_dropout_prob=hidden_dropout_prob)\n",
        "model = BertForSequenceClassification.from_pretrained(\"bert-base-uncased\", config=config)\n",
        "model.to(device)\n",
        "print(\"Done creating the rumour classifier.\")"
      ],
      "metadata": {
        "colab": {
          "base_uri": "https://localhost:8080/",
          "height": 0,
          "referenced_widgets": [
            "93943a6d1e7843f4a014fc7d56d8ed52",
            "048fcacb43424901bd12ec458dc4fb50",
            "8fd00e1790b64edc883e6a80260f6b3c",
            "6961e11d142e4adeaa672f9794d1c4e1",
            "220c2a2f2f3540e9bd5b51c486d47c16",
            "a13e5114b7bb49eb85223927e394c226",
            "3d66be53093b4f7fb3202e2c0e52fb9a",
            "274302b3dfab4f52bb177c6a15958e4e",
            "9d7b76ef2c4a4a4b8c22728d66506f69",
            "06f0404841214eeeb5e4bb9f924334e0",
            "e159154445cd4698a41eed19278c7608"
          ]
        },
        "id": "D8flfqnCG4nl",
        "outputId": "2dcf694b-2c09-4eb5-d853-678c3762b535"
      },
      "execution_count": 8,
      "outputs": [
        {
          "output_type": "stream",
          "name": "stdout",
          "text": [
            "Creating the rumour classifier, initialised with pretrained BERT-BASE parameters...\n"
          ]
        },
        {
          "output_type": "display_data",
          "data": {
            "text/plain": [
              "Downloading:   0%|          | 0.00/420M [00:00<?, ?B/s]"
            ],
            "application/vnd.jupyter.widget-view+json": {
              "version_major": 2,
              "version_minor": 0,
              "model_id": "93943a6d1e7843f4a014fc7d56d8ed52"
            }
          },
          "metadata": {}
        },
        {
          "output_type": "stream",
          "name": "stderr",
          "text": [
            "Some weights of the model checkpoint at bert-base-uncased were not used when initializing BertForSequenceClassification: ['cls.predictions.transform.dense.weight', 'cls.predictions.decoder.weight', 'cls.seq_relationship.bias', 'cls.predictions.transform.LayerNorm.weight', 'cls.predictions.transform.LayerNorm.bias', 'cls.predictions.bias', 'cls.seq_relationship.weight', 'cls.predictions.transform.dense.bias']\n",
            "- This IS expected if you are initializing BertForSequenceClassification from the checkpoint of a model trained on another task or with another architecture (e.g. initializing a BertForSequenceClassification model from a BertForPreTraining model).\n",
            "- This IS NOT expected if you are initializing BertForSequenceClassification from the checkpoint of a model that you expect to be exactly identical (initializing a BertForSequenceClassification model from a BertForSequenceClassification model).\n",
            "Some weights of BertForSequenceClassification were not initialized from the model checkpoint at bert-base-uncased and are newly initialized: ['classifier.weight', 'classifier.bias']\n",
            "You should probably TRAIN this model on a down-stream task to be able to use it for predictions and inference.\n"
          ]
        },
        {
          "output_type": "stream",
          "name": "stdout",
          "text": [
            "Done creating the rumour classifier.\n"
          ]
        }
      ]
    },
    {
      "cell_type": "code",
      "source": [
        "# Prepare optimizer and schedule (linear warmup and decay)\n",
        "# set the bias and LayerNorm.weight \n",
        "no_decay = ['bias', 'LayerNorm.weight']\n",
        "optimizer_grouped_parameters = [\n",
        "        {'params': [p for n, p in model.named_parameters() if not \n",
        "                    any(nd in n for nd in no_decay)], 'weight_decay': weight_decay},\n",
        "        {'params': [p for n, p in model.named_parameters() if \n",
        "                    any(nd in n for nd in no_decay)], 'weight_decay': 0.0}\n",
        "]\n",
        "\n",
        "#optimizer = AdamW(model.parameters(), lr=learning_rate)\n",
        "optimizer = torch.optim.AdamW(optimizer_grouped_parameters, lr=learning_rate)\n",
        "criterion = nn.CrossEntropyLoss()"
      ],
      "metadata": {
        "id": "Z65P3aRdG4qm"
      },
      "execution_count": 9,
      "outputs": []
    },
    {
      "cell_type": "code",
      "source": [
        "# criterion = nn.BCEWithLogitsLoss()\n",
        "# optimizer = optim.Adam(model.parameters(), lr = 2e-5, eps=1e-8)"
      ],
      "metadata": {
        "id": "hmbgr4pk4eRH"
      },
      "execution_count": null,
      "outputs": []
    },
    {
      "cell_type": "code",
      "source": [
        ""
      ],
      "metadata": {
        "id": "MsIIY9rPnqgj"
      },
      "execution_count": null,
      "outputs": []
    },
    {
      "cell_type": "markdown",
      "source": [
        "# **Trian and Evaluate the Model**"
      ],
      "metadata": {
        "id": "YhvBRVaffQ65"
      }
    },
    {
      "cell_type": "code",
      "source": [
        "def train(model, dataloader, optimizer, criterion, device):\n",
        "    model.train()\n",
        "    epoch_loss = 0\n",
        "    epoch_acc = 0\n",
        "    for i, batch in enumerate(dataloader):\n",
        "\n",
        "        tokens_tensors, segments_tensors, masks_tensors, labels = [t.to(device) for t in batch]\n",
        "\n",
        "        optimizer.zero_grad()\n",
        "\n",
        "        output = model(input_ids=tokens_tensors, \n",
        "                       token_type_ids=segments_tensors, \n",
        "                       attention_mask=masks_tensors, labels=labels)\n",
        "\n",
        "        y_pred_prob = output[1]\n",
        "        y_pred_label = y_pred_prob.argmax(dim=1)\n",
        "\n",
        "        loss = criterion(y_pred_prob.view(-1, 2), labels.view(-1))\n",
        "\n",
        "        acc = ((y_pred_label == labels.view(-1)).sum()).item()\n",
        "\n",
        "        loss.backward()\n",
        "        optimizer.step()\n",
        "\n",
        "        epoch_loss += loss.item()\n",
        "        epoch_acc += acc\n",
        "\n",
        "        if i % 200 == 0:\n",
        "            print(\"Iteration {} complete. Loss:{}, Accuracy:{}\".format(\n",
        "                i, epoch_loss / (i+1), epoch_acc / ((i+1)*len(labels))))\n",
        "\n",
        "    return epoch_loss / len(dataloader), epoch_acc / len(dataloader.dataset)\n",
        "\n",
        "def evaluate(model, iterator, device):\n",
        "    model.eval()\n",
        "    epoch_loss = 0\n",
        "    epoch_acc = 0\n",
        "    TP, TN, FN, FP = 0, 0, 0 ,0\n",
        "\n",
        "    with torch.no_grad():\n",
        "        for _, batch in enumerate(iterator):\n",
        "            tokens_tensors, segments_tensors, masks_tensors, labels = [t.to(device) for t in batch]\n",
        "\n",
        "            output = model(input_ids=tokens_tensors, \n",
        "                           token_type_ids=segments_tensors, \n",
        "                           attention_mask=masks_tensors, labels=labels)\n",
        "            y_pred_label = output[1].argmax(dim=1)\n",
        "            loss = output[0]\n",
        "            acc = ((y_pred_label == labels.view(-1)).sum()).item()\n",
        "\n",
        "            epoch_loss += loss.item()\n",
        "            epoch_acc += acc\n",
        "\n",
        "            # TP += ((y_pred_label == 1) & (labels.view(-1) == 1)).cpu().sum()\n",
        "            # TN += ((y_pred_label == 0) & (labels.view(-1) == 0)).cpu().sum()\n",
        "            # FN += ((y_pred_label == 0) & (labels.view(-1) == 1)).cpu().sum()\n",
        "            # FP += ((y_pred_label == 1) & (labels.view(-1) == 0)).cpu().sum()\n",
        "\n",
        "            # # Calculate the f1 weighted score\n",
        "            # p, r, f, _ = precision_recall_fscore_support(y_true, y_pred, pos_label=1, average=\"binary\")\n",
        "\n",
        "    # p = TP / (TP + FP)\n",
        "    # r = TP / (TP + FN)\n",
        "    # F1 = 2 * r * p / (r + p)\n",
        "\n",
        "    return epoch_loss / len(iterator), epoch_acc / len(iterator.dataset)"
      ],
      "metadata": {
        "id": "ahdLdy_WnqmE"
      },
      "execution_count": 10,
      "outputs": []
    },
    {
      "cell_type": "code",
      "source": [
        "train_acc_list = []\n",
        "train_loss_list = []\n",
        "dev_acc_list = []\n",
        "dev_loss_list = []\n",
        "\n",
        "best_acc = 0\n",
        "EPOCHS = 20\n",
        "best_ep = 0\n",
        "for ep in range(EPOCHS):\n",
        "    print(\"EPOCH {} ------------------------------------------------------\".format(ep+1))\n",
        "    train_loss, train_acc = train(model, train_loader, optimizer, criterion, device)\n",
        "    print(\"EPOCH {}:\".format(ep+1), \"Mean train loss: \", train_loss, \"\\t\", \"Mean train acc:\", train_acc)\n",
        "    dev_loss, dev_acc = evaluate(model, dev_loader, device)\n",
        "    print(\"EPOCH {}:\".format(ep+1), \"Mean dev loss: \", dev_loss, \"\\t\", \"Mean dev acc:\", dev_acc)\n",
        "\n",
        "    train_acc_list.append(train_acc)\n",
        "    train_loss_list.append(train_loss)\n",
        "    dev_acc_list.append(dev_acc)\n",
        "    dev_loss_list.append(dev_loss)\n",
        "\n",
        "    if dev_acc > best_acc:\n",
        "      print(\"Best development accuracy improved from {} to {}, saving model...\".format(best_acc, dev_acc))\n",
        "      best_acc = dev_acc\n",
        "      best_ep = ep\n",
        "      torch.save(model.state_dict(), 'sstcls_{}.dat'.format(ep))\n",
        "    \n",
        "    print(\"********************************************************************************\")\n"
      ],
      "metadata": {
        "colab": {
          "base_uri": "https://localhost:8080/"
        },
        "id": "T5utQOyEnqqW",
        "outputId": "c1fb50c1-6ebe-4014-b608-10e877458ad4"
      },
      "execution_count": 11,
      "outputs": [
        {
          "output_type": "stream",
          "name": "stdout",
          "text": [
            "EPOCH 1 ------------------------------------------------------\n",
            "Iteration 0 complete. Loss:0.3031177222728729, Accuracy:1.0\n",
            "EPOCH 1: Mean train loss:  0.4590658704199049 \t Mean train acc: 0.794888178913738\n",
            "EPOCH 1: Mean dev loss:  0.39057449026800256 \t Mean dev acc: 0.7936802973977695\n",
            "Best development accuracy improved from 0 to 0.7936802973977695, saving model...\n",
            "********************************************************************************\n",
            "EPOCH 2 ------------------------------------------------------\n",
            "Iteration 0 complete. Loss:0.21801593899726868, Accuracy:1.0\n",
            "EPOCH 2: Mean train loss:  0.3190927086112907 \t Mean train acc: 0.8498402555910544\n",
            "EPOCH 2: Mean dev loss:  0.29574106266612515 \t Mean dev acc: 0.8754646840148699\n",
            "Best development accuracy improved from 0.7936802973977695 to 0.8754646840148699, saving model...\n",
            "********************************************************************************\n",
            "EPOCH 3 ------------------------------------------------------\n",
            "Iteration 0 complete. Loss:0.3336189389228821, Accuracy:0.875\n",
            "EPOCH 3: Mean train loss:  0.1999084677271621 \t Mean train acc: 0.9271565495207668\n",
            "EPOCH 3: Mean dev loss:  0.3644781868274817 \t Mean dev acc: 0.8977695167286245\n",
            "Best development accuracy improved from 0.8754646840148699 to 0.8977695167286245, saving model...\n",
            "********************************************************************************\n",
            "EPOCH 4 ------------------------------------------------------\n",
            "Iteration 0 complete. Loss:0.05936754122376442, Accuracy:1.0\n",
            "EPOCH 4: Mean train loss:  0.11570476449322792 \t Mean train acc: 0.9648562300319489\n",
            "EPOCH 4: Mean dev loss:  0.2043363407445962 \t Mean dev acc: 0.9312267657992565\n",
            "Best development accuracy improved from 0.8977695167286245 to 0.9312267657992565, saving model...\n",
            "********************************************************************************\n",
            "EPOCH 5 ------------------------------------------------------\n",
            "Iteration 0 complete. Loss:0.01108496729284525, Accuracy:1.0\n",
            "EPOCH 5: Mean train loss:  0.07619757502225741 \t Mean train acc: 0.9789137380191694\n",
            "EPOCH 5: Mean dev loss:  0.2045212941833169 \t Mean dev acc: 0.9368029739776952\n",
            "Best development accuracy improved from 0.9312267657992565 to 0.9368029739776952, saving model...\n",
            "********************************************************************************\n",
            "EPOCH 6 ------------------------------------------------------\n",
            "Iteration 0 complete. Loss:0.04179909825325012, Accuracy:1.0\n",
            "EPOCH 6: Mean train loss:  0.052230746773955394 \t Mean train acc: 0.987220447284345\n",
            "EPOCH 6: Mean dev loss:  0.24039841522222988 \t Mean dev acc: 0.9275092936802974\n",
            "********************************************************************************\n",
            "EPOCH 7 ------------------------------------------------------\n",
            "Iteration 0 complete. Loss:0.020074017345905304, Accuracy:1.0\n",
            "EPOCH 7: Mean train loss:  0.023397528166687876 \t Mean train acc: 0.9923322683706071\n",
            "EPOCH 7: Mean dev loss:  0.25006810946797486 \t Mean dev acc: 0.9405204460966543\n",
            "Best development accuracy improved from 0.9368029739776952 to 0.9405204460966543, saving model...\n",
            "********************************************************************************\n",
            "EPOCH 8 ------------------------------------------------------\n",
            "Iteration 0 complete. Loss:0.0038893786258995533, Accuracy:1.0\n",
            "EPOCH 8: Mean train loss:  0.008068896969958512 \t Mean train acc: 0.9980830670926517\n",
            "EPOCH 8: Mean dev loss:  0.6634484794451376 \t Mean dev acc: 0.8754646840148699\n",
            "********************************************************************************\n",
            "EPOCH 9 ------------------------------------------------------\n",
            "Iteration 0 complete. Loss:0.03283733129501343, Accuracy:1.0\n",
            "EPOCH 9: Mean train loss:  0.03715718730396772 \t Mean train acc: 0.9891373801916933\n",
            "EPOCH 9: Mean dev loss:  0.22613389611497575 \t Mean dev acc: 0.9535315985130112\n",
            "Best development accuracy improved from 0.9405204460966543 to 0.9535315985130112, saving model...\n",
            "********************************************************************************\n",
            "EPOCH 10 ------------------------------------------------------\n",
            "Iteration 0 complete. Loss:0.008432339876890182, Accuracy:1.0\n",
            "EPOCH 10: Mean train loss:  0.010524628394965216 \t Mean train acc: 0.997444089456869\n",
            "EPOCH 10: Mean dev loss:  0.2747915835545213 \t Mean dev acc: 0.9516728624535316\n",
            "********************************************************************************\n",
            "EPOCH 11 ------------------------------------------------------\n",
            "Iteration 0 complete. Loss:0.0007213515928015113, Accuracy:1.0\n",
            "EPOCH 11: Mean train loss:  0.020400361198788197 \t Mean train acc: 0.9923322683706071\n",
            "EPOCH 11: Mean dev loss:  0.2828639640322174 \t Mean dev acc: 0.9516728624535316\n",
            "********************************************************************************\n",
            "EPOCH 12 ------------------------------------------------------\n",
            "Iteration 0 complete. Loss:0.0048791877925395966, Accuracy:1.0\n",
            "EPOCH 12: Mean train loss:  0.007290550479095201 \t Mean train acc: 0.997444089456869\n",
            "EPOCH 12: Mean dev loss:  0.47978365888154845 \t Mean dev acc: 0.9144981412639405\n",
            "********************************************************************************\n",
            "EPOCH 13 ------------------------------------------------------\n",
            "Iteration 0 complete. Loss:0.0010093804448843002, Accuracy:1.0\n",
            "EPOCH 13: Mean train loss:  0.007699391789266921 \t Mean train acc: 0.9980830670926517\n",
            "EPOCH 13: Mean dev loss:  0.26718801593340363 \t Mean dev acc: 0.9479553903345725\n",
            "********************************************************************************\n",
            "EPOCH 14 ------------------------------------------------------\n",
            "Iteration 0 complete. Loss:0.007728525437414646, Accuracy:1.0\n",
            "EPOCH 14: Mean train loss:  0.0006196226344660058 \t Mean train acc: 1.0\n",
            "EPOCH 14: Mean dev loss:  0.29480481095764416 \t Mean dev acc: 0.9516728624535316\n",
            "********************************************************************************\n",
            "EPOCH 15 ------------------------------------------------------\n",
            "Iteration 0 complete. Loss:0.00015506341878790408, Accuracy:1.0\n",
            "EPOCH 15: Mean train loss:  0.0004494453415664255 \t Mean train acc: 1.0\n",
            "EPOCH 15: Mean dev loss:  0.31438558442663206 \t Mean dev acc: 0.9553903345724907\n",
            "Best development accuracy improved from 0.9535315985130112 to 0.9553903345724907, saving model...\n",
            "********************************************************************************\n",
            "EPOCH 16 ------------------------------------------------------\n",
            "Iteration 0 complete. Loss:0.00013871947885490954, Accuracy:1.0\n",
            "EPOCH 16: Mean train loss:  0.0002169241636563259 \t Mean train acc: 1.0\n",
            "EPOCH 16: Mean dev loss:  0.3210166712346215 \t Mean dev acc: 0.9516728624535316\n",
            "********************************************************************************\n",
            "EPOCH 17 ------------------------------------------------------\n",
            "Iteration 0 complete. Loss:0.000232824168051593, Accuracy:1.0\n",
            "EPOCH 17: Mean train loss:  0.0002138969564987988 \t Mean train acc: 1.0\n",
            "EPOCH 17: Mean dev loss:  0.3585811621027567 \t Mean dev acc: 0.9460966542750929\n",
            "********************************************************************************\n",
            "EPOCH 18 ------------------------------------------------------\n",
            "Iteration 0 complete. Loss:0.00013445568038150668, Accuracy:1.0\n",
            "EPOCH 18: Mean train loss:  0.0003443323860906554 \t Mean train acc: 1.0\n",
            "EPOCH 18: Mean dev loss:  0.6993322233215354 \t Mean dev acc: 0.912639405204461\n",
            "********************************************************************************\n",
            "EPOCH 19 ------------------------------------------------------\n",
            "Iteration 0 complete. Loss:0.00016904222138691694, Accuracy:1.0\n",
            "EPOCH 19: Mean train loss:  0.08191998246852285 \t Mean train acc: 0.9801916932907349\n",
            "EPOCH 19: Mean dev loss:  0.29101215026757393 \t Mean dev acc: 0.9442379182156134\n",
            "********************************************************************************\n",
            "EPOCH 20 ------------------------------------------------------\n",
            "Iteration 0 complete. Loss:0.0008466113358736038, Accuracy:1.0\n",
            "EPOCH 20: Mean train loss:  0.027879806818845634 \t Mean train acc: 0.9916932907348243\n",
            "EPOCH 20: Mean dev loss:  0.2471373255308101 \t Mean dev acc: 0.9553903345724907\n",
            "********************************************************************************\n"
          ]
        }
      ]
    },
    {
      "cell_type": "code",
      "source": [
        "epochs = range(1, EPOCHS+1)\n",
        "plt.plot(epochs, train_acc_list, 'b', label = 'Train accuracy')\n",
        "plt.plot(epochs, dev_acc_list, 'r', label = 'Development accuracy')\n",
        "plt.title('Performance on Accuracy')\n",
        "plt.legend()\n",
        "plt.savefig(\"Accuracy.png\")\n",
        "plt.show()"
      ],
      "metadata": {
        "colab": {
          "base_uri": "https://localhost:8080/",
          "height": 281
        },
        "id": "NHzHPLlcefFW",
        "outputId": "880eb93b-47a9-42b4-a7c8-9ea1c75bfb7a"
      },
      "execution_count": 12,
      "outputs": [
        {
          "output_type": "display_data",
          "data": {
            "text/plain": [
              "<Figure size 432x288 with 1 Axes>"
            ],
            "image/png": "[encoded data removed]"
          },
          "metadata": {
            "needs_background": "light"
          }
        }
      ]
    },
    {
      "cell_type": "code",
      "source": [
        "epochs = range(1, EPOCHS+1)\n",
        "plt.plot(epochs, train_loss_list, 'b', label = 'Train loss')\n",
        "plt.plot(epochs, dev_loss_list, 'r', label = 'Development loss')\n",
        "plt.title('Loss')\n",
        "plt.legend()\n",
        "plt.savefig(\"Loss.png\")\n",
        "plt.show()"
      ],
      "metadata": {
        "id": "e5opr5kcOXqm",
        "colab": {
          "base_uri": "https://localhost:8080/",
          "height": 281
        },
        "outputId": "06ca70d2-deb4-48ce-a7a4-9e86e3cdff60"
      },
      "execution_count": 13,
      "outputs": [
        {
          "output_type": "display_data",
          "data": {
            "text/plain": [
              "<Figure size 432x288 with 1 Axes>"
            ],
            "image/png": "[encoded data removed]"
          },
          "metadata": {
            "needs_background": "light"
          }
        }
      ]
    },
    {
      "cell_type": "code",
      "source": [
        ""
      ],
      "metadata": {
        "id": "BvpbDNCLq3cv"
      },
      "execution_count": null,
      "outputs": []
    },
    {
      "cell_type": "markdown",
      "source": [
        "# **Testset Prediction**"
      ],
      "metadata": {
        "id": "Xhyo4ifwe9el"
      }
    },
    {
      "cell_type": "code",
      "source": [
        "test_input_file = \"/content/drive/MyDrive/NLP/data/test_input.pickle\"\n",
        "\n",
        "test_input = pickle.load(open(test_input_file, \"rb\", -1))"
      ],
      "metadata": {
        "id": "ZBRD9z8POXuz"
      },
      "execution_count": null,
      "outputs": []
    },
    {
      "cell_type": "code",
      "source": [
        "# For task 2 covid data\n",
        "\n",
        "covid_input_file = \"/content/drive/MyDrive/NLP/data/covid_input.pickle\"\n",
        "\n",
        "test_input = pickle.load(open(covid_input_file, \"rb\", -1))"
      ],
      "metadata": {
        "id": "zcSOCUSUnqIa"
      },
      "execution_count": 14,
      "outputs": []
    },
    {
      "cell_type": "code",
      "source": [
        "test_set = RumourDataset(data = test_input, maxlen = MAX_LEN)\n",
        "test_loader = DataLoader(test_set, collate_fn=test_set.create_mini_batch, \n",
        "                         batch_size = BATCH_SIZE, num_workers = NUM_WORKERS)"
      ],
      "metadata": {
        "id": "O_59hIAWOXzF"
      },
      "execution_count": 15,
      "outputs": []
    },
    {
      "cell_type": "code",
      "source": [
        "def predict(net, test_loader, model_file=None):\n",
        "    # load weight\n",
        "    if model_file != None:\n",
        "      net.load_state_dict(torch.load(model_file))\n",
        "    \n",
        "    predictions = []\n",
        "    \n",
        "    for _, batch in enumerate(test_loader):\n",
        "      tokens_tensors, segments_tensors, masks_tensors = [t.to(device) for t in batch]\n",
        "\n",
        "      output = model(input_ids=tokens_tensors, \n",
        "                      token_type_ids=segments_tensors, \n",
        "                      attention_mask=masks_tensors)\n",
        "      probs = output[0].argmax(dim=1)\n",
        "      soft_probs = (probs > 0.5).long()\n",
        "      predictions.extend(soft_probs.cpu().numpy().squeeze())\n",
        "    \n",
        "    return predictions"
      ],
      "metadata": {
        "id": "TmTPc9DjOagZ"
      },
      "execution_count": 16,
      "outputs": []
    },
    {
      "cell_type": "code",
      "source": [
        "model_file = \"sstcls_{}.dat\".format(best_ep)\n",
        "predictions = predict(model, test_loader, model_file)\n",
        "len(predictions)"
      ],
      "metadata": {
        "colab": {
          "base_uri": "https://localhost:8080/"
        },
        "id": "VLah0WnQPJKG",
        "outputId": "263d38e2-02bb-40f0-e06b-4390d530b27c"
      },
      "execution_count": 17,
      "outputs": [
        {
          "output_type": "execute_result",
          "data": {
            "text/plain": [
              "13454"
            ]
          },
          "metadata": {},
          "execution_count": 17
        }
      ]
    },
    {
      "cell_type": "code",
      "source": [
        "pred = pd.DataFrame(data=predictions, columns=['Predicted']).reset_index()\n",
        "pred = pred.rename(columns={'index': 'Id'})\n",
        "print(pred)\n",
        "\n",
        "pred.to_csv('test_prediction.csv', index = False)"
      ],
      "metadata": {
        "colab": {
          "base_uri": "https://localhost:8080/"
        },
        "id": "bJxk6rSWOeDw",
        "outputId": "18dea3c3-76d2-4d18-997a-3b1f2f872179"
      },
      "execution_count": 18,
      "outputs": [
        {
          "output_type": "stream",
          "name": "stdout",
          "text": [
            "          Id  Predicted\n",
            "0          0          0\n",
            "1          1          0\n",
            "2          2          0\n",
            "3          3          0\n",
            "4          4          0\n",
            "...      ...        ...\n",
            "13449  13449          0\n",
            "13450  13450          0\n",
            "13451  13451          1\n",
            "13452  13452          0\n",
            "13453  13453          0\n",
            "\n",
            "[13454 rows x 2 columns]\n"
          ]
        }
      ]
    },
    {
      "cell_type": "code",
      "source": [
        "with open('Parameters.txt', 'w') as f:\n",
        "    f.write(\"Train input file: {}\\n\".format(train_input_file) +\n",
        "            \"BATCH_SIZE = {},\\n\".format(BATCH_SIZE) +\n",
        "            \"NUM_WORKERS = {},\\n\".format(NUM_WORKERS) +\n",
        "            \"MAX_LEN = {},\\n\".format(MAX_LEN) +\n",
        "            \"hidden_dropout_prob = {},\\n\".format(hidden_dropout_prob) +\n",
        "            \"learning_rate = {},\\n\".format(learning_rate) +\n",
        "            \"weight_decay = {}\".format(weight_decay))"
      ],
      "metadata": {
        "id": "wjCe2ByhZUX_"
      },
      "execution_count": 19,
      "outputs": []
    },
    {
      "cell_type": "code",
      "source": [
        ""
      ],
      "metadata": {
        "id": "pBwF-LTlZUaN"
      },
      "execution_count": null,
      "outputs": []
    },
    {
      "cell_type": "code",
      "source": [
        ""
      ],
      "metadata": {
        "id": "VKz__WU7ZUiN"
      },
      "execution_count": null,
      "outputs": []
    },
    {
      "cell_type": "markdown",
      "source": [
        "# Empty the memory"
      ],
      "metadata": {
        "id": "x0tkHLqSe3Wd"
      }
    },
    {
      "cell_type": "code",
      "source": [
        "!ln -sf /opt/bin/nvidia-smi /usr/bin/nvidia-smi\n",
        "!pip install gputil\n",
        "!pip install psutil\n",
        "!pip install humanize"
      ],
      "metadata": {
        "id": "JgjYAMaqOeJH",
        "colab": {
          "base_uri": "https://localhost:8080/"
        },
        "outputId": "fc34fb2f-50de-4dfa-b291-8b909c1f004d"
      },
      "execution_count": null,
      "outputs": [
        {
          "output_type": "stream",
          "name": "stdout",
          "text": [
            "Collecting gputil\n",
            "  Downloading GPUtil-1.4.0.tar.gz (5.5 kB)\n",
            "Building wheels for collected packages: gputil\n",
            "  Building wheel for gputil (setup.py) ... \u001b[?25l\u001b[?25hdone\n",
            "  Created wheel for gputil: filename=GPUtil-1.4.0-py3-none-any.whl size=7411 sha256=bf6297d5882182784a1d000bfd3b2d459e6770ac5611df0f9254a37ed5f14996\n",
            "  Stored in directory: /root/.cache/pip/wheels/6e/f8/83/534c52482d6da64622ddbf72cd93c35d2ef2881b78fd08ff0c\n",
            "Successfully built gputil\n",
            "Installing collected packages: gputil\n",
            "Successfully installed gputil-1.4.0\n",
            "Requirement already satisfied: psutil in /usr/local/lib/python3.7/dist-packages (5.4.8)\n",
            "Requirement already satisfied: humanize in /usr/local/lib/python3.7/dist-packages (0.5.1)\n"
          ]
        }
      ]
    },
    {
      "cell_type": "code",
      "source": [
        "import psutil\n",
        "import humanize\n",
        "import os\n",
        "import GPUtil as GPU\n",
        "\n",
        "GPUs = GPU.getGPUs()\n",
        "# XXX: only one GPU on Colab and isn’t guaranteed\n",
        "gpu = GPUs[0]\n",
        "def printm():\n",
        "    process = psutil.Process(os.getpid())\n",
        "    print(\"Gen RAM Free: \" + humanize.naturalsize(psutil.virtual_memory().available), \" |     Proc size: \" + humanize.naturalsize(process.memory_info().rss))\n",
        "    print(\"GPU RAM Free: {0:.0f}MB | Used: {1:.0f}MB | Util {2:3.0f}% | Total     {3:.0f}MB\".format(gpu.memoryFree, gpu.memoryUsed, gpu.memoryUtil*100, gpu.memoryTotal))\n",
        "printm()\n"
      ],
      "metadata": {
        "colab": {
          "base_uri": "https://localhost:8080/"
        },
        "id": "WYat0FDKMb0G",
        "outputId": "ea19a80b-1908-45c6-a0e7-9cc6c69dfa18"
      },
      "execution_count": null,
      "outputs": [
        {
          "output_type": "stream",
          "name": "stdout",
          "text": [
            "Gen RAM Free: 11.6 GB  |     Proc size: 1.0 GB\n",
            "GPU RAM Free: 15106MB | Used: 3MB | Util   0% | Total     15109MB\n"
          ]
        }
      ]
    },
    {
      "cell_type": "code",
      "source": [
        "!ps -aux|grep python"
      ],
      "metadata": {
        "colab": {
          "base_uri": "https://localhost:8080/"
        },
        "id": "CA9st45EMb2q",
        "outputId": "8868e977-4da0-44a6-c4d4-5ba5a95ddf3d"
      },
      "execution_count": null,
      "outputs": [
        {
          "output_type": "stream",
          "name": "stdout",
          "text": [
            "root          30  0.5  0.0      0     0 ?        Z    06:59   0:04 [python3] <defunct>\n",
            "root          31  0.0  0.3 158256 41376 ?        S    06:59   0:00 python3 /usr/local/bin/colab-fileshim.py\n",
            "root          56  0.4  0.4 202440 61064 ?        Sl   06:59   0:03 /usr/bin/python3 /usr/local/bin/jupyter-notebook --ip=\"172.28.0.2\" --port=9000 --FileContentsManager.root_dir=\"/\" --MappingKernelManager.root_dir=\"/content\"\n",
            "root         316  0.0  0.0  18380  2960 ?        S    06:59   0:00 bash -c tail -n +0 -F \"/root/.config/Google/DriveFS/Logs/drive_fs.txt\" | python3 /opt/google/drive/drive-filter.py > \"/root/.config/Google/DriveFS/Logs/timeouts.txt\" \n",
            "root         319  0.0  0.0  31272  9380 ?        S    06:59   0:00 python3 /opt/google/drive/drive-filter.py\n",
            "root         506  7.5 42.2 31615000 5617240 ?    Ssl  07:07   0:15 /usr/bin/python3 -m ipykernel_launcher -f /root/.local/share/jupyter/runtime/kernel-8598b9a0-c7fd-45c2-bbb1-36144b25e38e.json\n",
            "root         524  0.2  0.1 127700 16380 ?        Sl   07:07   0:00 /usr/bin/python3 /usr/local/lib/python3.7/dist-packages/debugpy/adapter --for-server 40781 --host 127.0.0.1 --port 18404 --server-access-token f7a070892485f9fa0acca1be8c52826c4c308e95669e51f88fd227e527be9716\n",
            "root         618  0.0  0.0  39196  6684 ?        S    07:11   0:00 /bin/bash -c ps -aux|grep python\n",
            "root         620  0.0  0.0  36900  3972 ?        R    07:11   0:00 grep python\n"
          ]
        }
      ]
    },
    {
      "cell_type": "code",
      "source": [
        "!kill -9 506"
      ],
      "metadata": {
        "id": "M34Spx3iMb5l"
      },
      "execution_count": null,
      "outputs": []
    }
  ]
}