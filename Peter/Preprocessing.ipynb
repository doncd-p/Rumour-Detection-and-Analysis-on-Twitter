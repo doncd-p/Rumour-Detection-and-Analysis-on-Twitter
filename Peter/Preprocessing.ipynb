{
 "cells": [
  {
   "cell_type": "code",
   "execution_count": 5,
   "id": "192e5fed",
   "metadata": {
    "ExecuteTime": {
     "end_time": "2022-05-06T08:43:39.916805Z",
     "start_time": "2022-05-06T08:43:36.566809Z"
    }
   },
   "outputs": [],
   "source": [
    "import pandas as pd\n",
    "import json\n",
    "from pprint import pprint\n",
    "import dateutil.parser as parser\n",
    "import networkx as nx\n",
    "from matplotlib import pyplot as plt\n",
    "import seaborn as sns\n",
    "from datetime import datetime"
   ]
  },
  {
   "cell_type": "markdown",
   "id": "165a64ed",
   "metadata": {
    "heading_collapsed": true
   },
   "source": [
    "### Get valid data ids/labels"
   ]
  },
  {
   "cell_type": "code",
   "execution_count": 1,
   "id": "038e5797",
   "metadata": {
    "ExecuteTime": {
     "end_time": "2022-05-05T09:08:40.387486Z",
     "start_time": "2022-05-05T09:08:39.613216Z"
    },
    "hidden": true
   },
   "outputs": [],
   "source": [
    "def read_file(file_name):\n",
    "    '''\n",
    "    This function will read the file containing tweet ids sperating by lines (in groups)\n",
    "    '''\n",
    "    all_ids = pd.read_table(file_name,sep='\\n',header=None)\n",
    "    return all_ids"
   ]
  },
  {
   "cell_type": "code",
   "execution_count": null,
   "id": "282d68db",
   "metadata": {
    "hidden": true
   },
   "outputs": [],
   "source": [
    "def get_new_data_ids(ids_file, data_all_file, output):\n",
    "    original_ids = read_file(ids_file)\n",
    "\n",
    "    tweets = pd.read_json(data_all_file)\n",
    "\n",
    "    valid_ids = original_ids.iloc[tweets.keys()]\n",
    "\n",
    "    valid_ids.to_csv(output, index=False, header=False)"
   ]
  },
  {
   "cell_type": "code",
   "execution_count": null,
   "id": "597f25dc",
   "metadata": {
    "hidden": true
   },
   "outputs": [],
   "source": [
    "get_new_data_ids('../../project-data/train.data.txt', \"data/train_data_all.json\", \"data/valid.train.ids.txt\")\n",
    "get_new_data_ids('../../project-data/train.label.txt', \"data/train_data_all.json\", \"data/valid.train.label.txt\")"
   ]
  },
  {
   "cell_type": "code",
   "execution_count": null,
   "id": "e607123d",
   "metadata": {
    "hidden": true
   },
   "outputs": [],
   "source": [
    "get_new_data_ids('../../project-data/dev.data.txt', \"data/dev_data_all.json\", \"data/valid.dev.ids.txt\")\n",
    "get_new_data_ids('../../project-data/dev.label.txt', \"data/dev_data_all.json\", \"data/valid.dev.label.txt\")"
   ]
  },
  {
   "cell_type": "code",
   "execution_count": null,
   "id": "e38d50f5",
   "metadata": {
    "hidden": true
   },
   "outputs": [],
   "source": [
    "get_new_data_ids('../../project-data/covid.data.txt', \"data/covid_data_all.json\", \"data/valid.covid.ids.txt\")"
   ]
  },
  {
   "cell_type": "markdown",
   "id": "66a3e58f",
   "metadata": {
    "heading_collapsed": true
   },
   "source": [
    "### Merge and organise the information"
   ]
  },
  {
   "cell_type": "code",
   "execution_count": 507,
   "id": "48faad6a",
   "metadata": {
    "ExecuteTime": {
     "end_time": "2022-05-06T06:03:09.584087Z",
     "start_time": "2022-05-06T06:03:09.560091Z"
    },
    "hidden": true
   },
   "outputs": [],
   "source": [
    "def merge_info(file, label_file, output):\n",
    "    labels = read_file(label_file)\n",
    "    tweets = pd.read_json(file)\n",
    "    tweets = tweets.T.reset_index(drop=True)\n",
    "    \n",
    "    tweets['label'] = labels[0].reset_index(drop=True)\n",
    "    tweets['label'] = tweets['label'].apply(lambda x: 1 if x == 'rumour' else 0)\n",
    "\n",
    "    # get all users info in a dict by author id\n",
    "    users_info = tweets['includes'].map(\n",
    "        lambda x: {n['id']: n\n",
    "                   for n in x['users']})\n",
    "    users_dict = {}\n",
    "    for i in range(len(users_info)):\n",
    "        users_dict.update(users_info[i])\n",
    "\n",
    "    for i in range(len(tweets)):\n",
    "        for tweet in tweets['data'][i]:\n",
    "\n",
    "            # add in_reply_to_status_id info to tweet\n",
    "            if 'referenced_tweets' in tweet:\n",
    "                if len(tweet['referenced_tweets']) == 1:\n",
    "                    tweet['in_reply_to_status_id'] = tweet[\n",
    "                        'referenced_tweets'][0]['id']\n",
    "                else:\n",
    "                    for ref in tweet['referenced_tweets']:\n",
    "                        if ref['type'] == 'replied_to':\n",
    "                            tweet['in_reply_to_status_id'] = tweet[\n",
    "                                'referenced_tweets'][0]['id']\n",
    "            else:\n",
    "                tweet['in_reply_to_user_id'] = None\n",
    "                tweet['in_reply_to_status_id'] = None\n",
    "\n",
    "            # add user info to tweet info by author id\n",
    "            tweet['user'] = users_dict[tweet['author_id']]\n",
    "            \n",
    "    tweets.drop(['includes', 'errors'], axis=1, inplace=True)\n",
    "    \n",
    "    tweets.to_json(output, orient='records')"
   ]
  },
  {
   "cell_type": "code",
   "execution_count": 508,
   "id": "58458601",
   "metadata": {
    "ExecuteTime": {
     "end_time": "2022-05-06T06:03:13.634332Z",
     "start_time": "2022-05-06T06:03:11.829998Z"
    },
    "hidden": true
   },
   "outputs": [],
   "source": [
    "merge_info(\"data/train_data_all.json\", 'data/valid.train.label.txt', \"data/train_data_merged.json\")\n",
    "merge_info(\"data/dev_data_all.json\", 'data/valid.dev.label.txt', \"data/dev_data_merged.json\")"
   ]
  },
  {
   "cell_type": "code",
   "execution_count": 509,
   "id": "04c6fa2d",
   "metadata": {
    "ExecuteTime": {
     "end_time": "2022-05-06T06:03:22.279308Z",
     "start_time": "2022-05-06T06:03:21.768918Z"
    },
    "hidden": true,
    "scrolled": true
   },
   "outputs": [],
   "source": [
    "train_data_merged = pd.read_json(\"data/train_data_merged.json\")\n",
    "# train_data_prepared"
   ]
  },
  {
   "cell_type": "code",
   "execution_count": 510,
   "id": "098bb184",
   "metadata": {
    "ExecuteTime": {
     "end_time": "2022-05-06T06:03:23.201265Z",
     "start_time": "2022-05-06T06:03:22.981272Z"
    },
    "hidden": true,
    "scrolled": true
   },
   "outputs": [],
   "source": [
    "dev_data_merged = pd.read_json(\"data/dev_data_merged.json\")\n",
    "# dev_data_prepared"
   ]
  },
  {
   "cell_type": "markdown",
   "id": "e4b80105",
   "metadata": {},
   "source": [
    "### Filter the replies"
   ]
  },
  {
   "cell_type": "markdown",
   "id": "6d693ec1",
   "metadata": {
    "heading_collapsed": true
   },
   "source": [
    "#### Change the format of 'created_at' fields for testset"
   ]
  },
  {
   "cell_type": "code",
   "execution_count": 511,
   "id": "259fa9bc",
   "metadata": {
    "ExecuteTime": {
     "end_time": "2022-05-06T06:03:26.288655Z",
     "start_time": "2022-05-06T06:03:25.229988Z"
    },
    "hidden": true
   },
   "outputs": [],
   "source": [
    "for i in range(len(test_data)):\n",
    "    for tweet in test_data['data'][i]: \n",
    "        text = tweet['created_at']\n",
    "        date = parser.parse(text)\n",
    "        tweet['created_at'] = str(date.isoformat().replace('+00:00', '.000Z'))\n",
    "        tweet['user']['created_at'] = str(date.isoformat().replace('+00:00', '.000Z'))"
   ]
  },
  {
   "cell_type": "code",
   "execution_count": 506,
   "id": "3c4a529c",
   "metadata": {
    "ExecuteTime": {
     "end_time": "2022-05-06T06:01:13.908237Z",
     "start_time": "2022-05-06T06:01:12.748162Z"
    },
    "hidden": true
   },
   "outputs": [],
   "source": [
    "test_data.to_json(\"data/test_data_all.json\", orient='records')"
   ]
  },
  {
   "cell_type": "code",
   "execution_count": 503,
   "id": "9f39aa20",
   "metadata": {
    "ExecuteTime": {
     "end_time": "2022-05-06T05:58:56.271926Z",
     "start_time": "2022-05-06T05:58:55.809102Z"
    },
    "hidden": true
   },
   "outputs": [],
   "source": [
    "test_data = pd.read_json(\"data/test_data_all.json\")\n",
    "# test_data"
   ]
  },
  {
   "cell_type": "markdown",
   "id": "3dc97a49",
   "metadata": {
    "heading_collapsed": true
   },
   "source": [
    "#### Check the number of tweets per group before filter"
   ]
  },
  {
   "cell_type": "code",
   "execution_count": 467,
   "id": "c329c1b8",
   "metadata": {
    "ExecuteTime": {
     "end_time": "2022-05-05T20:00:13.761639Z",
     "start_time": "2022-05-05T20:00:13.738555Z"
    },
    "hidden": true
   },
   "outputs": [],
   "source": [
    "lens = []\n",
    "for i in range(len(train_data_merged)):\n",
    "    lens.append(len(train_data_merged['data'][i]))"
   ]
  },
  {
   "cell_type": "code",
   "execution_count": 468,
   "id": "1a4782f1",
   "metadata": {
    "ExecuteTime": {
     "end_time": "2022-05-05T20:00:15.703041Z",
     "start_time": "2022-05-05T20:00:14.999154Z"
    },
    "hidden": true
   },
   "outputs": [
    {
     "data": {
      "text/plain": [
       "(0.0, 30.0)"
      ]
     },
     "execution_count": 468,
     "metadata": {},
     "output_type": "execute_result"
    },
    {
     "data": {
      "image/png": "[encoded data removed]",
      "text/plain": [
       "<Figure size 648x432 with 1 Axes>"
      ]
     },
     "metadata": {},
     "output_type": "display_data"
    }
   ],
   "source": [
    "sns.set(rc={'figure.figsize':(9,6)})\n",
    "ax = sns.histplot(lens)\n",
    "plt.xlabel('Number of Tweets (0-50)', fontsize=14)\n",
    "plt.ylabel('Count', fontsize=14)\n",
    "plt.title(\"Number of Tweets Per Group\", fontsize=14)\n",
    "plt.xlim(0, 30)"
   ]
  },
  {
   "cell_type": "markdown",
   "id": "2f7ccb57",
   "metadata": {},
   "source": [
    "#### Filter the reply by building trees"
   ]
  },
  {
   "cell_type": "code",
   "execution_count": 8,
   "id": "9fa85d0d",
   "metadata": {
    "ExecuteTime": {
     "end_time": "2022-05-06T08:43:53.624970Z",
     "start_time": "2022-05-06T08:43:53.613969Z"
    },
    "code_folding": [
     0
    ]
   },
   "outputs": [],
   "source": [
    "def build_tree(tweets):\n",
    "    nodes = set()\n",
    "    edges = []\n",
    "    id_data = {}\n",
    "    id_treeid = {}\n",
    "    parent_children = {}\n",
    "    child_parent = {}\n",
    "\n",
    "    def check_trees(node_id):\n",
    "        tree_id = id_treeid[node_id]\n",
    "\n",
    "        if node_id in parent_children:\n",
    "            for child_id in parent_children[node_id]:\n",
    "                if child_id not in id_treeid or id_treeid[\n",
    "                        child_id] != id_treeid[node_id]:\n",
    "                    id_treeid[child_id] = id_treeid[node_id]\n",
    "                    check_trees(child_id)\n",
    "                    \n",
    "    for tweet in tweets:\n",
    "        node_id = tweet['id']\n",
    "        id_data[node_id] = tweet \n",
    "\n",
    "        # 0 as tree id for source tweet\n",
    "        # MIGHT NEED TO CONSIDER WHETHER TO INVOLVE THE FIRST TWEET AS A REPLY\n",
    "        if tweet == tweets[0]:\n",
    "            id_treeid[node_id] = 0\n",
    "            continue\n",
    "\n",
    "        if tweet['in_reply_to_status_id'] != None:\n",
    "            parent_id = tweet['in_reply_to_status_id']\n",
    "            child_parent[node_id] = parent_id\n",
    "\n",
    "            if parent_id not in parent_children:\n",
    "                parent_children[parent_id] = set()\n",
    "            parent_children[parent_id].add(node_id)\n",
    "\n",
    "            # check if the parent of current node already existed in any tree\n",
    "            # if so change the children ids to upper tree id\n",
    "            if parent_id in id_treeid:\n",
    "                check_trees(parent_id)\n",
    "                pass\n",
    "            else:\n",
    "                tree_id = len(id_treeid)\n",
    "                id_treeid[node_id] = tree_id\n",
    "                id_treeid[parent_id] = tree_id\n",
    "\n",
    "    # get nodes and edges in the tree of the source\n",
    "    for node_id, tree_id in id_treeid.items():\n",
    "        if tree_id == 0:\n",
    "            nodes.add(node_id)\n",
    "            if node_id in child_parent:\n",
    "                edges.append([node_id, child_parent[node_id]])\n",
    "\n",
    "    return nodes, edges, id_treeid, id_data"
   ]
  },
  {
   "cell_type": "code",
   "execution_count": 12,
   "id": "dbaa8cdb",
   "metadata": {
    "ExecuteTime": {
     "end_time": "2022-05-06T08:47:15.627315Z",
     "start_time": "2022-05-06T08:47:15.605272Z"
    },
    "code_folding": []
   },
   "outputs": [],
   "source": [
    "def filter_reply(file, output):\n",
    "    tweets = pd.read_json(file)\n",
    "    for i in range(len(tweets)):\n",
    "        data = tweets['data'][i]\n",
    "        first_tweet = data[0]\n",
    "        \n",
    "        # sort the reply by time\n",
    "        reply_sorted_by_time = sorted(\n",
    "            data[1:],\n",
    "            key=lambda t: datetime.strptime(t['created_at'],\n",
    "                                            '%Y-%m-%dT%H:%M:%S.000Z'))\n",
    "        sorted_list = [first_tweet]\n",
    "        sorted_list.extend(reply_sorted_by_time)\n",
    "        tweets.at[i, 'data'] = sorted_list\n",
    "        \n",
    "        # filter the reply by only keeping the reply in the tree of the source\n",
    "        tree_data = build_tree(sorted_list)\n",
    "        tweet_id_list = [_id for _id, tree_id in tree_data[-2].items() if tree_id == 0]\n",
    "        new_tweet_data = [tree_data[-1][_id] for _id in tweet_id_list]\n",
    "        tweets.at[i, 'data'] = new_tweet_data\n",
    "    \n",
    "    tweets.to_json(output, orient='records')"
   ]
  },
  {
   "cell_type": "code",
   "execution_count": 13,
   "id": "8ccf5ebf",
   "metadata": {
    "ExecuteTime": {
     "end_time": "2022-05-06T08:47:19.228444Z",
     "start_time": "2022-05-06T08:47:16.996161Z"
    }
   },
   "outputs": [],
   "source": [
    "filter_reply(\"data/train_data_merged.json\", \"data/train_data_prepared.json\")\n",
    "filter_reply(\"data/dev_data_merged.json\", \"data/dev_data_prepared.json\")\n",
    "filter_reply(\"data/test_data_all.json\", \"data/test_data_prepared.json\")"
   ]
  },
  {
   "cell_type": "markdown",
   "id": "80785f6f",
   "metadata": {},
   "source": [
    "#### Check the number of tweets per group after filter"
   ]
  },
  {
   "cell_type": "code",
   "execution_count": 474,
   "id": "6f20a5d2",
   "metadata": {
    "ExecuteTime": {
     "end_time": "2022-05-05T20:01:36.902084Z",
     "start_time": "2022-05-05T20:01:36.533655Z"
    },
    "scrolled": false
   },
   "outputs": [],
   "source": [
    "train_data_prepared = pd.read_json(\"data/train_data_prepared.json\")\n",
    "# train_data_filtered"
   ]
  },
  {
   "cell_type": "code",
   "execution_count": 475,
   "id": "3933a081",
   "metadata": {
    "ExecuteTime": {
     "end_time": "2022-05-05T20:01:38.959092Z",
     "start_time": "2022-05-05T20:01:38.941064Z"
    }
   },
   "outputs": [],
   "source": [
    "lens = []\n",
    "for i in range(len(train_data_prepared)):\n",
    "    lens.append(len(train_data_prepared['data'][i]))"
   ]
  },
  {
   "cell_type": "code",
   "execution_count": 476,
   "id": "06c89559",
   "metadata": {
    "ExecuteTime": {
     "end_time": "2022-05-05T20:01:40.583510Z",
     "start_time": "2022-05-05T20:01:40.016691Z"
    }
   },
   "outputs": [
    {
     "data": {
      "text/plain": [
       "(0.0, 30.0)"
      ]
     },
     "execution_count": 476,
     "metadata": {},
     "output_type": "execute_result"
    },
    {
     "data": {
      "image/png": "[encoded data removed]",
      "text/plain": [
       "<Figure size 648x432 with 1 Axes>"
      ]
     },
     "metadata": {},
     "output_type": "display_data"
    }
   ],
   "source": [
    "sns.set(rc={'figure.figsize':(9,6)})\n",
    "ax = sns.histplot(lens)\n",
    "plt.xlabel('Number of Tweets (0-50)', fontsize=14)\n",
    "plt.ylabel('Count', fontsize=14)\n",
    "plt.title(\"Number of Tweets Per Group\", fontsize=14)\n",
    "plt.xlim(0, 30)"
   ]
  },
  {
   "cell_type": "code",
   "execution_count": null,
   "id": "50fb74bb",
   "metadata": {},
   "outputs": [],
   "source": []
  },
  {
   "cell_type": "markdown",
   "id": "aa8a43c4",
   "metadata": {
    "heading_collapsed": true
   },
   "source": [
    "#### Test building the tree"
   ]
  },
  {
   "cell_type": "code",
   "execution_count": 411,
   "id": "bb1b9ad5",
   "metadata": {
    "ExecuteTime": {
     "end_time": "2022-05-05T19:26:14.361131Z",
     "start_time": "2022-05-05T19:26:14.350098Z"
    },
    "hidden": true
   },
   "outputs": [],
   "source": [
    "sample = dev_data_prepared['data'][198]"
   ]
  },
  {
   "cell_type": "code",
   "execution_count": 412,
   "id": "cf6c767c",
   "metadata": {
    "ExecuteTime": {
     "end_time": "2022-05-05T19:26:18.392397Z",
     "start_time": "2022-05-05T19:26:18.382963Z"
    },
    "hidden": true
   },
   "outputs": [],
   "source": [
    "res = build_trees(sample)"
   ]
  },
  {
   "cell_type": "code",
   "execution_count": 415,
   "id": "ecd724db",
   "metadata": {
    "ExecuteTime": {
     "end_time": "2022-05-05T19:26:41.414144Z",
     "start_time": "2022-05-05T19:26:41.403111Z"
    },
    "hidden": true
   },
   "outputs": [
    {
     "data": {
      "text/plain": [
       "({'1254431240289226758', '1254446821356843009'},\n",
       " [['1254446821356843009', '1254431240289226758']],\n",
       " {'1254431240289226758': 0,\n",
       "  '1254394786108366849': 1,\n",
       "  '1254390754845302785': 1,\n",
       "  '1254399630298791937': 1,\n",
       "  '1254400311910940672': 1,\n",
       "  '1254401887597727744': 1,\n",
       "  '1254402675501826048': 1,\n",
       "  '1254404150491787264': 1,\n",
       "  '1254404691301150722': 1,\n",
       "  '1254415028607950857': 1,\n",
       "  '1254416388694978560': 1,\n",
       "  '1254446821356843009': 0})"
      ]
     },
     "execution_count": 415,
     "metadata": {},
     "output_type": "execute_result"
    }
   ],
   "source": [
    "res[:-1]"
   ]
  },
  {
   "cell_type": "code",
   "execution_count": 413,
   "id": "ad31c135",
   "metadata": {
    "ExecuteTime": {
     "end_time": "2022-05-05T19:26:23.876127Z",
     "start_time": "2022-05-05T19:26:23.650681Z"
    },
    "hidden": true
   },
   "outputs": [
    {
     "data": {
      "image/png": "[encoded data removed]",
      "text/plain": [
       "<Figure size 432x288 with 1 Axes>"
      ]
     },
     "metadata": {},
     "output_type": "display_data"
    }
   ],
   "source": [
    "tree = nx.DiGraph()\n",
    "tree.add_nodes_from(res[0])\n",
    "tree.add_edges_from(res[1])\n",
    "\n",
    "nx.draw_networkx(tree, with_labels=False)"
   ]
  }
 ],
 "metadata": {
  "kernelspec": {
   "display_name": "Python 3 (ipykernel)",
   "language": "python",
   "name": "python3"
  },
  "language_info": {
   "codemirror_mode": {
    "name": "ipython",
    "version": 3
   },
   "file_extension": ".py",
   "mimetype": "text/x-python",
   "name": "python",
   "nbconvert_exporter": "python",
   "pygments_lexer": "ipython3",
   "version": "3.7.6"
  },
  "toc": {
   "base_numbering": 1,
   "nav_menu": {},
   "number_sections": true,
   "sideBar": true,
   "skip_h1_title": false,
   "title_cell": "Table of Contents",
   "title_sidebar": "Contents",
   "toc_cell": false,
   "toc_position": {},
   "toc_section_display": true,
   "toc_window_display": false
  },
  "varInspector": {
   "cols": {
    "lenName": 16,
    "lenType": 16,
    "lenVar": 40
   },
   "kernels_config": {
    "python": {
     "delete_cmd_postfix": "",
     "delete_cmd_prefix": "del ",
     "library": "var_list.py",
     "varRefreshCmd": "print(var_dic_list())"
    },
    "r": {
     "delete_cmd_postfix": ") ",
     "delete_cmd_prefix": "rm(",
     "library": "var_list.r",
     "varRefreshCmd": "cat(var_dic_list()) "
    }
   },
   "types_to_exclude": [
    "module",
    "function",
    "builtin_function_or_method",
    "instance",
    "_Feature"
   ],
   "window_display": false
  }
 },
 "nbformat": 4,
 "nbformat_minor": 5
}
