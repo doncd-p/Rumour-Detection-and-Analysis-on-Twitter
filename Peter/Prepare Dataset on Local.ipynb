{
 "cells": [
  {
   "cell_type": "code",
   "execution_count": 1,
   "id": "1c4de188",
   "metadata": {
    "ExecuteTime": {
     "end_time": "2022-05-02T04:42:11.558907Z",
     "start_time": "2022-05-02T04:42:00.555504Z"
    }
   },
   "outputs": [],
   "source": [
    "from LoadData import LoadDataAndProcessing, LoadTestDataAndProcessing\n",
    "from RumourDataSet import RumourDataset\n",
    "from torch.utils.data import DataLoader"
   ]
  },
  {
   "cell_type": "code",
   "execution_count": 2,
   "id": "0dbd7982",
   "metadata": {
    "ExecuteTime": {
     "end_time": "2022-05-02T04:36:06.865130Z",
     "start_time": "2022-05-02T04:36:05.332380Z"
    }
   },
   "outputs": [],
   "source": [
    "train_file = \"data/train_data_all.json\"\n",
    "train_label_file = \"data/train.label.txt\"\n",
    "dev_file = \"data/dev_data_all.json\"\n",
    "dev_label_file =  \"data/dev.label.txt\"\n",
    "\n",
    "load_twitter_train_data = LoadDataAndProcessing(train_file, train_label_file)\n",
    "load_twitter_dev_data = LoadDataAndProcessing(dev_file, dev_label_file)"
   ]
  },
  {
   "cell_type": "code",
   "execution_count": 42,
   "id": "aedcb7c2",
   "metadata": {
    "ExecuteTime": {
     "end_time": "2022-05-01T07:53:37.038664Z",
     "start_time": "2022-05-01T07:53:32.209778Z"
    }
   },
   "outputs": [],
   "source": [
    "train_input = load_twitter_train_data.prepareDataset()\n",
    "dev_input = load_twitter_dev_data.prepareDataset()"
   ]
  },
  {
   "cell_type": "code",
   "execution_count": null,
   "id": "9de50940",
   "metadata": {},
   "outputs": [],
   "source": [
    "tweets_file_path = \"../../project-data/tweet-objects/tweet-objects/\"\n",
    "tweet_data = \"data/test.data.txt\"\n",
    "load_twitter_test_data= LoadTestDataAndProcessing(tweets_file_path, tweet_data)"
   ]
  },
  {
   "cell_type": "code",
   "execution_count": 120,
   "id": "a5735ebd",
   "metadata": {
    "ExecuteTime": {
     "end_time": "2022-05-01T16:32:23.311881Z",
     "start_time": "2022-05-01T16:30:19.958059Z"
    }
   },
   "outputs": [],
   "source": [
    "test_input = load_twitter_test_data.prepareDataset()"
   ]
  },
  {
   "cell_type": "code",
   "execution_count": null,
   "id": "d21bc305",
   "metadata": {},
   "outputs": [],
   "source": []
  },
  {
   "cell_type": "code",
   "execution_count": 100,
   "id": "97a675b5",
   "metadata": {
    "ExecuteTime": {
     "end_time": "2022-05-01T12:36:19.323480Z",
     "start_time": "2022-05-01T12:36:19.291482Z"
    },
    "code_folding": []
   },
   "outputs": [],
   "source": [
    "class TrainDataset(Dataset):\n",
    "\n",
    "    def __init__(self, filename, input_size):\n",
    "\n",
    "        #Store the contents of the file in a pandas dataframe\n",
    "        self.df = pd.read_csv(filename, delimiter = '\\t')\n",
    "\n",
    "        #Initialize the BERT tokenizer\n",
    "        self.tokenizer = BertTokenizer.from_pretrained('bert-base-uncased')\n",
    "        \n",
    "        # the input length for BERT model. Max length is 512\n",
    "        self.input_size = 0\n",
    "        if input_size > 512:\n",
    "            self.input_size = 512\n",
    "        else:\n",
    "            self.input_size = input_size\n",
    "            \n",
    "    def __len__(self):\n",
    "        return len(self.df)\n",
    "    \n",
    "    def __getitem__(self, index):\n",
    "\n",
    "        #Selecting the content and label at the specified index in the data frame\n",
    "        tweet = self.df.loc[index, 'content']\n",
    "        label = self.df.loc[index, 'label']\n",
    "        \n",
    "        # Tokenize the tweet and insering the CLS and SEP\n",
    "        tokens = ['[CLS]'] + self.tokenizer.tokenize(tweet) + ['[SEP]'] \n",
    "        \n",
    "        if len(tokens) < self.input_size:\n",
    "            #Padding token\n",
    "            tokens = tokens + ['[PAD]' for _ in range(self.input_size - len(tokens))] \n",
    "        else:\n",
    "            # if tokens length > input_size, extract the first input_size-1 and add SEP\n",
    "            tokens = tokens[:self.input_size-1] + ['[SEP]'] \n",
    "        \n",
    "        #Converting the token to a pytorch ID tensor\n",
    "        tokens_ids_tensor = torch.tensor(self.tokenizer.convert_tokens_to_ids(tokens)) \n",
    "\n",
    "        #Obtaining the attention mask\n",
    "        attn_mask = (tokens_ids_tensor != 0).long()\n",
    "        \n",
    "        return tokens_ids_tensor, attn_mask, label"
   ]
  },
  {
   "cell_type": "code",
   "execution_count": 102,
   "id": "c11a4da4",
   "metadata": {
    "ExecuteTime": {
     "end_time": "2022-05-01T12:37:31.809249Z",
     "start_time": "2022-05-01T12:37:09.939210Z"
    }
   },
   "outputs": [],
   "source": [
    "train_tsv = \"data/train_loadData.tsv\"\n",
    "dev_tsv = \"data/dev_loadData.tsv\"\n",
    "\n",
    "train_set = TrainDataset(filename = train_tsv, input_size = 350)\n",
    "dev_set = TrainDataset(filename = dev_tsv, input_size = 350)"
   ]
  },
  {
   "cell_type": "code",
   "execution_count": 108,
   "id": "11dd400e",
   "metadata": {
    "ExecuteTime": {
     "end_time": "2022-05-01T12:40:53.533400Z",
     "start_time": "2022-05-01T12:40:53.519432Z"
    }
   },
   "outputs": [],
   "source": [
    "from torch.utils.data import DataLoader\n",
    "train_loader = DataLoader(train_set, batch_size = 1, num_workers = 0)\n",
    "dev_loader = DataLoader(dev_set, batch_size = 1, num_workers = 0)"
   ]
  },
  {
   "cell_type": "code",
   "execution_count": null,
   "id": "f8171caf",
   "metadata": {},
   "outputs": [],
   "source": []
  },
  {
   "cell_type": "code",
   "execution_count": 86,
   "id": "fd7719e4",
   "metadata": {
    "ExecuteTime": {
     "end_time": "2022-05-01T08:30:30.963461Z",
     "start_time": "2022-05-01T08:30:30.944504Z"
    }
   },
   "outputs": [],
   "source": [
    "with open(\"data/saved/train_input.pickle\", \"wb\") as file_:\n",
    "    pickle.dump(train_input, file_, -1)\n",
    "\n",
    "with open(\"data/saved/dev_input.pickle\", \"wb\") as file_:\n",
    "    pickle.dump(dev_input, file_, -1)\n",
    "    \n",
    "with open(\"data/saved/test_input.pickle\", \"wb\") as file_:\n",
    "    pickle.dump(test_input, file_, -1)"
   ]
  }
 ],
 "metadata": {
  "kernelspec": {
   "display_name": "Python 3 (ipykernel)",
   "language": "python",
   "name": "python3"
  },
  "language_info": {
   "codemirror_mode": {
    "name": "ipython",
    "version": 3
   },
   "file_extension": ".py",
   "mimetype": "text/x-python",
   "name": "python",
   "nbconvert_exporter": "python",
   "pygments_lexer": "ipython3",
   "version": "3.7.6"
  },
  "varInspector": {
   "cols": {
    "lenName": 16,
    "lenType": 16,
    "lenVar": 40
   },
   "kernels_config": {
    "python": {
     "delete_cmd_postfix": "",
     "delete_cmd_prefix": "del ",
     "library": "var_list.py",
     "varRefreshCmd": "print(var_dic_list())"
    },
    "r": {
     "delete_cmd_postfix": ") ",
     "delete_cmd_prefix": "rm(",
     "library": "var_list.r",
     "varRefreshCmd": "cat(var_dic_list()) "
    }
   },
   "types_to_exclude": [
    "module",
    "function",
    "builtin_function_or_method",
    "instance",
    "_Feature"
   ],
   "window_display": false
  }
 },
 "nbformat": 4,
 "nbformat_minor": 5
}
