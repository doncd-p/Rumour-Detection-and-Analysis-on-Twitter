{
 "cells": [
  {
   "cell_type": "code",
   "execution_count": 1,
   "id": "33514f3f-2d8b-471e-b1e9-599c8888e3cf",
   "metadata": {},
   "outputs": [],
   "source": [
    "from LoadData_nlp import *"
   ]
  },
  {
   "cell_type": "code",
   "execution_count": 2,
   "id": "84c45a87-f8b3-4df0-a373-7e254ed4c58c",
   "metadata": {},
   "outputs": [],
   "source": [
    "file = \"../data/train_data.json\"\n",
    "label = \"../data/project-data/train.label.txt\"\n",
    "train_data  = LoadDataAndProcessing(file,label)"
   ]
  },
  {
   "cell_type": "code",
   "execution_count": 4,
   "id": "0bbac935-11aa-4d8e-b9ff-7eaa51a3c597",
   "metadata": {},
   "outputs": [],
   "source": [
    "train_data_load = train_data.loadData()"
   ]
  },
  {
   "cell_type": "code",
   "execution_count": 6,
   "id": "755c6ae7-30cc-448b-8595-a64010f1153d",
   "metadata": {},
   "outputs": [
    {
     "data": {
      "text/plain": [
       "{'text': '19. 5g mobile networks do not spread covid19',\n",
       " 'textb': '',\n",
       " 'label': 1}"
      ]
     },
     "execution_count": 6,
     "metadata": {},
     "output_type": "execute_result"
    }
   ],
   "source": [
    "train_data_load[0]"
   ]
  }
 ],
 "metadata": {
  "kernelspec": {
   "display_name": "Python 3 (ipykernel)",
   "language": "python",
   "name": "python3"
  },
  "language_info": {
   "codemirror_mode": {
    "name": "ipython",
    "version": 3
   },
   "file_extension": ".py",
   "mimetype": "text/x-python",
   "name": "python",
   "nbconvert_exporter": "python",
   "pygments_lexer": "ipython3",
   "version": "3.8.12"
  }
 },
 "nbformat": 4,
 "nbformat_minor": 5
}
