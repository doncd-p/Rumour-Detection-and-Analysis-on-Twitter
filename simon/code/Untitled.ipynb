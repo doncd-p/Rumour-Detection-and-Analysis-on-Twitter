{
 "cells": [
  {
   "cell_type": "code",
   "execution_count": 4,
   "id": "205e98e6-8d69-4295-8232-68f1a47faf00",
   "metadata": {},
   "outputs": [],
   "source": [
    "import json\n",
    "import re\n",
    "import difflib\n",
    "f = open('../data/dev_data.json')\n",
    "# returns JSON object as\n",
    "# a dictionary\n",
    "data = json.load(f)\n",
    "for i in data.keys():\n",
    "    if \"data\" not in data[i].keys():\n",
    "        print(data[i].keys())\n",
    "        count = count + 1"
   ]
  },
  {
   "cell_type": "code",
   "execution_count": 21,
   "id": "c1f67b73-fc39-4fce-b21d-2e3faf84d6ae",
   "metadata": {},
   "outputs": [],
   "source": [
    "import json\n",
    "import re\n",
    "import difflib\n",
    "f = open('../data/dev_data.json')\n",
    "# returns JSON object as\n",
    "# a dictionary\n",
    "data = json.load(f)\n",
    "clean_dev = {}\n",
    "for i in data.keys():\n",
    "    if \"data\"  in data[i].keys():\n",
    "        clean_dev[i] = data[i]\n",
    "        #print(data[i].keys())\n",
    "        count = count + 1"
   ]
  },
  {
   "cell_type": "code",
   "execution_count": 24,
   "id": "4bd0d105-8818-46ee-88a2-e9b0ddb9f6ff",
   "metadata": {},
   "outputs": [],
   "source": [
    "with open('../data/clean_dev_data.json', 'w') as f:\n",
    "        json.dump(clean_dev, f)"
   ]
  },
  {
   "cell_type": "code",
   "execution_count": null,
   "id": "61d08ff0-9e05-4d21-9a66-b03dbc8f3df1",
   "metadata": {},
   "outputs": [],
   "source": [
    "data_label = pd.read_csv(self.label, sep=\" \", header=None)\n",
    "label = []\n",
    "for i in data.keys():\n",
    "    index = int(i)\n",
    "    #print(data_label.iloc[index])\n",
    "    result_str = str(list(data_label.iloc[index])[0])\n",
    "    #print(result_str)\n",
    "    if result_str == 'rumour':\n",
    "        label.append(0)\n",
    "    else:\n",
    "        label.append(1)"
   ]
  },
  {
   "cell_type": "code",
   "execution_count": 22,
   "id": "4be3996c-6322-415f-9092-24ca52ae463f",
   "metadata": {},
   "outputs": [
    {
     "data": {
      "text/plain": [
       "dict_keys(['0', '1', '2', '3', '4', '5', '6', '8', '10', '11', '13', '14', '17', '18', '19', '20', '21', '22', '23', '24', '25', '26', '27', '28', '29', '30', '31', '34', '35', '37', '39', '40', '41', '43', '44', '45', '46', '47', '48', '49', '50', '51', '52', '53', '54', '55', '56', '57', '58', '59', '60', '61', '62', '63', '64', '65', '66', '67', '68', '70', '72', '73', '74', '75', '76', '77', '79', '80', '81', '82', '84', '86', '87', '88', '89', '91', '92', '93', '96', '97', '98', '99', '100', '102', '103', '104', '105', '106', '107', '108', '110', '112', '114', '115', '117', '118', '119', '120', '121', '123', '125', '126', '127', '128', '129', '131', '132', '133', '134', '135', '136', '137', '138', '140', '141', '142', '143', '144', '145', '146', '147', '149', '150', '151', '152', '153', '154', '155', '157', '159', '160', '161', '162', '163', '164', '165', '166', '167', '168', '169', '171', '173', '174', '175', '176', '177', '178', '179', '180', '181', '182', '184', '185', '186', '188', '189', '191', '192', '193', '196', '197', '198', '199', '200', '201', '202', '203', '204', '205', '206', '208', '210', '211', '212', '213', '215', '216', '217', '218', '219', '220', '221', '222', '223', '224', '225', '226', '227', '228', '229', '230', '231', '232', '233', '235', '236', '237', '238', '239', '240', '241', '242', '243', '244', '245', '246', '247', '250', '251', '252', '253', '254', '256', '258', '259', '260', '261', '262', '263', '264', '265', '268', '269', '270', '271', '272', '273', '274', '276', '278', '279', '280', '281', '282', '283', '284', '285', '286', '287', '288', '289', '291', '292', '293', '294', '295', '296', '298', '299', '300', '301', '302', '303', '304', '305', '306', '307', '308', '309', '310', '311', '312', '313', '314', '315', '316', '317', '319', '320', '321', '322', '323', '324', '325', '326', '327', '328', '329', '330', '331', '332', '333', '334', '335', '337', '339', '341', '343', '344', '345', '346', '347', '348', '349', '350', '351', '352', '353', '354', '355', '356', '358', '359', '360', '361', '362', '363', '364', '365', '366', '367', '368', '369', '370', '371', '372', '373', '374', '375', '376', '378', '379', '380', '382', '383', '384', '385', '386', '387', '388', '389', '390', '391', '393', '394', '395', '396', '397', '398', '399', '401', '402', '403', '404', '406', '407', '408', '409', '410', '411', '412', '413', '414', '415', '416', '417', '419', '420', '421', '423', '424', '425', '426', '427', '430', '431', '432', '433', '435', '437', '438', '439', '440', '441', '442', '443', '444', '445', '446', '447', '448', '449', '450', '451', '452', '453', '454', '455', '456', '457', '459', '460', '501', '502', '503', '504', '505', '506', '507', '508', '509', '510', '512', '513', '514', '515', '516', '517', '518', '519', '521', '522', '523', '524', '525', '526', '528', '529', '530', '531', '532', '533', '534', '535', '536', '537', '538', '539', '540', '541', '542', '544', '545', '546', '549', '550', '551', '552', '553', '554', '555', '556', '557', '558', '559', '561', '564', '566', '567', '569', '570', '571', '572', '573', '574', '575', '576', '577', '578', '579', '580', '581', '582', '583', '584', '585', '587', '588', '589', '591', '592', '594', '595', '596', '597', '598', '599', '601', '602', '603', '604', '605', '606', '607', '608', '609', '610', '611', '612', '613', '614', '616', '618', '619', '620', '621', '622', '623', '625', '626', '627', '628', '629', '630', '631'])"
      ]
     },
     "execution_count": 22,
     "metadata": {},
     "output_type": "execute_result"
    }
   ],
   "source": [
    "clean_dev.keys()"
   ]
  },
  {
   "cell_type": "code",
   "execution_count": null,
   "id": "aae4f92c-4af4-49dc-bfaf-82faed7ac76d",
   "metadata": {},
   "outputs": [],
   "source": []
  },
  {
   "cell_type": "code",
   "execution_count": 14,
   "id": "469a6b37-00a6-4678-8cd3-9b5bacc91647",
   "metadata": {},
   "outputs": [],
   "source": [
    "f = open('../data/dev_data.json')\n",
    "# returns JSON object as\n",
    "# a dictionary\n",
    "data = json.load(f)"
   ]
  },
  {
   "cell_type": "code",
   "execution_count": 15,
   "id": "c16678e1-8ab3-4618-a264-d74018056d10",
   "metadata": {},
   "outputs": [
    {
     "data": {
      "text/plain": [
       "dict_keys(['data', 'includes'])"
      ]
     },
     "execution_count": 15,
     "metadata": {},
     "output_type": "execute_result"
    }
   ],
   "source": [
    "data[\"0\"].keys()"
   ]
  },
  {
   "cell_type": "code",
   "execution_count": 18,
   "id": "b99dd8c2-d9f2-456b-94dd-8c02d3748053",
   "metadata": {},
   "outputs": [
    {
     "name": "stdout",
     "output_type": "stream",
     "text": [
      "dict_keys(['title', 'detail', 'type', 'status'])\n",
      "dict_keys(['title', 'detail', 'type', 'status'])\n",
      "dict_keys(['title', 'detail', 'type', 'status'])\n",
      "dict_keys(['title', 'detail', 'type', 'status'])\n",
      "dict_keys(['title', 'detail', 'type', 'status'])\n",
      "dict_keys(['title', 'detail', 'type', 'status'])\n",
      "dict_keys(['title', 'detail', 'type', 'status'])\n",
      "dict_keys(['title', 'detail', 'type', 'status'])\n",
      "dict_keys(['title', 'detail', 'type', 'status'])\n",
      "dict_keys(['title', 'detail', 'type', 'status'])\n",
      "dict_keys(['title', 'detail', 'type', 'status'])\n",
      "dict_keys(['title', 'detail', 'type', 'status'])\n",
      "dict_keys(['title', 'detail', 'type', 'status'])\n",
      "dict_keys(['title', 'detail', 'type', 'status'])\n",
      "dict_keys(['title', 'detail', 'type', 'status'])\n",
      "dict_keys(['title', 'detail', 'type', 'status'])\n",
      "dict_keys(['title', 'detail', 'type', 'status'])\n",
      "dict_keys(['title', 'detail', 'type', 'status'])\n",
      "dict_keys(['title', 'detail', 'type', 'status'])\n",
      "dict_keys(['title', 'detail', 'type', 'status'])\n",
      "dict_keys(['title', 'detail', 'type', 'status'])\n",
      "dict_keys(['title', 'detail', 'type', 'status'])\n",
      "dict_keys(['title', 'detail', 'type', 'status'])\n",
      "dict_keys(['title', 'detail', 'type', 'status'])\n",
      "dict_keys(['title', 'detail', 'type', 'status'])\n",
      "dict_keys(['title', 'detail', 'type', 'status'])\n",
      "dict_keys(['title', 'detail', 'type', 'status'])\n",
      "dict_keys(['title', 'detail', 'type', 'status'])\n",
      "dict_keys(['title', 'detail', 'type', 'status'])\n",
      "dict_keys(['title', 'detail', 'type', 'status'])\n",
      "dict_keys(['title', 'detail', 'type', 'status'])\n",
      "dict_keys(['title', 'detail', 'type', 'status'])\n",
      "dict_keys(['title', 'detail', 'type', 'status'])\n",
      "dict_keys(['title', 'detail', 'type', 'status'])\n",
      "dict_keys(['title', 'detail', 'type', 'status'])\n",
      "dict_keys(['title', 'detail', 'type', 'status'])\n",
      "dict_keys(['title', 'detail', 'type', 'status'])\n",
      "dict_keys(['title', 'detail', 'type', 'status'])\n",
      "dict_keys(['title', 'detail', 'type', 'status'])\n",
      "dict_keys(['title', 'detail', 'type', 'status'])\n",
      "dict_keys(['title', 'detail', 'type', 'status'])\n",
      "dict_keys(['title', 'detail', 'type', 'status'])\n",
      "dict_keys(['title', 'detail', 'type', 'status'])\n",
      "dict_keys(['title', 'detail', 'type', 'status'])\n",
      "dict_keys(['title', 'detail', 'type', 'status'])\n",
      "dict_keys(['title', 'detail', 'type', 'status'])\n",
      "dict_keys(['title', 'detail', 'type', 'status'])\n",
      "dict_keys(['title', 'detail', 'type', 'status'])\n"
     ]
    }
   ],
   "source": [
    "count = 0 \n",
    "for i in data.keys():\n",
    "    if \"data\" not in data[i].keys():\n",
    "        print(data[i].keys())\n",
    "        count = count + 1"
   ]
  },
  {
   "cell_type": "code",
   "execution_count": 17,
   "id": "25bc7148-46f1-4be4-b363-82bc497c3a7e",
   "metadata": {},
   "outputs": [
    {
     "data": {
      "text/plain": [
       "48"
      ]
     },
     "execution_count": 17,
     "metadata": {},
     "output_type": "execute_result"
    }
   ],
   "source": [
    "count"
   ]
  },
  {
   "cell_type": "code",
   "execution_count": 9,
   "id": "9cc4e66e-019c-4b52-a7cf-2898cb64ebae",
   "metadata": {},
   "outputs": [
    {
     "ename": "KeyError",
     "evalue": "'datas'",
     "output_type": "error",
     "traceback": [
      "\u001b[1;31m---------------------------------------------------------------------------\u001b[0m",
      "\u001b[1;31mKeyError\u001b[0m                                  Traceback (most recent call last)",
      "\u001b[1;32m~\\AppData\\Local\\Temp/ipykernel_30928/768784028.py\u001b[0m in \u001b[0;36m<module>\u001b[1;34m\u001b[0m\n\u001b[0;32m      1\u001b[0m \u001b[1;32mwith\u001b[0m \u001b[0mopen\u001b[0m\u001b[1;33m(\u001b[0m\u001b[1;34m'../data/train_data.json'\u001b[0m\u001b[1;33m,\u001b[0m \u001b[1;34m'w'\u001b[0m\u001b[1;33m)\u001b[0m \u001b[1;32mas\u001b[0m \u001b[0mf\u001b[0m\u001b[1;33m:\u001b[0m\u001b[1;33m\u001b[0m\u001b[1;33m\u001b[0m\u001b[0m\n\u001b[1;32m----> 2\u001b[1;33m     \u001b[0mjson\u001b[0m\u001b[1;33m.\u001b[0m\u001b[0mdump\u001b[0m\u001b[1;33m(\u001b[0m\u001b[0mdata\u001b[0m\u001b[1;33m[\u001b[0m\u001b[1;34m\"datas\"\u001b[0m\u001b[1;33m]\u001b[0m\u001b[1;33m,\u001b[0m \u001b[0mf\u001b[0m\u001b[1;33m)\u001b[0m\u001b[1;33m\u001b[0m\u001b[1;33m\u001b[0m\u001b[0m\n\u001b[0m",
      "\u001b[1;31mKeyError\u001b[0m: 'datas'"
     ]
    }
   ],
   "source": [
    "with open('../data/train_data.json', 'w') as f:\n",
    "    json.dump(data[\"datas\"], f)"
   ]
  },
  {
   "cell_type": "code",
   "execution_count": 6,
   "id": "3a687cc6-5053-467c-9c41-89b15dd39d06",
   "metadata": {},
   "outputs": [
    {
     "data": {
      "text/plain": [
       "dict_keys(['0', '1', '2', '3', '4', '5', '6', '8', '10', '11', '13', '14', '17', '18', '19', '20', '21', '22', '23', '24', '25', '26', '27', '28', '29', '30', '31', '34', '35', '37', '39', '40', '41', '43', '44', '45', '46', '47', '48', '49', '50', '51', '52', '53', '54', '55', '56', '57', '58', '59', '60', '61', '62', '63', '64', '65', '66', '67', '68', '70', '72', '73', '74', '75', '76', '77', '79', '80', '81', '82', '84', '86', '87', '88', '89', '91', '92', '93', '96', '97', '98', '99', '69', '71', '78', '83', '85', '90', '94', '95', '100', '102', '103', '104', '105', '106', '107', '108', '110', '112', '114', '115', '117', '118', '119', '120', '121', '123', '125', '126', '127', '128', '129', '131', '132', '133', '134', '135', '136', '137', '138', '140', '141', '142', '143', '144', '145', '146', '147', '149', '150', '151', '152', '153', '154', '155', '157', '159', '160', '161', '162', '163', '164', '165', '166', '167', '168', '169', '171', '173', '174', '175', '176', '177', '178', '179', '180', '181', '182', '184', '185', '186', '188', '189', '191', '192', '193', '196', '197', '198', '199', '200', '201', '202', '203', '204', '205', '206', '208', '210', '211', '212', '213', '215', '216', '217', '218', '219', '220', '221', '222', '223', '224', '225', '226', '227', '228', '229', '230', '231', '232', '233', '235', '236', '237', '238', '239', '240', '241', '242', '243', '244', '245', '246', '247', '250', '251', '252', '253', '254', '256', '258', '259', '260', '261', '262', '263', '264', '265', '268', '269', '270', '271', '272', '273', '274', '276', '278', '279', '280', '281', '282', '283', '284', '285', '286', '287', '288', '289', '291', '292', '293', '294', '295', '296', '298', '299', '300', '301', '302', '303', '304', '305', '306', '307', '308', '309', '310', '311', '312', '313', '314', '315', '316', '317', '319', '320', '321', '322', '323', '324', '325', '326', '327', '328', '329', '330', '331', '332', '333', '334', '335', '337', '339', '341', '343', '344', '345', '346', '347', '348', '349', '350', '351', '352', '353', '354', '355', '356', '358', '359', '360', '361', '362', '363', '364', '365', '366', '367', '368', '369', '370', '371', '372', '373', '374', '375', '376', '378', '379', '380', '382', '383', '384', '385', '386', '387', '388', '389', '390', '391', '393', '394', '395', '396', '397', '398', '399', '401', '402', '403', '404', '406', '407', '408', '409', '410', '411', '412', '413', '414', '415', '416', '417', '419', '420', '421', '423', '424', '425', '426', '427', '430', '431', '432', '433', '435', '437', '438', '439', '440', '441', '442', '443', '444', '445', '446', '447', '448', '449', '450', '451', '452', '453', '454', '455', '456', '457', '458', '459', '460', '461', '462', '463', '464', '465', '466', '467', '468', '469', '470', '471', '472', '473', '474', '475', '476', '477', '478', '479', '480', '481', '482', '483', '484', '485', '486', '487', '488', '489', '490', '491', '492', '493', '494', '495', '496', '497', '498', '499', '501', '502', '503', '504', '505', '506', '507', '508', '509', '510', '512', '513', '514', '515', '516', '517', '518', '519', '521', '522', '523', '524', '525', '526', '528', '529', '530', '531', '532', '533', '534', '535', '536', '537', '538', '539', '540', '541', '542', '544', '545', '546', '549', '550', '551', '552', '553', '554', '555', '556', '557', '558', '559', '561', '564', '566', '567', '569', '570', '571', '572', '573', '574', '575', '576', '577', '578', '579', '580', '581', '582', '583', '584', '585', '587', '588', '589', '591', '592', '594', '595', '596', '597', '598', '599', '601', '602', '603', '604', '605', '606', '607', '608', '609', '610', '611', '612', '613', '614', '616', '618', '619', '620', '621', '622', '623', '625', '626', '627', '628', '629', '630', '631'])"
      ]
     },
     "execution_count": 6,
     "metadata": {},
     "output_type": "execute_result"
    }
   ],
   "source": [
    "data.keys()"
   ]
  },
  {
   "cell_type": "code",
   "execution_count": 3,
   "id": "b0179478-c673-4000-9ca9-8822548f7113",
   "metadata": {},
   "outputs": [
    {
     "ename": "NameError",
     "evalue": "name 'data' is not defined",
     "output_type": "error",
     "traceback": [
      "\u001b[1;31m---------------------------------------------------------------------------\u001b[0m",
      "\u001b[1;31mNameError\u001b[0m                                 Traceback (most recent call last)",
      "\u001b[1;32m~\\AppData\\Local\\Temp/ipykernel_30928/133650096.py\u001b[0m in \u001b[0;36m<module>\u001b[1;34m\u001b[0m\n\u001b[1;32m----> 1\u001b[1;33m \u001b[0mlen\u001b[0m\u001b[1;33m(\u001b[0m\u001b[0mdata\u001b[0m\u001b[1;33m.\u001b[0m\u001b[0mkeys\u001b[0m\u001b[1;33m(\u001b[0m\u001b[1;33m)\u001b[0m\u001b[1;33m)\u001b[0m\u001b[1;33m\u001b[0m\u001b[1;33m\u001b[0m\u001b[0m\n\u001b[0m",
      "\u001b[1;31mNameError\u001b[0m: name 'data' is not defined"
     ]
    }
   ],
   "source": [
    "len(data.keys())"
   ]
  },
  {
   "cell_type": "code",
   "execution_count": 17,
   "id": "1995d332-2a3b-4428-a1a7-9b910105ab45",
   "metadata": {},
   "outputs": [],
   "source": [
    "def textProcess(text):\n",
    "        text = re.sub(\"@[\\w]*\", \"\", text)  # 去@\n",
    "        text = re.sub(r'(https|http)?:\\/\\/(\\w|\\.|\\/|\\?|\\=|\\&|\\%)*\\b', \"\", text)  # 去URL\n",
    "        text = re.sub('[\\n\\t-]', '', text)\n",
    "        text = text.strip()\n",
    "        return text"
   ]
  },
  {
   "cell_type": "code",
   "execution_count": 38,
   "id": "3997d039-c1c4-4b7f-a7e0-55b8a3d5db25",
   "metadata": {},
   "outputs": [],
   "source": [
    "#data[\"0\"][\"data\"]"
   ]
  },
  {
   "cell_type": "code",
   "execution_count": 42,
   "id": "afd1dfc0-2615-4b6d-b545-bfea82254975",
   "metadata": {},
   "outputs": [],
   "source": [
    "#data[\"2\"][\"data\"]"
   ]
  },
  {
   "cell_type": "code",
   "execution_count": 100,
   "id": "8a7c60b3-428e-4ed0-879a-d316ca612971",
   "metadata": {},
   "outputs": [],
   "source": [
    "tweeter_source = []\n",
    "tweeter_replay = []\n",
    "text_p1 = \"\"\n",
    "text_p2 = \"\"\n",
    "no_source = 0\n",
    "for key in data.keys():\n",
    "    temp_source = \"\"\n",
    "    temp_reply = []\n",
    "    tweet_data_list = data[key][\"data\"]\n",
    "    source_tweet = tweet_data_list[0]\n",
    "    source_num = 0\n",
    "    for tweet in tweet_data_list:\n",
    "        if  'in_reply_to_user_id' not  in tweet.keys():\n",
    "            source_num = source_num + 1\n",
    "    if  source_num == 0:\n",
    "        text_p1 = textProcess(tweet['text']).lower()\n",
    "        temp_source = temp_source + text_p1\n",
    "    elif  source_num > 1:\n",
    "        for tweet in tweet_data_list:\n",
    "            if  'in_reply_to_user_id' not  in tweet.keys():\n",
    "                text_p1 = textProcess(tweet['text']).lower()\n",
    "                temp_source = temp_source + text_p1\n",
    "            else:\n",
    "                text_p2 = textProcess(tweet['text']).lower()\n",
    "                res_sim = difflib.SequenceMatcher(None, text_p1, text_p2).quick_ratio()\n",
    "                if res_sim >= 0.93:\n",
    "                    pass\n",
    "                else:\n",
    "                    temp.append(text_p2)\n",
    "    else:\n",
    "        for tweet in tweet_data_list:\n",
    "            if  'in_reply_to_user_id' not  in tweet.keys():\n",
    "                text_p1 = textProcess(tweet['text']).lower()\n",
    "                temp_source = temp_source + text_p1\n",
    "        else:\n",
    "            text_p2 = textProcess(tweet['text']).lower()\n",
    "            res_sim = difflib.SequenceMatcher(None, text_p1, text_p2).quick_ratio()\n",
    "            if res_sim >= 0.93:\n",
    "                pass\n",
    "            else:\n",
    "                temp.append(text_p2)\n",
    "    no_source = no_source +1    \n",
    "    tweeter_source.append(temp_source)                          \n",
    "    tweeter_replay.append(temp_reply)    \n",
    "        "
   ]
  },
  {
   "cell_type": "code",
   "execution_count": 101,
   "id": "bd0a8359-bcfa-4f7d-a1a3-5edb2d0ea64b",
   "metadata": {},
   "outputs": [
    {
     "data": {
      "text/plain": [
       "1563"
      ]
     },
     "execution_count": 101,
     "metadata": {},
     "output_type": "execute_result"
    }
   ],
   "source": [
    "no_source"
   ]
  },
  {
   "cell_type": "code",
   "execution_count": 96,
   "id": "fe5645e8-b525-417b-95f2-bfd78c96d034",
   "metadata": {},
   "outputs": [
    {
     "data": {
      "text/plain": [
       "1461"
      ]
     },
     "execution_count": 96,
     "metadata": {},
     "output_type": "execute_result"
    }
   ],
   "source": [
    "len(tweeter_source)\n",
    "len(tweeter_replay)"
   ]
  },
  {
   "cell_type": "code",
   "execution_count": 97,
   "id": "5b8d2fb6-9b4b-4504-84df-868ab0231db0",
   "metadata": {},
   "outputs": [
    {
     "data": {
      "text/plain": [
       "1461"
      ]
     },
     "execution_count": 97,
     "metadata": {},
     "output_type": "execute_result"
    }
   ],
   "source": [
    "len(tweeter_source)"
   ]
  },
  {
   "cell_type": "code",
   "execution_count": 57,
   "id": "cd12095b-60a6-48ec-a89b-a2f8da8f5fed",
   "metadata": {},
   "outputs": [
    {
     "data": {
      "text/plain": [
       "297"
      ]
     },
     "execution_count": 57,
     "metadata": {},
     "output_type": "execute_result"
    }
   ],
   "source": [
    "no_source"
   ]
  },
  {
   "cell_type": "code",
   "execution_count": 32,
   "id": "a7bf65f6-1fd8-4df4-afe8-20742485ac02",
   "metadata": {},
   "outputs": [
    {
     "data": {
      "text/plain": [
       "[]"
      ]
     },
     "execution_count": 32,
     "metadata": {},
     "output_type": "execute_result"
    }
   ],
   "source": [
    "tweeter_source"
   ]
  },
  {
   "cell_type": "code",
   "execution_count": 71,
   "id": "d13181fa-a0e6-4bad-a277-92db595ca73d",
   "metadata": {},
   "outputs": [],
   "source": [
    "with open(\"../data/project-data/train.label.txt\") as f:\n",
    "    data_label = f.read()\n",
    "    "
   ]
  },
  {
   "cell_type": "code",
   "execution_count": 72,
   "id": "645c44eb-6b23-4267-a757-56856f373f39",
   "metadata": {},
   "outputs": [
    {
     "data": {
      "text/plain": [
       "17690"
      ]
     },
     "execution_count": 72,
     "metadata": {},
     "output_type": "execute_result"
    }
   ],
   "source": [
    "len(data_label)"
   ]
  },
  {
   "cell_type": "code",
   "execution_count": 81,
   "id": "59dd7047-1b79-47f7-83c9-441fc509ba27",
   "metadata": {},
   "outputs": [],
   "source": [
    "import pandas as pd\n",
    "data_label = pd.read_csv(\"../data/project-data/train.label.txt\", sep=\" \", header=None)"
   ]
  },
  {
   "cell_type": "code",
   "execution_count": 91,
   "id": "674ec092-8f78-40d0-97e6-349979f8e79f",
   "metadata": {},
   "outputs": [],
   "source": [
    "label_list = []\n",
    "for i in data.keys():\n",
    "    index = int(i)\n",
    "    #print(data_label.iloc[index])\n",
    "    result_str = str(list(data_label.iloc[index])[0])\n",
    "    #print(result_str)\n",
    "    if result_str == 'rumour':\n",
    "        label_list.append(0)\n",
    "    else:\n",
    "        label_list.append(1)\n",
    "    "
   ]
  },
  {
   "cell_type": "code",
   "execution_count": 93,
   "id": "868773e9-a837-459f-98ba-19acfb95a9e3",
   "metadata": {},
   "outputs": [
    {
     "data": {
      "text/plain": [
       "1563"
      ]
     },
     "execution_count": 93,
     "metadata": {},
     "output_type": "execute_result"
    }
   ],
   "source": [
    "len(label_list)"
   ]
  }
 ],
 "metadata": {
  "kernelspec": {
   "display_name": "Python 3 (ipykernel)",
   "language": "python",
   "name": "python3"
  },
  "language_info": {
   "codemirror_mode": {
    "name": "ipython",
    "version": 3
   },
   "file_extension": ".py",
   "mimetype": "text/x-python",
   "name": "python",
   "nbconvert_exporter": "python",
   "pygments_lexer": "ipython3",
   "version": "3.8.12"
  }
 },
 "nbformat": 4,
 "nbformat_minor": 5
}
