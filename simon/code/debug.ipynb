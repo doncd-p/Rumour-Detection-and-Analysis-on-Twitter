{
 "cells": [
  {
   "cell_type": "code",
   "execution_count": 1,
   "id": "c15bcb7a-2600-4096-8b5e-1b144a19bc62",
   "metadata": {},
   "outputs": [
    {
     "name": "stderr",
     "output_type": "stream",
     "text": [
      "C:\\Users\\19915\\ai\\anaconda3\\envs\\pytorch\\lib\\site-packages\\tqdm\\auto.py:22: TqdmWarning: IProgress not found. Please update jupyter and ipywidgets. See https://ipywidgets.readthedocs.io/en/stable/user_install.html\n",
      "  from .autonotebook import tqdm as notebook_tqdm\n",
      "WARNING:root:Limited tf.compat.v2.summary API due to missing TensorBoard installation.\n",
      "WARNING:root:Limited tf.compat.v2.summary API due to missing TensorBoard installation.\n",
      "WARNING:root:Limited tf.compat.v2.summary API due to missing TensorBoard installation.\n",
      "WARNING:root:Limited tf.summary API due to missing TensorBoard installation.\n"
     ]
    }
   ],
   "source": [
    "import argparse\n",
    "from LoadData_nlp import *\n",
    "from DataSet_nlp import *\n",
    "from torch.utils.data import DataLoader\n",
    "from TwitterModel_nlp import *"
   ]
  },
  {
   "cell_type": "code",
   "execution_count": 2,
   "id": "e9830ac9-9605-4930-b090-603d3fc5f712",
   "metadata": {},
   "outputs": [],
   "source": [
    "train_file = \"../data/train_data.json\"\n",
    "train_label_file = \"../data/project-data/train.label.txt\"\n",
    "dev_file = \"../data/clean_dev_data.json\"\n",
    "dev_label_file =  \"../data/project-data/dev.label.txt\"\n",
    "load_twitter_train_data = LoadDataAndProcessing(train_file,train_label_file)\n",
    "load_twitter_dev_data = LoadDataAndProcessing(dev_file,dev_label_file)"
   ]
  },
  {
   "cell_type": "code",
   "execution_count": 3,
   "id": "ad99a92d-cbe5-489d-a980-7569c8966735",
   "metadata": {},
   "outputs": [],
   "source": [
    "train_input = load_twitter_train_data.loadData()\n",
    "dev_input = load_twitter_dev_data.loadData()"
   ]
  },
  {
   "cell_type": "code",
   "execution_count": 4,
   "id": "fbc51916-c961-4ea8-b8aa-e1727d23429e",
   "metadata": {},
   "outputs": [],
   "source": [
    "trainset = TaskOneDataset(train_input)\n",
    "devset = TaskOneDataset(dev_input)"
   ]
  },
  {
   "cell_type": "code",
   "execution_count": 5,
   "id": "5ec2e200-9108-4d2f-a972-8ac26ddae7a5",
   "metadata": {},
   "outputs": [],
   "source": [
    "trainloader = DataLoader(trainset, batch_size=2, collate_fn=trainset.create_mini_batch)\n",
    "devloader = DataLoader(devset, batch_size=2, collate_fn=devset.create_mini_batch)"
   ]
  }
 ],
 "metadata": {
  "kernelspec": {
   "display_name": "Python 3 (ipykernel)",
   "language": "python",
   "name": "python3"
  },
  "language_info": {
   "codemirror_mode": {
    "name": "ipython",
    "version": 3
   },
   "file_extension": ".py",
   "mimetype": "text/x-python",
   "name": "python",
   "nbconvert_exporter": "python",
   "pygments_lexer": "ipython3",
   "version": "3.8.12"
  }
 },
 "nbformat": 4,
 "nbformat_minor": 5
}
